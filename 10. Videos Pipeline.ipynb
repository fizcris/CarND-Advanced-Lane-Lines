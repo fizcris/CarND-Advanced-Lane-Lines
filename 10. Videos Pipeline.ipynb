{
 "cells": [
  {
   "cell_type": "markdown",
   "id": "b13d48ba",
   "metadata": {},
   "source": [
    "# Videos Pipeline"
   ]
  },
  {
   "cell_type": "code",
   "execution_count": 16,
   "id": "853e34a9",
   "metadata": {},
   "outputs": [
    {
     "name": "stderr",
     "output_type": "stream",
     "text": [
      "[NbConvertApp] Converting notebook 0. Functions_Clases Pipeline.ipynb to script\n",
      "[NbConvertApp] Writing 20623 bytes to 0. Functions_Clases Pipeline.py\n"
     ]
    }
   ],
   "source": [
    "# Import everything needed to edit/save/watch video clips\n",
    "from moviepy.editor import VideoFileClip\n",
    "from IPython.display import HTML\n",
    "\n",
    "# load helper functions\n",
    "%run -i \"0. Functions_Clases Pipeline.py\"\n",
    "%run -i \"Line.py\"\n",
    "\n",
    "# Load Camera calibration params\n",
    "[ret, mtx, dist, rvecs, tvecs] = pickle.load(open( \"pickle_data/camera_calibration_params.p\", \"rb\" ) )\n"
   ]
  },
  {
   "cell_type": "code",
   "execution_count": 17,
   "id": "32dad634",
   "metadata": {},
   "outputs": [],
   "source": [
    "def process_frame(img):\n",
    "    \n",
    "    ###### Resize image\n",
    "    img = resizeImage(img)\n",
    "\n",
    "    ###### Undistort image\n",
    "    undistorted = undistort_image(img, mtx, dist)\n",
    "  \n",
    "    ###### Color Enhancement\n",
    "\n",
    "    imageCE = colorEnhancement(img)\n",
    "   \n",
    "    ###### GrayScale\n",
    "    imageGray = grayscale(imageCE)\n",
    "\n",
    "\n",
    "    ###### Gauss Smoothing\n",
    "    imageGauss = gaussian_blur(imageGray,kernel_size=5) \n",
    "    \n",
    "    #### Edge detection\n",
    "    sbinary = sobel_thresh(imageGauss, sobel_kernel=5, x_thresh=[80,100], y_thresh=[40,100], \n",
    "                           mag_thresh=[50,255], dir_thresh=[100,200])\n",
    "\n",
    "    #### ROI\n",
    "    ysize =sbinary.shape[0]\n",
    "    xsize =sbinary.shape[1]\n",
    "\n",
    "    ROI_upperWidth = 280 #Width of the upper horizontal straight in px\n",
    "    ROI_upperHeight = 260 #Height of the upper horizontal straight from the bottom of the image in px\n",
    "    ROI_lowerWidth = 950 #Width of the lower horizontal straight in px\n",
    "    ROI_lowerHeight = 50  #Height of the lower horizontal straight  from the bottom of the image in px      \n",
    "\n",
    "    limitLL = ((xsize/2)-(ROI_lowerWidth/2),ysize-ROI_lowerHeight);\n",
    "    limitLR = (xsize - ((xsize/2)-(ROI_lowerWidth/2)),ysize-ROI_lowerHeight);\n",
    "    limitUL = ((xsize/2)-(ROI_upperWidth/2), ysize-ROI_upperHeight);\n",
    "    limitUR = ((xsize/2)+(ROI_upperWidth/2), ysize-ROI_upperHeight);\n",
    "    vertices = np.array([[limitLL,limitUL,limitUR , limitLR]], dtype=np.int32)\n",
    "    \n",
    "    imageROI = region_of_interest(sbinary,vertices,)\n",
    "\n",
    "    \n",
    "    #### Perspective transform\n",
    "    warped_img,M, Minv = warp_image(imageROI, hwidth = 250 ,offset = 0, height = -800, )\n",
    "    \n",
    "    #### Find lines\n",
    "    \n",
    "    # Find x line poitns based on histogram values\n",
    "    leftx_base, rightx_base  = find_lane_x_points(warped_img)\n",
    "    \n",
    "    # Update x base points\n",
    "    lineLeft.updateXbase(leftx_base)\n",
    "    lineRight.updateXbase(rightx_base)\n",
    "    \n",
    "    \n",
    "    ## Find pixels\n",
    "    ### Left line\n",
    "    if lineLeft.missdetections > 0 or np.any((lineLeft.recent_poly_fits == 0)):\n",
    "        # Find lane pixels\n",
    "        leftx, lefty, rightx, righty, out_img = find_lane_pixels(warped_img, lineLeft.bestx, \n",
    "                                                                 lineRight.bestx, showRectangles = False)\n",
    "        \n",
    "        # Update lane pixels\n",
    "        lineLeft.updatePixels(leftx, lefty)   \n",
    "\n",
    "        # Search blindly image\n",
    "        coeffs_fit_L, lineDetectedL, left_fitx, ploty, img_line  = fit_polynomial(out_img, lineLeft.allx,\n",
    "                                                                                  lineLeft.ally, drawPoly = False)\n",
    "    ## Speed up pixel search with coef with area search    \n",
    "    else:\n",
    "        # Search based on coefs\n",
    "        leftx, lefty, coeffs_fit_L, lineDetectedL, left_fitx, out_img = search_around_poly(warped_img, lineLeft)\n",
    "        lineLeft.updatePixels(leftx, lefty)  \n",
    "\n",
    "    #Right line\n",
    "    if lineRight.missdetections > 0 or np.any((lineRight.recent_poly_fits == 0)):\n",
    "        ## Update lane pixels\n",
    "        if not(\"rightx\" in locals()) or not(\"righty\" in locals()) :\n",
    "            leftx, lefty, rightx, righty, out_img = find_lane_pixels(warped_img, lineLeft.bestx, \n",
    "                                                                     lineRight.bestx, showRectangles = False)\n",
    "        # Update lane pixels\n",
    "        lineRight.updatePixels(rightx, righty)\n",
    "        \n",
    "        # Search blindly image\n",
    "        coeffs_fit_R, lineDetectedR, right_fitx, ploty, img_line  = fit_polynomial(out_img, lineRight.allx,\n",
    "                                                                                   lineRight.ally, drawPoly = False)\n",
    "    else:\n",
    "        # Search based on coefs\n",
    "        rightx, righty, coeffs_fit_R, lineDetectedR, right_fitx, out_img = search_around_poly(out_img, lineRight)   \n",
    "        lineRight.updatePixels(rightx, righty)\n",
    "        \n",
    "           \n",
    "    #Update line class instances\n",
    "    lineLeft.updateCoeffsLine(lineDetectedL, coeffs_fit_L, left_fitx, \n",
    "                              lineLeft.poly_ploty,coefLimits=[0.1,1,200],movingAvg=5)\n",
    "    lineRight.updateCoeffsLine(lineDetectedR, coeffs_fit_R,right_fitx,\n",
    "                               lineRight.poly_ploty,coefLimits=[0.1,1,200],movingAvg=5)\n",
    "        \n",
    "\n",
    "        \n",
    "    #Sanity check line width\n",
    "    if lineLeft.detected and lineRight.detected:\n",
    "        if left_fitx.any and right_fitx.any and len(lineLeft.recent_poly_fits) >1 and len(lineRight.recent_poly_fits) >1:  # If vectors are empty do nothing\n",
    "            # If separation ok, update stage vectors\n",
    "            if rightSeparation(left_fitx, right_fitx, limitDist = 100):\n",
    "                lineLeft.poly_best_fit_staged = lineLeft.poly_best_fit\n",
    "                lineRight.poly_best_fit_staged = lineRight.poly_best_fit\n",
    "                #lineLeft.poly_plotx_staged = left_fitx \n",
    "                #lineRight.poly_plotx_staged = right_fitx\n",
    "                pass\n",
    "            else: # If separation not ok, use stage vectors\n",
    "                print(\"Wrong separation between lines\")\n",
    "                ### Left line\n",
    "                #Discard last fit\n",
    "                lineLeft.recent_poly_fits = lineLeft.recent_poly_fits[:-1]\n",
    "                \n",
    "                # Reuse best fit if exists\n",
    "                \n",
    "             \n",
    "                if  len(lineLeft.poly_best_fit_staged) > 2 :\n",
    "                    lineLeft.poly_best_fit = lineLeft.poly_best_fit_staged\n",
    "                    #print(\"1\")\n",
    "                    #print(lineLeft.poly_best_fit_staged)\n",
    "                else:         \n",
    "                    lineLeft.poly_best_fit = lineLeft.recent_poly_fits[-1]\n",
    "                    #print(\"2\")\n",
    "                    #print(lineLeft.poly_best_fit)\n",
    "                    \n",
    "                ### Right line\n",
    "                #Discard last fit\n",
    "                lineRight.recent_poly_fits = lineRight.recent_poly_fits[:-1]\n",
    "                \n",
    "                # Reuse best fit if exists\n",
    "                if  len(lineRight.poly_best_fit_staged) > 2 :\n",
    "                    lineRight.poly_best_fit = lineRight.poly_best_fit_staged\n",
    "                else:\n",
    "                    lineRight.poly_best_fit = lineRight.recent_poly_fits[-1]\n",
    "                    \n",
    "                \n",
    "                # Compute new plot\n",
    "                lineLeft.poly_plotx = np.polyval(lineLeft.poly_best_fit, lineLeft.poly_ploty)\n",
    "                lineRight.poly_plotx = np.polyval(lineRight.poly_best_fit, lineRight.poly_ploty)\n",
    "                # Increase missdetections\n",
    "                lineLeft.missdetections += 1\n",
    "                lineRight.missdetections += 1\n",
    "            \n",
    "    ##Do sanity checks on lines\n",
    "    lineLeft.sanityCheck(limit=10)\n",
    "    lineRight.sanityCheck(limit=10)\n",
    "    \n",
    "    ### Unwarp images\n",
    "    \n",
    "    #color_warp = np.zeros_like(out_img).astype(np.uint8)\n",
    "    color_warp = out_img\n",
    "    #color_warp = np.dstack((warp_zero, warp_zero, warp_zero))\n",
    "    \n",
    "    pts_left = np.array([np.transpose(np.vstack([lineLeft.poly_plotx, lineLeft.poly_ploty]))])\n",
    "    pts_right = np.array([np.flipud(np.transpose(np.vstack([lineRight.poly_plotx, lineRight.poly_ploty])))])\n",
    "    pts = np.hstack((pts_left, pts_right))\n",
    "    \n",
    "     \n",
    "    #Draw the lane onto the warped blank image\n",
    "    cv2.fillPoly(color_warp, np.int_([pts]), (0,255, 0))\n",
    "    \n",
    "    \n",
    "    newwarp = cv2.warpPerspective(color_warp, M, (img.shape[1], img.shape[0])) \n",
    "    result = cv2.addWeighted(img, 1, newwarp, 0.5, 0)\n",
    "    \n",
    "    \n",
    "    ### Anotate Radius of curvature   \n",
    "    \n",
    "    diff, mean, text = checkRadius(lineLeft, lineRight,limitStraight=10000, movingAvg = 1 )\n",
    "\n",
    "    result_annotated = cv2.putText(result, text, org= (50, 50), fontFace=cv2.FONT_HERSHEY_SIMPLEX, \n",
    "                   fontScale=2, color= (255, 255, 255), thickness=2, lineType=cv2.LINE_AA)\n",
    "    \n",
    "\n",
    "    ### Anotate Vehicle position\n",
    "    dev, text = calculateDeviation(result, lineLeft,lineRight,)\n",
    "\n",
    "    result_annotated = cv2.putText(result, text, org= (50, 100), fontFace=cv2.FONT_HERSHEY_SIMPLEX, \n",
    "                       fontScale=2, color= (255, 255, 255), thickness=2, lineType=cv2.LINE_AA)\n",
    "    \n",
    "    # Anotate missdetections\n",
    "    #result_annotated = cv2.putText(result, str(lineLeft.missdetections),  org= (50, 200), fontFace=cv2.FONT_HERSHEY_SIMPLEX, \n",
    "     #                fontScale=1, color= (255, 255, 255), thickness=2, lineType=cv2.LINE_AA)\n",
    "    \n",
    "    #result_annotated = cv2.putText(result, str(lineRight.missdetections),  org= (50, 300), fontFace=cv2.FONT_HERSHEY_SIMPLEX, \n",
    "#                       fontScale=1, color= (255, 255, 255), thickness=2, lineType=cv2.LINE_AA)\n",
    "      \n",
    " \n",
    "    #out = np.dstack((out_img*255, out_img*255, out_img*255))\n",
    "    \n",
    "    # Show ROI\n",
    "    #cv2.polylines(result,[vertices],True,(0,0,255),thickness=5)\n",
    "    \n",
    "    return result_annotated"
   ]
  },
  {
   "cell_type": "markdown",
   "id": "8d7676ab",
   "metadata": {},
   "source": [
    "## Video 1"
   ]
  },
  {
   "cell_type": "code",
   "execution_count": 18,
   "id": "e5462762",
   "metadata": {
    "scrolled": true
   },
   "outputs": [
    {
     "name": "stderr",
     "output_type": "stream",
     "text": [
      "\r",
      "t:   0%|                                                            | 0/1260 [00:00<?, ?it/s, now=None]"
     ]
    },
    {
     "name": "stdout",
     "output_type": "stream",
     "text": [
      "Moviepy - Building video output_videos/project_video.mp4.\n",
      "Moviepy - Writing video output_videos/project_video.mp4\n",
      "\n"
     ]
    },
    {
     "name": "stderr",
     "output_type": "stream",
     "text": [
      "t:  83%|████████████████████████████████████████▌        | 1042/1260 [04:19<00:52,  4.13it/s, now=None]"
     ]
    },
    {
     "name": "stdout",
     "output_type": "stream",
     "text": [
      "missdetection\n",
      "[ 2.00591734e-03 -1.83909703e+00  4.24037828e+02]\n"
     ]
    },
    {
     "name": "stderr",
     "output_type": "stream",
     "text": [
      "t:  83%|████████████████████████████████████████▊        | 1050/1260 [04:21<00:49,  4.24it/s, now=None]"
     ]
    },
    {
     "name": "stdout",
     "output_type": "stream",
     "text": [
      "Discarded X point\n"
     ]
    },
    {
     "name": "stderr",
     "output_type": "stream",
     "text": [
      "\r",
      "t:  83%|████████████████████████████████████████▊        | 1051/1260 [04:21<00:50,  4.16it/s, now=None]"
     ]
    },
    {
     "name": "stdout",
     "output_type": "stream",
     "text": [
      "Discarded X point\n"
     ]
    },
    {
     "name": "stderr",
     "output_type": "stream",
     "text": [
      "                                                                                                       \r"
     ]
    },
    {
     "name": "stdout",
     "output_type": "stream",
     "text": [
      "Moviepy - Done !\n",
      "Moviepy - video ready output_videos/project_video.mp4\n",
      "Wall time: 5min 15s\n"
     ]
    }
   ],
   "source": [
    "# Instanciate cLine classes\n",
    "lineLeft = Line()\n",
    "lineRight = Line()\n",
    "\n",
    "\n",
    "white_output = 'output_videos/project_video.mp4'\n",
    "clip1 = VideoFileClip(\"test_videos/project_video.mp4\")\n",
    "#clip1 = VideoFileClip(\"test_videos/project_video.mp4\").subclip(30,40)\n",
    "white_clip = clip1.fl_image(process_frame) #NOTE: this function expects color images!!\n",
    "%time white_clip.write_videofile(white_output, audio=False)"
   ]
  },
  {
   "cell_type": "code",
   "execution_count": 19,
   "id": "3384229a",
   "metadata": {
    "scrolled": false
   },
   "outputs": [
    {
     "data": {
      "text/html": [
       "\n",
       "<video width=\"960\" height=\"540\" controls>\n",
       "  <source src=\"output_videos/project_video.mp4\">\n",
       "</video>\n"
      ],
      "text/plain": [
       "<IPython.core.display.HTML object>"
      ]
     },
     "execution_count": 19,
     "metadata": {},
     "output_type": "execute_result"
    }
   ],
   "source": [
    "HTML(\"\"\"\n",
    "<video width=\"960\" height=\"540\" controls>\n",
    "  <source src=\"{0}\">\n",
    "</video>\n",
    "\"\"\".format(white_output))"
   ]
  },
  {
   "cell_type": "markdown",
   "id": "a2e372f8",
   "metadata": {},
   "source": [
    "## Video 2"
   ]
  },
  {
   "cell_type": "code",
   "execution_count": 5,
   "id": "c275064e",
   "metadata": {
    "scrolled": true
   },
   "outputs": [
    {
     "name": "stderr",
     "output_type": "stream",
     "text": [
      "\r",
      "t:   0%|                                                             | 0/485 [00:00<?, ?it/s, now=None]"
     ]
    },
    {
     "name": "stdout",
     "output_type": "stream",
     "text": [
      "Moviepy - Building video output_videos/challenge_video.mp4.\n",
      "Moviepy - Writing video output_videos/challenge_video.mp4\n",
      "\n",
      "missdetection\n",
      "[-1.92871935e-03  2.40260878e+00 -7.44370229e+02]\n"
     ]
    },
    {
     "name": "stderr",
     "output_type": "stream",
     "text": [
      "t:   1%|▎                                                    | 3/485 [00:02<05:19,  1.51it/s, now=None]"
     ]
    },
    {
     "name": "stdout",
     "output_type": "stream",
     "text": [
      "Wrong separation between lines\n"
     ]
    },
    {
     "name": "stderr",
     "output_type": "stream",
     "text": [
      "\r",
      "t:   1%|▍                                                    | 4/485 [00:02<03:59,  2.01it/s, now=None]"
     ]
    },
    {
     "name": "stdout",
     "output_type": "stream",
     "text": [
      "Wrong separation between lines\n"
     ]
    },
    {
     "name": "stderr",
     "output_type": "stream",
     "text": [
      "\r",
      "t:   1%|▌                                                    | 5/485 [00:02<03:09,  2.53it/s, now=None]"
     ]
    },
    {
     "name": "stdout",
     "output_type": "stream",
     "text": [
      "missdetection\n",
      "[ 3.36956619e-04 -5.43547398e-01  2.12794503e+02]\n"
     ]
    },
    {
     "name": "stderr",
     "output_type": "stream",
     "text": [
      "\r",
      "t:   1%|▋                                                    | 6/485 [00:02<02:45,  2.89it/s, now=None]"
     ]
    },
    {
     "name": "stdout",
     "output_type": "stream",
     "text": [
      "missdetection\n",
      "[ 3.35703966e-04 -5.44574869e-01  2.13971442e+02]\n"
     ]
    },
    {
     "name": "stderr",
     "output_type": "stream",
     "text": [
      "\r",
      "t:   1%|▊                                                    | 7/485 [00:03<02:35,  3.07it/s, now=None]"
     ]
    },
    {
     "name": "stdout",
     "output_type": "stream",
     "text": [
      "missdetection\n",
      "[ 3.39366172e-04 -5.46235053e-01  2.14912828e+02]\n"
     ]
    },
    {
     "name": "stderr",
     "output_type": "stream",
     "text": [
      "\r",
      "t:   2%|▊                                                    | 8/485 [00:03<02:22,  3.34it/s, now=None]"
     ]
    },
    {
     "name": "stdout",
     "output_type": "stream",
     "text": [
      "Discarded X point\n",
      "missdetection\n",
      "[ 3.41417648e-04 -5.49005266e-01  2.15017787e+02]\n"
     ]
    },
    {
     "name": "stderr",
     "output_type": "stream",
     "text": [
      "\r",
      "t:   2%|▉                                                    | 9/485 [00:03<02:14,  3.53it/s, now=None]"
     ]
    },
    {
     "name": "stdout",
     "output_type": "stream",
     "text": [
      "Discarded X point\n",
      "missdetection\n",
      "[ 3.41612439e-04 -5.49268195e-01  2.15016381e+02]\n"
     ]
    },
    {
     "name": "stderr",
     "output_type": "stream",
     "text": [
      "\r",
      "t:   2%|█                                                   | 10/485 [00:03<02:10,  3.65it/s, now=None]"
     ]
    },
    {
     "name": "stdout",
     "output_type": "stream",
     "text": [
      "Discarded X point\n",
      "missdetection\n",
      "[-1.38881896e-03  1.80685939e+00 -5.85840327e+02]\n"
     ]
    },
    {
     "name": "stderr",
     "output_type": "stream",
     "text": [
      "\r",
      "t:   2%|█▏                                                  | 11/485 [00:04<02:05,  3.78it/s, now=None]"
     ]
    },
    {
     "name": "stdout",
     "output_type": "stream",
     "text": [
      "Discarded X point\n",
      "missdetection\n",
      "[-1.44177491e-03  1.87528749e+00 -6.07888735e+02]\n"
     ]
    },
    {
     "name": "stderr",
     "output_type": "stream",
     "text": [
      "\r",
      "t:   2%|█▎                                                  | 12/485 [00:04<02:01,  3.89it/s, now=None]"
     ]
    },
    {
     "name": "stdout",
     "output_type": "stream",
     "text": [
      "missdetection\n",
      "[-1.45670422e-03  1.89594699e+00 -6.12720444e+02]\n"
     ]
    },
    {
     "name": "stderr",
     "output_type": "stream",
     "text": [
      "\r",
      "t:   3%|█▍                                                  | 13/485 [00:04<01:58,  3.97it/s, now=None]"
     ]
    },
    {
     "name": "stdout",
     "output_type": "stream",
     "text": [
      "missdetection\n",
      "[-1.49022017e-03  1.92341821e+00 -6.16135656e+02]\n"
     ]
    },
    {
     "name": "stderr",
     "output_type": "stream",
     "text": [
      "\r",
      "t:   3%|█▌                                                  | 14/485 [00:04<01:59,  3.94it/s, now=None]"
     ]
    },
    {
     "name": "stdout",
     "output_type": "stream",
     "text": [
      "missdetection\n",
      "[-1.51621822e-03  1.94799456e+00 -6.20379750e+02]\n",
      "Reset by SanityCheck\n"
     ]
    },
    {
     "name": "stderr",
     "output_type": "stream",
     "text": [
      "t:   3%|█▋                                                  | 16/485 [00:05<01:57,  4.00it/s, now=None]"
     ]
    },
    {
     "name": "stdout",
     "output_type": "stream",
     "text": [
      "Wrong separation between lines\n",
      "missdetection\n",
      "[ 3.07266993e-03 -3.23464799e+00  8.45125229e+02]\n"
     ]
    },
    {
     "name": "stderr",
     "output_type": "stream",
     "text": [
      "t:   4%|█▉                                                  | 18/485 [00:05<01:50,  4.24it/s, now=None]"
     ]
    },
    {
     "name": "stdout",
     "output_type": "stream",
     "text": [
      "missdetection\n",
      "[ 3.09447989e-03 -3.25775187e+00  8.50590151e+02]\n"
     ]
    },
    {
     "name": "stderr",
     "output_type": "stream",
     "text": [
      "\r",
      "t:   4%|██                                                  | 19/485 [00:06<01:50,  4.23it/s, now=None]"
     ]
    },
    {
     "name": "stdout",
     "output_type": "stream",
     "text": [
      "missdetection\n",
      "[ 3.14184306e-03 -3.31693462e+00  8.68814607e+02]\n"
     ]
    },
    {
     "name": "stderr",
     "output_type": "stream",
     "text": [
      "\r",
      "t:   4%|██▏                                                 | 20/485 [00:06<01:49,  4.26it/s, now=None]"
     ]
    },
    {
     "name": "stdout",
     "output_type": "stream",
     "text": [
      "missdetection\n",
      "[ 3.17636357e-03 -3.35402980e+00  8.77794758e+02]\n"
     ]
    },
    {
     "name": "stderr",
     "output_type": "stream",
     "text": [
      "\r",
      "t:   4%|██▎                                                 | 21/485 [00:06<01:48,  4.29it/s, now=None]"
     ]
    },
    {
     "name": "stdout",
     "output_type": "stream",
     "text": [
      "missdetection\n",
      "[ 3.23044554e-03 -3.42124733e+00  8.98279038e+02]\n"
     ]
    },
    {
     "name": "stderr",
     "output_type": "stream",
     "text": [
      "\r",
      "t:   5%|██▎                                                 | 22/485 [00:06<01:52,  4.12it/s, now=None]"
     ]
    },
    {
     "name": "stdout",
     "output_type": "stream",
     "text": [
      "missdetection\n",
      "[ 2.96630297e-03 -3.14588518e+00  8.35906814e+02]\n"
     ]
    },
    {
     "name": "stderr",
     "output_type": "stream",
     "text": [
      "\r",
      "t:   5%|██▍                                                 | 23/485 [00:06<01:51,  4.13it/s, now=None]"
     ]
    },
    {
     "name": "stdout",
     "output_type": "stream",
     "text": [
      "missdetection\n",
      "[ 3.01572410e-03 -3.20766662e+00  8.55171023e+02]\n"
     ]
    },
    {
     "name": "stderr",
     "output_type": "stream",
     "text": [
      "\r",
      "t:   5%|██▌                                                 | 24/485 [00:07<01:51,  4.12it/s, now=None]"
     ]
    },
    {
     "name": "stdout",
     "output_type": "stream",
     "text": [
      "missdetection\n",
      "[ 2.94135105e-03 -3.12382500e+00  8.33156962e+02]\n"
     ]
    },
    {
     "name": "stderr",
     "output_type": "stream",
     "text": [
      "\r",
      "t:   5%|██▋                                                 | 25/485 [00:07<01:53,  4.05it/s, now=None]"
     ]
    },
    {
     "name": "stdout",
     "output_type": "stream",
     "text": [
      "missdetection\n",
      "[ 2.92732947e-03 -3.11704780e+00  8.35620203e+02]\n"
     ]
    },
    {
     "name": "stderr",
     "output_type": "stream",
     "text": [
      "\r",
      "t:   5%|██▊                                                 | 26/485 [00:07<01:53,  4.06it/s, now=None]"
     ]
    },
    {
     "name": "stdout",
     "output_type": "stream",
     "text": [
      "missdetection\n",
      "[ 2.92788751e-03 -3.12217394e+00  8.39270057e+02]\n",
      "Reset by SanityCheck\n"
     ]
    },
    {
     "name": "stderr",
     "output_type": "stream",
     "text": [
      "t:   6%|███                                                 | 28/485 [00:08<01:50,  4.15it/s, now=None]"
     ]
    },
    {
     "name": "stdout",
     "output_type": "stream",
     "text": [
      "Wrong separation between lines\n"
     ]
    },
    {
     "name": "stderr",
     "output_type": "stream",
     "text": [
      "\r",
      "t:   6%|███                                                 | 29/485 [00:08<01:45,  4.31it/s, now=None]"
     ]
    },
    {
     "name": "stdout",
     "output_type": "stream",
     "text": [
      "Wrong separation between lines\n"
     ]
    },
    {
     "name": "stderr",
     "output_type": "stream",
     "text": [
      "\r",
      "t:   6%|███▏                                                | 30/485 [00:08<01:44,  4.36it/s, now=None]"
     ]
    },
    {
     "name": "stdout",
     "output_type": "stream",
     "text": [
      "Wrong separation between lines\n"
     ]
    },
    {
     "name": "stderr",
     "output_type": "stream",
     "text": [
      "\r",
      "t:   6%|███▎                                                | 31/485 [00:08<01:51,  4.08it/s, now=None]"
     ]
    },
    {
     "name": "stdout",
     "output_type": "stream",
     "text": [
      "Wrong separation between lines\n"
     ]
    },
    {
     "name": "stderr",
     "output_type": "stream",
     "text": [
      "\r",
      "t:   7%|███▍                                                | 32/485 [00:09<01:53,  4.00it/s, now=None]"
     ]
    },
    {
     "name": "stdout",
     "output_type": "stream",
     "text": [
      "Wrong separation between lines\n"
     ]
    },
    {
     "name": "stderr",
     "output_type": "stream",
     "text": [
      "\r",
      "t:   7%|███▌                                                | 33/485 [00:09<01:51,  4.07it/s, now=None]"
     ]
    },
    {
     "name": "stdout",
     "output_type": "stream",
     "text": [
      "missdetection\n",
      "[ 8.77083441e-04 -8.62009974e-01  2.08186653e+02]\n"
     ]
    },
    {
     "name": "stderr",
     "output_type": "stream",
     "text": [
      "\r",
      "t:   7%|███▋                                                | 34/485 [00:09<01:52,  4.01it/s, now=None]"
     ]
    },
    {
     "name": "stdout",
     "output_type": "stream",
     "text": [
      "Wrong separation between lines\n"
     ]
    },
    {
     "name": "stderr",
     "output_type": "stream",
     "text": [
      "\r",
      "t:   7%|███▊                                                | 35/485 [00:09<01:51,  4.03it/s, now=None]"
     ]
    },
    {
     "name": "stdout",
     "output_type": "stream",
     "text": [
      "Wrong separation between lines\n"
     ]
    },
    {
     "name": "stderr",
     "output_type": "stream",
     "text": [
      "\r",
      "t:   7%|███▊                                                | 36/485 [00:10<01:47,  4.18it/s, now=None]"
     ]
    },
    {
     "name": "stdout",
     "output_type": "stream",
     "text": [
      "Wrong separation between lines\n"
     ]
    },
    {
     "name": "stderr",
     "output_type": "stream",
     "text": [
      "\r",
      "t:   8%|███▉                                                | 37/485 [00:10<01:47,  4.17it/s, now=None]"
     ]
    },
    {
     "name": "stdout",
     "output_type": "stream",
     "text": [
      "Wrong separation between lines\n"
     ]
    },
    {
     "name": "stderr",
     "output_type": "stream",
     "text": [
      "\r",
      "t:   8%|████                                                | 38/485 [00:10<01:43,  4.31it/s, now=None]"
     ]
    },
    {
     "name": "stdout",
     "output_type": "stream",
     "text": [
      "Wrong separation between lines\n"
     ]
    },
    {
     "name": "stderr",
     "output_type": "stream",
     "text": [
      "\r",
      "t:   8%|████▏                                               | 39/485 [00:10<01:44,  4.28it/s, now=None]"
     ]
    },
    {
     "name": "stdout",
     "output_type": "stream",
     "text": [
      "Wrong separation between lines\n"
     ]
    },
    {
     "name": "stderr",
     "output_type": "stream",
     "text": [
      "\r",
      "t:   8%|████▎                                               | 40/485 [00:11<01:40,  4.42it/s, now=None]"
     ]
    },
    {
     "name": "stdout",
     "output_type": "stream",
     "text": [
      "Wrong separation between lines\n"
     ]
    },
    {
     "name": "stderr",
     "output_type": "stream",
     "text": [
      "\r",
      "t:   8%|████▍                                               | 41/485 [00:11<01:37,  4.55it/s, now=None]"
     ]
    },
    {
     "name": "stdout",
     "output_type": "stream",
     "text": [
      "Wrong separation between lines\n"
     ]
    },
    {
     "name": "stderr",
     "output_type": "stream",
     "text": [
      "\r",
      "t:   9%|████▌                                               | 42/485 [00:11<01:35,  4.64it/s, now=None]"
     ]
    },
    {
     "name": "stdout",
     "output_type": "stream",
     "text": [
      "Wrong separation between lines\n",
      "Wrong separation between lines\n"
     ]
    },
    {
     "name": "stderr",
     "output_type": "stream",
     "text": [
      "t:   9%|████▋                                               | 44/485 [00:11<01:40,  4.39it/s, now=None]"
     ]
    },
    {
     "name": "stdout",
     "output_type": "stream",
     "text": [
      "Wrong separation between lines\n"
     ]
    },
    {
     "name": "stderr",
     "output_type": "stream",
     "text": [
      "\r",
      "t:   9%|████▊                                               | 45/485 [00:12<01:41,  4.34it/s, now=None]"
     ]
    },
    {
     "name": "stdout",
     "output_type": "stream",
     "text": [
      "Wrong separation between lines\n"
     ]
    },
    {
     "name": "stderr",
     "output_type": "stream",
     "text": [
      "\r",
      "t:   9%|████▉                                               | 46/485 [00:12<01:39,  4.41it/s, now=None]"
     ]
    },
    {
     "name": "stdout",
     "output_type": "stream",
     "text": [
      "Wrong separation between lines\n"
     ]
    },
    {
     "name": "stderr",
     "output_type": "stream",
     "text": [
      "\r",
      "t:  10%|█████                                               | 47/485 [00:12<01:38,  4.47it/s, now=None]"
     ]
    },
    {
     "name": "stdout",
     "output_type": "stream",
     "text": [
      "missdetection\n",
      "[ 7.63740869e-04 -7.66982317e-01  2.06222836e+02]\n"
     ]
    },
    {
     "name": "stderr",
     "output_type": "stream",
     "text": [
      "\r",
      "t:  10%|█████▏                                              | 48/485 [00:12<01:39,  4.38it/s, now=None]"
     ]
    },
    {
     "name": "stdout",
     "output_type": "stream",
     "text": [
      "Wrong separation between lines\n"
     ]
    },
    {
     "name": "stderr",
     "output_type": "stream",
     "text": [
      "t:  10%|█████▎                                              | 50/485 [00:13<01:40,  4.33it/s, now=None]"
     ]
    },
    {
     "name": "stdout",
     "output_type": "stream",
     "text": [
      "Wrong separation between lines\n"
     ]
    },
    {
     "name": "stderr",
     "output_type": "stream",
     "text": [
      "\r",
      "t:  11%|█████▍                                              | 51/485 [00:13<01:36,  4.50it/s, now=None]"
     ]
    },
    {
     "name": "stdout",
     "output_type": "stream",
     "text": [
      "Wrong separation between lines\n"
     ]
    },
    {
     "name": "stderr",
     "output_type": "stream",
     "text": [
      "\r",
      "t:  11%|█████▌                                              | 52/485 [00:13<01:38,  4.41it/s, now=None]"
     ]
    },
    {
     "name": "stdout",
     "output_type": "stream",
     "text": [
      "Wrong separation between lines\n"
     ]
    },
    {
     "name": "stderr",
     "output_type": "stream",
     "text": [
      "t:  11%|█████▉                                              | 55/485 [00:14<01:41,  4.25it/s, now=None]"
     ]
    },
    {
     "name": "stdout",
     "output_type": "stream",
     "text": [
      "Wrong separation between lines\n"
     ]
    },
    {
     "name": "stderr",
     "output_type": "stream",
     "text": [
      "\r",
      "t:  12%|██████                                              | 56/485 [00:14<01:43,  4.14it/s, now=None]"
     ]
    },
    {
     "name": "stdout",
     "output_type": "stream",
     "text": [
      "Wrong separation between lines\n"
     ]
    },
    {
     "name": "stderr",
     "output_type": "stream",
     "text": [
      "\r",
      "t:  12%|██████                                              | 57/485 [00:14<01:41,  4.22it/s, now=None]"
     ]
    },
    {
     "name": "stdout",
     "output_type": "stream",
     "text": [
      "missdetection\n",
      "[ 3.50799988e-04 -6.65378538e-01  2.72277886e+02]\n"
     ]
    },
    {
     "name": "stderr",
     "output_type": "stream",
     "text": [
      "\r",
      "t:  12%|██████▏                                             | 58/485 [00:15<01:44,  4.09it/s, now=None]"
     ]
    },
    {
     "name": "stdout",
     "output_type": "stream",
     "text": [
      "missdetection\n",
      "[ 3.89388462e-04 -7.11898688e-01  2.87538846e+02]\n"
     ]
    },
    {
     "name": "stderr",
     "output_type": "stream",
     "text": [
      "\r",
      "t:  12%|██████▎                                             | 59/485 [00:15<01:44,  4.09it/s, now=None]"
     ]
    },
    {
     "name": "stdout",
     "output_type": "stream",
     "text": [
      "missdetection\n",
      "[ 3.26681520e-04 -6.26254155e-01  2.57732949e+02]\n"
     ]
    },
    {
     "name": "stderr",
     "output_type": "stream",
     "text": [
      "\r",
      "t:  12%|██████▍                                             | 60/485 [00:15<01:45,  4.03it/s, now=None]"
     ]
    },
    {
     "name": "stdout",
     "output_type": "stream",
     "text": [
      "missdetection\n",
      "[ 4.57792936e-04 -7.87160943e-01  3.07071803e+02]\n"
     ]
    },
    {
     "name": "stderr",
     "output_type": "stream",
     "text": [
      "\r",
      "t:  13%|██████▌                                             | 61/485 [00:15<01:46,  3.97it/s, now=None]"
     ]
    },
    {
     "name": "stdout",
     "output_type": "stream",
     "text": [
      "missdetection\n",
      "[ 6.73136463e-04 -1.09550395e+00  4.17585385e+02]\n"
     ]
    },
    {
     "name": "stderr",
     "output_type": "stream",
     "text": [
      "t:  13%|██████▊                                             | 64/485 [00:16<01:37,  4.34it/s, now=None]"
     ]
    },
    {
     "name": "stdout",
     "output_type": "stream",
     "text": [
      "Wrong separation between lines\n"
     ]
    },
    {
     "name": "stderr",
     "output_type": "stream",
     "text": [
      "t:  14%|███████                                             | 66/485 [00:17<01:36,  4.34it/s, now=None]"
     ]
    },
    {
     "name": "stdout",
     "output_type": "stream",
     "text": [
      "Wrong separation between lines\n"
     ]
    },
    {
     "name": "stderr",
     "output_type": "stream",
     "text": [
      "t:  14%|███████▎                                            | 68/485 [00:17<01:40,  4.14it/s, now=None]"
     ]
    },
    {
     "name": "stdout",
     "output_type": "stream",
     "text": [
      "Wrong separation between lines\n"
     ]
    },
    {
     "name": "stderr",
     "output_type": "stream",
     "text": [
      "t:  14%|███████▌                                            | 70/485 [00:18<01:43,  4.01it/s, now=None]"
     ]
    },
    {
     "name": "stdout",
     "output_type": "stream",
     "text": [
      "Wrong separation between lines\n"
     ]
    },
    {
     "name": "stderr",
     "output_type": "stream",
     "text": [
      "t:  15%|███████▋                                            | 72/485 [00:18<01:45,  3.91it/s, now=None]"
     ]
    },
    {
     "name": "stdout",
     "output_type": "stream",
     "text": [
      "Wrong separation between lines\n"
     ]
    },
    {
     "name": "stderr",
     "output_type": "stream",
     "text": [
      "\r",
      "t:  15%|███████▊                                            | 73/485 [00:18<01:46,  3.87it/s, now=None]"
     ]
    },
    {
     "name": "stdout",
     "output_type": "stream",
     "text": [
      "Wrong separation between lines\n"
     ]
    },
    {
     "name": "stderr",
     "output_type": "stream",
     "text": [
      "t:  18%|█████████▎                                          | 87/485 [00:22<01:43,  3.85it/s, now=None]"
     ]
    },
    {
     "name": "stdout",
     "output_type": "stream",
     "text": [
      "Wrong separation between lines\n"
     ]
    },
    {
     "name": "stderr",
     "output_type": "stream",
     "text": [
      "\r",
      "t:  18%|█████████▍                                          | 88/485 [00:22<01:39,  3.98it/s, now=None]"
     ]
    },
    {
     "name": "stdout",
     "output_type": "stream",
     "text": [
      "missdetection\n",
      "[ 4.71289396e-04 -7.48221084e-01  2.71841963e+02]\n"
     ]
    },
    {
     "name": "stderr",
     "output_type": "stream",
     "text": [
      "\r",
      "t:  18%|█████████▌                                          | 89/485 [00:23<01:42,  3.85it/s, now=None]"
     ]
    },
    {
     "name": "stdout",
     "output_type": "stream",
     "text": [
      "missdetection\n",
      "[ 3.57897650e-04 -5.83653156e-01  2.12645422e+02]\n"
     ]
    },
    {
     "name": "stderr",
     "output_type": "stream",
     "text": [
      "\r",
      "t:  19%|█████████▋                                          | 90/485 [00:23<01:46,  3.72it/s, now=None]"
     ]
    },
    {
     "name": "stdout",
     "output_type": "stream",
     "text": [
      "Wrong separation between lines\n"
     ]
    },
    {
     "name": "stderr",
     "output_type": "stream",
     "text": [
      "t:  19%|█████████▊                                          | 92/485 [00:23<01:47,  3.66it/s, now=None]"
     ]
    },
    {
     "name": "stdout",
     "output_type": "stream",
     "text": [
      "Wrong separation between lines\n"
     ]
    },
    {
     "name": "stderr",
     "output_type": "stream",
     "text": [
      "t:  19%|██████████                                          | 94/485 [00:24<01:42,  3.81it/s, now=None]"
     ]
    },
    {
     "name": "stdout",
     "output_type": "stream",
     "text": [
      "Wrong separation between lines\n"
     ]
    },
    {
     "name": "stderr",
     "output_type": "stream",
     "text": [
      "\r",
      "t:  20%|██████████▏                                         | 95/485 [00:24<01:36,  4.03it/s, now=None]"
     ]
    },
    {
     "name": "stdout",
     "output_type": "stream",
     "text": [
      "Wrong separation between lines\n"
     ]
    },
    {
     "name": "stderr",
     "output_type": "stream",
     "text": [
      "t:  20%|██████████▍                                         | 97/485 [00:25<01:36,  4.03it/s, now=None]"
     ]
    },
    {
     "name": "stdout",
     "output_type": "stream",
     "text": [
      "Wrong separation between lines\n"
     ]
    },
    {
     "name": "stderr",
     "output_type": "stream",
     "text": [
      "t:  21%|██████████▌                                        | 100/485 [00:25<01:33,  4.10it/s, now=None]"
     ]
    },
    {
     "name": "stdout",
     "output_type": "stream",
     "text": [
      "Wrong separation between lines\n"
     ]
    },
    {
     "name": "stderr",
     "output_type": "stream",
     "text": [
      "t:  23%|███████████▊                                       | 112/485 [00:28<01:30,  4.13it/s, now=None]"
     ]
    },
    {
     "name": "stdout",
     "output_type": "stream",
     "text": [
      "Wrong separation between lines\n"
     ]
    },
    {
     "name": "stderr",
     "output_type": "stream",
     "text": [
      "\r",
      "t:  23%|███████████▉                                       | 113/485 [00:28<01:29,  4.18it/s, now=None]"
     ]
    },
    {
     "name": "stdout",
     "output_type": "stream",
     "text": [
      "Wrong separation between lines\n"
     ]
    },
    {
     "name": "stderr",
     "output_type": "stream",
     "text": [
      "\r",
      "t:  24%|███████████▉                                       | 114/485 [00:29<01:27,  4.23it/s, now=None]"
     ]
    },
    {
     "name": "stdout",
     "output_type": "stream",
     "text": [
      "Wrong separation between lines\n"
     ]
    },
    {
     "name": "stderr",
     "output_type": "stream",
     "text": [
      "\r",
      "t:  24%|████████████                                       | 115/485 [00:29<01:28,  4.19it/s, now=None]"
     ]
    },
    {
     "name": "stdout",
     "output_type": "stream",
     "text": [
      "Wrong separation between lines\n"
     ]
    },
    {
     "name": "stderr",
     "output_type": "stream",
     "text": [
      "\r",
      "t:  24%|████████████▏                                      | 116/485 [00:29<01:27,  4.22it/s, now=None]"
     ]
    },
    {
     "name": "stdout",
     "output_type": "stream",
     "text": [
      "Wrong separation between lines\n"
     ]
    },
    {
     "name": "stderr",
     "output_type": "stream",
     "text": [
      "t:  27%|█████████████▌                                     | 129/485 [00:32<01:24,  4.22it/s, now=None]"
     ]
    },
    {
     "name": "stdout",
     "output_type": "stream",
     "text": [
      "missdetection\n",
      "[ 5.02346457e-04 -6.42994051e-01  2.05409946e+02]\n"
     ]
    },
    {
     "name": "stderr",
     "output_type": "stream",
     "text": [
      "\r",
      "t:  27%|█████████████▋                                     | 130/485 [00:33<01:25,  4.13it/s, now=None]"
     ]
    },
    {
     "name": "stdout",
     "output_type": "stream",
     "text": [
      "missdetection\n",
      "[ 9.19581513e-04 -1.43871601e+00  5.36277316e+02]\n"
     ]
    },
    {
     "name": "stderr",
     "output_type": "stream",
     "text": [
      "\r",
      "t:  27%|█████████████▊                                     | 131/485 [00:33<01:27,  4.05it/s, now=None]"
     ]
    },
    {
     "name": "stdout",
     "output_type": "stream",
     "text": [
      "missdetection\n",
      "[ 9.23528771e-04 -1.41855303e+00  5.19997059e+02]\n"
     ]
    },
    {
     "name": "stderr",
     "output_type": "stream",
     "text": [
      "\r",
      "t:  27%|█████████████▉                                     | 132/485 [00:33<01:26,  4.08it/s, now=None]"
     ]
    },
    {
     "name": "stdout",
     "output_type": "stream",
     "text": [
      "missdetection\n",
      "[ 9.59543990e-04 -1.47254117e+00  5.38836380e+02]\n"
     ]
    },
    {
     "name": "stderr",
     "output_type": "stream",
     "text": [
      "\r",
      "t:  27%|█████████████▉                                     | 133/485 [00:33<01:26,  4.06it/s, now=None]"
     ]
    },
    {
     "name": "stdout",
     "output_type": "stream",
     "text": [
      "missdetection\n",
      "[ 9.51275654e-04 -1.46417453e+00  5.38612774e+02]\n",
      "Discarded X point\n"
     ]
    },
    {
     "name": "stderr",
     "output_type": "stream",
     "text": [
      "\r",
      "t:  28%|██████████████                                     | 134/485 [00:34<01:35,  3.68it/s, now=None]"
     ]
    },
    {
     "name": "stdout",
     "output_type": "stream",
     "text": [
      "missdetection\n",
      "[ 9.51175048e-04 -1.45989807e+00  5.36682244e+02]\n"
     ]
    },
    {
     "name": "stderr",
     "output_type": "stream",
     "text": [
      "\r",
      "t:  28%|██████████████▏                                    | 135/485 [00:34<01:32,  3.79it/s, now=None]"
     ]
    },
    {
     "name": "stdout",
     "output_type": "stream",
     "text": [
      "Discarded X point\n",
      "Discarded X point\n",
      "missdetection\n",
      "[ 9.57735734e-04 -1.46914278e+00  5.38057537e+02]\n"
     ]
    },
    {
     "name": "stderr",
     "output_type": "stream",
     "text": [
      "\r",
      "t:  28%|██████████████▎                                    | 136/485 [00:34<01:32,  3.78it/s, now=None]"
     ]
    },
    {
     "name": "stdout",
     "output_type": "stream",
     "text": [
      "Discarded X point\n",
      "Discarded X point\n",
      "missdetection\n",
      "[ 9.57735734e-04 -1.46914278e+00  5.38057537e+02]\n"
     ]
    },
    {
     "name": "stderr",
     "output_type": "stream",
     "text": [
      "\r",
      "t:  28%|██████████████▍                                    | 137/485 [00:34<01:33,  3.72it/s, now=None]"
     ]
    },
    {
     "name": "stdout",
     "output_type": "stream",
     "text": [
      "Discarded X point\n",
      "Discarded X point\n",
      "missdetection\n",
      "[ 9.57476013e-04 -1.46879220e+00  5.38059411e+02]\n"
     ]
    },
    {
     "name": "stderr",
     "output_type": "stream",
     "text": [
      "\r",
      "t:  28%|██████████████▌                                    | 138/485 [00:35<01:32,  3.76it/s, now=None]"
     ]
    },
    {
     "name": "stdout",
     "output_type": "stream",
     "text": [
      "Discarded X point\n",
      "Discarded X point\n",
      "missdetection\n",
      "[ 9.57216292e-04 -1.46844163e+00  5.38061286e+02]\n"
     ]
    },
    {
     "name": "stderr",
     "output_type": "stream",
     "text": [
      "\r",
      "t:  29%|██████████████▌                                    | 139/485 [00:35<01:31,  3.79it/s, now=None]"
     ]
    },
    {
     "name": "stdout",
     "output_type": "stream",
     "text": [
      "Discarded X point\n",
      "Discarded X point\n",
      "missdetection\n",
      "[ 9.57086431e-04 -1.46826634e+00  5.38062223e+02]\n",
      "Reset by SanityCheck\n"
     ]
    },
    {
     "name": "stderr",
     "output_type": "stream",
     "text": [
      "\r",
      "t:  29%|██████████████▋                                    | 140/485 [00:35<01:27,  3.92it/s, now=None]"
     ]
    },
    {
     "name": "stdout",
     "output_type": "stream",
     "text": [
      "Discarded X point\n",
      "Discarded X point\n",
      "NO pixels with search around poly\n"
     ]
    },
    {
     "name": "stderr",
     "output_type": "stream",
     "text": [
      "\r",
      "t:  29%|██████████████▊                                    | 141/485 [00:35<01:30,  3.81it/s, now=None]"
     ]
    },
    {
     "name": "stdout",
     "output_type": "stream",
     "text": [
      "Discarded X point\n",
      "Discarded X point\n",
      "missdetection\n",
      "[ 9.57476013e-04 -1.46879220e+00  5.38059411e+02]\n"
     ]
    },
    {
     "name": "stderr",
     "output_type": "stream",
     "text": [
      "\r",
      "t:  29%|██████████████▉                                    | 142/485 [00:36<01:30,  3.78it/s, now=None]"
     ]
    },
    {
     "name": "stdout",
     "output_type": "stream",
     "text": [
      "Discarded X point\n",
      "Discarded X point\n",
      "missdetection\n",
      "[ 9.57540943e-04 -1.46887985e+00  5.38058943e+02]\n"
     ]
    },
    {
     "name": "stderr",
     "output_type": "stream",
     "text": [
      "\r",
      "t:  29%|███████████████                                    | 143/485 [00:36<01:34,  3.64it/s, now=None]"
     ]
    },
    {
     "name": "stdout",
     "output_type": "stream",
     "text": [
      "Discarded X point\n",
      "Discarded X point\n",
      "missdetection\n",
      "[ 9.57540943e-04 -1.46887985e+00  5.38058943e+02]\n"
     ]
    },
    {
     "name": "stderr",
     "output_type": "stream",
     "text": [
      "\r",
      "t:  30%|███████████████▏                                   | 144/485 [00:36<01:34,  3.62it/s, now=None]"
     ]
    },
    {
     "name": "stdout",
     "output_type": "stream",
     "text": [
      "Discarded X point\n",
      "Discarded X point\n",
      "missdetection\n",
      "[ 9.57540943e-04 -1.46887985e+00  5.38058943e+02]\n"
     ]
    },
    {
     "name": "stderr",
     "output_type": "stream",
     "text": [
      "\r",
      "t:  30%|███████████████▏                                   | 145/485 [00:37<01:34,  3.60it/s, now=None]"
     ]
    },
    {
     "name": "stdout",
     "output_type": "stream",
     "text": [
      "Discarded X point\n",
      "Discarded X point\n",
      "missdetection\n",
      "[ 9.57540943e-04 -1.46887985e+00  5.38058943e+02]\n"
     ]
    },
    {
     "name": "stderr",
     "output_type": "stream",
     "text": [
      "\r",
      "t:  30%|███████████████▎                                   | 146/485 [00:37<01:33,  3.63it/s, now=None]"
     ]
    },
    {
     "name": "stdout",
     "output_type": "stream",
     "text": [
      "Discarded X point\n",
      "Discarded X point\n",
      "missdetection\n",
      "[ 9.57540943e-04 -1.46887985e+00  5.38058943e+02]\n"
     ]
    },
    {
     "name": "stderr",
     "output_type": "stream",
     "text": [
      "\r",
      "t:  30%|███████████████▍                                   | 147/485 [00:37<01:32,  3.64it/s, now=None]"
     ]
    },
    {
     "name": "stdout",
     "output_type": "stream",
     "text": [
      "Discarded X point\n",
      "Discarded X point\n"
     ]
    },
    {
     "name": "stderr",
     "output_type": "stream",
     "text": [
      "\r",
      "t:  31%|███████████████▌                                   | 148/485 [00:37<01:34,  3.55it/s, now=None]"
     ]
    },
    {
     "name": "stdout",
     "output_type": "stream",
     "text": [
      "Discarded X point\n",
      "Wrong separation between lines\n"
     ]
    },
    {
     "name": "stderr",
     "output_type": "stream",
     "text": [
      "\r",
      "t:  31%|███████████████▋                                   | 149/485 [00:38<01:32,  3.64it/s, now=None]"
     ]
    },
    {
     "name": "stdout",
     "output_type": "stream",
     "text": [
      "Discarded X point\n"
     ]
    },
    {
     "name": "stderr",
     "output_type": "stream",
     "text": [
      "t:  32%|████████████████                                   | 153/485 [00:39<01:32,  3.59it/s, now=None]"
     ]
    },
    {
     "name": "stdout",
     "output_type": "stream",
     "text": [
      "Wrong separation between lines\n"
     ]
    },
    {
     "name": "stderr",
     "output_type": "stream",
     "text": [
      "t:  34%|█████████████████▌                                 | 167/485 [00:42<01:19,  3.98it/s, now=None]"
     ]
    },
    {
     "name": "stdout",
     "output_type": "stream",
     "text": [
      "Wrong separation between lines\n"
     ]
    },
    {
     "name": "stderr",
     "output_type": "stream",
     "text": [
      "t:  35%|█████████████████▊                                 | 169/485 [00:43<01:21,  3.86it/s, now=None]"
     ]
    },
    {
     "name": "stdout",
     "output_type": "stream",
     "text": [
      "Wrong separation between lines\n"
     ]
    },
    {
     "name": "stderr",
     "output_type": "stream",
     "text": [
      "t:  35%|██████████████████                                 | 172/485 [00:44<01:19,  3.92it/s, now=None]"
     ]
    },
    {
     "name": "stdout",
     "output_type": "stream",
     "text": [
      "Wrong separation between lines\n"
     ]
    },
    {
     "name": "stderr",
     "output_type": "stream",
     "text": [
      "\r",
      "t:  36%|██████████████████▏                                | 173/485 [00:44<01:18,  3.99it/s, now=None]"
     ]
    },
    {
     "name": "stdout",
     "output_type": "stream",
     "text": [
      "Wrong separation between lines\n"
     ]
    },
    {
     "name": "stderr",
     "output_type": "stream",
     "text": [
      "\r",
      "t:  36%|██████████████████▎                                | 174/485 [00:44<01:18,  3.96it/s, now=None]"
     ]
    },
    {
     "name": "stdout",
     "output_type": "stream",
     "text": [
      "Wrong separation between lines\n"
     ]
    },
    {
     "name": "stderr",
     "output_type": "stream",
     "text": [
      "\r",
      "t:  36%|██████████████████▍                                | 175/485 [00:44<01:17,  4.00it/s, now=None]"
     ]
    },
    {
     "name": "stdout",
     "output_type": "stream",
     "text": [
      "Wrong separation between lines\n"
     ]
    },
    {
     "name": "stderr",
     "output_type": "stream",
     "text": [
      "\r",
      "t:  36%|██████████████████▌                                | 176/485 [00:45<01:15,  4.08it/s, now=None]"
     ]
    },
    {
     "name": "stdout",
     "output_type": "stream",
     "text": [
      "Wrong separation between lines\n"
     ]
    },
    {
     "name": "stderr",
     "output_type": "stream",
     "text": [
      "\r",
      "t:  36%|██████████████████▌                                | 177/485 [00:45<01:15,  4.09it/s, now=None]"
     ]
    },
    {
     "name": "stdout",
     "output_type": "stream",
     "text": [
      "Wrong separation between lines\n"
     ]
    },
    {
     "name": "stderr",
     "output_type": "stream",
     "text": [
      "\r",
      "t:  37%|██████████████████▋                                | 178/485 [00:45<01:13,  4.15it/s, now=None]"
     ]
    },
    {
     "name": "stdout",
     "output_type": "stream",
     "text": [
      "Wrong separation between lines\n"
     ]
    },
    {
     "name": "stderr",
     "output_type": "stream",
     "text": [
      "\r",
      "t:  37%|██████████████████▊                                | 179/485 [00:45<01:14,  4.09it/s, now=None]"
     ]
    },
    {
     "name": "stdout",
     "output_type": "stream",
     "text": [
      "Wrong separation between lines\n"
     ]
    },
    {
     "name": "stderr",
     "output_type": "stream",
     "text": [
      "\r",
      "t:  37%|██████████████████▉                                | 180/485 [00:46<01:15,  4.05it/s, now=None]"
     ]
    },
    {
     "name": "stdout",
     "output_type": "stream",
     "text": [
      "Wrong separation between lines\n"
     ]
    },
    {
     "name": "stderr",
     "output_type": "stream",
     "text": [
      "\r",
      "t:  37%|███████████████████                                | 181/485 [00:46<01:13,  4.15it/s, now=None]"
     ]
    },
    {
     "name": "stdout",
     "output_type": "stream",
     "text": [
      "Wrong separation between lines\n"
     ]
    },
    {
     "name": "stderr",
     "output_type": "stream",
     "text": [
      "\r",
      "t:  38%|███████████████████▏                               | 182/485 [00:46<01:14,  4.08it/s, now=None]"
     ]
    },
    {
     "name": "stdout",
     "output_type": "stream",
     "text": [
      "Wrong separation between lines\n"
     ]
    },
    {
     "name": "stderr",
     "output_type": "stream",
     "text": [
      "\r",
      "t:  38%|███████████████████▏                               | 183/485 [00:46<01:14,  4.05it/s, now=None]"
     ]
    },
    {
     "name": "stdout",
     "output_type": "stream",
     "text": [
      "Wrong separation between lines\n"
     ]
    },
    {
     "name": "stderr",
     "output_type": "stream",
     "text": [
      "\r",
      "t:  38%|███████████████████▎                               | 184/485 [00:47<01:13,  4.09it/s, now=None]"
     ]
    },
    {
     "name": "stdout",
     "output_type": "stream",
     "text": [
      "Wrong separation between lines\n"
     ]
    },
    {
     "name": "stderr",
     "output_type": "stream",
     "text": [
      "\r",
      "t:  38%|███████████████████▍                               | 185/485 [00:47<01:13,  4.10it/s, now=None]"
     ]
    },
    {
     "name": "stdout",
     "output_type": "stream",
     "text": [
      "Wrong separation between lines\n"
     ]
    },
    {
     "name": "stderr",
     "output_type": "stream",
     "text": [
      "\r",
      "t:  38%|███████████████████▌                               | 186/485 [00:47<01:13,  4.05it/s, now=None]"
     ]
    },
    {
     "name": "stdout",
     "output_type": "stream",
     "text": [
      "Wrong separation between lines\n"
     ]
    },
    {
     "name": "stderr",
     "output_type": "stream",
     "text": [
      "\r",
      "t:  39%|███████████████████▋                               | 187/485 [00:47<01:14,  3.97it/s, now=None]"
     ]
    },
    {
     "name": "stdout",
     "output_type": "stream",
     "text": [
      "Wrong separation between lines\n"
     ]
    },
    {
     "name": "stderr",
     "output_type": "stream",
     "text": [
      "\r",
      "t:  39%|███████████████████▊                               | 188/485 [00:48<01:15,  3.91it/s, now=None]"
     ]
    },
    {
     "name": "stdout",
     "output_type": "stream",
     "text": [
      "Wrong separation between lines\n"
     ]
    },
    {
     "name": "stderr",
     "output_type": "stream",
     "text": [
      "\r",
      "t:  39%|███████████████████▊                               | 189/485 [00:48<01:15,  3.94it/s, now=None]"
     ]
    },
    {
     "name": "stdout",
     "output_type": "stream",
     "text": [
      "Wrong separation between lines\n"
     ]
    },
    {
     "name": "stderr",
     "output_type": "stream",
     "text": [
      "\r",
      "t:  39%|███████████████████▉                               | 190/485 [00:48<01:14,  3.95it/s, now=None]"
     ]
    },
    {
     "name": "stdout",
     "output_type": "stream",
     "text": [
      "Wrong separation between lines\n"
     ]
    },
    {
     "name": "stderr",
     "output_type": "stream",
     "text": [
      "\r",
      "t:  39%|████████████████████                               | 191/485 [00:48<01:14,  3.95it/s, now=None]"
     ]
    },
    {
     "name": "stdout",
     "output_type": "stream",
     "text": [
      "Wrong separation between lines\n"
     ]
    },
    {
     "name": "stderr",
     "output_type": "stream",
     "text": [
      "\r",
      "t:  40%|████████████████████▏                              | 192/485 [00:49<01:12,  4.04it/s, now=None]"
     ]
    },
    {
     "name": "stdout",
     "output_type": "stream",
     "text": [
      "Wrong separation between lines\n"
     ]
    },
    {
     "name": "stderr",
     "output_type": "stream",
     "text": [
      "\r",
      "t:  40%|████████████████████▎                              | 193/485 [00:49<01:10,  4.15it/s, now=None]"
     ]
    },
    {
     "name": "stdout",
     "output_type": "stream",
     "text": [
      "Wrong separation between lines\n"
     ]
    },
    {
     "name": "stderr",
     "output_type": "stream",
     "text": [
      "\r",
      "t:  40%|████████████████████▍                              | 194/485 [00:49<01:11,  4.06it/s, now=None]"
     ]
    },
    {
     "name": "stdout",
     "output_type": "stream",
     "text": [
      "Wrong separation between lines\n"
     ]
    },
    {
     "name": "stderr",
     "output_type": "stream",
     "text": [
      "\r",
      "t:  40%|████████████████████▌                              | 195/485 [00:49<01:11,  4.06it/s, now=None]"
     ]
    },
    {
     "name": "stdout",
     "output_type": "stream",
     "text": [
      "Wrong separation between lines\n"
     ]
    },
    {
     "name": "stderr",
     "output_type": "stream",
     "text": [
      "\r",
      "t:  40%|████████████████████▌                              | 196/485 [00:50<01:10,  4.09it/s, now=None]"
     ]
    },
    {
     "name": "stdout",
     "output_type": "stream",
     "text": [
      "Wrong separation between lines\n"
     ]
    },
    {
     "name": "stderr",
     "output_type": "stream",
     "text": [
      "\r",
      "t:  41%|████████████████████▋                              | 197/485 [00:50<01:08,  4.18it/s, now=None]"
     ]
    },
    {
     "name": "stdout",
     "output_type": "stream",
     "text": [
      "Wrong separation between lines\n"
     ]
    },
    {
     "name": "stderr",
     "output_type": "stream",
     "text": [
      "\r",
      "t:  41%|████████████████████▊                              | 198/485 [00:50<01:08,  4.20it/s, now=None]"
     ]
    },
    {
     "name": "stdout",
     "output_type": "stream",
     "text": [
      "Wrong separation between lines\n"
     ]
    },
    {
     "name": "stderr",
     "output_type": "stream",
     "text": [
      "\r",
      "t:  41%|████████████████████▉                              | 199/485 [00:50<01:08,  4.20it/s, now=None]"
     ]
    },
    {
     "name": "stdout",
     "output_type": "stream",
     "text": [
      "Wrong separation between lines\n"
     ]
    },
    {
     "name": "stderr",
     "output_type": "stream",
     "text": [
      "\r",
      "t:  41%|█████████████████████                              | 200/485 [00:50<01:07,  4.23it/s, now=None]"
     ]
    },
    {
     "name": "stdout",
     "output_type": "stream",
     "text": [
      "Wrong separation between lines\n"
     ]
    },
    {
     "name": "stderr",
     "output_type": "stream",
     "text": [
      "\r",
      "t:  41%|█████████████████████▏                             | 201/485 [00:51<01:07,  4.22it/s, now=None]"
     ]
    },
    {
     "name": "stdout",
     "output_type": "stream",
     "text": [
      "Wrong separation between lines\n"
     ]
    },
    {
     "name": "stderr",
     "output_type": "stream",
     "text": [
      "\r",
      "t:  42%|█████████████████████▏                             | 202/485 [00:51<01:07,  4.20it/s, now=None]"
     ]
    },
    {
     "name": "stdout",
     "output_type": "stream",
     "text": [
      "Wrong separation between lines\n"
     ]
    },
    {
     "name": "stderr",
     "output_type": "stream",
     "text": [
      "\r",
      "t:  42%|█████████████████████▎                             | 203/485 [00:51<01:06,  4.23it/s, now=None]"
     ]
    },
    {
     "name": "stdout",
     "output_type": "stream",
     "text": [
      "Wrong separation between lines\n"
     ]
    },
    {
     "name": "stderr",
     "output_type": "stream",
     "text": [
      "\r",
      "t:  42%|█████████████████████▍                             | 204/485 [00:51<01:06,  4.23it/s, now=None]"
     ]
    },
    {
     "name": "stdout",
     "output_type": "stream",
     "text": [
      "Wrong separation between lines\n"
     ]
    },
    {
     "name": "stderr",
     "output_type": "stream",
     "text": [
      "\r",
      "t:  42%|█████████████████████▌                             | 205/485 [00:52<01:07,  4.18it/s, now=None]"
     ]
    },
    {
     "name": "stdout",
     "output_type": "stream",
     "text": [
      "Wrong separation between lines\n"
     ]
    },
    {
     "name": "stderr",
     "output_type": "stream",
     "text": [
      "\r",
      "t:  42%|█████████████████████▋                             | 206/485 [00:52<01:06,  4.21it/s, now=None]"
     ]
    },
    {
     "name": "stdout",
     "output_type": "stream",
     "text": [
      "Wrong separation between lines\n"
     ]
    },
    {
     "name": "stderr",
     "output_type": "stream",
     "text": [
      "\r",
      "t:  43%|█████████████████████▊                             | 207/485 [00:52<01:06,  4.19it/s, now=None]"
     ]
    },
    {
     "name": "stdout",
     "output_type": "stream",
     "text": [
      "Wrong separation between lines\n"
     ]
    },
    {
     "name": "stderr",
     "output_type": "stream",
     "text": [
      "\r",
      "t:  43%|█████████████████████▊                             | 208/485 [00:52<01:06,  4.16it/s, now=None]"
     ]
    },
    {
     "name": "stdout",
     "output_type": "stream",
     "text": [
      "Wrong separation between lines\n"
     ]
    },
    {
     "name": "stderr",
     "output_type": "stream",
     "text": [
      "\r",
      "t:  43%|█████████████████████▉                             | 209/485 [00:53<01:05,  4.22it/s, now=None]"
     ]
    },
    {
     "name": "stdout",
     "output_type": "stream",
     "text": [
      "Wrong separation between lines\n"
     ]
    },
    {
     "name": "stderr",
     "output_type": "stream",
     "text": [
      "\r",
      "t:  43%|██████████████████████                             | 210/485 [00:53<01:06,  4.16it/s, now=None]"
     ]
    },
    {
     "name": "stdout",
     "output_type": "stream",
     "text": [
      "Wrong separation between lines\n"
     ]
    },
    {
     "name": "stderr",
     "output_type": "stream",
     "text": [
      "\r",
      "t:  44%|██████████████████████▏                            | 211/485 [00:53<01:04,  4.25it/s, now=None]"
     ]
    },
    {
     "name": "stdout",
     "output_type": "stream",
     "text": [
      "Wrong separation between lines\n"
     ]
    },
    {
     "name": "stderr",
     "output_type": "stream",
     "text": [
      "\r",
      "t:  44%|██████████████████████▎                            | 212/485 [00:53<01:03,  4.30it/s, now=None]"
     ]
    },
    {
     "name": "stdout",
     "output_type": "stream",
     "text": [
      "Wrong separation between lines\n"
     ]
    },
    {
     "name": "stderr",
     "output_type": "stream",
     "text": [
      "\r",
      "t:  44%|██████████████████████▍                            | 213/485 [00:54<01:03,  4.31it/s, now=None]"
     ]
    },
    {
     "name": "stdout",
     "output_type": "stream",
     "text": [
      "Wrong separation between lines\n"
     ]
    },
    {
     "name": "stderr",
     "output_type": "stream",
     "text": [
      "\r",
      "t:  44%|██████████████████████▌                            | 214/485 [00:54<01:04,  4.19it/s, now=None]"
     ]
    },
    {
     "name": "stdout",
     "output_type": "stream",
     "text": [
      "Wrong separation between lines\n"
     ]
    },
    {
     "name": "stderr",
     "output_type": "stream",
     "text": [
      "\r",
      "t:  44%|██████████████████████▌                            | 215/485 [00:54<01:03,  4.25it/s, now=None]"
     ]
    },
    {
     "name": "stdout",
     "output_type": "stream",
     "text": [
      "Wrong separation between lines\n"
     ]
    },
    {
     "name": "stderr",
     "output_type": "stream",
     "text": [
      "\r",
      "t:  45%|██████████████████████▋                            | 216/485 [00:54<01:03,  4.21it/s, now=None]"
     ]
    },
    {
     "name": "stdout",
     "output_type": "stream",
     "text": [
      "Wrong separation between lines\n"
     ]
    },
    {
     "name": "stderr",
     "output_type": "stream",
     "text": [
      "\r",
      "t:  45%|██████████████████████▊                            | 217/485 [00:54<01:02,  4.31it/s, now=None]"
     ]
    },
    {
     "name": "stdout",
     "output_type": "stream",
     "text": [
      "Wrong separation between lines\n"
     ]
    },
    {
     "name": "stderr",
     "output_type": "stream",
     "text": [
      "\r",
      "t:  45%|██████████████████████▉                            | 218/485 [00:55<01:03,  4.23it/s, now=None]"
     ]
    },
    {
     "name": "stdout",
     "output_type": "stream",
     "text": [
      "Wrong separation between lines\n",
      "Wrong separation between lines\n"
     ]
    },
    {
     "name": "stderr",
     "output_type": "stream",
     "text": [
      "t:  45%|███████████████████████▏                           | 220/485 [00:55<01:02,  4.26it/s, now=None]"
     ]
    },
    {
     "name": "stdout",
     "output_type": "stream",
     "text": [
      "Wrong separation between lines\n"
     ]
    },
    {
     "name": "stderr",
     "output_type": "stream",
     "text": [
      "\r",
      "t:  46%|███████████████████████▏                           | 221/485 [00:55<01:01,  4.33it/s, now=None]"
     ]
    },
    {
     "name": "stdout",
     "output_type": "stream",
     "text": [
      "Wrong separation between lines\n"
     ]
    },
    {
     "name": "stderr",
     "output_type": "stream",
     "text": [
      "t:  46%|███████████████████████▍                           | 223/485 [00:56<01:05,  4.01it/s, now=None]"
     ]
    },
    {
     "name": "stdout",
     "output_type": "stream",
     "text": [
      "Wrong separation between lines\n"
     ]
    },
    {
     "name": "stderr",
     "output_type": "stream",
     "text": [
      "\r",
      "t:  46%|███████████████████████▌                           | 224/485 [00:56<01:04,  4.04it/s, now=None]"
     ]
    },
    {
     "name": "stdout",
     "output_type": "stream",
     "text": [
      "Wrong separation between lines\n"
     ]
    },
    {
     "name": "stderr",
     "output_type": "stream",
     "text": [
      "\r",
      "t:  46%|███████████████████████▋                           | 225/485 [00:56<01:05,  3.99it/s, now=None]"
     ]
    },
    {
     "name": "stdout",
     "output_type": "stream",
     "text": [
      "Wrong separation between lines\n"
     ]
    },
    {
     "name": "stderr",
     "output_type": "stream",
     "text": [
      "\r",
      "t:  47%|███████████████████████▊                           | 226/485 [00:57<01:07,  3.81it/s, now=None]"
     ]
    },
    {
     "name": "stdout",
     "output_type": "stream",
     "text": [
      "Wrong separation between lines\n"
     ]
    },
    {
     "name": "stderr",
     "output_type": "stream",
     "text": [
      "\r",
      "t:  47%|███████████████████████▊                           | 227/485 [00:57<01:06,  3.89it/s, now=None]"
     ]
    },
    {
     "name": "stdout",
     "output_type": "stream",
     "text": [
      "Wrong separation between lines\n"
     ]
    },
    {
     "name": "stderr",
     "output_type": "stream",
     "text": [
      "\r",
      "t:  47%|███████████████████████▉                           | 228/485 [00:57<01:07,  3.82it/s, now=None]"
     ]
    },
    {
     "name": "stdout",
     "output_type": "stream",
     "text": [
      "Wrong separation between lines\n"
     ]
    },
    {
     "name": "stderr",
     "output_type": "stream",
     "text": [
      "\r",
      "t:  47%|████████████████████████                           | 229/485 [00:58<01:06,  3.84it/s, now=None]"
     ]
    },
    {
     "name": "stdout",
     "output_type": "stream",
     "text": [
      "Wrong separation between lines\n"
     ]
    },
    {
     "name": "stderr",
     "output_type": "stream",
     "text": [
      "t:  48%|████████████████████████▎                          | 231/485 [00:58<01:06,  3.82it/s, now=None]"
     ]
    },
    {
     "name": "stdout",
     "output_type": "stream",
     "text": [
      "Wrong separation between lines\n"
     ]
    },
    {
     "name": "stderr",
     "output_type": "stream",
     "text": [
      "\r",
      "t:  48%|████████████████████████▍                          | 232/485 [00:58<01:06,  3.80it/s, now=None]"
     ]
    },
    {
     "name": "stdout",
     "output_type": "stream",
     "text": [
      "Wrong separation between lines\n"
     ]
    },
    {
     "name": "stderr",
     "output_type": "stream",
     "text": [
      "\r",
      "t:  48%|████████████████████████▌                          | 233/485 [00:59<01:06,  3.79it/s, now=None]"
     ]
    },
    {
     "name": "stdout",
     "output_type": "stream",
     "text": [
      "Wrong separation between lines\n"
     ]
    },
    {
     "name": "stderr",
     "output_type": "stream",
     "text": [
      "\r",
      "t:  48%|████████████████████████▌                          | 234/485 [00:59<01:05,  3.82it/s, now=None]"
     ]
    },
    {
     "name": "stdout",
     "output_type": "stream",
     "text": [
      "Wrong separation between lines\n"
     ]
    },
    {
     "name": "stderr",
     "output_type": "stream",
     "text": [
      "\r",
      "t:  48%|████████████████████████▋                          | 235/485 [00:59<01:04,  3.88it/s, now=None]"
     ]
    },
    {
     "name": "stdout",
     "output_type": "stream",
     "text": [
      "Wrong separation between lines\n"
     ]
    },
    {
     "name": "stderr",
     "output_type": "stream",
     "text": [
      "\r",
      "t:  49%|████████████████████████▊                          | 236/485 [00:59<01:03,  3.95it/s, now=None]"
     ]
    },
    {
     "name": "stdout",
     "output_type": "stream",
     "text": [
      "Wrong separation between lines\n"
     ]
    },
    {
     "name": "stderr",
     "output_type": "stream",
     "text": [
      "\r",
      "t:  49%|████████████████████████▉                          | 237/485 [01:00<01:02,  4.00it/s, now=None]"
     ]
    },
    {
     "name": "stdout",
     "output_type": "stream",
     "text": [
      "Wrong separation between lines\n"
     ]
    },
    {
     "name": "stderr",
     "output_type": "stream",
     "text": [
      "\r",
      "t:  49%|█████████████████████████                          | 238/485 [01:00<01:01,  4.02it/s, now=None]"
     ]
    },
    {
     "name": "stdout",
     "output_type": "stream",
     "text": [
      "Wrong separation between lines\n"
     ]
    },
    {
     "name": "stderr",
     "output_type": "stream",
     "text": [
      "\r",
      "t:  49%|█████████████████████████▏                         | 239/485 [01:00<00:59,  4.14it/s, now=None]"
     ]
    },
    {
     "name": "stdout",
     "output_type": "stream",
     "text": [
      "Wrong separation between lines\n"
     ]
    },
    {
     "name": "stderr",
     "output_type": "stream",
     "text": [
      "\r",
      "t:  49%|█████████████████████████▏                         | 240/485 [01:00<01:00,  4.05it/s, now=None]"
     ]
    },
    {
     "name": "stdout",
     "output_type": "stream",
     "text": [
      "Wrong separation between lines\n"
     ]
    },
    {
     "name": "stderr",
     "output_type": "stream",
     "text": [
      "\r",
      "t:  50%|█████████████████████████▎                         | 241/485 [01:01<00:58,  4.15it/s, now=None]"
     ]
    },
    {
     "name": "stdout",
     "output_type": "stream",
     "text": [
      "Wrong separation between lines\n"
     ]
    },
    {
     "name": "stderr",
     "output_type": "stream",
     "text": [
      "\r",
      "t:  50%|█████████████████████████▍                         | 242/485 [01:01<00:59,  4.10it/s, now=None]"
     ]
    },
    {
     "name": "stdout",
     "output_type": "stream",
     "text": [
      "Wrong separation between lines\n"
     ]
    },
    {
     "name": "stderr",
     "output_type": "stream",
     "text": [
      "\r",
      "t:  50%|█████████████████████████▌                         | 243/485 [01:01<00:58,  4.11it/s, now=None]"
     ]
    },
    {
     "name": "stdout",
     "output_type": "stream",
     "text": [
      "Wrong separation between lines\n"
     ]
    },
    {
     "name": "stderr",
     "output_type": "stream",
     "text": [
      "t:  51%|█████████████████████████▊                         | 245/485 [01:01<00:57,  4.18it/s, now=None]"
     ]
    },
    {
     "name": "stdout",
     "output_type": "stream",
     "text": [
      "Wrong separation between lines\n"
     ]
    },
    {
     "name": "stderr",
     "output_type": "stream",
     "text": [
      "t:  51%|█████████████████████████▉                         | 247/485 [01:02<00:55,  4.26it/s, now=None]"
     ]
    },
    {
     "name": "stdout",
     "output_type": "stream",
     "text": [
      "Wrong separation between lines\n"
     ]
    },
    {
     "name": "stderr",
     "output_type": "stream",
     "text": [
      "\r",
      "t:  51%|██████████████████████████                         | 248/485 [01:02<00:54,  4.34it/s, now=None]"
     ]
    },
    {
     "name": "stdout",
     "output_type": "stream",
     "text": [
      "Wrong separation between lines\n"
     ]
    },
    {
     "name": "stderr",
     "output_type": "stream",
     "text": [
      "\r",
      "t:  51%|██████████████████████████▏                        | 249/485 [01:02<00:55,  4.28it/s, now=None]"
     ]
    },
    {
     "name": "stdout",
     "output_type": "stream",
     "text": [
      "Wrong separation between lines\n"
     ]
    },
    {
     "name": "stderr",
     "output_type": "stream",
     "text": [
      "\r",
      "t:  52%|██████████████████████████▎                        | 250/485 [01:03<00:54,  4.35it/s, now=None]"
     ]
    },
    {
     "name": "stdout",
     "output_type": "stream",
     "text": [
      "Wrong separation between lines\n"
     ]
    },
    {
     "name": "stderr",
     "output_type": "stream",
     "text": [
      "t:  53%|██████████████████████████▊                        | 255/485 [01:04<00:54,  4.25it/s, now=None]"
     ]
    },
    {
     "name": "stdout",
     "output_type": "stream",
     "text": [
      "Wrong separation between lines\n"
     ]
    },
    {
     "name": "stderr",
     "output_type": "stream",
     "text": [
      "\r",
      "t:  53%|██████████████████████████▉                        | 256/485 [01:04<00:54,  4.21it/s, now=None]"
     ]
    },
    {
     "name": "stdout",
     "output_type": "stream",
     "text": [
      "Wrong separation between lines\n"
     ]
    },
    {
     "name": "stderr",
     "output_type": "stream",
     "text": [
      "\r",
      "t:  53%|███████████████████████████                        | 257/485 [01:04<00:54,  4.15it/s, now=None]"
     ]
    },
    {
     "name": "stdout",
     "output_type": "stream",
     "text": [
      "Wrong separation between lines\n"
     ]
    },
    {
     "name": "stderr",
     "output_type": "stream",
     "text": [
      "\r",
      "t:  53%|███████████████████████████▏                       | 258/485 [01:05<00:53,  4.24it/s, now=None]"
     ]
    },
    {
     "name": "stdout",
     "output_type": "stream",
     "text": [
      "Wrong separation between lines\n"
     ]
    },
    {
     "name": "stderr",
     "output_type": "stream",
     "text": [
      "\r",
      "t:  53%|███████████████████████████▏                       | 259/485 [01:05<00:53,  4.26it/s, now=None]"
     ]
    },
    {
     "name": "stdout",
     "output_type": "stream",
     "text": [
      "Wrong separation between lines\n"
     ]
    },
    {
     "name": "stderr",
     "output_type": "stream",
     "text": [
      "\r",
      "t:  54%|███████████████████████████▎                       | 260/485 [01:05<00:51,  4.38it/s, now=None]"
     ]
    },
    {
     "name": "stdout",
     "output_type": "stream",
     "text": [
      "Wrong separation between lines\n"
     ]
    },
    {
     "name": "stderr",
     "output_type": "stream",
     "text": [
      "\r",
      "t:  54%|███████████████████████████▍                       | 261/485 [01:05<00:52,  4.28it/s, now=None]"
     ]
    },
    {
     "name": "stdout",
     "output_type": "stream",
     "text": [
      "Wrong separation between lines\n"
     ]
    },
    {
     "name": "stderr",
     "output_type": "stream",
     "text": [
      "\r",
      "t:  54%|███████████████████████████▌                       | 262/485 [01:05<00:51,  4.29it/s, now=None]"
     ]
    },
    {
     "name": "stdout",
     "output_type": "stream",
     "text": [
      "Wrong separation between lines\n"
     ]
    },
    {
     "name": "stderr",
     "output_type": "stream",
     "text": [
      "\r",
      "t:  54%|███████████████████████████▋                       | 263/485 [01:06<00:50,  4.40it/s, now=None]"
     ]
    },
    {
     "name": "stdout",
     "output_type": "stream",
     "text": [
      "Wrong separation between lines\n"
     ]
    },
    {
     "name": "stderr",
     "output_type": "stream",
     "text": [
      "\r",
      "t:  54%|███████████████████████████▊                       | 264/485 [01:06<00:49,  4.46it/s, now=None]"
     ]
    },
    {
     "name": "stdout",
     "output_type": "stream",
     "text": [
      "Wrong separation between lines\n"
     ]
    },
    {
     "name": "stderr",
     "output_type": "stream",
     "text": [
      "\r",
      "t:  55%|███████████████████████████▊                       | 265/485 [01:06<00:49,  4.42it/s, now=None]"
     ]
    },
    {
     "name": "stdout",
     "output_type": "stream",
     "text": [
      "Wrong separation between lines\n"
     ]
    },
    {
     "name": "stderr",
     "output_type": "stream",
     "text": [
      "\r",
      "t:  55%|███████████████████████████▉                       | 266/485 [01:06<00:50,  4.37it/s, now=None]"
     ]
    },
    {
     "name": "stdout",
     "output_type": "stream",
     "text": [
      "Wrong separation between lines\n"
     ]
    },
    {
     "name": "stderr",
     "output_type": "stream",
     "text": [
      "t:  55%|████████████████████████████▏                      | 268/485 [01:07<00:49,  4.43it/s, now=None]"
     ]
    },
    {
     "name": "stdout",
     "output_type": "stream",
     "text": [
      "Wrong separation between lines\n"
     ]
    },
    {
     "name": "stderr",
     "output_type": "stream",
     "text": [
      "\r",
      "t:  55%|████████████████████████████▎                      | 269/485 [01:07<00:49,  4.37it/s, now=None]"
     ]
    },
    {
     "name": "stdout",
     "output_type": "stream",
     "text": [
      "Wrong separation between lines\n"
     ]
    },
    {
     "name": "stderr",
     "output_type": "stream",
     "text": [
      "\r",
      "t:  56%|████████████████████████████▍                      | 270/485 [01:07<00:49,  4.34it/s, now=None]"
     ]
    },
    {
     "name": "stdout",
     "output_type": "stream",
     "text": [
      "Wrong separation between lines\n"
     ]
    },
    {
     "name": "stderr",
     "output_type": "stream",
     "text": [
      "t:  56%|████████████████████████████▌                      | 272/485 [01:08<00:49,  4.30it/s, now=None]"
     ]
    },
    {
     "name": "stdout",
     "output_type": "stream",
     "text": [
      "Wrong separation between lines\n"
     ]
    },
    {
     "name": "stderr",
     "output_type": "stream",
     "text": [
      "\r",
      "t:  56%|████████████████████████████▋                      | 273/485 [01:08<00:48,  4.33it/s, now=None]"
     ]
    },
    {
     "name": "stdout",
     "output_type": "stream",
     "text": [
      "Wrong separation between lines\n"
     ]
    },
    {
     "name": "stderr",
     "output_type": "stream",
     "text": [
      "\r",
      "t:  56%|████████████████████████████▊                      | 274/485 [01:08<00:50,  4.22it/s, now=None]"
     ]
    },
    {
     "name": "stdout",
     "output_type": "stream",
     "text": [
      "Wrong separation between lines\n"
     ]
    },
    {
     "name": "stderr",
     "output_type": "stream",
     "text": [
      "\r",
      "t:  57%|████████████████████████████▉                      | 275/485 [01:08<00:49,  4.27it/s, now=None]"
     ]
    },
    {
     "name": "stdout",
     "output_type": "stream",
     "text": [
      "Wrong separation between lines\n"
     ]
    },
    {
     "name": "stderr",
     "output_type": "stream",
     "text": [
      "\r",
      "t:  57%|█████████████████████████████                      | 276/485 [01:09<00:47,  4.44it/s, now=None]"
     ]
    },
    {
     "name": "stdout",
     "output_type": "stream",
     "text": [
      "Wrong separation between lines\n"
     ]
    },
    {
     "name": "stderr",
     "output_type": "stream",
     "text": [
      "t:  58%|█████████████████████████████▍                     | 280/485 [01:10<00:47,  4.29it/s, now=None]"
     ]
    },
    {
     "name": "stdout",
     "output_type": "stream",
     "text": [
      "Wrong separation between lines\n"
     ]
    },
    {
     "name": "stderr",
     "output_type": "stream",
     "text": [
      "t:  58%|█████████████████████████████▋                     | 282/485 [01:10<00:47,  4.29it/s, now=None]"
     ]
    },
    {
     "name": "stdout",
     "output_type": "stream",
     "text": [
      "Wrong separation between lines\n"
     ]
    },
    {
     "name": "stderr",
     "output_type": "stream",
     "text": [
      "t:  59%|█████████████████████████████▊                     | 284/485 [01:10<00:47,  4.21it/s, now=None]"
     ]
    },
    {
     "name": "stdout",
     "output_type": "stream",
     "text": [
      "Wrong separation between lines\n"
     ]
    },
    {
     "name": "stderr",
     "output_type": "stream",
     "text": [
      "t:  59%|██████████████████████████████                     | 286/485 [01:11<00:46,  4.27it/s, now=None]"
     ]
    },
    {
     "name": "stdout",
     "output_type": "stream",
     "text": [
      "Wrong separation between lines\n"
     ]
    },
    {
     "name": "stderr",
     "output_type": "stream",
     "text": [
      "t:  59%|██████████████████████████████▎                    | 288/485 [01:12<00:56,  3.49it/s, now=None]"
     ]
    },
    {
     "name": "stdout",
     "output_type": "stream",
     "text": [
      "Wrong separation between lines\n"
     ]
    },
    {
     "name": "stderr",
     "output_type": "stream",
     "text": [
      "t:  60%|██████████████████████████████▍                    | 290/485 [01:12<00:53,  3.61it/s, now=None]"
     ]
    },
    {
     "name": "stdout",
     "output_type": "stream",
     "text": [
      "Wrong separation between lines\n"
     ]
    },
    {
     "name": "stderr",
     "output_type": "stream",
     "text": [
      "t:  60%|██████████████████████████████▋                    | 292/485 [01:13<00:50,  3.80it/s, now=None]"
     ]
    },
    {
     "name": "stdout",
     "output_type": "stream",
     "text": [
      "Wrong separation between lines\n"
     ]
    },
    {
     "name": "stderr",
     "output_type": "stream",
     "text": [
      "\r",
      "t:  60%|██████████████████████████████▊                    | 293/485 [01:13<00:47,  4.05it/s, now=None]"
     ]
    },
    {
     "name": "stdout",
     "output_type": "stream",
     "text": [
      "Wrong separation between lines\n"
     ]
    },
    {
     "name": "stderr",
     "output_type": "stream",
     "text": [
      "t:  61%|███████████████████████████████                    | 295/485 [01:13<00:49,  3.82it/s, now=None]"
     ]
    },
    {
     "name": "stdout",
     "output_type": "stream",
     "text": [
      "Wrong separation between lines\n"
     ]
    },
    {
     "name": "stderr",
     "output_type": "stream",
     "text": [
      "\r",
      "t:  61%|███████████████████████████████▏                   | 296/485 [01:14<00:49,  3.80it/s, now=None]"
     ]
    },
    {
     "name": "stdout",
     "output_type": "stream",
     "text": [
      "Wrong separation between lines\n"
     ]
    },
    {
     "name": "stderr",
     "output_type": "stream",
     "text": [
      "\r",
      "t:  61%|███████████████████████████████▏                   | 297/485 [01:14<00:50,  3.74it/s, now=None]"
     ]
    },
    {
     "name": "stdout",
     "output_type": "stream",
     "text": [
      "Wrong separation between lines\n"
     ]
    },
    {
     "name": "stderr",
     "output_type": "stream",
     "text": [
      "t:  62%|███████████████████████████████▍                   | 299/485 [01:14<00:49,  3.77it/s, now=None]"
     ]
    },
    {
     "name": "stdout",
     "output_type": "stream",
     "text": [
      "Wrong separation between lines\n"
     ]
    },
    {
     "name": "stderr",
     "output_type": "stream",
     "text": [
      "\r",
      "t:  62%|███████████████████████████████▌                   | 300/485 [01:15<00:46,  3.98it/s, now=None]"
     ]
    },
    {
     "name": "stdout",
     "output_type": "stream",
     "text": [
      "Wrong separation between lines\n"
     ]
    },
    {
     "name": "stderr",
     "output_type": "stream",
     "text": [
      "\r",
      "t:  62%|███████████████████████████████▋                   | 301/485 [01:15<00:44,  4.12it/s, now=None]"
     ]
    },
    {
     "name": "stdout",
     "output_type": "stream",
     "text": [
      "Wrong separation between lines\n"
     ]
    },
    {
     "name": "stderr",
     "output_type": "stream",
     "text": [
      "\r",
      "t:  62%|███████████████████████████████▊                   | 302/485 [01:15<00:43,  4.18it/s, now=None]"
     ]
    },
    {
     "name": "stdout",
     "output_type": "stream",
     "text": [
      "Wrong separation between lines\n"
     ]
    },
    {
     "name": "stderr",
     "output_type": "stream",
     "text": [
      "\r",
      "t:  62%|███████████████████████████████▊                   | 303/485 [01:15<00:43,  4.19it/s, now=None]"
     ]
    },
    {
     "name": "stdout",
     "output_type": "stream",
     "text": [
      "Wrong separation between lines\n"
     ]
    },
    {
     "name": "stderr",
     "output_type": "stream",
     "text": [
      "\r",
      "t:  63%|███████████████████████████████▉                   | 304/485 [01:16<00:40,  4.43it/s, now=None]"
     ]
    },
    {
     "name": "stdout",
     "output_type": "stream",
     "text": [
      "Wrong separation between lines\n"
     ]
    },
    {
     "name": "stderr",
     "output_type": "stream",
     "text": [
      "\r",
      "t:  63%|████████████████████████████████                   | 305/485 [01:16<00:41,  4.33it/s, now=None]"
     ]
    },
    {
     "name": "stdout",
     "output_type": "stream",
     "text": [
      "Wrong separation between lines\n"
     ]
    },
    {
     "name": "stderr",
     "output_type": "stream",
     "text": [
      "\r",
      "t:  63%|████████████████████████████████▏                  | 306/485 [01:16<00:41,  4.32it/s, now=None]"
     ]
    },
    {
     "name": "stdout",
     "output_type": "stream",
     "text": [
      "Wrong separation between lines\n"
     ]
    },
    {
     "name": "stderr",
     "output_type": "stream",
     "text": [
      "\r",
      "t:  63%|████████████████████████████████▎                  | 307/485 [01:16<00:42,  4.19it/s, now=None]"
     ]
    },
    {
     "name": "stdout",
     "output_type": "stream",
     "text": [
      "Wrong separation between lines\n"
     ]
    },
    {
     "name": "stderr",
     "output_type": "stream",
     "text": [
      "\r",
      "t:  64%|████████████████████████████████▍                  | 308/485 [01:17<00:41,  4.22it/s, now=None]"
     ]
    },
    {
     "name": "stdout",
     "output_type": "stream",
     "text": [
      "Wrong separation between lines\n"
     ]
    },
    {
     "name": "stderr",
     "output_type": "stream",
     "text": [
      "\r",
      "t:  64%|████████████████████████████████▍                  | 309/485 [01:17<00:41,  4.28it/s, now=None]"
     ]
    },
    {
     "name": "stdout",
     "output_type": "stream",
     "text": [
      "Wrong separation between lines\n"
     ]
    },
    {
     "name": "stderr",
     "output_type": "stream",
     "text": [
      "\r",
      "t:  64%|████████████████████████████████▌                  | 310/485 [01:17<00:42,  4.13it/s, now=None]"
     ]
    },
    {
     "name": "stdout",
     "output_type": "stream",
     "text": [
      "Wrong separation between lines\n"
     ]
    },
    {
     "name": "stderr",
     "output_type": "stream",
     "text": [
      "\r",
      "t:  64%|████████████████████████████████▋                  | 311/485 [01:17<00:42,  4.07it/s, now=None]"
     ]
    },
    {
     "name": "stdout",
     "output_type": "stream",
     "text": [
      "Wrong separation between lines\n"
     ]
    },
    {
     "name": "stderr",
     "output_type": "stream",
     "text": [
      "\r",
      "t:  64%|████████████████████████████████▊                  | 312/485 [01:18<00:42,  4.04it/s, now=None]"
     ]
    },
    {
     "name": "stdout",
     "output_type": "stream",
     "text": [
      "Wrong separation between lines\n"
     ]
    },
    {
     "name": "stderr",
     "output_type": "stream",
     "text": [
      "\r",
      "t:  65%|████████████████████████████████▉                  | 313/485 [01:18<00:42,  4.03it/s, now=None]"
     ]
    },
    {
     "name": "stdout",
     "output_type": "stream",
     "text": [
      "Wrong separation between lines\n"
     ]
    },
    {
     "name": "stderr",
     "output_type": "stream",
     "text": [
      "\r",
      "t:  65%|█████████████████████████████████                  | 314/485 [01:18<00:40,  4.18it/s, now=None]"
     ]
    },
    {
     "name": "stdout",
     "output_type": "stream",
     "text": [
      "Wrong separation between lines\n"
     ]
    },
    {
     "name": "stderr",
     "output_type": "stream",
     "text": [
      "\r",
      "t:  65%|█████████████████████████████████                  | 315/485 [01:18<00:39,  4.27it/s, now=None]"
     ]
    },
    {
     "name": "stdout",
     "output_type": "stream",
     "text": [
      "Wrong separation between lines\n"
     ]
    },
    {
     "name": "stderr",
     "output_type": "stream",
     "text": [
      "\r",
      "t:  65%|█████████████████████████████████▏                 | 316/485 [01:18<00:40,  4.13it/s, now=None]"
     ]
    },
    {
     "name": "stdout",
     "output_type": "stream",
     "text": [
      "Wrong separation between lines\n"
     ]
    },
    {
     "name": "stderr",
     "output_type": "stream",
     "text": [
      "\r",
      "t:  65%|█████████████████████████████████▎                 | 317/485 [01:19<00:40,  4.16it/s, now=None]"
     ]
    },
    {
     "name": "stdout",
     "output_type": "stream",
     "text": [
      "Wrong separation between lines\n",
      "Wrong separation between lines\n"
     ]
    },
    {
     "name": "stderr",
     "output_type": "stream",
     "text": [
      "t:  66%|█████████████████████████████████▌                 | 319/485 [01:19<00:40,  4.10it/s, now=None]"
     ]
    },
    {
     "name": "stdout",
     "output_type": "stream",
     "text": [
      "Wrong separation between lines\n"
     ]
    },
    {
     "name": "stderr",
     "output_type": "stream",
     "text": [
      "\r",
      "t:  66%|█████████████████████████████████▋                 | 320/485 [01:19<00:39,  4.17it/s, now=None]"
     ]
    },
    {
     "name": "stdout",
     "output_type": "stream",
     "text": [
      "Wrong separation between lines\n"
     ]
    },
    {
     "name": "stderr",
     "output_type": "stream",
     "text": [
      "\r",
      "t:  66%|█████████████████████████████████▊                 | 321/485 [01:20<00:38,  4.22it/s, now=None]"
     ]
    },
    {
     "name": "stdout",
     "output_type": "stream",
     "text": [
      "Wrong separation between lines\n"
     ]
    },
    {
     "name": "stderr",
     "output_type": "stream",
     "text": [
      "\r",
      "t:  66%|█████████████████████████████████▊                 | 322/485 [01:20<00:38,  4.20it/s, now=None]"
     ]
    },
    {
     "name": "stdout",
     "output_type": "stream",
     "text": [
      "Wrong separation between lines\n"
     ]
    },
    {
     "name": "stderr",
     "output_type": "stream",
     "text": [
      "\r",
      "t:  67%|█████████████████████████████████▉                 | 323/485 [01:20<00:38,  4.22it/s, now=None]"
     ]
    },
    {
     "name": "stdout",
     "output_type": "stream",
     "text": [
      "Wrong separation between lines\n"
     ]
    },
    {
     "name": "stderr",
     "output_type": "stream",
     "text": [
      "\r",
      "t:  67%|██████████████████████████████████                 | 324/485 [01:20<00:41,  3.89it/s, now=None]"
     ]
    },
    {
     "name": "stdout",
     "output_type": "stream",
     "text": [
      "Wrong separation between lines\n"
     ]
    },
    {
     "name": "stderr",
     "output_type": "stream",
     "text": [
      "\r",
      "t:  67%|██████████████████████████████████▏                | 325/485 [01:21<00:41,  3.84it/s, now=None]"
     ]
    },
    {
     "name": "stdout",
     "output_type": "stream",
     "text": [
      "Wrong separation between lines\n"
     ]
    },
    {
     "name": "stderr",
     "output_type": "stream",
     "text": [
      "\r",
      "t:  67%|██████████████████████████████████▎                | 326/485 [01:21<00:41,  3.84it/s, now=None]"
     ]
    },
    {
     "name": "stdout",
     "output_type": "stream",
     "text": [
      "Wrong separation between lines\n"
     ]
    },
    {
     "name": "stderr",
     "output_type": "stream",
     "text": [
      "\r",
      "t:  67%|██████████████████████████████████▍                | 327/485 [01:21<00:41,  3.82it/s, now=None]"
     ]
    },
    {
     "name": "stdout",
     "output_type": "stream",
     "text": [
      "Wrong separation between lines\n"
     ]
    },
    {
     "name": "stderr",
     "output_type": "stream",
     "text": [
      "\r",
      "t:  68%|██████████████████████████████████▍                | 328/485 [01:21<00:39,  3.95it/s, now=None]"
     ]
    },
    {
     "name": "stdout",
     "output_type": "stream",
     "text": [
      "Wrong separation between lines\n"
     ]
    },
    {
     "name": "stderr",
     "output_type": "stream",
     "text": [
      "\r",
      "t:  68%|██████████████████████████████████▌                | 329/485 [01:22<00:37,  4.17it/s, now=None]"
     ]
    },
    {
     "name": "stdout",
     "output_type": "stream",
     "text": [
      "Wrong separation between lines\n"
     ]
    },
    {
     "name": "stderr",
     "output_type": "stream",
     "text": [
      "\r",
      "t:  68%|██████████████████████████████████▋                | 330/485 [01:22<00:38,  4.05it/s, now=None]"
     ]
    },
    {
     "name": "stdout",
     "output_type": "stream",
     "text": [
      "Wrong separation between lines\n"
     ]
    },
    {
     "name": "stderr",
     "output_type": "stream",
     "text": [
      "\r",
      "t:  68%|██████████████████████████████████▊                | 331/485 [01:22<00:38,  4.05it/s, now=None]"
     ]
    },
    {
     "name": "stdout",
     "output_type": "stream",
     "text": [
      "Wrong separation between lines\n"
     ]
    },
    {
     "name": "stderr",
     "output_type": "stream",
     "text": [
      "\r",
      "t:  68%|██████████████████████████████████▉                | 332/485 [01:22<00:37,  4.13it/s, now=None]"
     ]
    },
    {
     "name": "stdout",
     "output_type": "stream",
     "text": [
      "Wrong separation between lines\n"
     ]
    },
    {
     "name": "stderr",
     "output_type": "stream",
     "text": [
      "\r",
      "t:  69%|███████████████████████████████████                | 333/485 [01:23<00:35,  4.25it/s, now=None]"
     ]
    },
    {
     "name": "stdout",
     "output_type": "stream",
     "text": [
      "Wrong separation between lines\n"
     ]
    },
    {
     "name": "stderr",
     "output_type": "stream",
     "text": [
      "\r",
      "t:  69%|███████████████████████████████████                | 334/485 [01:23<00:35,  4.22it/s, now=None]"
     ]
    },
    {
     "name": "stdout",
     "output_type": "stream",
     "text": [
      "Wrong separation between lines\n"
     ]
    },
    {
     "name": "stderr",
     "output_type": "stream",
     "text": [
      "\r",
      "t:  69%|███████████████████████████████████▏               | 335/485 [01:23<00:35,  4.20it/s, now=None]"
     ]
    },
    {
     "name": "stdout",
     "output_type": "stream",
     "text": [
      "Wrong separation between lines\n"
     ]
    },
    {
     "name": "stderr",
     "output_type": "stream",
     "text": [
      "\r",
      "t:  69%|███████████████████████████████████▎               | 336/485 [01:23<00:34,  4.26it/s, now=None]"
     ]
    },
    {
     "name": "stdout",
     "output_type": "stream",
     "text": [
      "Wrong separation between lines\n"
     ]
    },
    {
     "name": "stderr",
     "output_type": "stream",
     "text": [
      "\r",
      "t:  69%|███████████████████████████████████▍               | 337/485 [01:24<00:34,  4.28it/s, now=None]"
     ]
    },
    {
     "name": "stdout",
     "output_type": "stream",
     "text": [
      "Wrong separation between lines\n"
     ]
    },
    {
     "name": "stderr",
     "output_type": "stream",
     "text": [
      "\r",
      "t:  70%|███████████████████████████████████▌               | 338/485 [01:24<00:38,  3.83it/s, now=None]"
     ]
    },
    {
     "name": "stdout",
     "output_type": "stream",
     "text": [
      "Wrong separation between lines\n"
     ]
    },
    {
     "name": "stderr",
     "output_type": "stream",
     "text": [
      "\r",
      "t:  70%|███████████████████████████████████▋               | 339/485 [01:24<00:41,  3.56it/s, now=None]"
     ]
    },
    {
     "name": "stdout",
     "output_type": "stream",
     "text": [
      "Wrong separation between lines\n"
     ]
    },
    {
     "name": "stderr",
     "output_type": "stream",
     "text": [
      "\r",
      "t:  70%|███████████████████████████████████▊               | 340/485 [01:24<00:39,  3.71it/s, now=None]"
     ]
    },
    {
     "name": "stdout",
     "output_type": "stream",
     "text": [
      "Wrong separation between lines\n"
     ]
    },
    {
     "name": "stderr",
     "output_type": "stream",
     "text": [
      "\r",
      "t:  70%|███████████████████████████████████▊               | 341/485 [01:25<00:37,  3.88it/s, now=None]"
     ]
    },
    {
     "name": "stdout",
     "output_type": "stream",
     "text": [
      "Wrong separation between lines\n"
     ]
    },
    {
     "name": "stderr",
     "output_type": "stream",
     "text": [
      "\r",
      "t:  71%|███████████████████████████████████▉               | 342/485 [01:25<00:37,  3.86it/s, now=None]"
     ]
    },
    {
     "name": "stdout",
     "output_type": "stream",
     "text": [
      "Wrong separation between lines\n"
     ]
    },
    {
     "name": "stderr",
     "output_type": "stream",
     "text": [
      "\r",
      "t:  71%|████████████████████████████████████               | 343/485 [01:25<00:36,  3.90it/s, now=None]"
     ]
    },
    {
     "name": "stdout",
     "output_type": "stream",
     "text": [
      "Wrong separation between lines\n"
     ]
    },
    {
     "name": "stderr",
     "output_type": "stream",
     "text": [
      "\r",
      "t:  71%|████████████████████████████████████▏              | 344/485 [01:25<00:36,  3.90it/s, now=None]"
     ]
    },
    {
     "name": "stdout",
     "output_type": "stream",
     "text": [
      "Wrong separation between lines\n"
     ]
    },
    {
     "name": "stderr",
     "output_type": "stream",
     "text": [
      "\r",
      "t:  71%|████████████████████████████████████▎              | 345/485 [01:26<00:36,  3.82it/s, now=None]"
     ]
    },
    {
     "name": "stdout",
     "output_type": "stream",
     "text": [
      "Wrong separation between lines\n"
     ]
    },
    {
     "name": "stderr",
     "output_type": "stream",
     "text": [
      "\r",
      "t:  71%|████████████████████████████████████▍              | 346/485 [01:26<00:36,  3.77it/s, now=None]"
     ]
    },
    {
     "name": "stdout",
     "output_type": "stream",
     "text": [
      "Wrong separation between lines\n"
     ]
    },
    {
     "name": "stderr",
     "output_type": "stream",
     "text": [
      "\r",
      "t:  72%|████████████████████████████████████▍              | 347/485 [01:26<00:36,  3.75it/s, now=None]"
     ]
    },
    {
     "name": "stdout",
     "output_type": "stream",
     "text": [
      "Wrong separation between lines\n"
     ]
    },
    {
     "name": "stderr",
     "output_type": "stream",
     "text": [
      "\r",
      "t:  72%|████████████████████████████████████▌              | 348/485 [01:27<00:35,  3.85it/s, now=None]"
     ]
    },
    {
     "name": "stdout",
     "output_type": "stream",
     "text": [
      "Wrong separation between lines\n"
     ]
    },
    {
     "name": "stderr",
     "output_type": "stream",
     "text": [
      "\r",
      "t:  72%|████████████████████████████████████▋              | 349/485 [01:27<00:34,  3.93it/s, now=None]"
     ]
    },
    {
     "name": "stdout",
     "output_type": "stream",
     "text": [
      "Wrong separation between lines\n"
     ]
    },
    {
     "name": "stderr",
     "output_type": "stream",
     "text": [
      "\r",
      "t:  72%|████████████████████████████████████▊              | 350/485 [01:27<00:34,  3.93it/s, now=None]"
     ]
    },
    {
     "name": "stdout",
     "output_type": "stream",
     "text": [
      "Wrong separation between lines\n"
     ]
    },
    {
     "name": "stderr",
     "output_type": "stream",
     "text": [
      "\r",
      "t:  72%|████████████████████████████████████▉              | 351/485 [01:27<00:34,  3.88it/s, now=None]"
     ]
    },
    {
     "name": "stdout",
     "output_type": "stream",
     "text": [
      "Wrong separation between lines\n"
     ]
    },
    {
     "name": "stderr",
     "output_type": "stream",
     "text": [
      "\r",
      "t:  73%|█████████████████████████████████████              | 352/485 [01:28<00:34,  3.88it/s, now=None]"
     ]
    },
    {
     "name": "stdout",
     "output_type": "stream",
     "text": [
      "Wrong separation between lines\n"
     ]
    },
    {
     "name": "stderr",
     "output_type": "stream",
     "text": [
      "\r",
      "t:  73%|█████████████████████████████████████              | 353/485 [01:28<00:34,  3.82it/s, now=None]"
     ]
    },
    {
     "name": "stdout",
     "output_type": "stream",
     "text": [
      "Wrong separation between lines\n"
     ]
    },
    {
     "name": "stderr",
     "output_type": "stream",
     "text": [
      "\r",
      "t:  73%|█████████████████████████████████████▏             | 354/485 [01:28<00:34,  3.85it/s, now=None]"
     ]
    },
    {
     "name": "stdout",
     "output_type": "stream",
     "text": [
      "Wrong separation between lines\n"
     ]
    },
    {
     "name": "stderr",
     "output_type": "stream",
     "text": [
      "\r",
      "t:  73%|█████████████████████████████████████▎             | 355/485 [01:28<00:34,  3.78it/s, now=None]"
     ]
    },
    {
     "name": "stdout",
     "output_type": "stream",
     "text": [
      "Wrong separation between lines\n"
     ]
    },
    {
     "name": "stderr",
     "output_type": "stream",
     "text": [
      "\r",
      "t:  73%|█████████████████████████████████████▍             | 356/485 [01:29<00:33,  3.84it/s, now=None]"
     ]
    },
    {
     "name": "stdout",
     "output_type": "stream",
     "text": [
      "Wrong separation between lines\n"
     ]
    },
    {
     "name": "stderr",
     "output_type": "stream",
     "text": [
      "\r",
      "t:  74%|█████████████████████████████████████▌             | 357/485 [01:29<00:32,  3.93it/s, now=None]"
     ]
    },
    {
     "name": "stdout",
     "output_type": "stream",
     "text": [
      "Wrong separation between lines\n"
     ]
    },
    {
     "name": "stderr",
     "output_type": "stream",
     "text": [
      "\r",
      "t:  74%|█████████████████████████████████████▋             | 358/485 [01:29<00:31,  3.97it/s, now=None]"
     ]
    },
    {
     "name": "stdout",
     "output_type": "stream",
     "text": [
      "Wrong separation between lines\n"
     ]
    },
    {
     "name": "stderr",
     "output_type": "stream",
     "text": [
      "\r",
      "t:  74%|█████████████████████████████████████▊             | 359/485 [01:29<00:32,  3.92it/s, now=None]"
     ]
    },
    {
     "name": "stdout",
     "output_type": "stream",
     "text": [
      "Wrong separation between lines\n"
     ]
    },
    {
     "name": "stderr",
     "output_type": "stream",
     "text": [
      "\r",
      "t:  74%|█████████████████████████████████████▊             | 360/485 [01:30<00:31,  3.98it/s, now=None]"
     ]
    },
    {
     "name": "stdout",
     "output_type": "stream",
     "text": [
      "Wrong separation between lines\n"
     ]
    },
    {
     "name": "stderr",
     "output_type": "stream",
     "text": [
      "\r",
      "t:  74%|█████████████████████████████████████▉             | 361/485 [01:30<00:30,  4.02it/s, now=None]"
     ]
    },
    {
     "name": "stdout",
     "output_type": "stream",
     "text": [
      "Wrong separation between lines\n"
     ]
    },
    {
     "name": "stderr",
     "output_type": "stream",
     "text": [
      "\r",
      "t:  75%|██████████████████████████████████████             | 362/485 [01:30<00:29,  4.13it/s, now=None]"
     ]
    },
    {
     "name": "stdout",
     "output_type": "stream",
     "text": [
      "Wrong separation between lines\n"
     ]
    },
    {
     "name": "stderr",
     "output_type": "stream",
     "text": [
      "\r",
      "t:  75%|██████████████████████████████████████▏            | 363/485 [01:30<00:29,  4.20it/s, now=None]"
     ]
    },
    {
     "name": "stdout",
     "output_type": "stream",
     "text": [
      "Wrong separation between lines\n"
     ]
    },
    {
     "name": "stderr",
     "output_type": "stream",
     "text": [
      "\r",
      "t:  75%|██████████████████████████████████████▎            | 364/485 [01:31<00:28,  4.20it/s, now=None]"
     ]
    },
    {
     "name": "stdout",
     "output_type": "stream",
     "text": [
      "Wrong separation between lines\n"
     ]
    },
    {
     "name": "stderr",
     "output_type": "stream",
     "text": [
      "\r",
      "t:  75%|██████████████████████████████████████▍            | 365/485 [01:31<00:27,  4.31it/s, now=None]"
     ]
    },
    {
     "name": "stdout",
     "output_type": "stream",
     "text": [
      "Wrong separation between lines\n"
     ]
    },
    {
     "name": "stderr",
     "output_type": "stream",
     "text": [
      "\r",
      "t:  75%|██████████████████████████████████████▍            | 366/485 [01:31<00:27,  4.37it/s, now=None]"
     ]
    },
    {
     "name": "stdout",
     "output_type": "stream",
     "text": [
      "Wrong separation between lines\n"
     ]
    },
    {
     "name": "stderr",
     "output_type": "stream",
     "text": [
      "\r",
      "t:  76%|██████████████████████████████████████▌            | 367/485 [01:31<00:27,  4.31it/s, now=None]"
     ]
    },
    {
     "name": "stdout",
     "output_type": "stream",
     "text": [
      "Wrong separation between lines\n"
     ]
    },
    {
     "name": "stderr",
     "output_type": "stream",
     "text": [
      "\r",
      "t:  76%|██████████████████████████████████████▋            | 368/485 [01:31<00:26,  4.36it/s, now=None]"
     ]
    },
    {
     "name": "stdout",
     "output_type": "stream",
     "text": [
      "Wrong separation between lines\n",
      "Wrong separation between lines\n"
     ]
    },
    {
     "name": "stderr",
     "output_type": "stream",
     "text": [
      "t:  76%|██████████████████████████████████████▉            | 370/485 [01:32<00:25,  4.48it/s, now=None]"
     ]
    },
    {
     "name": "stdout",
     "output_type": "stream",
     "text": [
      "Wrong separation between lines\n"
     ]
    },
    {
     "name": "stderr",
     "output_type": "stream",
     "text": [
      "\r",
      "t:  76%|███████████████████████████████████████            | 371/485 [01:32<00:25,  4.39it/s, now=None]"
     ]
    },
    {
     "name": "stdout",
     "output_type": "stream",
     "text": [
      "Wrong separation between lines\n"
     ]
    },
    {
     "name": "stderr",
     "output_type": "stream",
     "text": [
      "\r",
      "t:  77%|███████████████████████████████████████            | 372/485 [01:32<00:26,  4.30it/s, now=None]"
     ]
    },
    {
     "name": "stdout",
     "output_type": "stream",
     "text": [
      "Wrong separation between lines\n"
     ]
    },
    {
     "name": "stderr",
     "output_type": "stream",
     "text": [
      "\r",
      "t:  77%|███████████████████████████████████████▏           | 373/485 [01:33<00:26,  4.29it/s, now=None]"
     ]
    },
    {
     "name": "stdout",
     "output_type": "stream",
     "text": [
      "Wrong separation between lines\n"
     ]
    },
    {
     "name": "stderr",
     "output_type": "stream",
     "text": [
      "\r",
      "t:  77%|███████████████████████████████████████▎           | 374/485 [01:33<00:26,  4.25it/s, now=None]"
     ]
    },
    {
     "name": "stdout",
     "output_type": "stream",
     "text": [
      "Wrong separation between lines\n"
     ]
    },
    {
     "name": "stderr",
     "output_type": "stream",
     "text": [
      "\r",
      "t:  77%|███████████████████████████████████████▍           | 375/485 [01:33<00:26,  4.23it/s, now=None]"
     ]
    },
    {
     "name": "stdout",
     "output_type": "stream",
     "text": [
      "Wrong separation between lines\n"
     ]
    },
    {
     "name": "stderr",
     "output_type": "stream",
     "text": [
      "\r",
      "t:  78%|███████████████████████████████████████▌           | 376/485 [01:33<00:26,  4.19it/s, now=None]"
     ]
    },
    {
     "name": "stdout",
     "output_type": "stream",
     "text": [
      "Wrong separation between lines\n"
     ]
    },
    {
     "name": "stderr",
     "output_type": "stream",
     "text": [
      "t:  78%|███████████████████████████████████████▊           | 379/485 [01:34<00:24,  4.27it/s, now=None]"
     ]
    },
    {
     "name": "stdout",
     "output_type": "stream",
     "text": [
      "Wrong separation between lines\n"
     ]
    },
    {
     "name": "stderr",
     "output_type": "stream",
     "text": [
      "\r",
      "t:  78%|███████████████████████████████████████▉           | 380/485 [01:34<00:24,  4.29it/s, now=None]"
     ]
    },
    {
     "name": "stdout",
     "output_type": "stream",
     "text": [
      "Wrong separation between lines\n"
     ]
    },
    {
     "name": "stderr",
     "output_type": "stream",
     "text": [
      "\r",
      "t:  79%|████████████████████████████████████████           | 381/485 [01:34<00:24,  4.30it/s, now=None]"
     ]
    },
    {
     "name": "stdout",
     "output_type": "stream",
     "text": [
      "Wrong separation between lines\n"
     ]
    },
    {
     "name": "stderr",
     "output_type": "stream",
     "text": [
      "\r",
      "t:  79%|████████████████████████████████████████▏          | 382/485 [01:35<00:23,  4.35it/s, now=None]"
     ]
    },
    {
     "name": "stdout",
     "output_type": "stream",
     "text": [
      "Wrong separation between lines\n"
     ]
    },
    {
     "name": "stderr",
     "output_type": "stream",
     "text": [
      "\r",
      "t:  79%|████████████████████████████████████████▎          | 383/485 [01:35<00:23,  4.38it/s, now=None]"
     ]
    },
    {
     "name": "stdout",
     "output_type": "stream",
     "text": [
      "Wrong separation between lines\n"
     ]
    },
    {
     "name": "stderr",
     "output_type": "stream",
     "text": [
      "\r",
      "t:  79%|████████████████████████████████████████▍          | 384/485 [01:35<00:22,  4.47it/s, now=None]"
     ]
    },
    {
     "name": "stdout",
     "output_type": "stream",
     "text": [
      "Wrong separation between lines\n"
     ]
    },
    {
     "name": "stderr",
     "output_type": "stream",
     "text": [
      "\r",
      "t:  79%|████████████████████████████████████████▍          | 385/485 [01:35<00:23,  4.30it/s, now=None]"
     ]
    },
    {
     "name": "stdout",
     "output_type": "stream",
     "text": [
      "Wrong separation between lines\n"
     ]
    },
    {
     "name": "stderr",
     "output_type": "stream",
     "text": [
      "\r",
      "t:  80%|████████████████████████████████████████▌          | 386/485 [01:36<00:22,  4.43it/s, now=None]"
     ]
    },
    {
     "name": "stdout",
     "output_type": "stream",
     "text": [
      "Wrong separation between lines\n"
     ]
    },
    {
     "name": "stderr",
     "output_type": "stream",
     "text": [
      "\r",
      "t:  80%|████████████████████████████████████████▋          | 387/485 [01:36<00:22,  4.37it/s, now=None]"
     ]
    },
    {
     "name": "stdout",
     "output_type": "stream",
     "text": [
      "Wrong separation between lines\n"
     ]
    },
    {
     "name": "stderr",
     "output_type": "stream",
     "text": [
      "\r",
      "t:  80%|████████████████████████████████████████▊          | 388/485 [01:36<00:22,  4.35it/s, now=None]"
     ]
    },
    {
     "name": "stdout",
     "output_type": "stream",
     "text": [
      "Wrong separation between lines\n"
     ]
    },
    {
     "name": "stderr",
     "output_type": "stream",
     "text": [
      "\r",
      "t:  80%|████████████████████████████████████████▉          | 389/485 [01:36<00:22,  4.31it/s, now=None]"
     ]
    },
    {
     "name": "stdout",
     "output_type": "stream",
     "text": [
      "Wrong separation between lines\n"
     ]
    },
    {
     "name": "stderr",
     "output_type": "stream",
     "text": [
      "\r",
      "t:  80%|█████████████████████████████████████████          | 390/485 [01:37<00:22,  4.13it/s, now=None]"
     ]
    },
    {
     "name": "stdout",
     "output_type": "stream",
     "text": [
      "Wrong separation between lines\n"
     ]
    },
    {
     "name": "stderr",
     "output_type": "stream",
     "text": [
      "\r",
      "t:  81%|█████████████████████████████████████████          | 391/485 [01:37<00:23,  4.06it/s, now=None]"
     ]
    },
    {
     "name": "stdout",
     "output_type": "stream",
     "text": [
      "Wrong separation between lines\n"
     ]
    },
    {
     "name": "stderr",
     "output_type": "stream",
     "text": [
      "\r",
      "t:  81%|█████████████████████████████████████████▏         | 392/485 [01:37<00:22,  4.14it/s, now=None]"
     ]
    },
    {
     "name": "stdout",
     "output_type": "stream",
     "text": [
      "Wrong separation between lines\n"
     ]
    },
    {
     "name": "stderr",
     "output_type": "stream",
     "text": [
      "\r",
      "t:  81%|█████████████████████████████████████████▎         | 393/485 [01:37<00:21,  4.33it/s, now=None]"
     ]
    },
    {
     "name": "stdout",
     "output_type": "stream",
     "text": [
      "Wrong separation between lines\n"
     ]
    },
    {
     "name": "stderr",
     "output_type": "stream",
     "text": [
      "\r",
      "t:  81%|█████████████████████████████████████████▍         | 394/485 [01:38<00:22,  4.00it/s, now=None]"
     ]
    },
    {
     "name": "stdout",
     "output_type": "stream",
     "text": [
      "Wrong separation between lines\n"
     ]
    },
    {
     "name": "stderr",
     "output_type": "stream",
     "text": [
      "\r",
      "t:  81%|█████████████████████████████████████████▌         | 395/485 [01:38<00:23,  3.85it/s, now=None]"
     ]
    },
    {
     "name": "stdout",
     "output_type": "stream",
     "text": [
      "Wrong separation between lines\n"
     ]
    },
    {
     "name": "stderr",
     "output_type": "stream",
     "text": [
      "\r",
      "t:  82%|█████████████████████████████████████████▋         | 396/485 [01:38<00:22,  4.03it/s, now=None]"
     ]
    },
    {
     "name": "stdout",
     "output_type": "stream",
     "text": [
      "Wrong separation between lines\n"
     ]
    },
    {
     "name": "stderr",
     "output_type": "stream",
     "text": [
      "\r",
      "t:  82%|█████████████████████████████████████████▋         | 397/485 [01:38<00:21,  4.12it/s, now=None]"
     ]
    },
    {
     "name": "stdout",
     "output_type": "stream",
     "text": [
      "Wrong separation between lines\n"
     ]
    },
    {
     "name": "stderr",
     "output_type": "stream",
     "text": [
      "\r",
      "t:  82%|█████████████████████████████████████████▊         | 398/485 [01:39<00:33,  2.62it/s, now=None]"
     ]
    },
    {
     "name": "stdout",
     "output_type": "stream",
     "text": [
      "Wrong separation between lines\n"
     ]
    },
    {
     "name": "stderr",
     "output_type": "stream",
     "text": [
      "\r",
      "t:  82%|█████████████████████████████████████████▉         | 399/485 [01:39<00:32,  2.67it/s, now=None]"
     ]
    },
    {
     "name": "stdout",
     "output_type": "stream",
     "text": [
      "Wrong separation between lines\n"
     ]
    },
    {
     "name": "stderr",
     "output_type": "stream",
     "text": [
      "\r",
      "t:  82%|██████████████████████████████████████████         | 400/485 [01:40<00:30,  2.77it/s, now=None]"
     ]
    },
    {
     "name": "stdout",
     "output_type": "stream",
     "text": [
      "Wrong separation between lines\n"
     ]
    },
    {
     "name": "stderr",
     "output_type": "stream",
     "text": [
      "\r",
      "t:  83%|██████████████████████████████████████████▏        | 401/485 [01:40<00:27,  3.01it/s, now=None]"
     ]
    },
    {
     "name": "stdout",
     "output_type": "stream",
     "text": [
      "Wrong separation between lines\n"
     ]
    },
    {
     "name": "stderr",
     "output_type": "stream",
     "text": [
      "\r",
      "t:  83%|██████████████████████████████████████████▎        | 402/485 [01:40<00:25,  3.24it/s, now=None]"
     ]
    },
    {
     "name": "stdout",
     "output_type": "stream",
     "text": [
      "Wrong separation between lines\n"
     ]
    },
    {
     "name": "stderr",
     "output_type": "stream",
     "text": [
      "\r",
      "t:  83%|██████████████████████████████████████████▍        | 403/485 [01:40<00:23,  3.51it/s, now=None]"
     ]
    },
    {
     "name": "stdout",
     "output_type": "stream",
     "text": [
      "Wrong separation between lines\n"
     ]
    },
    {
     "name": "stderr",
     "output_type": "stream",
     "text": [
      "\r",
      "t:  83%|██████████████████████████████████████████▍        | 404/485 [01:41<00:21,  3.81it/s, now=None]"
     ]
    },
    {
     "name": "stdout",
     "output_type": "stream",
     "text": [
      "Wrong separation between lines\n"
     ]
    },
    {
     "name": "stderr",
     "output_type": "stream",
     "text": [
      "\r",
      "t:  84%|██████████████████████████████████████████▌        | 405/485 [01:41<00:20,  3.97it/s, now=None]"
     ]
    },
    {
     "name": "stdout",
     "output_type": "stream",
     "text": [
      "Wrong separation between lines\n"
     ]
    },
    {
     "name": "stderr",
     "output_type": "stream",
     "text": [
      "\r",
      "t:  84%|██████████████████████████████████████████▋        | 406/485 [01:41<00:22,  3.57it/s, now=None]"
     ]
    },
    {
     "name": "stdout",
     "output_type": "stream",
     "text": [
      "Wrong separation between lines\n"
     ]
    },
    {
     "name": "stderr",
     "output_type": "stream",
     "text": [
      "\r",
      "t:  84%|██████████████████████████████████████████▊        | 407/485 [01:41<00:21,  3.56it/s, now=None]"
     ]
    },
    {
     "name": "stdout",
     "output_type": "stream",
     "text": [
      "Wrong separation between lines\n"
     ]
    },
    {
     "name": "stderr",
     "output_type": "stream",
     "text": [
      "\r",
      "t:  84%|██████████████████████████████████████████▉        | 408/485 [01:42<00:20,  3.80it/s, now=None]"
     ]
    },
    {
     "name": "stdout",
     "output_type": "stream",
     "text": [
      "Wrong separation between lines\n"
     ]
    },
    {
     "name": "stderr",
     "output_type": "stream",
     "text": [
      "\r",
      "t:  84%|███████████████████████████████████████████        | 409/485 [01:42<00:19,  3.85it/s, now=None]"
     ]
    },
    {
     "name": "stdout",
     "output_type": "stream",
     "text": [
      "Wrong separation between lines\n"
     ]
    },
    {
     "name": "stderr",
     "output_type": "stream",
     "text": [
      "\r",
      "t:  85%|███████████████████████████████████████████        | 410/485 [01:42<00:19,  3.85it/s, now=None]"
     ]
    },
    {
     "name": "stdout",
     "output_type": "stream",
     "text": [
      "Wrong separation between lines\n"
     ]
    },
    {
     "name": "stderr",
     "output_type": "stream",
     "text": [
      "\r",
      "t:  85%|███████████████████████████████████████████▏       | 411/485 [01:42<00:19,  3.79it/s, now=None]"
     ]
    },
    {
     "name": "stdout",
     "output_type": "stream",
     "text": [
      "Wrong separation between lines\n"
     ]
    },
    {
     "name": "stderr",
     "output_type": "stream",
     "text": [
      "t:  85%|███████████████████████████████████████████▍       | 413/485 [01:43<00:18,  3.88it/s, now=None]"
     ]
    },
    {
     "name": "stdout",
     "output_type": "stream",
     "text": [
      "Wrong separation between lines\n"
     ]
    },
    {
     "name": "stderr",
     "output_type": "stream",
     "text": [
      "\r",
      "t:  85%|███████████████████████████████████████████▌       | 414/485 [01:43<00:18,  3.80it/s, now=None]"
     ]
    },
    {
     "name": "stdout",
     "output_type": "stream",
     "text": [
      "Wrong separation between lines\n"
     ]
    },
    {
     "name": "stderr",
     "output_type": "stream",
     "text": [
      "\r",
      "t:  86%|███████████████████████████████████████████▋       | 415/485 [01:44<00:18,  3.83it/s, now=None]"
     ]
    },
    {
     "name": "stdout",
     "output_type": "stream",
     "text": [
      "Wrong separation between lines\n"
     ]
    },
    {
     "name": "stderr",
     "output_type": "stream",
     "text": [
      "t:  86%|███████████████████████████████████████████▊       | 417/485 [01:44<00:17,  3.83it/s, now=None]"
     ]
    },
    {
     "name": "stdout",
     "output_type": "stream",
     "text": [
      "Wrong separation between lines\n"
     ]
    },
    {
     "name": "stderr",
     "output_type": "stream",
     "text": [
      "t:  86%|████████████████████████████████████████████       | 419/485 [01:45<00:17,  3.80it/s, now=None]"
     ]
    },
    {
     "name": "stdout",
     "output_type": "stream",
     "text": [
      "Wrong separation between lines\n"
     ]
    },
    {
     "name": "stderr",
     "output_type": "stream",
     "text": [
      "\r",
      "t:  87%|████████████████████████████████████████████▏      | 420/485 [01:45<00:16,  3.93it/s, now=None]"
     ]
    },
    {
     "name": "stdout",
     "output_type": "stream",
     "text": [
      "Wrong separation between lines\n"
     ]
    },
    {
     "name": "stderr",
     "output_type": "stream",
     "text": [
      "\r",
      "t:  87%|████████████████████████████████████████████▎      | 421/485 [01:45<00:15,  4.02it/s, now=None]"
     ]
    },
    {
     "name": "stdout",
     "output_type": "stream",
     "text": [
      "Wrong separation between lines\n"
     ]
    },
    {
     "name": "stderr",
     "output_type": "stream",
     "text": [
      "\r",
      "t:  87%|████████████████████████████████████████████▍      | 422/485 [01:45<00:16,  3.86it/s, now=None]"
     ]
    },
    {
     "name": "stdout",
     "output_type": "stream",
     "text": [
      "Wrong separation between lines\n"
     ]
    },
    {
     "name": "stderr",
     "output_type": "stream",
     "text": [
      "\r",
      "t:  87%|████████████████████████████████████████████▍      | 423/485 [01:46<00:15,  3.99it/s, now=None]"
     ]
    },
    {
     "name": "stdout",
     "output_type": "stream",
     "text": [
      "Wrong separation between lines\n"
     ]
    },
    {
     "name": "stderr",
     "output_type": "stream",
     "text": [
      "\r",
      "t:  87%|████████████████████████████████████████████▌      | 424/485 [01:46<00:15,  3.99it/s, now=None]"
     ]
    },
    {
     "name": "stdout",
     "output_type": "stream",
     "text": [
      "Wrong separation between lines\n"
     ]
    },
    {
     "name": "stderr",
     "output_type": "stream",
     "text": [
      "\r",
      "t:  88%|████████████████████████████████████████████▋      | 425/485 [01:46<00:14,  4.05it/s, now=None]"
     ]
    },
    {
     "name": "stdout",
     "output_type": "stream",
     "text": [
      "Wrong separation between lines\n"
     ]
    },
    {
     "name": "stderr",
     "output_type": "stream",
     "text": [
      "\r",
      "t:  88%|████████████████████████████████████████████▊      | 426/485 [01:46<00:14,  3.98it/s, now=None]"
     ]
    },
    {
     "name": "stdout",
     "output_type": "stream",
     "text": [
      "Wrong separation between lines\n"
     ]
    },
    {
     "name": "stderr",
     "output_type": "stream",
     "text": [
      "\r",
      "t:  88%|████████████████████████████████████████████▉      | 427/485 [01:47<00:14,  3.96it/s, now=None]"
     ]
    },
    {
     "name": "stdout",
     "output_type": "stream",
     "text": [
      "Wrong separation between lines\n"
     ]
    },
    {
     "name": "stderr",
     "output_type": "stream",
     "text": [
      "\r",
      "t:  88%|█████████████████████████████████████████████      | 428/485 [01:47<00:14,  3.99it/s, now=None]"
     ]
    },
    {
     "name": "stdout",
     "output_type": "stream",
     "text": [
      "Wrong separation between lines\n"
     ]
    },
    {
     "name": "stderr",
     "output_type": "stream",
     "text": [
      "\r",
      "t:  88%|█████████████████████████████████████████████      | 429/485 [01:47<00:14,  3.92it/s, now=None]"
     ]
    },
    {
     "name": "stdout",
     "output_type": "stream",
     "text": [
      "Wrong separation between lines\n"
     ]
    },
    {
     "name": "stderr",
     "output_type": "stream",
     "text": [
      "\r",
      "t:  89%|█████████████████████████████████████████████▏     | 430/485 [01:47<00:14,  3.92it/s, now=None]"
     ]
    },
    {
     "name": "stdout",
     "output_type": "stream",
     "text": [
      "Wrong separation between lines\n"
     ]
    },
    {
     "name": "stderr",
     "output_type": "stream",
     "text": [
      "\r",
      "t:  89%|█████████████████████████████████████████████▎     | 431/485 [01:48<00:13,  3.96it/s, now=None]"
     ]
    },
    {
     "name": "stdout",
     "output_type": "stream",
     "text": [
      "Wrong separation between lines\n"
     ]
    },
    {
     "name": "stderr",
     "output_type": "stream",
     "text": [
      "\r",
      "t:  89%|█████████████████████████████████████████████▍     | 432/485 [01:48<00:13,  3.94it/s, now=None]"
     ]
    },
    {
     "name": "stdout",
     "output_type": "stream",
     "text": [
      "Wrong separation between lines\n"
     ]
    },
    {
     "name": "stderr",
     "output_type": "stream",
     "text": [
      "t:  89%|█████████████████████████████████████████████▋     | 434/485 [01:48<00:13,  3.85it/s, now=None]"
     ]
    },
    {
     "name": "stdout",
     "output_type": "stream",
     "text": [
      "Wrong separation between lines\n"
     ]
    },
    {
     "name": "stderr",
     "output_type": "stream",
     "text": [
      "t:  90%|██████████████████████████████████████████████     | 438/485 [01:49<00:11,  4.10it/s, now=None]"
     ]
    },
    {
     "name": "stdout",
     "output_type": "stream",
     "text": [
      "Wrong separation between lines\n"
     ]
    },
    {
     "name": "stderr",
     "output_type": "stream",
     "text": [
      "\r",
      "t:  91%|██████████████████████████████████████████████▏    | 439/485 [01:50<00:10,  4.25it/s, now=None]"
     ]
    },
    {
     "name": "stdout",
     "output_type": "stream",
     "text": [
      "Wrong separation between lines\n"
     ]
    },
    {
     "name": "stderr",
     "output_type": "stream",
     "text": [
      "\r",
      "t:  91%|██████████████████████████████████████████████▎    | 440/485 [01:50<00:10,  4.26it/s, now=None]"
     ]
    },
    {
     "name": "stdout",
     "output_type": "stream",
     "text": [
      "Wrong separation between lines\n",
      "Wrong separation between lines\n"
     ]
    },
    {
     "name": "stderr",
     "output_type": "stream",
     "text": [
      "t:  91%|██████████████████████████████████████████████▍    | 442/485 [01:50<00:09,  4.34it/s, now=None]"
     ]
    },
    {
     "name": "stdout",
     "output_type": "stream",
     "text": [
      "Wrong separation between lines\n"
     ]
    },
    {
     "name": "stderr",
     "output_type": "stream",
     "text": [
      "\r",
      "t:  91%|██████████████████████████████████████████████▌    | 443/485 [01:50<00:09,  4.31it/s, now=None]"
     ]
    },
    {
     "name": "stdout",
     "output_type": "stream",
     "text": [
      "Wrong separation between lines\n"
     ]
    },
    {
     "name": "stderr",
     "output_type": "stream",
     "text": [
      "\r",
      "t:  92%|██████████████████████████████████████████████▋    | 444/485 [01:51<00:09,  4.27it/s, now=None]"
     ]
    },
    {
     "name": "stdout",
     "output_type": "stream",
     "text": [
      "Wrong separation between lines\n"
     ]
    },
    {
     "name": "stderr",
     "output_type": "stream",
     "text": [
      "\r",
      "t:  92%|██████████████████████████████████████████████▊    | 445/485 [01:51<00:09,  4.18it/s, now=None]"
     ]
    },
    {
     "name": "stdout",
     "output_type": "stream",
     "text": [
      "Wrong separation between lines\n",
      "Wrong separation between lines\n"
     ]
    },
    {
     "name": "stderr",
     "output_type": "stream",
     "text": [
      "t:  92%|███████████████████████████████████████████████    | 447/485 [01:51<00:08,  4.35it/s, now=None]"
     ]
    },
    {
     "name": "stdout",
     "output_type": "stream",
     "text": [
      "Wrong separation between lines\n"
     ]
    },
    {
     "name": "stderr",
     "output_type": "stream",
     "text": [
      "\r",
      "t:  92%|███████████████████████████████████████████████    | 448/485 [01:52<00:08,  4.29it/s, now=None]"
     ]
    },
    {
     "name": "stdout",
     "output_type": "stream",
     "text": [
      "Wrong separation between lines\n"
     ]
    },
    {
     "name": "stderr",
     "output_type": "stream",
     "text": [
      "\r",
      "t:  93%|███████████████████████████████████████████████▏   | 449/485 [01:52<00:08,  4.34it/s, now=None]"
     ]
    },
    {
     "name": "stdout",
     "output_type": "stream",
     "text": [
      "Wrong separation between lines\n"
     ]
    },
    {
     "name": "stderr",
     "output_type": "stream",
     "text": [
      "\r",
      "t:  93%|███████████████████████████████████████████████▎   | 450/485 [01:52<00:07,  4.40it/s, now=None]"
     ]
    },
    {
     "name": "stdout",
     "output_type": "stream",
     "text": [
      "Wrong separation between lines\n"
     ]
    },
    {
     "name": "stderr",
     "output_type": "stream",
     "text": [
      "\r",
      "t:  93%|███████████████████████████████████████████████▍   | 451/485 [01:52<00:07,  4.41it/s, now=None]"
     ]
    },
    {
     "name": "stdout",
     "output_type": "stream",
     "text": [
      "Discarded X point\n",
      "Wrong separation between lines\n"
     ]
    },
    {
     "name": "stderr",
     "output_type": "stream",
     "text": [
      "\r",
      "t:  93%|███████████████████████████████████████████████▌   | 452/485 [01:52<00:07,  4.41it/s, now=None]"
     ]
    },
    {
     "name": "stdout",
     "output_type": "stream",
     "text": [
      "Wrong separation between lines\n"
     ]
    },
    {
     "name": "stderr",
     "output_type": "stream",
     "text": [
      "\r",
      "t:  93%|███████████████████████████████████████████████▋   | 453/485 [01:53<00:07,  4.36it/s, now=None]"
     ]
    },
    {
     "name": "stdout",
     "output_type": "stream",
     "text": [
      "Wrong separation between lines\n"
     ]
    },
    {
     "name": "stderr",
     "output_type": "stream",
     "text": [
      "\r",
      "t:  94%|███████████████████████████████████████████████▋   | 454/485 [01:53<00:07,  4.36it/s, now=None]"
     ]
    },
    {
     "name": "stdout",
     "output_type": "stream",
     "text": [
      "Wrong separation between lines\n"
     ]
    },
    {
     "name": "stderr",
     "output_type": "stream",
     "text": [
      "\r",
      "t:  94%|███████████████████████████████████████████████▊   | 455/485 [01:53<00:06,  4.45it/s, now=None]"
     ]
    },
    {
     "name": "stdout",
     "output_type": "stream",
     "text": [
      "Wrong separation between lines\n"
     ]
    },
    {
     "name": "stderr",
     "output_type": "stream",
     "text": [
      "\r",
      "t:  94%|███████████████████████████████████████████████▉   | 456/485 [01:53<00:06,  4.40it/s, now=None]"
     ]
    },
    {
     "name": "stdout",
     "output_type": "stream",
     "text": [
      "Wrong separation between lines\n"
     ]
    },
    {
     "name": "stderr",
     "output_type": "stream",
     "text": [
      "\r",
      "t:  94%|████████████████████████████████████████████████   | 457/485 [01:54<00:06,  4.26it/s, now=None]"
     ]
    },
    {
     "name": "stdout",
     "output_type": "stream",
     "text": [
      "Wrong separation between lines\n"
     ]
    },
    {
     "name": "stderr",
     "output_type": "stream",
     "text": [
      "\r",
      "t:  94%|████████████████████████████████████████████████▏  | 458/485 [01:54<00:06,  4.22it/s, now=None]"
     ]
    },
    {
     "name": "stdout",
     "output_type": "stream",
     "text": [
      "Wrong separation between lines\n"
     ]
    },
    {
     "name": "stderr",
     "output_type": "stream",
     "text": [
      "\r",
      "t:  95%|████████████████████████████████████████████████▎  | 459/485 [01:54<00:06,  4.33it/s, now=None]"
     ]
    },
    {
     "name": "stdout",
     "output_type": "stream",
     "text": [
      "Wrong separation between lines\n"
     ]
    },
    {
     "name": "stderr",
     "output_type": "stream",
     "text": [
      "\r",
      "t:  95%|████████████████████████████████████████████████▎  | 460/485 [01:54<00:05,  4.36it/s, now=None]"
     ]
    },
    {
     "name": "stdout",
     "output_type": "stream",
     "text": [
      "Wrong separation between lines\n"
     ]
    },
    {
     "name": "stderr",
     "output_type": "stream",
     "text": [
      "\r",
      "t:  95%|████████████████████████████████████████████████▍  | 461/485 [01:55<00:05,  4.28it/s, now=None]"
     ]
    },
    {
     "name": "stdout",
     "output_type": "stream",
     "text": [
      "Wrong separation between lines\n"
     ]
    },
    {
     "name": "stderr",
     "output_type": "stream",
     "text": [
      "\r",
      "t:  95%|████████████████████████████████████████████████▌  | 462/485 [01:55<00:05,  4.22it/s, now=None]"
     ]
    },
    {
     "name": "stdout",
     "output_type": "stream",
     "text": [
      "Wrong separation between lines\n"
     ]
    },
    {
     "name": "stderr",
     "output_type": "stream",
     "text": [
      "\r",
      "t:  95%|████████████████████████████████████████████████▋  | 463/485 [01:55<00:05,  4.26it/s, now=None]"
     ]
    },
    {
     "name": "stdout",
     "output_type": "stream",
     "text": [
      "Wrong separation between lines\n"
     ]
    },
    {
     "name": "stderr",
     "output_type": "stream",
     "text": [
      "t:  97%|█████████████████████████████████████████████████▌ | 471/485 [01:57<00:03,  4.26it/s, now=None]"
     ]
    },
    {
     "name": "stdout",
     "output_type": "stream",
     "text": [
      "missdetection\n",
      "[-8.77113224e-04  8.25268573e-01 -2.10294417e+02]\n"
     ]
    },
    {
     "name": "stderr",
     "output_type": "stream",
     "text": [
      "\r",
      "t:  97%|█████████████████████████████████████████████████▋ | 472/485 [01:57<00:03,  4.19it/s, now=None]"
     ]
    },
    {
     "name": "stdout",
     "output_type": "stream",
     "text": [
      "missdetection\n",
      "[ 8.50309901e-04 -8.91466000e-01  2.20567996e+02]\n"
     ]
    },
    {
     "name": "stderr",
     "output_type": "stream",
     "text": [
      "\r",
      "t:  98%|█████████████████████████████████████████████████▋ | 473/485 [01:57<00:02,  4.08it/s, now=None]"
     ]
    },
    {
     "name": "stdout",
     "output_type": "stream",
     "text": [
      "missdetection\n",
      "[ 1.08261531e-03 -1.18679686e+00  3.13184537e+02]\n"
     ]
    },
    {
     "name": "stderr",
     "output_type": "stream",
     "text": [
      "\r",
      "t:  98%|█████████████████████████████████████████████████▊ | 474/485 [01:58<00:02,  4.13it/s, now=None]"
     ]
    },
    {
     "name": "stdout",
     "output_type": "stream",
     "text": [
      "missdetection\n",
      "[ 1.35061315e-03 -1.53086737e+00  4.21908555e+02]\n",
      "Wrong separation between lines\n"
     ]
    },
    {
     "name": "stderr",
     "output_type": "stream",
     "text": [
      "t:  98%|██████████████████████████████████████████████████ | 476/485 [01:58<00:02,  4.38it/s, now=None]"
     ]
    },
    {
     "name": "stdout",
     "output_type": "stream",
     "text": [
      "Wrong separation between lines\n"
     ]
    },
    {
     "name": "stderr",
     "output_type": "stream",
     "text": [
      "\r",
      "t:  98%|██████████████████████████████████████████████████▏| 477/485 [01:58<00:01,  4.38it/s, now=None]"
     ]
    },
    {
     "name": "stdout",
     "output_type": "stream",
     "text": [
      "Wrong separation between lines\n"
     ]
    },
    {
     "name": "stderr",
     "output_type": "stream",
     "text": [
      "\r",
      "t:  99%|██████████████████████████████████████████████████▎| 478/485 [01:59<00:01,  4.40it/s, now=None]"
     ]
    },
    {
     "name": "stdout",
     "output_type": "stream",
     "text": [
      "Wrong separation between lines\n"
     ]
    },
    {
     "name": "stderr",
     "output_type": "stream",
     "text": [
      "\r",
      "t:  99%|██████████████████████████████████████████████████▎| 479/485 [01:59<00:01,  4.29it/s, now=None]"
     ]
    },
    {
     "name": "stdout",
     "output_type": "stream",
     "text": [
      "Wrong separation between lines\n"
     ]
    },
    {
     "name": "stderr",
     "output_type": "stream",
     "text": [
      "\r",
      "t:  99%|██████████████████████████████████████████████████▍| 480/485 [01:59<00:01,  4.35it/s, now=None]"
     ]
    },
    {
     "name": "stdout",
     "output_type": "stream",
     "text": [
      "Wrong separation between lines\n"
     ]
    },
    {
     "name": "stderr",
     "output_type": "stream",
     "text": [
      "\r",
      "t:  99%|██████████████████████████████████████████████████▌| 481/485 [01:59<00:00,  4.25it/s, now=None]"
     ]
    },
    {
     "name": "stdout",
     "output_type": "stream",
     "text": [
      "Wrong separation between lines\n"
     ]
    },
    {
     "name": "stderr",
     "output_type": "stream",
     "text": [
      "\r",
      "t:  99%|██████████████████████████████████████████████████▋| 482/485 [02:00<00:00,  4.30it/s, now=None]"
     ]
    },
    {
     "name": "stdout",
     "output_type": "stream",
     "text": [
      "Wrong separation between lines\n"
     ]
    },
    {
     "name": "stderr",
     "output_type": "stream",
     "text": [
      "\r",
      "t: 100%|██████████████████████████████████████████████████▊| 483/485 [02:00<00:00,  4.26it/s, now=None]"
     ]
    },
    {
     "name": "stdout",
     "output_type": "stream",
     "text": [
      "Wrong separation between lines\n"
     ]
    },
    {
     "name": "stderr",
     "output_type": "stream",
     "text": [
      "\r",
      "t: 100%|██████████████████████████████████████████████████▉| 484/485 [02:00<00:00,  4.32it/s, now=None]"
     ]
    },
    {
     "name": "stdout",
     "output_type": "stream",
     "text": [
      "Wrong separation between lines\n"
     ]
    },
    {
     "name": "stderr",
     "output_type": "stream",
     "text": [
      "\r",
      "t: 100%|███████████████████████████████████████████████████| 485/485 [02:00<00:00,  4.22it/s, now=None]"
     ]
    },
    {
     "name": "stdout",
     "output_type": "stream",
     "text": [
      "Wrong separation between lines\n"
     ]
    },
    {
     "name": "stderr",
     "output_type": "stream",
     "text": [
      "\r",
      "                                                                                                       "
     ]
    },
    {
     "name": "stdout",
     "output_type": "stream",
     "text": [
      "Wrong separation between lines\n"
     ]
    },
    {
     "name": "stderr",
     "output_type": "stream",
     "text": [
      "\r"
     ]
    },
    {
     "name": "stdout",
     "output_type": "stream",
     "text": [
      "Moviepy - Done !\n",
      "Moviepy - video ready output_videos/challenge_video.mp4\n",
      "Wall time: 2min 1s\n"
     ]
    }
   ],
   "source": [
    "# Instanciate cLine classes\n",
    "lineLeft = Line()\n",
    "lineRight = Line()\n",
    "\n",
    "\n",
    "challenge_output = 'output_videos/challenge_video.mp4'\n",
    "clip2 = VideoFileClip(\"test_videos/challenge_video.mp4\")\n",
    "\n",
    "challenge_clip = clip2.fl_image(process_frame) #NOTE: this function expects color images!!\n",
    "%time challenge_clip.write_videofile(challenge_output, audio=False)"
   ]
  },
  {
   "cell_type": "code",
   "execution_count": 6,
   "id": "5022385c",
   "metadata": {
    "scrolled": false
   },
   "outputs": [
    {
     "data": {
      "text/html": [
       "\n",
       "<video width=\"960\" height=\"540\" controls>\n",
       "  <source src=\"output_videos/challenge_video.mp4\">\n",
       "</video>\n"
      ],
      "text/plain": [
       "<IPython.core.display.HTML object>"
      ]
     },
     "execution_count": 6,
     "metadata": {},
     "output_type": "execute_result"
    }
   ],
   "source": [
    "HTML(\"\"\"\n",
    "<video width=\"960\" height=\"540\" controls>\n",
    "  <source src=\"{0}\">\n",
    "</video>\n",
    "\"\"\".format(challenge_output))"
   ]
  },
  {
   "cell_type": "markdown",
   "id": "6139b6d2",
   "metadata": {},
   "source": [
    "## Video 3"
   ]
  },
  {
   "cell_type": "code",
   "execution_count": 7,
   "id": "38f346b8",
   "metadata": {},
   "outputs": [
    {
     "name": "stderr",
     "output_type": "stream",
     "text": [
      "\r",
      "t:   0%|                                                            | 0/1199 [00:00<?, ?it/s, now=None]"
     ]
    },
    {
     "name": "stdout",
     "output_type": "stream",
     "text": [
      "Moviepy - Building video output_videos/harder_challenge_video.mp4.\n",
      "Moviepy - Writing video output_videos/harder_challenge_video.mp4\n",
      "\n"
     ]
    },
    {
     "name": "stderr",
     "output_type": "stream",
     "text": [
      "t:   6%|██▊                                                | 66/1199 [00:18<04:58,  3.79it/s, now=None]"
     ]
    },
    {
     "name": "stdout",
     "output_type": "stream",
     "text": [
      "Wrong separation between lines\n"
     ]
    },
    {
     "name": "stderr",
     "output_type": "stream",
     "text": [
      "\r",
      "t:   6%|██▊                                                | 67/1199 [00:18<04:58,  3.79it/s, now=None]"
     ]
    },
    {
     "name": "stdout",
     "output_type": "stream",
     "text": [
      "Wrong separation between lines\n"
     ]
    },
    {
     "name": "stderr",
     "output_type": "stream",
     "text": [
      "\r",
      "t:   6%|██▉                                                | 68/1199 [00:19<04:53,  3.85it/s, now=None]"
     ]
    },
    {
     "name": "stdout",
     "output_type": "stream",
     "text": [
      "Wrong separation between lines\n"
     ]
    },
    {
     "name": "stderr",
     "output_type": "stream",
     "text": [
      "\r",
      "t:   6%|██▉                                                | 69/1199 [00:19<04:49,  3.91it/s, now=None]"
     ]
    },
    {
     "name": "stdout",
     "output_type": "stream",
     "text": [
      "Wrong separation between lines\n"
     ]
    },
    {
     "name": "stderr",
     "output_type": "stream",
     "text": [
      "\r",
      "t:   6%|██▉                                                | 70/1199 [00:19<04:48,  3.91it/s, now=None]"
     ]
    },
    {
     "name": "stdout",
     "output_type": "stream",
     "text": [
      "Wrong separation between lines\n"
     ]
    },
    {
     "name": "stderr",
     "output_type": "stream",
     "text": [
      "\r",
      "t:   6%|███                                                | 71/1199 [00:19<04:43,  3.99it/s, now=None]"
     ]
    },
    {
     "name": "stdout",
     "output_type": "stream",
     "text": [
      "Wrong separation between lines\n"
     ]
    },
    {
     "name": "stderr",
     "output_type": "stream",
     "text": [
      "\r",
      "t:   6%|███                                                | 72/1199 [00:20<04:41,  4.00it/s, now=None]"
     ]
    },
    {
     "name": "stdout",
     "output_type": "stream",
     "text": [
      "Wrong separation between lines\n"
     ]
    },
    {
     "name": "stderr",
     "output_type": "stream",
     "text": [
      "\r",
      "t:   6%|███                                                | 73/1199 [00:20<04:41,  4.00it/s, now=None]"
     ]
    },
    {
     "name": "stdout",
     "output_type": "stream",
     "text": [
      "Wrong separation between lines\n"
     ]
    },
    {
     "name": "stderr",
     "output_type": "stream",
     "text": [
      "\r",
      "t:   6%|███▏                                               | 74/1199 [00:20<04:47,  3.92it/s, now=None]"
     ]
    },
    {
     "name": "stdout",
     "output_type": "stream",
     "text": [
      "Wrong separation between lines\n"
     ]
    },
    {
     "name": "stderr",
     "output_type": "stream",
     "text": [
      "\r",
      "t:   6%|███▏                                               | 75/1199 [00:20<04:46,  3.92it/s, now=None]"
     ]
    },
    {
     "name": "stdout",
     "output_type": "stream",
     "text": [
      "Wrong separation between lines\n"
     ]
    },
    {
     "name": "stderr",
     "output_type": "stream",
     "text": [
      "\r",
      "t:   6%|███▏                                               | 76/1199 [00:21<04:46,  3.92it/s, now=None]"
     ]
    },
    {
     "name": "stdout",
     "output_type": "stream",
     "text": [
      "Wrong separation between lines\n"
     ]
    },
    {
     "name": "stderr",
     "output_type": "stream",
     "text": [
      "\r",
      "t:   6%|███▎                                               | 77/1199 [00:21<04:41,  3.98it/s, now=None]"
     ]
    },
    {
     "name": "stdout",
     "output_type": "stream",
     "text": [
      "Wrong separation between lines\n"
     ]
    },
    {
     "name": "stderr",
     "output_type": "stream",
     "text": [
      "\r",
      "t:   7%|███▎                                               | 78/1199 [00:21<04:41,  3.98it/s, now=None]"
     ]
    },
    {
     "name": "stdout",
     "output_type": "stream",
     "text": [
      "Wrong separation between lines\n"
     ]
    },
    {
     "name": "stderr",
     "output_type": "stream",
     "text": [
      "\r",
      "t:   7%|███▎                                               | 79/1199 [00:21<04:46,  3.91it/s, now=None]"
     ]
    },
    {
     "name": "stdout",
     "output_type": "stream",
     "text": [
      "missdetection\n",
      "[ 5.42139281e-04 -6.84855177e-01  2.10363508e+02]\n"
     ]
    },
    {
     "name": "stderr",
     "output_type": "stream",
     "text": [
      "\r",
      "t:   7%|███▍                                               | 80/1199 [00:22<04:53,  3.81it/s, now=None]"
     ]
    },
    {
     "name": "stdout",
     "output_type": "stream",
     "text": [
      "missdetection\n",
      "[ 5.16688562e-04 -6.62732124e-01  2.06230824e+02]\n"
     ]
    },
    {
     "name": "stderr",
     "output_type": "stream",
     "text": [
      "\r",
      "t:   7%|███▍                                               | 81/1199 [00:22<04:58,  3.75it/s, now=None]"
     ]
    },
    {
     "name": "stdout",
     "output_type": "stream",
     "text": [
      "missdetection\n",
      "[ 5.21295990e-04 -6.67634059e-01  2.07088643e+02]\n"
     ]
    },
    {
     "name": "stderr",
     "output_type": "stream",
     "text": [
      "\r",
      "t:   7%|███▍                                               | 82/1199 [00:22<05:08,  3.63it/s, now=None]"
     ]
    },
    {
     "name": "stdout",
     "output_type": "stream",
     "text": [
      "missdetection\n",
      "[-7.20116689e-04  9.24555410e-01 -3.01336009e+02]\n"
     ]
    },
    {
     "name": "stderr",
     "output_type": "stream",
     "text": [
      "\r",
      "t:   7%|███▌                                               | 83/1199 [00:22<05:14,  3.55it/s, now=None]"
     ]
    },
    {
     "name": "stdout",
     "output_type": "stream",
     "text": [
      "missdetection\n",
      "[-6.65293016e-04  8.57840192e-01 -2.81648155e+02]\n"
     ]
    },
    {
     "name": "stderr",
     "output_type": "stream",
     "text": [
      "\r",
      "t:   7%|███▌                                               | 84/1199 [00:23<05:18,  3.50it/s, now=None]"
     ]
    },
    {
     "name": "stdout",
     "output_type": "stream",
     "text": [
      "missdetection\n",
      "[ 5.65315155e-04 -7.36554545e-01  2.34014452e+02]\n"
     ]
    },
    {
     "name": "stderr",
     "output_type": "stream",
     "text": [
      "\r",
      "t:   7%|███▌                                               | 85/1199 [00:23<05:11,  3.58it/s, now=None]"
     ]
    },
    {
     "name": "stdout",
     "output_type": "stream",
     "text": [
      "Wrong separation between lines\n"
     ]
    },
    {
     "name": "stderr",
     "output_type": "stream",
     "text": [
      "\r",
      "t:   7%|███▋                                               | 86/1199 [00:23<05:01,  3.69it/s, now=None]"
     ]
    },
    {
     "name": "stdout",
     "output_type": "stream",
     "text": [
      "missdetection\n",
      "[-7.37067400e-04  9.21966976e-01 -2.91585455e+02]\n"
     ]
    },
    {
     "name": "stderr",
     "output_type": "stream",
     "text": [
      "\r",
      "t:   7%|███▋                                               | 87/1199 [00:24<05:15,  3.53it/s, now=None]"
     ]
    },
    {
     "name": "stdout",
     "output_type": "stream",
     "text": [
      "missdetection\n",
      "[ 5.56127180e-04 -7.30425395e-01  2.33377311e+02]\n"
     ]
    },
    {
     "name": "stderr",
     "output_type": "stream",
     "text": [
      "\r",
      "t:   7%|███▋                                               | 88/1199 [00:24<05:13,  3.54it/s, now=None]"
     ]
    },
    {
     "name": "stdout",
     "output_type": "stream",
     "text": [
      "Wrong separation between lines\n"
     ]
    },
    {
     "name": "stderr",
     "output_type": "stream",
     "text": [
      "\r",
      "t:   7%|███▊                                               | 89/1199 [00:24<05:01,  3.68it/s, now=None]"
     ]
    },
    {
     "name": "stdout",
     "output_type": "stream",
     "text": [
      "missdetection\n",
      "[-6.91238668e-04  7.71949068e-01 -2.11436837e+02]\n"
     ]
    },
    {
     "name": "stderr",
     "output_type": "stream",
     "text": [
      "\r",
      "t:   8%|███▊                                               | 90/1199 [00:24<05:06,  3.62it/s, now=None]"
     ]
    },
    {
     "name": "stdout",
     "output_type": "stream",
     "text": [
      "missdetection\n",
      "[-6.10603854e-04  7.87749467e-01 -2.58848113e+02]\n"
     ]
    },
    {
     "name": "stderr",
     "output_type": "stream",
     "text": [
      "\r",
      "t:   8%|███▊                                               | 91/1199 [00:25<05:05,  3.63it/s, now=None]"
     ]
    },
    {
     "name": "stdout",
     "output_type": "stream",
     "text": [
      "missdetection\n",
      "[-8.59351036e-04  9.40878850e-01 -2.49527110e+02]\n"
     ]
    },
    {
     "name": "stderr",
     "output_type": "stream",
     "text": [
      "\r",
      "t:   8%|███▉                                               | 92/1199 [00:25<05:07,  3.60it/s, now=None]"
     ]
    },
    {
     "name": "stdout",
     "output_type": "stream",
     "text": [
      "missdetection\n",
      "[-7.78813106e-04  8.96007491e-01 -2.54545639e+02]\n"
     ]
    },
    {
     "name": "stderr",
     "output_type": "stream",
     "text": [
      "\r",
      "t:   8%|███▉                                               | 93/1199 [00:25<05:04,  3.64it/s, now=None]"
     ]
    },
    {
     "name": "stdout",
     "output_type": "stream",
     "text": [
      "missdetection\n",
      "[-7.25674315e-04  9.01265451e-01 -2.82909170e+02]\n"
     ]
    },
    {
     "name": "stderr",
     "output_type": "stream",
     "text": [
      "\r",
      "t:   8%|███▉                                               | 94/1199 [00:26<05:19,  3.46it/s, now=None]"
     ]
    },
    {
     "name": "stdout",
     "output_type": "stream",
     "text": [
      "missdetection\n",
      "[-8.03022494e-04  9.46741022e-01 -2.75218229e+02]\n"
     ]
    },
    {
     "name": "stderr",
     "output_type": "stream",
     "text": [
      "\r",
      "t:   8%|████                                               | 95/1199 [00:26<05:19,  3.45it/s, now=None]"
     ]
    },
    {
     "name": "stdout",
     "output_type": "stream",
     "text": [
      "missdetection\n",
      "[ 7.27846707e-04 -1.05914887e+00  3.77264025e+02]\n"
     ]
    },
    {
     "name": "stderr",
     "output_type": "stream",
     "text": [
      "\r",
      "t:   8%|████                                               | 96/1199 [00:26<05:03,  3.63it/s, now=None]"
     ]
    },
    {
     "name": "stdout",
     "output_type": "stream",
     "text": [
      "missdetection\n",
      "[ 7.11696558e-04 -1.00863464e+00  3.55121654e+02]\n"
     ]
    },
    {
     "name": "stderr",
     "output_type": "stream",
     "text": [
      "\r",
      "t:   8%|████▏                                              | 97/1199 [00:26<05:10,  3.55it/s, now=None]"
     ]
    },
    {
     "name": "stdout",
     "output_type": "stream",
     "text": [
      "missdetection\n",
      "[ 6.14508830e-04 -9.04215712e-01  3.25546050e+02]\n"
     ]
    },
    {
     "name": "stderr",
     "output_type": "stream",
     "text": [
      "\r",
      "t:   8%|████▏                                              | 98/1199 [00:27<05:05,  3.61it/s, now=None]"
     ]
    },
    {
     "name": "stdout",
     "output_type": "stream",
     "text": [
      "missdetection\n",
      "[ 4.63229394e-04 -7.12770033e-01  2.66881885e+02]\n",
      "Reset by SanityCheck\n"
     ]
    },
    {
     "name": "stderr",
     "output_type": "stream",
     "text": [
      "t:   8%|████▏                                             | 101/1199 [00:27<04:56,  3.71it/s, now=None]"
     ]
    },
    {
     "name": "stdout",
     "output_type": "stream",
     "text": [
      "missdetection\n",
      "[ 1.87135516e-04 -5.01301122e-01  2.31727146e+02]\n"
     ]
    },
    {
     "name": "stderr",
     "output_type": "stream",
     "text": [
      "\r",
      "t:   9%|████▎                                             | 102/1199 [00:28<04:59,  3.66it/s, now=None]"
     ]
    },
    {
     "name": "stdout",
     "output_type": "stream",
     "text": [
      "missdetection\n",
      "[ 8.47118000e-04 -1.11317914e+00  3.63013778e+02]\n"
     ]
    },
    {
     "name": "stderr",
     "output_type": "stream",
     "text": [
      "\r",
      "t:   9%|████▎                                             | 103/1199 [00:28<04:53,  3.74it/s, now=None]"
     ]
    },
    {
     "name": "stdout",
     "output_type": "stream",
     "text": [
      "missdetection\n",
      "[ 8.23308832e-04 -1.07703729e+00  3.52178501e+02]\n"
     ]
    },
    {
     "name": "stderr",
     "output_type": "stream",
     "text": [
      "\r",
      "t:   9%|████▎                                             | 104/1199 [00:28<04:58,  3.67it/s, now=None]"
     ]
    },
    {
     "name": "stdout",
     "output_type": "stream",
     "text": [
      "missdetection\n",
      "[ 8.15278849e-04 -1.08627082e+00  3.59558943e+02]\n"
     ]
    },
    {
     "name": "stderr",
     "output_type": "stream",
     "text": [
      "\r",
      "t:   9%|████▍                                             | 105/1199 [00:29<05:07,  3.56it/s, now=None]"
     ]
    },
    {
     "name": "stdout",
     "output_type": "stream",
     "text": [
      "missdetection\n",
      "[ 5.09065453e-04 -6.84600665e-01  2.30608263e+02]\n"
     ]
    },
    {
     "name": "stderr",
     "output_type": "stream",
     "text": [
      "\r",
      "t:   9%|████▍                                             | 106/1199 [00:29<05:06,  3.56it/s, now=None]"
     ]
    },
    {
     "name": "stdout",
     "output_type": "stream",
     "text": [
      "missdetection\n",
      "[ 5.12809593e-04 -6.84919313e-01  2.29158643e+02]\n"
     ]
    },
    {
     "name": "stderr",
     "output_type": "stream",
     "text": [
      "\r",
      "t:   9%|████▍                                             | 107/1199 [00:29<05:02,  3.61it/s, now=None]"
     ]
    },
    {
     "name": "stdout",
     "output_type": "stream",
     "text": [
      "missdetection\n",
      "[ 4.63184363e-04 -6.31875611e-01  2.15329679e+02]\n"
     ]
    },
    {
     "name": "stderr",
     "output_type": "stream",
     "text": [
      "\r",
      "t:   9%|████▌                                             | 108/1199 [00:29<05:05,  3.57it/s, now=None]"
     ]
    },
    {
     "name": "stdout",
     "output_type": "stream",
     "text": [
      "missdetection\n",
      "[ 4.57676371e-04 -6.23916453e-01  2.13798951e+02]\n"
     ]
    },
    {
     "name": "stderr",
     "output_type": "stream",
     "text": [
      "\r",
      "t:   9%|████▌                                             | 109/1199 [00:30<05:02,  3.60it/s, now=None]"
     ]
    },
    {
     "name": "stdout",
     "output_type": "stream",
     "text": [
      "Wrong separation between lines\n"
     ]
    },
    {
     "name": "stderr",
     "output_type": "stream",
     "text": [
      "\r",
      "t:   9%|████▌                                             | 110/1199 [00:30<04:50,  3.74it/s, now=None]"
     ]
    },
    {
     "name": "stdout",
     "output_type": "stream",
     "text": [
      "Wrong separation between lines\n"
     ]
    },
    {
     "name": "stderr",
     "output_type": "stream",
     "text": [
      "\r",
      "t:   9%|████▋                                             | 111/1199 [00:30<04:43,  3.84it/s, now=None]"
     ]
    },
    {
     "name": "stdout",
     "output_type": "stream",
     "text": [
      "Wrong separation between lines\n"
     ]
    },
    {
     "name": "stderr",
     "output_type": "stream",
     "text": [
      "\r",
      "t:   9%|████▋                                             | 112/1199 [00:30<04:37,  3.91it/s, now=None]"
     ]
    },
    {
     "name": "stdout",
     "output_type": "stream",
     "text": [
      "Wrong separation between lines\n"
     ]
    },
    {
     "name": "stderr",
     "output_type": "stream",
     "text": [
      "\r",
      "t:   9%|████▋                                             | 113/1199 [00:31<04:38,  3.89it/s, now=None]"
     ]
    },
    {
     "name": "stdout",
     "output_type": "stream",
     "text": [
      "Wrong separation between lines\n"
     ]
    },
    {
     "name": "stderr",
     "output_type": "stream",
     "text": [
      "\r",
      "t:  10%|████▊                                             | 114/1199 [00:31<04:33,  3.97it/s, now=None]"
     ]
    },
    {
     "name": "stdout",
     "output_type": "stream",
     "text": [
      "missdetection\n",
      "[-6.83417169e-04  8.28913702e-01 -2.22721227e+02]\n"
     ]
    },
    {
     "name": "stderr",
     "output_type": "stream",
     "text": [
      "\r",
      "t:  10%|████▊                                             | 115/1199 [00:31<04:39,  3.88it/s, now=None]"
     ]
    },
    {
     "name": "stdout",
     "output_type": "stream",
     "text": [
      "missdetection\n",
      "[-8.85243836e-04  1.01680099e+00 -2.57653773e+02]\n"
     ]
    },
    {
     "name": "stderr",
     "output_type": "stream",
     "text": [
      "\r",
      "t:  10%|████▊                                             | 116/1199 [00:31<04:46,  3.78it/s, now=None]"
     ]
    },
    {
     "name": "stdout",
     "output_type": "stream",
     "text": [
      "missdetection\n",
      "[-8.90599020e-04  1.05398035e+00 -2.80208898e+02]\n"
     ]
    },
    {
     "name": "stderr",
     "output_type": "stream",
     "text": [
      "\r",
      "t:  10%|████▉                                             | 117/1199 [00:32<04:42,  3.83it/s, now=None]"
     ]
    },
    {
     "name": "stdout",
     "output_type": "stream",
     "text": [
      "missdetection\n",
      "[-9.25894159e-04  1.07604599e+00 -2.79526364e+02]\n"
     ]
    },
    {
     "name": "stderr",
     "output_type": "stream",
     "text": [
      "t:  10%|█████                                             | 121/1199 [00:33<04:48,  3.73it/s, now=None]"
     ]
    },
    {
     "name": "stdout",
     "output_type": "stream",
     "text": [
      "Wrong separation between lines\n"
     ]
    },
    {
     "name": "stderr",
     "output_type": "stream",
     "text": [
      "\r",
      "t:  10%|█████                                             | 122/1199 [00:33<04:43,  3.79it/s, now=None]"
     ]
    },
    {
     "name": "stdout",
     "output_type": "stream",
     "text": [
      "missdetection\n",
      "[-5.87623878e-04  7.27926660e-01 -2.00860055e+02]\n"
     ]
    },
    {
     "name": "stderr",
     "output_type": "stream",
     "text": [
      "\r",
      "t:  10%|█████▏                                            | 123/1199 [00:33<04:49,  3.72it/s, now=None]"
     ]
    },
    {
     "name": "stdout",
     "output_type": "stream",
     "text": [
      "missdetection\n",
      "[-6.21863249e-04  7.93721858e-01 -2.29308055e+02]\n"
     ]
    },
    {
     "name": "stderr",
     "output_type": "stream",
     "text": [
      "\r",
      "t:  10%|█████▏                                            | 124/1199 [00:34<05:02,  3.56it/s, now=None]"
     ]
    },
    {
     "name": "stdout",
     "output_type": "stream",
     "text": [
      "missdetection\n",
      "[-6.69205722e-04  8.72052322e-01 -2.60884572e+02]\n"
     ]
    },
    {
     "name": "stderr",
     "output_type": "stream",
     "text": [
      "\r",
      "t:  10%|█████▏                                            | 125/1199 [00:34<05:04,  3.52it/s, now=None]"
     ]
    },
    {
     "name": "stdout",
     "output_type": "stream",
     "text": [
      "missdetection\n",
      "[-6.63689156e-04  9.03266506e-01 -2.84532420e+02]\n"
     ]
    },
    {
     "name": "stderr",
     "output_type": "stream",
     "text": [
      "\r",
      "t:  11%|█████▎                                            | 126/1199 [00:34<05:01,  3.56it/s, now=None]"
     ]
    },
    {
     "name": "stdout",
     "output_type": "stream",
     "text": [
      "missdetection\n",
      "[-6.92472295e-04  9.71831652e-01 -3.17723178e+02]\n"
     ]
    },
    {
     "name": "stderr",
     "output_type": "stream",
     "text": [
      "\r",
      "t:  11%|█████▎                                            | 127/1199 [00:34<05:06,  3.50it/s, now=None]"
     ]
    },
    {
     "name": "stdout",
     "output_type": "stream",
     "text": [
      "missdetection\n",
      "[-6.78912433e-04  9.93595023e-01 -3.38982919e+02]\n"
     ]
    },
    {
     "name": "stderr",
     "output_type": "stream",
     "text": [
      "\r",
      "t:  11%|█████▎                                            | 128/1199 [00:35<05:01,  3.56it/s, now=None]"
     ]
    },
    {
     "name": "stdout",
     "output_type": "stream",
     "text": [
      "missdetection\n",
      "[-6.66847768e-04  1.02033114e+00 -3.62715321e+02]\n"
     ]
    },
    {
     "name": "stderr",
     "output_type": "stream",
     "text": [
      "\r",
      "t:  11%|█████▍                                            | 129/1199 [00:35<05:02,  3.53it/s, now=None]"
     ]
    },
    {
     "name": "stdout",
     "output_type": "stream",
     "text": [
      "missdetection\n",
      "[-6.46033735e-04  1.03777129e+00 -3.84754852e+02]\n"
     ]
    },
    {
     "name": "stderr",
     "output_type": "stream",
     "text": [
      "\r",
      "t:  11%|█████▍                                            | 130/1199 [00:35<05:01,  3.54it/s, now=None]"
     ]
    },
    {
     "name": "stdout",
     "output_type": "stream",
     "text": [
      "missdetection\n",
      "[-6.16347919e-04  1.03726165e+00 -3.98833253e+02]\n"
     ]
    },
    {
     "name": "stderr",
     "output_type": "stream",
     "text": [
      "t:  11%|█████▌                                            | 132/1199 [00:36<04:39,  3.82it/s, now=None]"
     ]
    },
    {
     "name": "stdout",
     "output_type": "stream",
     "text": [
      "Wrong separation between lines\n"
     ]
    },
    {
     "name": "stderr",
     "output_type": "stream",
     "text": [
      "\r",
      "t:  11%|█████▌                                            | 133/1199 [00:36<04:35,  3.87it/s, now=None]"
     ]
    },
    {
     "name": "stdout",
     "output_type": "stream",
     "text": [
      "Wrong separation between lines\n"
     ]
    },
    {
     "name": "stderr",
     "output_type": "stream",
     "text": [
      "\r",
      "t:  11%|█████▌                                            | 134/1199 [00:36<04:33,  3.89it/s, now=None]"
     ]
    },
    {
     "name": "stdout",
     "output_type": "stream",
     "text": [
      "missdetection\n",
      "[-2.01826579e-04  4.95890725e-01 -2.26566078e+02]\n"
     ]
    },
    {
     "name": "stderr",
     "output_type": "stream",
     "text": [
      "\r",
      "t:  11%|█████▋                                            | 135/1199 [00:37<04:35,  3.86it/s, now=None]"
     ]
    },
    {
     "name": "stdout",
     "output_type": "stream",
     "text": [
      "missdetection\n",
      "[-1.60682326e-04  4.77514955e-01 -2.33910831e+02]\n"
     ]
    },
    {
     "name": "stderr",
     "output_type": "stream",
     "text": [
      "\r",
      "t:  11%|█████▋                                            | 136/1199 [00:37<04:36,  3.85it/s, now=None]"
     ]
    },
    {
     "name": "stdout",
     "output_type": "stream",
     "text": [
      "missdetection\n",
      "[-1.56310956e-04  4.85986618e-01 -2.42440833e+02]\n"
     ]
    },
    {
     "name": "stderr",
     "output_type": "stream",
     "text": [
      "\r",
      "t:  11%|█████▋                                            | 137/1199 [00:37<04:56,  3.58it/s, now=None]"
     ]
    },
    {
     "name": "stdout",
     "output_type": "stream",
     "text": [
      "missdetection\n",
      "[-1.96459049e-04  5.45066848e-01 -2.64675074e+02]\n"
     ]
    },
    {
     "name": "stderr",
     "output_type": "stream",
     "text": [
      "\r",
      "t:  12%|█████▊                                            | 138/1199 [00:37<05:07,  3.45it/s, now=None]"
     ]
    },
    {
     "name": "stdout",
     "output_type": "stream",
     "text": [
      "missdetection\n",
      "[-2.09312345e-04  5.81341585e-01 -2.81099880e+02]\n"
     ]
    },
    {
     "name": "stderr",
     "output_type": "stream",
     "text": [
      "\r",
      "t:  12%|█████▊                                            | 139/1199 [00:38<04:59,  3.54it/s, now=None]"
     ]
    },
    {
     "name": "stdout",
     "output_type": "stream",
     "text": [
      "missdetection\n",
      "[-1.91481175e-04  5.77269204e-01 -2.88540758e+02]\n"
     ]
    },
    {
     "name": "stderr",
     "output_type": "stream",
     "text": [
      "\r",
      "t:  12%|█████▊                                            | 140/1199 [00:38<04:51,  3.63it/s, now=None]"
     ]
    },
    {
     "name": "stdout",
     "output_type": "stream",
     "text": [
      "missdetection\n",
      "[-2.45173465e-04  6.40818774e-01 -3.08245549e+02]\n"
     ]
    },
    {
     "name": "stderr",
     "output_type": "stream",
     "text": [
      "\r",
      "t:  12%|█████▉                                            | 141/1199 [00:38<04:52,  3.62it/s, now=None]"
     ]
    },
    {
     "name": "stdout",
     "output_type": "stream",
     "text": [
      "missdetection\n",
      "[-2.41280848e-04  6.47832854e-01 -3.15677688e+02]\n"
     ]
    },
    {
     "name": "stderr",
     "output_type": "stream",
     "text": [
      "\r",
      "t:  12%|█████▉                                            | 142/1199 [00:39<04:51,  3.63it/s, now=None]"
     ]
    },
    {
     "name": "stdout",
     "output_type": "stream",
     "text": [
      "missdetection\n",
      "[-2.35136189e-04  6.56626638e-01 -3.24859172e+02]\n"
     ]
    },
    {
     "name": "stderr",
     "output_type": "stream",
     "text": [
      "\r",
      "t:  12%|█████▉                                            | 143/1199 [00:39<04:48,  3.66it/s, now=None]"
     ]
    },
    {
     "name": "stdout",
     "output_type": "stream",
     "text": [
      "missdetection\n",
      "[-2.43066721e-04  6.78227136e-01 -3.36195450e+02]\n",
      "Reset by SanityCheck\n"
     ]
    },
    {
     "name": "stderr",
     "output_type": "stream",
     "text": [
      "\r",
      "t:  12%|██████                                            | 144/1199 [00:39<04:41,  3.75it/s, now=None]"
     ]
    },
    {
     "name": "stdout",
     "output_type": "stream",
     "text": [
      "missdetection\n",
      "[-1.49764310e-04  4.40631847e-01 -2.39151679e+02]\n"
     ]
    },
    {
     "name": "stderr",
     "output_type": "stream",
     "text": [
      "\r",
      "t:  12%|██████                                            | 145/1199 [00:39<04:39,  3.77it/s, now=None]"
     ]
    },
    {
     "name": "stdout",
     "output_type": "stream",
     "text": [
      "missdetection\n",
      "[-4.33396135e-04  8.55716820e-01 -3.81623489e+02]\n"
     ]
    },
    {
     "name": "stderr",
     "output_type": "stream",
     "text": [
      "\r",
      "t:  12%|██████                                            | 146/1199 [00:40<04:37,  3.79it/s, now=None]"
     ]
    },
    {
     "name": "stdout",
     "output_type": "stream",
     "text": [
      "missdetection\n",
      "[-4.14732746e-04  8.48263600e-01 -3.84211686e+02]\n"
     ]
    },
    {
     "name": "stderr",
     "output_type": "stream",
     "text": [
      "\r",
      "t:  12%|██████▏                                           | 147/1199 [00:40<04:40,  3.76it/s, now=None]"
     ]
    },
    {
     "name": "stdout",
     "output_type": "stream",
     "text": [
      "missdetection\n",
      "[-4.79945577e-04  9.27509242e-01 -4.07723667e+02]\n"
     ]
    },
    {
     "name": "stderr",
     "output_type": "stream",
     "text": [
      "\r",
      "t:  12%|██████▏                                           | 148/1199 [00:40<04:36,  3.80it/s, now=None]"
     ]
    },
    {
     "name": "stdout",
     "output_type": "stream",
     "text": [
      "missdetection\n",
      "[-4.79748457e-04  9.33059071e-01 -4.10937936e+02]\n"
     ]
    },
    {
     "name": "stderr",
     "output_type": "stream",
     "text": [
      "\r",
      "t:  12%|██████▏                                           | 149/1199 [00:40<04:41,  3.73it/s, now=None]"
     ]
    },
    {
     "name": "stdout",
     "output_type": "stream",
     "text": [
      "missdetection\n",
      "[-4.89628837e-04  9.47238674e-01 -4.15264848e+02]\n"
     ]
    },
    {
     "name": "stderr",
     "output_type": "stream",
     "text": [
      "\r",
      "t:  13%|██████▎                                           | 150/1199 [00:41<04:41,  3.73it/s, now=None]"
     ]
    },
    {
     "name": "stdout",
     "output_type": "stream",
     "text": [
      "missdetection\n",
      "[-5.14130915e-04  9.77020379e-01 -4.23896902e+02]\n"
     ]
    },
    {
     "name": "stderr",
     "output_type": "stream",
     "text": [
      "\r",
      "t:  13%|██████▎                                           | 151/1199 [00:41<04:44,  3.68it/s, now=None]"
     ]
    },
    {
     "name": "stdout",
     "output_type": "stream",
     "text": [
      "missdetection\n",
      "[-5.35917362e-04  1.01351626e+00 -4.38415636e+02]\n"
     ]
    },
    {
     "name": "stderr",
     "output_type": "stream",
     "text": [
      "\r",
      "t:  13%|██████▎                                           | 152/1199 [00:41<04:48,  3.63it/s, now=None]"
     ]
    },
    {
     "name": "stdout",
     "output_type": "stream",
     "text": [
      "missdetection\n",
      "[-5.47606634e-04  1.03496390e+00 -4.47056945e+02]\n"
     ]
    },
    {
     "name": "stderr",
     "output_type": "stream",
     "text": [
      "\r",
      "t:  13%|██████▍                                           | 153/1199 [00:42<04:46,  3.65it/s, now=None]"
     ]
    },
    {
     "name": "stdout",
     "output_type": "stream",
     "text": [
      "missdetection\n",
      "[-5.94650293e-04  1.08547850e+00 -4.60740448e+02]\n"
     ]
    },
    {
     "name": "stderr",
     "output_type": "stream",
     "text": [
      "\r",
      "t:  13%|██████▍                                           | 154/1199 [00:42<04:43,  3.69it/s, now=None]"
     ]
    },
    {
     "name": "stdout",
     "output_type": "stream",
     "text": [
      "missdetection\n",
      "[-6.44299749e-04  1.13745588e+00 -4.76140128e+02]\n",
      "Reset by SanityCheck\n"
     ]
    },
    {
     "name": "stderr",
     "output_type": "stream",
     "text": [
      "\r",
      "t:  13%|██████▍                                           | 155/1199 [00:42<04:39,  3.73it/s, now=None]"
     ]
    },
    {
     "name": "stdout",
     "output_type": "stream",
     "text": [
      "Wrong separation between lines\n"
     ]
    },
    {
     "name": "stderr",
     "output_type": "stream",
     "text": [
      "\r",
      "t:  13%|██████▌                                           | 156/1199 [00:42<04:27,  3.90it/s, now=None]"
     ]
    },
    {
     "name": "stdout",
     "output_type": "stream",
     "text": [
      "missdetection\n",
      "[-8.06811609e-04  1.28933603e+00 -5.16178553e+02]\n"
     ]
    },
    {
     "name": "stderr",
     "output_type": "stream",
     "text": [
      "\r",
      "t:  13%|██████▌                                           | 157/1199 [00:43<04:33,  3.80it/s, now=None]"
     ]
    },
    {
     "name": "stdout",
     "output_type": "stream",
     "text": [
      "missdetection\n",
      "[-8.43214565e-04  1.33885473e+00 -5.31222613e+02]\n"
     ]
    },
    {
     "name": "stderr",
     "output_type": "stream",
     "text": [
      "\r",
      "t:  13%|██████▌                                           | 158/1199 [00:43<04:41,  3.70it/s, now=None]"
     ]
    },
    {
     "name": "stdout",
     "output_type": "stream",
     "text": [
      "missdetection\n",
      "[-8.47374296e-04  1.36580383e+00 -5.46735349e+02]\n"
     ]
    },
    {
     "name": "stderr",
     "output_type": "stream",
     "text": [
      "\r",
      "t:  13%|██████▋                                           | 159/1199 [00:43<04:40,  3.70it/s, now=None]"
     ]
    },
    {
     "name": "stdout",
     "output_type": "stream",
     "text": [
      "missdetection\n",
      "[-8.58108080e-04  1.39452265e+00 -5.62077299e+02]\n"
     ]
    },
    {
     "name": "stderr",
     "output_type": "stream",
     "text": [
      "\r",
      "t:  13%|██████▋                                           | 160/1199 [00:43<04:42,  3.67it/s, now=None]"
     ]
    },
    {
     "name": "stdout",
     "output_type": "stream",
     "text": [
      "missdetection\n",
      "[-9.28570830e-04  1.48033431e+00 -5.88133799e+02]\n"
     ]
    },
    {
     "name": "stderr",
     "output_type": "stream",
     "text": [
      "\r",
      "t:  13%|██████▋                                           | 161/1199 [00:44<04:45,  3.63it/s, now=None]"
     ]
    },
    {
     "name": "stdout",
     "output_type": "stream",
     "text": [
      "missdetection\n",
      "[-9.15346278e-04  1.49028580e+00 -6.00862548e+02]\n"
     ]
    },
    {
     "name": "stderr",
     "output_type": "stream",
     "text": [
      "\r",
      "t:  14%|██████▊                                           | 162/1199 [00:44<04:45,  3.64it/s, now=None]"
     ]
    },
    {
     "name": "stdout",
     "output_type": "stream",
     "text": [
      "missdetection\n",
      "[-9.14434266e-04  1.48935408e+00 -5.99856861e+02]\n"
     ]
    },
    {
     "name": "stderr",
     "output_type": "stream",
     "text": [
      "\r",
      "t:  14%|██████▊                                           | 163/1199 [00:44<04:45,  3.63it/s, now=None]"
     ]
    },
    {
     "name": "stdout",
     "output_type": "stream",
     "text": [
      "missdetection\n",
      "[-9.83805531e-04  1.57551012e+00 -6.28701489e+02]\n"
     ]
    },
    {
     "name": "stderr",
     "output_type": "stream",
     "text": [
      "\r",
      "t:  14%|██████▊                                           | 164/1199 [00:44<04:42,  3.66it/s, now=None]"
     ]
    },
    {
     "name": "stdout",
     "output_type": "stream",
     "text": [
      "missdetection\n",
      "[-9.39317957e-04  1.52380988e+00 -6.13862230e+02]\n"
     ]
    },
    {
     "name": "stderr",
     "output_type": "stream",
     "text": [
      "\r",
      "t:  14%|██████▉                                           | 165/1199 [00:45<04:44,  3.63it/s, now=None]"
     ]
    },
    {
     "name": "stdout",
     "output_type": "stream",
     "text": [
      "missdetection\n",
      "[-1.00760060e-03  1.60867707e+00 -6.39851734e+02]\n",
      "Reset by SanityCheck\n"
     ]
    },
    {
     "name": "stderr",
     "output_type": "stream",
     "text": [
      "\r",
      "t:  14%|██████▉                                           | 166/1199 [00:45<04:31,  3.80it/s, now=None]"
     ]
    },
    {
     "name": "stdout",
     "output_type": "stream",
     "text": [
      "missdetection\n",
      "[-2.73989012e-04  8.49720090e-01 -4.43531799e+02]\n",
      "missdetection\n",
      "[-1.87051434e-03  1.48772017e+00 -2.30980602e+02]\n"
     ]
    },
    {
     "name": "stderr",
     "output_type": "stream",
     "text": [
      "\r",
      "t:  14%|██████▉                                           | 167/1199 [00:45<04:23,  3.91it/s, now=None]"
     ]
    },
    {
     "name": "stdout",
     "output_type": "stream",
     "text": [
      "missdetection\n",
      "[-9.93424373e-04  1.58339656e+00 -6.29244309e+02]\n",
      "missdetection\n",
      "[ 3.30296687e-03 -3.39312088e+00  7.70656304e+02]\n"
     ]
    },
    {
     "name": "stderr",
     "output_type": "stream",
     "text": [
      "\r",
      "t:  14%|███████                                           | 168/1199 [00:45<04:22,  3.93it/s, now=None]"
     ]
    },
    {
     "name": "stdout",
     "output_type": "stream",
     "text": [
      "missdetection\n",
      "[-9.54184762e-04  1.55958579e+00 -6.25959128e+02]\n",
      "missdetection\n",
      "[ 3.31709247e-03 -3.44443669e+00  7.96860382e+02]\n"
     ]
    },
    {
     "name": "stderr",
     "output_type": "stream",
     "text": [
      "\r",
      "t:  14%|███████                                           | 169/1199 [00:46<04:22,  3.92it/s, now=None]"
     ]
    },
    {
     "name": "stdout",
     "output_type": "stream",
     "text": [
      "missdetection\n",
      "[-1.03715023e-03  1.63582123e+00 -6.43472325e+02]\n",
      "missdetection\n",
      "[ 3.30922547e-03 -3.44245699e+00  7.99197292e+02]\n"
     ]
    },
    {
     "name": "stderr",
     "output_type": "stream",
     "text": [
      "\r",
      "t:  14%|███████                                           | 170/1199 [00:46<04:17,  3.99it/s, now=None]"
     ]
    },
    {
     "name": "stdout",
     "output_type": "stream",
     "text": [
      "missdetection\n",
      "[-9.56951352e-04  1.55544902e+00 -6.22544287e+02]\n",
      "missdetection\n",
      "[ 3.30498880e-03 -3.43217346e+00  7.93486958e+02]\n"
     ]
    },
    {
     "name": "stderr",
     "output_type": "stream",
     "text": [
      "\r",
      "t:  14%|███████▏                                          | 171/1199 [00:46<04:25,  3.87it/s, now=None]"
     ]
    },
    {
     "name": "stdout",
     "output_type": "stream",
     "text": [
      "missdetection\n",
      "[-1.11966506e-03  1.69314937e+00 -6.51151148e+02]\n",
      "missdetection\n",
      "[ 3.30875793e-03 -3.44351841e+00  7.98090089e+02]\n"
     ]
    },
    {
     "name": "stderr",
     "output_type": "stream",
     "text": [
      "\r",
      "t:  14%|███████▏                                          | 172/1199 [00:47<04:24,  3.89it/s, now=None]"
     ]
    },
    {
     "name": "stdout",
     "output_type": "stream",
     "text": [
      "Discarded X point\n",
      "missdetection\n",
      "[-9.81725183e-04  1.56177556e+00 -6.19915079e+02]\n",
      "missdetection\n",
      "[ 3.31491041e-03 -3.42662936e+00  7.82058025e+02]\n"
     ]
    },
    {
     "name": "stderr",
     "output_type": "stream",
     "text": [
      "\r",
      "t:  14%|███████▏                                          | 173/1199 [00:47<04:20,  3.94it/s, now=None]"
     ]
    },
    {
     "name": "stdout",
     "output_type": "stream",
     "text": [
      "Discarded X point\n",
      "missdetection\n",
      "[-1.02257190e-03  1.62965974e+00 -6.46514653e+02]\n",
      "missdetection\n",
      "[ 3.32642174e-03 -3.44953263e+00  7.90435879e+02]\n"
     ]
    },
    {
     "name": "stderr",
     "output_type": "stream",
     "text": [
      "\r",
      "t:  15%|███████▎                                          | 174/1199 [00:47<04:19,  3.94it/s, now=None]"
     ]
    },
    {
     "name": "stdout",
     "output_type": "stream",
     "text": [
      "missdetection\n",
      "[-1.05070541e-03  1.64317395e+00 -6.49617250e+02]\n",
      "missdetection\n",
      "[ 3.34019981e-03 -3.46820895e+00  7.96429632e+02]\n"
     ]
    },
    {
     "name": "stderr",
     "output_type": "stream",
     "text": [
      "\r",
      "t:  15%|███████▎                                          | 175/1199 [00:47<04:24,  3.88it/s, now=None]"
     ]
    },
    {
     "name": "stdout",
     "output_type": "stream",
     "text": [
      "Discarded X point\n",
      "missdetection\n",
      "[-7.36801641e-04  1.29195798e+00 -5.51061233e+02]\n",
      "missdetection\n",
      "[ 3.34307647e-03 -3.48036763e+00  8.01314455e+02]\n"
     ]
    },
    {
     "name": "stderr",
     "output_type": "stream",
     "text": [
      "\r",
      "t:  15%|███████▎                                          | 176/1199 [00:48<04:28,  3.81it/s, now=None]"
     ]
    },
    {
     "name": "stdout",
     "output_type": "stream",
     "text": [
      "missdetection\n",
      "[-9.62164859e-04  1.55788710e+00 -6.35184877e+02]\n",
      "missdetection\n",
      "[ 3.33494600e-03 -3.48581243e+00  8.08636033e+02]\n",
      "Reset by SanityCheck\n",
      "Reset by SanityCheck\n"
     ]
    },
    {
     "name": "stderr",
     "output_type": "stream",
     "text": [
      "\r",
      "t:  15%|███████▍                                          | 177/1199 [00:48<04:31,  3.77it/s, now=None]"
     ]
    },
    {
     "name": "stdout",
     "output_type": "stream",
     "text": [
      "missdetection\n",
      "[-1.46787083e-03  2.30730584e+00 -8.93393006e+02]\n",
      "missdetection\n",
      "[ 1.88088354e-02 -2.37548539e+01  7.39584473e+03]\n"
     ]
    },
    {
     "name": "stderr",
     "output_type": "stream",
     "text": [
      "\r",
      "t:  15%|███████▍                                          | 178/1199 [00:48<04:25,  3.85it/s, now=None]"
     ]
    },
    {
     "name": "stdout",
     "output_type": "stream",
     "text": [
      "missdetection\n",
      "[-5.64436567e-04  1.00959977e+00 -4.57406329e+02]\n",
      "missdetection\n",
      "[ 3.35779301e-03 -3.52612748e+00  8.03013263e+02]\n"
     ]
    },
    {
     "name": "stderr",
     "output_type": "stream",
     "text": [
      "\r",
      "t:  15%|███████▍                                          | 179/1199 [00:48<04:36,  3.69it/s, now=None]"
     ]
    },
    {
     "name": "stdout",
     "output_type": "stream",
     "text": [
      "missdetection\n",
      "[-4.45474583e-04  8.89725550e-01 -4.28701719e+02]\n",
      "missdetection\n",
      "[ 3.35263870e-03 -3.52429205e+00  8.04250253e+02]\n"
     ]
    },
    {
     "name": "stderr",
     "output_type": "stream",
     "text": [
      "\r",
      "t:  15%|███████▌                                          | 180/1199 [00:49<04:34,  3.71it/s, now=None]"
     ]
    },
    {
     "name": "stdout",
     "output_type": "stream",
     "text": [
      "missdetection\n",
      "[-3.08699790e-04  7.40138085e-01 -3.88493393e+02]\n",
      "missdetection\n",
      "[ 3.34831638e-03 -3.52287062e+00  8.04959663e+02]\n"
     ]
    },
    {
     "name": "stderr",
     "output_type": "stream",
     "text": [
      "\r",
      "t:  15%|███████▌                                          | 181/1199 [00:49<04:34,  3.71it/s, now=None]"
     ]
    },
    {
     "name": "stdout",
     "output_type": "stream",
     "text": [
      "missdetection\n",
      "[ 5.79713411e-05  2.41293085e-01 -2.18307525e+02]\n",
      "missdetection\n",
      "[ 3.34799385e-03 -3.52233072e+00  8.04433247e+02]\n"
     ]
    },
    {
     "name": "stderr",
     "output_type": "stream",
     "text": [
      "\r",
      "t:  15%|███████▌                                          | 182/1199 [00:49<04:26,  3.82it/s, now=None]"
     ]
    },
    {
     "name": "stdout",
     "output_type": "stream",
     "text": [
      "missdetection\n",
      "[ 3.33879145e-03 -3.51778469e+00  8.06014374e+02]\n"
     ]
    },
    {
     "name": "stderr",
     "output_type": "stream",
     "text": [
      "\r",
      "t:  15%|███████▋                                          | 183/1199 [00:49<04:23,  3.86it/s, now=None]"
     ]
    },
    {
     "name": "stdout",
     "output_type": "stream",
     "text": [
      "missdetection\n",
      "[ 3.32949869e-03 -3.50812450e+00  8.05133790e+02]\n"
     ]
    },
    {
     "name": "stderr",
     "output_type": "stream",
     "text": [
      "\r",
      "t:  15%|███████▋                                          | 184/1199 [00:50<04:26,  3.82it/s, now=None]"
     ]
    },
    {
     "name": "stdout",
     "output_type": "stream",
     "text": [
      "missdetection\n",
      "[ 3.32844387e-03 -3.50822959e+00  8.04560565e+02]\n"
     ]
    },
    {
     "name": "stderr",
     "output_type": "stream",
     "text": [
      "\r",
      "t:  15%|███████▋                                          | 185/1199 [00:50<04:19,  3.91it/s, now=None]"
     ]
    },
    {
     "name": "stdout",
     "output_type": "stream",
     "text": [
      "missdetection\n",
      "[-7.74220330e-05  4.34358136e-01 -2.93904908e+02]\n",
      "missdetection\n",
      "[ 3.32554401e-03 -3.50615086e+00  8.05185587e+02]\n"
     ]
    },
    {
     "name": "stderr",
     "output_type": "stream",
     "text": [
      "\r",
      "t:  16%|███████▊                                          | 186/1199 [00:50<04:14,  3.98it/s, now=None]"
     ]
    },
    {
     "name": "stdout",
     "output_type": "stream",
     "text": [
      "missdetection\n",
      "[ 4.38532987e-04 -7.57841027e-01  2.54130310e+02]\n",
      "missdetection\n",
      "[ 1.47110327e-03 -1.00541655e+00 -3.97161197e+01]\n"
     ]
    },
    {
     "name": "stderr",
     "output_type": "stream",
     "text": [
      "\r",
      "t:  16%|███████▊                                          | 187/1199 [00:50<04:12,  4.01it/s, now=None]"
     ]
    },
    {
     "name": "stdout",
     "output_type": "stream",
     "text": [
      "missdetection\n",
      "[ 4.47007729e-04 -7.55119570e-01  2.49494703e+02]\n",
      "missdetection\n",
      "[ 1.57474937e-03 -1.14141856e+00  4.36629194e+00]\n",
      "Reset by SanityCheck\n"
     ]
    },
    {
     "name": "stderr",
     "output_type": "stream",
     "text": [
      "\r",
      "t:  16%|███████▊                                          | 188/1199 [00:51<04:13,  3.99it/s, now=None]"
     ]
    },
    {
     "name": "stdout",
     "output_type": "stream",
     "text": [
      "missdetection\n",
      "[ 4.74406772e-04 -7.79924286e-01  2.55885381e+02]\n"
     ]
    },
    {
     "name": "stderr",
     "output_type": "stream",
     "text": [
      "\r",
      "t:  16%|███████▉                                          | 189/1199 [00:51<04:22,  3.85it/s, now=None]"
     ]
    },
    {
     "name": "stdout",
     "output_type": "stream",
     "text": [
      "Discarded X point\n",
      "missdetection\n",
      "[ 4.94430093e-04 -8.08321310e-01  2.62622615e+02]\n"
     ]
    },
    {
     "name": "stderr",
     "output_type": "stream",
     "text": [
      "\r",
      "t:  16%|███████▉                                          | 190/1199 [00:51<04:33,  3.69it/s, now=None]"
     ]
    },
    {
     "name": "stdout",
     "output_type": "stream",
     "text": [
      "Discarded X point\n",
      "Discarded X point\n",
      "missdetection\n",
      "[ 4.94430093e-04 -8.08321310e-01  2.62622615e+02]\n"
     ]
    },
    {
     "name": "stderr",
     "output_type": "stream",
     "text": [
      "\r",
      "t:  16%|███████▉                                          | 191/1199 [00:51<04:31,  3.71it/s, now=None]"
     ]
    },
    {
     "name": "stdout",
     "output_type": "stream",
     "text": [
      "Discarded X point\n",
      "Discarded X point\n",
      "missdetection\n",
      "[ 4.94083798e-04 -8.07853880e-01  2.62625114e+02]\n"
     ]
    },
    {
     "name": "stderr",
     "output_type": "stream",
     "text": [
      "\r",
      "t:  16%|████████                                          | 192/1199 [00:52<04:37,  3.63it/s, now=None]"
     ]
    },
    {
     "name": "stdout",
     "output_type": "stream",
     "text": [
      "Discarded X point\n",
      "Discarded X point\n",
      "missdetection\n",
      "[ 4.93564355e-04 -8.07152735e-01  2.62628863e+02]\n"
     ]
    },
    {
     "name": "stderr",
     "output_type": "stream",
     "text": [
      "\r",
      "t:  16%|████████                                          | 193/1199 [00:52<04:39,  3.60it/s, now=None]"
     ]
    },
    {
     "name": "stdout",
     "output_type": "stream",
     "text": [
      "Discarded X point\n",
      "Discarded X point\n",
      "missdetection\n",
      "[ 4.93499425e-04 -8.07065092e-01  2.62629331e+02]\n"
     ]
    },
    {
     "name": "stderr",
     "output_type": "stream",
     "text": [
      "\r",
      "t:  16%|████████                                          | 194/1199 [00:52<04:40,  3.58it/s, now=None]"
     ]
    },
    {
     "name": "stdout",
     "output_type": "stream",
     "text": [
      "Discarded X point\n",
      "Discarded X point\n",
      "missdetection\n",
      "[ 4.93629286e-04 -8.07240379e-01  2.62628394e+02]\n"
     ]
    },
    {
     "name": "stderr",
     "output_type": "stream",
     "text": [
      "\r",
      "t:  16%|████████▏                                         | 195/1199 [00:53<04:36,  3.63it/s, now=None]"
     ]
    },
    {
     "name": "stdout",
     "output_type": "stream",
     "text": [
      "Discarded X point\n",
      "Discarded X point\n",
      "missdetection\n",
      "[-5.47504602e-04  6.00551064e-01 -2.12596026e+02]\n",
      "missdetection\n",
      "[ 8.91163682e-04 -1.09692869e+00  3.02399352e+02]\n",
      "Reset by SanityCheck\n"
     ]
    },
    {
     "name": "stderr",
     "output_type": "stream",
     "text": [
      "\r",
      "t:  16%|████████▏                                         | 196/1199 [00:53<04:27,  3.75it/s, now=None]"
     ]
    },
    {
     "name": "stdout",
     "output_type": "stream",
     "text": [
      "Discarded X point\n",
      "Discarded X point\n",
      "NO pixels with search around poly\n",
      "missdetection\n",
      "[ 1.91323511e-03 -2.29187338e+00  6.41785513e+02]\n"
     ]
    },
    {
     "name": "stderr",
     "output_type": "stream",
     "text": [
      "\r",
      "t:  16%|████████▏                                         | 197/1199 [00:53<04:21,  3.84it/s, now=None]"
     ]
    },
    {
     "name": "stdout",
     "output_type": "stream",
     "text": [
      "Discarded X point\n",
      "Discarded X point\n",
      "missdetection\n",
      "[ 1.91572410e-03 -2.29523303e+00  6.41767550e+02]\n"
     ]
    },
    {
     "name": "stderr",
     "output_type": "stream",
     "text": [
      "\r",
      "t:  17%|████████▎                                         | 198/1199 [00:53<04:25,  3.77it/s, now=None]"
     ]
    },
    {
     "name": "stdout",
     "output_type": "stream",
     "text": [
      "Discarded X point\n",
      "Discarded X point\n",
      "missdetection\n",
      "[ 1.91500987e-03 -2.29426896e+00  6.41772705e+02]\n"
     ]
    },
    {
     "name": "stderr",
     "output_type": "stream",
     "text": [
      "\r",
      "t:  17%|████████▎                                         | 199/1199 [00:54<04:15,  3.92it/s, now=None]"
     ]
    },
    {
     "name": "stdout",
     "output_type": "stream",
     "text": [
      "Discarded X point\n",
      "missdetection\n",
      "[ 1.91407920e-03 -2.29301274e+00  6.41779421e+02]\n"
     ]
    },
    {
     "name": "stderr",
     "output_type": "stream",
     "text": [
      "\r",
      "t:  17%|████████▎                                         | 200/1199 [00:54<04:15,  3.91it/s, now=None]"
     ]
    },
    {
     "name": "stdout",
     "output_type": "stream",
     "text": [
      "Discarded X point\n",
      "missdetection\n",
      "[ 1.91388441e-03 -2.29274981e+00  6.41780827e+02]\n"
     ]
    },
    {
     "name": "stderr",
     "output_type": "stream",
     "text": [
      "\r",
      "t:  17%|████████▍                                         | 201/1199 [00:54<04:18,  3.86it/s, now=None]"
     ]
    },
    {
     "name": "stdout",
     "output_type": "stream",
     "text": [
      "Discarded X point\n",
      "missdetection\n",
      "[ 1.91388441e-03 -2.29274981e+00  6.41780827e+02]\n"
     ]
    },
    {
     "name": "stderr",
     "output_type": "stream",
     "text": [
      "\r",
      "t:  17%|████████▍                                         | 202/1199 [00:54<04:23,  3.79it/s, now=None]"
     ]
    },
    {
     "name": "stdout",
     "output_type": "stream",
     "text": [
      "Discarded X point\n",
      "missdetection\n",
      "[ 1.91394934e-03 -2.29283745e+00  6.41780358e+02]\n"
     ]
    },
    {
     "name": "stderr",
     "output_type": "stream",
     "text": [
      "\r",
      "t:  17%|████████▍                                         | 203/1199 [00:55<04:44,  3.51it/s, now=None]"
     ]
    },
    {
     "name": "stdout",
     "output_type": "stream",
     "text": [
      "Discarded X point\n",
      "missdetection\n",
      "[ 1.91401427e-03 -2.29292510e+00  6.41779890e+02]\n"
     ]
    },
    {
     "name": "stderr",
     "output_type": "stream",
     "text": [
      "\r",
      "t:  17%|████████▌                                         | 204/1199 [00:55<04:53,  3.39it/s, now=None]"
     ]
    },
    {
     "name": "stdout",
     "output_type": "stream",
     "text": [
      "Discarded X point\n",
      "missdetection\n",
      "[ 1.91407920e-03 -2.29301274e+00  6.41779421e+02]\n"
     ]
    },
    {
     "name": "stderr",
     "output_type": "stream",
     "text": [
      "\r",
      "t:  17%|████████▌                                         | 205/1199 [00:55<04:58,  3.33it/s, now=None]"
     ]
    },
    {
     "name": "stdout",
     "output_type": "stream",
     "text": [
      "Discarded X point\n",
      "missdetection\n",
      "[ 1.91420906e-03 -2.29318803e+00  6.41778484e+02]\n",
      "Reset by SanityCheck\n"
     ]
    },
    {
     "name": "stderr",
     "output_type": "stream",
     "text": [
      "\r",
      "t:  17%|████████▌                                         | 206/1199 [00:56<04:49,  3.43it/s, now=None]"
     ]
    },
    {
     "name": "stdout",
     "output_type": "stream",
     "text": [
      "Wrong separation between lines\n"
     ]
    },
    {
     "name": "stderr",
     "output_type": "stream",
     "text": [
      "\r",
      "t:  17%|████████▋                                         | 207/1199 [00:56<04:31,  3.65it/s, now=None]"
     ]
    },
    {
     "name": "stdout",
     "output_type": "stream",
     "text": [
      "missdetection\n",
      "[ 4.16998826e-05  3.11393234e-01 -3.27528429e+02]\n"
     ]
    },
    {
     "name": "stderr",
     "output_type": "stream",
     "text": [
      "\r",
      "t:  17%|████████▋                                         | 208/1199 [00:56<04:21,  3.79it/s, now=None]"
     ]
    },
    {
     "name": "stdout",
     "output_type": "stream",
     "text": [
      "missdetection\n",
      "[ 2.99870251e-06  3.32841563e-01 -3.19579888e+02]\n"
     ]
    },
    {
     "name": "stderr",
     "output_type": "stream",
     "text": [
      "\r",
      "t:  17%|████████▋                                         | 209/1199 [00:56<04:22,  3.78it/s, now=None]"
     ]
    },
    {
     "name": "stdout",
     "output_type": "stream",
     "text": [
      "missdetection\n",
      "[ 9.51870472e-05  2.17351237e-01 -2.79826764e+02]\n"
     ]
    },
    {
     "name": "stderr",
     "output_type": "stream",
     "text": [
      "\r",
      "t:  18%|████████▊                                         | 210/1199 [00:57<04:26,  3.71it/s, now=None]"
     ]
    },
    {
     "name": "stdout",
     "output_type": "stream",
     "text": [
      "missdetection\n",
      "[ 1.80941965e-04  7.88480526e-02 -2.22819209e+02]\n"
     ]
    },
    {
     "name": "stderr",
     "output_type": "stream",
     "text": [
      "\r",
      "t:  18%|████████▊                                         | 211/1199 [00:57<04:28,  3.69it/s, now=None]"
     ]
    },
    {
     "name": "stdout",
     "output_type": "stream",
     "text": [
      "Wrong separation between lines\n"
     ]
    },
    {
     "name": "stderr",
     "output_type": "stream",
     "text": [
      "t:  18%|████████▉                                         | 213/1199 [00:57<04:32,  3.62it/s, now=None]"
     ]
    },
    {
     "name": "stdout",
     "output_type": "stream",
     "text": [
      "Wrong separation between lines\n"
     ]
    },
    {
     "name": "stderr",
     "output_type": "stream",
     "text": [
      "\r",
      "t:  18%|████████▉                                         | 214/1199 [00:58<04:23,  3.74it/s, now=None]"
     ]
    },
    {
     "name": "stdout",
     "output_type": "stream",
     "text": [
      "Wrong separation between lines\n"
     ]
    },
    {
     "name": "stderr",
     "output_type": "stream",
     "text": [
      "t:  18%|█████████                                         | 216/1199 [00:58<04:19,  3.79it/s, now=None]"
     ]
    },
    {
     "name": "stdout",
     "output_type": "stream",
     "text": [
      "Wrong separation between lines\n"
     ]
    },
    {
     "name": "stderr",
     "output_type": "stream",
     "text": [
      "\r",
      "t:  18%|█████████                                         | 217/1199 [00:58<04:05,  4.00it/s, now=None]"
     ]
    },
    {
     "name": "stdout",
     "output_type": "stream",
     "text": [
      "Wrong separation between lines\n"
     ]
    },
    {
     "name": "stderr",
     "output_type": "stream",
     "text": [
      "\r",
      "t:  18%|█████████                                         | 218/1199 [00:59<04:06,  3.98it/s, now=None]"
     ]
    },
    {
     "name": "stdout",
     "output_type": "stream",
     "text": [
      "Wrong separation between lines\n"
     ]
    },
    {
     "name": "stderr",
     "output_type": "stream",
     "text": [
      "\r",
      "t:  18%|█████████▏                                        | 219/1199 [00:59<04:10,  3.91it/s, now=None]"
     ]
    },
    {
     "name": "stdout",
     "output_type": "stream",
     "text": [
      "Wrong separation between lines\n"
     ]
    },
    {
     "name": "stderr",
     "output_type": "stream",
     "text": [
      "t:  18%|█████████▏                                        | 221/1199 [01:00<04:13,  3.85it/s, now=None]"
     ]
    },
    {
     "name": "stdout",
     "output_type": "stream",
     "text": [
      "Wrong separation between lines\n"
     ]
    },
    {
     "name": "stderr",
     "output_type": "stream",
     "text": [
      "t:  19%|█████████▎                                        | 223/1199 [01:00<04:22,  3.72it/s, now=None]"
     ]
    },
    {
     "name": "stdout",
     "output_type": "stream",
     "text": [
      "missdetection\n",
      "[-1.95062823e-03  1.25231690e+00 -1.31121594e+02]\n"
     ]
    },
    {
     "name": "stderr",
     "output_type": "stream",
     "text": [
      "\r",
      "t:  19%|█████████▎                                        | 224/1199 [01:00<04:29,  3.62it/s, now=None]"
     ]
    },
    {
     "name": "stdout",
     "output_type": "stream",
     "text": [
      "missdetection\n",
      "[ 6.16655958e-05 -4.60037247e-01  2.07000719e+02]\n"
     ]
    },
    {
     "name": "stderr",
     "output_type": "stream",
     "text": [
      "\r",
      "t:  19%|█████████▍                                        | 225/1199 [01:01<04:33,  3.56it/s, now=None]"
     ]
    },
    {
     "name": "stdout",
     "output_type": "stream",
     "text": [
      "Wrong separation between lines\n"
     ]
    },
    {
     "name": "stderr",
     "output_type": "stream",
     "text": [
      "\r",
      "t:  19%|█████████▍                                        | 226/1199 [01:01<04:25,  3.66it/s, now=None]"
     ]
    },
    {
     "name": "stdout",
     "output_type": "stream",
     "text": [
      "Wrong separation between lines\n"
     ]
    },
    {
     "name": "stderr",
     "output_type": "stream",
     "text": [
      "\r",
      "t:  19%|█████████▍                                        | 227/1199 [01:01<04:23,  3.69it/s, now=None]"
     ]
    },
    {
     "name": "stdout",
     "output_type": "stream",
     "text": [
      "Wrong separation between lines\n"
     ]
    },
    {
     "name": "stderr",
     "output_type": "stream",
     "text": [
      "\r",
      "t:  19%|█████████▌                                        | 228/1199 [01:01<04:17,  3.77it/s, now=None]"
     ]
    },
    {
     "name": "stdout",
     "output_type": "stream",
     "text": [
      "Wrong separation between lines\n"
     ]
    },
    {
     "name": "stderr",
     "output_type": "stream",
     "text": [
      "\r",
      "t:  19%|█████████▌                                        | 229/1199 [01:02<04:09,  3.89it/s, now=None]"
     ]
    },
    {
     "name": "stdout",
     "output_type": "stream",
     "text": [
      "missdetection\n",
      "[-9.38497116e-05 -3.38437166e-01  2.01215975e+02]\n"
     ]
    },
    {
     "name": "stderr",
     "output_type": "stream",
     "text": [
      "\r",
      "t:  19%|█████████▌                                        | 230/1199 [01:02<04:23,  3.68it/s, now=None]"
     ]
    },
    {
     "name": "stdout",
     "output_type": "stream",
     "text": [
      "missdetection\n",
      "[-7.93313097e-05 -3.61396538e-01  2.10625807e+02]\n"
     ]
    },
    {
     "name": "stderr",
     "output_type": "stream",
     "text": [
      "\r",
      "t:  19%|█████████▋                                        | 231/1199 [01:02<04:31,  3.56it/s, now=None]"
     ]
    },
    {
     "name": "stdout",
     "output_type": "stream",
     "text": [
      "Discarded X point\n",
      "missdetection\n",
      "[-5.79397691e-05 -3.91142422e-01  2.21364854e+02]\n"
     ]
    },
    {
     "name": "stderr",
     "output_type": "stream",
     "text": [
      "\r",
      "t:  19%|█████████▋                                        | 232/1199 [01:03<04:26,  3.63it/s, now=None]"
     ]
    },
    {
     "name": "stdout",
     "output_type": "stream",
     "text": [
      "Discarded X point\n",
      "missdetection\n",
      "[-8.57627792e-05 -3.66545133e-01  2.18669936e+02]\n"
     ]
    },
    {
     "name": "stderr",
     "output_type": "stream",
     "text": [
      "\r",
      "t:  19%|█████████▋                                        | 233/1199 [01:03<04:24,  3.65it/s, now=None]"
     ]
    },
    {
     "name": "stdout",
     "output_type": "stream",
     "text": [
      "Discarded X point\n",
      "missdetection\n",
      "[-1.22723568e-04 -3.31293151e-01  2.13785090e+02]\n"
     ]
    },
    {
     "name": "stderr",
     "output_type": "stream",
     "text": [
      "\r",
      "t:  20%|█████████▊                                        | 234/1199 [01:03<04:34,  3.52it/s, now=None]"
     ]
    },
    {
     "name": "stdout",
     "output_type": "stream",
     "text": [
      "missdetection\n",
      "[-1.00506993e-04 -3.56953413e-01  2.23631409e+02]\n"
     ]
    },
    {
     "name": "stderr",
     "output_type": "stream",
     "text": [
      "\r",
      "t:  20%|█████████▊                                        | 235/1199 [01:03<04:26,  3.62it/s, now=None]"
     ]
    },
    {
     "name": "stdout",
     "output_type": "stream",
     "text": [
      "missdetection\n",
      "[-1.76601849e-04 -2.94349744e-01  2.14657879e+02]\n"
     ]
    },
    {
     "name": "stderr",
     "output_type": "stream",
     "text": [
      "\r",
      "t:  20%|█████████▊                                        | 236/1199 [01:04<04:31,  3.54it/s, now=None]"
     ]
    },
    {
     "name": "stdout",
     "output_type": "stream",
     "text": [
      "missdetection\n",
      "[-2.07451635e-04 -2.66148371e-01  2.11679146e+02]\n"
     ]
    },
    {
     "name": "stderr",
     "output_type": "stream",
     "text": [
      "\r",
      "t:  20%|█████████▉                                        | 237/1199 [01:04<04:35,  3.50it/s, now=None]"
     ]
    },
    {
     "name": "stdout",
     "output_type": "stream",
     "text": [
      "missdetection\n",
      "[-2.09140060e-04 -2.77358868e-01  2.20654724e+02]\n"
     ]
    },
    {
     "name": "stderr",
     "output_type": "stream",
     "text": [
      "\r",
      "t:  20%|█████████▉                                        | 238/1199 [01:04<04:37,  3.47it/s, now=None]"
     ]
    },
    {
     "name": "stdout",
     "output_type": "stream",
     "text": [
      "missdetection\n",
      "[-1.55927442e-04 -3.39144728e-01  2.39173789e+02]\n",
      "Reset by SanityCheck\n"
     ]
    },
    {
     "name": "stderr",
     "output_type": "stream",
     "text": [
      "\r",
      "t:  20%|█████████▉                                        | 239/1199 [01:05<04:33,  3.51it/s, now=None]"
     ]
    },
    {
     "name": "stdout",
     "output_type": "stream",
     "text": [
      "missdetection\n",
      "[ 8.43438046e-05 -5.29988134e-01  2.80544350e+02]\n"
     ]
    },
    {
     "name": "stderr",
     "output_type": "stream",
     "text": [
      "\r",
      "t:  20%|██████████                                        | 240/1199 [01:05<04:42,  3.39it/s, now=None]"
     ]
    },
    {
     "name": "stdout",
     "output_type": "stream",
     "text": [
      "missdetection\n",
      "[ 2.56506124e-04 -7.47411317e-01  3.45488843e+02]\n"
     ]
    },
    {
     "name": "stderr",
     "output_type": "stream",
     "text": [
      "\r",
      "t:  20%|██████████                                        | 241/1199 [01:05<05:03,  3.16it/s, now=None]"
     ]
    },
    {
     "name": "stdout",
     "output_type": "stream",
     "text": [
      "Discarded X point\n",
      "missdetection\n",
      "[ 1.56274475e-04 -6.68019031e-01  3.33264923e+02]\n"
     ]
    },
    {
     "name": "stderr",
     "output_type": "stream",
     "text": [
      "\r",
      "t:  20%|██████████                                        | 242/1199 [01:06<05:04,  3.14it/s, now=None]"
     ]
    },
    {
     "name": "stdout",
     "output_type": "stream",
     "text": [
      "Discarded X point\n",
      "missdetection\n",
      "[ 2.67800742e-04 -8.02991549e-01  3.76532454e+02]\n"
     ]
    },
    {
     "name": "stderr",
     "output_type": "stream",
     "text": [
      "\r",
      "t:  20%|██████████▏                                       | 243/1199 [01:06<05:07,  3.11it/s, now=None]"
     ]
    },
    {
     "name": "stdout",
     "output_type": "stream",
     "text": [
      "Discarded X point\n",
      "missdetection\n",
      "[ 2.95129486e-04 -8.48052496e-01  3.94503731e+02]\n"
     ]
    },
    {
     "name": "stderr",
     "output_type": "stream",
     "text": [
      "\r",
      "t:  20%|██████████▏                                       | 244/1199 [01:06<05:06,  3.12it/s, now=None]"
     ]
    },
    {
     "name": "stdout",
     "output_type": "stream",
     "text": [
      "Discarded X point\n",
      "missdetection\n",
      "[ 3.24347415e-04 -9.06326271e-01  4.19162311e+02]\n"
     ]
    },
    {
     "name": "stderr",
     "output_type": "stream",
     "text": [
      "\r",
      "t:  20%|██████████▏                                       | 245/1199 [01:07<05:08,  3.09it/s, now=None]"
     ]
    },
    {
     "name": "stdout",
     "output_type": "stream",
     "text": [
      "Discarded X point\n",
      "missdetection\n",
      "[ 3.79279072e-04 -9.68082737e-01  4.37517513e+02]\n"
     ]
    },
    {
     "name": "stderr",
     "output_type": "stream",
     "text": [
      "\r",
      "t:  21%|██████████▎                                       | 246/1199 [01:07<05:01,  3.16it/s, now=None]"
     ]
    },
    {
     "name": "stdout",
     "output_type": "stream",
     "text": [
      "Discarded X point\n",
      "missdetection\n",
      "[ 3.92840928e-04 -1.01213695e+00  4.59361625e+02]\n"
     ]
    },
    {
     "name": "stderr",
     "output_type": "stream",
     "text": [
      "\r",
      "t:  21%|██████████▎                                       | 247/1199 [01:07<04:54,  3.24it/s, now=None]"
     ]
    },
    {
     "name": "stdout",
     "output_type": "stream",
     "text": [
      "Discarded X point\n",
      "missdetection\n",
      "[ 4.65585902e-04 -1.09927938e+00  4.86559155e+02]\n"
     ]
    },
    {
     "name": "stderr",
     "output_type": "stream",
     "text": [
      "\r",
      "t:  21%|██████████▎                                       | 248/1199 [01:07<04:42,  3.37it/s, now=None]"
     ]
    },
    {
     "name": "stdout",
     "output_type": "stream",
     "text": [
      "Discarded X point\n",
      "missdetection\n",
      "[ 4.35316937e-04 -1.04763657e+00  4.67399027e+02]\n"
     ]
    },
    {
     "name": "stderr",
     "output_type": "stream",
     "text": [
      "\r",
      "t:  21%|██████████▍                                       | 249/1199 [01:08<04:44,  3.34it/s, now=None]"
     ]
    },
    {
     "name": "stdout",
     "output_type": "stream",
     "text": [
      "Discarded X point\n",
      "missdetection\n",
      "[ 5.12408038e-04 -1.14141741e+00  4.95751365e+02]\n",
      "Reset by SanityCheck\n"
     ]
    },
    {
     "name": "stderr",
     "output_type": "stream",
     "text": [
      "\r",
      "t:  21%|██████████▍                                       | 250/1199 [01:08<04:33,  3.47it/s, now=None]"
     ]
    },
    {
     "name": "stdout",
     "output_type": "stream",
     "text": [
      "missdetection\n",
      "[-2.08797469e-04 -3.19462467e-01  2.70495599e+02]\n"
     ]
    },
    {
     "name": "stderr",
     "output_type": "stream",
     "text": [
      "\r",
      "t:  21%|██████████▍                                       | 251/1199 [01:08<04:35,  3.44it/s, now=None]"
     ]
    },
    {
     "name": "stdout",
     "output_type": "stream",
     "text": [
      "missdetection\n",
      "[ 6.39148747e-04 -1.24786294e+00  5.17125245e+02]\n"
     ]
    },
    {
     "name": "stderr",
     "output_type": "stream",
     "text": [
      "\r",
      "t:  21%|██████████▌                                       | 252/1199 [01:09<04:40,  3.37it/s, now=None]"
     ]
    },
    {
     "name": "stdout",
     "output_type": "stream",
     "text": [
      "missdetection\n",
      "[ 6.55027598e-04 -1.26183909e+00  5.20908638e+02]\n"
     ]
    },
    {
     "name": "stderr",
     "output_type": "stream",
     "text": [
      "\r",
      "t:  21%|██████████▌                                       | 253/1199 [01:09<04:37,  3.40it/s, now=None]"
     ]
    },
    {
     "name": "stdout",
     "output_type": "stream",
     "text": [
      "missdetection\n",
      "[ 7.35829888e-04 -1.37821939e+00  5.61328945e+02]\n"
     ]
    },
    {
     "name": "stderr",
     "output_type": "stream",
     "text": [
      "\r",
      "t:  21%|██████████▌                                       | 254/1199 [01:09<04:45,  3.30it/s, now=None]"
     ]
    },
    {
     "name": "stdout",
     "output_type": "stream",
     "text": [
      "missdetection\n",
      "[ 7.54006062e-04 -1.39212237e+00  5.64906876e+02]\n"
     ]
    },
    {
     "name": "stderr",
     "output_type": "stream",
     "text": [
      "\r",
      "t:  21%|██████████▋                                       | 255/1199 [01:09<04:48,  3.27it/s, now=None]"
     ]
    },
    {
     "name": "stdout",
     "output_type": "stream",
     "text": [
      "missdetection\n",
      "[ 6.92632989e-04 -1.32233880e+00  5.44099413e+02]\n"
     ]
    },
    {
     "name": "stderr",
     "output_type": "stream",
     "text": [
      "\r",
      "t:  21%|██████████▋                                       | 256/1199 [01:10<04:42,  3.34it/s, now=None]"
     ]
    },
    {
     "name": "stdout",
     "output_type": "stream",
     "text": [
      "missdetection\n",
      "[ 5.92513423e-04 -1.19985588e+00  5.06667167e+02]\n"
     ]
    },
    {
     "name": "stderr",
     "output_type": "stream",
     "text": [
      "\r",
      "t:  21%|██████████▋                                       | 257/1199 [01:10<04:30,  3.49it/s, now=None]"
     ]
    },
    {
     "name": "stdout",
     "output_type": "stream",
     "text": [
      "Discarded X point\n",
      "missdetection\n",
      "[ 6.74566278e-04 -1.30037933e+00  5.38387142e+02]\n"
     ]
    },
    {
     "name": "stderr",
     "output_type": "stream",
     "text": [
      "\r",
      "t:  22%|██████████▊                                       | 258/1199 [01:10<04:31,  3.46it/s, now=None]"
     ]
    },
    {
     "name": "stdout",
     "output_type": "stream",
     "text": [
      "Discarded X point\n",
      "missdetection\n",
      "[ 6.27747899e-04 -1.24050733e+00  5.18465057e+02]\n"
     ]
    },
    {
     "name": "stderr",
     "output_type": "stream",
     "text": [
      "\r",
      "t:  22%|██████████▊                                       | 259/1199 [01:11<04:29,  3.48it/s, now=None]"
     ]
    },
    {
     "name": "stdout",
     "output_type": "stream",
     "text": [
      "Discarded X point\n",
      "missdetection\n",
      "[ 4.91245184e-04 -1.07188942e+00  4.68512985e+02]\n"
     ]
    },
    {
     "name": "stderr",
     "output_type": "stream",
     "text": [
      "\r",
      "t:  22%|██████████▊                                       | 260/1199 [01:11<04:24,  3.55it/s, now=None]"
     ]
    },
    {
     "name": "stdout",
     "output_type": "stream",
     "text": [
      "Discarded X point\n",
      "missdetection\n",
      "[ 2.55784727e-04 -7.63377928e-01  3.68064374e+02]\n",
      "Reset by SanityCheck\n"
     ]
    },
    {
     "name": "stderr",
     "output_type": "stream",
     "text": [
      "\r",
      "t:  22%|██████████▉                                       | 261/1199 [01:11<04:15,  3.66it/s, now=None]"
     ]
    },
    {
     "name": "stdout",
     "output_type": "stream",
     "text": [
      "Discarded X point\n",
      "missdetection\n",
      "[-1.21907084e-04 -4.62055581e-01  3.27892627e+02]\n"
     ]
    },
    {
     "name": "stderr",
     "output_type": "stream",
     "text": [
      "\r",
      "t:  22%|██████████▉                                       | 262/1199 [01:11<04:21,  3.58it/s, now=None]"
     ]
    },
    {
     "name": "stdout",
     "output_type": "stream",
     "text": [
      "Discarded X point\n",
      "missdetection\n",
      "[ 4.09849361e-04 -9.26688691e-01  4.12907648e+02]\n"
     ]
    },
    {
     "name": "stderr",
     "output_type": "stream",
     "text": [
      "\r",
      "t:  22%|██████████▉                                       | 263/1199 [01:12<04:12,  3.71it/s, now=None]"
     ]
    },
    {
     "name": "stdout",
     "output_type": "stream",
     "text": [
      "Discarded X point\n",
      "missdetection\n",
      "[ 4.54167504e-04 -9.75758106e-01  4.27351504e+02]\n"
     ]
    },
    {
     "name": "stderr",
     "output_type": "stream",
     "text": [
      "\r",
      "t:  22%|███████████                                       | 264/1199 [01:12<04:11,  3.71it/s, now=None]"
     ]
    },
    {
     "name": "stdout",
     "output_type": "stream",
     "text": [
      "Discarded X point\n",
      "missdetection\n",
      "[ 4.94043431e-04 -1.01885336e+00  4.37308177e+02]\n"
     ]
    },
    {
     "name": "stderr",
     "output_type": "stream",
     "text": [
      "\r",
      "t:  22%|███████████                                       | 265/1199 [01:12<04:17,  3.63it/s, now=None]"
     ]
    },
    {
     "name": "stdout",
     "output_type": "stream",
     "text": [
      "missdetection\n",
      "[ 5.43180500e-04 -1.08625835e+00  4.59745599e+02]\n"
     ]
    },
    {
     "name": "stderr",
     "output_type": "stream",
     "text": [
      "\r",
      "t:  22%|███████████                                       | 266/1199 [01:13<04:23,  3.54it/s, now=None]"
     ]
    },
    {
     "name": "stdout",
     "output_type": "stream",
     "text": [
      "missdetection\n",
      "[ 6.31058909e-04 -1.18522519e+00  4.86139314e+02]\n"
     ]
    },
    {
     "name": "stderr",
     "output_type": "stream",
     "text": [
      "\r",
      "t:  22%|███████████▏                                      | 267/1199 [01:13<04:21,  3.56it/s, now=None]"
     ]
    },
    {
     "name": "stdout",
     "output_type": "stream",
     "text": [
      "missdetection\n",
      "[ 6.47209700e-04 -1.19652921e+00  4.86390710e+02]\n"
     ]
    },
    {
     "name": "stderr",
     "output_type": "stream",
     "text": [
      "\r",
      "t:  22%|███████████▏                                      | 268/1199 [01:13<04:16,  3.63it/s, now=None]"
     ]
    },
    {
     "name": "stdout",
     "output_type": "stream",
     "text": [
      "missdetection\n",
      "[ 5.81079126e-04 -1.10346596e+00  4.53525461e+02]\n"
     ]
    },
    {
     "name": "stderr",
     "output_type": "stream",
     "text": [
      "\r",
      "t:  22%|███████████▏                                      | 269/1199 [01:13<04:27,  3.48it/s, now=None]"
     ]
    },
    {
     "name": "stdout",
     "output_type": "stream",
     "text": [
      "missdetection\n",
      "[ 5.23065922e-04 -1.00999459e+00  4.15938898e+02]\n"
     ]
    },
    {
     "name": "stderr",
     "output_type": "stream",
     "text": [
      "\r",
      "t:  23%|███████████▎                                      | 270/1199 [01:14<04:22,  3.54it/s, now=None]"
     ]
    },
    {
     "name": "stdout",
     "output_type": "stream",
     "text": [
      "missdetection\n",
      "[ 4.43766935e-04 -8.89462519e-01  3.70873341e+02]\n"
     ]
    },
    {
     "name": "stderr",
     "output_type": "stream",
     "text": [
      "\r",
      "t:  23%|███████████▎                                      | 271/1199 [01:14<04:27,  3.48it/s, now=None]"
     ]
    },
    {
     "name": "stdout",
     "output_type": "stream",
     "text": [
      "missdetection\n",
      "[ 3.57809603e-04 -7.55548221e-01  3.19024509e+02]\n",
      "Reset by SanityCheck\n"
     ]
    },
    {
     "name": "stderr",
     "output_type": "stream",
     "text": [
      "\r",
      "t:  23%|███████████▎                                      | 272/1199 [01:14<04:30,  3.43it/s, now=None]"
     ]
    },
    {
     "name": "stdout",
     "output_type": "stream",
     "text": [
      "Wrong separation between lines\n"
     ]
    },
    {
     "name": "stderr",
     "output_type": "stream",
     "text": [
      "\r",
      "t:  23%|███████████▍                                      | 273/1199 [01:15<04:23,  3.51it/s, now=None]"
     ]
    },
    {
     "name": "stdout",
     "output_type": "stream",
     "text": [
      "missdetection\n",
      "[ 2.74436202e-04 -5.96390242e-01  2.49692365e+02]\n"
     ]
    },
    {
     "name": "stderr",
     "output_type": "stream",
     "text": [
      "\r",
      "t:  23%|███████████▍                                      | 274/1199 [01:15<04:25,  3.49it/s, now=None]"
     ]
    },
    {
     "name": "stdout",
     "output_type": "stream",
     "text": [
      "missdetection\n",
      "[ 3.26694495e-04 -6.65819668e-01  2.70789550e+02]\n"
     ]
    },
    {
     "name": "stderr",
     "output_type": "stream",
     "text": [
      "\r",
      "t:  23%|███████████▍                                      | 275/1199 [01:15<04:24,  3.50it/s, now=None]"
     ]
    },
    {
     "name": "stdout",
     "output_type": "stream",
     "text": [
      "missdetection\n",
      "[ 2.18402497e-04 -5.18368204e-01  2.19496498e+02]\n"
     ]
    },
    {
     "name": "stderr",
     "output_type": "stream",
     "text": [
      "\r",
      "t:  23%|███████████▌                                      | 276/1199 [01:15<04:33,  3.38it/s, now=None]"
     ]
    },
    {
     "name": "stdout",
     "output_type": "stream",
     "text": [
      "Wrong separation between lines\n"
     ]
    },
    {
     "name": "stderr",
     "output_type": "stream",
     "text": [
      "\r",
      "t:  23%|███████████▌                                      | 277/1199 [01:16<04:18,  3.57it/s, now=None]"
     ]
    },
    {
     "name": "stdout",
     "output_type": "stream",
     "text": [
      "missdetection\n",
      "[ 2.03347669e-04 -5.13753318e-01  2.22461664e+02]\n",
      "missdetection\n",
      "[-1.49051579e-04  4.17204465e-01 -2.06386281e+02]\n"
     ]
    },
    {
     "name": "stderr",
     "output_type": "stream",
     "text": [
      "\r",
      "t:  23%|███████████▌                                      | 278/1199 [01:16<04:04,  3.77it/s, now=None]"
     ]
    },
    {
     "name": "stdout",
     "output_type": "stream",
     "text": [
      "missdetection\n",
      "[-2.52914050e-04  5.01618918e-01 -2.16299684e+02]\n"
     ]
    },
    {
     "name": "stderr",
     "output_type": "stream",
     "text": [
      "\r",
      "t:  23%|███████████▋                                      | 279/1199 [01:16<04:14,  3.62it/s, now=None]"
     ]
    },
    {
     "name": "stdout",
     "output_type": "stream",
     "text": [
      "missdetection\n",
      "[-7.46453226e-04  8.87765804e-01 -2.44434126e+02]\n",
      "missdetection\n",
      "[-2.20660378e-04  4.88073879e-01 -2.24059072e+02]\n"
     ]
    },
    {
     "name": "stderr",
     "output_type": "stream",
     "text": [
      "\r",
      "t:  23%|███████████▋                                      | 280/1199 [01:16<04:22,  3.50it/s, now=None]"
     ]
    },
    {
     "name": "stdout",
     "output_type": "stream",
     "text": [
      "Wrong separation between lines\n"
     ]
    },
    {
     "name": "stderr",
     "output_type": "stream",
     "text": [
      "\r",
      "t:  23%|███████████▋                                      | 281/1199 [01:17<04:22,  3.50it/s, now=None]"
     ]
    },
    {
     "name": "stdout",
     "output_type": "stream",
     "text": [
      "Wrong separation between lines\n"
     ]
    },
    {
     "name": "stderr",
     "output_type": "stream",
     "text": [
      "\r",
      "t:  24%|███████████▊                                      | 282/1199 [01:17<04:13,  3.62it/s, now=None]"
     ]
    },
    {
     "name": "stdout",
     "output_type": "stream",
     "text": [
      "Wrong separation between lines\n"
     ]
    },
    {
     "name": "stderr",
     "output_type": "stream",
     "text": [
      "\r",
      "t:  24%|███████████▊                                      | 283/1199 [01:17<04:10,  3.65it/s, now=None]"
     ]
    },
    {
     "name": "stdout",
     "output_type": "stream",
     "text": [
      "Wrong separation between lines\n"
     ]
    },
    {
     "name": "stderr",
     "output_type": "stream",
     "text": [
      "\r",
      "t:  24%|███████████▊                                      | 284/1199 [01:18<04:03,  3.76it/s, now=None]"
     ]
    },
    {
     "name": "stdout",
     "output_type": "stream",
     "text": [
      "missdetection\n",
      "[ 1.50657669e-04  2.06137080e-01 -2.12064782e+02]\n"
     ]
    },
    {
     "name": "stderr",
     "output_type": "stream",
     "text": [
      "\r",
      "t:  24%|███████████▉                                      | 285/1199 [01:18<04:10,  3.65it/s, now=None]"
     ]
    },
    {
     "name": "stdout",
     "output_type": "stream",
     "text": [
      "missdetection\n",
      "[ 2.91776792e-02 -3.22514986e+01  8.88969538e+03]\n",
      "missdetection\n",
      "[ 7.67115876e-05  3.14577137e-01 -2.50314358e+02]\n"
     ]
    },
    {
     "name": "stderr",
     "output_type": "stream",
     "text": [
      "\r",
      "t:  24%|███████████▉                                      | 286/1199 [01:18<04:15,  3.57it/s, now=None]"
     ]
    },
    {
     "name": "stdout",
     "output_type": "stream",
     "text": [
      "missdetection\n",
      "[ 1.52715586e-04  2.59661884e-01 -2.35940505e+02]\n"
     ]
    },
    {
     "name": "stderr",
     "output_type": "stream",
     "text": [
      "\r",
      "t:  24%|███████████▉                                      | 287/1199 [01:18<04:19,  3.52it/s, now=None]"
     ]
    },
    {
     "name": "stdout",
     "output_type": "stream",
     "text": [
      "missdetection\n",
      "[ 1.77449187e-04  2.91933736e-01 -2.82344171e+02]\n"
     ]
    },
    {
     "name": "stderr",
     "output_type": "stream",
     "text": [
      "\r",
      "t:  24%|████████████                                      | 288/1199 [01:19<04:25,  3.43it/s, now=None]"
     ]
    },
    {
     "name": "stdout",
     "output_type": "stream",
     "text": [
      "missdetection\n",
      "[ 4.51048613e-03 -5.67468312e+00  1.75852555e+03]\n",
      "missdetection\n",
      "[ 2.53413359e-04  1.77214485e-01 -2.41201180e+02]\n"
     ]
    },
    {
     "name": "stderr",
     "output_type": "stream",
     "text": [
      "\r",
      "t:  24%|████████████                                      | 289/1199 [01:19<04:26,  3.42it/s, now=None]"
     ]
    },
    {
     "name": "stdout",
     "output_type": "stream",
     "text": [
      "missdetection\n",
      "[ 4.03245249e-04  3.61790976e-02 -2.16461405e+02]\n"
     ]
    },
    {
     "name": "stderr",
     "output_type": "stream",
     "text": [
      "\r",
      "t:  24%|████████████                                      | 290/1199 [01:19<04:35,  3.30it/s, now=None]"
     ]
    },
    {
     "name": "stdout",
     "output_type": "stream",
     "text": [
      "missdetection\n",
      "[-1.01354790e-03  9.74602146e-01 -2.41161000e+02]\n",
      "missdetection\n",
      "[-9.57199062e-05  5.56738661e-01 -3.42114714e+02]\n"
     ]
    },
    {
     "name": "stderr",
     "output_type": "stream",
     "text": [
      "\r",
      "t:  24%|████████████▏                                     | 291/1199 [01:20<04:28,  3.39it/s, now=None]"
     ]
    },
    {
     "name": "stdout",
     "output_type": "stream",
     "text": [
      "missdetection\n",
      "[-1.64946533e-04  6.54675933e-01 -3.79428854e+02]\n"
     ]
    },
    {
     "name": "stderr",
     "output_type": "stream",
     "text": [
      "t:  24%|████████████▏                                     | 293/1199 [01:20<04:15,  3.55it/s, now=None]"
     ]
    },
    {
     "name": "stdout",
     "output_type": "stream",
     "text": [
      "Wrong separation between lines\n"
     ]
    },
    {
     "name": "stderr",
     "output_type": "stream",
     "text": [
      "\r",
      "t:  25%|████████████▎                                     | 294/1199 [01:20<04:08,  3.64it/s, now=None]"
     ]
    },
    {
     "name": "stdout",
     "output_type": "stream",
     "text": [
      "Discarded X point\n"
     ]
    },
    {
     "name": "stderr",
     "output_type": "stream",
     "text": [
      "\r",
      "t:  25%|████████████▎                                     | 295/1199 [01:21<04:10,  3.60it/s, now=None]"
     ]
    },
    {
     "name": "stdout",
     "output_type": "stream",
     "text": [
      "Discarded X point\n",
      "missdetection\n",
      "[-4.79561439e-03  5.54563931e+00 -1.58122665e+03]\n"
     ]
    },
    {
     "name": "stderr",
     "output_type": "stream",
     "text": [
      "\r",
      "t:  25%|████████████▎                                     | 296/1199 [01:21<04:14,  3.55it/s, now=None]"
     ]
    },
    {
     "name": "stdout",
     "output_type": "stream",
     "text": [
      "missdetection\n",
      "[ 1.12996293e-03 -1.10548569e+00  2.37818821e+02]\n"
     ]
    },
    {
     "name": "stderr",
     "output_type": "stream",
     "text": [
      "\r",
      "t:  25%|████████████▍                                     | 297/1199 [01:21<04:15,  3.54it/s, now=None]"
     ]
    },
    {
     "name": "stdout",
     "output_type": "stream",
     "text": [
      "missdetection\n",
      "[ 1.58006287e-03 -1.80367564e+00  5.04709068e+02]\n"
     ]
    },
    {
     "name": "stderr",
     "output_type": "stream",
     "text": [
      "\r",
      "t:  25%|████████████▍                                     | 298/1199 [01:22<04:08,  3.63it/s, now=None]"
     ]
    },
    {
     "name": "stdout",
     "output_type": "stream",
     "text": [
      "missdetection\n",
      "[ 1.75642257e-03 -1.97762379e+00  5.40560913e+02]\n"
     ]
    },
    {
     "name": "stderr",
     "output_type": "stream",
     "text": [
      "\r",
      "t:  25%|████████████▍                                     | 299/1199 [01:22<04:03,  3.70it/s, now=None]"
     ]
    },
    {
     "name": "stdout",
     "output_type": "stream",
     "text": [
      "missdetection\n",
      "[ 1.70646842e-03 -1.99425266e+00  5.75700265e+02]\n"
     ]
    },
    {
     "name": "stderr",
     "output_type": "stream",
     "text": [
      "\r",
      "t:  25%|████████████▌                                     | 300/1199 [01:22<04:10,  3.59it/s, now=None]"
     ]
    },
    {
     "name": "stdout",
     "output_type": "stream",
     "text": [
      "missdetection\n",
      "[ 1.84592366e-03 -2.21564288e+00  6.62725115e+02]\n"
     ]
    },
    {
     "name": "stderr",
     "output_type": "stream",
     "text": [
      "\r",
      "t:  25%|████████████▌                                     | 301/1199 [01:22<04:11,  3.57it/s, now=None]"
     ]
    },
    {
     "name": "stdout",
     "output_type": "stream",
     "text": [
      "missdetection\n",
      "[ 1.91596546e-03 -2.30105060e+00  6.89159232e+02]\n"
     ]
    },
    {
     "name": "stderr",
     "output_type": "stream",
     "text": [
      "\r",
      "t:  25%|████████████▌                                     | 302/1199 [01:23<04:07,  3.62it/s, now=None]"
     ]
    },
    {
     "name": "stdout",
     "output_type": "stream",
     "text": [
      "missdetection\n",
      "[ 1.79061926e-03 -2.11970245e+00  6.24910033e+02]\n"
     ]
    },
    {
     "name": "stderr",
     "output_type": "stream",
     "text": [
      "\r",
      "t:  25%|████████████▋                                     | 303/1199 [01:23<04:06,  3.63it/s, now=None]"
     ]
    },
    {
     "name": "stdout",
     "output_type": "stream",
     "text": [
      "missdetection\n",
      "[ 1.98328555e-03 -2.37424190e+00  7.09033454e+02]\n"
     ]
    },
    {
     "name": "stderr",
     "output_type": "stream",
     "text": [
      "\r",
      "t:  25%|████████████▋                                     | 304/1199 [01:23<04:25,  3.37it/s, now=None]"
     ]
    },
    {
     "name": "stdout",
     "output_type": "stream",
     "text": [
      "missdetection\n",
      "[ 1.08442622e-03 -1.12526003e+00  2.76401661e+02]\n"
     ]
    },
    {
     "name": "stderr",
     "output_type": "stream",
     "text": [
      "\r",
      "t:  25%|████████████▋                                     | 305/1199 [01:24<04:25,  3.37it/s, now=None]"
     ]
    },
    {
     "name": "stdout",
     "output_type": "stream",
     "text": [
      "missdetection\n",
      "[ 1.12852252e-03 -1.15493814e+00  2.76656078e+02]\n",
      "Reset by SanityCheck\n"
     ]
    },
    {
     "name": "stderr",
     "output_type": "stream",
     "text": [
      "t:  26%|████████████▊                                     | 307/1199 [01:24<04:06,  3.63it/s, now=None]"
     ]
    },
    {
     "name": "stdout",
     "output_type": "stream",
     "text": [
      "Wrong separation between lines\n"
     ]
    },
    {
     "name": "stderr",
     "output_type": "stream",
     "text": [
      "\r",
      "t:  26%|████████████▊                                     | 308/1199 [01:24<04:01,  3.69it/s, now=None]"
     ]
    },
    {
     "name": "stdout",
     "output_type": "stream",
     "text": [
      "missdetection\n",
      "[ 1.66617265e-03 -1.70540183e+00  4.18839642e+02]\n"
     ]
    },
    {
     "name": "stderr",
     "output_type": "stream",
     "text": [
      "\r",
      "t:  26%|████████████▉                                     | 309/1199 [01:25<03:58,  3.73it/s, now=None]"
     ]
    },
    {
     "name": "stdout",
     "output_type": "stream",
     "text": [
      "missdetection\n",
      "[-1.12794625e-03  1.32737936e+00 -4.11599046e+02]\n",
      "missdetection\n",
      "[ 1.86882748e-03 -1.98318581e+00  5.13845592e+02]\n"
     ]
    },
    {
     "name": "stderr",
     "output_type": "stream",
     "text": [
      "\r",
      "t:  26%|████████████▉                                     | 310/1199 [01:25<03:49,  3.87it/s, now=None]"
     ]
    },
    {
     "name": "stdout",
     "output_type": "stream",
     "text": [
      "missdetection\n",
      "[ 1.95861361e-03 -2.08572703e+00  5.40640150e+02]\n"
     ]
    },
    {
     "name": "stderr",
     "output_type": "stream",
     "text": [
      "\r",
      "t:  26%|████████████▉                                     | 311/1199 [01:25<03:53,  3.81it/s, now=None]"
     ]
    },
    {
     "name": "stdout",
     "output_type": "stream",
     "text": [
      "missdetection\n",
      "[-1.47450567e-03  1.79814614e+00 -5.71855055e+02]\n",
      "missdetection\n",
      "[ 2.01177451e-03 -2.17262309e+00  5.74366914e+02]\n"
     ]
    },
    {
     "name": "stderr",
     "output_type": "stream",
     "text": [
      "\r",
      "t:  26%|█████████████                                     | 312/1199 [01:25<03:50,  3.85it/s, now=None]"
     ]
    },
    {
     "name": "stdout",
     "output_type": "stream",
     "text": [
      "missdetection\n",
      "[ 2.11624282e-03 -2.33570033e+00  6.36770890e+02]\n"
     ]
    },
    {
     "name": "stderr",
     "output_type": "stream",
     "text": [
      "\r",
      "t:  26%|█████████████                                     | 313/1199 [01:26<03:55,  3.77it/s, now=None]"
     ]
    },
    {
     "name": "stdout",
     "output_type": "stream",
     "text": [
      "missdetection\n",
      "[-1.32741356e-03  1.74566756e+00 -6.02222766e+02]\n"
     ]
    },
    {
     "name": "stderr",
     "output_type": "stream",
     "text": [
      "\r",
      "t:  26%|█████████████                                     | 314/1199 [01:26<04:12,  3.51it/s, now=None]"
     ]
    },
    {
     "name": "stdout",
     "output_type": "stream",
     "text": [
      "missdetection\n",
      "[ 6.41272089e-04 -7.47511783e-01  2.17614230e+02]\n"
     ]
    },
    {
     "name": "stderr",
     "output_type": "stream",
     "text": [
      "\r",
      "t:  26%|█████████████▏                                    | 315/1199 [01:26<04:13,  3.49it/s, now=None]"
     ]
    },
    {
     "name": "stdout",
     "output_type": "stream",
     "text": [
      "missdetection\n",
      "[ 7.08903964e-04 -8.05914070e-01  2.23243462e+02]\n"
     ]
    },
    {
     "name": "stderr",
     "output_type": "stream",
     "text": [
      "\r",
      "t:  26%|█████████████▏                                    | 316/1199 [01:27<04:09,  3.55it/s, now=None]"
     ]
    },
    {
     "name": "stdout",
     "output_type": "stream",
     "text": [
      "Wrong separation between lines\n"
     ]
    },
    {
     "name": "stderr",
     "output_type": "stream",
     "text": [
      "t:  27%|█████████████▎                                    | 318/1199 [01:27<04:00,  3.67it/s, now=None]"
     ]
    },
    {
     "name": "stdout",
     "output_type": "stream",
     "text": [
      "missdetection\n",
      "[-8.72033908e-04  9.17802366e-01 -2.61320454e+02]\n",
      "missdetection\n",
      "[-1.20522707e-04  4.64869083e-01 -2.37136302e+02]\n"
     ]
    },
    {
     "name": "stderr",
     "output_type": "stream",
     "text": [
      "\r",
      "t:  27%|█████████████▎                                    | 319/1199 [01:27<03:54,  3.76it/s, now=None]"
     ]
    },
    {
     "name": "stdout",
     "output_type": "stream",
     "text": [
      "Wrong separation between lines\n"
     ]
    },
    {
     "name": "stderr",
     "output_type": "stream",
     "text": [
      "\r",
      "t:  27%|█████████████▎                                    | 320/1199 [01:28<03:49,  3.82it/s, now=None]"
     ]
    },
    {
     "name": "stdout",
     "output_type": "stream",
     "text": [
      "Wrong separation between lines\n"
     ]
    },
    {
     "name": "stderr",
     "output_type": "stream",
     "text": [
      "\r",
      "t:  27%|█████████████▍                                    | 321/1199 [01:28<03:50,  3.81it/s, now=None]"
     ]
    },
    {
     "name": "stdout",
     "output_type": "stream",
     "text": [
      "Wrong separation between lines\n"
     ]
    },
    {
     "name": "stderr",
     "output_type": "stream",
     "text": [
      "\r",
      "t:  27%|█████████████▍                                    | 322/1199 [01:28<03:45,  3.89it/s, now=None]"
     ]
    },
    {
     "name": "stdout",
     "output_type": "stream",
     "text": [
      "missdetection\n",
      "[-2.77628622e-04  5.00369060e-01 -2.08738440e+02]\n"
     ]
    },
    {
     "name": "stderr",
     "output_type": "stream",
     "text": [
      "\r",
      "t:  27%|█████████████▍                                    | 323/1199 [01:28<04:02,  3.61it/s, now=None]"
     ]
    },
    {
     "name": "stdout",
     "output_type": "stream",
     "text": [
      "missdetection\n",
      "[-4.09836076e-04  6.91981205e-01 -2.78896822e+02]\n",
      "missdetection\n",
      "[-1.22414312e-04  4.52977147e-01 -2.34005291e+02]\n"
     ]
    },
    {
     "name": "stderr",
     "output_type": "stream",
     "text": [
      "\r",
      "t:  27%|█████████████▌                                    | 324/1199 [01:29<03:53,  3.75it/s, now=None]"
     ]
    },
    {
     "name": "stdout",
     "output_type": "stream",
     "text": [
      "missdetection\n",
      "[-3.45613527e-04  6.27802905e-01 -2.65034890e+02]\n"
     ]
    },
    {
     "name": "stderr",
     "output_type": "stream",
     "text": [
      "\r",
      "t:  27%|█████████████▌                                    | 325/1199 [01:29<03:57,  3.68it/s, now=None]"
     ]
    },
    {
     "name": "stdout",
     "output_type": "stream",
     "text": [
      "missdetection\n",
      "[-2.83049416e-04  5.73802429e-01 -2.57791074e+02]\n",
      "missdetection\n",
      "[-9.90225479e-05  4.06489561e-01 -2.15399351e+02]\n"
     ]
    },
    {
     "name": "stderr",
     "output_type": "stream",
     "text": [
      "\r",
      "t:  27%|█████████████▌                                    | 326/1199 [01:29<03:47,  3.84it/s, now=None]"
     ]
    },
    {
     "name": "stdout",
     "output_type": "stream",
     "text": [
      "missdetection\n",
      "[-2.06372388e-04  4.85499066e-01 -2.39362462e+02]\n"
     ]
    },
    {
     "name": "stderr",
     "output_type": "stream",
     "text": [
      "\r",
      "t:  27%|█████████████▋                                    | 327/1199 [01:29<03:52,  3.76it/s, now=None]"
     ]
    },
    {
     "name": "stdout",
     "output_type": "stream",
     "text": [
      "Wrong separation between lines\n"
     ]
    },
    {
     "name": "stderr",
     "output_type": "stream",
     "text": [
      "\r",
      "t:  27%|█████████████▋                                    | 328/1199 [01:30<03:43,  3.89it/s, now=None]"
     ]
    },
    {
     "name": "stdout",
     "output_type": "stream",
     "text": [
      "Wrong separation between lines\n"
     ]
    },
    {
     "name": "stderr",
     "output_type": "stream",
     "text": [
      "\r",
      "t:  27%|█████████████▋                                    | 329/1199 [01:30<03:38,  3.97it/s, now=None]"
     ]
    },
    {
     "name": "stdout",
     "output_type": "stream",
     "text": [
      "missdetection\n",
      "[-4.38570391e-04  9.69829052e-01 -4.37836301e+02]\n"
     ]
    },
    {
     "name": "stderr",
     "output_type": "stream",
     "text": [
      "\r",
      "t:  28%|█████████████▊                                    | 330/1199 [01:30<03:43,  3.89it/s, now=None]"
     ]
    },
    {
     "name": "stdout",
     "output_type": "stream",
     "text": [
      "missdetection\n",
      "[-1.56244867e-04  4.06951466e-01 -2.38543267e+02]\n",
      "missdetection\n",
      "[ 1.20604382e-03 -1.23107417e+00  2.97226336e+02]\n"
     ]
    },
    {
     "name": "stderr",
     "output_type": "stream",
     "text": [
      "\r",
      "t:  28%|█████████████▊                                    | 331/1199 [01:30<03:42,  3.91it/s, now=None]"
     ]
    },
    {
     "name": "stdout",
     "output_type": "stream",
     "text": [
      "missdetection\n",
      "[ 1.21530875e-03 -1.23946851e+00  3.00656649e+02]\n"
     ]
    },
    {
     "name": "stderr",
     "output_type": "stream",
     "text": [
      "\r",
      "t:  28%|█████████████▊                                    | 332/1199 [01:31<03:44,  3.86it/s, now=None]"
     ]
    },
    {
     "name": "stdout",
     "output_type": "stream",
     "text": [
      "missdetection\n",
      "[-7.90304922e-05  3.65448762e-01 -2.46032810e+02]\n",
      "missdetection\n",
      "[-1.86034317e-04  6.90191873e-01 -3.63534671e+02]\n"
     ]
    },
    {
     "name": "stderr",
     "output_type": "stream",
     "text": [
      "\r",
      "t:  28%|█████████████▉                                    | 333/1199 [01:31<03:37,  3.99it/s, now=None]"
     ]
    },
    {
     "name": "stdout",
     "output_type": "stream",
     "text": [
      "missdetection\n",
      "[ 1.45578370e-04  3.85619742e-01 -3.09201128e+02]\n"
     ]
    },
    {
     "name": "stderr",
     "output_type": "stream",
     "text": [
      "\r",
      "t:  28%|█████████████▉                                    | 334/1199 [01:31<03:44,  3.85it/s, now=None]"
     ]
    },
    {
     "name": "stdout",
     "output_type": "stream",
     "text": [
      "missdetection\n",
      "[ 2.38100143e-04  2.91545131e-01 -2.87673785e+02]\n"
     ]
    },
    {
     "name": "stderr",
     "output_type": "stream",
     "text": [
      "\r",
      "t:  28%|█████████████▉                                    | 335/1199 [01:32<03:51,  3.73it/s, now=None]"
     ]
    },
    {
     "name": "stdout",
     "output_type": "stream",
     "text": [
      "missdetection\n",
      "[ 1.92115786e-04  3.12197346e-01 -2.90862739e+02]\n"
     ]
    },
    {
     "name": "stderr",
     "output_type": "stream",
     "text": [
      "\r",
      "t:  28%|██████████████                                    | 336/1199 [01:32<03:49,  3.76it/s, now=None]"
     ]
    },
    {
     "name": "stdout",
     "output_type": "stream",
     "text": [
      "missdetection\n",
      "[-6.33652428e-04  8.68157890e-01 -3.35767312e+02]\n",
      "missdetection\n",
      "[ 2.51944138e-04  2.73972271e-01 -2.93192068e+02]\n"
     ]
    },
    {
     "name": "stderr",
     "output_type": "stream",
     "text": [
      "\r",
      "t:  28%|██████████████                                    | 337/1199 [01:32<03:40,  3.90it/s, now=None]"
     ]
    },
    {
     "name": "stdout",
     "output_type": "stream",
     "text": [
      "missdetection\n",
      "[ 2.96412744e-04  1.34121745e-01 -2.14728293e+02]\n"
     ]
    },
    {
     "name": "stderr",
     "output_type": "stream",
     "text": [
      "\r",
      "t:  28%|██████████████                                    | 338/1199 [01:32<03:46,  3.80it/s, now=None]"
     ]
    },
    {
     "name": "stdout",
     "output_type": "stream",
     "text": [
      "missdetection\n",
      "[-3.86962244e-03  4.83761086e+00 -1.54578163e+03]\n",
      "missdetection\n",
      "[ 2.83858570e-04  1.29818096e-01 -2.06452111e+02]\n",
      "Reset by SanityCheck\n"
     ]
    },
    {
     "name": "stderr",
     "output_type": "stream",
     "text": [
      "\r",
      "t:  28%|██████████████▏                                   | 339/1199 [01:33<03:55,  3.66it/s, now=None]"
     ]
    },
    {
     "name": "stdout",
     "output_type": "stream",
     "text": [
      "Wrong separation between lines\n"
     ]
    },
    {
     "name": "stderr",
     "output_type": "stream",
     "text": [
      "\r",
      "t:  28%|██████████████▏                                   | 340/1199 [01:33<03:42,  3.85it/s, now=None]"
     ]
    },
    {
     "name": "stdout",
     "output_type": "stream",
     "text": [
      "missdetection\n",
      "[ 7.00226959e-04 -8.87192024e-01  2.62212427e+02]\n"
     ]
    },
    {
     "name": "stderr",
     "output_type": "stream",
     "text": [
      "\r",
      "t:  28%|██████████████▏                                   | 341/1199 [01:33<03:47,  3.77it/s, now=None]"
     ]
    },
    {
     "name": "stdout",
     "output_type": "stream",
     "text": [
      "Discarded X point\n",
      "Wrong separation between lines\n"
     ]
    },
    {
     "name": "stderr",
     "output_type": "stream",
     "text": [
      "\r",
      "t:  29%|██████████████▎                                   | 342/1199 [01:33<03:44,  3.83it/s, now=None]"
     ]
    },
    {
     "name": "stdout",
     "output_type": "stream",
     "text": [
      "Discarded X point\n",
      "missdetection\n",
      "[-4.14113049e-04  5.88148627e-01 -2.26498234e+02]\n",
      "missdetection\n",
      "[ 2.86553621e-04  1.22609104e-01 -2.06975256e+02]\n"
     ]
    },
    {
     "name": "stderr",
     "output_type": "stream",
     "text": [
      "\r",
      "t:  29%|██████████████▎                                   | 343/1199 [01:34<03:39,  3.90it/s, now=None]"
     ]
    },
    {
     "name": "stdout",
     "output_type": "stream",
     "text": [
      "Discarded X point\n",
      "missdetection\n",
      "[-5.06460650e-04  7.03744553e-01 -2.61418106e+02]\n"
     ]
    },
    {
     "name": "stderr",
     "output_type": "stream",
     "text": [
      "\r",
      "t:  29%|██████████████▎                                   | 344/1199 [01:34<03:39,  3.89it/s, now=None]"
     ]
    },
    {
     "name": "stdout",
     "output_type": "stream",
     "text": [
      "missdetection\n",
      "[-4.68876841e-04  6.54220975e-01 -2.46171596e+02]\n"
     ]
    },
    {
     "name": "stderr",
     "output_type": "stream",
     "text": [
      "\r",
      "t:  29%|██████████████▍                                   | 345/1199 [01:34<03:44,  3.80it/s, now=None]"
     ]
    },
    {
     "name": "stdout",
     "output_type": "stream",
     "text": [
      "Discarded X point\n",
      "missdetection\n",
      "[-3.88658854e-04  5.47477393e-01 -2.10743019e+02]\n"
     ]
    },
    {
     "name": "stderr",
     "output_type": "stream",
     "text": [
      "\r",
      "t:  29%|██████████████▍                                   | 346/1199 [01:34<03:53,  3.65it/s, now=None]"
     ]
    },
    {
     "name": "stdout",
     "output_type": "stream",
     "text": [
      "Discarded X point\n",
      "Discarded X point\n",
      "missdetection\n",
      "[-5.43936037e-04  7.28748014e-01 -2.60720790e+02]\n"
     ]
    },
    {
     "name": "stderr",
     "output_type": "stream",
     "text": [
      "\r",
      "t:  29%|██████████████▍                                   | 347/1199 [01:35<03:59,  3.55it/s, now=None]"
     ]
    },
    {
     "name": "stdout",
     "output_type": "stream",
     "text": [
      "Discarded X point\n",
      "Discarded X point\n",
      "missdetection\n",
      "[-4.66737112e-04  6.44372704e-01 -2.39107223e+02]\n"
     ]
    },
    {
     "name": "stderr",
     "output_type": "stream",
     "text": [
      "\r",
      "t:  29%|██████████████▌                                   | 348/1199 [01:35<04:03,  3.49it/s, now=None]"
     ]
    },
    {
     "name": "stdout",
     "output_type": "stream",
     "text": [
      "Discarded X point\n",
      "Discarded X point\n",
      "missdetection\n",
      "[-6.05613790e-04  8.02438792e-01 -2.82527869e+02]\n"
     ]
    },
    {
     "name": "stderr",
     "output_type": "stream",
     "text": [
      "\r",
      "t:  29%|██████████████▌                                   | 349/1199 [01:35<04:09,  3.41it/s, now=None]"
     ]
    },
    {
     "name": "stdout",
     "output_type": "stream",
     "text": [
      "Discarded X point\n",
      "missdetection\n",
      "[-5.94495696e-04  7.94738986e-01 -2.82531686e+02]\n"
     ]
    },
    {
     "name": "stderr",
     "output_type": "stream",
     "text": [
      "\r",
      "t:  29%|██████████████▌                                   | 350/1199 [01:36<04:07,  3.43it/s, now=None]"
     ]
    },
    {
     "name": "stdout",
     "output_type": "stream",
     "text": [
      "Discarded X point\n",
      "missdetection\n",
      "[-3.35297099e-04  5.17892163e-01 -2.14311887e+02]\n"
     ]
    },
    {
     "name": "stderr",
     "output_type": "stream",
     "text": [
      "\r",
      "t:  29%|██████████████▋                                   | 351/1199 [01:36<04:04,  3.47it/s, now=None]"
     ]
    },
    {
     "name": "stdout",
     "output_type": "stream",
     "text": [
      "missdetection\n",
      "[-5.98074755e-04  8.37841583e-01 -3.11987383e+02]\n",
      "missdetection\n",
      "[ 2.14559743e-03 -2.14394526e+00  4.69774450e+02]\n",
      "Reset by SanityCheck\n"
     ]
    },
    {
     "name": "stderr",
     "output_type": "stream",
     "text": [
      "\r",
      "t:  29%|██████████████▋                                   | 352/1199 [01:36<03:55,  3.60it/s, now=None]"
     ]
    },
    {
     "name": "stdout",
     "output_type": "stream",
     "text": [
      "Discarded X point\n",
      "missdetection\n",
      "[-1.03984550e-02  9.45197362e+00 -2.16604592e+03]\n",
      "missdetection\n",
      "[ 3.42073082e-04  2.30490623e-01 -3.08702325e+02]\n"
     ]
    },
    {
     "name": "stderr",
     "output_type": "stream",
     "text": [
      "t:  30%|██████████████▊                                   | 354/1199 [01:37<03:37,  3.88it/s, now=None]"
     ]
    },
    {
     "name": "stdout",
     "output_type": "stream",
     "text": [
      "Discarded X point\n",
      "missdetection\n",
      "[-1.16313704e-02  1.20009681e+01 -3.09978432e+03]\n",
      "missdetection\n",
      "[ 6.94695936e-03 -7.76052899e+00  2.08483059e+03]\n"
     ]
    },
    {
     "name": "stderr",
     "output_type": "stream",
     "text": [
      "t:  30%|██████████████▊                                   | 356/1199 [01:37<03:27,  4.06it/s, now=None]"
     ]
    },
    {
     "name": "stdout",
     "output_type": "stream",
     "text": [
      "missdetection\n",
      "[-1.47860166e-02  1.67374496e+01 -4.72320890e+03]\n",
      "missdetection\n",
      "[ 1.14484481e-03 -1.42229672e+00  4.11376040e+02]\n"
     ]
    },
    {
     "name": "stderr",
     "output_type": "stream",
     "text": [
      "\r",
      "t:  30%|██████████████▉                                   | 357/1199 [01:37<03:26,  4.07it/s, now=None]"
     ]
    },
    {
     "name": "stdout",
     "output_type": "stream",
     "text": [
      "missdetection\n",
      "[-5.48968746e-04  6.64226107e-01 -2.28884000e+02]\n",
      "missdetection\n",
      "[ 1.45999935e-03 -1.58517756e+00  4.03606118e+02]\n"
     ]
    },
    {
     "name": "stderr",
     "output_type": "stream",
     "text": [
      "\r",
      "t:  30%|██████████████▉                                   | 358/1199 [01:38<03:28,  4.04it/s, now=None]"
     ]
    },
    {
     "name": "stdout",
     "output_type": "stream",
     "text": [
      "missdetection\n",
      "[ 7.34153137e-04 -1.03151263e+00  3.32700363e+02]\n"
     ]
    },
    {
     "name": "stderr",
     "output_type": "stream",
     "text": [
      "\r",
      "t:  30%|██████████████▉                                   | 359/1199 [01:38<03:34,  3.92it/s, now=None]"
     ]
    },
    {
     "name": "stdout",
     "output_type": "stream",
     "text": [
      "missdetection\n",
      "[-7.05893065e-04  9.59073468e-01 -3.53372324e+02]\n"
     ]
    },
    {
     "name": "stderr",
     "output_type": "stream",
     "text": [
      "\r",
      "t:  30%|███████████████                                   | 360/1199 [01:38<03:40,  3.80it/s, now=None]"
     ]
    },
    {
     "name": "stdout",
     "output_type": "stream",
     "text": [
      "missdetection\n",
      "[-5.67063858e-04  8.48077337e-01 -3.49752442e+02]\n"
     ]
    },
    {
     "name": "stderr",
     "output_type": "stream",
     "text": [
      "\r",
      "t:  30%|███████████████                                   | 361/1199 [01:38<03:41,  3.78it/s, now=None]"
     ]
    },
    {
     "name": "stdout",
     "output_type": "stream",
     "text": [
      "missdetection\n",
      "[-2.06187694e-04  4.16743358e-01 -2.19843692e+02]\n"
     ]
    },
    {
     "name": "stderr",
     "output_type": "stream",
     "text": [
      "\r",
      "t:  30%|███████████████                                   | 362/1199 [01:39<03:47,  3.67it/s, now=None]"
     ]
    },
    {
     "name": "stdout",
     "output_type": "stream",
     "text": [
      "Wrong separation between lines\n"
     ]
    },
    {
     "name": "stderr",
     "output_type": "stream",
     "text": [
      "\r",
      "t:  30%|███████████████▏                                  | 363/1199 [01:39<03:36,  3.86it/s, now=None]"
     ]
    },
    {
     "name": "stdout",
     "output_type": "stream",
     "text": [
      "missdetection\n",
      "[-3.78361625e-04  6.51778416e-01 -3.05058839e+02]\n"
     ]
    },
    {
     "name": "stderr",
     "output_type": "stream",
     "text": [
      "\r",
      "t:  30%|███████████████▏                                  | 364/1199 [01:39<03:41,  3.77it/s, now=None]"
     ]
    },
    {
     "name": "stdout",
     "output_type": "stream",
     "text": [
      "missdetection\n",
      "[-3.55800365e-04  6.37972063e-01 -3.04209011e+02]\n"
     ]
    },
    {
     "name": "stderr",
     "output_type": "stream",
     "text": [
      "\r",
      "t:  30%|███████████████▏                                  | 365/1199 [01:40<03:48,  3.65it/s, now=None]"
     ]
    },
    {
     "name": "stdout",
     "output_type": "stream",
     "text": [
      "missdetection\n",
      "[-4.49191770e-04  6.97712328e-01 -3.00775773e+02]\n"
     ]
    },
    {
     "name": "stderr",
     "output_type": "stream",
     "text": [
      "\r",
      "t:  31%|███████████████▎                                  | 366/1199 [01:40<03:50,  3.62it/s, now=None]"
     ]
    },
    {
     "name": "stdout",
     "output_type": "stream",
     "text": [
      "missdetection\n",
      "[-3.85545939e-04  6.33817640e-01 -2.92834035e+02]\n"
     ]
    },
    {
     "name": "stderr",
     "output_type": "stream",
     "text": [
      "\r",
      "t:  31%|███████████████▎                                  | 367/1199 [01:40<03:58,  3.49it/s, now=None]"
     ]
    },
    {
     "name": "stdout",
     "output_type": "stream",
     "text": [
      "Discarded X point\n",
      "missdetection\n",
      "[-4.77396878e-04  7.05435600e-01 -2.96577594e+02]\n"
     ]
    },
    {
     "name": "stderr",
     "output_type": "stream",
     "text": [
      "\r",
      "t:  31%|███████████████▎                                  | 368/1199 [01:40<04:02,  3.42it/s, now=None]"
     ]
    },
    {
     "name": "stdout",
     "output_type": "stream",
     "text": [
      "Discarded X point\n",
      "missdetection\n",
      "[-6.81655580e-04  8.80225874e-01 -3.19090202e+02]\n"
     ]
    },
    {
     "name": "stderr",
     "output_type": "stream",
     "text": [
      "\r",
      "t:  31%|███████████████▍                                  | 369/1199 [01:41<04:01,  3.44it/s, now=None]"
     ]
    },
    {
     "name": "stdout",
     "output_type": "stream",
     "text": [
      "missdetection\n",
      "[-5.87044450e-04  7.74882566e-01 -2.90949425e+02]\n"
     ]
    },
    {
     "name": "stderr",
     "output_type": "stream",
     "text": [
      "\r",
      "t:  31%|███████████████▍                                  | 370/1199 [01:41<04:05,  3.38it/s, now=None]"
     ]
    },
    {
     "name": "stdout",
     "output_type": "stream",
     "text": [
      "missdetection\n",
      "[-7.28785254e-04  8.89548096e-01 -3.03822409e+02]\n"
     ]
    },
    {
     "name": "stderr",
     "output_type": "stream",
     "text": [
      "\r",
      "t:  31%|███████████████▍                                  | 371/1199 [01:41<04:04,  3.39it/s, now=None]"
     ]
    },
    {
     "name": "stdout",
     "output_type": "stream",
     "text": [
      "missdetection\n",
      "[-4.27154173e-04  6.32678247e-01 -2.67592728e+02]\n"
     ]
    },
    {
     "name": "stderr",
     "output_type": "stream",
     "text": [
      "\r",
      "t:  31%|███████████████▌                                  | 372/1199 [01:42<03:58,  3.47it/s, now=None]"
     ]
    },
    {
     "name": "stdout",
     "output_type": "stream",
     "text": [
      "missdetection\n",
      "[-2.34419125e-04  4.80848823e-01 -2.55397537e+02]\n",
      "Reset by SanityCheck\n"
     ]
    },
    {
     "name": "stderr",
     "output_type": "stream",
     "text": [
      "\r",
      "t:  31%|███████████████▌                                  | 373/1199 [01:42<03:53,  3.54it/s, now=None]"
     ]
    },
    {
     "name": "stdout",
     "output_type": "stream",
     "text": [
      "Wrong separation between lines\n"
     ]
    },
    {
     "name": "stderr",
     "output_type": "stream",
     "text": [
      "\r",
      "t:  31%|███████████████▌                                  | 374/1199 [01:42<03:50,  3.58it/s, now=None]"
     ]
    },
    {
     "name": "stdout",
     "output_type": "stream",
     "text": [
      "missdetection\n",
      "[-1.55485585e-04  3.72555963e-01 -2.21736815e+02]\n"
     ]
    },
    {
     "name": "stderr",
     "output_type": "stream",
     "text": [
      "\r",
      "t:  31%|███████████████▋                                  | 375/1199 [01:42<03:53,  3.53it/s, now=None]"
     ]
    },
    {
     "name": "stdout",
     "output_type": "stream",
     "text": [
      "missdetection\n",
      "[-2.52502731e-04  4.23332087e-01 -2.14802501e+02]\n"
     ]
    },
    {
     "name": "stderr",
     "output_type": "stream",
     "text": [
      "\r",
      "t:  31%|███████████████▋                                  | 376/1199 [01:43<03:51,  3.55it/s, now=None]"
     ]
    },
    {
     "name": "stdout",
     "output_type": "stream",
     "text": [
      "missdetection\n",
      "[-2.85878653e-04  4.64572562e-01 -2.24953405e+02]\n"
     ]
    },
    {
     "name": "stderr",
     "output_type": "stream",
     "text": [
      "\r",
      "t:  31%|███████████████▋                                  | 377/1199 [01:43<03:52,  3.54it/s, now=None]"
     ]
    },
    {
     "name": "stdout",
     "output_type": "stream",
     "text": [
      "missdetection\n",
      "[-2.63564884e-04  4.41022179e-01 -2.16744934e+02]\n"
     ]
    },
    {
     "name": "stderr",
     "output_type": "stream",
     "text": [
      "\r",
      "t:  32%|███████████████▊                                  | 378/1199 [01:43<03:56,  3.47it/s, now=None]"
     ]
    },
    {
     "name": "stdout",
     "output_type": "stream",
     "text": [
      "missdetection\n",
      "[-3.04215435e-04  4.62291850e-01 -2.10561655e+02]\n"
     ]
    },
    {
     "name": "stderr",
     "output_type": "stream",
     "text": [
      "\r",
      "t:  32%|███████████████▊                                  | 379/1199 [01:44<03:58,  3.43it/s, now=None]"
     ]
    },
    {
     "name": "stdout",
     "output_type": "stream",
     "text": [
      "Wrong separation between lines\n"
     ]
    },
    {
     "name": "stderr",
     "output_type": "stream",
     "text": [
      "t:  32%|███████████████▉                                  | 381/1199 [01:44<03:54,  3.49it/s, now=None]"
     ]
    },
    {
     "name": "stdout",
     "output_type": "stream",
     "text": [
      "Wrong separation between lines\n"
     ]
    },
    {
     "name": "stderr",
     "output_type": "stream",
     "text": [
      "t:  32%|███████████████▉                                  | 383/1199 [01:45<03:44,  3.64it/s, now=None]"
     ]
    },
    {
     "name": "stdout",
     "output_type": "stream",
     "text": [
      "Wrong separation between lines\n"
     ]
    },
    {
     "name": "stderr",
     "output_type": "stream",
     "text": [
      "t:  32%|████████████████                                  | 385/1199 [01:45<03:33,  3.82it/s, now=None]"
     ]
    },
    {
     "name": "stdout",
     "output_type": "stream",
     "text": [
      "missdetection\n",
      "[ 1.19035592e-03 -1.16305056e+00  2.50857259e+02]\n"
     ]
    },
    {
     "name": "stderr",
     "output_type": "stream",
     "text": [
      "\r",
      "t:  32%|████████████████                                  | 386/1199 [01:45<03:37,  3.74it/s, now=None]"
     ]
    },
    {
     "name": "stdout",
     "output_type": "stream",
     "text": [
      "Wrong separation between lines\n"
     ]
    },
    {
     "name": "stderr",
     "output_type": "stream",
     "text": [
      "\r",
      "t:  32%|████████████████▏                                 | 387/1199 [01:46<03:32,  3.81it/s, now=None]"
     ]
    },
    {
     "name": "stdout",
     "output_type": "stream",
     "text": [
      "Wrong separation between lines\n"
     ]
    },
    {
     "name": "stderr",
     "output_type": "stream",
     "text": [
      "\r",
      "t:  32%|████████████████▏                                 | 388/1199 [01:46<03:27,  3.90it/s, now=None]"
     ]
    },
    {
     "name": "stdout",
     "output_type": "stream",
     "text": [
      "missdetection\n",
      "[ 1.01404680e-03 -1.12484006e+00  2.89842907e+02]\n"
     ]
    },
    {
     "name": "stderr",
     "output_type": "stream",
     "text": [
      "\r",
      "t:  32%|████████████████▏                                 | 389/1199 [01:46<03:31,  3.83it/s, now=None]"
     ]
    },
    {
     "name": "stdout",
     "output_type": "stream",
     "text": [
      "missdetection\n",
      "[ 1.27220800e-03 -1.50480890e+00  4.29342172e+02]\n"
     ]
    },
    {
     "name": "stderr",
     "output_type": "stream",
     "text": [
      "\r",
      "t:  33%|████████████████▎                                 | 390/1199 [01:46<03:32,  3.81it/s, now=None]"
     ]
    },
    {
     "name": "stdout",
     "output_type": "stream",
     "text": [
      "missdetection\n",
      "[ 1.64375007e-03 -2.06328357e+00  6.37582765e+02]\n"
     ]
    },
    {
     "name": "stderr",
     "output_type": "stream",
     "text": [
      "\r",
      "t:  33%|████████████████▎                                 | 391/1199 [01:47<03:31,  3.82it/s, now=None]"
     ]
    },
    {
     "name": "stdout",
     "output_type": "stream",
     "text": [
      "missdetection\n",
      "[ 1.75744637e-03 -2.24530175e+00  7.09463613e+02]\n"
     ]
    },
    {
     "name": "stderr",
     "output_type": "stream",
     "text": [
      "\r",
      "t:  33%|████████████████▎                                 | 392/1199 [01:47<03:33,  3.77it/s, now=None]"
     ]
    },
    {
     "name": "stdout",
     "output_type": "stream",
     "text": [
      "missdetection\n",
      "[ 1.81486147e-03 -2.35713592e+00  7.59966796e+02]\n"
     ]
    },
    {
     "name": "stderr",
     "output_type": "stream",
     "text": [
      "t:  33%|████████████████▍                                 | 394/1199 [01:48<03:36,  3.73it/s, now=None]"
     ]
    },
    {
     "name": "stdout",
     "output_type": "stream",
     "text": [
      "missdetection\n",
      "[-2.34632232e-02  3.08520209e+01 -1.01334323e+04]\n"
     ]
    },
    {
     "name": "stderr",
     "output_type": "stream",
     "text": [
      "\r",
      "t:  33%|████████████████▍                                 | 395/1199 [01:48<03:36,  3.71it/s, now=None]"
     ]
    },
    {
     "name": "stdout",
     "output_type": "stream",
     "text": [
      "Wrong separation between lines\n"
     ]
    },
    {
     "name": "stderr",
     "output_type": "stream",
     "text": [
      "\r",
      "t:  33%|████████████████▌                                 | 396/1199 [01:48<03:25,  3.91it/s, now=None]"
     ]
    },
    {
     "name": "stdout",
     "output_type": "stream",
     "text": [
      "Wrong separation between lines\n"
     ]
    },
    {
     "name": "stderr",
     "output_type": "stream",
     "text": [
      "\r",
      "t:  33%|████████████████▌                                 | 397/1199 [01:48<03:25,  3.90it/s, now=None]"
     ]
    },
    {
     "name": "stdout",
     "output_type": "stream",
     "text": [
      "Wrong separation between lines\n"
     ]
    },
    {
     "name": "stderr",
     "output_type": "stream",
     "text": [
      "\r",
      "t:  33%|████████████████▌                                 | 398/1199 [01:49<03:21,  3.98it/s, now=None]"
     ]
    },
    {
     "name": "stdout",
     "output_type": "stream",
     "text": [
      "Wrong separation between lines\n"
     ]
    },
    {
     "name": "stderr",
     "output_type": "stream",
     "text": [
      "\r",
      "t:  33%|████████████████▋                                 | 399/1199 [01:49<03:14,  4.11it/s, now=None]"
     ]
    },
    {
     "name": "stdout",
     "output_type": "stream",
     "text": [
      "Wrong separation between lines\n"
     ]
    },
    {
     "name": "stderr",
     "output_type": "stream",
     "text": [
      "t:  33%|████████████████▋                                 | 401/1199 [01:49<03:23,  3.92it/s, now=None]"
     ]
    },
    {
     "name": "stdout",
     "output_type": "stream",
     "text": [
      "Wrong separation between lines\n"
     ]
    },
    {
     "name": "stderr",
     "output_type": "stream",
     "text": [
      "t:  34%|████████████████▉                                 | 406/1199 [01:51<03:26,  3.84it/s, now=None]"
     ]
    },
    {
     "name": "stdout",
     "output_type": "stream",
     "text": [
      "Discarded X point\n"
     ]
    },
    {
     "name": "stderr",
     "output_type": "stream",
     "text": [
      "\r",
      "t:  34%|████████████████▉                                 | 407/1199 [01:51<03:26,  3.84it/s, now=None]"
     ]
    },
    {
     "name": "stdout",
     "output_type": "stream",
     "text": [
      "Discarded X point\n"
     ]
    },
    {
     "name": "stderr",
     "output_type": "stream",
     "text": [
      "t:  34%|█████████████████                                 | 410/1199 [01:52<03:27,  3.80it/s, now=None]"
     ]
    },
    {
     "name": "stdout",
     "output_type": "stream",
     "text": [
      "Discarded X point\n"
     ]
    },
    {
     "name": "stderr",
     "output_type": "stream",
     "text": [
      "\r",
      "t:  34%|█████████████████▏                                | 411/1199 [01:52<03:33,  3.69it/s, now=None]"
     ]
    },
    {
     "name": "stdout",
     "output_type": "stream",
     "text": [
      "Discarded X point\n"
     ]
    },
    {
     "name": "stderr",
     "output_type": "stream",
     "text": [
      "\r",
      "t:  34%|█████████████████▏                                | 412/1199 [01:52<03:35,  3.64it/s, now=None]"
     ]
    },
    {
     "name": "stdout",
     "output_type": "stream",
     "text": [
      "Discarded X point\n"
     ]
    },
    {
     "name": "stderr",
     "output_type": "stream",
     "text": [
      "\r",
      "t:  34%|█████████████████▏                                | 413/1199 [01:53<03:36,  3.63it/s, now=None]"
     ]
    },
    {
     "name": "stdout",
     "output_type": "stream",
     "text": [
      "Discarded X point\n"
     ]
    },
    {
     "name": "stderr",
     "output_type": "stream",
     "text": [
      "t:  35%|█████████████████▎                                | 415/1199 [01:53<03:41,  3.54it/s, now=None]"
     ]
    },
    {
     "name": "stdout",
     "output_type": "stream",
     "text": [
      "Discarded X point\n",
      "missdetection\n",
      "[-1.39955273e-03  1.35171330e+00 -2.67094369e+02]\n"
     ]
    },
    {
     "name": "stderr",
     "output_type": "stream",
     "text": [
      "\r",
      "t:  35%|█████████████████▎                                | 416/1199 [01:53<03:49,  3.42it/s, now=None]"
     ]
    },
    {
     "name": "stdout",
     "output_type": "stream",
     "text": [
      "Discarded X point\n",
      "missdetection\n",
      "[-1.45521398e-04  4.35707994e-01 -2.71433391e+02]\n"
     ]
    },
    {
     "name": "stderr",
     "output_type": "stream",
     "text": [
      "\r",
      "t:  35%|█████████████████▍                                | 417/1199 [01:54<04:13,  3.09it/s, now=None]"
     ]
    },
    {
     "name": "stdout",
     "output_type": "stream",
     "text": [
      "Discarded X point\n",
      "missdetection\n",
      "[-1.01176666e-03  9.20552050e-01 -2.01845879e+02]\n"
     ]
    },
    {
     "name": "stderr",
     "output_type": "stream",
     "text": [
      "\r",
      "t:  35%|█████████████████▍                                | 418/1199 [01:54<04:07,  3.15it/s, now=None]"
     ]
    },
    {
     "name": "stdout",
     "output_type": "stream",
     "text": [
      "Discarded X point\n",
      "missdetection\n",
      "[-9.48343324e-04  9.40558163e-01 -2.41200455e+02]\n"
     ]
    },
    {
     "name": "stderr",
     "output_type": "stream",
     "text": [
      "\r",
      "t:  35%|█████████████████▍                                | 419/1199 [01:55<04:26,  2.93it/s, now=None]"
     ]
    },
    {
     "name": "stdout",
     "output_type": "stream",
     "text": [
      "missdetection\n",
      "[-8.78363646e-04  9.31112593e-01 -2.55849353e+02]\n"
     ]
    },
    {
     "name": "stderr",
     "output_type": "stream",
     "text": [
      "\r",
      "t:  35%|█████████████████▌                                | 420/1199 [01:55<04:31,  2.87it/s, now=None]"
     ]
    },
    {
     "name": "stdout",
     "output_type": "stream",
     "text": [
      "missdetection\n",
      "[-9.39907766e-04  9.39031250e-01 -2.33401836e+02]\n"
     ]
    },
    {
     "name": "stderr",
     "output_type": "stream",
     "text": [
      "\r",
      "t:  35%|█████████████████▌                                | 421/1199 [01:55<04:21,  2.97it/s, now=None]"
     ]
    },
    {
     "name": "stdout",
     "output_type": "stream",
     "text": [
      "missdetection\n",
      "[-1.05228755e-03  1.05456089e+00 -2.60364360e+02]\n"
     ]
    },
    {
     "name": "stderr",
     "output_type": "stream",
     "text": [
      "\r",
      "t:  35%|█████████████████▌                                | 422/1199 [01:55<04:14,  3.05it/s, now=None]"
     ]
    },
    {
     "name": "stdout",
     "output_type": "stream",
     "text": [
      "Wrong separation between lines\n"
     ]
    },
    {
     "name": "stderr",
     "output_type": "stream",
     "text": [
      "\r",
      "t:  35%|█████████████████▋                                | 423/1199 [01:56<03:59,  3.24it/s, now=None]"
     ]
    },
    {
     "name": "stdout",
     "output_type": "stream",
     "text": [
      "Discarded X point\n",
      "Wrong separation between lines\n"
     ]
    },
    {
     "name": "stderr",
     "output_type": "stream",
     "text": [
      "\r",
      "t:  35%|█████████████████▋                                | 424/1199 [01:56<03:50,  3.36it/s, now=None]"
     ]
    },
    {
     "name": "stdout",
     "output_type": "stream",
     "text": [
      "Discarded X point\n",
      "Wrong separation between lines\n"
     ]
    },
    {
     "name": "stderr",
     "output_type": "stream",
     "text": [
      "\r",
      "t:  35%|█████████████████▋                                | 425/1199 [01:56<03:52,  3.33it/s, now=None]"
     ]
    },
    {
     "name": "stdout",
     "output_type": "stream",
     "text": [
      "Wrong separation between lines\n"
     ]
    },
    {
     "name": "stderr",
     "output_type": "stream",
     "text": [
      "\r",
      "t:  36%|█████████████████▊                                | 426/1199 [01:57<03:47,  3.39it/s, now=None]"
     ]
    },
    {
     "name": "stdout",
     "output_type": "stream",
     "text": [
      "missdetection\n",
      "[-2.77087525e-04  4.24200804e-01 -2.04437995e+02]\n"
     ]
    },
    {
     "name": "stderr",
     "output_type": "stream",
     "text": [
      "\r",
      "t:  36%|█████████████████▊                                | 427/1199 [01:57<03:50,  3.35it/s, now=None]"
     ]
    },
    {
     "name": "stdout",
     "output_type": "stream",
     "text": [
      "Discarded X point\n",
      "missdetection\n",
      "[-3.53878458e-04  4.91038698e-01 -2.07615994e+02]\n"
     ]
    },
    {
     "name": "stderr",
     "output_type": "stream",
     "text": [
      "\r",
      "t:  36%|█████████████████▊                                | 428/1199 [01:57<03:48,  3.38it/s, now=None]"
     ]
    },
    {
     "name": "stdout",
     "output_type": "stream",
     "text": [
      "Discarded X point\n",
      "Wrong separation between lines\n"
     ]
    },
    {
     "name": "stderr",
     "output_type": "stream",
     "text": [
      "\r",
      "t:  36%|█████████████████▉                                | 429/1199 [01:57<03:35,  3.58it/s, now=None]"
     ]
    },
    {
     "name": "stdout",
     "output_type": "stream",
     "text": [
      "Wrong separation between lines\n"
     ]
    },
    {
     "name": "stderr",
     "output_type": "stream",
     "text": [
      "t:  36%|██████████████████                                | 432/1199 [01:58<03:45,  3.41it/s, now=None]"
     ]
    },
    {
     "name": "stdout",
     "output_type": "stream",
     "text": [
      "Wrong separation between lines\n"
     ]
    },
    {
     "name": "stderr",
     "output_type": "stream",
     "text": [
      "t:  36%|██████████████████                                | 434/1199 [01:59<03:51,  3.30it/s, now=None]"
     ]
    },
    {
     "name": "stdout",
     "output_type": "stream",
     "text": [
      "Wrong separation between lines\n"
     ]
    },
    {
     "name": "stderr",
     "output_type": "stream",
     "text": [
      "t:  36%|██████████████████▏                               | 437/1199 [02:00<03:43,  3.40it/s, now=None]"
     ]
    },
    {
     "name": "stdout",
     "output_type": "stream",
     "text": [
      "Wrong separation between lines\n"
     ]
    },
    {
     "name": "stderr",
     "output_type": "stream",
     "text": [
      "\r",
      "t:  37%|██████████████████▎                               | 438/1199 [02:00<03:37,  3.49it/s, now=None]"
     ]
    },
    {
     "name": "stdout",
     "output_type": "stream",
     "text": [
      "missdetection\n",
      "[ 9.19231439e-04 -1.57357347e+00  6.25082290e+02]\n",
      "missdetection\n",
      "[-8.00637420e-04  9.22940237e-01 -2.38250476e+02]\n"
     ]
    },
    {
     "name": "stderr",
     "output_type": "stream",
     "text": [
      "\r",
      "t:  37%|██████████████████▎                               | 439/1199 [02:00<03:30,  3.62it/s, now=None]"
     ]
    },
    {
     "name": "stdout",
     "output_type": "stream",
     "text": [
      "missdetection\n",
      "[-6.40687256e-04  7.87368117e-01 -2.16788260e+02]\n"
     ]
    },
    {
     "name": "stderr",
     "output_type": "stream",
     "text": [
      "\r",
      "t:  37%|██████████████████▎                               | 440/1199 [02:01<03:27,  3.66it/s, now=None]"
     ]
    },
    {
     "name": "stdout",
     "output_type": "stream",
     "text": [
      "missdetection\n",
      "[-6.56159992e-04  8.01569060e-01 -2.18498666e+02]\n"
     ]
    },
    {
     "name": "stderr",
     "output_type": "stream",
     "text": [
      "\r",
      "t:  37%|██████████████████▍                               | 441/1199 [02:01<03:29,  3.62it/s, now=None]"
     ]
    },
    {
     "name": "stdout",
     "output_type": "stream",
     "text": [
      "Discarded X point\n",
      "Wrong separation between lines\n"
     ]
    },
    {
     "name": "stderr",
     "output_type": "stream",
     "text": [
      "\r",
      "t:  37%|██████████████████▍                               | 442/1199 [02:01<03:19,  3.79it/s, now=None]"
     ]
    },
    {
     "name": "stdout",
     "output_type": "stream",
     "text": [
      "missdetection\n",
      "[ 1.05308728e-03 -1.69735506e+00  6.51013724e+02]\n"
     ]
    },
    {
     "name": "stderr",
     "output_type": "stream",
     "text": [
      "t:  37%|██████████████████▌                               | 444/1199 [02:02<03:27,  3.64it/s, now=None]"
     ]
    },
    {
     "name": "stdout",
     "output_type": "stream",
     "text": [
      "Wrong separation between lines\n"
     ]
    },
    {
     "name": "stderr",
     "output_type": "stream",
     "text": [
      "\r",
      "t:  37%|██████████████████▌                               | 445/1199 [02:02<03:22,  3.72it/s, now=None]"
     ]
    },
    {
     "name": "stdout",
     "output_type": "stream",
     "text": [
      "missdetection\n",
      "[-6.69033504e-04  8.69123254e-01 -2.61083375e+02]\n"
     ]
    },
    {
     "name": "stderr",
     "output_type": "stream",
     "text": [
      "\r",
      "t:  37%|██████████████████▌                               | 446/1199 [02:02<03:22,  3.71it/s, now=None]"
     ]
    },
    {
     "name": "stdout",
     "output_type": "stream",
     "text": [
      "missdetection\n",
      "[-5.90980976e-04  7.87409923e-01 -2.42884445e+02]\n"
     ]
    },
    {
     "name": "stderr",
     "output_type": "stream",
     "text": [
      "\r",
      "t:  37%|██████████████████▋                               | 447/1199 [02:02<03:21,  3.73it/s, now=None]"
     ]
    },
    {
     "name": "stdout",
     "output_type": "stream",
     "text": [
      "missdetection\n",
      "[-1.02343233e-03  1.28347784e+00 -3.81385977e+02]\n",
      "missdetection\n",
      "[-6.68938811e-04  8.81640779e-01 -2.70681512e+02]\n"
     ]
    },
    {
     "name": "stderr",
     "output_type": "stream",
     "text": [
      "t:  37%|██████████████████▋                               | 449/1199 [02:03<03:21,  3.72it/s, now=None]"
     ]
    },
    {
     "name": "stdout",
     "output_type": "stream",
     "text": [
      "missdetection\n",
      "[-5.15126876e-04  7.26539972e-01 -2.31081703e+02]\n"
     ]
    },
    {
     "name": "stderr",
     "output_type": "stream",
     "text": [
      "t:  38%|██████████████████▊                               | 451/1199 [02:04<03:29,  3.57it/s, now=None]"
     ]
    },
    {
     "name": "stdout",
     "output_type": "stream",
     "text": [
      "Discarded X point\n"
     ]
    },
    {
     "name": "stderr",
     "output_type": "stream",
     "text": [
      "\r",
      "t:  38%|██████████████████▊                               | 452/1199 [02:04<03:25,  3.64it/s, now=None]"
     ]
    },
    {
     "name": "stdout",
     "output_type": "stream",
     "text": [
      "Discarded X point\n",
      "missdetection\n",
      "[-1.37606580e-03  1.31600172e+00 -2.69185791e+02]\n"
     ]
    },
    {
     "name": "stderr",
     "output_type": "stream",
     "text": [
      "\r",
      "t:  38%|██████████████████▉                               | 453/1199 [02:04<03:28,  3.57it/s, now=None]"
     ]
    },
    {
     "name": "stdout",
     "output_type": "stream",
     "text": [
      "Discarded X point\n",
      "missdetection\n",
      "[-1.21702329e-03  1.22052882e+00 -2.60868964e+02]\n"
     ]
    },
    {
     "name": "stderr",
     "output_type": "stream",
     "text": [
      "\r",
      "t:  38%|██████████████████▉                               | 454/1199 [02:04<03:30,  3.54it/s, now=None]"
     ]
    },
    {
     "name": "stdout",
     "output_type": "stream",
     "text": [
      "missdetection\n",
      "[ 1.49977982e-03 -2.05776591e+00  7.19665722e+02]\n"
     ]
    },
    {
     "name": "stderr",
     "output_type": "stream",
     "text": [
      "\r",
      "t:  38%|██████████████████▉                               | 455/1199 [02:05<03:22,  3.68it/s, now=None]"
     ]
    },
    {
     "name": "stdout",
     "output_type": "stream",
     "text": [
      "missdetection\n",
      "[ 1.55251032e-03 -2.12297731e+00  7.41301797e+02]\n"
     ]
    },
    {
     "name": "stderr",
     "output_type": "stream",
     "text": [
      "\r",
      "t:  38%|███████████████████                               | 456/1199 [02:05<03:26,  3.60it/s, now=None]"
     ]
    },
    {
     "name": "stdout",
     "output_type": "stream",
     "text": [
      "Discarded X point\n",
      "missdetection\n",
      "[ 1.59015961e-03 -2.22303673e+00  7.84617095e+02]\n"
     ]
    },
    {
     "name": "stderr",
     "output_type": "stream",
     "text": [
      "\r",
      "t:  38%|███████████████████                               | 457/1199 [02:05<03:24,  3.62it/s, now=None]"
     ]
    },
    {
     "name": "stdout",
     "output_type": "stream",
     "text": [
      "Discarded X point\n",
      "missdetection\n",
      "[ 1.56872355e-03 -2.20425353e+00  7.81262485e+02]\n"
     ]
    },
    {
     "name": "stderr",
     "output_type": "stream",
     "text": [
      "\r",
      "t:  38%|███████████████████                               | 458/1199 [02:06<03:21,  3.67it/s, now=None]"
     ]
    },
    {
     "name": "stdout",
     "output_type": "stream",
     "text": [
      "Discarded X point\n",
      "missdetection\n",
      "[ 1.59116948e-03 -2.24197894e+00  7.96615572e+02]\n"
     ]
    },
    {
     "name": "stderr",
     "output_type": "stream",
     "text": [
      "\r",
      "t:  38%|███████████████████▏                              | 459/1199 [02:06<03:25,  3.59it/s, now=None]"
     ]
    },
    {
     "name": "stdout",
     "output_type": "stream",
     "text": [
      "Discarded X point\n",
      "missdetection\n",
      "[ 1.57124416e-03 -2.22097528e+00  7.92018340e+02]\n"
     ]
    },
    {
     "name": "stderr",
     "output_type": "stream",
     "text": [
      "\r",
      "t:  38%|███████████████████▏                              | 460/1199 [02:06<03:33,  3.46it/s, now=None]"
     ]
    },
    {
     "name": "stdout",
     "output_type": "stream",
     "text": [
      "Discarded X point\n",
      "missdetection\n",
      "[ 1.50414509e-03 -2.14233858e+00  7.70323687e+02]\n"
     ]
    },
    {
     "name": "stderr",
     "output_type": "stream",
     "text": [
      "\r",
      "t:  38%|███████████████████▏                              | 461/1199 [02:06<03:33,  3.46it/s, now=None]"
     ]
    },
    {
     "name": "stdout",
     "output_type": "stream",
     "text": [
      "Discarded X point\n",
      "missdetection\n",
      "[ 1.48313245e-03 -2.12448223e+00  7.68359105e+02]\n"
     ]
    },
    {
     "name": "stderr",
     "output_type": "stream",
     "text": [
      "\r",
      "t:  39%|███████████████████▎                              | 462/1199 [02:07<03:29,  3.52it/s, now=None]"
     ]
    },
    {
     "name": "stdout",
     "output_type": "stream",
     "text": [
      "Discarded X point\n",
      "missdetection\n",
      "[ 1.39376152e-03 -2.01823771e+00  7.37932016e+02]\n",
      "Reset by SanityCheck\n"
     ]
    },
    {
     "name": "stderr",
     "output_type": "stream",
     "text": [
      "\r",
      "t:  39%|███████████████████▎                              | 463/1199 [02:07<03:33,  3.45it/s, now=None]"
     ]
    },
    {
     "name": "stdout",
     "output_type": "stream",
     "text": [
      "Discarded X point\n",
      "missdetection\n",
      "[-2.60043151e-05 -3.18607106e-01  2.48299817e+02]\n"
     ]
    },
    {
     "name": "stderr",
     "output_type": "stream",
     "text": [
      "\r",
      "t:  39%|███████████████████▎                              | 464/1199 [02:07<03:34,  3.42it/s, now=None]"
     ]
    },
    {
     "name": "stdout",
     "output_type": "stream",
     "text": [
      "Discarded X point\n",
      "missdetection\n",
      "[ 1.22636581e-03 -1.79713174e+00  6.68202999e+02]\n"
     ]
    },
    {
     "name": "stderr",
     "output_type": "stream",
     "text": [
      "\r",
      "t:  39%|███████████████████▍                              | 465/1199 [02:08<03:30,  3.48it/s, now=None]"
     ]
    },
    {
     "name": "stdout",
     "output_type": "stream",
     "text": [
      "Discarded X point\n",
      "missdetection\n",
      "[ 1.08080126e-03 -1.61728062e+00  6.13539416e+02]\n"
     ]
    },
    {
     "name": "stderr",
     "output_type": "stream",
     "text": [
      "\r",
      "t:  39%|███████████████████▍                              | 466/1199 [02:08<03:18,  3.69it/s, now=None]"
     ]
    },
    {
     "name": "stdout",
     "output_type": "stream",
     "text": [
      "Discarded X point\n",
      "missdetection\n",
      "[ 8.37399166e-04 -1.32520823e+00  5.27695433e+02]\n"
     ]
    },
    {
     "name": "stderr",
     "output_type": "stream",
     "text": [
      "\r",
      "t:  39%|███████████████████▍                              | 467/1199 [02:08<03:22,  3.62it/s, now=None]"
     ]
    },
    {
     "name": "stdout",
     "output_type": "stream",
     "text": [
      "Discarded X point\n",
      "missdetection\n",
      "[ 8.47642930e-04 -1.34086789e+00  5.33832999e+02]\n"
     ]
    },
    {
     "name": "stderr",
     "output_type": "stream",
     "text": [
      "\r",
      "t:  39%|███████████████████▌                              | 468/1199 [02:08<03:21,  3.63it/s, now=None]"
     ]
    },
    {
     "name": "stdout",
     "output_type": "stream",
     "text": [
      "Discarded X point\n",
      "missdetection\n",
      "[ 6.08668383e-04 -1.05385451e+00  4.49280080e+02]\n"
     ]
    },
    {
     "name": "stderr",
     "output_type": "stream",
     "text": [
      "\r",
      "t:  39%|███████████████████▌                              | 469/1199 [02:09<03:11,  3.80it/s, now=None]"
     ]
    },
    {
     "name": "stdout",
     "output_type": "stream",
     "text": [
      "Discarded X point\n",
      "missdetection\n",
      "[ 3.14036481e-04 -7.11949861e-01  3.52988180e+02]\n"
     ]
    },
    {
     "name": "stderr",
     "output_type": "stream",
     "text": [
      "\r",
      "t:  39%|███████████████████▌                              | 470/1199 [02:09<03:17,  3.69it/s, now=None]"
     ]
    },
    {
     "name": "stdout",
     "output_type": "stream",
     "text": [
      "Discarded X point\n",
      "missdetection\n",
      "[ 1.77360521e-04 -5.54903264e-01  3.09410616e+02]\n"
     ]
    },
    {
     "name": "stderr",
     "output_type": "stream",
     "text": [
      "\r",
      "t:  39%|███████████████████▋                              | 471/1199 [02:09<03:20,  3.63it/s, now=None]"
     ]
    },
    {
     "name": "stdout",
     "output_type": "stream",
     "text": [
      "Discarded X point\n",
      "missdetection\n",
      "[ 7.44951041e-05 -4.33558866e-01  2.74375959e+02]\n"
     ]
    },
    {
     "name": "stderr",
     "output_type": "stream",
     "text": [
      "\r",
      "t:  39%|███████████████████▋                              | 472/1199 [02:09<03:18,  3.66it/s, now=None]"
     ]
    },
    {
     "name": "stdout",
     "output_type": "stream",
     "text": [
      "Discarded X point\n",
      "missdetection\n",
      "[ 2.53537136e-05 -3.69742454e-01  2.53584582e+02]\n"
     ]
    },
    {
     "name": "stderr",
     "output_type": "stream",
     "text": [
      "\r",
      "t:  39%|███████████████████▋                              | 473/1199 [02:10<03:20,  3.61it/s, now=None]"
     ]
    },
    {
     "name": "stdout",
     "output_type": "stream",
     "text": [
      "Discarded X point\n",
      "missdetection\n",
      "[-1.09767889e-05 -3.17835141e-01  2.35189856e+02]\n",
      "Reset by SanityCheck\n"
     ]
    },
    {
     "name": "stderr",
     "output_type": "stream",
     "text": [
      "\r",
      "t:  40%|███████████████████▊                              | 474/1199 [02:10<03:18,  3.65it/s, now=None]"
     ]
    },
    {
     "name": "stdout",
     "output_type": "stream",
     "text": [
      "Discarded X point\n",
      "Wrong separation between lines\n"
     ]
    },
    {
     "name": "stderr",
     "output_type": "stream",
     "text": [
      "\r",
      "t:  40%|███████████████████▊                              | 475/1199 [02:10<03:14,  3.72it/s, now=None]"
     ]
    },
    {
     "name": "stdout",
     "output_type": "stream",
     "text": [
      "Discarded X point\n",
      "missdetection\n",
      "[-3.80100728e-05 -2.60337235e-01  2.08770961e+02]\n"
     ]
    },
    {
     "name": "stderr",
     "output_type": "stream",
     "text": [
      "\r",
      "t:  40%|███████████████████▊                              | 476/1199 [02:10<03:09,  3.81it/s, now=None]"
     ]
    },
    {
     "name": "stdout",
     "output_type": "stream",
     "text": [
      "Discarded X point\n",
      "Wrong separation between lines\n"
     ]
    },
    {
     "name": "stderr",
     "output_type": "stream",
     "text": [
      "\r",
      "t:  40%|███████████████████▉                              | 477/1199 [02:11<03:00,  3.99it/s, now=None]"
     ]
    },
    {
     "name": "stdout",
     "output_type": "stream",
     "text": [
      "Discarded X point\n",
      "missdetection\n",
      "[ 3.66481379e-04 -5.97843005e-01  2.55707933e+02]\n"
     ]
    },
    {
     "name": "stderr",
     "output_type": "stream",
     "text": [
      "\r",
      "t:  40%|███████████████████▉                              | 478/1199 [02:11<03:04,  3.92it/s, now=None]"
     ]
    },
    {
     "name": "stdout",
     "output_type": "stream",
     "text": [
      "Discarded X point\n"
     ]
    },
    {
     "name": "stderr",
     "output_type": "stream",
     "text": [
      "\r",
      "t:  40%|███████████████████▉                              | 479/1199 [02:11<03:02,  3.95it/s, now=None]"
     ]
    },
    {
     "name": "stdout",
     "output_type": "stream",
     "text": [
      "Discarded X point\n",
      "Wrong separation between lines\n"
     ]
    },
    {
     "name": "stderr",
     "output_type": "stream",
     "text": [
      "\r",
      "t:  40%|████████████████████                              | 480/1199 [02:11<02:57,  4.05it/s, now=None]"
     ]
    },
    {
     "name": "stdout",
     "output_type": "stream",
     "text": [
      "Discarded X point\n",
      "missdetection\n",
      "[ 4.71559281e-04 -6.82683768e-01  2.53358879e+02]\n"
     ]
    },
    {
     "name": "stderr",
     "output_type": "stream",
     "text": [
      "\r",
      "t:  40%|████████████████████                              | 481/1199 [02:12<03:07,  3.82it/s, now=None]"
     ]
    },
    {
     "name": "stdout",
     "output_type": "stream",
     "text": [
      "Discarded X point\n",
      "missdetection\n",
      "[ 6.97614444e-04 -9.86801212e-01  3.56482168e+02]\n"
     ]
    },
    {
     "name": "stderr",
     "output_type": "stream",
     "text": [
      "\r",
      "t:  40%|████████████████████                              | 482/1199 [02:12<03:16,  3.64it/s, now=None]"
     ]
    },
    {
     "name": "stdout",
     "output_type": "stream",
     "text": [
      "Discarded X point\n",
      "missdetection\n",
      "[ 7.00530834e-04 -9.89901237e-01  3.58704874e+02]\n"
     ]
    },
    {
     "name": "stderr",
     "output_type": "stream",
     "text": [
      "\r",
      "t:  40%|████████████████████▏                             | 483/1199 [02:12<03:18,  3.61it/s, now=None]"
     ]
    },
    {
     "name": "stdout",
     "output_type": "stream",
     "text": [
      "Discarded X point\n",
      "missdetection\n",
      "[ 7.50357662e-04 -1.05498814e+00  3.81223508e+02]\n"
     ]
    },
    {
     "name": "stderr",
     "output_type": "stream",
     "text": [
      "\r",
      "t:  40%|████████████████████▏                             | 484/1199 [02:13<03:24,  3.50it/s, now=None]"
     ]
    },
    {
     "name": "stdout",
     "output_type": "stream",
     "text": [
      "Discarded X point\n",
      "missdetection\n",
      "[ 6.58626955e-04 -9.21673479e-01  3.34200985e+02]\n"
     ]
    },
    {
     "name": "stderr",
     "output_type": "stream",
     "text": [
      "\r",
      "t:  40%|████████████████████▏                             | 485/1199 [02:13<03:36,  3.30it/s, now=None]"
     ]
    },
    {
     "name": "stdout",
     "output_type": "stream",
     "text": [
      "Discarded X point\n",
      "missdetection\n",
      "[ 7.03213077e-04 -9.72239934e-01  3.48644629e+02]\n"
     ]
    },
    {
     "name": "stderr",
     "output_type": "stream",
     "text": [
      "\r",
      "t:  41%|████████████████████▎                             | 486/1199 [02:13<03:45,  3.16it/s, now=None]"
     ]
    },
    {
     "name": "stdout",
     "output_type": "stream",
     "text": [
      "Discarded X point\n",
      "missdetection\n",
      "[ 6.89336104e-04 -9.59293643e-01  3.46400129e+02]\n"
     ]
    },
    {
     "name": "stderr",
     "output_type": "stream",
     "text": [
      "\r",
      "t:  41%|████████████████████▎                             | 487/1199 [02:14<03:48,  3.11it/s, now=None]"
     ]
    },
    {
     "name": "stdout",
     "output_type": "stream",
     "text": [
      "Discarded X point\n",
      "missdetection\n",
      "[ 8.06482341e-04 -1.10192307e+00  3.91282987e+02]\n"
     ]
    },
    {
     "name": "stderr",
     "output_type": "stream",
     "text": [
      "\r",
      "t:  41%|████████████████████▎                             | 488/1199 [02:14<03:46,  3.14it/s, now=None]"
     ]
    },
    {
     "name": "stdout",
     "output_type": "stream",
     "text": [
      "Discarded X point\n",
      "missdetection\n",
      "[ 8.23541650e-04 -1.11431316e+00  3.92583987e+02]\n"
     ]
    },
    {
     "name": "stderr",
     "output_type": "stream",
     "text": [
      "\r",
      "t:  41%|████████████████████▍                             | 489/1199 [02:14<03:53,  3.04it/s, now=None]"
     ]
    },
    {
     "name": "stdout",
     "output_type": "stream",
     "text": [
      "Discarded X point\n",
      "missdetection\n",
      "[ 8.91268595e-04 -1.19348854e+00  4.15733116e+02]\n",
      "Reset by SanityCheck\n"
     ]
    },
    {
     "name": "stderr",
     "output_type": "stream",
     "text": [
      "\r",
      "t:  41%|████████████████████▍                             | 490/1199 [02:15<03:49,  3.09it/s, now=None]"
     ]
    },
    {
     "name": "stdout",
     "output_type": "stream",
     "text": [
      "Discarded X point\n",
      "missdetection\n",
      "[ 1.03131431e-03 -1.05232532e+00  2.85650557e+02]\n"
     ]
    },
    {
     "name": "stderr",
     "output_type": "stream",
     "text": [
      "\r",
      "t:  41%|████████████████████▍                             | 491/1199 [02:15<03:47,  3.11it/s, now=None]"
     ]
    },
    {
     "name": "stdout",
     "output_type": "stream",
     "text": [
      "Discarded X point\n",
      "missdetection\n",
      "[ 8.96417103e-04 -1.11466890e+00  3.76865633e+02]\n"
     ]
    },
    {
     "name": "stderr",
     "output_type": "stream",
     "text": [
      "\r",
      "t:  41%|████████████████████▌                             | 492/1199 [02:15<03:52,  3.04it/s, now=None]"
     ]
    },
    {
     "name": "stdout",
     "output_type": "stream",
     "text": [
      "Discarded X point\n",
      "missdetection\n",
      "[ 9.06899121e-04 -1.12367634e+00  3.79086029e+02]\n"
     ]
    },
    {
     "name": "stderr",
     "output_type": "stream",
     "text": [
      "\r",
      "t:  41%|████████████████████▌                             | 493/1199 [02:16<03:50,  3.06it/s, now=None]"
     ]
    },
    {
     "name": "stdout",
     "output_type": "stream",
     "text": [
      "Discarded X point\n",
      "missdetection\n",
      "[ 8.91301418e-04 -1.10992670e+00  3.76240354e+02]\n"
     ]
    },
    {
     "name": "stderr",
     "output_type": "stream",
     "text": [
      "\r",
      "t:  41%|████████████████████▌                             | 494/1199 [02:16<03:50,  3.06it/s, now=None]"
     ]
    },
    {
     "name": "stdout",
     "output_type": "stream",
     "text": [
      "Discarded X point\n",
      "missdetection\n",
      "[ 8.84862743e-04 -1.10036136e+00  3.71395399e+02]\n"
     ]
    },
    {
     "name": "stderr",
     "output_type": "stream",
     "text": [
      "\r",
      "t:  41%|████████████████████▋                             | 495/1199 [02:16<03:53,  3.02it/s, now=None]"
     ]
    },
    {
     "name": "stdout",
     "output_type": "stream",
     "text": [
      "Discarded X point\n",
      "missdetection\n",
      "[ 9.40412521e-04 -1.18351034e+00  4.03791767e+02]\n"
     ]
    },
    {
     "name": "stderr",
     "output_type": "stream",
     "text": [
      "\r",
      "t:  41%|████████████████████▋                             | 496/1199 [02:17<03:55,  2.99it/s, now=None]"
     ]
    },
    {
     "name": "stdout",
     "output_type": "stream",
     "text": [
      "Discarded X point\n",
      "missdetection\n",
      "[ 9.84246402e-04 -1.25113404e+00  4.28554070e+02]\n",
      "Discarded X point\n"
     ]
    },
    {
     "name": "stderr",
     "output_type": "stream",
     "text": [
      "\r",
      "t:  41%|████████████████████▋                             | 497/1199 [02:17<04:28,  2.62it/s, now=None]"
     ]
    },
    {
     "name": "stdout",
     "output_type": "stream",
     "text": [
      "missdetection\n",
      "[ 1.00878608e-03 -1.28495640e+00  4.41466241e+02]\n",
      "Discarded X point\n",
      "missdetection\n",
      "[ 9.81410971e-04 -1.24996424e+00  4.29631540e+02]\n"
     ]
    },
    {
     "name": "stderr",
     "output_type": "stream",
     "text": [
      "t:  42%|████████████████████▊                             | 499/1199 [02:18<04:42,  2.48it/s, now=None]"
     ]
    },
    {
     "name": "stdout",
     "output_type": "stream",
     "text": [
      "Discarded X point\n",
      "missdetection\n",
      "[ 9.94182965e-04 -1.25585047e+00  4.29970094e+02]\n"
     ]
    },
    {
     "name": "stderr",
     "output_type": "stream",
     "text": [
      "\r",
      "t:  42%|████████████████████▊                             | 500/1199 [02:18<04:35,  2.53it/s, now=None]"
     ]
    },
    {
     "name": "stdout",
     "output_type": "stream",
     "text": [
      "Discarded X point\n",
      "missdetection\n",
      "[ 1.04529585e-03 -1.32675378e+00  4.54809412e+02]\n",
      "Reset by SanityCheck\n"
     ]
    },
    {
     "name": "stderr",
     "output_type": "stream",
     "text": [
      "\r",
      "t:  42%|████████████████████▉                             | 501/1199 [02:19<04:24,  2.63it/s, now=None]"
     ]
    },
    {
     "name": "stdout",
     "output_type": "stream",
     "text": [
      "Discarded X point\n",
      "missdetection\n",
      "[ 4.35396018e-03 -5.24952885e+00  1.61012219e+03]\n"
     ]
    },
    {
     "name": "stderr",
     "output_type": "stream",
     "text": [
      "\r",
      "t:  42%|████████████████████▉                             | 502/1199 [02:19<04:28,  2.59it/s, now=None]"
     ]
    },
    {
     "name": "stdout",
     "output_type": "stream",
     "text": [
      "Discarded X point\n",
      "missdetection\n",
      "[ 1.08265032e-03 -1.30680289e+00  4.36919886e+02]\n"
     ]
    },
    {
     "name": "stderr",
     "output_type": "stream",
     "text": [
      "\r",
      "t:  42%|████████████████████▉                             | 503/1199 [02:20<04:37,  2.51it/s, now=None]"
     ]
    },
    {
     "name": "stdout",
     "output_type": "stream",
     "text": [
      "Discarded X point\n",
      "missdetection\n",
      "[ 1.07316394e-03 -1.31116507e+00  4.41085759e+02]\n"
     ]
    },
    {
     "name": "stderr",
     "output_type": "stream",
     "text": [
      "\r",
      "t:  42%|█████████████████████                             | 504/1199 [02:20<04:34,  2.53it/s, now=None]"
     ]
    },
    {
     "name": "stdout",
     "output_type": "stream",
     "text": [
      "Discarded X point\n",
      "missdetection\n",
      "[ 1.11471065e-03 -1.36556116e+00  4.58650690e+02]\n",
      "Discarded X point\n"
     ]
    },
    {
     "name": "stderr",
     "output_type": "stream",
     "text": [
      "\r",
      "t:  42%|█████████████████████                             | 505/1199 [02:20<04:59,  2.32it/s, now=None]"
     ]
    },
    {
     "name": "stdout",
     "output_type": "stream",
     "text": [
      "missdetection\n",
      "[ 1.13075278e-03 -1.37864885e+00  4.61673187e+02]\n"
     ]
    },
    {
     "name": "stderr",
     "output_type": "stream",
     "text": [
      "\r",
      "t:  42%|█████████████████████                             | 506/1199 [02:21<04:46,  2.42it/s, now=None]"
     ]
    },
    {
     "name": "stdout",
     "output_type": "stream",
     "text": [
      "Discarded X point\n",
      "missdetection\n",
      "[ 1.13241764e-03 -1.37922274e+00  4.61215139e+02]\n"
     ]
    },
    {
     "name": "stderr",
     "output_type": "stream",
     "text": [
      "\r",
      "t:  42%|█████████████████████▏                            | 507/1199 [02:21<04:33,  2.53it/s, now=None]"
     ]
    },
    {
     "name": "stdout",
     "output_type": "stream",
     "text": [
      "Discarded X point\n",
      "missdetection\n",
      "[ 1.13389341e-03 -1.37904358e+00  4.60324366e+02]\n"
     ]
    },
    {
     "name": "stderr",
     "output_type": "stream",
     "text": [
      "\r",
      "t:  42%|█████████████████████▏                            | 508/1199 [02:22<04:27,  2.59it/s, now=None]"
     ]
    },
    {
     "name": "stdout",
     "output_type": "stream",
     "text": [
      "Discarded X point\n",
      "missdetection\n",
      "[ 1.12894758e-03 -1.37735966e+00  4.61501028e+02]\n"
     ]
    },
    {
     "name": "stderr",
     "output_type": "stream",
     "text": [
      "\r",
      "t:  42%|█████████████████████▏                            | 509/1199 [02:22<04:21,  2.64it/s, now=None]"
     ]
    },
    {
     "name": "stdout",
     "output_type": "stream",
     "text": [
      "Discarded X point\n",
      "missdetection\n",
      "[ 1.11040620e-03 -1.35084889e+00  4.52071799e+02]\n"
     ]
    },
    {
     "name": "stderr",
     "output_type": "stream",
     "text": [
      "\r",
      "t:  43%|█████████████████████▎                            | 510/1199 [02:22<04:17,  2.68it/s, now=None]"
     ]
    },
    {
     "name": "stdout",
     "output_type": "stream",
     "text": [
      "Discarded X point\n",
      "missdetection\n",
      "[ 1.05719558e-03 -1.26922314e+00  4.22735599e+02]\n"
     ]
    },
    {
     "name": "stderr",
     "output_type": "stream",
     "text": [
      "\r",
      "t:  43%|█████████████████████▎                            | 511/1199 [02:23<04:12,  2.73it/s, now=None]"
     ]
    },
    {
     "name": "stdout",
     "output_type": "stream",
     "text": [
      "Discarded X point\n",
      "missdetection\n",
      "[ 1.02423513e-03 -1.21729454e+00  4.03272933e+02]\n",
      "Reset by SanityCheck\n"
     ]
    },
    {
     "name": "stderr",
     "output_type": "stream",
     "text": [
      "\r",
      "t:  43%|█████████████████████▎                            | 512/1199 [02:23<04:12,  2.72it/s, now=None]"
     ]
    },
    {
     "name": "stdout",
     "output_type": "stream",
     "text": [
      "Discarded X point\n",
      "missdetection\n",
      "[ 1.40532474e-03 -1.64406105e+00  5.13714159e+02]\n"
     ]
    },
    {
     "name": "stderr",
     "output_type": "stream",
     "text": [
      "\r",
      "t:  43%|█████████████████████▍                            | 513/1199 [02:23<04:11,  2.73it/s, now=None]"
     ]
    },
    {
     "name": "stdout",
     "output_type": "stream",
     "text": [
      "Discarded X point\n",
      "missdetection\n",
      "[ 1.03181509e-03 -1.17322772e+00  3.76850719e+02]\n"
     ]
    },
    {
     "name": "stderr",
     "output_type": "stream",
     "text": [
      "\r",
      "t:  43%|█████████████████████▍                            | 514/1199 [02:24<04:07,  2.77it/s, now=None]"
     ]
    },
    {
     "name": "stdout",
     "output_type": "stream",
     "text": [
      "Discarded X point\n",
      "missdetection\n",
      "[ 9.94016392e-04 -1.14403126e+00  3.71996745e+02]\n"
     ]
    },
    {
     "name": "stderr",
     "output_type": "stream",
     "text": [
      "\r",
      "t:  43%|█████████████████████▍                            | 515/1199 [02:24<03:59,  2.86it/s, now=None]"
     ]
    },
    {
     "name": "stdout",
     "output_type": "stream",
     "text": [
      "Discarded X point\n",
      "missdetection\n",
      "[ 9.86807307e-04 -1.12884740e+00  3.65580464e+02]\n"
     ]
    },
    {
     "name": "stderr",
     "output_type": "stream",
     "text": [
      "\r",
      "t:  43%|█████████████████████▌                            | 516/1199 [02:24<03:53,  2.92it/s, now=None]"
     ]
    },
    {
     "name": "stdout",
     "output_type": "stream",
     "text": [
      "Discarded X point\n",
      "missdetection\n",
      "[ 9.32411035e-04 -1.06376718e+00  3.46187889e+02]\n"
     ]
    },
    {
     "name": "stderr",
     "output_type": "stream",
     "text": [
      "\r",
      "t:  43%|█████████████████████▌                            | 517/1199 [02:25<03:48,  2.99it/s, now=None]"
     ]
    },
    {
     "name": "stdout",
     "output_type": "stream",
     "text": [
      "Discarded X point\n",
      "missdetection\n",
      "[ 8.95834910e-04 -1.01701291e+00  3.31078633e+02]\n"
     ]
    },
    {
     "name": "stderr",
     "output_type": "stream",
     "text": [
      "\r",
      "t:  43%|█████████████████████▌                            | 518/1199 [02:25<04:56,  2.30it/s, now=None]"
     ]
    },
    {
     "name": "stdout",
     "output_type": "stream",
     "text": [
      "missdetection\n",
      "[ 8.29155815e-04 -9.33425512e-01  3.05053502e+02]\n"
     ]
    },
    {
     "name": "stderr",
     "output_type": "stream",
     "text": [
      "\r",
      "t:  43%|█████████████████████▋                            | 519/1199 [02:26<04:39,  2.44it/s, now=None]"
     ]
    },
    {
     "name": "stdout",
     "output_type": "stream",
     "text": [
      "missdetection\n",
      "[ 8.00038171e-04 -8.81878721e-01  2.85081767e+02]\n"
     ]
    },
    {
     "name": "stderr",
     "output_type": "stream",
     "text": [
      "\r",
      "t:  43%|█████████████████████▋                            | 520/1199 [02:26<04:30,  2.51it/s, now=None]"
     ]
    },
    {
     "name": "stdout",
     "output_type": "stream",
     "text": [
      "missdetection\n",
      "[ 6.79499851e-04 -7.36814754e-01  2.41558032e+02]\n"
     ]
    },
    {
     "name": "stderr",
     "output_type": "stream",
     "text": [
      "\r",
      "t:  43%|█████████████████████▋                            | 521/1199 [02:26<04:20,  2.61it/s, now=None]"
     ]
    },
    {
     "name": "stdout",
     "output_type": "stream",
     "text": [
      "missdetection\n",
      "[ 6.04790867e-04 -6.43355944e-01  2.12669508e+02]\n"
     ]
    },
    {
     "name": "stderr",
     "output_type": "stream",
     "text": [
      "t:  44%|██████████████████████▏                           | 531/1199 [02:30<04:30,  2.47it/s, now=None]"
     ]
    },
    {
     "name": "stdout",
     "output_type": "stream",
     "text": [
      "Wrong separation between lines\n"
     ]
    },
    {
     "name": "stderr",
     "output_type": "stream",
     "text": [
      "\r",
      "t:  44%|██████████████████████▏                           | 532/1199 [02:31<04:26,  2.50it/s, now=None]"
     ]
    },
    {
     "name": "stdout",
     "output_type": "stream",
     "text": [
      "Wrong separation between lines\n"
     ]
    },
    {
     "name": "stderr",
     "output_type": "stream",
     "text": [
      "\r",
      "t:  44%|██████████████████████▏                           | 533/1199 [02:31<04:22,  2.54it/s, now=None]"
     ]
    },
    {
     "name": "stdout",
     "output_type": "stream",
     "text": [
      "Wrong separation between lines\n"
     ]
    },
    {
     "name": "stderr",
     "output_type": "stream",
     "text": [
      "\r",
      "t:  45%|██████████████████████▎                           | 534/1199 [02:31<04:22,  2.53it/s, now=None]"
     ]
    },
    {
     "name": "stdout",
     "output_type": "stream",
     "text": [
      "Wrong separation between lines\n"
     ]
    },
    {
     "name": "stderr",
     "output_type": "stream",
     "text": [
      "\r",
      "t:  45%|██████████████████████▎                           | 535/1199 [02:32<04:15,  2.60it/s, now=None]"
     ]
    },
    {
     "name": "stdout",
     "output_type": "stream",
     "text": [
      "Wrong separation between lines\n"
     ]
    },
    {
     "name": "stderr",
     "output_type": "stream",
     "text": [
      "\r",
      "t:  45%|██████████████████████▎                           | 536/1199 [02:32<04:07,  2.68it/s, now=None]"
     ]
    },
    {
     "name": "stdout",
     "output_type": "stream",
     "text": [
      "Wrong separation between lines\n"
     ]
    },
    {
     "name": "stderr",
     "output_type": "stream",
     "text": [
      "\r",
      "t:  45%|██████████████████████▍                           | 537/1199 [02:32<04:00,  2.76it/s, now=None]"
     ]
    },
    {
     "name": "stdout",
     "output_type": "stream",
     "text": [
      "Wrong separation between lines\n"
     ]
    },
    {
     "name": "stderr",
     "output_type": "stream",
     "text": [
      "\r",
      "t:  45%|██████████████████████▍                           | 538/1199 [02:33<03:43,  2.96it/s, now=None]"
     ]
    },
    {
     "name": "stdout",
     "output_type": "stream",
     "text": [
      "Wrong separation between lines\n"
     ]
    },
    {
     "name": "stderr",
     "output_type": "stream",
     "text": [
      "\r",
      "t:  45%|██████████████████████▍                           | 539/1199 [02:33<03:30,  3.14it/s, now=None]"
     ]
    },
    {
     "name": "stdout",
     "output_type": "stream",
     "text": [
      "Wrong separation between lines\n"
     ]
    },
    {
     "name": "stderr",
     "output_type": "stream",
     "text": [
      "\r",
      "t:  45%|██████████████████████▌                           | 540/1199 [02:33<03:26,  3.19it/s, now=None]"
     ]
    },
    {
     "name": "stdout",
     "output_type": "stream",
     "text": [
      "Wrong separation between lines\n"
     ]
    },
    {
     "name": "stderr",
     "output_type": "stream",
     "text": [
      "t:  45%|██████████████████████▌                           | 542/1199 [02:34<03:17,  3.32it/s, now=None]"
     ]
    },
    {
     "name": "stdout",
     "output_type": "stream",
     "text": [
      "Wrong separation between lines\n"
     ]
    },
    {
     "name": "stderr",
     "output_type": "stream",
     "text": [
      "t:  46%|███████████████████████▏                          | 557/1199 [02:38<03:10,  3.37it/s, now=None]"
     ]
    },
    {
     "name": "stdout",
     "output_type": "stream",
     "text": [
      "Wrong separation between lines\n"
     ]
    },
    {
     "name": "stderr",
     "output_type": "stream",
     "text": [
      "\r",
      "t:  47%|███████████████████████▎                          | 558/1199 [02:38<02:59,  3.56it/s, now=None]"
     ]
    },
    {
     "name": "stdout",
     "output_type": "stream",
     "text": [
      "Wrong separation between lines\n"
     ]
    },
    {
     "name": "stderr",
     "output_type": "stream",
     "text": [
      "\r",
      "t:  47%|███████████████████████▎                          | 559/1199 [02:39<02:57,  3.60it/s, now=None]"
     ]
    },
    {
     "name": "stdout",
     "output_type": "stream",
     "text": [
      "Wrong separation between lines\n"
     ]
    },
    {
     "name": "stderr",
     "output_type": "stream",
     "text": [
      "\r",
      "t:  47%|███████████████████████▎                          | 560/1199 [02:39<02:56,  3.63it/s, now=None]"
     ]
    },
    {
     "name": "stdout",
     "output_type": "stream",
     "text": [
      "Wrong separation between lines\n"
     ]
    },
    {
     "name": "stderr",
     "output_type": "stream",
     "text": [
      "t:  47%|███████████████████████▍                          | 562/1199 [02:40<02:54,  3.66it/s, now=None]"
     ]
    },
    {
     "name": "stdout",
     "output_type": "stream",
     "text": [
      "missdetection\n",
      "[ 7.98977418e-04 -9.32816844e-01  2.45860107e+02]\n"
     ]
    },
    {
     "name": "stderr",
     "output_type": "stream",
     "text": [
      "t:  47%|███████████████████████▌                          | 564/1199 [02:40<02:58,  3.55it/s, now=None]"
     ]
    },
    {
     "name": "stdout",
     "output_type": "stream",
     "text": [
      "missdetection\n",
      "[ 1.52488557e-03 -1.85125928e+00  5.31201541e+02]\n"
     ]
    },
    {
     "name": "stderr",
     "output_type": "stream",
     "text": [
      "t:  47%|███████████████████████▌                          | 566/1199 [02:41<03:08,  3.36it/s, now=None]"
     ]
    },
    {
     "name": "stdout",
     "output_type": "stream",
     "text": [
      "missdetection\n",
      "[ 2.73538652e-03 -3.42793543e+00  1.03888193e+03]\n"
     ]
    },
    {
     "name": "stderr",
     "output_type": "stream",
     "text": [
      "\r",
      "t:  47%|███████████████████████▋                          | 567/1199 [02:41<03:07,  3.38it/s, now=None]"
     ]
    },
    {
     "name": "stdout",
     "output_type": "stream",
     "text": [
      "Wrong separation between lines\n"
     ]
    },
    {
     "name": "stderr",
     "output_type": "stream",
     "text": [
      "\r",
      "t:  47%|███████████████████████▋                          | 568/1199 [02:41<03:00,  3.49it/s, now=None]"
     ]
    },
    {
     "name": "stdout",
     "output_type": "stream",
     "text": [
      "Wrong separation between lines\n"
     ]
    },
    {
     "name": "stderr",
     "output_type": "stream",
     "text": [
      "\r",
      "t:  47%|███████████████████████▋                          | 569/1199 [02:42<02:54,  3.62it/s, now=None]"
     ]
    },
    {
     "name": "stdout",
     "output_type": "stream",
     "text": [
      "Wrong separation between lines\n"
     ]
    },
    {
     "name": "stderr",
     "output_type": "stream",
     "text": [
      "\r",
      "t:  48%|███████████████████████▊                          | 570/1199 [02:42<02:51,  3.67it/s, now=None]"
     ]
    },
    {
     "name": "stdout",
     "output_type": "stream",
     "text": [
      "missdetection\n",
      "[ 5.83767291e-04 -7.60569210e-01  2.51579590e+02]\n"
     ]
    },
    {
     "name": "stderr",
     "output_type": "stream",
     "text": [
      "\r",
      "t:  48%|███████████████████████▊                          | 571/1199 [02:42<02:52,  3.64it/s, now=None]"
     ]
    },
    {
     "name": "stdout",
     "output_type": "stream",
     "text": [
      "Wrong separation between lines\n"
     ]
    },
    {
     "name": "stderr",
     "output_type": "stream",
     "text": [
      "\r",
      "t:  48%|███████████████████████▊                          | 572/1199 [02:42<02:48,  3.73it/s, now=None]"
     ]
    },
    {
     "name": "stdout",
     "output_type": "stream",
     "text": [
      "Wrong separation between lines\n"
     ]
    },
    {
     "name": "stderr",
     "output_type": "stream",
     "text": [
      "\r",
      "t:  48%|███████████████████████▉                          | 573/1199 [02:43<02:45,  3.78it/s, now=None]"
     ]
    },
    {
     "name": "stdout",
     "output_type": "stream",
     "text": [
      "Wrong separation between lines\n"
     ]
    },
    {
     "name": "stderr",
     "output_type": "stream",
     "text": [
      "\r",
      "t:  48%|███████████████████████▉                          | 574/1199 [02:43<02:44,  3.81it/s, now=None]"
     ]
    },
    {
     "name": "stdout",
     "output_type": "stream",
     "text": [
      "Wrong separation between lines\n"
     ]
    },
    {
     "name": "stderr",
     "output_type": "stream",
     "text": [
      "\r",
      "t:  48%|███████████████████████▉                          | 575/1199 [02:43<02:45,  3.78it/s, now=None]"
     ]
    },
    {
     "name": "stdout",
     "output_type": "stream",
     "text": [
      "Wrong separation between lines\n"
     ]
    },
    {
     "name": "stderr",
     "output_type": "stream",
     "text": [
      "\r",
      "t:  48%|████████████████████████                          | 576/1199 [02:43<02:48,  3.69it/s, now=None]"
     ]
    },
    {
     "name": "stdout",
     "output_type": "stream",
     "text": [
      "missdetection\n",
      "[ 4.64196153e-04 -6.37362162e-01  2.21674847e+02]\n"
     ]
    },
    {
     "name": "stderr",
     "output_type": "stream",
     "text": [
      "\r",
      "t:  48%|████████████████████████                          | 577/1199 [02:44<02:47,  3.72it/s, now=None]"
     ]
    },
    {
     "name": "stdout",
     "output_type": "stream",
     "text": [
      "missdetection\n",
      "[ 4.80950478e-04 -6.70472307e-01  2.37479654e+02]\n"
     ]
    },
    {
     "name": "stderr",
     "output_type": "stream",
     "text": [
      "\r",
      "t:  48%|████████████████████████                          | 578/1199 [02:44<02:48,  3.69it/s, now=None]"
     ]
    },
    {
     "name": "stdout",
     "output_type": "stream",
     "text": [
      "missdetection\n",
      "[ 4.87124405e-04 -6.99810669e-01  2.50306032e+02]\n"
     ]
    },
    {
     "name": "stderr",
     "output_type": "stream",
     "text": [
      "\r",
      "t:  48%|████████████████████████▏                         | 579/1199 [02:44<02:56,  3.52it/s, now=None]"
     ]
    },
    {
     "name": "stdout",
     "output_type": "stream",
     "text": [
      "missdetection\n",
      "[ 4.68363476e-04 -6.91721947e-01  2.55826622e+02]\n"
     ]
    },
    {
     "name": "stderr",
     "output_type": "stream",
     "text": [
      "\r",
      "t:  48%|████████████████████████▏                         | 580/1199 [02:45<02:57,  3.49it/s, now=None]"
     ]
    },
    {
     "name": "stdout",
     "output_type": "stream",
     "text": [
      "Discarded X point\n",
      "missdetection\n",
      "[ 4.59791984e-04 -6.75230153e-01  2.50842021e+02]\n"
     ]
    },
    {
     "name": "stderr",
     "output_type": "stream",
     "text": [
      "\r",
      "t:  48%|████████████████████████▏                         | 581/1199 [02:45<02:59,  3.43it/s, now=None]"
     ]
    },
    {
     "name": "stdout",
     "output_type": "stream",
     "text": [
      "Discarded X point\n",
      "missdetection\n",
      "[ 4.58084770e-04 -6.70251453e-01  2.48026704e+02]\n"
     ]
    },
    {
     "name": "stderr",
     "output_type": "stream",
     "text": [
      "\r",
      "t:  49%|████████████████████████▎                         | 582/1199 [02:45<02:55,  3.51it/s, now=None]"
     ]
    },
    {
     "name": "stdout",
     "output_type": "stream",
     "text": [
      "Discarded X point\n",
      "missdetection\n",
      "[ 4.59163185e-04 -6.73129873e-01  2.49341371e+02]\n"
     ]
    },
    {
     "name": "stderr",
     "output_type": "stream",
     "text": [
      "\r",
      "t:  49%|████████████████████████▎                         | 583/1199 [02:45<02:53,  3.56it/s, now=None]"
     ]
    },
    {
     "name": "stdout",
     "output_type": "stream",
     "text": [
      "Discarded X point\n",
      "missdetection\n",
      "[ 4.57208152e-04 -6.65977124e-01  2.44962911e+02]\n"
     ]
    },
    {
     "name": "stderr",
     "output_type": "stream",
     "text": [
      "\r",
      "t:  49%|████████████████████████▎                         | 584/1199 [02:46<02:50,  3.61it/s, now=None]"
     ]
    },
    {
     "name": "stdout",
     "output_type": "stream",
     "text": [
      "Discarded X point\n",
      "missdetection\n",
      "[ 4.63342688e-04 -6.82784797e-01  2.53258887e+02]\n"
     ]
    },
    {
     "name": "stderr",
     "output_type": "stream",
     "text": [
      "\r",
      "t:  49%|████████████████████████▍                         | 585/1199 [02:46<02:49,  3.61it/s, now=None]"
     ]
    },
    {
     "name": "stdout",
     "output_type": "stream",
     "text": [
      "Discarded X point\n",
      "missdetection\n",
      "[ 4.55121607e-04 -6.57979220e-01  2.40166095e+02]\n",
      "Reset by SanityCheck\n"
     ]
    },
    {
     "name": "stderr",
     "output_type": "stream",
     "text": [
      "\r",
      "t:  49%|████████████████████████▍                         | 586/1199 [02:46<02:50,  3.60it/s, now=None]"
     ]
    },
    {
     "name": "stdout",
     "output_type": "stream",
     "text": [
      "Discarded X point\n",
      "missdetection\n",
      "[ 6.66395454e-01 -8.05411192e+02  2.43298666e+05]\n"
     ]
    },
    {
     "name": "stderr",
     "output_type": "stream",
     "text": [
      "\r",
      "t:  49%|████████████████████████▍                         | 587/1199 [02:47<02:49,  3.61it/s, now=None]"
     ]
    },
    {
     "name": "stdout",
     "output_type": "stream",
     "text": [
      "Discarded X point\n",
      "missdetection\n",
      "[ 4.51404134e-04 -6.50864874e-01  2.37802646e+02]\n",
      "missdetection\n",
      "[-6.20233592e-04  9.42749694e-01 -3.50656920e+02]\n"
     ]
    },
    {
     "name": "stderr",
     "output_type": "stream",
     "text": [
      "\r",
      "t:  49%|████████████████████████▌                         | 588/1199 [02:47<02:41,  3.78it/s, now=None]"
     ]
    },
    {
     "name": "stdout",
     "output_type": "stream",
     "text": [
      "missdetection\n",
      "[ 4.79260198e-04 -6.78204775e-01  2.28653110e+02]\n",
      "missdetection\n",
      "[ 1.04861891e-03 -1.13717867e+00  2.88677914e+02]\n"
     ]
    },
    {
     "name": "stderr",
     "output_type": "stream",
     "text": [
      "\r",
      "t:  49%|████████████████████████▌                         | 589/1199 [02:47<02:38,  3.85it/s, now=None]"
     ]
    },
    {
     "name": "stdout",
     "output_type": "stream",
     "text": [
      "Discarded X point\n",
      "missdetection\n",
      "[ 4.57338415e-04 -6.47439210e-01  2.26793953e+02]\n",
      "missdetection\n",
      "[ 1.24417066e-03 -1.42702676e+00  3.94450280e+02]\n"
     ]
    },
    {
     "name": "stderr",
     "output_type": "stream",
     "text": [
      "\r",
      "t:  49%|████████████████████████▌                         | 590/1199 [02:47<02:42,  3.74it/s, now=None]"
     ]
    },
    {
     "name": "stdout",
     "output_type": "stream",
     "text": [
      "Discarded X point\n",
      "missdetection\n",
      "[ 4.57532730e-04 -6.51644850e-01  2.31058411e+02]\n",
      "missdetection\n",
      "[ 1.47369728e-03 -1.79849482e+00  5.40219998e+02]\n"
     ]
    },
    {
     "name": "stderr",
     "output_type": "stream",
     "text": [
      "\r",
      "t:  49%|████████████████████████▋                         | 591/1199 [02:48<02:36,  3.87it/s, now=None]"
     ]
    },
    {
     "name": "stdout",
     "output_type": "stream",
     "text": [
      "Discarded X point\n",
      "missdetection\n",
      "[ 4.76394723e-04 -7.09573811e-01  2.62082174e+02]\n",
      "missdetection\n",
      "[ 1.65039329e-03 -2.13683171e+00  6.87999159e+02]\n"
     ]
    },
    {
     "name": "stderr",
     "output_type": "stream",
     "text": [
      "\r",
      "t:  49%|████████████████████████▋                         | 592/1199 [02:48<02:35,  3.91it/s, now=None]"
     ]
    },
    {
     "name": "stdout",
     "output_type": "stream",
     "text": [
      "Discarded X point\n",
      "missdetection\n",
      "[ 4.76329793e-04 -7.09486168e-01  2.62082643e+02]\n",
      "missdetection\n",
      "[ 1.69630091e-03 -2.28884163e+00  7.70100577e+02]\n"
     ]
    },
    {
     "name": "stderr",
     "output_type": "stream",
     "text": [
      "\r",
      "t:  49%|████████████████████████▋                         | 593/1199 [02:48<02:33,  3.96it/s, now=None]"
     ]
    },
    {
     "name": "stdout",
     "output_type": "stream",
     "text": [
      "Discarded X point\n",
      "missdetection\n",
      "[ 4.76329793e-04 -7.09486168e-01  2.62082643e+02]\n",
      "missdetection\n",
      "[ 1.66573148e-03 -2.31068163e+00  7.98949108e+02]\n"
     ]
    },
    {
     "name": "stderr",
     "output_type": "stream",
     "text": [
      "\r",
      "t:  50%|████████████████████████▊                         | 594/1199 [02:48<02:38,  3.83it/s, now=None]"
     ]
    },
    {
     "name": "stdout",
     "output_type": "stream",
     "text": [
      "Discarded X point\n",
      "missdetection\n",
      "[ 4.76329793e-04 -7.09486168e-01  2.62082643e+02]\n",
      "missdetection\n",
      "[ 1.61959038e-03 -2.27758785e+00  7.97780934e+02]\n"
     ]
    },
    {
     "name": "stderr",
     "output_type": "stream",
     "text": [
      "\r",
      "t:  50%|████████████████████████▊                         | 595/1199 [02:49<02:38,  3.80it/s, now=None]"
     ]
    },
    {
     "name": "stdout",
     "output_type": "stream",
     "text": [
      "Discarded X point\n",
      "Discarded X point\n",
      "missdetection\n",
      "[ 4.62419070e-04 -6.65029216e-01  2.37716574e+02]\n",
      "missdetection\n",
      "[ 1.58941722e-03 -2.24020719e+00  7.89587735e+02]\n"
     ]
    },
    {
     "name": "stderr",
     "output_type": "stream",
     "text": [
      "\r",
      "t:  50%|████████████████████████▊                         | 596/1199 [02:49<02:38,  3.80it/s, now=None]"
     ]
    },
    {
     "name": "stdout",
     "output_type": "stream",
     "text": [
      "Discarded X point\n",
      "Discarded X point\n",
      "missdetection\n",
      "[ 4.76662862e-04 -7.07222920e-01  2.59437458e+02]\n",
      "missdetection\n",
      "[ 1.58891140e-03 -2.23907210e+00  7.89010011e+02]\n",
      "Reset by SanityCheck\n"
     ]
    },
    {
     "name": "stderr",
     "output_type": "stream",
     "text": [
      "\r",
      "t:  50%|████████████████████████▉                         | 597/1199 [02:49<02:43,  3.68it/s, now=None]"
     ]
    },
    {
     "name": "stdout",
     "output_type": "stream",
     "text": [
      "Discarded X point\n",
      "missdetection\n",
      "[ 8.23168436e-02 -1.04350486e+02  3.29431225e+04]\n",
      "missdetection\n",
      "[ 1.58949578e-03 -2.23986089e+00  7.89005793e+02]\n",
      "Reset by SanityCheck\n"
     ]
    },
    {
     "name": "stderr",
     "output_type": "stream",
     "text": [
      "\r",
      "t:  50%|████████████████████████▉                         | 598/1199 [02:49<02:52,  3.49it/s, now=None]"
     ]
    },
    {
     "name": "stdout",
     "output_type": "stream",
     "text": [
      "Discarded X point\n",
      "Discarded X point\n",
      "missdetection\n",
      "[ 4.72686418e-04 -6.53975694e-01  2.14302639e+02]\n"
     ]
    },
    {
     "name": "stderr",
     "output_type": "stream",
     "text": [
      "\r",
      "t:  50%|████████████████████████▉                         | 599/1199 [02:50<02:56,  3.39it/s, now=None]"
     ]
    },
    {
     "name": "stdout",
     "output_type": "stream",
     "text": [
      "Discarded X point\n",
      "Discarded X point\n",
      "missdetection\n",
      "[ 5.00734925e-04 -7.42122821e-01  2.61603502e+02]\n"
     ]
    },
    {
     "name": "stderr",
     "output_type": "stream",
     "text": [
      "\r",
      "t:  50%|█████████████████████████                         | 600/1199 [02:50<02:55,  3.42it/s, now=None]"
     ]
    },
    {
     "name": "stdout",
     "output_type": "stream",
     "text": [
      "Discarded X point\n",
      "missdetection\n",
      "[ 5.03128479e-04 -7.04128661e-01  2.23315273e+02]\n"
     ]
    },
    {
     "name": "stderr",
     "output_type": "stream",
     "text": [
      "\r",
      "t:  50%|█████████████████████████                         | 601/1199 [02:50<02:56,  3.40it/s, now=None]"
     ]
    },
    {
     "name": "stdout",
     "output_type": "stream",
     "text": [
      "Discarded X point\n",
      "Discarded X point\n",
      "missdetection\n",
      "[ 4.89777167e-04 -6.93777344e-01  2.29959324e+02]\n"
     ]
    },
    {
     "name": "stderr",
     "output_type": "stream",
     "text": [
      "\r",
      "t:  50%|█████████████████████████                         | 602/1199 [02:51<02:52,  3.47it/s, now=None]"
     ]
    },
    {
     "name": "stdout",
     "output_type": "stream",
     "text": [
      "Discarded X point\n",
      "Discarded X point\n",
      "missdetection\n",
      "[ 5.06630619e-04 -7.50386265e-01  2.61863964e+02]\n"
     ]
    },
    {
     "name": "stderr",
     "output_type": "stream",
     "text": [
      "\r",
      "t:  50%|█████████████████████████▏                        | 603/1199 [02:51<02:49,  3.51it/s, now=None]"
     ]
    },
    {
     "name": "stdout",
     "output_type": "stream",
     "text": [
      "Discarded X point\n",
      "Discarded X point\n",
      "missdetection\n",
      "[ 5.06370897e-04 -7.50035693e-01  2.61865838e+02]\n"
     ]
    },
    {
     "name": "stderr",
     "output_type": "stream",
     "text": [
      "\r",
      "t:  50%|█████████████████████████▏                        | 604/1199 [02:51<02:48,  3.54it/s, now=None]"
     ]
    },
    {
     "name": "stdout",
     "output_type": "stream",
     "text": [
      "Discarded X point\n",
      "Discarded X point\n",
      "missdetection\n",
      "[ 5.06305967e-04 -7.49948050e-01  2.61866307e+02]\n"
     ]
    },
    {
     "name": "stderr",
     "output_type": "stream",
     "text": [
      "\r",
      "t:  50%|█████████████████████████▏                        | 605/1199 [02:51<02:44,  3.60it/s, now=None]"
     ]
    },
    {
     "name": "stdout",
     "output_type": "stream",
     "text": [
      "Discarded X point\n",
      "Discarded X point\n",
      "missdetection\n",
      "[ 5.06305967e-04 -7.49948050e-01  2.61866307e+02]\n"
     ]
    },
    {
     "name": "stderr",
     "output_type": "stream",
     "text": [
      "\r",
      "t:  51%|█████████████████████████▎                        | 606/1199 [02:52<02:44,  3.61it/s, now=None]"
     ]
    },
    {
     "name": "stdout",
     "output_type": "stream",
     "text": [
      "Discarded X point\n",
      "Discarded X point\n",
      "missdetection\n",
      "[ 5.07041844e-04 -7.50941338e-01  2.61860996e+02]\n"
     ]
    },
    {
     "name": "stderr",
     "output_type": "stream",
     "text": [
      "\r",
      "t:  51%|█████████████████████████▎                        | 607/1199 [02:52<02:45,  3.57it/s, now=None]"
     ]
    },
    {
     "name": "stdout",
     "output_type": "stream",
     "text": [
      "Discarded X point\n",
      "Discarded X point\n",
      "missdetection\n",
      "[ 5.07561287e-04 -7.51642482e-01  2.61857247e+02]\n",
      "Reset by SanityCheck\n"
     ]
    },
    {
     "name": "stderr",
     "output_type": "stream",
     "text": [
      "\r",
      "t:  51%|█████████████████████████▎                        | 608/1199 [02:52<02:42,  3.65it/s, now=None]"
     ]
    },
    {
     "name": "stdout",
     "output_type": "stream",
     "text": [
      "Discarded X point\n",
      "Discarded X point\n",
      "NO pixels with search around poly\n",
      "missdetection\n",
      "[ 2.78955694e-03 -1.23282204e+00  9.50510863e+01]\n"
     ]
    },
    {
     "name": "stderr",
     "output_type": "stream",
     "text": [
      "\r",
      "t:  51%|█████████████████████████▍                        | 609/1199 [02:52<02:34,  3.83it/s, now=None]"
     ]
    },
    {
     "name": "stdout",
     "output_type": "stream",
     "text": [
      "Discarded X point\n",
      "Discarded X point\n",
      "missdetection\n",
      "[ 5.03167667e-04 -7.45711968e-01  2.61888955e+02]\n"
     ]
    },
    {
     "name": "stderr",
     "output_type": "stream",
     "text": [
      "\r",
      "t:  51%|█████████████████████████▍                        | 610/1199 [02:53<02:36,  3.77it/s, now=None]"
     ]
    },
    {
     "name": "stdout",
     "output_type": "stream",
     "text": [
      "Discarded X point\n",
      "missdetection\n",
      "[ 5.02907946e-04 -7.45361396e-01  2.61890830e+02]\n"
     ]
    },
    {
     "name": "stderr",
     "output_type": "stream",
     "text": [
      "\r",
      "t:  51%|█████████████████████████▍                        | 611/1199 [02:53<02:37,  3.73it/s, now=None]"
     ]
    },
    {
     "name": "stdout",
     "output_type": "stream",
     "text": [
      "Discarded X point\n",
      "missdetection\n",
      "[ 5.02843016e-04 -7.45273753e-01  2.61891298e+02]\n"
     ]
    },
    {
     "name": "stderr",
     "output_type": "stream",
     "text": [
      "\r",
      "t:  51%|█████████████████████████▌                        | 612/1199 [02:53<02:37,  3.72it/s, now=None]"
     ]
    },
    {
     "name": "stdout",
     "output_type": "stream",
     "text": [
      "Discarded X point\n",
      "missdetection\n",
      "[ 5.02843016e-04 -7.45273753e-01  2.61891298e+02]\n"
     ]
    },
    {
     "name": "stderr",
     "output_type": "stream",
     "text": [
      "\r",
      "t:  51%|█████████████████████████▌                        | 613/1199 [02:54<02:38,  3.71it/s, now=None]"
     ]
    },
    {
     "name": "stdout",
     "output_type": "stream",
     "text": [
      "Discarded X point\n",
      "missdetection\n",
      "[ 5.02843016e-04 -7.45273753e-01  2.61891298e+02]\n"
     ]
    },
    {
     "name": "stderr",
     "output_type": "stream",
     "text": [
      "\r",
      "t:  51%|█████████████████████████▌                        | 614/1199 [02:54<02:36,  3.73it/s, now=None]"
     ]
    },
    {
     "name": "stdout",
     "output_type": "stream",
     "text": [
      "Discarded X point\n",
      "missdetection\n",
      "[ 5.02843016e-04 -7.45273753e-01  2.61891298e+02]\n"
     ]
    },
    {
     "name": "stderr",
     "output_type": "stream",
     "text": [
      "\r",
      "t:  51%|█████████████████████████▋                        | 615/1199 [02:54<02:37,  3.70it/s, now=None]"
     ]
    },
    {
     "name": "stdout",
     "output_type": "stream",
     "text": [
      "Discarded X point\n",
      "missdetection\n",
      "[ 5.02843016e-04 -7.45273753e-01  2.61891298e+02]\n"
     ]
    },
    {
     "name": "stderr",
     "output_type": "stream",
     "text": [
      "\r",
      "t:  51%|█████████████████████████▋                        | 616/1199 [02:54<02:36,  3.73it/s, now=None]"
     ]
    },
    {
     "name": "stdout",
     "output_type": "stream",
     "text": [
      "missdetection\n",
      "[ 4.31864480e-04 -6.22330736e-01  2.06050305e+02]\n"
     ]
    },
    {
     "name": "stderr",
     "output_type": "stream",
     "text": [
      "\r",
      "t:  51%|█████████████████████████▋                        | 617/1199 [02:55<02:37,  3.70it/s, now=None]"
     ]
    },
    {
     "name": "stdout",
     "output_type": "stream",
     "text": [
      "missdetection\n",
      "[ 4.81320019e-04 -7.07098817e-01  2.43621914e+02]\n"
     ]
    },
    {
     "name": "stderr",
     "output_type": "stream",
     "text": [
      "\r",
      "t:  52%|█████████████████████████▊                        | 618/1199 [02:55<02:37,  3.69it/s, now=None]"
     ]
    },
    {
     "name": "stdout",
     "output_type": "stream",
     "text": [
      "missdetection\n",
      "[ 4.82092730e-04 -6.99573324e-01  2.37629416e+02]\n",
      "Reset by SanityCheck\n"
     ]
    },
    {
     "name": "stderr",
     "output_type": "stream",
     "text": [
      "\r",
      "t:  52%|█████████████████████████▊                        | 619/1199 [02:55<02:31,  3.82it/s, now=None]"
     ]
    },
    {
     "name": "stdout",
     "output_type": "stream",
     "text": [
      "missdetection\n",
      "[ 8.73461647e-03 -1.20110656e+01  4.01451936e+03]\n"
     ]
    },
    {
     "name": "stderr",
     "output_type": "stream",
     "text": [
      "\r",
      "t:  52%|█████████████████████████▊                        | 620/1199 [02:55<02:33,  3.77it/s, now=None]"
     ]
    },
    {
     "name": "stdout",
     "output_type": "stream",
     "text": [
      "missdetection\n",
      "[ 5.46343108e-04 -7.94114446e-01  2.57702946e+02]\n"
     ]
    },
    {
     "name": "stderr",
     "output_type": "stream",
     "text": [
      "\r",
      "t:  52%|█████████████████████████▉                        | 621/1199 [02:56<02:35,  3.72it/s, now=None]"
     ]
    },
    {
     "name": "stdout",
     "output_type": "stream",
     "text": [
      "missdetection\n",
      "[ 5.61835993e-04 -8.21685326e-01  2.62054982e+02]\n"
     ]
    },
    {
     "name": "stderr",
     "output_type": "stream",
     "text": [
      "\r",
      "t:  52%|█████████████████████████▉                        | 622/1199 [02:56<02:34,  3.73it/s, now=None]"
     ]
    },
    {
     "name": "stdout",
     "output_type": "stream",
     "text": [
      "missdetection\n",
      "[ 5.46995825e-04 -8.05157879e-01  2.63250792e+02]\n"
     ]
    },
    {
     "name": "stderr",
     "output_type": "stream",
     "text": [
      "\r",
      "t:  52%|█████████████████████████▉                        | 623/1199 [02:56<02:38,  3.64it/s, now=None]"
     ]
    },
    {
     "name": "stdout",
     "output_type": "stream",
     "text": [
      "missdetection\n",
      "[ 5.43637567e-04 -8.00421594e-01  2.61712202e+02]\n"
     ]
    },
    {
     "name": "stderr",
     "output_type": "stream",
     "text": [
      "\r",
      "t:  52%|██████████████████████████                        | 624/1199 [02:57<02:41,  3.56it/s, now=None]"
     ]
    },
    {
     "name": "stdout",
     "output_type": "stream",
     "text": [
      "Discarded X point\n",
      "missdetection\n",
      "[ 5.41260135e-04 -7.97129233e-01  2.61614045e+02]\n"
     ]
    },
    {
     "name": "stderr",
     "output_type": "stream",
     "text": [
      "\r",
      "t:  52%|██████████████████████████                        | 625/1199 [02:57<02:42,  3.54it/s, now=None]"
     ]
    },
    {
     "name": "stdout",
     "output_type": "stream",
     "text": [
      "missdetection\n",
      "[ 5.44879994e-04 -8.01631255e-01  2.60968614e+02]\n"
     ]
    },
    {
     "name": "stderr",
     "output_type": "stream",
     "text": [
      "\r",
      "t:  52%|██████████████████████████                        | 626/1199 [02:57<02:43,  3.51it/s, now=None]"
     ]
    },
    {
     "name": "stdout",
     "output_type": "stream",
     "text": [
      "missdetection\n",
      "[ 5.42440093e-04 -7.95234673e-01  2.57617366e+02]\n"
     ]
    },
    {
     "name": "stderr",
     "output_type": "stream",
     "text": [
      "\r",
      "t:  52%|██████████████████████████▏                       | 627/1199 [02:57<02:44,  3.49it/s, now=None]"
     ]
    },
    {
     "name": "stdout",
     "output_type": "stream",
     "text": [
      "missdetection\n",
      "[ 5.44243888e-04 -8.00530402e-01  2.61081741e+02]\n"
     ]
    },
    {
     "name": "stderr",
     "output_type": "stream",
     "text": [
      "\r",
      "t:  52%|██████████████████████████▏                       | 628/1199 [02:58<02:40,  3.56it/s, now=None]"
     ]
    },
    {
     "name": "stdout",
     "output_type": "stream",
     "text": [
      "missdetection\n",
      "[ 5.49880584e-04 -8.07545004e-01  2.61022935e+02]\n"
     ]
    },
    {
     "name": "stderr",
     "output_type": "stream",
     "text": [
      "\r",
      "t:  52%|██████████████████████████▏                       | 629/1199 [02:58<02:41,  3.53it/s, now=None]"
     ]
    },
    {
     "name": "stdout",
     "output_type": "stream",
     "text": [
      "missdetection\n",
      "[ 5.49752903e-04 -8.07655879e-01  2.61569721e+02]\n",
      "Reset by SanityCheck\n"
     ]
    },
    {
     "name": "stderr",
     "output_type": "stream",
     "text": [
      "\r",
      "t:  53%|██████████████████████████▎                       | 630/1199 [02:58<02:43,  3.48it/s, now=None]"
     ]
    },
    {
     "name": "stdout",
     "output_type": "stream",
     "text": [
      "missdetection\n",
      "[-3.09540772e-02  4.07181506e+01 -1.34287424e+04]\n"
     ]
    },
    {
     "name": "stderr",
     "output_type": "stream",
     "text": [
      "\r",
      "t:  53%|██████████████████████████▎                       | 631/1199 [02:59<02:39,  3.57it/s, now=None]"
     ]
    },
    {
     "name": "stdout",
     "output_type": "stream",
     "text": [
      "Discarded X point\n",
      "missdetection\n",
      "[ 5.60349655e-04 -8.22896295e-01  2.61476277e+02]\n"
     ]
    },
    {
     "name": "stderr",
     "output_type": "stream",
     "text": [
      "\r",
      "t:  53%|██████████████████████████▎                       | 632/1199 [02:59<02:36,  3.61it/s, now=None]"
     ]
    },
    {
     "name": "stdout",
     "output_type": "stream",
     "text": [
      "Discarded X point\n",
      "missdetection\n",
      "[ 5.59765282e-04 -8.22107507e-01  2.61480494e+02]\n"
     ]
    },
    {
     "name": "stderr",
     "output_type": "stream",
     "text": [
      "\r",
      "t:  53%|██████████████████████████▍                       | 633/1199 [02:59<02:42,  3.48it/s, now=None]"
     ]
    },
    {
     "name": "stdout",
     "output_type": "stream",
     "text": [
      "Discarded X point\n",
      "missdetection\n",
      "[ 5.59635421e-04 -8.21932221e-01  2.61481431e+02]\n"
     ]
    },
    {
     "name": "stderr",
     "output_type": "stream",
     "text": [
      "\r",
      "t:  53%|██████████████████████████▍                       | 634/1199 [02:59<02:40,  3.51it/s, now=None]"
     ]
    },
    {
     "name": "stdout",
     "output_type": "stream",
     "text": [
      "Discarded X point\n",
      "missdetection\n",
      "[ 5.59635421e-04 -8.21932221e-01  2.61481431e+02]\n"
     ]
    },
    {
     "name": "stderr",
     "output_type": "stream",
     "text": [
      "\r",
      "t:  53%|██████████████████████████▍                       | 635/1199 [03:00<02:40,  3.51it/s, now=None]"
     ]
    },
    {
     "name": "stdout",
     "output_type": "stream",
     "text": [
      "Discarded X point\n",
      "missdetection\n",
      "[ 5.59635421e-04 -8.21932221e-01  2.61481431e+02]\n"
     ]
    },
    {
     "name": "stderr",
     "output_type": "stream",
     "text": [
      "\r",
      "t:  53%|██████████████████████████▌                       | 636/1199 [03:00<02:46,  3.37it/s, now=None]"
     ]
    },
    {
     "name": "stdout",
     "output_type": "stream",
     "text": [
      "Discarded X point\n",
      "missdetection\n",
      "[ 5.59635421e-04 -8.21932221e-01  2.61481431e+02]\n"
     ]
    },
    {
     "name": "stderr",
     "output_type": "stream",
     "text": [
      "\r",
      "t:  53%|██████████████████████████▌                       | 637/1199 [03:00<02:49,  3.32it/s, now=None]"
     ]
    },
    {
     "name": "stdout",
     "output_type": "stream",
     "text": [
      "Discarded X point\n",
      "missdetection\n",
      "[ 5.59635421e-04 -8.21932221e-01  2.61481431e+02]\n"
     ]
    },
    {
     "name": "stderr",
     "output_type": "stream",
     "text": [
      "\r",
      "t:  53%|██████████████████████████▌                       | 638/1199 [03:01<02:44,  3.40it/s, now=None]"
     ]
    },
    {
     "name": "stdout",
     "output_type": "stream",
     "text": [
      "Discarded X point\n",
      "missdetection\n",
      "[ 5.59635421e-04 -8.21932221e-01  2.61481431e+02]\n"
     ]
    },
    {
     "name": "stderr",
     "output_type": "stream",
     "text": [
      "\r",
      "t:  53%|██████████████████████████▋                       | 639/1199 [03:01<02:44,  3.41it/s, now=None]"
     ]
    },
    {
     "name": "stdout",
     "output_type": "stream",
     "text": [
      "Discarded X point\n",
      "missdetection\n",
      "[ 5.60025003e-04 -8.22458079e-01  2.61478620e+02]\n"
     ]
    },
    {
     "name": "stderr",
     "output_type": "stream",
     "text": [
      "\r",
      "t:  53%|██████████████████████████▋                       | 640/1199 [03:01<02:42,  3.45it/s, now=None]"
     ]
    },
    {
     "name": "stdout",
     "output_type": "stream",
     "text": [
      "Discarded X point\n",
      "Wrong separation between lines\n"
     ]
    },
    {
     "name": "stderr",
     "output_type": "stream",
     "text": [
      "\r",
      "t:  53%|██████████████████████████▋                       | 641/1199 [03:01<02:41,  3.45it/s, now=None]"
     ]
    },
    {
     "name": "stdout",
     "output_type": "stream",
     "text": [
      "Discarded X point\n",
      "missdetection\n",
      "[-1.46328942e-04  3.87774220e-01 -2.22400600e+02]\n"
     ]
    },
    {
     "name": "stderr",
     "output_type": "stream",
     "text": [
      "\r",
      "t:  54%|██████████████████████████▊                       | 642/1199 [03:02<02:36,  3.56it/s, now=None]"
     ]
    },
    {
     "name": "stdout",
     "output_type": "stream",
     "text": [
      "Discarded X point\n",
      "missdetection\n",
      "[ -0.02357969   2.09226198 -21.03820558]\n",
      "missdetection\n",
      "[-3.76543385e-04  6.13548478e-01 -2.67408551e+02]\n"
     ]
    },
    {
     "name": "stderr",
     "output_type": "stream",
     "text": [
      "\r",
      "t:  54%|██████████████████████████▊                       | 643/1199 [03:02<02:32,  3.64it/s, now=None]"
     ]
    },
    {
     "name": "stdout",
     "output_type": "stream",
     "text": [
      "Discarded X point\n",
      "missdetection\n",
      "[-4.18355195e-04  6.49934039e-01 -2.74373746e+02]\n"
     ]
    },
    {
     "name": "stderr",
     "output_type": "stream",
     "text": [
      "\r",
      "t:  54%|██████████████████████████▊                       | 644/1199 [03:02<02:32,  3.64it/s, now=None]"
     ]
    },
    {
     "name": "stdout",
     "output_type": "stream",
     "text": [
      "Discarded X point\n",
      "missdetection\n",
      "[ 1.76528582e-03 -1.15383929e+00  6.23661039e+01]\n",
      "missdetection\n",
      "[-2.20572787e-04  4.60735258e-01 -2.37218610e+02]\n"
     ]
    },
    {
     "name": "stderr",
     "output_type": "stream",
     "text": [
      "\r",
      "t:  54%|██████████████████████████▉                       | 645/1199 [03:03<02:28,  3.72it/s, now=None]"
     ]
    },
    {
     "name": "stdout",
     "output_type": "stream",
     "text": [
      "Discarded X point\n"
     ]
    },
    {
     "name": "stderr",
     "output_type": "stream",
     "text": [
      "\r",
      "t:  54%|██████████████████████████▉                       | 646/1199 [03:03<02:27,  3.75it/s, now=None]"
     ]
    },
    {
     "name": "stdout",
     "output_type": "stream",
     "text": [
      "Wrong separation between lines\n"
     ]
    },
    {
     "name": "stderr",
     "output_type": "stream",
     "text": [
      "\r",
      "t:  54%|██████████████████████████▉                       | 647/1199 [03:03<02:23,  3.85it/s, now=None]"
     ]
    },
    {
     "name": "stdout",
     "output_type": "stream",
     "text": [
      "missdetection\n",
      "[-3.47194553e-04  5.57979101e-01 -2.21536868e+02]\n"
     ]
    },
    {
     "name": "stderr",
     "output_type": "stream",
     "text": [
      "\r",
      "t:  54%|███████████████████████████                       | 648/1199 [03:03<02:24,  3.81it/s, now=None]"
     ]
    },
    {
     "name": "stdout",
     "output_type": "stream",
     "text": [
      "missdetection\n",
      "[-2.88569115e-04  4.87115494e-01 -2.00733669e+02]\n"
     ]
    },
    {
     "name": "stderr",
     "output_type": "stream",
     "text": [
      "\r",
      "t:  54%|███████████████████████████                       | 649/1199 [03:04<02:26,  3.76it/s, now=None]"
     ]
    },
    {
     "name": "stdout",
     "output_type": "stream",
     "text": [
      "missdetection\n",
      "[-2.79334736e-04  4.88472914e-01 -2.06642170e+02]\n"
     ]
    },
    {
     "name": "stderr",
     "output_type": "stream",
     "text": [
      "t:  54%|███████████████████████████▏                      | 651/1199 [03:04<02:25,  3.75it/s, now=None]"
     ]
    },
    {
     "name": "stdout",
     "output_type": "stream",
     "text": [
      "Wrong separation between lines\n"
     ]
    },
    {
     "name": "stderr",
     "output_type": "stream",
     "text": [
      "t:  54%|███████████████████████████▏                      | 653/1199 [03:05<02:18,  3.95it/s, now=None]"
     ]
    },
    {
     "name": "stdout",
     "output_type": "stream",
     "text": [
      "Wrong separation between lines\n"
     ]
    },
    {
     "name": "stderr",
     "output_type": "stream",
     "text": [
      "\r",
      "t:  55%|███████████████████████████▎                      | 654/1199 [03:05<02:17,  3.96it/s, now=None]"
     ]
    },
    {
     "name": "stdout",
     "output_type": "stream",
     "text": [
      "Wrong separation between lines\n"
     ]
    },
    {
     "name": "stderr",
     "output_type": "stream",
     "text": [
      "\r",
      "t:  55%|███████████████████████████▎                      | 655/1199 [03:05<02:21,  3.86it/s, now=None]"
     ]
    },
    {
     "name": "stdout",
     "output_type": "stream",
     "text": [
      "Wrong separation between lines\n"
     ]
    },
    {
     "name": "stderr",
     "output_type": "stream",
     "text": [
      "\r",
      "t:  55%|███████████████████████████▎                      | 656/1199 [03:05<02:20,  3.86it/s, now=None]"
     ]
    },
    {
     "name": "stdout",
     "output_type": "stream",
     "text": [
      "Wrong separation between lines\n"
     ]
    },
    {
     "name": "stderr",
     "output_type": "stream",
     "text": [
      "\r",
      "t:  55%|███████████████████████████▍                      | 657/1199 [03:06<02:19,  3.89it/s, now=None]"
     ]
    },
    {
     "name": "stdout",
     "output_type": "stream",
     "text": [
      "Wrong separation between lines\n"
     ]
    },
    {
     "name": "stderr",
     "output_type": "stream",
     "text": [
      "\r",
      "t:  55%|███████████████████████████▍                      | 658/1199 [03:06<02:17,  3.92it/s, now=None]"
     ]
    },
    {
     "name": "stdout",
     "output_type": "stream",
     "text": [
      "Wrong separation between lines\n"
     ]
    },
    {
     "name": "stderr",
     "output_type": "stream",
     "text": [
      "\r",
      "t:  55%|███████████████████████████▍                      | 659/1199 [03:06<02:15,  3.98it/s, now=None]"
     ]
    },
    {
     "name": "stdout",
     "output_type": "stream",
     "text": [
      "Wrong separation between lines\n",
      "Discarded X point\n"
     ]
    },
    {
     "name": "stderr",
     "output_type": "stream",
     "text": [
      "\r",
      "t:  55%|███████████████████████████▌                      | 660/1199 [03:06<02:13,  4.03it/s, now=None]"
     ]
    },
    {
     "name": "stdout",
     "output_type": "stream",
     "text": [
      "Wrong separation between lines\n"
     ]
    },
    {
     "name": "stderr",
     "output_type": "stream",
     "text": [
      "\r",
      "t:  55%|███████████████████████████▌                      | 661/1199 [03:07<02:12,  4.05it/s, now=None]"
     ]
    },
    {
     "name": "stdout",
     "output_type": "stream",
     "text": [
      "Discarded X point\n",
      "Wrong separation between lines\n"
     ]
    },
    {
     "name": "stderr",
     "output_type": "stream",
     "text": [
      "\r",
      "t:  55%|███████████████████████████▌                      | 662/1199 [03:07<02:11,  4.08it/s, now=None]"
     ]
    },
    {
     "name": "stdout",
     "output_type": "stream",
     "text": [
      "Discarded X point\n",
      "Wrong separation between lines\n"
     ]
    },
    {
     "name": "stderr",
     "output_type": "stream",
     "text": [
      "\r",
      "t:  55%|███████████████████████████▋                      | 663/1199 [03:07<02:12,  4.05it/s, now=None]"
     ]
    },
    {
     "name": "stdout",
     "output_type": "stream",
     "text": [
      "Discarded X point\n",
      "Wrong separation between lines\n"
     ]
    },
    {
     "name": "stderr",
     "output_type": "stream",
     "text": [
      "\r",
      "t:  55%|███████████████████████████▋                      | 664/1199 [03:07<02:14,  3.99it/s, now=None]"
     ]
    },
    {
     "name": "stdout",
     "output_type": "stream",
     "text": [
      "missdetection\n",
      "[ 1.00194808e-03 -1.15108363e+00  3.14817431e+02]\n"
     ]
    },
    {
     "name": "stderr",
     "output_type": "stream",
     "text": [
      "\r",
      "t:  55%|███████████████████████████▋                      | 665/1199 [03:08<02:16,  3.92it/s, now=None]"
     ]
    },
    {
     "name": "stdout",
     "output_type": "stream",
     "text": [
      "Wrong separation between lines\n"
     ]
    },
    {
     "name": "stderr",
     "output_type": "stream",
     "text": [
      "\r",
      "t:  56%|███████████████████████████▊                      | 666/1199 [03:08<02:16,  3.91it/s, now=None]"
     ]
    },
    {
     "name": "stdout",
     "output_type": "stream",
     "text": [
      "Wrong separation between lines\n"
     ]
    },
    {
     "name": "stderr",
     "output_type": "stream",
     "text": [
      "\r",
      "t:  56%|███████████████████████████▊                      | 667/1199 [03:08<02:15,  3.93it/s, now=None]"
     ]
    },
    {
     "name": "stdout",
     "output_type": "stream",
     "text": [
      "missdetection\n",
      "[-7.06487682e-04  7.96173850e-01 -2.22399355e+02]\n"
     ]
    },
    {
     "name": "stderr",
     "output_type": "stream",
     "text": [
      "\r",
      "t:  56%|███████████████████████████▊                      | 668/1199 [03:08<02:19,  3.81it/s, now=None]"
     ]
    },
    {
     "name": "stdout",
     "output_type": "stream",
     "text": [
      "missdetection\n",
      "[-2.02509263e-03  1.53310155e+00 -2.03118935e+02]\n"
     ]
    },
    {
     "name": "stderr",
     "output_type": "stream",
     "text": [
      "\r",
      "t:  56%|███████████████████████████▉                      | 669/1199 [03:09<02:21,  3.73it/s, now=None]"
     ]
    },
    {
     "name": "stdout",
     "output_type": "stream",
     "text": [
      "missdetection\n",
      "[-6.11517185e-04  7.49829355e-01 -2.33448984e+02]\n"
     ]
    },
    {
     "name": "stderr",
     "output_type": "stream",
     "text": [
      "\r",
      "t:  56%|███████████████████████████▉                      | 670/1199 [03:09<02:23,  3.68it/s, now=None]"
     ]
    },
    {
     "name": "stdout",
     "output_type": "stream",
     "text": [
      "Wrong separation between lines\n"
     ]
    },
    {
     "name": "stderr",
     "output_type": "stream",
     "text": [
      "\r",
      "t:  56%|███████████████████████████▉                      | 671/1199 [03:09<02:22,  3.71it/s, now=None]"
     ]
    },
    {
     "name": "stdout",
     "output_type": "stream",
     "text": [
      "Discarded X point\n",
      "Wrong separation between lines\n"
     ]
    },
    {
     "name": "stderr",
     "output_type": "stream",
     "text": [
      "\r",
      "t:  56%|████████████████████████████                      | 672/1199 [03:10<02:18,  3.81it/s, now=None]"
     ]
    },
    {
     "name": "stdout",
     "output_type": "stream",
     "text": [
      "Discarded X point\n",
      "Discarded X point\n"
     ]
    },
    {
     "name": "stderr",
     "output_type": "stream",
     "text": [
      "\r",
      "t:  56%|████████████████████████████                      | 673/1199 [03:10<02:17,  3.82it/s, now=None]"
     ]
    },
    {
     "name": "stdout",
     "output_type": "stream",
     "text": [
      "Wrong separation between lines\n"
     ]
    },
    {
     "name": "stderr",
     "output_type": "stream",
     "text": [
      "t:  56%|████████████████████████████▏                     | 675/1199 [03:10<02:16,  3.83it/s, now=None]"
     ]
    },
    {
     "name": "stdout",
     "output_type": "stream",
     "text": [
      "Wrong separation between lines\n"
     ]
    },
    {
     "name": "stderr",
     "output_type": "stream",
     "text": [
      "\r",
      "t:  56%|████████████████████████████▏                     | 676/1199 [03:11<02:15,  3.86it/s, now=None]"
     ]
    },
    {
     "name": "stdout",
     "output_type": "stream",
     "text": [
      "Discarded X point\n"
     ]
    },
    {
     "name": "stderr",
     "output_type": "stream",
     "text": [
      "\r",
      "t:  56%|████████████████████████████▏                     | 677/1199 [03:11<02:16,  3.83it/s, now=None]"
     ]
    },
    {
     "name": "stdout",
     "output_type": "stream",
     "text": [
      "Discarded X point\n",
      "Wrong separation between lines\n"
     ]
    },
    {
     "name": "stderr",
     "output_type": "stream",
     "text": [
      "t:  57%|████████████████████████████▎                     | 679/1199 [03:11<02:12,  3.92it/s, now=None]"
     ]
    },
    {
     "name": "stdout",
     "output_type": "stream",
     "text": [
      "missdetection\n",
      "[ 1.98500994e-03 -1.09078148e+00  1.19014800e+02]\n"
     ]
    },
    {
     "name": "stderr",
     "output_type": "stream",
     "text": [
      "\r",
      "t:  57%|████████████████████████████▎                     | 680/1199 [03:12<02:16,  3.80it/s, now=None]"
     ]
    },
    {
     "name": "stdout",
     "output_type": "stream",
     "text": [
      "Wrong separation between lines\n",
      "Discarded X point\n"
     ]
    },
    {
     "name": "stderr",
     "output_type": "stream",
     "text": [
      "\r",
      "t:  57%|████████████████████████████▍                     | 681/1199 [03:12<02:10,  3.98it/s, now=None]"
     ]
    },
    {
     "name": "stdout",
     "output_type": "stream",
     "text": [
      "Wrong separation between lines\n"
     ]
    },
    {
     "name": "stderr",
     "output_type": "stream",
     "text": [
      "t:  57%|████████████████████████████▍                     | 683/1199 [03:12<02:11,  3.92it/s, now=None]"
     ]
    },
    {
     "name": "stdout",
     "output_type": "stream",
     "text": [
      "Wrong separation between lines\n"
     ]
    },
    {
     "name": "stderr",
     "output_type": "stream",
     "text": [
      "t:  57%|████████████████████████████▌                     | 685/1199 [03:13<02:13,  3.85it/s, now=None]"
     ]
    },
    {
     "name": "stdout",
     "output_type": "stream",
     "text": [
      "missdetection\n",
      "[ 3.48926811e-03 -3.08851524e+00  6.83023965e+02]\n",
      "missdetection\n",
      "[-1.61655399e-03  1.44254010e+00 -2.88659817e+02]\n"
     ]
    },
    {
     "name": "stderr",
     "output_type": "stream",
     "text": [
      "\r",
      "t:  57%|████████████████████████████▌                     | 686/1199 [03:13<02:14,  3.81it/s, now=None]"
     ]
    },
    {
     "name": "stdout",
     "output_type": "stream",
     "text": [
      "missdetection\n",
      "[ 1.87019919e-04 -4.83957386e-01  2.33935947e+02]\n"
     ]
    },
    {
     "name": "stderr",
     "output_type": "stream",
     "text": [
      "\r",
      "t:  57%|████████████████████████████▋                     | 687/1199 [03:13<02:17,  3.73it/s, now=None]"
     ]
    },
    {
     "name": "stdout",
     "output_type": "stream",
     "text": [
      "Discarded X point\n",
      "missdetection\n",
      "[ 4.15984372e-03 -4.08361209e+00  9.78400948e+02]\n",
      "missdetection\n",
      "[ 3.80909870e-04 -6.97885696e-01  2.90645233e+02]\n"
     ]
    },
    {
     "name": "stderr",
     "output_type": "stream",
     "text": [
      "\r",
      "t:  57%|████████████████████████████▋                     | 688/1199 [03:14<02:12,  3.86it/s, now=None]"
     ]
    },
    {
     "name": "stdout",
     "output_type": "stream",
     "text": [
      "Discarded X point\n",
      "missdetection\n",
      "[ 3.00216687e-04 -5.72546667e-01  2.43749821e+02]\n"
     ]
    },
    {
     "name": "stderr",
     "output_type": "stream",
     "text": [
      "\r",
      "t:  57%|████████████████████████████▋                     | 689/1199 [03:14<02:16,  3.74it/s, now=None]"
     ]
    },
    {
     "name": "stdout",
     "output_type": "stream",
     "text": [
      "Discarded X point\n",
      "missdetection\n",
      "[ 2.20990386e-03 -2.08940488e+00  4.71130185e+02]\n",
      "missdetection\n",
      "[ 6.37954373e-04 -1.08248040e+00  4.35146505e+02]\n"
     ]
    },
    {
     "name": "stderr",
     "output_type": "stream",
     "text": [
      "\r",
      "t:  58%|████████████████████████████▊                     | 690/1199 [03:14<02:13,  3.80it/s, now=None]"
     ]
    },
    {
     "name": "stdout",
     "output_type": "stream",
     "text": [
      "Discarded X point\n",
      "missdetection\n",
      "[ 6.15587162e-04 -1.06528973e+00  4.34386961e+02]\n"
     ]
    },
    {
     "name": "stderr",
     "output_type": "stream",
     "text": [
      "\r",
      "t:  58%|████████████████████████████▊                     | 691/1199 [03:14<02:12,  3.82it/s, now=None]"
     ]
    },
    {
     "name": "stdout",
     "output_type": "stream",
     "text": [
      "Discarded X point\n",
      "missdetection\n",
      "[ 6.34416035e-04 -1.10028175e+00  4.50760429e+02]\n"
     ]
    },
    {
     "name": "stderr",
     "output_type": "stream",
     "text": [
      "\r",
      "t:  58%|████████████████████████████▊                     | 692/1199 [03:15<02:11,  3.86it/s, now=None]"
     ]
    },
    {
     "name": "stdout",
     "output_type": "stream",
     "text": [
      "Discarded X point\n",
      "missdetection\n",
      "[ 6.25792278e-04 -1.07701553e+00  4.40286061e+02]\n"
     ]
    },
    {
     "name": "stderr",
     "output_type": "stream",
     "text": [
      "\r",
      "t:  58%|████████████████████████████▉                     | 693/1199 [03:15<02:10,  3.88it/s, now=None]"
     ]
    },
    {
     "name": "stdout",
     "output_type": "stream",
     "text": [
      "Discarded X point\n",
      "missdetection\n",
      "[ 5.30573713e-04 -9.77588332e-01  4.17320385e+02]\n"
     ]
    },
    {
     "name": "stderr",
     "output_type": "stream",
     "text": [
      "\r",
      "t:  58%|████████████████████████████▉                     | 694/1199 [03:15<02:17,  3.68it/s, now=None]"
     ]
    },
    {
     "name": "stdout",
     "output_type": "stream",
     "text": [
      "Discarded X point\n",
      "missdetection\n",
      "[ 4.42542130e-04 -8.97296242e-01  4.05317493e+02]\n"
     ]
    },
    {
     "name": "stderr",
     "output_type": "stream",
     "text": [
      "\r",
      "t:  58%|████████████████████████████▉                     | 695/1199 [03:16<02:17,  3.67it/s, now=None]"
     ]
    },
    {
     "name": "stdout",
     "output_type": "stream",
     "text": [
      "Discarded X point\n",
      "missdetection\n",
      "[ 6.90036333e-04 -1.24880651e+00  5.27227889e+02]\n",
      "Reset by SanityCheck\n"
     ]
    },
    {
     "name": "stderr",
     "output_type": "stream",
     "text": [
      "\r",
      "t:  58%|█████████████████████████████                     | 696/1199 [03:16<02:16,  3.69it/s, now=None]"
     ]
    },
    {
     "name": "stdout",
     "output_type": "stream",
     "text": [
      "Discarded X point\n",
      "Discarded X point\n",
      "missdetection\n",
      "[-7.23382706e-04  8.51089272e-01 -2.49370384e+02]\n",
      "missdetection\n",
      "[-2.98276713e-03  3.24732181e+00 -8.17064466e+02]\n"
     ]
    },
    {
     "name": "stderr",
     "output_type": "stream",
     "text": [
      "\r",
      "t:  58%|█████████████████████████████                     | 697/1199 [03:16<02:15,  3.71it/s, now=None]"
     ]
    },
    {
     "name": "stdout",
     "output_type": "stream",
     "text": [
      "Discarded X point\n",
      "missdetection\n",
      "[ 9.33355400e-04 -1.51114641e+00  5.90222329e+02]\n"
     ]
    },
    {
     "name": "stderr",
     "output_type": "stream",
     "text": [
      "\r",
      "t:  58%|█████████████████████████████                     | 698/1199 [03:16<02:17,  3.64it/s, now=None]"
     ]
    },
    {
     "name": "stdout",
     "output_type": "stream",
     "text": [
      "Discarded X point\n",
      "missdetection\n",
      "[-6.56234235e-04  7.83594950e-01 -2.32086912e+02]\n",
      "missdetection\n",
      "[ 1.20185611e-03 -1.88682956e+00  7.21047100e+02]\n"
     ]
    },
    {
     "name": "stderr",
     "output_type": "stream",
     "text": [
      "\r",
      "t:  58%|█████████████████████████████▏                    | 699/1199 [03:17<02:15,  3.69it/s, now=None]"
     ]
    },
    {
     "name": "stdout",
     "output_type": "stream",
     "text": [
      "Discarded X point\n",
      "missdetection\n",
      "[ 1.34043573e-03 -2.02557604e+00  7.50279141e+02]\n"
     ]
    },
    {
     "name": "stderr",
     "output_type": "stream",
     "text": [
      "\r",
      "t:  58%|█████████████████████████████▏                    | 700/1199 [03:17<02:14,  3.72it/s, now=None]"
     ]
    },
    {
     "name": "stdout",
     "output_type": "stream",
     "text": [
      "Discarded X point\n",
      "Discarded X point\n",
      "missdetection\n",
      "[-6.38409656e-04  7.46245996e-01 -2.11676212e+02]\n",
      "missdetection\n",
      "[ 8.38174815e-04 -1.24796553e+00  4.53796256e+02]\n"
     ]
    },
    {
     "name": "stderr",
     "output_type": "stream",
     "text": [
      "\r",
      "t:  58%|█████████████████████████████▏                    | 701/1199 [03:17<02:12,  3.76it/s, now=None]"
     ]
    },
    {
     "name": "stdout",
     "output_type": "stream",
     "text": [
      "Discarded X point\n",
      "missdetection\n",
      "[ 9.38503653e-04 -1.38206613e+00  4.98453765e+02]\n"
     ]
    },
    {
     "name": "stderr",
     "output_type": "stream",
     "text": [
      "\r",
      "t:  59%|█████████████████████████████▎                    | 702/1199 [03:17<02:10,  3.80it/s, now=None]"
     ]
    },
    {
     "name": "stdout",
     "output_type": "stream",
     "text": [
      "Discarded X point\n",
      "missdetection\n",
      "[ 8.95234278e-04 -1.31251597e+00  4.71172625e+02]\n"
     ]
    },
    {
     "name": "stderr",
     "output_type": "stream",
     "text": [
      "\r",
      "t:  59%|█████████████████████████████▎                    | 703/1199 [03:18<02:11,  3.77it/s, now=None]"
     ]
    },
    {
     "name": "stdout",
     "output_type": "stream",
     "text": [
      "Discarded X point\n",
      "Discarded X point\n",
      "missdetection\n",
      "[ 8.96172642e-04 -1.31019079e+00  4.69142643e+02]\n"
     ]
    },
    {
     "name": "stderr",
     "output_type": "stream",
     "text": [
      "\r",
      "t:  59%|█████████████████████████████▎                    | 704/1199 [03:18<02:12,  3.75it/s, now=None]"
     ]
    },
    {
     "name": "stdout",
     "output_type": "stream",
     "text": [
      "Discarded X point\n",
      "missdetection\n",
      "[ 1.03326997e-03 -1.31098313e+00  4.19157765e+02]\n",
      "missdetection\n",
      "[ 1.72146182e-03 -2.52116086e+00  9.10298268e+02]\n"
     ]
    },
    {
     "name": "stderr",
     "output_type": "stream",
     "text": [
      "\r",
      "t:  59%|█████████████████████████████▍                    | 705/1199 [03:18<02:12,  3.73it/s, now=None]"
     ]
    },
    {
     "name": "stdout",
     "output_type": "stream",
     "text": [
      "Discarded X point\n",
      "missdetection\n",
      "[ 1.13632285e-03 -1.65861570e+00  5.94914171e+02]\n"
     ]
    },
    {
     "name": "stderr",
     "output_type": "stream",
     "text": [
      "\r",
      "t:  59%|█████████████████████████████▍                    | 706/1199 [03:18<02:09,  3.81it/s, now=None]"
     ]
    },
    {
     "name": "stdout",
     "output_type": "stream",
     "text": [
      "Discarded X point\n",
      "Discarded X point\n",
      "NO pixels with search around poly\n",
      "missdetection\n",
      "[ 1.72133196e-03 -2.52098558e+00  9.10299205e+02]\n",
      "Reset by SanityCheck\n"
     ]
    },
    {
     "name": "stderr",
     "output_type": "stream",
     "text": [
      "\r",
      "t:  59%|█████████████████████████████▍                    | 707/1199 [03:19<02:12,  3.72it/s, now=None]"
     ]
    },
    {
     "name": "stdout",
     "output_type": "stream",
     "text": [
      "Discarded X point\n",
      "Discarded X point\n",
      "missdetection\n",
      "[ 8.08870395e-04 -1.11612456e+00  3.77357969e+02]\n"
     ]
    },
    {
     "name": "stderr",
     "output_type": "stream",
     "text": [
      "\r",
      "t:  59%|█████████████████████████████▌                    | 708/1199 [03:19<02:12,  3.71it/s, now=None]"
     ]
    },
    {
     "name": "stdout",
     "output_type": "stream",
     "text": [
      "Discarded X point\n",
      "Discarded X point\n",
      "missdetection\n",
      "[ 8.07506858e-04 -1.11428406e+00  3.77367809e+02]\n"
     ]
    },
    {
     "name": "stderr",
     "output_type": "stream",
     "text": [
      "\r",
      "t:  59%|█████████████████████████████▌                    | 709/1199 [03:19<02:13,  3.66it/s, now=None]"
     ]
    },
    {
     "name": "stdout",
     "output_type": "stream",
     "text": [
      "Discarded X point\n",
      "missdetection\n",
      "[ 8.27137115e-04 -1.15057293e+00  3.87155168e+02]\n"
     ]
    },
    {
     "name": "stderr",
     "output_type": "stream",
     "text": [
      "\r",
      "t:  59%|█████████████████████████████▌                    | 710/1199 [03:20<02:11,  3.71it/s, now=None]"
     ]
    },
    {
     "name": "stdout",
     "output_type": "stream",
     "text": [
      "Discarded X point\n",
      "Discarded X point\n",
      "missdetection\n",
      "[ 8.08091231e-04 -1.11507284e+00  3.77363592e+02]\n"
     ]
    },
    {
     "name": "stderr",
     "output_type": "stream",
     "text": [
      "\r",
      "t:  59%|█████████████████████████████▋                    | 711/1199 [03:20<02:16,  3.58it/s, now=None]"
     ]
    },
    {
     "name": "stdout",
     "output_type": "stream",
     "text": [
      "Discarded X point\n",
      "missdetection\n",
      "[ 8.19075940e-04 -1.12494961e+00  3.72431754e+02]\n"
     ]
    },
    {
     "name": "stderr",
     "output_type": "stream",
     "text": [
      "\r",
      "t:  59%|█████████████████████████████▋                    | 712/1199 [03:20<02:24,  3.38it/s, now=None]"
     ]
    },
    {
     "name": "stdout",
     "output_type": "stream",
     "text": [
      "Discarded X point\n",
      "Discarded X point\n",
      "missdetection\n",
      "[ 8.12225129e-04 -1.12065279e+00  3.77333758e+02]\n"
     ]
    },
    {
     "name": "stderr",
     "output_type": "stream",
     "text": [
      "\r",
      "t:  59%|█████████████████████████████▋                    | 713/1199 [03:21<02:32,  3.18it/s, now=None]"
     ]
    },
    {
     "name": "stdout",
     "output_type": "stream",
     "text": [
      "Discarded X point\n",
      "Discarded X point\n",
      "missdetection\n",
      "[ 8.11748974e-04 -1.12001007e+00  3.77337194e+02]\n"
     ]
    },
    {
     "name": "stderr",
     "output_type": "stream",
     "text": [
      "\r",
      "t:  60%|█████████████████████████████▊                    | 714/1199 [03:21<02:33,  3.15it/s, now=None]"
     ]
    },
    {
     "name": "stdout",
     "output_type": "stream",
     "text": [
      "Discarded X point\n",
      "Discarded X point\n",
      "missdetection\n",
      "[ 8.11900478e-04 -1.12021457e+00  3.77336101e+02]\n"
     ]
    },
    {
     "name": "stderr",
     "output_type": "stream",
     "text": [
      "\r",
      "t:  60%|█████████████████████████████▊                    | 715/1199 [03:21<02:27,  3.28it/s, now=None]"
     ]
    },
    {
     "name": "stdout",
     "output_type": "stream",
     "text": [
      "Discarded X point\n",
      "missdetection\n",
      "[ 8.34063368e-04 -1.15013007e+00  3.77176152e+02]\n"
     ]
    },
    {
     "name": "stderr",
     "output_type": "stream",
     "text": [
      "\r",
      "t:  60%|█████████████████████████████▊                    | 716/1199 [03:21<02:27,  3.28it/s, now=None]"
     ]
    },
    {
     "name": "stdout",
     "output_type": "stream",
     "text": [
      "Discarded X point\n",
      "missdetection\n",
      "[ 8.35426905e-04 -1.15197057e+00  3.77166312e+02]\n",
      "Reset by SanityCheck\n"
     ]
    },
    {
     "name": "stderr",
     "output_type": "stream",
     "text": [
      "\r",
      "t:  60%|█████████████████████████████▉                    | 717/1199 [03:22<02:21,  3.40it/s, now=None]"
     ]
    },
    {
     "name": "stdout",
     "output_type": "stream",
     "text": [
      "Discarded X point\n",
      "missdetection\n",
      "[-1.08179135e-02  1.22897439e+01 -3.58457046e+03]\n"
     ]
    },
    {
     "name": "stderr",
     "output_type": "stream",
     "text": [
      "\r",
      "t:  60%|█████████████████████████████▉                    | 718/1199 [03:22<02:16,  3.52it/s, now=None]"
     ]
    },
    {
     "name": "stdout",
     "output_type": "stream",
     "text": [
      "Discarded X point\n",
      "missdetection\n",
      "[ 7.45156437e-04 -9.46308308e-01  2.50348268e+02]\n"
     ]
    },
    {
     "name": "stderr",
     "output_type": "stream",
     "text": [
      "\r",
      "t:  60%|█████████████████████████████▉                    | 719/1199 [03:22<02:13,  3.61it/s, now=None]"
     ]
    },
    {
     "name": "stdout",
     "output_type": "stream",
     "text": [
      "Discarded X point\n",
      "missdetection\n",
      "[ 8.31118977e-04 -1.08966743e+00  3.07745555e+02]\n"
     ]
    },
    {
     "name": "stderr",
     "output_type": "stream",
     "text": [
      "\r",
      "t:  60%|██████████████████████████████                    | 720/1199 [03:22<02:10,  3.68it/s, now=None]"
     ]
    },
    {
     "name": "stdout",
     "output_type": "stream",
     "text": [
      "Discarded X point\n",
      "missdetection\n",
      "[ 8.32076861e-04 -1.09170222e+00  3.12269761e+02]\n"
     ]
    },
    {
     "name": "stderr",
     "output_type": "stream",
     "text": [
      "\r",
      "t:  60%|██████████████████████████████                    | 721/1199 [03:23<02:09,  3.70it/s, now=None]"
     ]
    },
    {
     "name": "stdout",
     "output_type": "stream",
     "text": [
      "Discarded X point\n",
      "Wrong separation between lines\n"
     ]
    },
    {
     "name": "stderr",
     "output_type": "stream",
     "text": [
      "\r",
      "t:  60%|██████████████████████████████                    | 722/1199 [03:23<02:04,  3.83it/s, now=None]"
     ]
    },
    {
     "name": "stdout",
     "output_type": "stream",
     "text": [
      "Discarded X point\n",
      "missdetection\n",
      "[-4.22437143e-04  6.37615869e-01 -2.81815228e+02]\n"
     ]
    },
    {
     "name": "stderr",
     "output_type": "stream",
     "text": [
      "\r",
      "t:  60%|██████████████████████████████▏                   | 723/1199 [03:23<02:04,  3.83it/s, now=None]"
     ]
    },
    {
     "name": "stdout",
     "output_type": "stream",
     "text": [
      "Discarded X point\n",
      "missdetection\n",
      "[-3.31851846e-04  5.24810255e-01 -2.46096969e+02]\n"
     ]
    },
    {
     "name": "stderr",
     "output_type": "stream",
     "text": [
      "\r",
      "t:  60%|██████████████████████████████▏                   | 724/1199 [03:24<02:08,  3.70it/s, now=None]"
     ]
    },
    {
     "name": "stdout",
     "output_type": "stream",
     "text": [
      "Discarded X point\n",
      "missdetection\n",
      "[-3.29678691e-04  5.50006738e-01 -2.67561936e+02]\n"
     ]
    },
    {
     "name": "stderr",
     "output_type": "stream",
     "text": [
      "\r",
      "t:  60%|██████████████████████████████▏                   | 725/1199 [03:24<02:11,  3.60it/s, now=None]"
     ]
    },
    {
     "name": "stdout",
     "output_type": "stream",
     "text": [
      "Discarded X point\n",
      "missdetection\n",
      "[-3.23521205e-04  5.22761547e-01 -2.50888919e+02]\n"
     ]
    },
    {
     "name": "stderr",
     "output_type": "stream",
     "text": [
      "\r",
      "t:  61%|██████████████████████████████▎                   | 726/1199 [03:24<02:12,  3.58it/s, now=None]"
     ]
    },
    {
     "name": "stdout",
     "output_type": "stream",
     "text": [
      "Discarded X point\n"
     ]
    },
    {
     "name": "stderr",
     "output_type": "stream",
     "text": [
      "\r",
      "t:  61%|██████████████████████████████▎                   | 727/1199 [03:24<02:11,  3.60it/s, now=None]"
     ]
    },
    {
     "name": "stdout",
     "output_type": "stream",
     "text": [
      "Discarded X point\n",
      "Wrong separation between lines\n"
     ]
    },
    {
     "name": "stderr",
     "output_type": "stream",
     "text": [
      "t:  61%|██████████████████████████████▍                   | 729/1199 [03:25<02:05,  3.74it/s, now=None]"
     ]
    },
    {
     "name": "stdout",
     "output_type": "stream",
     "text": [
      "Wrong separation between lines\n"
     ]
    },
    {
     "name": "stderr",
     "output_type": "stream",
     "text": [
      "t:  61%|██████████████████████████████▌                   | 732/1199 [03:26<01:56,  4.02it/s, now=None]"
     ]
    },
    {
     "name": "stdout",
     "output_type": "stream",
     "text": [
      "Wrong separation between lines\n"
     ]
    },
    {
     "name": "stderr",
     "output_type": "stream",
     "text": [
      "t:  61%|██████████████████████████████▌                   | 734/1199 [03:26<02:01,  3.82it/s, now=None]"
     ]
    },
    {
     "name": "stdout",
     "output_type": "stream",
     "text": [
      "Wrong separation between lines\n"
     ]
    },
    {
     "name": "stderr",
     "output_type": "stream",
     "text": [
      "t:  61%|██████████████████████████████▋                   | 736/1199 [03:27<01:54,  4.03it/s, now=None]"
     ]
    },
    {
     "name": "stdout",
     "output_type": "stream",
     "text": [
      "Wrong separation between lines\n"
     ]
    },
    {
     "name": "stderr",
     "output_type": "stream",
     "text": [
      "t:  62%|██████████████████████████████▊                   | 738/1199 [03:27<01:57,  3.93it/s, now=None]"
     ]
    },
    {
     "name": "stdout",
     "output_type": "stream",
     "text": [
      "Wrong separation between lines\n"
     ]
    },
    {
     "name": "stderr",
     "output_type": "stream",
     "text": [
      "\r",
      "t:  62%|██████████████████████████████▊                   | 739/1199 [03:27<01:53,  4.05it/s, now=None]"
     ]
    },
    {
     "name": "stdout",
     "output_type": "stream",
     "text": [
      "Wrong separation between lines\n"
     ]
    },
    {
     "name": "stderr",
     "output_type": "stream",
     "text": [
      "\r",
      "t:  62%|██████████████████████████████▊                   | 740/1199 [03:28<01:53,  4.05it/s, now=None]"
     ]
    },
    {
     "name": "stdout",
     "output_type": "stream",
     "text": [
      "Wrong separation between lines\n"
     ]
    },
    {
     "name": "stderr",
     "output_type": "stream",
     "text": [
      "t:  62%|██████████████████████████████▉                   | 743/1199 [03:28<01:54,  3.97it/s, now=None]"
     ]
    },
    {
     "name": "stdout",
     "output_type": "stream",
     "text": [
      "missdetection\n",
      "[ 2.64701802e-03 -1.97640492e+00  3.63506165e+02]\n"
     ]
    },
    {
     "name": "stderr",
     "output_type": "stream",
     "text": [
      "t:  62%|███████████████████████████████                   | 745/1199 [03:29<02:01,  3.74it/s, now=None]"
     ]
    },
    {
     "name": "stdout",
     "output_type": "stream",
     "text": [
      "missdetection\n",
      "[ 3.76639272e-03 -3.10126634e+00  6.33935556e+02]\n"
     ]
    },
    {
     "name": "stderr",
     "output_type": "stream",
     "text": [
      "t:  62%|███████████████████████████████▏                  | 747/1199 [03:30<02:01,  3.72it/s, now=None]"
     ]
    },
    {
     "name": "stdout",
     "output_type": "stream",
     "text": [
      "missdetection\n",
      "[ 3.08562343e-03 -2.91979454e+00  6.93941544e+02]\n",
      "missdetection\n",
      "[ 1.65543298e-03 -1.63048832e+00  4.41409530e+02]\n"
     ]
    },
    {
     "name": "stderr",
     "output_type": "stream",
     "text": [
      "\r",
      "t:  62%|███████████████████████████████▏                  | 748/1199 [03:30<01:59,  3.78it/s, now=None]"
     ]
    },
    {
     "name": "stdout",
     "output_type": "stream",
     "text": [
      "missdetection\n",
      "[ 1.31821817e-04 -3.87015360e-01  2.12025031e+02]\n"
     ]
    },
    {
     "name": "stderr",
     "output_type": "stream",
     "text": [
      "\r",
      "t:  62%|███████████████████████████████▏                  | 749/1199 [03:30<01:59,  3.78it/s, now=None]"
     ]
    },
    {
     "name": "stdout",
     "output_type": "stream",
     "text": [
      "missdetection\n",
      "[ 2.58657953e-03 -2.73981405e+00  7.32059088e+02]\n",
      "missdetection\n",
      "[ 2.93326974e-04 -5.97360293e-01  2.81913568e+02]\n"
     ]
    },
    {
     "name": "stderr",
     "output_type": "stream",
     "text": [
      "\r",
      "t:  63%|███████████████████████████████▎                  | 750/1199 [03:30<01:57,  3.81it/s, now=None]"
     ]
    },
    {
     "name": "stdout",
     "output_type": "stream",
     "text": [
      "missdetection\n",
      "[ 2.00386937e-04 -4.57730893e-01  2.06383633e+02]\n",
      "missdetection\n",
      "[ 4.31703530e-04 -7.90942929e-01  3.50339128e+02]\n"
     ]
    },
    {
     "name": "stderr",
     "output_type": "stream",
     "text": [
      "\r",
      "t:  63%|███████████████████████████████▎                  | 751/1199 [03:31<01:54,  3.92it/s, now=None]"
     ]
    },
    {
     "name": "stdout",
     "output_type": "stream",
     "text": [
      "missdetection\n",
      "[ 3.38230937e-04 -6.94267586e-01  3.04275624e+02]\n",
      "missdetection\n",
      "[ 7.36050626e-04 -1.18064031e+00  4.74797142e+02]\n"
     ]
    },
    {
     "name": "stderr",
     "output_type": "stream",
     "text": [
      "\r",
      "t:  63%|███████████████████████████████▎                  | 752/1199 [03:31<01:54,  3.89it/s, now=None]"
     ]
    },
    {
     "name": "stdout",
     "output_type": "stream",
     "text": [
      "missdetection\n",
      "[ 1.35964328e-04 -4.31269362e-01  2.19663727e+02]\n",
      "missdetection\n",
      "[ 8.32255453e-04 -1.34207319e+00  5.41144559e+02]\n"
     ]
    },
    {
     "name": "stderr",
     "output_type": "stream",
     "text": [
      "\r",
      "t:  63%|███████████████████████████████▍                  | 753/1199 [03:31<01:54,  3.89it/s, now=None]"
     ]
    },
    {
     "name": "stdout",
     "output_type": "stream",
     "text": [
      "missdetection\n",
      "[ 3.61940720e-04 -7.13109147e-01  3.06580286e+02]\n",
      "missdetection\n",
      "[ 1.13786971e-03 -1.74516648e+00  6.74387305e+02]\n"
     ]
    },
    {
     "name": "stderr",
     "output_type": "stream",
     "text": [
      "\r",
      "t:  63%|███████████████████████████████▍                  | 754/1199 [03:31<01:55,  3.84it/s, now=None]"
     ]
    },
    {
     "name": "stdout",
     "output_type": "stream",
     "text": [
      "missdetection\n",
      "[ 5.07248624e-04 -8.97794164e-01  3.67053833e+02]\n",
      "missdetection\n",
      "[ 1.37206029e-03 -2.07015142e+00  7.87712196e+02]\n"
     ]
    },
    {
     "name": "stderr",
     "output_type": "stream",
     "text": [
      "\r",
      "t:  63%|███████████████████████████████▍                  | 755/1199 [03:32<01:51,  3.97it/s, now=None]"
     ]
    },
    {
     "name": "stdout",
     "output_type": "stream",
     "text": [
      "missdetection\n",
      "[ 6.50763060e-04 -1.05568705e+00  4.07849588e+02]\n",
      "missdetection\n",
      "[ 1.53233588e-03 -2.31770492e+00  8.82779369e+02]\n"
     ]
    },
    {
     "name": "stderr",
     "output_type": "stream",
     "text": [
      "\r",
      "t:  63%|███████████████████████████████▌                  | 756/1199 [03:32<01:50,  3.99it/s, now=None]"
     ]
    },
    {
     "name": "stdout",
     "output_type": "stream",
     "text": [
      "missdetection\n",
      "[ 8.43085793e-04 -1.27611621e+00  4.69980009e+02]\n",
      "missdetection\n",
      "[ 1.60986470e-03 -2.43617688e+00  9.28497450e+02]\n"
     ]
    },
    {
     "name": "stderr",
     "output_type": "stream",
     "text": [
      "\r",
      "t:  63%|███████████████████████████████▌                  | 757/1199 [03:32<01:53,  3.90it/s, now=None]"
     ]
    },
    {
     "name": "stdout",
     "output_type": "stream",
     "text": [
      "missdetection\n",
      "[ 8.54224656e-04 -1.25977126e+00  4.53959898e+02]\n",
      "missdetection\n",
      "[ 1.57048961e-03 -2.38000776e+00  9.08989923e+02]\n",
      "Reset by SanityCheck\n"
     ]
    },
    {
     "name": "stderr",
     "output_type": "stream",
     "text": [
      "\r",
      "t:  63%|███████████████████████████████▌                  | 758/1199 [03:32<01:56,  3.79it/s, now=None]"
     ]
    },
    {
     "name": "stdout",
     "output_type": "stream",
     "text": [
      "missdetection\n",
      "[ 8.10355019e-04 -1.25716700e+00  5.12850717e+02]\n"
     ]
    },
    {
     "name": "stderr",
     "output_type": "stream",
     "text": [
      "\r",
      "t:  63%|███████████████████████████████▋                  | 759/1199 [03:33<01:58,  3.71it/s, now=None]"
     ]
    },
    {
     "name": "stdout",
     "output_type": "stream",
     "text": [
      "missdetection\n",
      "[ 1.53901444e-03 -2.23856973e+00  8.43171785e+02]\n"
     ]
    },
    {
     "name": "stderr",
     "output_type": "stream",
     "text": [
      "\r",
      "t:  63%|███████████████████████████████▋                  | 760/1199 [03:33<01:57,  3.72it/s, now=None]"
     ]
    },
    {
     "name": "stdout",
     "output_type": "stream",
     "text": [
      "missdetection\n",
      "[ 1.56321680e-03 -2.25706489e+00  8.41407586e+02]\n"
     ]
    },
    {
     "name": "stderr",
     "output_type": "stream",
     "text": [
      "\r",
      "t:  63%|███████████████████████████████▋                  | 761/1199 [03:33<01:55,  3.80it/s, now=None]"
     ]
    },
    {
     "name": "stdout",
     "output_type": "stream",
     "text": [
      "Discarded X point\n",
      "missdetection\n",
      "[ 1.58512596e-03 -2.28459835e+00  8.46844907e+02]\n"
     ]
    },
    {
     "name": "stderr",
     "output_type": "stream",
     "text": [
      "\r",
      "t:  64%|███████████████████████████████▊                  | 762/1199 [03:33<01:53,  3.85it/s, now=None]"
     ]
    },
    {
     "name": "stdout",
     "output_type": "stream",
     "text": [
      "Discarded X point\n",
      "missdetection\n",
      "[ 8.71452975e-04 -9.76278791e-01  2.83770450e+02]\n",
      "missdetection\n",
      "[ 1.58635931e-03 -2.28630507e+00  8.46973348e+02]\n"
     ]
    },
    {
     "name": "stderr",
     "output_type": "stream",
     "text": [
      "\r",
      "t:  64%|███████████████████████████████▊                  | 763/1199 [03:34<01:50,  3.94it/s, now=None]"
     ]
    },
    {
     "name": "stdout",
     "output_type": "stream",
     "text": [
      "missdetection\n",
      "[ 5.54845906e-04 -7.76508780e-01  2.59273335e+02]\n",
      "missdetection\n",
      "[ 1.57587740e-03 -2.27273868e+00  8.48212247e+02]\n"
     ]
    },
    {
     "name": "stderr",
     "output_type": "stream",
     "text": [
      "\r",
      "t:  64%|███████████████████████████████▊                  | 764/1199 [03:34<01:47,  4.04it/s, now=None]"
     ]
    },
    {
     "name": "stdout",
     "output_type": "stream",
     "text": [
      "missdetection\n",
      "[ 5.35391344e-04 -7.46728202e-01  2.52198739e+02]\n",
      "missdetection\n",
      "[ 8.02784103e-04 -1.26382441e+00  5.23590736e+02]\n"
     ]
    },
    {
     "name": "stderr",
     "output_type": "stream",
     "text": [
      "\r",
      "t:  64%|███████████████████████████████▉                  | 765/1199 [03:34<01:47,  4.05it/s, now=None]"
     ]
    },
    {
     "name": "stdout",
     "output_type": "stream",
     "text": [
      "missdetection\n",
      "[ 6.17444468e-04 -8.51379384e-01  2.85757360e+02]\n",
      "missdetection\n",
      "[ 1.58024682e-03 -2.28274403e+00  8.54193569e+02]\n"
     ]
    },
    {
     "name": "stderr",
     "output_type": "stream",
     "text": [
      "\r",
      "t:  64%|███████████████████████████████▉                  | 766/1199 [03:34<01:47,  4.03it/s, now=None]"
     ]
    },
    {
     "name": "stdout",
     "output_type": "stream",
     "text": [
      "missdetection\n",
      "[ 5.49842424e-04 -7.50916096e-01  2.49277013e+02]\n",
      "missdetection\n",
      "[ 1.57465789e-03 -2.27134442e+00  8.48699093e+02]\n"
     ]
    },
    {
     "name": "stderr",
     "output_type": "stream",
     "text": [
      "\r",
      "t:  64%|███████████████████████████████▉                  | 767/1199 [03:35<01:47,  4.02it/s, now=None]"
     ]
    },
    {
     "name": "stdout",
     "output_type": "stream",
     "text": [
      "missdetection\n",
      "[ 6.49223766e-04 -8.98473843e-01  3.03205157e+02]\n",
      "missdetection\n",
      "[ 1.56815057e-03 -2.26296011e+00  8.47721913e+02]\n"
     ]
    },
    {
     "name": "stderr",
     "output_type": "stream",
     "text": [
      "\r",
      "t:  64%|████████████████████████████████                  | 768/1199 [03:35<01:46,  4.04it/s, now=None]"
     ]
    },
    {
     "name": "stdout",
     "output_type": "stream",
     "text": [
      "missdetection\n",
      "[ 1.56981595e-03 -2.26467915e+00  8.47121598e+02]\n",
      "Reset by SanityCheck\n"
     ]
    },
    {
     "name": "stderr",
     "output_type": "stream",
     "text": [
      "\r",
      "t:  64%|████████████████████████████████                  | 769/1199 [03:35<01:48,  3.98it/s, now=None]"
     ]
    },
    {
     "name": "stdout",
     "output_type": "stream",
     "text": [
      "Wrong separation between lines\n"
     ]
    },
    {
     "name": "stderr",
     "output_type": "stream",
     "text": [
      "t:  64%|████████████████████████████████▏                 | 771/1199 [03:36<01:49,  3.92it/s, now=None]"
     ]
    },
    {
     "name": "stdout",
     "output_type": "stream",
     "text": [
      "Wrong separation between lines\n"
     ]
    },
    {
     "name": "stderr",
     "output_type": "stream",
     "text": [
      "t:  64%|████████████████████████████████▏                 | 773/1199 [03:36<01:45,  4.03it/s, now=None]"
     ]
    },
    {
     "name": "stdout",
     "output_type": "stream",
     "text": [
      "missdetection\n",
      "[-0.00268946  1.79628551 -0.42536419]\n"
     ]
    },
    {
     "name": "stderr",
     "output_type": "stream",
     "text": [
      "\r",
      "t:  65%|████████████████████████████████▎                 | 774/1199 [03:36<01:44,  4.07it/s, now=None]"
     ]
    },
    {
     "name": "stdout",
     "output_type": "stream",
     "text": [
      "missdetection\n",
      "[-2.43016988e-04 -6.77127980e-02  2.21048099e+02]\n"
     ]
    },
    {
     "name": "stderr",
     "output_type": "stream",
     "text": [
      "\r",
      "t:  65%|████████████████████████████████▎                 | 775/1199 [03:37<01:48,  3.89it/s, now=None]"
     ]
    },
    {
     "name": "stdout",
     "output_type": "stream",
     "text": [
      "missdetection\n",
      "[-2.54469688e-05 -2.61893677e-01  2.52589858e+02]\n"
     ]
    },
    {
     "name": "stderr",
     "output_type": "stream",
     "text": [
      "\r",
      "t:  65%|████████████████████████████████▎                 | 776/1199 [03:37<01:50,  3.82it/s, now=None]"
     ]
    },
    {
     "name": "stdout",
     "output_type": "stream",
     "text": [
      "missdetection\n",
      "[-1.87622823e-04 -9.85240154e-02  2.15774637e+02]\n"
     ]
    },
    {
     "name": "stderr",
     "output_type": "stream",
     "text": [
      "\r",
      "t:  65%|████████████████████████████████▍                 | 777/1199 [03:37<01:51,  3.80it/s, now=None]"
     ]
    },
    {
     "name": "stdout",
     "output_type": "stream",
     "text": [
      "missdetection\n",
      "[-2.37681515e-05 -2.67930912e-01  2.54845520e+02]\n"
     ]
    },
    {
     "name": "stderr",
     "output_type": "stream",
     "text": [
      "\r",
      "t:  65%|████████████████████████████████▍                 | 778/1199 [03:37<01:49,  3.84it/s, now=None]"
     ]
    },
    {
     "name": "stdout",
     "output_type": "stream",
     "text": [
      "missdetection\n",
      "[-9.12279567e-05 -1.75306986e-01  2.25416213e+02]\n"
     ]
    },
    {
     "name": "stderr",
     "output_type": "stream",
     "text": [
      "\r",
      "t:  65%|████████████████████████████████▍                 | 779/1199 [03:38<01:55,  3.64it/s, now=None]"
     ]
    },
    {
     "name": "stdout",
     "output_type": "stream",
     "text": [
      "missdetection\n",
      "[ 1.20404581e-04 -4.00872740e-01  2.80943886e+02]\n"
     ]
    },
    {
     "name": "stderr",
     "output_type": "stream",
     "text": [
      "\r",
      "t:  65%|████████████████████████████████▌                 | 780/1199 [03:38<01:55,  3.63it/s, now=None]"
     ]
    },
    {
     "name": "stdout",
     "output_type": "stream",
     "text": [
      "missdetection\n",
      "[ 7.69611492e-05 -3.35329634e-01  2.57353260e+02]\n"
     ]
    },
    {
     "name": "stderr",
     "output_type": "stream",
     "text": [
      "\r",
      "t:  65%|████████████████████████████████▌                 | 781/1199 [03:38<01:57,  3.56it/s, now=None]"
     ]
    },
    {
     "name": "stdout",
     "output_type": "stream",
     "text": [
      "missdetection\n",
      "[ 5.33246393e-05 -2.84311317e-01  2.33811581e+02]\n"
     ]
    },
    {
     "name": "stderr",
     "output_type": "stream",
     "text": [
      "\r",
      "t:  65%|████████████████████████████████▌                 | 782/1199 [03:39<01:51,  3.73it/s, now=None]"
     ]
    },
    {
     "name": "stdout",
     "output_type": "stream",
     "text": [
      "missdetection\n",
      "[-9.63430644e-05 -1.71708933e-01  2.27363176e+02]\n"
     ]
    },
    {
     "name": "stderr",
     "output_type": "stream",
     "text": [
      "\r",
      "t:  65%|████████████████████████████████▋                 | 783/1199 [03:39<01:48,  3.84it/s, now=None]"
     ]
    },
    {
     "name": "stdout",
     "output_type": "stream",
     "text": [
      "missdetection\n",
      "[ 1.66942305e-04 -4.10747279e-01  2.67088266e+02]\n",
      "Reset by SanityCheck\n"
     ]
    },
    {
     "name": "stderr",
     "output_type": "stream",
     "text": [
      "\r",
      "t:  65%|████████████████████████████████▋                 | 784/1199 [03:39<01:50,  3.77it/s, now=None]"
     ]
    },
    {
     "name": "stdout",
     "output_type": "stream",
     "text": [
      "Wrong separation between lines\n"
     ]
    },
    {
     "name": "stderr",
     "output_type": "stream",
     "text": [
      "t:  66%|████████████████████████████████▊                 | 786/1199 [03:40<01:43,  4.00it/s, now=None]"
     ]
    },
    {
     "name": "stdout",
     "output_type": "stream",
     "text": [
      "Wrong separation between lines\n"
     ]
    },
    {
     "name": "stderr",
     "output_type": "stream",
     "text": [
      "t:  66%|████████████████████████████████▊                 | 788/1199 [03:40<01:43,  3.96it/s, now=None]"
     ]
    },
    {
     "name": "stdout",
     "output_type": "stream",
     "text": [
      "Wrong separation between lines\n"
     ]
    },
    {
     "name": "stderr",
     "output_type": "stream",
     "text": [
      "t:  66%|████████████████████████████████▉                 | 790/1199 [03:41<01:41,  4.02it/s, now=None]"
     ]
    },
    {
     "name": "stdout",
     "output_type": "stream",
     "text": [
      "Wrong separation between lines\n"
     ]
    },
    {
     "name": "stderr",
     "output_type": "stream",
     "text": [
      "t:  66%|█████████████████████████████████                 | 792/1199 [03:41<01:43,  3.92it/s, now=None]"
     ]
    },
    {
     "name": "stdout",
     "output_type": "stream",
     "text": [
      "Wrong separation between lines\n"
     ]
    },
    {
     "name": "stderr",
     "output_type": "stream",
     "text": [
      "t:  66%|█████████████████████████████████                 | 794/1199 [03:42<01:42,  3.94it/s, now=None]"
     ]
    },
    {
     "name": "stdout",
     "output_type": "stream",
     "text": [
      "Wrong separation between lines\n"
     ]
    },
    {
     "name": "stderr",
     "output_type": "stream",
     "text": [
      "t:  66%|█████████████████████████████████▏                | 796/1199 [03:42<01:45,  3.83it/s, now=None]"
     ]
    },
    {
     "name": "stdout",
     "output_type": "stream",
     "text": [
      "Wrong separation between lines\n"
     ]
    },
    {
     "name": "stderr",
     "output_type": "stream",
     "text": [
      "t:  67%|█████████████████████████████████▎                | 798/1199 [03:43<01:44,  3.82it/s, now=None]"
     ]
    },
    {
     "name": "stdout",
     "output_type": "stream",
     "text": [
      "Wrong separation between lines\n"
     ]
    },
    {
     "name": "stderr",
     "output_type": "stream",
     "text": [
      "\r",
      "t:  67%|█████████████████████████████████▎                | 799/1199 [03:43<01:45,  3.81it/s, now=None]"
     ]
    },
    {
     "name": "stdout",
     "output_type": "stream",
     "text": [
      "Wrong separation between lines\n"
     ]
    },
    {
     "name": "stderr",
     "output_type": "stream",
     "text": [
      "t:  67%|█████████████████████████████████▍                | 801/1199 [03:43<01:43,  3.83it/s, now=None]"
     ]
    },
    {
     "name": "stdout",
     "output_type": "stream",
     "text": [
      "missdetection\n",
      "[-1.12758826e-03  1.05910555e+00 -2.26107979e+02]\n"
     ]
    },
    {
     "name": "stderr",
     "output_type": "stream",
     "text": [
      "t:  67%|█████████████████████████████████▍                | 803/1199 [03:44<01:46,  3.71it/s, now=None]"
     ]
    },
    {
     "name": "stdout",
     "output_type": "stream",
     "text": [
      "Discarded X point\n",
      "missdetection\n",
      "[-1.08920009e-03  1.05227420e+00 -2.37002056e+02]\n"
     ]
    },
    {
     "name": "stderr",
     "output_type": "stream",
     "text": [
      "\r",
      "t:  67%|█████████████████████████████████▌                | 804/1199 [03:44<01:49,  3.62it/s, now=None]"
     ]
    },
    {
     "name": "stdout",
     "output_type": "stream",
     "text": [
      "Discarded X point\n",
      "Wrong separation between lines\n"
     ]
    },
    {
     "name": "stderr",
     "output_type": "stream",
     "text": [
      "\r",
      "t:  67%|█████████████████████████████████▌                | 805/1199 [03:44<01:43,  3.81it/s, now=None]"
     ]
    },
    {
     "name": "stdout",
     "output_type": "stream",
     "text": [
      "Discarded X point\n",
      "Wrong separation between lines\n"
     ]
    },
    {
     "name": "stderr",
     "output_type": "stream",
     "text": [
      "\r",
      "t:  67%|█████████████████████████████████▌                | 806/1199 [03:45<01:40,  3.90it/s, now=None]"
     ]
    },
    {
     "name": "stdout",
     "output_type": "stream",
     "text": [
      "Discarded X point\n",
      "Wrong separation between lines\n"
     ]
    },
    {
     "name": "stderr",
     "output_type": "stream",
     "text": [
      "\r",
      "t:  67%|█████████████████████████████████▋                | 807/1199 [03:45<01:41,  3.85it/s, now=None]"
     ]
    },
    {
     "name": "stdout",
     "output_type": "stream",
     "text": [
      "Discarded X point\n",
      "Wrong separation between lines\n"
     ]
    },
    {
     "name": "stderr",
     "output_type": "stream",
     "text": [
      "\r",
      "t:  67%|█████████████████████████████████▋                | 808/1199 [03:45<01:41,  3.84it/s, now=None]"
     ]
    },
    {
     "name": "stdout",
     "output_type": "stream",
     "text": [
      "Discarded X point\n",
      "Wrong separation between lines\n"
     ]
    },
    {
     "name": "stderr",
     "output_type": "stream",
     "text": [
      "\r",
      "t:  67%|█████████████████████████████████▋                | 809/1199 [03:45<01:41,  3.86it/s, now=None]"
     ]
    },
    {
     "name": "stdout",
     "output_type": "stream",
     "text": [
      "Wrong separation between lines\n"
     ]
    },
    {
     "name": "stderr",
     "output_type": "stream",
     "text": [
      "\r",
      "t:  68%|█████████████████████████████████▊                | 810/1199 [03:46<01:39,  3.91it/s, now=None]"
     ]
    },
    {
     "name": "stdout",
     "output_type": "stream",
     "text": [
      "Wrong separation between lines\n"
     ]
    },
    {
     "name": "stderr",
     "output_type": "stream",
     "text": [
      "\r",
      "t:  68%|█████████████████████████████████▊                | 811/1199 [03:46<01:38,  3.95it/s, now=None]"
     ]
    },
    {
     "name": "stdout",
     "output_type": "stream",
     "text": [
      "Wrong separation between lines\n"
     ]
    },
    {
     "name": "stderr",
     "output_type": "stream",
     "text": [
      "\r",
      "t:  68%|█████████████████████████████████▊                | 812/1199 [03:46<01:37,  3.98it/s, now=None]"
     ]
    },
    {
     "name": "stdout",
     "output_type": "stream",
     "text": [
      "Wrong separation between lines\n"
     ]
    },
    {
     "name": "stderr",
     "output_type": "stream",
     "text": [
      "\r",
      "t:  68%|█████████████████████████████████▉                | 813/1199 [03:46<01:37,  3.95it/s, now=None]"
     ]
    },
    {
     "name": "stdout",
     "output_type": "stream",
     "text": [
      "missdetection\n",
      "[ 7.52710289e-04 -9.01653794e-01  2.62533723e+02]\n"
     ]
    },
    {
     "name": "stderr",
     "output_type": "stream",
     "text": [
      "\r",
      "t:  68%|█████████████████████████████████▉                | 814/1199 [03:47<01:37,  3.94it/s, now=None]"
     ]
    },
    {
     "name": "stdout",
     "output_type": "stream",
     "text": [
      "missdetection\n",
      "[ 8.46635939e-04 -1.05416277e+00  3.23048492e+02]\n"
     ]
    },
    {
     "name": "stderr",
     "output_type": "stream",
     "text": [
      "\r",
      "t:  68%|█████████████████████████████████▉                | 815/1199 [03:47<01:42,  3.76it/s, now=None]"
     ]
    },
    {
     "name": "stdout",
     "output_type": "stream",
     "text": [
      "missdetection\n",
      "[ 8.46152085e-04 -1.05713716e+00  3.25023040e+02]\n"
     ]
    },
    {
     "name": "stderr",
     "output_type": "stream",
     "text": [
      "\r",
      "t:  68%|██████████████████████████████████                | 816/1199 [03:47<01:44,  3.67it/s, now=None]"
     ]
    },
    {
     "name": "stdout",
     "output_type": "stream",
     "text": [
      "missdetection\n",
      "[ 8.79319478e-04 -1.12429583e+00  3.55498815e+02]\n"
     ]
    },
    {
     "name": "stderr",
     "output_type": "stream",
     "text": [
      "\r",
      "t:  68%|██████████████████████████████████                | 817/1199 [03:48<01:45,  3.61it/s, now=None]"
     ]
    },
    {
     "name": "stdout",
     "output_type": "stream",
     "text": [
      "Discarded X point\n",
      "Wrong separation between lines\n"
     ]
    },
    {
     "name": "stderr",
     "output_type": "stream",
     "text": [
      "\r",
      "t:  68%|██████████████████████████████████                | 818/1199 [03:48<01:42,  3.72it/s, now=None]"
     ]
    },
    {
     "name": "stdout",
     "output_type": "stream",
     "text": [
      "Discarded X point\n"
     ]
    },
    {
     "name": "stderr",
     "output_type": "stream",
     "text": [
      "\r",
      "t:  68%|██████████████████████████████████▏               | 819/1199 [03:48<01:44,  3.63it/s, now=None]"
     ]
    },
    {
     "name": "stdout",
     "output_type": "stream",
     "text": [
      "Discarded X point\n",
      "missdetection\n",
      "[-2.70608527e-03  2.63049542e+00 -6.54937096e+02]\n",
      "missdetection\n",
      "[-9.14295567e-04  8.91749772e-01 -2.15748595e+02]\n"
     ]
    },
    {
     "name": "stderr",
     "output_type": "stream",
     "text": [
      "\r",
      "t:  68%|██████████████████████████████████▏               | 820/1199 [03:48<01:41,  3.73it/s, now=None]"
     ]
    },
    {
     "name": "stdout",
     "output_type": "stream",
     "text": [
      "Discarded X point\n",
      "Discarded X point\n",
      "Wrong separation between lines\n"
     ]
    },
    {
     "name": "stderr",
     "output_type": "stream",
     "text": [
      "\r",
      "t:  68%|██████████████████████████████████▏               | 821/1199 [03:49<01:41,  3.71it/s, now=None]"
     ]
    },
    {
     "name": "stdout",
     "output_type": "stream",
     "text": [
      "missdetection\n",
      "[-6.72989232e-04  7.73040594e-01 -2.04008592e+02]\n",
      "Discarded X point\n"
     ]
    },
    {
     "name": "stderr",
     "output_type": "stream",
     "text": [
      "t:  69%|██████████████████████████████████▎               | 823/1199 [03:49<01:41,  3.71it/s, now=None]"
     ]
    },
    {
     "name": "stdout",
     "output_type": "stream",
     "text": [
      "Discarded X point\n",
      "Discarded X point\n",
      "missdetection\n",
      "[-1.11699355e-03  1.27860153e+00 -3.75302097e+02]\n",
      "missdetection\n",
      "[-8.65379974e-04  1.13505649e+00 -3.41292875e+02]\n"
     ]
    },
    {
     "name": "stderr",
     "output_type": "stream",
     "text": [
      "\r",
      "t:  69%|██████████████████████████████████▎               | 824/1199 [03:49<01:36,  3.90it/s, now=None]"
     ]
    },
    {
     "name": "stdout",
     "output_type": "stream",
     "text": [
      "Discarded X point\n",
      "missdetection\n",
      "[-6.05903251e-04  8.56547288e-01 -2.89135363e+02]\n"
     ]
    },
    {
     "name": "stderr",
     "output_type": "stream",
     "text": [
      "\r",
      "t:  69%|██████████████████████████████████▍               | 825/1199 [03:50<01:34,  3.95it/s, now=None]"
     ]
    },
    {
     "name": "stdout",
     "output_type": "stream",
     "text": [
      "missdetection\n",
      "[-4.21517748e-04  8.25434259e-01 -3.53040562e+02]\n",
      "missdetection\n",
      "[-4.74999077e-04  7.19907036e-01 -2.66557146e+02]\n"
     ]
    },
    {
     "name": "stderr",
     "output_type": "stream",
     "text": [
      "\r",
      "t:  69%|██████████████████████████████████▍               | 826/1199 [03:50<01:34,  3.94it/s, now=None]"
     ]
    },
    {
     "name": "stdout",
     "output_type": "stream",
     "text": [
      "Discarded X point\n",
      "Discarded X point\n",
      "missdetection\n",
      "[ 5.52457688e-04 -7.25855895e-01  2.49413336e+02]\n"
     ]
    },
    {
     "name": "stderr",
     "output_type": "stream",
     "text": [
      "\r",
      "t:  69%|██████████████████████████████████▍               | 827/1199 [03:50<01:37,  3.82it/s, now=None]"
     ]
    },
    {
     "name": "stdout",
     "output_type": "stream",
     "text": [
      "missdetection\n",
      "[-1.99678496e-04  4.41226097e-01 -2.03627108e+02]\n"
     ]
    },
    {
     "name": "stderr",
     "output_type": "stream",
     "text": [
      "\r",
      "t:  69%|██████████████████████████████████▌               | 828/1199 [03:50<01:34,  3.91it/s, now=None]"
     ]
    },
    {
     "name": "stdout",
     "output_type": "stream",
     "text": [
      "missdetection\n",
      "[ 1.19252020e-02 -1.47383629e+01  4.54800281e+03]\n"
     ]
    },
    {
     "name": "stderr",
     "output_type": "stream",
     "text": [
      "\r",
      "t:  69%|██████████████████████████████████▌               | 829/1199 [03:51<01:35,  3.86it/s, now=None]"
     ]
    },
    {
     "name": "stdout",
     "output_type": "stream",
     "text": [
      "Discarded X point\n",
      "missdetection\n",
      "[ 8.04448296e-04 -1.10352042e+00  3.70292287e+02]\n"
     ]
    },
    {
     "name": "stderr",
     "output_type": "stream",
     "text": [
      "\r",
      "t:  69%|██████████████████████████████████▌               | 830/1199 [03:51<01:36,  3.81it/s, now=None]"
     ]
    },
    {
     "name": "stdout",
     "output_type": "stream",
     "text": [
      "Discarded X point\n",
      "missdetection\n",
      "[ 8.03907210e-04 -1.10279006e+00  3.70296192e+02]\n"
     ]
    },
    {
     "name": "stderr",
     "output_type": "stream",
     "text": [
      "\r",
      "t:  69%|██████████████████████████████████▋               | 831/1199 [03:51<01:36,  3.79it/s, now=None]"
     ]
    },
    {
     "name": "stdout",
     "output_type": "stream",
     "text": [
      "Discarded X point\n",
      "Discarded X point\n",
      "missdetection\n",
      "[ 8.03842280e-04 -1.10270242e+00  3.70296661e+02]\n"
     ]
    },
    {
     "name": "stderr",
     "output_type": "stream",
     "text": [
      "\r",
      "t:  69%|██████████████████████████████████▋               | 832/1199 [03:52<01:38,  3.74it/s, now=None]"
     ]
    },
    {
     "name": "stdout",
     "output_type": "stream",
     "text": [
      "Discarded X point\n",
      "Discarded X point\n",
      "missdetection\n",
      "[ 8.04102001e-04 -1.10305299e+00  3.70294786e+02]\n"
     ]
    },
    {
     "name": "stderr",
     "output_type": "stream",
     "text": [
      "\r",
      "t:  69%|██████████████████████████████████▋               | 833/1199 [03:52<01:37,  3.75it/s, now=None]"
     ]
    },
    {
     "name": "stdout",
     "output_type": "stream",
     "text": [
      "Discarded X point\n",
      "missdetection\n",
      "[ 8.04383366e-04 -1.10343277e+00  3.70292756e+02]\n"
     ]
    },
    {
     "name": "stderr",
     "output_type": "stream",
     "text": [
      "\r",
      "t:  70%|██████████████████████████████████▊               | 834/1199 [03:52<01:39,  3.69it/s, now=None]"
     ]
    },
    {
     "name": "stdout",
     "output_type": "stream",
     "text": [
      "Discarded X point\n",
      "missdetection\n",
      "[ 8.03972141e-04 -1.10287770e+00  3.70295723e+02]\n"
     ]
    },
    {
     "name": "stderr",
     "output_type": "stream",
     "text": [
      "\r",
      "t:  70%|██████████████████████████████████▊               | 835/1199 [03:52<01:39,  3.64it/s, now=None]"
     ]
    },
    {
     "name": "stdout",
     "output_type": "stream",
     "text": [
      "Discarded X point\n",
      "missdetection\n",
      "[ 8.03387768e-04 -1.10208891e+00  3.70299941e+02]\n"
     ]
    },
    {
     "name": "stderr",
     "output_type": "stream",
     "text": [
      "\r",
      "t:  70%|██████████████████████████████████▊               | 836/1199 [03:53<01:42,  3.54it/s, now=None]"
     ]
    },
    {
     "name": "stdout",
     "output_type": "stream",
     "text": [
      "Discarded X point\n",
      "missdetection\n",
      "[ 8.03128046e-04 -1.10173834e+00  3.70301815e+02]\n"
     ]
    },
    {
     "name": "stderr",
     "output_type": "stream",
     "text": [
      "\r",
      "t:  70%|██████████████████████████████████▉               | 837/1199 [03:53<01:42,  3.54it/s, now=None]"
     ]
    },
    {
     "name": "stdout",
     "output_type": "stream",
     "text": [
      "Discarded X point\n",
      "missdetection\n",
      "[ 8.04837879e-04 -1.10404628e+00  3.70289476e+02]\n"
     ]
    },
    {
     "name": "stderr",
     "output_type": "stream",
     "text": [
      "\r",
      "t:  70%|██████████████████████████████████▉               | 838/1199 [03:53<01:44,  3.47it/s, now=None]"
     ]
    },
    {
     "name": "stdout",
     "output_type": "stream",
     "text": [
      "Discarded X point\n",
      "missdetection\n",
      "[ 8.04102001e-04 -1.10305299e+00  3.70294786e+02]\n",
      "Reset by SanityCheck\n"
     ]
    },
    {
     "name": "stderr",
     "output_type": "stream",
     "text": [
      "\r",
      "t:  70%|██████████████████████████████████▉               | 839/1199 [03:54<01:39,  3.62it/s, now=None]"
     ]
    },
    {
     "name": "stdout",
     "output_type": "stream",
     "text": [
      "Discarded X point\n",
      "missdetection\n",
      "[-1.04222147e-01  1.07753026e+02 -2.79296038e+04]\n"
     ]
    },
    {
     "name": "stderr",
     "output_type": "stream",
     "text": [
      "\r",
      "t:  70%|███████████████████████████████████               | 840/1199 [03:54<01:41,  3.55it/s, now=None]"
     ]
    },
    {
     "name": "stdout",
     "output_type": "stream",
     "text": [
      "Discarded X point\n",
      "missdetection\n",
      "[ 8.03972141e-04 -1.10287770e+00  3.70295723e+02]\n"
     ]
    },
    {
     "name": "stderr",
     "output_type": "stream",
     "text": [
      "\r",
      "t:  70%|███████████████████████████████████               | 841/1199 [03:54<01:40,  3.55it/s, now=None]"
     ]
    },
    {
     "name": "stdout",
     "output_type": "stream",
     "text": [
      "Discarded X point\n",
      "missdetection\n",
      "[ 7.31716203e-04 -9.67907355e-01  3.11907314e+02]\n"
     ]
    },
    {
     "name": "stderr",
     "output_type": "stream",
     "text": [
      "\r",
      "t:  70%|███████████████████████████████████               | 842/1199 [03:54<01:40,  3.55it/s, now=None]"
     ]
    },
    {
     "name": "stdout",
     "output_type": "stream",
     "text": [
      "Wrong separation between lines\n",
      "Discarded X point\n"
     ]
    },
    {
     "name": "stderr",
     "output_type": "stream",
     "text": [
      "t:  70%|███████████████████████████████████▏              | 844/1199 [03:55<01:35,  3.72it/s, now=None]"
     ]
    },
    {
     "name": "stdout",
     "output_type": "stream",
     "text": [
      "Discarded X point\n",
      "Wrong separation between lines\n"
     ]
    },
    {
     "name": "stderr",
     "output_type": "stream",
     "text": [
      "\r",
      "t:  70%|███████████████████████████████████▏              | 845/1199 [03:55<01:34,  3.76it/s, now=None]"
     ]
    },
    {
     "name": "stdout",
     "output_type": "stream",
     "text": [
      "Discarded X point\n",
      "missdetection\n",
      "[-6.36626816e-04  7.58448463e-01 -2.28080785e+02]\n"
     ]
    },
    {
     "name": "stderr",
     "output_type": "stream",
     "text": [
      "\r",
      "t:  71%|███████████████████████████████████▎              | 846/1199 [03:55<01:33,  3.78it/s, now=None]"
     ]
    },
    {
     "name": "stdout",
     "output_type": "stream",
     "text": [
      "Discarded X point\n",
      "Wrong separation between lines\n"
     ]
    },
    {
     "name": "stderr",
     "output_type": "stream",
     "text": [
      "\r",
      "t:  71%|███████████████████████████████████▎              | 847/1199 [03:56<01:29,  3.93it/s, now=None]"
     ]
    },
    {
     "name": "stdout",
     "output_type": "stream",
     "text": [
      "missdetection\n",
      "[-6.90269930e-04  8.04779630e-01 -2.43681475e+02]\n"
     ]
    },
    {
     "name": "stderr",
     "output_type": "stream",
     "text": [
      "\r",
      "t:  71%|███████████████████████████████████▎              | 848/1199 [03:56<01:28,  3.98it/s, now=None]"
     ]
    },
    {
     "name": "stdout",
     "output_type": "stream",
     "text": [
      "Discarded X point\n",
      "missdetection\n",
      "[ 1.31330460e-03 -1.19440277e+00  1.60237504e+02]\n",
      "missdetection\n",
      "[-7.34266404e-04  8.65328262e-01 -2.57257561e+02]\n"
     ]
    },
    {
     "name": "stderr",
     "output_type": "stream",
     "text": [
      "\r",
      "t:  71%|███████████████████████████████████▍              | 849/1199 [03:56<01:26,  4.07it/s, now=None]"
     ]
    },
    {
     "name": "stdout",
     "output_type": "stream",
     "text": [
      "Discarded X point\n",
      "missdetection\n",
      "[-6.51249644e-04  7.57359559e-01 -2.22115650e+02]\n"
     ]
    },
    {
     "name": "stderr",
     "output_type": "stream",
     "text": [
      "\r",
      "t:  71%|███████████████████████████████████▍              | 850/1199 [03:56<01:26,  4.02it/s, now=None]"
     ]
    },
    {
     "name": "stdout",
     "output_type": "stream",
     "text": [
      "Discarded X point\n",
      "Wrong separation between lines\n"
     ]
    },
    {
     "name": "stderr",
     "output_type": "stream",
     "text": [
      "\r",
      "t:  71%|███████████████████████████████████▍              | 851/1199 [03:57<01:23,  4.19it/s, now=None]"
     ]
    },
    {
     "name": "stdout",
     "output_type": "stream",
     "text": [
      "Discarded X point\n",
      "Wrong separation between lines\n"
     ]
    },
    {
     "name": "stderr",
     "output_type": "stream",
     "text": [
      "\r",
      "t:  71%|███████████████████████████████████▌              | 852/1199 [03:57<01:26,  4.03it/s, now=None]"
     ]
    },
    {
     "name": "stdout",
     "output_type": "stream",
     "text": [
      "Discarded X point\n",
      "Wrong separation between lines\n"
     ]
    },
    {
     "name": "stderr",
     "output_type": "stream",
     "text": [
      "t:  71%|███████████████████████████████████▋              | 856/1199 [03:58<01:26,  3.98it/s, now=None]"
     ]
    },
    {
     "name": "stdout",
     "output_type": "stream",
     "text": [
      "missdetection\n",
      "[ 8.77118237e-04 -1.38829518e+00  5.01643040e+02]\n"
     ]
    },
    {
     "name": "stderr",
     "output_type": "stream",
     "text": [
      "\r",
      "t:  71%|███████████████████████████████████▋              | 857/1199 [03:58<01:32,  3.70it/s, now=None]"
     ]
    },
    {
     "name": "stdout",
     "output_type": "stream",
     "text": [
      "missdetection\n",
      "[ 1.01103403e-03 -1.64791455e+00  6.43350868e+02]\n"
     ]
    },
    {
     "name": "stderr",
     "output_type": "stream",
     "text": [
      "\r",
      "t:  72%|███████████████████████████████████▊              | 858/1199 [03:58<01:37,  3.48it/s, now=None]"
     ]
    },
    {
     "name": "stdout",
     "output_type": "stream",
     "text": [
      "missdetection\n",
      "[ 1.09864562e-03 -1.84658665e+00  7.37557712e+02]\n"
     ]
    },
    {
     "name": "stderr",
     "output_type": "stream",
     "text": [
      "\r",
      "t:  72%|███████████████████████████████████▊              | 859/1199 [03:59<01:43,  3.30it/s, now=None]"
     ]
    },
    {
     "name": "stdout",
     "output_type": "stream",
     "text": [
      "missdetection\n",
      "[ 1.10925113e-03 -1.92617606e+00  7.86105567e+02]\n"
     ]
    },
    {
     "name": "stderr",
     "output_type": "stream",
     "text": [
      "\r",
      "t:  72%|███████████████████████████████████▊              | 860/1199 [03:59<01:46,  3.19it/s, now=None]"
     ]
    },
    {
     "name": "stdout",
     "output_type": "stream",
     "text": [
      "missdetection\n",
      "[ 1.06731682e-03 -1.91413105e+00  7.97329654e+02]\n"
     ]
    },
    {
     "name": "stderr",
     "output_type": "stream",
     "text": [
      "\r",
      "t:  72%|███████████████████████████████████▉              | 861/1199 [03:59<01:44,  3.24it/s, now=None]"
     ]
    },
    {
     "name": "stdout",
     "output_type": "stream",
     "text": [
      "missdetection\n",
      "[ 1.03186104e-03 -1.88136682e+00  7.91675802e+02]\n"
     ]
    },
    {
     "name": "stderr",
     "output_type": "stream",
     "text": [
      "\r",
      "t:  72%|███████████████████████████████████▉              | 862/1199 [04:00<01:41,  3.33it/s, now=None]"
     ]
    },
    {
     "name": "stdout",
     "output_type": "stream",
     "text": [
      "Discarded X point\n",
      "missdetection\n",
      "[ 1.01268273e-03 -1.85547288e+00  7.85383557e+02]\n"
     ]
    },
    {
     "name": "stderr",
     "output_type": "stream",
     "text": [
      "\r",
      "t:  72%|███████████████████████████████████▉              | 863/1199 [04:00<01:39,  3.39it/s, now=None]"
     ]
    },
    {
     "name": "stdout",
     "output_type": "stream",
     "text": [
      "Discarded X point\n",
      "missdetection\n",
      "[ 1.01287752e-03 -1.85573581e+00  7.85382151e+02]\n"
     ]
    },
    {
     "name": "stderr",
     "output_type": "stream",
     "text": [
      "\r",
      "t:  72%|████████████████████████████████████              | 864/1199 [04:00<01:36,  3.48it/s, now=None]"
     ]
    },
    {
     "name": "stdout",
     "output_type": "stream",
     "text": [
      "Discarded X point\n",
      "missdetection\n",
      "[ 1.01335368e-03 -1.85637852e+00  7.85378714e+02]\n"
     ]
    },
    {
     "name": "stderr",
     "output_type": "stream",
     "text": [
      "\r",
      "t:  72%|████████████████████████████████████              | 865/1199 [04:01<01:34,  3.52it/s, now=None]"
     ]
    },
    {
     "name": "stdout",
     "output_type": "stream",
     "text": [
      "Discarded X point\n",
      "missdetection\n",
      "[-7.62500234e-04  8.96152740e-01 -2.55204705e+02]\n",
      "missdetection\n",
      "[ 1.01374326e-03 -1.85690438e+00  7.85375903e+02]\n"
     ]
    },
    {
     "name": "stderr",
     "output_type": "stream",
     "text": [
      "\r",
      "t:  72%|████████████████████████████████████              | 866/1199 [04:01<01:31,  3.63it/s, now=None]"
     ]
    },
    {
     "name": "stdout",
     "output_type": "stream",
     "text": [
      "Discarded X point\n",
      "missdetection\n",
      "[ 4.63523498e-04 -8.59530601e-01  3.67334332e+02]\n",
      "missdetection\n",
      "[ 1.01393805e-03 -1.85716731e+00  7.85374497e+02]\n",
      "Reset by SanityCheck\n"
     ]
    },
    {
     "name": "stderr",
     "output_type": "stream",
     "text": [
      "\r",
      "t:  72%|████████████████████████████████████▏             | 867/1199 [04:01<01:32,  3.57it/s, now=None]"
     ]
    },
    {
     "name": "stdout",
     "output_type": "stream",
     "text": [
      "Discarded X point\n",
      "missdetection\n",
      "[-1.07215075e-03  1.21117938e+00 -3.28771523e+02]\n"
     ]
    },
    {
     "name": "stderr",
     "output_type": "stream",
     "text": [
      "\r",
      "t:  72%|████████████████████████████████████▏             | 868/1199 [04:01<01:34,  3.51it/s, now=None]"
     ]
    },
    {
     "name": "stdout",
     "output_type": "stream",
     "text": [
      "Discarded X point\n",
      "missdetection\n",
      "[-1.08051806e-03  1.20004744e+00 -3.20659603e+02]\n"
     ]
    },
    {
     "name": "stderr",
     "output_type": "stream",
     "text": [
      "\r",
      "t:  72%|████████████████████████████████████▏             | 869/1199 [04:02<01:34,  3.51it/s, now=None]"
     ]
    },
    {
     "name": "stdout",
     "output_type": "stream",
     "text": [
      "Discarded X point\n",
      "missdetection\n",
      "[-5.48238182e-04  7.02566875e-01 -2.31575563e+02]\n",
      "missdetection\n",
      "[-1.78656897e-03  2.07192170e+00 -6.01245607e+02]\n"
     ]
    },
    {
     "name": "stderr",
     "output_type": "stream",
     "text": [
      "\r",
      "t:  73%|████████████████████████████████████▎             | 870/1199 [04:02<01:33,  3.53it/s, now=None]"
     ]
    },
    {
     "name": "stdout",
     "output_type": "stream",
     "text": [
      "Discarded X point\n",
      "missdetection\n",
      "[-6.46149897e-04  8.16941182e-01 -2.64496768e+02]\n",
      "missdetection\n",
      "[ 1.39208505e-03 -2.22037543e+00  8.45642609e+02]\n"
     ]
    },
    {
     "name": "stderr",
     "output_type": "stream",
     "text": [
      "\r",
      "t:  73%|████████████████████████████████████▎             | 871/1199 [04:02<01:30,  3.61it/s, now=None]"
     ]
    },
    {
     "name": "stdout",
     "output_type": "stream",
     "text": [
      "Discarded X point\n",
      "missdetection\n",
      "[-6.60292920e-04  8.34677564e-01 -2.69423326e+02]\n",
      "missdetection\n",
      "[ 1.39208505e-03 -2.22037543e+00  8.45642609e+02]\n"
     ]
    },
    {
     "name": "stderr",
     "output_type": "stream",
     "text": [
      "\r",
      "t:  73%|████████████████████████████████████▎             | 872/1199 [04:03<01:31,  3.59it/s, now=None]"
     ]
    },
    {
     "name": "stdout",
     "output_type": "stream",
     "text": [
      "Discarded X point\n",
      "missdetection\n",
      "[-5.07628700e-04  6.64208501e-01 -2.24893495e+02]\n",
      "missdetection\n",
      "[ 1.39208505e-03 -2.22037543e+00  8.45642609e+02]\n"
     ]
    },
    {
     "name": "stderr",
     "output_type": "stream",
     "text": [
      "\r",
      "t:  73%|████████████████████████████████████▍             | 873/1199 [04:03<01:40,  3.26it/s, now=None]"
     ]
    },
    {
     "name": "stdout",
     "output_type": "stream",
     "text": [
      "Discarded X point\n",
      "missdetection\n",
      "[-9.13395231e-04  9.61062363e-01 -2.37177948e+02]\n",
      "missdetection\n",
      "[ 1.39208505e-03 -2.22037543e+00  8.45642609e+02]\n"
     ]
    },
    {
     "name": "stderr",
     "output_type": "stream",
     "text": [
      "\r",
      "t:  73%|████████████████████████████████████▍             | 874/1199 [04:03<01:42,  3.16it/s, now=None]"
     ]
    },
    {
     "name": "stdout",
     "output_type": "stream",
     "text": [
      "Discarded X point\n",
      "missdetection\n",
      "[ 1.39208505e-03 -2.22037543e+00  8.45642609e+02]\n"
     ]
    },
    {
     "name": "stderr",
     "output_type": "stream",
     "text": [
      "\r",
      "t:  73%|████████████████████████████████████▍             | 875/1199 [04:04<01:47,  3.01it/s, now=None]"
     ]
    },
    {
     "name": "stdout",
     "output_type": "stream",
     "text": [
      "Discarded X point\n",
      "missdetection\n",
      "[ 8.19726468e-04 -1.03308929e+00  3.20588121e+02]\n",
      "missdetection\n",
      "[ 1.39208505e-03 -2.22037543e+00  8.45642609e+02]\n"
     ]
    },
    {
     "name": "stderr",
     "output_type": "stream",
     "text": [
      "\r",
      "t:  73%|████████████████████████████████████▌             | 876/1199 [04:04<01:44,  3.08it/s, now=None]"
     ]
    },
    {
     "name": "stdout",
     "output_type": "stream",
     "text": [
      "Discarded X point\n",
      "missdetection\n",
      "[ 1.39208505e-03 -2.22037543e+00  8.45642609e+02]\n"
     ]
    },
    {
     "name": "stderr",
     "output_type": "stream",
     "text": [
      "\r",
      "t:  73%|████████████████████████████████████▌             | 877/1199 [04:04<01:47,  2.99it/s, now=None]"
     ]
    },
    {
     "name": "stdout",
     "output_type": "stream",
     "text": [
      "Discarded X point\n",
      "missdetection\n",
      "[ 1.52811371e-03 -1.88954743e+00  5.79836088e+02]\n",
      "missdetection\n",
      "[ 1.39208505e-03 -2.22037543e+00  8.45642609e+02]\n"
     ]
    },
    {
     "name": "stderr",
     "output_type": "stream",
     "text": [
      "\r",
      "t:  73%|████████████████████████████████████▌             | 878/1199 [04:05<01:42,  3.12it/s, now=None]"
     ]
    },
    {
     "name": "stdout",
     "output_type": "stream",
     "text": [
      "Discarded X point\n",
      "missdetection\n",
      "[ 5.88408847e-04 -8.39973136e-01  2.92152984e+02]\n",
      "missdetection\n",
      "[ 1.39208505e-03 -2.22037543e+00  8.45642609e+02]\n"
     ]
    },
    {
     "name": "stderr",
     "output_type": "stream",
     "text": [
      "\r",
      "t:  73%|████████████████████████████████████▋             | 879/1199 [04:05<01:40,  3.20it/s, now=None]"
     ]
    },
    {
     "name": "stdout",
     "output_type": "stream",
     "text": [
      "Discarded X point\n",
      "missdetection\n",
      "[ 6.75073265e-04 -1.01292276e+00  3.70245983e+02]\n",
      "missdetection\n",
      "[ 1.39208505e-03 -2.22037543e+00  8.45642609e+02]\n",
      "Reset by SanityCheck\n"
     ]
    },
    {
     "name": "stderr",
     "output_type": "stream",
     "text": [
      "\r",
      "t:  73%|████████████████████████████████████▋             | 880/1199 [04:05<01:50,  2.87it/s, now=None]"
     ]
    },
    {
     "name": "stdout",
     "output_type": "stream",
     "text": [
      "Discarded X point\n",
      "missdetection\n",
      "[ 7.13419809e-04 -1.07606986e+00  4.06487756e+02]\n",
      "missdetection\n",
      "[-7.06222973e-04  9.65919849e-01 -3.49180766e+02]\n"
     ]
    },
    {
     "name": "stderr",
     "output_type": "stream",
     "text": [
      "\r",
      "t:  73%|████████████████████████████████████▋             | 881/1199 [04:06<01:49,  2.89it/s, now=None]"
     ]
    },
    {
     "name": "stdout",
     "output_type": "stream",
     "text": [
      "Discarded X point\n",
      "missdetection\n",
      "[ 8.11082410e-04 -1.19846653e+00  4.37832567e+02]\n",
      "missdetection\n",
      "[ 1.39208505e-03 -2.22037543e+00  8.45642609e+02]\n"
     ]
    },
    {
     "name": "stderr",
     "output_type": "stream",
     "text": [
      "\r",
      "t:  74%|████████████████████████████████████▊             | 882/1199 [04:06<01:51,  2.85it/s, now=None]"
     ]
    },
    {
     "name": "stdout",
     "output_type": "stream",
     "text": [
      "Discarded X point\n",
      "missdetection\n",
      "[ 6.64865471e-04 -9.95757201e-01  3.68484622e+02]\n",
      "missdetection\n",
      "[ 1.39208505e-03 -2.22037543e+00  8.45642609e+02]\n"
     ]
    },
    {
     "name": "stderr",
     "output_type": "stream",
     "text": [
      "\r",
      "t:  74%|████████████████████████████████████▊             | 883/1199 [04:06<01:50,  2.85it/s, now=None]"
     ]
    },
    {
     "name": "stdout",
     "output_type": "stream",
     "text": [
      "Discarded X point\n",
      "missdetection\n",
      "[ 6.30285119e-04 -9.99830338e-01  3.87855845e+02]\n",
      "missdetection\n",
      "[ 1.39208505e-03 -2.22037543e+00  8.45642609e+02]\n"
     ]
    },
    {
     "name": "stderr",
     "output_type": "stream",
     "text": [
      "\r",
      "t:  74%|████████████████████████████████████▊             | 884/1199 [04:07<01:48,  2.90it/s, now=None]"
     ]
    },
    {
     "name": "stdout",
     "output_type": "stream",
     "text": [
      "Discarded X point\n",
      "missdetection\n",
      "[ 5.67720820e-04 -9.07556075e-01  3.54717611e+02]\n",
      "missdetection\n",
      "[ 1.39208505e-03 -2.22037543e+00  8.45642609e+02]\n"
     ]
    },
    {
     "name": "stderr",
     "output_type": "stream",
     "text": [
      "\r",
      "t:  74%|████████████████████████████████████▉             | 885/1199 [04:07<01:50,  2.84it/s, now=None]"
     ]
    },
    {
     "name": "stdout",
     "output_type": "stream",
     "text": [
      "Discarded X point\n",
      "missdetection\n",
      "[ 5.05252706e-04 -8.31602047e-01  3.32921577e+02]\n",
      "missdetection\n",
      "[ 1.39525417e-03 -2.22559629e+00  8.47565835e+02]\n"
     ]
    },
    {
     "name": "stderr",
     "output_type": "stream",
     "text": [
      "\r",
      "t:  74%|████████████████████████████████████▉             | 886/1199 [04:07<01:51,  2.80it/s, now=None]"
     ]
    },
    {
     "name": "stdout",
     "output_type": "stream",
     "text": [
      "Discarded X point\n",
      "missdetection\n",
      "[ 1.39272429e-03 -2.22158212e+00  8.46125887e+02]\n",
      "Discarded X point\n",
      "missdetection\n",
      "[-2.94965832e-03  2.09744416e+00 -4.89064869e+01]\n"
     ]
    },
    {
     "name": "stderr",
     "output_type": "stream",
     "text": [
      "t:  74%|█████████████████████████████████████             | 888/1199 [04:08<02:02,  2.54it/s, now=None]"
     ]
    },
    {
     "name": "stdout",
     "output_type": "stream",
     "text": [
      "Discarded X point\n",
      "Wrong separation between lines\n"
     ]
    },
    {
     "name": "stderr",
     "output_type": "stream",
     "text": [
      "\r",
      "t:  74%|█████████████████████████████████████             | 889/1199 [04:09<01:56,  2.66it/s, now=None]"
     ]
    },
    {
     "name": "stdout",
     "output_type": "stream",
     "text": [
      "Wrong separation between lines\n"
     ]
    },
    {
     "name": "stderr",
     "output_type": "stream",
     "text": [
      "\r",
      "t:  74%|█████████████████████████████████████             | 890/1199 [04:09<01:52,  2.74it/s, now=None]"
     ]
    },
    {
     "name": "stdout",
     "output_type": "stream",
     "text": [
      "Discarded X point\n",
      "Wrong separation between lines\n"
     ]
    },
    {
     "name": "stderr",
     "output_type": "stream",
     "text": [
      "\r",
      "t:  74%|█████████████████████████████████████▏            | 891/1199 [04:09<01:48,  2.83it/s, now=None]"
     ]
    },
    {
     "name": "stdout",
     "output_type": "stream",
     "text": [
      "Discarded X point\n",
      "Wrong separation between lines\n"
     ]
    },
    {
     "name": "stderr",
     "output_type": "stream",
     "text": [
      "\r",
      "t:  74%|█████████████████████████████████████▏            | 892/1199 [04:10<01:48,  2.84it/s, now=None]"
     ]
    },
    {
     "name": "stdout",
     "output_type": "stream",
     "text": [
      "Discarded X point\n",
      "Wrong separation between lines\n"
     ]
    },
    {
     "name": "stderr",
     "output_type": "stream",
     "text": [
      "\r",
      "t:  74%|█████████████████████████████████████▏            | 893/1199 [04:10<01:48,  2.81it/s, now=None]"
     ]
    },
    {
     "name": "stdout",
     "output_type": "stream",
     "text": [
      "Wrong separation between lines\n"
     ]
    },
    {
     "name": "stderr",
     "output_type": "stream",
     "text": [
      "\r",
      "t:  75%|█████████████████████████████████████▎            | 894/1199 [04:10<01:47,  2.83it/s, now=None]"
     ]
    },
    {
     "name": "stdout",
     "output_type": "stream",
     "text": [
      "Discarded X point\n",
      "Wrong separation between lines\n"
     ]
    },
    {
     "name": "stderr",
     "output_type": "stream",
     "text": [
      "\r",
      "t:  75%|█████████████████████████████████████▎            | 895/1199 [04:11<01:50,  2.75it/s, now=None]"
     ]
    },
    {
     "name": "stdout",
     "output_type": "stream",
     "text": [
      "Discarded X point\n",
      "Wrong separation between lines\n"
     ]
    },
    {
     "name": "stderr",
     "output_type": "stream",
     "text": [
      "\r",
      "t:  75%|█████████████████████████████████████▎            | 896/1199 [04:11<01:50,  2.75it/s, now=None]"
     ]
    },
    {
     "name": "stdout",
     "output_type": "stream",
     "text": [
      "Discarded X point\n",
      "Wrong separation between lines\n"
     ]
    },
    {
     "name": "stderr",
     "output_type": "stream",
     "text": [
      "\r",
      "t:  75%|█████████████████████████████████████▍            | 897/1199 [04:11<01:48,  2.78it/s, now=None]"
     ]
    },
    {
     "name": "stdout",
     "output_type": "stream",
     "text": [
      "Discarded X point\n",
      "Discarded X point\n",
      "Wrong separation between lines\n"
     ]
    },
    {
     "name": "stderr",
     "output_type": "stream",
     "text": [
      "\r",
      "t:  75%|█████████████████████████████████████▍            | 898/1199 [04:12<01:47,  2.81it/s, now=None]"
     ]
    },
    {
     "name": "stdout",
     "output_type": "stream",
     "text": [
      "Wrong separation between lines\n"
     ]
    },
    {
     "name": "stderr",
     "output_type": "stream",
     "text": [
      "\r",
      "t:  75%|█████████████████████████████████████▍            | 899/1199 [04:12<01:42,  2.93it/s, now=None]"
     ]
    },
    {
     "name": "stdout",
     "output_type": "stream",
     "text": [
      "Wrong separation between lines\n"
     ]
    },
    {
     "name": "stderr",
     "output_type": "stream",
     "text": [
      "\r",
      "t:  75%|█████████████████████████████████████▌            | 900/1199 [04:12<01:36,  3.08it/s, now=None]"
     ]
    },
    {
     "name": "stdout",
     "output_type": "stream",
     "text": [
      "Wrong separation between lines\n"
     ]
    },
    {
     "name": "stderr",
     "output_type": "stream",
     "text": [
      "t:  75%|█████████████████████████████████████▌            | 902/1199 [04:13<01:35,  3.11it/s, now=None]"
     ]
    },
    {
     "name": "stdout",
     "output_type": "stream",
     "text": [
      "missdetection\n",
      "[-2.45353403e-03  1.77488701e+00 -2.88242655e+02]\n"
     ]
    },
    {
     "name": "stderr",
     "output_type": "stream",
     "text": [
      "\r",
      "t:  75%|█████████████████████████████████████▋            | 903/1199 [04:13<01:34,  3.14it/s, now=None]"
     ]
    },
    {
     "name": "stdout",
     "output_type": "stream",
     "text": [
      "missdetection\n",
      "[-1.08461887e-03  1.16797800e+00 -3.16680446e+02]\n"
     ]
    },
    {
     "name": "stderr",
     "output_type": "stream",
     "text": [
      "\r",
      "t:  75%|█████████████████████████████████████▋            | 904/1199 [04:14<01:32,  3.18it/s, now=None]"
     ]
    },
    {
     "name": "stdout",
     "output_type": "stream",
     "text": [
      "missdetection\n",
      "[-2.51447722e-03  2.02474171e+00 -3.70588442e+02]\n"
     ]
    },
    {
     "name": "stderr",
     "output_type": "stream",
     "text": [
      "\r",
      "t:  75%|█████████████████████████████████████▋            | 905/1199 [04:14<01:32,  3.19it/s, now=None]"
     ]
    },
    {
     "name": "stdout",
     "output_type": "stream",
     "text": [
      "missdetection\n",
      "[-1.46549220e-03  1.58177901e+00 -4.23268273e+02]\n"
     ]
    },
    {
     "name": "stderr",
     "output_type": "stream",
     "text": [
      "\r",
      "t:  76%|█████████████████████████████████████▊            | 906/1199 [04:14<01:32,  3.18it/s, now=None]"
     ]
    },
    {
     "name": "stdout",
     "output_type": "stream",
     "text": [
      "missdetection\n",
      "[-1.61573231e-03  1.43273343e+00 -2.80836321e+02]\n"
     ]
    },
    {
     "name": "stderr",
     "output_type": "stream",
     "text": [
      "\r",
      "t:  76%|█████████████████████████████████████▊            | 907/1199 [04:15<01:31,  3.20it/s, now=None]"
     ]
    },
    {
     "name": "stdout",
     "output_type": "stream",
     "text": [
      "missdetection\n",
      "[-1.50858206e-03  1.68700512e+00 -4.74967741e+02]\n"
     ]
    },
    {
     "name": "stderr",
     "output_type": "stream",
     "text": [
      "\r",
      "t:  76%|█████████████████████████████████████▊            | 908/1199 [04:15<01:27,  3.32it/s, now=None]"
     ]
    },
    {
     "name": "stdout",
     "output_type": "stream",
     "text": [
      "missdetection\n",
      "[-3.24143837e-03  3.09997656e+00 -6.93281464e+02]\n",
      "missdetection\n",
      "[ 5.60598878e-04 -7.26087154e-01  2.00858557e+02]\n"
     ]
    },
    {
     "name": "stderr",
     "output_type": "stream",
     "text": [
      "\r",
      "t:  76%|█████████████████████████████████████▉            | 909/1199 [04:15<01:26,  3.36it/s, now=None]"
     ]
    },
    {
     "name": "stdout",
     "output_type": "stream",
     "text": [
      "missdetection\n",
      "[ 5.38711294e-04 -7.34315394e-01  2.16977724e+02]\n"
     ]
    },
    {
     "name": "stderr",
     "output_type": "stream",
     "text": [
      "\r",
      "t:  76%|█████████████████████████████████████▉            | 910/1199 [04:16<01:32,  3.13it/s, now=None]"
     ]
    },
    {
     "name": "stdout",
     "output_type": "stream",
     "text": [
      "missdetection\n",
      "[-3.54401208e-03  3.74098571e+00 -9.38965130e+02]\n",
      "missdetection\n",
      "[ 5.41681115e-04 -7.56255963e-01  2.30545120e+02]\n"
     ]
    },
    {
     "name": "stderr",
     "output_type": "stream",
     "text": [
      "\r",
      "t:  76%|█████████████████████████████████████▉            | 911/1199 [04:16<01:34,  3.04it/s, now=None]"
     ]
    },
    {
     "name": "stdout",
     "output_type": "stream",
     "text": [
      "missdetection\n",
      "[ 8.15789495e-04 -1.14850075e+00  3.70471372e+02]\n"
     ]
    },
    {
     "name": "stderr",
     "output_type": "stream",
     "text": [
      "\r",
      "t:  76%|██████████████████████████████████████            | 912/1199 [04:16<01:31,  3.13it/s, now=None]"
     ]
    },
    {
     "name": "stdout",
     "output_type": "stream",
     "text": [
      "missdetection\n",
      "[ 1.01163102e-03 -1.43212442e+00  4.72463920e+02]\n"
     ]
    },
    {
     "name": "stderr",
     "output_type": "stream",
     "text": [
      "\r",
      "t:  76%|██████████████████████████████████████            | 913/1199 [04:16<01:29,  3.21it/s, now=None]"
     ]
    },
    {
     "name": "stdout",
     "output_type": "stream",
     "text": [
      "missdetection\n",
      "[-1.60970439e-03  1.69448813e+00 -4.00138013e+02]\n",
      "missdetection\n",
      "[ 1.45692647e-03 -2.09627388e+00  7.16920828e+02]\n"
     ]
    },
    {
     "name": "stderr",
     "output_type": "stream",
     "text": [
      "\r",
      "t:  76%|██████████████████████████████████████            | 914/1199 [04:17<01:25,  3.32it/s, now=None]"
     ]
    },
    {
     "name": "stdout",
     "output_type": "stream",
     "text": [
      "missdetection\n",
      "[ 6.98173705e-04 -1.08027600e+00  4.18369308e+02]\n",
      "missdetection\n",
      "[ 1.62355262e-03 -2.37800088e+00  8.31265759e+02]\n"
     ]
    },
    {
     "name": "stderr",
     "output_type": "stream",
     "text": [
      "\r",
      "t:  76%|██████████████████████████████████████▏           | 915/1199 [04:17<01:23,  3.40it/s, now=None]"
     ]
    },
    {
     "name": "stdout",
     "output_type": "stream",
     "text": [
      "missdetection\n",
      "[ 6.02816326e-04 -9.67982442e-01  3.86507245e+02]\n",
      "missdetection\n",
      "[ 1.66158810e-03 -2.46044491e+00  8.70043266e+02]\n"
     ]
    },
    {
     "name": "stderr",
     "output_type": "stream",
     "text": [
      "\r",
      "t:  76%|██████████████████████████████████████▏           | 916/1199 [04:17<01:21,  3.49it/s, now=None]"
     ]
    },
    {
     "name": "stdout",
     "output_type": "stream",
     "text": [
      "missdetection\n",
      "[ 6.62430812e-04 -1.04828778e+00  4.12862834e+02]\n",
      "missdetection\n",
      "[ 1.65903281e-03 -2.47594285e+00  8.81849912e+02]\n"
     ]
    },
    {
     "name": "stderr",
     "output_type": "stream",
     "text": [
      "\r",
      "t:  76%|██████████████████████████████████████▏           | 917/1199 [04:18<01:19,  3.54it/s, now=None]"
     ]
    },
    {
     "name": "stdout",
     "output_type": "stream",
     "text": [
      "missdetection\n",
      "[ 5.56548644e-04 -8.99903773e-01  3.62522447e+02]\n",
      "missdetection\n",
      "[ 1.65275612e-03 -2.47078366e+00  8.81568306e+02]\n",
      "Reset by SanityCheck\n"
     ]
    },
    {
     "name": "stderr",
     "output_type": "stream",
     "text": [
      "\r",
      "t:  77%|██████████████████████████████████████▎           | 918/1199 [04:18<01:24,  3.33it/s, now=None]"
     ]
    },
    {
     "name": "stdout",
     "output_type": "stream",
     "text": [
      "missdetection\n",
      "[ 5.65842127e-04 -9.39626279e-01  3.86673231e+02]\n"
     ]
    },
    {
     "name": "stderr",
     "output_type": "stream",
     "text": [
      "\r",
      "t:  77%|██████████████████████████████████████▎           | 919/1199 [04:18<01:24,  3.30it/s, now=None]"
     ]
    },
    {
     "name": "stdout",
     "output_type": "stream",
     "text": [
      "Discarded X point\n",
      "missdetection\n",
      "[ 5.62022524e-04 -9.35763790e-01  3.83105051e+02]\n"
     ]
    },
    {
     "name": "stderr",
     "output_type": "stream",
     "text": [
      "\r",
      "t:  77%|██████████████████████████████████████▎           | 920/1199 [04:19<01:25,  3.28it/s, now=None]"
     ]
    },
    {
     "name": "stdout",
     "output_type": "stream",
     "text": [
      "Discarded X point\n",
      "missdetection\n",
      "[ 5.45973643e-04 -8.79827324e-01  3.56198088e+02]\n"
     ]
    },
    {
     "name": "stderr",
     "output_type": "stream",
     "text": [
      "\r",
      "t:  77%|██████████████████████████████████████▍           | 921/1199 [04:19<01:26,  3.23it/s, now=None]"
     ]
    },
    {
     "name": "stdout",
     "output_type": "stream",
     "text": [
      "Discarded X point\n",
      "Wrong separation between lines\n"
     ]
    },
    {
     "name": "stderr",
     "output_type": "stream",
     "text": [
      "\r",
      "t:  77%|██████████████████████████████████████▍           | 922/1199 [04:19<01:23,  3.31it/s, now=None]"
     ]
    },
    {
     "name": "stdout",
     "output_type": "stream",
     "text": [
      "Discarded X point\n",
      "Discarded X point\n",
      "missdetection\n",
      "[ 5.55218381e-04 -8.91491325e-01  3.62276415e+02]\n",
      "missdetection\n",
      "[ 1.67085732e-03 -2.49115050e+00  8.84346387e+02]\n"
     ]
    },
    {
     "name": "stderr",
     "output_type": "stream",
     "text": [
      "\r",
      "t:  77%|██████████████████████████████████████▍           | 923/1199 [04:19<01:21,  3.40it/s, now=None]"
     ]
    },
    {
     "name": "stdout",
     "output_type": "stream",
     "text": [
      "Discarded X point\n",
      "Discarded X point\n",
      "missdetection\n",
      "[ 5.43582280e-04 -8.61321719e-01  3.46967371e+02]\n",
      "missdetection\n",
      "[ 1.67092225e-03 -2.49123814e+00  8.84345918e+02]\n"
     ]
    },
    {
     "name": "stderr",
     "output_type": "stream",
     "text": [
      "\r",
      "t:  77%|██████████████████████████████████████▌           | 924/1199 [04:20<01:18,  3.52it/s, now=None]"
     ]
    },
    {
     "name": "stdout",
     "output_type": "stream",
     "text": [
      "Discarded X point\n",
      "Discarded X point\n",
      "missdetection\n",
      "[ 5.43257628e-04 -8.60883504e-01  3.46969714e+02]\n",
      "missdetection\n",
      "[ 1.67092225e-03 -2.49123814e+00  8.84345918e+02]\n"
     ]
    },
    {
     "name": "stderr",
     "output_type": "stream",
     "text": [
      "\r",
      "t:  77%|██████████████████████████████████████▌           | 925/1199 [04:20<01:16,  3.60it/s, now=None]"
     ]
    },
    {
     "name": "stdout",
     "output_type": "stream",
     "text": [
      "Discarded X point\n",
      "Discarded X point\n",
      "missdetection\n",
      "[ 5.42997907e-04 -8.60532932e-01  3.46971588e+02]\n",
      "missdetection\n",
      "[ 1.67092225e-03 -2.49123814e+00  8.84345918e+02]\n"
     ]
    },
    {
     "name": "stderr",
     "output_type": "stream",
     "text": [
      "\r",
      "t:  77%|██████████████████████████████████████▌           | 926/1199 [04:20<01:19,  3.45it/s, now=None]"
     ]
    },
    {
     "name": "stdout",
     "output_type": "stream",
     "text": [
      "Discarded X point\n",
      "Discarded X point\n",
      "missdetection\n",
      "[ 5.42586681e-04 -8.59977859e-01  3.46974556e+02]\n",
      "missdetection\n",
      "[ 1.67092225e-03 -2.49123814e+00  8.84345918e+02]\n"
     ]
    },
    {
     "name": "stderr",
     "output_type": "stream",
     "text": [
      "\r",
      "t:  77%|██████████████████████████████████████▋           | 927/1199 [04:21<01:16,  3.56it/s, now=None]"
     ]
    },
    {
     "name": "stdout",
     "output_type": "stream",
     "text": [
      "Discarded X point\n",
      "Discarded X point\n",
      "missdetection\n",
      "[ 5.42391890e-04 -8.59714930e-01  3.46975962e+02]\n",
      "missdetection\n",
      "[ 1.67025130e-03 -2.49033249e+00  8.84350760e+02]\n"
     ]
    },
    {
     "name": "stderr",
     "output_type": "stream",
     "text": [
      "\r",
      "t:  77%|██████████████████████████████████████▋           | 928/1199 [04:21<01:12,  3.74it/s, now=None]"
     ]
    },
    {
     "name": "stdout",
     "output_type": "stream",
     "text": [
      "Discarded X point\n",
      "Discarded X point\n",
      "missdetection\n",
      "[ 5.42456821e-04 -8.59802573e-01  3.46975493e+02]\n",
      "missdetection\n",
      "[ 1.67066253e-03 -2.49088757e+00  8.84347792e+02]\n"
     ]
    },
    {
     "name": "stderr",
     "output_type": "stream",
     "text": [
      "\r",
      "t:  77%|██████████████████████████████████████▋           | 929/1199 [04:21<01:10,  3.81it/s, now=None]"
     ]
    },
    {
     "name": "stdout",
     "output_type": "stream",
     "text": [
      "Discarded X point\n",
      "Discarded X point\n",
      "missdetection\n",
      "[ 5.42002308e-04 -8.59189072e-01  3.46978773e+02]\n",
      "missdetection\n",
      "[ 1.67072746e-03 -2.49097521e+00  8.84347324e+02]\n"
     ]
    },
    {
     "name": "stderr",
     "output_type": "stream",
     "text": [
      "\r",
      "t:  78%|██████████████████████████████████████▊           | 930/1199 [04:21<01:09,  3.90it/s, now=None]"
     ]
    },
    {
     "name": "stdout",
     "output_type": "stream",
     "text": [
      "Discarded X point\n",
      "Discarded X point\n",
      "missdetection\n",
      "[ 5.42197099e-04 -8.59452001e-01  3.46977368e+02]\n",
      "missdetection\n",
      "[ 1.67079239e-03 -2.49106285e+00  8.84346855e+02]\n"
     ]
    },
    {
     "name": "stderr",
     "output_type": "stream",
     "text": [
      "\r",
      "t:  78%|██████████████████████████████████████▊           | 931/1199 [04:21<01:07,  3.96it/s, now=None]"
     ]
    },
    {
     "name": "stdout",
     "output_type": "stream",
     "text": [
      "Discarded X point\n",
      "Discarded X point\n",
      "missdetection\n",
      "[ 5.42716542e-04 -8.60153145e-01  3.46973619e+02]\n",
      "missdetection\n",
      "[ 1.67079239e-03 -2.49106285e+00  8.84346855e+02]\n",
      "Reset by SanityCheck\n",
      "Reset by SanityCheck\n"
     ]
    },
    {
     "name": "stderr",
     "output_type": "stream",
     "text": [
      "\r",
      "t:  78%|██████████████████████████████████████▊           | 932/1199 [04:22<01:05,  4.07it/s, now=None]"
     ]
    },
    {
     "name": "stdout",
     "output_type": "stream",
     "text": [
      "Discarded X point\n",
      "Discarded X point\n",
      "NO pixels with search around poly\n",
      "NO pixels with search around poly\n"
     ]
    },
    {
     "name": "stderr",
     "output_type": "stream",
     "text": [
      "\r",
      "t:  78%|██████████████████████████████████████▉           | 933/1199 [04:22<01:06,  3.97it/s, now=None]"
     ]
    },
    {
     "name": "stdout",
     "output_type": "stream",
     "text": [
      "Discarded X point\n",
      "Discarded X point\n",
      "missdetection\n",
      "[ 5.43257628e-04 -8.60883504e-01  3.46969714e+02]\n",
      "missdetection\n",
      "[ 1.67085732e-03 -2.49115050e+00  8.84346387e+02]\n"
     ]
    },
    {
     "name": "stderr",
     "output_type": "stream",
     "text": [
      "\r",
      "t:  78%|██████████████████████████████████████▉           | 934/1199 [04:22<01:13,  3.60it/s, now=None]"
     ]
    },
    {
     "name": "stdout",
     "output_type": "stream",
     "text": [
      "Discarded X point\n",
      "Discarded X point\n",
      "missdetection\n",
      "[ 5.43322559e-04 -8.60971147e-01  3.46969245e+02]\n",
      "missdetection\n",
      "[ 1.67085732e-03 -2.49115050e+00  8.84346387e+02]\n"
     ]
    },
    {
     "name": "stderr",
     "output_type": "stream",
     "text": [
      "\r",
      "t:  78%|██████████████████████████████████████▉           | 935/1199 [04:23<01:16,  3.43it/s, now=None]"
     ]
    },
    {
     "name": "stdout",
     "output_type": "stream",
     "text": [
      "Discarded X point\n",
      "Discarded X point\n",
      "missdetection\n",
      "[ 5.43322559e-04 -8.60971147e-01  3.46969245e+02]\n",
      "missdetection\n",
      "[ 1.67085732e-03 -2.49115050e+00  8.84346387e+02]\n"
     ]
    },
    {
     "name": "stderr",
     "output_type": "stream",
     "text": [
      "\r",
      "t:  78%|███████████████████████████████████████           | 936/1199 [04:23<01:16,  3.42it/s, now=None]"
     ]
    },
    {
     "name": "stdout",
     "output_type": "stream",
     "text": [
      "Discarded X point\n",
      "missdetection\n",
      "[ 5.43322559e-04 -8.60971147e-01  3.46969245e+02]\n",
      "missdetection\n",
      "[ 1.66788678e-03 -2.48716570e+00  8.84381140e+02]\n"
     ]
    },
    {
     "name": "stderr",
     "output_type": "stream",
     "text": [
      "\r",
      "t:  78%|███████████████████████████████████████           | 937/1199 [04:23<01:14,  3.52it/s, now=None]"
     ]
    },
    {
     "name": "stdout",
     "output_type": "stream",
     "text": [
      "Discarded X point\n",
      "missdetection\n",
      "[ 5.43322559e-04 -8.60971147e-01  3.46969245e+02]\n",
      "missdetection\n",
      "[ 1.66723629e-03 -2.48631770e+00  8.84265264e+02]\n"
     ]
    },
    {
     "name": "stderr",
     "output_type": "stream",
     "text": [
      "\r",
      "t:  78%|███████████████████████████████████████           | 938/1199 [04:23<01:11,  3.64it/s, now=None]"
     ]
    },
    {
     "name": "stdout",
     "output_type": "stream",
     "text": [
      "Discarded X point\n",
      "missdetection\n",
      "[ 5.43322559e-04 -8.60971147e-01  3.46969245e+02]\n",
      "missdetection\n",
      "[ 1.66775983e-03 -2.48700489e+00  8.84362627e+02]\n"
     ]
    },
    {
     "name": "stderr",
     "output_type": "stream",
     "text": [
      "\r",
      "t:  78%|███████████████████████████████████████▏          | 939/1199 [04:24<01:09,  3.74it/s, now=None]"
     ]
    },
    {
     "name": "stdout",
     "output_type": "stream",
     "text": [
      "Discarded X point\n",
      "Discarded X point\n",
      "missdetection\n",
      "[ 5.43322559e-04 -8.60971147e-01  3.46969245e+02]\n",
      "missdetection\n",
      "[ 1.66947214e-03 -2.48928078e+00  8.84356383e+02]\n"
     ]
    },
    {
     "name": "stderr",
     "output_type": "stream",
     "text": [
      "\r",
      "t:  78%|███████████████████████████████████████▏          | 940/1199 [04:24<01:09,  3.73it/s, now=None]"
     ]
    },
    {
     "name": "stdout",
     "output_type": "stream",
     "text": [
      "Discarded X point\n",
      "Discarded X point\n",
      "missdetection\n",
      "[ 5.43322559e-04 -8.60971147e-01  3.46969245e+02]\n",
      "missdetection\n",
      "[ 1.66966693e-03 -2.48954371e+00  8.84354978e+02]\n"
     ]
    },
    {
     "name": "stderr",
     "output_type": "stream",
     "text": [
      "\r",
      "t:  78%|███████████████████████████████████████▏          | 941/1199 [04:24<01:10,  3.66it/s, now=None]"
     ]
    },
    {
     "name": "stdout",
     "output_type": "stream",
     "text": [
      "Discarded X point\n",
      "missdetection\n",
      "[ 5.43322559e-04 -8.60971147e-01  3.46969245e+02]\n",
      "missdetection\n",
      "[ 1.66736358e-03 -2.48645008e+00  8.84321561e+02]\n"
     ]
    },
    {
     "name": "stderr",
     "output_type": "stream",
     "text": [
      "\r",
      "t:  79%|███████████████████████████████████████▎          | 942/1199 [04:25<01:09,  3.69it/s, now=None]"
     ]
    },
    {
     "name": "stdout",
     "output_type": "stream",
     "text": [
      "missdetection\n",
      "[ 5.44453639e-04 -8.61670209e-01  3.46933285e+02]\n",
      "missdetection\n",
      "[ 1.66783248e-03 -2.48708315e+00  8.84296541e+02]\n",
      "Reset by SanityCheck\n",
      "Reset by SanityCheck\n"
     ]
    },
    {
     "name": "stderr",
     "output_type": "stream",
     "text": [
      "\r",
      "t:  79%|███████████████████████████████████████▎          | 943/1199 [04:25<01:09,  3.70it/s, now=None]"
     ]
    },
    {
     "name": "stdout",
     "output_type": "stream",
     "text": [
      "missdetection\n",
      "[-1.97077005e-03  2.54835158e+00 -8.09993373e+02]\n",
      "missdetection\n",
      "[-1.18876035e-03  1.33868196e+00 -3.91340864e+02]\n"
     ]
    },
    {
     "name": "stderr",
     "output_type": "stream",
     "text": [
      "\r",
      "t:  79%|███████████████████████████████████████▎          | 944/1199 [04:25<01:07,  3.77it/s, now=None]"
     ]
    },
    {
     "name": "stdout",
     "output_type": "stream",
     "text": [
      "missdetection\n",
      "[ 5.43763317e-04 -8.59054773e-01  3.45854875e+02]\n",
      "missdetection\n",
      "[ 1.43148944e-03 -2.10437487e+00  7.27949665e+02]\n"
     ]
    },
    {
     "name": "stderr",
     "output_type": "stream",
     "text": [
      "\r",
      "t:  79%|███████████████████████████████████████▍          | 945/1199 [04:25<01:07,  3.77it/s, now=None]"
     ]
    },
    {
     "name": "stdout",
     "output_type": "stream",
     "text": [
      "missdetection\n",
      "[ 5.25036483e-04 -8.17233981e-01  3.24043118e+02]\n",
      "missdetection\n",
      "[ 1.24782777e-03 -1.81021268e+00  6.13065167e+02]\n"
     ]
    },
    {
     "name": "stderr",
     "output_type": "stream",
     "text": [
      "\r",
      "t:  79%|███████████████████████████████████████▍          | 946/1199 [04:26<01:07,  3.73it/s, now=None]"
     ]
    },
    {
     "name": "stdout",
     "output_type": "stream",
     "text": [
      "missdetection\n",
      "[ 5.19462631e-04 -7.99092581e-01  3.14255107e+02]\n",
      "missdetection\n",
      "[ 8.79726907e-04 -1.29222406e+00  4.31787830e+02]\n"
     ]
    },
    {
     "name": "stderr",
     "output_type": "stream",
     "text": [
      "\r",
      "t:  79%|███████████████████████████████████████▍          | 947/1199 [04:26<01:05,  3.85it/s, now=None]"
     ]
    },
    {
     "name": "stdout",
     "output_type": "stream",
     "text": [
      "missdetection\n",
      "[ 5.42373527e-04 -8.43676706e-01  3.34140548e+02]\n",
      "missdetection\n",
      "[ 7.39001860e-04 -1.10811617e+00  3.72364055e+02]\n"
     ]
    },
    {
     "name": "stderr",
     "output_type": "stream",
     "text": [
      "\r",
      "t:  79%|███████████████████████████████████████▌          | 948/1199 [04:26<01:03,  3.97it/s, now=None]"
     ]
    },
    {
     "name": "stdout",
     "output_type": "stream",
     "text": [
      "missdetection\n",
      "[ 5.24471252e-04 -8.06994181e-01  3.18121698e+02]\n",
      "missdetection\n",
      "[ 5.58502085e-04 -8.63722461e-01  2.90250577e+02]\n"
     ]
    },
    {
     "name": "stderr",
     "output_type": "stream",
     "text": [
      "\r",
      "t:  79%|███████████████████████████████████████▌          | 949/1199 [04:26<01:02,  3.97it/s, now=None]"
     ]
    },
    {
     "name": "stdout",
     "output_type": "stream",
     "text": [
      "missdetection\n",
      "[ 5.05343083e-04 -7.63409275e-01  2.96428272e+02]\n",
      "missdetection\n",
      "[ 7.59737408e-04 -1.13990430e+00  3.85007629e+02]\n"
     ]
    },
    {
     "name": "stderr",
     "output_type": "stream",
     "text": [
      "\r",
      "t:  79%|███████████████████████████████████████▌          | 950/1199 [04:27<01:02,  4.01it/s, now=None]"
     ]
    },
    {
     "name": "stdout",
     "output_type": "stream",
     "text": [
      "missdetection\n",
      "[ 5.30249438e-04 -8.09665624e-01  3.16364184e+02]\n",
      "missdetection\n",
      "[ 8.64226877e-04 -1.28379184e+00  4.34679767e+02]\n"
     ]
    },
    {
     "name": "stderr",
     "output_type": "stream",
     "text": [
      "\r",
      "t:  79%|███████████████████████████████████████▋          | 951/1199 [04:27<01:01,  4.01it/s, now=None]"
     ]
    },
    {
     "name": "stdout",
     "output_type": "stream",
     "text": [
      "missdetection\n",
      "[ 5.28152685e-04 -8.23689529e-01  3.26931332e+02]\n",
      "missdetection\n",
      "[ 9.45605796e-04 -1.39187386e+00  4.70586799e+02]\n"
     ]
    },
    {
     "name": "stderr",
     "output_type": "stream",
     "text": [
      "\r",
      "t:  79%|███████████████████████████████████████▋          | 952/1199 [04:27<01:00,  4.09it/s, now=None]"
     ]
    },
    {
     "name": "stdout",
     "output_type": "stream",
     "text": [
      "missdetection\n",
      "[ 5.34274951e-04 -8.62533743e-01  3.50306551e+02]\n",
      "missdetection\n",
      "[ 1.09953435e-03 -1.61039952e+00  5.47740727e+02]\n"
     ]
    },
    {
     "name": "stderr",
     "output_type": "stream",
     "text": [
      "\r",
      "t:  79%|███████████████████████████████████████▋          | 953/1199 [04:27<00:59,  4.13it/s, now=None]"
     ]
    },
    {
     "name": "stdout",
     "output_type": "stream",
     "text": [
      "missdetection\n",
      "[ 4.92126472e-04 -8.19836200e-01  3.41317044e+02]\n",
      "missdetection\n",
      "[ 1.36699119e-03 -2.00240305e+00  6.90764935e+02]\n",
      "Reset by SanityCheck\n",
      "Reset by SanityCheck\n"
     ]
    },
    {
     "name": "stderr",
     "output_type": "stream",
     "text": [
      "\r",
      "t:  80%|███████████████████████████████████████▊          | 954/1199 [04:28<01:00,  4.07it/s, now=None]"
     ]
    },
    {
     "name": "stdout",
     "output_type": "stream",
     "text": [
      "missdetection\n",
      "[-4.34769418e-03  5.59129334e+00 -1.77010759e+03]\n"
     ]
    },
    {
     "name": "stderr",
     "output_type": "stream",
     "text": [
      "\r",
      "t:  80%|███████████████████████████████████████▊          | 955/1199 [04:28<01:02,  3.88it/s, now=None]"
     ]
    },
    {
     "name": "stdout",
     "output_type": "stream",
     "text": [
      "missdetection\n",
      "[ 4.64439715e-04 -7.58217807e-01  3.10634440e+02]\n"
     ]
    },
    {
     "name": "stderr",
     "output_type": "stream",
     "text": [
      "\r",
      "t:  80%|███████████████████████████████████████▊          | 956/1199 [04:28<01:04,  3.78it/s, now=None]"
     ]
    },
    {
     "name": "stdout",
     "output_type": "stream",
     "text": [
      "missdetection\n",
      "[ 4.95953886e-04 -7.88085455e-01  3.15902898e+02]\n"
     ]
    },
    {
     "name": "stderr",
     "output_type": "stream",
     "text": [
      "\r",
      "t:  80%|███████████████████████████████████████▉          | 957/1199 [04:28<01:04,  3.75it/s, now=None]"
     ]
    },
    {
     "name": "stdout",
     "output_type": "stream",
     "text": [
      "missdetection\n",
      "[ 5.25072877e-04 -8.25736880e-01  3.28295190e+02]\n"
     ]
    },
    {
     "name": "stderr",
     "output_type": "stream",
     "text": [
      "\r",
      "t:  80%|███████████████████████████████████████▉          | 958/1199 [04:29<01:05,  3.71it/s, now=None]"
     ]
    },
    {
     "name": "stdout",
     "output_type": "stream",
     "text": [
      "missdetection\n",
      "[ 5.43198615e-04 -8.57430104e-01  3.40318263e+02]\n"
     ]
    },
    {
     "name": "stderr",
     "output_type": "stream",
     "text": [
      "\r",
      "t:  80%|███████████████████████████████████████▉          | 959/1199 [04:29<01:06,  3.61it/s, now=None]"
     ]
    },
    {
     "name": "stdout",
     "output_type": "stream",
     "text": [
      "missdetection\n",
      "[ 5.43168949e-04 -8.68488746e-01  3.49416245e+02]\n"
     ]
    },
    {
     "name": "stderr",
     "output_type": "stream",
     "text": [
      "\r",
      "t:  80%|████████████████████████████████████████          | 960/1199 [04:29<01:06,  3.62it/s, now=None]"
     ]
    },
    {
     "name": "stdout",
     "output_type": "stream",
     "text": [
      "missdetection\n",
      "[ 5.42578890e-04 -8.65038660e-01  3.46723011e+02]\n"
     ]
    },
    {
     "name": "stderr",
     "output_type": "stream",
     "text": [
      "\r",
      "t:  80%|████████████████████████████████████████          | 961/1199 [04:30<01:07,  3.53it/s, now=None]"
     ]
    },
    {
     "name": "stdout",
     "output_type": "stream",
     "text": [
      "missdetection\n",
      "[ 5.16106967e-04 -8.37037663e-01  3.43592415e+02]\n"
     ]
    },
    {
     "name": "stderr",
     "output_type": "stream",
     "text": [
      "\r",
      "t:  80%|████████████████████████████████████████          | 962/1199 [04:30<01:07,  3.50it/s, now=None]"
     ]
    },
    {
     "name": "stdout",
     "output_type": "stream",
     "text": [
      "missdetection\n",
      "[ 4.90664701e-04 -7.85013994e-01  3.20716163e+02]\n"
     ]
    },
    {
     "name": "stderr",
     "output_type": "stream",
     "text": [
      "\r",
      "t:  80%|████████████████████████████████████████▏         | 963/1199 [04:30<01:05,  3.60it/s, now=None]"
     ]
    },
    {
     "name": "stdout",
     "output_type": "stream",
     "text": [
      "missdetection\n",
      "[ 5.11137888e-04 -8.20670454e-01  3.35276955e+02]\n"
     ]
    },
    {
     "name": "stderr",
     "output_type": "stream",
     "text": [
      "\r",
      "t:  80%|████████████████████████████████████████▏         | 964/1199 [04:30<01:05,  3.61it/s, now=None]"
     ]
    },
    {
     "name": "stdout",
     "output_type": "stream",
     "text": [
      "missdetection\n",
      "[ 5.30850836e-04 -8.37954974e-01  3.33944197e+02]\n",
      "Reset by SanityCheck\n"
     ]
    },
    {
     "name": "stderr",
     "output_type": "stream",
     "text": [
      "\r",
      "t:  80%|████████████████████████████████████████▏         | 965/1199 [04:31<01:06,  3.54it/s, now=None]"
     ]
    },
    {
     "name": "stdout",
     "output_type": "stream",
     "text": [
      "missdetection\n",
      "[ 5.07976947e-03 -5.88673224e+00  1.70794959e+03]\n"
     ]
    },
    {
     "name": "stderr",
     "output_type": "stream",
     "text": [
      "\r",
      "t:  81%|████████████████████████████████████████▎         | 966/1199 [04:31<01:07,  3.43it/s, now=None]"
     ]
    },
    {
     "name": "stdout",
     "output_type": "stream",
     "text": [
      "missdetection\n",
      "[ 5.42061128e-04 -8.61205401e-01  3.43496096e+02]\n"
     ]
    },
    {
     "name": "stderr",
     "output_type": "stream",
     "text": [
      "\r",
      "t:  81%|████████████████████████████████████████▎         | 967/1199 [04:31<01:08,  3.38it/s, now=None]"
     ]
    },
    {
     "name": "stdout",
     "output_type": "stream",
     "text": [
      "missdetection\n",
      "[ 5.33145298e-04 -8.50768835e-01  3.44696104e+02]\n"
     ]
    },
    {
     "name": "stderr",
     "output_type": "stream",
     "text": [
      "\r",
      "t:  81%|████████████████████████████████████████▎         | 968/1199 [04:32<01:06,  3.50it/s, now=None]"
     ]
    },
    {
     "name": "stdout",
     "output_type": "stream",
     "text": [
      "missdetection\n",
      "[ 5.32414339e-04 -8.48303472e-01  3.43599304e+02]\n",
      "Discarded X point\n"
     ]
    },
    {
     "name": "stderr",
     "output_type": "stream",
     "text": [
      "\r",
      "t:  81%|████████████████████████████████████████▍         | 969/1199 [04:32<01:01,  3.73it/s, now=None]"
     ]
    },
    {
     "name": "stdout",
     "output_type": "stream",
     "text": [
      "missdetection\n",
      "[ 5.35878675e-04 -8.50580592e-01  3.44628208e+02]\n"
     ]
    },
    {
     "name": "stderr",
     "output_type": "stream",
     "text": [
      "\r",
      "t:  81%|████████████████████████████████████████▍         | 970/1199 [04:32<01:01,  3.73it/s, now=None]"
     ]
    },
    {
     "name": "stdout",
     "output_type": "stream",
     "text": [
      "Discarded X point\n",
      "missdetection\n",
      "[ 5.40535902e-04 -8.56836793e-01  3.46434854e+02]\n"
     ]
    },
    {
     "name": "stderr",
     "output_type": "stream",
     "text": [
      "\r",
      "t:  81%|████████████████████████████████████████▍         | 971/1199 [04:32<01:02,  3.63it/s, now=None]"
     ]
    },
    {
     "name": "stdout",
     "output_type": "stream",
     "text": [
      "Discarded X point\n",
      "missdetection\n",
      "[ 5.47223768e-04 -8.65183105e-01  3.46470176e+02]\n"
     ]
    },
    {
     "name": "stderr",
     "output_type": "stream",
     "text": [
      "\r",
      "t:  81%|████████████████████████████████████████▌         | 972/1199 [04:33<01:04,  3.49it/s, now=None]"
     ]
    },
    {
     "name": "stdout",
     "output_type": "stream",
     "text": [
      "Discarded X point\n",
      "missdetection\n",
      "[ 5.43793053e-04 -8.61468664e-01  3.45930854e+02]\n"
     ]
    },
    {
     "name": "stderr",
     "output_type": "stream",
     "text": [
      "\r",
      "t:  81%|████████████████████████████████████████▌         | 973/1199 [04:33<01:05,  3.43it/s, now=None]"
     ]
    },
    {
     "name": "stdout",
     "output_type": "stream",
     "text": [
      "Discarded X point\n",
      "missdetection\n",
      "[ 5.47553964e-04 -8.62809562e-01  3.45374600e+02]\n"
     ]
    },
    {
     "name": "stderr",
     "output_type": "stream",
     "text": [
      "\r",
      "t:  81%|████████████████████████████████████████▌         | 974/1199 [04:33<01:04,  3.47it/s, now=None]"
     ]
    },
    {
     "name": "stdout",
     "output_type": "stream",
     "text": [
      "Discarded X point\n",
      "missdetection\n",
      "[ 5.43199152e-04 -8.60298247e-01  3.45957221e+02]\n"
     ]
    },
    {
     "name": "stderr",
     "output_type": "stream",
     "text": [
      "\r",
      "t:  81%|████████████████████████████████████████▋         | 975/1199 [04:33<01:03,  3.50it/s, now=None]"
     ]
    },
    {
     "name": "stdout",
     "output_type": "stream",
     "text": [
      "Discarded X point\n",
      "missdetection\n",
      "[ 5.44237114e-04 -8.62153284e-01  3.46765132e+02]\n",
      "Reset by SanityCheck\n"
     ]
    },
    {
     "name": "stderr",
     "output_type": "stream",
     "text": [
      "\r",
      "t:  81%|████████████████████████████████████████▋         | 976/1199 [04:34<01:00,  3.69it/s, now=None]"
     ]
    },
    {
     "name": "stdout",
     "output_type": "stream",
     "text": [
      "Discarded X point\n",
      "Discarded X point\n",
      "missdetection\n",
      "[-5.87112548e-03  8.29978899e+00 -2.88839207e+03]\n",
      "missdetection\n",
      "[ 1.60243698e-02 -1.16161841e+01  2.12079952e+03]\n"
     ]
    },
    {
     "name": "stderr",
     "output_type": "stream",
     "text": [
      "\r",
      "t:  81%|████████████████████████████████████████▋         | 977/1199 [04:34<00:58,  3.79it/s, now=None]"
     ]
    },
    {
     "name": "stdout",
     "output_type": "stream",
     "text": [
      "Discarded X point\n",
      "missdetection\n",
      "[ 5.40736706e-04 -8.58566033e-01  3.46207778e+02]\n"
     ]
    },
    {
     "name": "stderr",
     "output_type": "stream",
     "text": [
      "\r",
      "t:  82%|████████████████████████████████████████▊         | 978/1199 [04:34<01:00,  3.68it/s, now=None]"
     ]
    },
    {
     "name": "stdout",
     "output_type": "stream",
     "text": [
      "Discarded X point\n",
      "missdetection\n",
      "[ 5.42282078e-04 -8.59519432e-01  3.46139562e+02]\n"
     ]
    },
    {
     "name": "stderr",
     "output_type": "stream",
     "text": [
      "\r",
      "t:  82%|████████████████████████████████████████▊         | 979/1199 [04:35<01:00,  3.62it/s, now=None]"
     ]
    },
    {
     "name": "stdout",
     "output_type": "stream",
     "text": [
      "Discarded X point\n",
      "Discarded X point\n",
      "missdetection\n",
      "[ 5.42842089e-04 -8.60240323e-01  3.46380898e+02]\n"
     ]
    },
    {
     "name": "stderr",
     "output_type": "stream",
     "text": [
      "\r",
      "t:  82%|████████████████████████████████████████▊         | 980/1199 [04:35<00:58,  3.77it/s, now=None]"
     ]
    },
    {
     "name": "stdout",
     "output_type": "stream",
     "text": [
      "Discarded X point\n",
      "Discarded X point\n",
      "missdetection\n",
      "[ 5.43315277e-04 -8.61250541e-01  3.46815916e+02]\n"
     ]
    },
    {
     "name": "stderr",
     "output_type": "stream",
     "text": [
      "\r",
      "t:  82%|████████████████████████████████████████▉         | 981/1199 [04:35<00:58,  3.74it/s, now=None]"
     ]
    },
    {
     "name": "stdout",
     "output_type": "stream",
     "text": [
      "Discarded X point\n",
      "Discarded X point\n",
      "missdetection\n",
      "[ 5.42860045e-04 -8.60290254e-01  3.46403780e+02]\n",
      "missdetection\n",
      "[ 4.13112079e-04 -6.11761818e-01  2.19996007e+02]\n"
     ]
    },
    {
     "name": "stderr",
     "output_type": "stream",
     "text": [
      "\r",
      "t:  82%|████████████████████████████████████████▉         | 982/1199 [04:35<00:56,  3.84it/s, now=None]"
     ]
    },
    {
     "name": "stdout",
     "output_type": "stream",
     "text": [
      "Discarded X point\n",
      "Discarded X point\n",
      "missdetection\n",
      "[ 5.44067514e-04 -8.61943340e-01  3.46928533e+02]\n",
      "missdetection\n",
      "[ 1.07862708e-03 -1.36386925e+00  4.23287341e+02]\n"
     ]
    },
    {
     "name": "stderr",
     "output_type": "stream",
     "text": [
      "\r",
      "t:  82%|████████████████████████████████████████▉         | 983/1199 [04:36<00:55,  3.93it/s, now=None]"
     ]
    },
    {
     "name": "stdout",
     "output_type": "stream",
     "text": [
      "Discarded X point\n",
      "Discarded X point\n",
      "missdetection\n",
      "[ 5.44101723e-04 -8.62022864e-01  3.46963622e+02]\n",
      "missdetection\n",
      "[ 1.21661206e-03 -1.56421449e+00  4.95483253e+02]\n"
     ]
    },
    {
     "name": "stderr",
     "output_type": "stream",
     "text": [
      "\r",
      "t:  82%|█████████████████████████████████████████         | 984/1199 [04:36<00:54,  3.94it/s, now=None]"
     ]
    },
    {
     "name": "stdout",
     "output_type": "stream",
     "text": [
      "Discarded X point\n",
      "Discarded X point\n",
      "missdetection\n",
      "[ 5.44101723e-04 -8.62022864e-01  3.46963622e+02]\n",
      "missdetection\n",
      "[ 1.36935552e-03 -1.78897645e+00  5.77405528e+02]\n"
     ]
    },
    {
     "name": "stderr",
     "output_type": "stream",
     "text": [
      "\r",
      "t:  82%|█████████████████████████████████████████         | 985/1199 [04:36<00:54,  3.94it/s, now=None]"
     ]
    },
    {
     "name": "stdout",
     "output_type": "stream",
     "text": [
      "Discarded X point\n",
      "missdetection\n",
      "[-3.87172834e-04  6.53784349e-01 -2.62470309e+02]\n",
      "missdetection\n",
      "[ 1.53255256e-03 -2.02977438e+00  6.65370346e+02]\n"
     ]
    },
    {
     "name": "stderr",
     "output_type": "stream",
     "text": [
      "\r",
      "t:  82%|█████████████████████████████████████████         | 986/1199 [04:36<00:53,  3.98it/s, now=None]"
     ]
    },
    {
     "name": "stdout",
     "output_type": "stream",
     "text": [
      "Discarded X point\n",
      "Discarded X point\n",
      "missdetection\n",
      "[ 1.75336902e-03 -2.34949144e+00  7.80217386e+02]\n"
     ]
    },
    {
     "name": "stderr",
     "output_type": "stream",
     "text": [
      "\r",
      "t:  82%|█████████████████████████████████████████▏        | 987/1199 [04:37<00:53,  3.94it/s, now=None]"
     ]
    },
    {
     "name": "stdout",
     "output_type": "stream",
     "text": [
      "Discarded X point\n",
      "Discarded X point\n",
      "missdetection\n",
      "[ 1.09533505e-02 -1.30035732e+01  3.78471781e+03]\n",
      "missdetection\n",
      "[ 2.04854337e-03 -2.78388300e+00  9.39095613e+02]\n"
     ]
    },
    {
     "name": "stderr",
     "output_type": "stream",
     "text": [
      "\r",
      "t:  82%|█████████████████████████████████████████▏        | 988/1199 [04:37<00:52,  4.02it/s, now=None]"
     ]
    },
    {
     "name": "stdout",
     "output_type": "stream",
     "text": [
      "Discarded X point\n",
      "missdetection\n",
      "[-4.39603727e-04  7.47471725e-01 -3.20946854e+02]\n",
      "missdetection\n",
      "[ 2.04771787e-03 -2.78268053e+00  9.38952470e+02]\n"
     ]
    },
    {
     "name": "stderr",
     "output_type": "stream",
     "text": [
      "\r",
      "t:  82%|█████████████████████████████████████████▏        | 989/1199 [04:37<00:50,  4.13it/s, now=None]"
     ]
    },
    {
     "name": "stdout",
     "output_type": "stream",
     "text": [
      "Discarded X point\n",
      "Discarded X point\n",
      "missdetection\n",
      "[ 2.04771787e-03 -2.78268053e+00  9.38952470e+02]\n"
     ]
    },
    {
     "name": "stderr",
     "output_type": "stream",
     "text": [
      "\r",
      "t:  83%|█████████████████████████████████████████▎        | 990/1199 [04:37<00:52,  3.99it/s, now=None]"
     ]
    },
    {
     "name": "stdout",
     "output_type": "stream",
     "text": [
      "Discarded X point\n",
      "Discarded X point\n",
      "missdetection\n",
      "[-2.42528691e-03  2.66040735e+00 -7.55174471e+02]\n",
      "missdetection\n",
      "[ 2.04778281e-03 -2.78276818e+00  9.38952001e+02]\n"
     ]
    },
    {
     "name": "stderr",
     "output_type": "stream",
     "text": [
      "\r",
      "t:  83%|█████████████████████████████████████████▎        | 991/1199 [04:38<01:01,  3.38it/s, now=None]"
     ]
    },
    {
     "name": "stdout",
     "output_type": "stream",
     "text": [
      "Discarded X point\n",
      "missdetection\n",
      "[ 2.04793431e-03 -2.78297268e+00  9.38950908e+02]\n",
      "Reset by SanityCheck\n"
     ]
    },
    {
     "name": "stderr",
     "output_type": "stream",
     "text": [
      "\r",
      "t:  83%|█████████████████████████████████████████▎        | 992/1199 [04:38<01:02,  3.31it/s, now=None]"
     ]
    },
    {
     "name": "stdout",
     "output_type": "stream",
     "text": [
      "Discarded X point\n",
      "NO pixels with search around poly\n",
      "missdetection\n",
      "[-4.46242148e-04  6.92505234e-01 -2.94238738e+02]\n"
     ]
    },
    {
     "name": "stderr",
     "output_type": "stream",
     "text": [
      "\r",
      "t:  83%|█████████████████████████████████████████▍        | 993/1199 [04:38<01:00,  3.39it/s, now=None]"
     ]
    },
    {
     "name": "stdout",
     "output_type": "stream",
     "text": [
      "Discarded X point\n",
      "missdetection\n",
      "[-2.45521254e-04  4.90702513e-01 -2.36754070e+02]\n",
      "missdetection\n",
      "[ 2.04765294e-03 -2.78259289e+00  9.38952938e+02]\n"
     ]
    },
    {
     "name": "stderr",
     "output_type": "stream",
     "text": [
      "\r",
      "t:  83%|█████████████████████████████████████████▍        | 994/1199 [04:39<01:00,  3.38it/s, now=None]"
     ]
    },
    {
     "name": "stdout",
     "output_type": "stream",
     "text": [
      "Discarded X point\n",
      "missdetection\n",
      "[ 2.04765294e-03 -2.78259289e+00  9.38952938e+02]\n"
     ]
    },
    {
     "name": "stderr",
     "output_type": "stream",
     "text": [
      "\r",
      "t:  83%|█████████████████████████████████████████▍        | 995/1199 [04:39<01:02,  3.25it/s, now=None]"
     ]
    },
    {
     "name": "stdout",
     "output_type": "stream",
     "text": [
      "Discarded X point\n",
      "missdetection\n",
      "[ 1.61966434e-02 -1.95978332e+01  5.84499023e+03]\n",
      "missdetection\n",
      "[ 2.04765294e-03 -2.78259289e+00  9.38952938e+02]\n"
     ]
    },
    {
     "name": "stderr",
     "output_type": "stream",
     "text": [
      "\r",
      "t:  83%|█████████████████████████████████████████▌        | 996/1199 [04:39<01:01,  3.32it/s, now=None]"
     ]
    },
    {
     "name": "stdout",
     "output_type": "stream",
     "text": [
      "Discarded X point\n",
      "missdetection\n",
      "[ 6.59516961e-04 -8.61276757e-01  2.66117554e+02]\n",
      "missdetection\n",
      "[ 2.04765294e-03 -2.78259289e+00  9.38952938e+02]\n"
     ]
    },
    {
     "name": "stderr",
     "output_type": "stream",
     "text": [
      "\r",
      "t:  83%|█████████████████████████████████████████▌        | 997/1199 [04:39<00:58,  3.44it/s, now=None]"
     ]
    },
    {
     "name": "stdout",
     "output_type": "stream",
     "text": [
      "Discarded X point\n",
      "missdetection\n",
      "[ 7.88149478e-04 -1.08944512e+00  3.57886022e+02]\n",
      "missdetection\n",
      "[ 2.04765294e-03 -2.78259289e+00  9.38952938e+02]\n"
     ]
    },
    {
     "name": "stderr",
     "output_type": "stream",
     "text": [
      "\r",
      "t:  83%|█████████████████████████████████████████▌        | 998/1199 [04:40<00:56,  3.58it/s, now=None]"
     ]
    },
    {
     "name": "stdout",
     "output_type": "stream",
     "text": [
      "Discarded X point\n",
      "Discarded X point\n",
      "missdetection\n",
      "[ 7.48352758e-04 -1.06747939e+00  3.65835237e+02]\n",
      "missdetection\n",
      "[ 2.04765294e-03 -2.78259289e+00  9.38952938e+02]\n"
     ]
    },
    {
     "name": "stderr",
     "output_type": "stream",
     "text": [
      "\r",
      "t:  83%|█████████████████████████████████████████▋        | 999/1199 [04:40<00:56,  3.55it/s, now=None]"
     ]
    },
    {
     "name": "stdout",
     "output_type": "stream",
     "text": [
      "Discarded X point\n",
      "missdetection\n",
      "[ 7.28239727e-04 -1.09992961e+00  3.90634553e+02]\n",
      "missdetection\n",
      "[ 4.25034554e-04 -5.91819797e-01  2.00579835e+02]\n"
     ]
    },
    {
     "name": "stderr",
     "output_type": "stream",
     "text": [
      "\r",
      "t:  83%|████████████████████████████████████████▊        | 1000/1199 [04:40<00:54,  3.66it/s, now=None]"
     ]
    },
    {
     "name": "stdout",
     "output_type": "stream",
     "text": [
      "Discarded X point\n",
      "Discarded X point\n",
      "missdetection\n",
      "[ 7.04000001e-04 -9.99675313e-01  3.38345936e+02]\n"
     ]
    },
    {
     "name": "stderr",
     "output_type": "stream",
     "text": [
      "\r",
      "t:  83%|████████████████████████████████████████▉        | 1001/1199 [04:41<00:55,  3.55it/s, now=None]"
     ]
    },
    {
     "name": "stdout",
     "output_type": "stream",
     "text": [
      "Discarded X point\n",
      "missdetection\n",
      "[ 7.29814816e-04 -1.03263476e+00  3.40059218e+02]\n"
     ]
    },
    {
     "name": "stderr",
     "output_type": "stream",
     "text": [
      "\r",
      "t:  84%|████████████████████████████████████████▉        | 1002/1199 [04:41<00:54,  3.64it/s, now=None]"
     ]
    },
    {
     "name": "stdout",
     "output_type": "stream",
     "text": [
      "Discarded X point\n",
      "missdetection\n",
      "[ 7.11916116e-04 -1.02062109e+00  3.40834093e+02]\n"
     ]
    },
    {
     "name": "stderr",
     "output_type": "stream",
     "text": [
      "\r",
      "t:  84%|████████████████████████████████████████▉        | 1003/1199 [04:41<00:53,  3.68it/s, now=None]"
     ]
    },
    {
     "name": "stdout",
     "output_type": "stream",
     "text": [
      "Discarded X point\n",
      "missdetection\n",
      "[ 7.30618997e-04 -1.03813725e+00  3.44387339e+02]\n"
     ]
    },
    {
     "name": "stderr",
     "output_type": "stream",
     "text": [
      "\r",
      "t:  84%|█████████████████████████████████████████        | 1004/1199 [04:41<00:52,  3.74it/s, now=None]"
     ]
    },
    {
     "name": "stdout",
     "output_type": "stream",
     "text": [
      "Discarded X point\n",
      "missdetection\n",
      "[ 7.25076534e-04 -1.04008018e+00  3.42972544e+02]\n"
     ]
    },
    {
     "name": "stderr",
     "output_type": "stream",
     "text": [
      "\r",
      "t:  84%|█████████████████████████████████████████        | 1005/1199 [04:42<00:53,  3.65it/s, now=None]"
     ]
    },
    {
     "name": "stdout",
     "output_type": "stream",
     "text": [
      "Discarded X point\n",
      "missdetection\n",
      "[ 7.13781626e-04 -1.02347987e+00  3.37900736e+02]\n",
      "Reset by SanityCheck\n"
     ]
    },
    {
     "name": "stderr",
     "output_type": "stream",
     "text": [
      "\r",
      "t:  84%|█████████████████████████████████████████        | 1006/1199 [04:42<00:53,  3.61it/s, now=None]"
     ]
    },
    {
     "name": "stdout",
     "output_type": "stream",
     "text": [
      "Discarded X point\n",
      "NO pixels with search around poly\n",
      "missdetection\n",
      "[ 6.50229136e-03 -7.67394996e+00  2.13887466e+03]\n"
     ]
    },
    {
     "name": "stderr",
     "output_type": "stream",
     "text": [
      "\r",
      "t:  84%|█████████████████████████████████████████▏       | 1007/1199 [04:42<00:49,  3.89it/s, now=None]"
     ]
    },
    {
     "name": "stdout",
     "output_type": "stream",
     "text": [
      "Discarded X point\n",
      "missdetection\n",
      "[ 2.05736479e-03 -2.80392088e+00  9.47716354e+02]\n"
     ]
    },
    {
     "name": "stderr",
     "output_type": "stream",
     "text": [
      "\r",
      "t:  84%|█████████████████████████████████████████▏       | 1008/1199 [04:42<00:50,  3.81it/s, now=None]"
     ]
    },
    {
     "name": "stdout",
     "output_type": "stream",
     "text": [
      "Discarded X point\n",
      "missdetection\n",
      "[ 2.05736479e-03 -2.80392088e+00  9.47716354e+02]\n"
     ]
    },
    {
     "name": "stderr",
     "output_type": "stream",
     "text": [
      "\r",
      "t:  84%|█████████████████████████████████████████▏       | 1009/1199 [04:43<00:49,  3.81it/s, now=None]"
     ]
    },
    {
     "name": "stdout",
     "output_type": "stream",
     "text": [
      "Discarded X point\n",
      "missdetection\n",
      "[-2.74737945e-03  1.64731048e+00 -1.92812096e+02]\n",
      "missdetection\n",
      "[ 2.07796935e-03 -2.83173295e+00  9.47567652e+02]\n"
     ]
    },
    {
     "name": "stderr",
     "output_type": "stream",
     "text": [
      "\r",
      "t:  84%|█████████████████████████████████████████▎       | 1010/1199 [04:43<00:48,  3.88it/s, now=None]"
     ]
    },
    {
     "name": "stdout",
     "output_type": "stream",
     "text": [
      "Discarded X point\n"
     ]
    },
    {
     "name": "stderr",
     "output_type": "stream",
     "text": [
      "\r",
      "t:  84%|█████████████████████████████████████████▎       | 1011/1199 [04:43<00:47,  3.95it/s, now=None]"
     ]
    },
    {
     "name": "stdout",
     "output_type": "stream",
     "text": [
      "Discarded X point\n",
      "missdetection\n",
      "[-3.03612777e-03  2.40288759e+00 -3.19113810e+02]\n",
      "missdetection\n",
      "[-5.34969361e-03  4.74497047e+00 -1.07614510e+03]\n"
     ]
    },
    {
     "name": "stderr",
     "output_type": "stream",
     "text": [
      "\r",
      "t:  84%|█████████████████████████████████████████▎       | 1012/1199 [04:43<00:47,  3.94it/s, now=None]"
     ]
    },
    {
     "name": "stdout",
     "output_type": "stream",
     "text": [
      "Discarded X point\n",
      "missdetection\n",
      "[ 8.22215848e-04 -1.03192719e+00  3.15805740e+02]\n"
     ]
    },
    {
     "name": "stderr",
     "output_type": "stream",
     "text": [
      "\r",
      "t:  84%|█████████████████████████████████████████▍       | 1013/1199 [04:44<00:49,  3.78it/s, now=None]"
     ]
    },
    {
     "name": "stdout",
     "output_type": "stream",
     "text": [
      "Discarded X point\n",
      "missdetection\n",
      "[ 9.22989608e-03 -3.16333046e+00  2.83359240e+02]\n",
      "missdetection\n",
      "[ 1.43097336e-03 -1.91240226e+00  6.32832625e+02]\n"
     ]
    },
    {
     "name": "stderr",
     "output_type": "stream",
     "text": [
      "\r",
      "t:  85%|█████████████████████████████████████████▍       | 1014/1199 [04:44<00:48,  3.81it/s, now=None]"
     ]
    },
    {
     "name": "stdout",
     "output_type": "stream",
     "text": [
      "Discarded X point\n",
      "missdetection\n",
      "[ 9.11048630e-04 -1.23063211e+00  3.90676819e+02]\n",
      "missdetection\n",
      "[ 1.50053231e-03 -2.04498636e+00  6.81351614e+02]\n"
     ]
    },
    {
     "name": "stderr",
     "output_type": "stream",
     "text": [
      "\r",
      "t:  85%|█████████████████████████████████████████▍       | 1015/1199 [04:44<00:47,  3.87it/s, now=None]"
     ]
    },
    {
     "name": "stdout",
     "output_type": "stream",
     "text": [
      "Discarded X point\n",
      "missdetection\n",
      "[ 9.16243057e-04 -1.23764356e+00  3.90639331e+02]\n"
     ]
    },
    {
     "name": "stderr",
     "output_type": "stream",
     "text": [
      "\r",
      "t:  85%|█████████████████████████████████████████▌       | 1016/1199 [04:44<00:46,  3.91it/s, now=None]"
     ]
    },
    {
     "name": "stdout",
     "output_type": "stream",
     "text": [
      "Discarded X point\n",
      "missdetection\n",
      "[ 9.15377319e-04 -1.23647498e+00  3.90645579e+02]\n"
     ]
    },
    {
     "name": "stderr",
     "output_type": "stream",
     "text": [
      "\r",
      "t:  85%|█████████████████████████████████████████▌       | 1017/1199 [04:45<00:48,  3.75it/s, now=None]"
     ]
    },
    {
     "name": "stdout",
     "output_type": "stream",
     "text": [
      "Discarded X point\n",
      "missdetection\n",
      "[ 9.14273504e-04 -1.23498505e+00  3.90653545e+02]\n"
     ]
    },
    {
     "name": "stderr",
     "output_type": "stream",
     "text": [
      "\r",
      "t:  85%|█████████████████████████████████████████▌       | 1018/1199 [04:45<00:49,  3.62it/s, now=None]"
     ]
    },
    {
     "name": "stdout",
     "output_type": "stream",
     "text": [
      "Discarded X point\n",
      "missdetection\n",
      "[ 9.12953253e-04 -1.23320298e+00  3.90663074e+02]\n"
     ]
    },
    {
     "name": "stderr",
     "output_type": "stream",
     "text": [
      "\r",
      "t:  85%|█████████████████████████████████████████▋       | 1019/1199 [04:45<00:49,  3.62it/s, now=None]"
     ]
    },
    {
     "name": "stdout",
     "output_type": "stream",
     "text": [
      "Discarded X point\n",
      "Discarded X point\n",
      "missdetection\n",
      "[ 9.12758462e-04 -1.23294005e+00  3.90664479e+02]\n",
      "missdetection\n",
      "[-2.97818505e-03  3.45319098e+00 -9.75197742e+02]\n"
     ]
    },
    {
     "name": "stderr",
     "output_type": "stream",
     "text": [
      "\r",
      "t:  85%|█████████████████████████████████████████▋       | 1020/1199 [04:46<00:49,  3.64it/s, now=None]"
     ]
    },
    {
     "name": "stdout",
     "output_type": "stream",
     "text": [
      "Discarded X point\n",
      "Discarded X point\n",
      "missdetection\n",
      "[ 9.12823393e-04 -1.23302769e+00  3.90664011e+02]\n",
      "missdetection\n",
      "[ 1.08652441e-03 -1.40124201e+00  4.42577120e+02]\n"
     ]
    },
    {
     "name": "stderr",
     "output_type": "stream",
     "text": [
      "\r",
      "t:  85%|█████████████████████████████████████████▋       | 1021/1199 [04:46<00:47,  3.73it/s, now=None]"
     ]
    },
    {
     "name": "stdout",
     "output_type": "stream",
     "text": [
      "Discarded X point\n",
      "Discarded X point\n",
      "missdetection\n",
      "[ 9.13018184e-04 -1.23329062e+00  3.90662605e+02]\n"
     ]
    },
    {
     "name": "stderr",
     "output_type": "stream",
     "text": [
      "\r",
      "t:  85%|█████████████████████████████████████████▊       | 1022/1199 [04:46<00:49,  3.55it/s, now=None]"
     ]
    },
    {
     "name": "stdout",
     "output_type": "stream",
     "text": [
      "Discarded X point\n",
      "missdetection\n",
      "[-3.55093004e-04  5.28314960e-01 -2.20014432e+02]\n",
      "missdetection\n",
      "[-3.75607469e-03  4.37299296e+00 -1.23781623e+03]\n"
     ]
    },
    {
     "name": "stderr",
     "output_type": "stream",
     "text": [
      "t:  85%|█████████████████████████████████████████▊       | 1024/1199 [04:47<00:47,  3.69it/s, now=None]"
     ]
    },
    {
     "name": "stdout",
     "output_type": "stream",
     "text": [
      "Discarded X point\n",
      "Discarded X point\n",
      "missdetection\n",
      "[ 1.21056846e-03 -1.56366117e+00  4.20270226e+02]\n",
      "missdetection\n",
      "[ 2.27101291e-03 -1.06899127e+00  6.36434955e+00]\n"
     ]
    },
    {
     "name": "stderr",
     "output_type": "stream",
     "text": [
      "\r",
      "t:  85%|█████████████████████████████████████████▉       | 1025/1199 [04:47<00:47,  3.65it/s, now=None]"
     ]
    },
    {
     "name": "stdout",
     "output_type": "stream",
     "text": [
      "Discarded X point\n"
     ]
    },
    {
     "name": "stderr",
     "output_type": "stream",
     "text": [
      "\r",
      "t:  86%|█████████████████████████████████████████▉       | 1026/1199 [04:47<00:46,  3.76it/s, now=None]"
     ]
    },
    {
     "name": "stdout",
     "output_type": "stream",
     "text": [
      "Discarded X point\n",
      "Wrong separation between lines\n"
     ]
    },
    {
     "name": "stderr",
     "output_type": "stream",
     "text": [
      "\r",
      "t:  86%|█████████████████████████████████████████▉       | 1027/1199 [04:47<00:44,  3.89it/s, now=None]"
     ]
    },
    {
     "name": "stdout",
     "output_type": "stream",
     "text": [
      "Discarded X point\n",
      "Discarded X point\n"
     ]
    },
    {
     "name": "stderr",
     "output_type": "stream",
     "text": [
      "\r",
      "t:  86%|██████████████████████████████████████████       | 1028/1199 [04:48<00:43,  3.96it/s, now=None]"
     ]
    },
    {
     "name": "stdout",
     "output_type": "stream",
     "text": [
      "Discarded X point\n",
      "Wrong separation between lines\n"
     ]
    },
    {
     "name": "stderr",
     "output_type": "stream",
     "text": [
      "\r",
      "t:  86%|██████████████████████████████████████████       | 1029/1199 [04:48<00:43,  3.95it/s, now=None]"
     ]
    },
    {
     "name": "stdout",
     "output_type": "stream",
     "text": [
      "Discarded X point\n",
      "Discarded X point\n",
      "missdetection\n",
      "[ 4.81490378e-04 -6.28395864e-01  2.00933046e+02]\n"
     ]
    },
    {
     "name": "stderr",
     "output_type": "stream",
     "text": [
      "\r",
      "t:  86%|██████████████████████████████████████████       | 1030/1199 [04:48<00:42,  3.99it/s, now=None]"
     ]
    },
    {
     "name": "stdout",
     "output_type": "stream",
     "text": [
      "Discarded X point\n",
      "Discarded X point\n",
      "Wrong separation between lines\n"
     ]
    },
    {
     "name": "stderr",
     "output_type": "stream",
     "text": [
      "\r",
      "t:  86%|██████████████████████████████████████████▏      | 1031/1199 [04:48<00:40,  4.13it/s, now=None]"
     ]
    },
    {
     "name": "stdout",
     "output_type": "stream",
     "text": [
      "Discarded X point\n",
      "Discarded X point\n",
      "missdetection\n",
      "[ 7.75950494e-04 -1.02375398e+00  3.33616843e+02]\n"
     ]
    },
    {
     "name": "stderr",
     "output_type": "stream",
     "text": [
      "\r",
      "t:  86%|██████████████████████████████████████████▏      | 1032/1199 [04:49<00:41,  4.07it/s, now=None]"
     ]
    },
    {
     "name": "stdout",
     "output_type": "stream",
     "text": [
      "Discarded X point\n",
      "Wrong separation between lines\n"
     ]
    },
    {
     "name": "stderr",
     "output_type": "stream",
     "text": [
      "\r",
      "t:  86%|██████████████████████████████████████████▏      | 1033/1199 [04:49<00:41,  3.97it/s, now=None]"
     ]
    },
    {
     "name": "stdout",
     "output_type": "stream",
     "text": [
      "Discarded X point\n"
     ]
    },
    {
     "name": "stderr",
     "output_type": "stream",
     "text": [
      "\r",
      "t:  86%|██████████████████████████████████████████▎      | 1034/1199 [04:49<00:44,  3.73it/s, now=None]"
     ]
    },
    {
     "name": "stdout",
     "output_type": "stream",
     "text": [
      "missdetection\n",
      "[-4.39906497e-03  3.65836526e+00 -7.11965574e+02]\n"
     ]
    },
    {
     "name": "stderr",
     "output_type": "stream",
     "text": [
      "\r",
      "t:  86%|██████████████████████████████████████████▎      | 1035/1199 [04:50<00:45,  3.64it/s, now=None]"
     ]
    },
    {
     "name": "stdout",
     "output_type": "stream",
     "text": [
      "Discarded X point\n",
      "missdetection\n",
      "[-1.52656695e-03  1.21487974e+00 -2.00430568e+02]\n",
      "missdetection\n",
      "[ 6.21468186e-04 -8.88023645e-01  3.15475386e+02]\n"
     ]
    },
    {
     "name": "stderr",
     "output_type": "stream",
     "text": [
      "\r",
      "t:  86%|██████████████████████████████████████████▎      | 1036/1199 [04:50<00:45,  3.62it/s, now=None]"
     ]
    },
    {
     "name": "stdout",
     "output_type": "stream",
     "text": [
      "Discarded X point\n",
      "Discarded X point\n",
      "missdetection\n",
      "[ 1.20304288e-03 -1.69056357e+00  5.90859432e+02]\n"
     ]
    },
    {
     "name": "stderr",
     "output_type": "stream",
     "text": [
      "\r",
      "t:  86%|██████████████████████████████████████████▍      | 1037/1199 [04:50<00:46,  3.52it/s, now=None]"
     ]
    },
    {
     "name": "stdout",
     "output_type": "stream",
     "text": [
      "Discarded X point\n",
      "Discarded X point\n",
      "missdetection\n",
      "[-1.58722917e-03  1.07569678e+00 -7.64100805e+01]\n",
      "missdetection\n",
      "[ 1.92805067e-03 -2.61987377e+00  8.86732635e+02]\n"
     ]
    },
    {
     "name": "stderr",
     "output_type": "stream",
     "text": [
      "\r",
      "t:  87%|██████████████████████████████████████████▍      | 1038/1199 [04:50<00:45,  3.57it/s, now=None]"
     ]
    },
    {
     "name": "stdout",
     "output_type": "stream",
     "text": [
      "Discarded X point\n",
      "Discarded X point\n"
     ]
    },
    {
     "name": "stderr",
     "output_type": "stream",
     "text": [
      "\r",
      "t:  87%|██████████████████████████████████████████▍      | 1039/1199 [04:51<00:44,  3.60it/s, now=None]"
     ]
    },
    {
     "name": "stdout",
     "output_type": "stream",
     "text": [
      "Discarded X point\n",
      "missdetection\n",
      "[-2.16097114e-03  1.42542123e+00 -7.44344963e+01]\n",
      "missdetection\n",
      "[ 2.12196192e-03 -1.62292249e+00  2.06386046e+02]\n"
     ]
    },
    {
     "name": "stderr",
     "output_type": "stream",
     "text": [
      "\r",
      "t:  87%|██████████████████████████████████████████▌      | 1040/1199 [04:51<00:42,  3.78it/s, now=None]"
     ]
    },
    {
     "name": "stdout",
     "output_type": "stream",
     "text": [
      "missdetection\n",
      "[ 9.69397337e-05  2.01586472e-01 -2.06449307e+02]\n"
     ]
    },
    {
     "name": "stderr",
     "output_type": "stream",
     "text": [
      "\r",
      "t:  87%|██████████████████████████████████████████▌      | 1041/1199 [04:51<00:44,  3.51it/s, now=None]"
     ]
    },
    {
     "name": "stdout",
     "output_type": "stream",
     "text": [
      "Wrong separation between lines\n"
     ]
    },
    {
     "name": "stderr",
     "output_type": "stream",
     "text": [
      "\r",
      "t:  87%|██████████████████████████████████████████▌      | 1042/1199 [04:51<00:43,  3.57it/s, now=None]"
     ]
    },
    {
     "name": "stdout",
     "output_type": "stream",
     "text": [
      "missdetection\n",
      "[ 1.96122688e-03 -2.72618309e+00  9.47251246e+02]\n"
     ]
    },
    {
     "name": "stderr",
     "output_type": "stream",
     "text": [
      "t:  87%|██████████████████████████████████████████▋      | 1044/1199 [04:52<00:41,  3.70it/s, now=None]"
     ]
    },
    {
     "name": "stdout",
     "output_type": "stream",
     "text": [
      "missdetection\n",
      "[-5.38718013e-03  5.26254456e+00 -1.09213013e+03]\n"
     ]
    },
    {
     "name": "stderr",
     "output_type": "stream",
     "text": [
      "\r",
      "t:  87%|██████████████████████████████████████████▋      | 1045/1199 [04:52<00:40,  3.76it/s, now=None]"
     ]
    },
    {
     "name": "stdout",
     "output_type": "stream",
     "text": [
      "Discarded X point\n",
      "Wrong separation between lines\n"
     ]
    },
    {
     "name": "stderr",
     "output_type": "stream",
     "text": [
      "\r",
      "t:  87%|██████████████████████████████████████████▋      | 1046/1199 [04:52<00:39,  3.88it/s, now=None]"
     ]
    },
    {
     "name": "stdout",
     "output_type": "stream",
     "text": [
      "Discarded X point\n"
     ]
    },
    {
     "name": "stderr",
     "output_type": "stream",
     "text": [
      "\r",
      "t:  87%|██████████████████████████████████████████▊      | 1047/1199 [04:53<00:39,  3.83it/s, now=None]"
     ]
    },
    {
     "name": "stdout",
     "output_type": "stream",
     "text": [
      "Discarded X point\n",
      "Discarded X point\n",
      "Wrong separation between lines\n"
     ]
    },
    {
     "name": "stderr",
     "output_type": "stream",
     "text": [
      "\r",
      "t:  87%|██████████████████████████████████████████▊      | 1048/1199 [04:53<00:38,  3.88it/s, now=None]"
     ]
    },
    {
     "name": "stdout",
     "output_type": "stream",
     "text": [
      "Discarded X point\n",
      "missdetection\n",
      "[ 8.59773765e-04 -1.16686314e+00  3.85504258e+02]\n",
      "missdetection\n",
      "[ 7.10809638e-04 -9.29613321e-01  3.03508484e+02]\n"
     ]
    },
    {
     "name": "stderr",
     "output_type": "stream",
     "text": [
      "\r",
      "t:  87%|██████████████████████████████████████████▊      | 1049/1199 [04:53<00:37,  3.99it/s, now=None]"
     ]
    },
    {
     "name": "stdout",
     "output_type": "stream",
     "text": [
      "Discarded X point\n",
      "missdetection\n",
      "[ 8.96334993e-04 -1.21768511e+00  3.94172358e+02]\n"
     ]
    },
    {
     "name": "stderr",
     "output_type": "stream",
     "text": [
      "\r",
      "t:  88%|██████████████████████████████████████████▉      | 1050/1199 [04:54<00:38,  3.86it/s, now=None]"
     ]
    },
    {
     "name": "stdout",
     "output_type": "stream",
     "text": [
      "Discarded X point\n",
      "Wrong separation between lines\n"
     ]
    },
    {
     "name": "stderr",
     "output_type": "stream",
     "text": [
      "\r",
      "t:  88%|██████████████████████████████████████████▉      | 1051/1199 [04:54<00:39,  3.71it/s, now=None]"
     ]
    },
    {
     "name": "stdout",
     "output_type": "stream",
     "text": [
      "Discarded X point\n",
      "Discarded X point\n",
      "missdetection\n",
      "[ 8.62666597e-04 -1.14575855e+00  3.67479108e+02]\n"
     ]
    },
    {
     "name": "stderr",
     "output_type": "stream",
     "text": [
      "\r",
      "t:  88%|██████████████████████████████████████████▉      | 1052/1199 [04:54<00:40,  3.60it/s, now=None]"
     ]
    },
    {
     "name": "stdout",
     "output_type": "stream",
     "text": [
      "missdetection\n",
      "[ 1.03040910e-03 -1.44833224e+00  4.87785051e+02]\n",
      "missdetection\n",
      "[-2.55492757e-03  2.76116068e+00 -6.86937949e+02]\n"
     ]
    },
    {
     "name": "stderr",
     "output_type": "stream",
     "text": [
      "t:  88%|███████████████████████████████████████████      | 1054/1199 [04:55<00:40,  3.57it/s, now=None]"
     ]
    },
    {
     "name": "stdout",
     "output_type": "stream",
     "text": [
      "missdetection\n",
      "[ 1.76699562e-02 -1.95332572e+01  5.35600016e+03]\n"
     ]
    },
    {
     "name": "stderr",
     "output_type": "stream",
     "text": [
      "\r",
      "t:  88%|███████████████████████████████████████████      | 1055/1199 [04:55<00:40,  3.53it/s, now=None]"
     ]
    },
    {
     "name": "stdout",
     "output_type": "stream",
     "text": [
      "Discarded X point\n",
      "missdetection\n",
      "[ 9.32301769e-04 -1.26530415e+00  4.18598224e+02]\n"
     ]
    },
    {
     "name": "stderr",
     "output_type": "stream",
     "text": [
      "\r",
      "t:  88%|███████████████████████████████████████████▏     | 1056/1199 [04:55<00:39,  3.58it/s, now=None]"
     ]
    },
    {
     "name": "stdout",
     "output_type": "stream",
     "text": [
      "Discarded X point\n",
      "missdetection\n",
      "[ 1.07384980e-03 -1.57107224e+00  5.52007197e+02]\n"
     ]
    },
    {
     "name": "stderr",
     "output_type": "stream",
     "text": [
      "\r",
      "t:  88%|███████████████████████████████████████████▏     | 1057/1199 [04:56<00:40,  3.49it/s, now=None]"
     ]
    },
    {
     "name": "stdout",
     "output_type": "stream",
     "text": [
      "Discarded X point\n",
      "missdetection\n",
      "[ 9.73825008e-04 -1.45450592e+00  5.26014692e+02]\n"
     ]
    },
    {
     "name": "stderr",
     "output_type": "stream",
     "text": [
      "\r",
      "t:  88%|███████████████████████████████████████████▏     | 1058/1199 [04:56<00:40,  3.50it/s, now=None]"
     ]
    },
    {
     "name": "stdout",
     "output_type": "stream",
     "text": [
      "Discarded X point\n",
      "missdetection\n",
      "[ 7.81481421e-04 -1.03381903e+00  3.20098572e+02]\n"
     ]
    },
    {
     "name": "stderr",
     "output_type": "stream",
     "text": [
      "\r",
      "t:  88%|███████████████████████████████████████████▎     | 1059/1199 [04:56<00:40,  3.48it/s, now=None]"
     ]
    },
    {
     "name": "stdout",
     "output_type": "stream",
     "text": [
      "Discarded X point\n",
      "missdetection\n",
      "[ 1.01180916e-03 -1.33714766e+00  4.21767984e+02]\n"
     ]
    },
    {
     "name": "stderr",
     "output_type": "stream",
     "text": [
      "\r",
      "t:  88%|███████████████████████████████████████████▎     | 1060/1199 [04:56<00:39,  3.51it/s, now=None]"
     ]
    },
    {
     "name": "stdout",
     "output_type": "stream",
     "text": [
      "Discarded X point\n",
      "Discarded X point\n",
      "missdetection\n",
      "[ 1.04500013e-03 -1.38642068e+00  4.43252571e+02]\n"
     ]
    },
    {
     "name": "stderr",
     "output_type": "stream",
     "text": [
      "\r",
      "t:  88%|███████████████████████████████████████████▎     | 1061/1199 [04:57<00:38,  3.58it/s, now=None]"
     ]
    },
    {
     "name": "stdout",
     "output_type": "stream",
     "text": [
      "Discarded X point\n",
      "Discarded X point\n",
      "missdetection\n",
      "[-6.48253213e-04  1.02075688e+00 -4.09191521e+02]\n"
     ]
    },
    {
     "name": "stderr",
     "output_type": "stream",
     "text": [
      "\r",
      "t:  89%|███████████████████████████████████████████▍     | 1062/1199 [04:57<00:38,  3.60it/s, now=None]"
     ]
    },
    {
     "name": "stdout",
     "output_type": "stream",
     "text": [
      "Discarded X point\n",
      "missdetection\n",
      "[-4.05750297e-04  6.82648848e-01 -2.97443510e+02]\n"
     ]
    },
    {
     "name": "stderr",
     "output_type": "stream",
     "text": [
      "\r",
      "t:  89%|███████████████████████████████████████████▍     | 1063/1199 [04:57<00:37,  3.58it/s, now=None]"
     ]
    },
    {
     "name": "stdout",
     "output_type": "stream",
     "text": [
      "Discarded X point\n",
      "Discarded X point\n"
     ]
    },
    {
     "name": "stderr",
     "output_type": "stream",
     "text": [
      "\r",
      "t:  89%|███████████████████████████████████████████▍     | 1064/1199 [04:57<00:35,  3.78it/s, now=None]"
     ]
    },
    {
     "name": "stdout",
     "output_type": "stream",
     "text": [
      "Discarded X point\n",
      "Discarded X point\n",
      "missdetection\n",
      "[-3.71861691e-03  4.23196261e+00 -1.21088749e+03]\n",
      "missdetection\n",
      "[ 2.11978010e-03 -1.42644209e+00  2.31285522e+02]\n"
     ]
    },
    {
     "name": "stderr",
     "output_type": "stream",
     "text": [
      "\r",
      "t:  89%|███████████████████████████████████████████▌     | 1065/1199 [04:58<00:34,  3.92it/s, now=None]"
     ]
    },
    {
     "name": "stdout",
     "output_type": "stream",
     "text": [
      "missdetection\n",
      "[ 5.79322971e-04 -8.33997780e-01  2.90704398e+02]\n"
     ]
    },
    {
     "name": "stderr",
     "output_type": "stream",
     "text": [
      "\r",
      "t:  89%|███████████████████████████████████████████▌     | 1066/1199 [04:58<00:34,  3.85it/s, now=None]"
     ]
    },
    {
     "name": "stdout",
     "output_type": "stream",
     "text": [
      "missdetection\n",
      "[-5.68903788e-03  6.47816393e+00 -1.84195698e+03]\n",
      "missdetection\n",
      "[ 5.41001876e-04 -8.61532598e-01  3.32479800e+02]\n"
     ]
    },
    {
     "name": "stderr",
     "output_type": "stream",
     "text": [
      "\r",
      "t:  89%|███████████████████████████████████████████▌     | 1067/1199 [04:58<00:36,  3.66it/s, now=None]"
     ]
    },
    {
     "name": "stdout",
     "output_type": "stream",
     "text": [
      "Discarded X point\n",
      "missdetection\n",
      "[ 5.63296176e-04 -7.29702290e-01  2.23174835e+02]\n",
      "missdetection\n",
      "[ 5.00816339e-04 -8.16273946e-01  3.13953621e+02]\n"
     ]
    },
    {
     "name": "stderr",
     "output_type": "stream",
     "text": [
      "\r",
      "t:  89%|███████████████████████████████████████████▋     | 1068/1199 [04:59<00:38,  3.40it/s, now=None]"
     ]
    },
    {
     "name": "stdout",
     "output_type": "stream",
     "text": [
      "Discarded X point\n",
      "Wrong separation between lines\n"
     ]
    },
    {
     "name": "stderr",
     "output_type": "stream",
     "text": [
      "\r",
      "t:  89%|███████████████████████████████████████████▋     | 1069/1199 [04:59<00:39,  3.31it/s, now=None]"
     ]
    },
    {
     "name": "stdout",
     "output_type": "stream",
     "text": [
      "Discarded X point\n",
      "missdetection\n",
      "[ 5.96244766e-04 -9.04743516e-01  3.29527446e+02]\n"
     ]
    },
    {
     "name": "stderr",
     "output_type": "stream",
     "text": [
      "\r",
      "t:  89%|███████████████████████████████████████████▋     | 1070/1199 [04:59<00:40,  3.16it/s, now=None]"
     ]
    },
    {
     "name": "stdout",
     "output_type": "stream",
     "text": [
      "Discarded X point\n",
      "Discarded X point\n",
      "missdetection\n",
      "[ 8.16185717e-04 -9.33494072e-01  2.66956699e+02]\n"
     ]
    },
    {
     "name": "stderr",
     "output_type": "stream",
     "text": [
      "\r",
      "t:  89%|███████████████████████████████████████████▊     | 1071/1199 [05:00<00:42,  3.05it/s, now=None]"
     ]
    },
    {
     "name": "stdout",
     "output_type": "stream",
     "text": [
      "Discarded X point\n",
      "missdetection\n",
      "[ 9.79575202e-04 -1.32309441e+00  4.20926366e+02]\n"
     ]
    },
    {
     "name": "stderr",
     "output_type": "stream",
     "text": [
      "\r",
      "t:  89%|███████████████████████████████████████████▊     | 1072/1199 [05:00<00:42,  2.96it/s, now=None]"
     ]
    },
    {
     "name": "stdout",
     "output_type": "stream",
     "text": [
      "Discarded X point\n"
     ]
    },
    {
     "name": "stderr",
     "output_type": "stream",
     "text": [
      "\r",
      "t:  89%|███████████████████████████████████████████▊     | 1073/1199 [05:00<00:40,  3.14it/s, now=None]"
     ]
    },
    {
     "name": "stdout",
     "output_type": "stream",
     "text": [
      "Discarded X point\n",
      "Wrong separation between lines\n"
     ]
    },
    {
     "name": "stderr",
     "output_type": "stream",
     "text": [
      "t:  90%|███████████████████████████████████████████▉     | 1075/1199 [05:01<00:36,  3.42it/s, now=None]"
     ]
    },
    {
     "name": "stdout",
     "output_type": "stream",
     "text": [
      "Wrong separation between lines\n"
     ]
    },
    {
     "name": "stderr",
     "output_type": "stream",
     "text": [
      "\r",
      "t:  90%|███████████████████████████████████████████▉     | 1076/1199 [05:01<00:35,  3.50it/s, now=None]"
     ]
    },
    {
     "name": "stdout",
     "output_type": "stream",
     "text": [
      "missdetection\n",
      "[-4.37615341e-04  7.30641708e-01 -3.16002505e+02]\n"
     ]
    },
    {
     "name": "stderr",
     "output_type": "stream",
     "text": [
      "\r",
      "t:  90%|████████████████████████████████████████████     | 1077/1199 [05:01<00:34,  3.50it/s, now=None]"
     ]
    },
    {
     "name": "stdout",
     "output_type": "stream",
     "text": [
      "Discarded X point\n",
      "missdetection\n",
      "[-4.98083617e-04  7.06983223e-01 -2.69609977e+02]\n"
     ]
    },
    {
     "name": "stderr",
     "output_type": "stream",
     "text": [
      "\r",
      "t:  90%|████████████████████████████████████████████     | 1078/1199 [05:02<00:34,  3.55it/s, now=None]"
     ]
    },
    {
     "name": "stdout",
     "output_type": "stream",
     "text": [
      "Discarded X point\n",
      "missdetection\n",
      "[-5.34829964e-04  6.84949551e-01 -2.37067398e+02]\n"
     ]
    },
    {
     "name": "stderr",
     "output_type": "stream",
     "text": [
      "\r",
      "t:  90%|████████████████████████████████████████████     | 1079/1199 [05:02<00:34,  3.53it/s, now=None]"
     ]
    },
    {
     "name": "stdout",
     "output_type": "stream",
     "text": [
      "Discarded X point\n",
      "Discarded X point\n",
      "Wrong separation between lines\n"
     ]
    },
    {
     "name": "stderr",
     "output_type": "stream",
     "text": [
      "\r",
      "t:  90%|████████████████████████████████████████████▏    | 1080/1199 [05:02<00:32,  3.66it/s, now=None]"
     ]
    },
    {
     "name": "stdout",
     "output_type": "stream",
     "text": [
      "Discarded X point\n",
      "Wrong separation between lines\n"
     ]
    },
    {
     "name": "stderr",
     "output_type": "stream",
     "text": [
      "\r",
      "t:  90%|████████████████████████████████████████████▏    | 1081/1199 [05:02<00:31,  3.75it/s, now=None]"
     ]
    },
    {
     "name": "stdout",
     "output_type": "stream",
     "text": [
      "Discarded X point\n",
      "Wrong separation between lines\n"
     ]
    },
    {
     "name": "stderr",
     "output_type": "stream",
     "text": [
      "\r",
      "t:  90%|████████████████████████████████████████████▏    | 1082/1199 [05:03<00:30,  3.79it/s, now=None]"
     ]
    },
    {
     "name": "stdout",
     "output_type": "stream",
     "text": [
      "Wrong separation between lines\n"
     ]
    },
    {
     "name": "stderr",
     "output_type": "stream",
     "text": [
      "\r",
      "t:  90%|████████████████████████████████████████████▎    | 1083/1199 [05:03<00:31,  3.74it/s, now=None]"
     ]
    },
    {
     "name": "stdout",
     "output_type": "stream",
     "text": [
      "Wrong separation between lines\n"
     ]
    },
    {
     "name": "stderr",
     "output_type": "stream",
     "text": [
      "\r",
      "t:  90%|████████████████████████████████████████████▎    | 1084/1199 [05:03<00:29,  3.85it/s, now=None]"
     ]
    },
    {
     "name": "stdout",
     "output_type": "stream",
     "text": [
      "Wrong separation between lines\n"
     ]
    },
    {
     "name": "stderr",
     "output_type": "stream",
     "text": [
      "\r",
      "t:  90%|████████████████████████████████████████████▎    | 1085/1199 [05:03<00:28,  3.94it/s, now=None]"
     ]
    },
    {
     "name": "stdout",
     "output_type": "stream",
     "text": [
      "Wrong separation between lines\n",
      "Discarded X point\n"
     ]
    },
    {
     "name": "stderr",
     "output_type": "stream",
     "text": [
      "\r",
      "t:  91%|████████████████████████████████████████████▍    | 1086/1199 [05:04<00:28,  4.00it/s, now=None]"
     ]
    },
    {
     "name": "stdout",
     "output_type": "stream",
     "text": [
      "Wrong separation between lines\n"
     ]
    },
    {
     "name": "stderr",
     "output_type": "stream",
     "text": [
      "\r",
      "t:  91%|████████████████████████████████████████████▍    | 1087/1199 [05:04<00:28,  3.96it/s, now=None]"
     ]
    },
    {
     "name": "stdout",
     "output_type": "stream",
     "text": [
      "Discarded X point\n",
      "Wrong separation between lines\n"
     ]
    },
    {
     "name": "stderr",
     "output_type": "stream",
     "text": [
      "\r",
      "t:  91%|████████████████████████████████████████████▍    | 1088/1199 [05:04<00:27,  4.03it/s, now=None]"
     ]
    },
    {
     "name": "stdout",
     "output_type": "stream",
     "text": [
      "Discarded X point\n",
      "Wrong separation between lines\n"
     ]
    },
    {
     "name": "stderr",
     "output_type": "stream",
     "text": [
      "\r",
      "t:  91%|████████████████████████████████████████████▌    | 1089/1199 [05:04<00:27,  4.03it/s, now=None]"
     ]
    },
    {
     "name": "stdout",
     "output_type": "stream",
     "text": [
      "Discarded X point\n"
     ]
    },
    {
     "name": "stderr",
     "output_type": "stream",
     "text": [
      "\r",
      "t:  91%|████████████████████████████████████████████▌    | 1090/1199 [05:05<00:27,  3.94it/s, now=None]"
     ]
    },
    {
     "name": "stdout",
     "output_type": "stream",
     "text": [
      "Discarded X point\n",
      "missdetection\n",
      "[-2.06877877e-03  1.95504659e+00 -4.27916359e+02]\n"
     ]
    },
    {
     "name": "stderr",
     "output_type": "stream",
     "text": [
      "\r",
      "t:  91%|████████████████████████████████████████████▌    | 1091/1199 [05:05<00:30,  3.60it/s, now=None]"
     ]
    },
    {
     "name": "stdout",
     "output_type": "stream",
     "text": [
      "Discarded X point\n"
     ]
    },
    {
     "name": "stderr",
     "output_type": "stream",
     "text": [
      "\r",
      "t:  91%|████████████████████████████████████████████▋    | 1092/1199 [05:05<00:30,  3.49it/s, now=None]"
     ]
    },
    {
     "name": "stdout",
     "output_type": "stream",
     "text": [
      "Wrong separation between lines\n"
     ]
    },
    {
     "name": "stderr",
     "output_type": "stream",
     "text": [
      "\r",
      "t:  91%|████████████████████████████████████████████▋    | 1093/1199 [05:06<00:30,  3.51it/s, now=None]"
     ]
    },
    {
     "name": "stdout",
     "output_type": "stream",
     "text": [
      "Discarded X point\n"
     ]
    },
    {
     "name": "stderr",
     "output_type": "stream",
     "text": [
      "\r",
      "t:  91%|████████████████████████████████████████████▋    | 1094/1199 [05:06<00:29,  3.57it/s, now=None]"
     ]
    },
    {
     "name": "stdout",
     "output_type": "stream",
     "text": [
      "Discarded X point\n",
      "Wrong separation between lines\n"
     ]
    },
    {
     "name": "stderr",
     "output_type": "stream",
     "text": [
      "\r",
      "t:  91%|████████████████████████████████████████████▋    | 1095/1199 [05:06<00:28,  3.63it/s, now=None]"
     ]
    },
    {
     "name": "stdout",
     "output_type": "stream",
     "text": [
      "Discarded X point\n",
      "Wrong separation between lines\n"
     ]
    },
    {
     "name": "stderr",
     "output_type": "stream",
     "text": [
      "\r",
      "t:  91%|████████████████████████████████████████████▊    | 1096/1199 [05:06<00:27,  3.71it/s, now=None]"
     ]
    },
    {
     "name": "stdout",
     "output_type": "stream",
     "text": [
      "Discarded X point\n"
     ]
    },
    {
     "name": "stderr",
     "output_type": "stream",
     "text": [
      "\r",
      "t:  91%|████████████████████████████████████████████▊    | 1097/1199 [05:07<00:29,  3.47it/s, now=None]"
     ]
    },
    {
     "name": "stdout",
     "output_type": "stream",
     "text": [
      "Wrong separation between lines\n"
     ]
    },
    {
     "name": "stderr",
     "output_type": "stream",
     "text": [
      "\r",
      "t:  92%|████████████████████████████████████████████▊    | 1098/1199 [05:07<00:27,  3.68it/s, now=None]"
     ]
    },
    {
     "name": "stdout",
     "output_type": "stream",
     "text": [
      "Discarded X point\n"
     ]
    },
    {
     "name": "stderr",
     "output_type": "stream",
     "text": [
      "\r",
      "t:  92%|████████████████████████████████████████████▉    | 1099/1199 [05:07<00:27,  3.67it/s, now=None]"
     ]
    },
    {
     "name": "stdout",
     "output_type": "stream",
     "text": [
      "Discarded X point\n"
     ]
    },
    {
     "name": "stderr",
     "output_type": "stream",
     "text": [
      "\r",
      "t:  92%|████████████████████████████████████████████▉    | 1100/1199 [05:07<00:26,  3.68it/s, now=None]"
     ]
    },
    {
     "name": "stdout",
     "output_type": "stream",
     "text": [
      "Discarded X point\n"
     ]
    },
    {
     "name": "stderr",
     "output_type": "stream",
     "text": [
      "\r",
      "t:  92%|████████████████████████████████████████████▉    | 1101/1199 [05:08<00:27,  3.59it/s, now=None]"
     ]
    },
    {
     "name": "stdout",
     "output_type": "stream",
     "text": [
      "Discarded X point\n"
     ]
    },
    {
     "name": "stderr",
     "output_type": "stream",
     "text": [
      "\r",
      "t:  92%|█████████████████████████████████████████████    | 1102/1199 [05:08<00:27,  3.55it/s, now=None]"
     ]
    },
    {
     "name": "stdout",
     "output_type": "stream",
     "text": [
      "Discarded X point\n",
      "Discarded X point\n"
     ]
    },
    {
     "name": "stderr",
     "output_type": "stream",
     "text": [
      "\r",
      "t:  92%|█████████████████████████████████████████████    | 1103/1199 [05:08<00:26,  3.57it/s, now=None]"
     ]
    },
    {
     "name": "stdout",
     "output_type": "stream",
     "text": [
      "Discarded X point\n",
      "Discarded X point\n"
     ]
    },
    {
     "name": "stderr",
     "output_type": "stream",
     "text": [
      "\r",
      "t:  92%|█████████████████████████████████████████████    | 1104/1199 [05:09<00:26,  3.55it/s, now=None]"
     ]
    },
    {
     "name": "stdout",
     "output_type": "stream",
     "text": [
      "Discarded X point\n",
      "Discarded X point\n",
      "Wrong separation between lines\n"
     ]
    },
    {
     "name": "stderr",
     "output_type": "stream",
     "text": [
      "\r",
      "t:  92%|█████████████████████████████████████████████▏   | 1105/1199 [05:09<00:25,  3.66it/s, now=None]"
     ]
    },
    {
     "name": "stdout",
     "output_type": "stream",
     "text": [
      "Discarded X point\n",
      "Discarded X point\n"
     ]
    },
    {
     "name": "stderr",
     "output_type": "stream",
     "text": [
      "\r",
      "t:  92%|█████████████████████████████████████████████▏   | 1106/1199 [05:09<00:26,  3.55it/s, now=None]"
     ]
    },
    {
     "name": "stdout",
     "output_type": "stream",
     "text": [
      "Discarded X point\n",
      "Discarded X point\n",
      "Wrong separation between lines\n"
     ]
    },
    {
     "name": "stderr",
     "output_type": "stream",
     "text": [
      "\r",
      "t:  92%|█████████████████████████████████████████████▏   | 1107/1199 [05:09<00:24,  3.70it/s, now=None]"
     ]
    },
    {
     "name": "stdout",
     "output_type": "stream",
     "text": [
      "Discarded X point\n",
      "Discarded X point\n"
     ]
    },
    {
     "name": "stderr",
     "output_type": "stream",
     "text": [
      "\r",
      "t:  92%|█████████████████████████████████████████████▎   | 1108/1199 [05:10<00:24,  3.76it/s, now=None]"
     ]
    },
    {
     "name": "stdout",
     "output_type": "stream",
     "text": [
      "Discarded X point\n",
      "Wrong separation between lines\n"
     ]
    },
    {
     "name": "stderr",
     "output_type": "stream",
     "text": [
      "\r",
      "t:  92%|█████████████████████████████████████████████▎   | 1109/1199 [05:10<00:23,  3.81it/s, now=None]"
     ]
    },
    {
     "name": "stdout",
     "output_type": "stream",
     "text": [
      "Discarded X point\n"
     ]
    },
    {
     "name": "stderr",
     "output_type": "stream",
     "text": [
      "\r",
      "t:  93%|█████████████████████████████████████████████▎   | 1110/1199 [05:10<00:24,  3.64it/s, now=None]"
     ]
    },
    {
     "name": "stdout",
     "output_type": "stream",
     "text": [
      "Discarded X point\n"
     ]
    },
    {
     "name": "stderr",
     "output_type": "stream",
     "text": [
      "\r",
      "t:  93%|█████████████████████████████████████████████▍   | 1111/1199 [05:11<00:24,  3.64it/s, now=None]"
     ]
    },
    {
     "name": "stdout",
     "output_type": "stream",
     "text": [
      "Discarded X point\n",
      "Discarded X point\n"
     ]
    },
    {
     "name": "stderr",
     "output_type": "stream",
     "text": [
      "\r",
      "t:  93%|█████████████████████████████████████████████▍   | 1112/1199 [05:11<00:24,  3.62it/s, now=None]"
     ]
    },
    {
     "name": "stdout",
     "output_type": "stream",
     "text": [
      "Discarded X point\n",
      "Discarded X point\n"
     ]
    },
    {
     "name": "stderr",
     "output_type": "stream",
     "text": [
      "\r",
      "t:  93%|█████████████████████████████████████████████▍   | 1113/1199 [05:11<00:23,  3.64it/s, now=None]"
     ]
    },
    {
     "name": "stdout",
     "output_type": "stream",
     "text": [
      "Discarded X point\n",
      "Discarded X point\n"
     ]
    },
    {
     "name": "stderr",
     "output_type": "stream",
     "text": [
      "\r",
      "t:  93%|█████████████████████████████████████████████▌   | 1114/1199 [05:11<00:22,  3.72it/s, now=None]"
     ]
    },
    {
     "name": "stdout",
     "output_type": "stream",
     "text": [
      "Discarded X point\n",
      "Wrong separation between lines\n"
     ]
    },
    {
     "name": "stderr",
     "output_type": "stream",
     "text": [
      "\r",
      "t:  93%|█████████████████████████████████████████████▌   | 1115/1199 [05:12<00:22,  3.80it/s, now=None]"
     ]
    },
    {
     "name": "stdout",
     "output_type": "stream",
     "text": [
      "Discarded X point\n"
     ]
    },
    {
     "name": "stderr",
     "output_type": "stream",
     "text": [
      "\r",
      "t:  93%|█████████████████████████████████████████████▌   | 1116/1199 [05:12<00:22,  3.76it/s, now=None]"
     ]
    },
    {
     "name": "stdout",
     "output_type": "stream",
     "text": [
      "Discarded X point\n",
      "Wrong separation between lines\n"
     ]
    },
    {
     "name": "stderr",
     "output_type": "stream",
     "text": [
      "\r",
      "t:  93%|█████████████████████████████████████████████▋   | 1117/1199 [05:12<00:21,  3.81it/s, now=None]"
     ]
    },
    {
     "name": "stdout",
     "output_type": "stream",
     "text": [
      "Discarded X point\n",
      "Discarded X point\n",
      "missdetection\n",
      "[ 7.50026828e-04 -9.53886759e-01  2.99125013e+02]\n"
     ]
    },
    {
     "name": "stderr",
     "output_type": "stream",
     "text": [
      "\r",
      "t:  93%|█████████████████████████████████████████████▋   | 1118/1199 [05:12<00:21,  3.74it/s, now=None]"
     ]
    },
    {
     "name": "stdout",
     "output_type": "stream",
     "text": [
      "Discarded X point\n",
      "missdetection\n",
      "[ 1.76247335e-03 -2.38124873e+00  8.00768266e+02]\n"
     ]
    },
    {
     "name": "stderr",
     "output_type": "stream",
     "text": [
      "\r",
      "t:  93%|█████████████████████████████████████████████▋   | 1119/1199 [05:13<00:20,  3.91it/s, now=None]"
     ]
    },
    {
     "name": "stdout",
     "output_type": "stream",
     "text": [
      "Discarded X point\n",
      "Wrong separation between lines\n"
     ]
    },
    {
     "name": "stderr",
     "output_type": "stream",
     "text": [
      "\r",
      "t:  93%|█████████████████████████████████████████████▊   | 1120/1199 [05:13<00:20,  3.77it/s, now=None]"
     ]
    },
    {
     "name": "stdout",
     "output_type": "stream",
     "text": [
      "Discarded X point\n",
      "missdetection\n",
      "[ 1.76235073e-03 -2.38104672e+00  8.00717597e+02]\n"
     ]
    },
    {
     "name": "stderr",
     "output_type": "stream",
     "text": [
      "\r",
      "t:  93%|█████████████████████████████████████████████▊   | 1121/1199 [05:13<00:20,  3.83it/s, now=None]"
     ]
    },
    {
     "name": "stdout",
     "output_type": "stream",
     "text": [
      "Discarded X point\n",
      "Wrong separation between lines\n"
     ]
    },
    {
     "name": "stderr",
     "output_type": "stream",
     "text": [
      "\r",
      "t:  94%|█████████████████████████████████████████████▊   | 1122/1199 [05:13<00:19,  3.87it/s, now=None]"
     ]
    },
    {
     "name": "stdout",
     "output_type": "stream",
     "text": [
      "Discarded X point\n"
     ]
    },
    {
     "name": "stderr",
     "output_type": "stream",
     "text": [
      "\r",
      "t:  94%|█████████████████████████████████████████████▉   | 1123/1199 [05:14<00:19,  3.87it/s, now=None]"
     ]
    },
    {
     "name": "stdout",
     "output_type": "stream",
     "text": [
      "Discarded X point\n",
      "Discarded X point\n",
      "missdetection\n",
      "[-1.05457747e-04  1.00453118e+00 -3.43791972e+01]\n"
     ]
    },
    {
     "name": "stderr",
     "output_type": "stream",
     "text": [
      "\r",
      "t:  94%|█████████████████████████████████████████████▉   | 1124/1199 [05:14<00:20,  3.70it/s, now=None]"
     ]
    },
    {
     "name": "stdout",
     "output_type": "stream",
     "text": [
      "Discarded X point\n",
      "Discarded X point\n",
      "missdetection\n",
      "[ 3.09361461e-03 -1.57495755e+00  2.49011289e+02]\n"
     ]
    },
    {
     "name": "stderr",
     "output_type": "stream",
     "text": [
      "\r",
      "t:  94%|█████████████████████████████████████████████▉   | 1125/1199 [05:14<00:20,  3.64it/s, now=None]"
     ]
    },
    {
     "name": "stdout",
     "output_type": "stream",
     "text": [
      "Discarded X point\n",
      "Discarded X point\n",
      "Wrong separation between lines\n"
     ]
    },
    {
     "name": "stderr",
     "output_type": "stream",
     "text": [
      "\r",
      "t:  94%|██████████████████████████████████████████████   | 1126/1199 [05:14<00:19,  3.80it/s, now=None]"
     ]
    },
    {
     "name": "stdout",
     "output_type": "stream",
     "text": [
      "Discarded X point\n",
      "Discarded X point\n",
      "missdetection\n",
      "[ 9.05372170e-04 -1.19888351e+00  3.88950679e+02]\n"
     ]
    },
    {
     "name": "stderr",
     "output_type": "stream",
     "text": [
      "\r",
      "t:  94%|██████████████████████████████████████████████   | 1127/1199 [05:15<00:19,  3.74it/s, now=None]"
     ]
    },
    {
     "name": "stdout",
     "output_type": "stream",
     "text": [
      "Discarded X point\n",
      "Discarded X point\n",
      "missdetection\n",
      "[ 1.00464839e-03 -1.36428943e+00  4.54841666e+02]\n"
     ]
    },
    {
     "name": "stderr",
     "output_type": "stream",
     "text": [
      "\r",
      "t:  94%|██████████████████████████████████████████████   | 1128/1199 [05:15<00:19,  3.56it/s, now=None]"
     ]
    },
    {
     "name": "stdout",
     "output_type": "stream",
     "text": [
      "Discarded X point\n",
      "Discarded X point\n",
      "missdetection\n",
      "[ 1.03149292e-03 -1.41045752e+00  4.73723746e+02]\n"
     ]
    },
    {
     "name": "stderr",
     "output_type": "stream",
     "text": [
      "\r",
      "t:  94%|██████████████████████████████████████████████▏  | 1129/1199 [05:15<00:20,  3.48it/s, now=None]"
     ]
    },
    {
     "name": "stdout",
     "output_type": "stream",
     "text": [
      "Discarded X point\n",
      "Discarded X point\n",
      "missdetection\n",
      "[ 1.04828586e-03 -1.44213910e+00  4.87388469e+02]\n"
     ]
    },
    {
     "name": "stderr",
     "output_type": "stream",
     "text": [
      "\r",
      "t:  94%|██████████████████████████████████████████████▏  | 1130/1199 [05:16<00:19,  3.52it/s, now=None]"
     ]
    },
    {
     "name": "stdout",
     "output_type": "stream",
     "text": [
      "Discarded X point\n",
      "Discarded X point\n",
      "Wrong separation between lines\n"
     ]
    },
    {
     "name": "stderr",
     "output_type": "stream",
     "text": [
      "\r",
      "t:  94%|██████████████████████████████████████████████▏  | 1131/1199 [05:16<00:18,  3.64it/s, now=None]"
     ]
    },
    {
     "name": "stdout",
     "output_type": "stream",
     "text": [
      "Discarded X point\n",
      "Discarded X point\n",
      "missdetection\n",
      "[ 1.84986836e-03 -2.49050822e+00  8.34253523e+02]\n"
     ]
    },
    {
     "name": "stderr",
     "output_type": "stream",
     "text": [
      "\r",
      "t:  94%|██████████████████████████████████████████████▎  | 1132/1199 [05:16<00:18,  3.68it/s, now=None]"
     ]
    },
    {
     "name": "stdout",
     "output_type": "stream",
     "text": [
      "Discarded X point\n",
      "missdetection\n",
      "[ 1.84986836e-03 -2.49050822e+00  8.34253523e+02]\n"
     ]
    },
    {
     "name": "stderr",
     "output_type": "stream",
     "text": [
      "\r",
      "t:  94%|██████████████████████████████████████████████▎  | 1133/1199 [05:16<00:17,  3.68it/s, now=None]"
     ]
    },
    {
     "name": "stdout",
     "output_type": "stream",
     "text": [
      "Discarded X point\n",
      "missdetection\n",
      "[ 1.84993329e-03 -2.49059587e+00  8.34253055e+02]\n"
     ]
    },
    {
     "name": "stderr",
     "output_type": "stream",
     "text": [
      "\r",
      "t:  95%|██████████████████████████████████████████████▎  | 1134/1199 [05:17<00:17,  3.75it/s, now=None]"
     ]
    },
    {
     "name": "stdout",
     "output_type": "stream",
     "text": [
      "Discarded X point\n",
      "Discarded X point\n",
      "missdetection\n",
      "[ 1.84993329e-03 -2.49059587e+00  8.34253055e+02]\n"
     ]
    },
    {
     "name": "stderr",
     "output_type": "stream",
     "text": [
      "\r",
      "t:  95%|██████████████████████████████████████████████▍  | 1135/1199 [05:17<00:16,  3.79it/s, now=None]"
     ]
    },
    {
     "name": "stdout",
     "output_type": "stream",
     "text": [
      "Discarded X point\n",
      "Discarded X point\n",
      "Wrong separation between lines\n"
     ]
    },
    {
     "name": "stderr",
     "output_type": "stream",
     "text": [
      "\r",
      "t:  95%|██████████████████████████████████████████████▍  | 1136/1199 [05:17<00:16,  3.88it/s, now=None]"
     ]
    },
    {
     "name": "stdout",
     "output_type": "stream",
     "text": [
      "Discarded X point\n",
      "Discarded X point\n"
     ]
    },
    {
     "name": "stderr",
     "output_type": "stream",
     "text": [
      "\r",
      "t:  95%|██████████████████████████████████████████████▍  | 1137/1199 [05:17<00:16,  3.67it/s, now=None]"
     ]
    },
    {
     "name": "stdout",
     "output_type": "stream",
     "text": [
      "Discarded X point\n",
      "Discarded X point\n",
      "Wrong separation between lines\n"
     ]
    },
    {
     "name": "stderr",
     "output_type": "stream",
     "text": [
      "\r",
      "t:  95%|██████████████████████████████████████████████▌  | 1138/1199 [05:18<00:16,  3.75it/s, now=None]"
     ]
    },
    {
     "name": "stdout",
     "output_type": "stream",
     "text": [
      "Discarded X point\n",
      "Discarded X point\n"
     ]
    },
    {
     "name": "stderr",
     "output_type": "stream",
     "text": [
      "\r",
      "t:  95%|██████████████████████████████████████████████▌  | 1139/1199 [05:18<00:15,  3.77it/s, now=None]"
     ]
    },
    {
     "name": "stdout",
     "output_type": "stream",
     "text": [
      "Discarded X point\n",
      "missdetection\n",
      "[-1.99973860e-03  1.24618470e+00 -1.03535783e+02]\n"
     ]
    },
    {
     "name": "stderr",
     "output_type": "stream",
     "text": [
      "\r",
      "t:  95%|██████████████████████████████████████████████▌  | 1140/1199 [05:18<00:15,  3.69it/s, now=None]"
     ]
    },
    {
     "name": "stdout",
     "output_type": "stream",
     "text": [
      "Discarded X point\n"
     ]
    },
    {
     "name": "stderr",
     "output_type": "stream",
     "text": [
      "\r",
      "t:  95%|██████████████████████████████████████████████▋  | 1141/1199 [05:19<00:15,  3.65it/s, now=None]"
     ]
    },
    {
     "name": "stdout",
     "output_type": "stream",
     "text": [
      "Discarded X point\n",
      "Discarded X point\n",
      "Wrong separation between lines\n"
     ]
    },
    {
     "name": "stderr",
     "output_type": "stream",
     "text": [
      "\r",
      "t:  95%|██████████████████████████████████████████████▋  | 1142/1199 [05:19<00:15,  3.74it/s, now=None]"
     ]
    },
    {
     "name": "stdout",
     "output_type": "stream",
     "text": [
      "Discarded X point\n",
      "Discarded X point\n"
     ]
    },
    {
     "name": "stderr",
     "output_type": "stream",
     "text": [
      "\r",
      "t:  95%|██████████████████████████████████████████████▋  | 1143/1199 [05:19<00:14,  3.74it/s, now=None]"
     ]
    },
    {
     "name": "stdout",
     "output_type": "stream",
     "text": [
      "Discarded X point\n",
      "Discarded X point\n",
      "missdetection\n",
      "[ 9.59508476e-03 -1.48669811e+00  5.42557462e+01]\n",
      "missdetection\n",
      "[-3.96741424e-03  1.12584706e+00 -9.99564978e+00]\n"
     ]
    },
    {
     "name": "stderr",
     "output_type": "stream",
     "text": [
      "\r",
      "t:  95%|██████████████████████████████████████████████▊  | 1144/1199 [05:19<00:14,  3.80it/s, now=None]"
     ]
    },
    {
     "name": "stdout",
     "output_type": "stream",
     "text": [
      "Discarded X point\n"
     ]
    },
    {
     "name": "stderr",
     "output_type": "stream",
     "text": [
      "\r",
      "t:  95%|██████████████████████████████████████████████▊  | 1145/1199 [05:20<00:14,  3.74it/s, now=None]"
     ]
    },
    {
     "name": "stdout",
     "output_type": "stream",
     "text": [
      "Discarded X point\n",
      "Wrong separation between lines\n"
     ]
    },
    {
     "name": "stderr",
     "output_type": "stream",
     "text": [
      "\r",
      "t:  96%|██████████████████████████████████████████████▊  | 1146/1199 [05:20<00:13,  3.79it/s, now=None]"
     ]
    },
    {
     "name": "stdout",
     "output_type": "stream",
     "text": [
      "Discarded X point\n"
     ]
    },
    {
     "name": "stderr",
     "output_type": "stream",
     "text": [
      "\r",
      "t:  96%|██████████████████████████████████████████████▊  | 1147/1199 [05:20<00:14,  3.68it/s, now=None]"
     ]
    },
    {
     "name": "stdout",
     "output_type": "stream",
     "text": [
      "Discarded X point\n",
      "Discarded X point\n",
      "Wrong separation between lines\n"
     ]
    },
    {
     "name": "stderr",
     "output_type": "stream",
     "text": [
      "\r",
      "t:  96%|██████████████████████████████████████████████▉  | 1148/1199 [05:20<00:13,  3.76it/s, now=None]"
     ]
    },
    {
     "name": "stdout",
     "output_type": "stream",
     "text": [
      "Discarded X point\n",
      "Discarded X point\n",
      "missdetection\n",
      "[ 1.88789914e-03 -2.48580116e+00  8.16564128e+02]\n"
     ]
    },
    {
     "name": "stderr",
     "output_type": "stream",
     "text": [
      "\r",
      "t:  96%|██████████████████████████████████████████████▉  | 1149/1199 [05:21<00:13,  3.62it/s, now=None]"
     ]
    },
    {
     "name": "stdout",
     "output_type": "stream",
     "text": [
      "Discarded X point\n",
      "Discarded X point\n",
      "missdetection\n",
      "[ 1.88789914e-03 -2.48580116e+00  8.16564128e+02]\n"
     ]
    },
    {
     "name": "stderr",
     "output_type": "stream",
     "text": [
      "\r",
      "t:  96%|██████████████████████████████████████████████▉  | 1150/1199 [05:21<00:13,  3.62it/s, now=None]"
     ]
    },
    {
     "name": "stdout",
     "output_type": "stream",
     "text": [
      "Discarded X point\n",
      "Discarded X point\n",
      "missdetection\n",
      "[ 1.88789914e-03 -2.48580116e+00  8.16564128e+02]\n"
     ]
    },
    {
     "name": "stderr",
     "output_type": "stream",
     "text": [
      "\r",
      "t:  96%|███████████████████████████████████████████████  | 1151/1199 [05:21<00:13,  3.57it/s, now=None]"
     ]
    },
    {
     "name": "stdout",
     "output_type": "stream",
     "text": [
      "Discarded X point\n",
      "Discarded X point\n",
      "missdetection\n",
      "[ 1.88789914e-03 -2.48580116e+00  8.16564128e+02]\n"
     ]
    },
    {
     "name": "stderr",
     "output_type": "stream",
     "text": [
      "\r",
      "t:  96%|███████████████████████████████████████████████  | 1152/1199 [05:22<00:13,  3.55it/s, now=None]"
     ]
    },
    {
     "name": "stdout",
     "output_type": "stream",
     "text": [
      "Discarded X point\n",
      "Discarded X point\n",
      "missdetection\n",
      "[ 1.88789914e-03 -2.48580116e+00  8.16564128e+02]\n"
     ]
    },
    {
     "name": "stderr",
     "output_type": "stream",
     "text": [
      "\r",
      "t:  96%|███████████████████████████████████████████████  | 1153/1199 [05:22<00:13,  3.46it/s, now=None]"
     ]
    },
    {
     "name": "stdout",
     "output_type": "stream",
     "text": [
      "Discarded X point\n",
      "Discarded X point\n",
      "missdetection\n",
      "[ 1.88789914e-03 -2.48580116e+00  8.16564128e+02]\n"
     ]
    },
    {
     "name": "stderr",
     "output_type": "stream",
     "text": [
      "\r",
      "t:  96%|███████████████████████████████████████████████▏ | 1154/1199 [05:22<00:12,  3.48it/s, now=None]"
     ]
    },
    {
     "name": "stdout",
     "output_type": "stream",
     "text": [
      "Discarded X point\n",
      "Discarded X point\n",
      "missdetection\n",
      "[ 1.88789914e-03 -2.48580116e+00  8.16564128e+02]\n"
     ]
    },
    {
     "name": "stderr",
     "output_type": "stream",
     "text": [
      "\r",
      "t:  96%|███████████████████████████████████████████████▏ | 1155/1199 [05:22<00:12,  3.48it/s, now=None]"
     ]
    },
    {
     "name": "stdout",
     "output_type": "stream",
     "text": [
      "Discarded X point\n",
      "Discarded X point\n",
      "missdetection\n",
      "[ 3.41626819e-03 -1.31632842e+00  7.12695016e+01]\n"
     ]
    },
    {
     "name": "stderr",
     "output_type": "stream",
     "text": [
      "\r",
      "t:  96%|███████████████████████████████████████████████▏ | 1156/1199 [05:23<00:12,  3.40it/s, now=None]"
     ]
    },
    {
     "name": "stdout",
     "output_type": "stream",
     "text": [
      "Discarded X point\n",
      "Discarded X point\n"
     ]
    },
    {
     "name": "stderr",
     "output_type": "stream",
     "text": [
      "\r",
      "t:  96%|███████████████████████████████████████████████▎ | 1157/1199 [05:23<00:12,  3.43it/s, now=None]"
     ]
    },
    {
     "name": "stdout",
     "output_type": "stream",
     "text": [
      "Discarded X point\n",
      "Discarded X point\n",
      "missdetection\n",
      "[ 3.59127372e-03 -1.27912412e+00  5.34275390e+01]\n"
     ]
    },
    {
     "name": "stderr",
     "output_type": "stream",
     "text": [
      "\r",
      "t:  97%|███████████████████████████████████████████████▎ | 1158/1199 [05:23<00:12,  3.37it/s, now=None]"
     ]
    },
    {
     "name": "stdout",
     "output_type": "stream",
     "text": [
      "Discarded X point\n",
      "Wrong separation between lines\n"
     ]
    },
    {
     "name": "stderr",
     "output_type": "stream",
     "text": [
      "\r",
      "t:  97%|███████████████████████████████████████████████▎ | 1159/1199 [05:24<00:11,  3.50it/s, now=None]"
     ]
    },
    {
     "name": "stdout",
     "output_type": "stream",
     "text": [
      "Discarded X point\n",
      "Wrong separation between lines\n"
     ]
    },
    {
     "name": "stderr",
     "output_type": "stream",
     "text": [
      "\r",
      "t:  97%|███████████████████████████████████████████████▍ | 1160/1199 [05:24<00:10,  3.58it/s, now=None]"
     ]
    },
    {
     "name": "stdout",
     "output_type": "stream",
     "text": [
      "Discarded X point\n",
      "Wrong separation between lines\n"
     ]
    },
    {
     "name": "stderr",
     "output_type": "stream",
     "text": [
      "\r",
      "t:  97%|███████████████████████████████████████████████▍ | 1161/1199 [05:24<00:10,  3.62it/s, now=None]"
     ]
    },
    {
     "name": "stdout",
     "output_type": "stream",
     "text": [
      "Wrong separation between lines\n"
     ]
    },
    {
     "name": "stderr",
     "output_type": "stream",
     "text": [
      "\r",
      "t:  97%|███████████████████████████████████████████████▍ | 1162/1199 [05:24<00:10,  3.60it/s, now=None]"
     ]
    },
    {
     "name": "stdout",
     "output_type": "stream",
     "text": [
      "Wrong separation between lines\n"
     ]
    },
    {
     "name": "stderr",
     "output_type": "stream",
     "text": [
      "\r",
      "t:  97%|███████████████████████████████████████████████▌ | 1163/1199 [05:25<00:09,  3.68it/s, now=None]"
     ]
    },
    {
     "name": "stdout",
     "output_type": "stream",
     "text": [
      "Wrong separation between lines\n"
     ]
    },
    {
     "name": "stderr",
     "output_type": "stream",
     "text": [
      "\r",
      "t:  97%|███████████████████████████████████████████████▌ | 1164/1199 [05:25<00:09,  3.66it/s, now=None]"
     ]
    },
    {
     "name": "stdout",
     "output_type": "stream",
     "text": [
      "Wrong separation between lines\n"
     ]
    },
    {
     "name": "stderr",
     "output_type": "stream",
     "text": [
      "\r",
      "t:  97%|███████████████████████████████████████████████▌ | 1165/1199 [05:25<00:09,  3.62it/s, now=None]"
     ]
    },
    {
     "name": "stdout",
     "output_type": "stream",
     "text": [
      "Wrong separation between lines\n"
     ]
    },
    {
     "name": "stderr",
     "output_type": "stream",
     "text": [
      "\r",
      "t:  97%|███████████████████████████████████████████████▋ | 1166/1199 [05:26<00:09,  3.64it/s, now=None]"
     ]
    },
    {
     "name": "stdout",
     "output_type": "stream",
     "text": [
      "Wrong separation between lines\n"
     ]
    },
    {
     "name": "stderr",
     "output_type": "stream",
     "text": [
      "\r",
      "t:  97%|███████████████████████████████████████████████▋ | 1167/1199 [05:26<00:08,  3.72it/s, now=None]"
     ]
    },
    {
     "name": "stdout",
     "output_type": "stream",
     "text": [
      "missdetection\n",
      "[-2.48139732e-04  5.65941764e-01 -2.87419640e+02]\n"
     ]
    },
    {
     "name": "stderr",
     "output_type": "stream",
     "text": [
      "\r",
      "t:  97%|███████████████████████████████████████████████▋ | 1168/1199 [05:26<00:08,  3.71it/s, now=None]"
     ]
    },
    {
     "name": "stdout",
     "output_type": "stream",
     "text": [
      "missdetection\n",
      "[-2.09931582e-04  5.23108472e-01 -2.76295684e+02]\n"
     ]
    },
    {
     "name": "stderr",
     "output_type": "stream",
     "text": [
      "\r",
      "t:  97%|███████████████████████████████████████████████▊ | 1169/1199 [05:26<00:08,  3.57it/s, now=None]"
     ]
    },
    {
     "name": "stdout",
     "output_type": "stream",
     "text": [
      "Wrong separation between lines\n"
     ]
    },
    {
     "name": "stderr",
     "output_type": "stream",
     "text": [
      "\r",
      "t:  98%|███████████████████████████████████████████████▊ | 1170/1199 [05:27<00:08,  3.54it/s, now=None]"
     ]
    },
    {
     "name": "stdout",
     "output_type": "stream",
     "text": [
      "Wrong separation between lines\n"
     ]
    },
    {
     "name": "stderr",
     "output_type": "stream",
     "text": [
      "\r",
      "t:  98%|███████████████████████████████████████████████▊ | 1171/1199 [05:27<00:08,  3.42it/s, now=None]"
     ]
    },
    {
     "name": "stdout",
     "output_type": "stream",
     "text": [
      "Wrong separation between lines\n"
     ]
    },
    {
     "name": "stderr",
     "output_type": "stream",
     "text": [
      "\r",
      "t:  98%|███████████████████████████████████████████████▉ | 1172/1199 [05:27<00:07,  3.55it/s, now=None]"
     ]
    },
    {
     "name": "stdout",
     "output_type": "stream",
     "text": [
      "Wrong separation between lines\n"
     ]
    },
    {
     "name": "stderr",
     "output_type": "stream",
     "text": [
      "\r",
      "t:  98%|███████████████████████████████████████████████▉ | 1173/1199 [05:27<00:07,  3.58it/s, now=None]"
     ]
    },
    {
     "name": "stdout",
     "output_type": "stream",
     "text": [
      "Wrong separation between lines\n"
     ]
    },
    {
     "name": "stderr",
     "output_type": "stream",
     "text": [
      "\r",
      "t:  98%|███████████████████████████████████████████████▉ | 1174/1199 [05:28<00:06,  3.60it/s, now=None]"
     ]
    },
    {
     "name": "stdout",
     "output_type": "stream",
     "text": [
      "Wrong separation between lines\n"
     ]
    },
    {
     "name": "stderr",
     "output_type": "stream",
     "text": [
      "\r",
      "t:  98%|████████████████████████████████████████████████ | 1175/1199 [05:28<00:06,  3.61it/s, now=None]"
     ]
    },
    {
     "name": "stdout",
     "output_type": "stream",
     "text": [
      "Wrong separation between lines\n"
     ]
    },
    {
     "name": "stderr",
     "output_type": "stream",
     "text": [
      "\r",
      "t:  98%|████████████████████████████████████████████████ | 1176/1199 [05:28<00:06,  3.64it/s, now=None]"
     ]
    },
    {
     "name": "stdout",
     "output_type": "stream",
     "text": [
      "Wrong separation between lines\n"
     ]
    },
    {
     "name": "stderr",
     "output_type": "stream",
     "text": [
      "\r",
      "t:  98%|████████████████████████████████████████████████ | 1177/1199 [05:29<00:06,  3.63it/s, now=None]"
     ]
    },
    {
     "name": "stdout",
     "output_type": "stream",
     "text": [
      "Wrong separation between lines\n"
     ]
    },
    {
     "name": "stderr",
     "output_type": "stream",
     "text": [
      "\r",
      "t:  98%|████████████████████████████████████████████████▏| 1178/1199 [05:29<00:05,  3.58it/s, now=None]"
     ]
    },
    {
     "name": "stdout",
     "output_type": "stream",
     "text": [
      "Wrong separation between lines\n"
     ]
    },
    {
     "name": "stderr",
     "output_type": "stream",
     "text": [
      "\r",
      "t:  98%|████████████████████████████████████████████████▏| 1179/1199 [05:29<00:05,  3.69it/s, now=None]"
     ]
    },
    {
     "name": "stdout",
     "output_type": "stream",
     "text": [
      "Wrong separation between lines\n"
     ]
    },
    {
     "name": "stderr",
     "output_type": "stream",
     "text": [
      "\r",
      "t:  98%|████████████████████████████████████████████████▏| 1180/1199 [05:29<00:05,  3.68it/s, now=None]"
     ]
    },
    {
     "name": "stdout",
     "output_type": "stream",
     "text": [
      "Wrong separation between lines\n"
     ]
    },
    {
     "name": "stderr",
     "output_type": "stream",
     "text": [
      "\r",
      "t:  98%|████████████████████████████████████████████████▎| 1181/1199 [05:30<00:04,  3.71it/s, now=None]"
     ]
    },
    {
     "name": "stdout",
     "output_type": "stream",
     "text": [
      "Wrong separation between lines\n"
     ]
    },
    {
     "name": "stderr",
     "output_type": "stream",
     "text": [
      "\r",
      "t:  99%|████████████████████████████████████████████████▎| 1182/1199 [05:30<00:04,  3.68it/s, now=None]"
     ]
    },
    {
     "name": "stdout",
     "output_type": "stream",
     "text": [
      "Wrong separation between lines\n"
     ]
    },
    {
     "name": "stderr",
     "output_type": "stream",
     "text": [
      "\r",
      "t:  99%|████████████████████████████████████████████████▎| 1183/1199 [05:30<00:04,  3.77it/s, now=None]"
     ]
    },
    {
     "name": "stdout",
     "output_type": "stream",
     "text": [
      "Wrong separation between lines\n"
     ]
    },
    {
     "name": "stderr",
     "output_type": "stream",
     "text": [
      "\r",
      "t:  99%|████████████████████████████████████████████████▍| 1184/1199 [05:30<00:03,  3.78it/s, now=None]"
     ]
    },
    {
     "name": "stdout",
     "output_type": "stream",
     "text": [
      "Discarded X point\n"
     ]
    },
    {
     "name": "stderr",
     "output_type": "stream",
     "text": [
      "\r",
      "t:  99%|████████████████████████████████████████████████▍| 1185/1199 [05:31<00:03,  3.76it/s, now=None]"
     ]
    },
    {
     "name": "stdout",
     "output_type": "stream",
     "text": [
      "Discarded X point\n",
      "missdetection\n",
      "[-1.10610313e-03  1.06906286e+00 -2.59017473e+02]\n"
     ]
    },
    {
     "name": "stderr",
     "output_type": "stream",
     "text": [
      "\r",
      "t:  99%|████████████████████████████████████████████████▍| 1186/1199 [05:31<00:03,  3.67it/s, now=None]"
     ]
    },
    {
     "name": "stdout",
     "output_type": "stream",
     "text": [
      "Discarded X point\n",
      "Wrong separation between lines\n"
     ]
    },
    {
     "name": "stderr",
     "output_type": "stream",
     "text": [
      "\r",
      "t:  99%|████████████████████████████████████████████████▌| 1187/1199 [05:31<00:03,  3.72it/s, now=None]"
     ]
    },
    {
     "name": "stdout",
     "output_type": "stream",
     "text": [
      "Discarded X point\n",
      "Wrong separation between lines\n"
     ]
    },
    {
     "name": "stderr",
     "output_type": "stream",
     "text": [
      "t:  99%|████████████████████████████████████████████████▌| 1189/1199 [05:32<00:02,  3.72it/s, now=None]"
     ]
    },
    {
     "name": "stdout",
     "output_type": "stream",
     "text": [
      "missdetection\n",
      "[-8.04135406e-03  6.34874749e+00 -1.27288833e+03]\n"
     ]
    },
    {
     "name": "stderr",
     "output_type": "stream",
     "text": [
      "\r",
      "t:  99%|████████████████████████████████████████████████▋| 1190/1199 [05:32<00:02,  3.70it/s, now=None]"
     ]
    },
    {
     "name": "stdout",
     "output_type": "stream",
     "text": [
      "missdetection\n",
      "[ 1.24406480e-03 -1.22301236e+00  2.67833709e+02]\n"
     ]
    },
    {
     "name": "stderr",
     "output_type": "stream",
     "text": [
      "\r",
      "t:  99%|████████████████████████████████████████████████▋| 1191/1199 [05:32<00:02,  3.72it/s, now=None]"
     ]
    },
    {
     "name": "stdout",
     "output_type": "stream",
     "text": [
      "missdetection\n",
      "[-8.69522037e-04  9.68178318e-01 -2.84684426e+02]\n"
     ]
    },
    {
     "name": "stderr",
     "output_type": "stream",
     "text": [
      "\r",
      "t:  99%|████████████████████████████████████████████████▋| 1192/1199 [05:33<00:01,  3.68it/s, now=None]"
     ]
    },
    {
     "name": "stdout",
     "output_type": "stream",
     "text": [
      "missdetection\n",
      "[ 1.06078858e-03 -1.22934769e+00  3.09843553e+02]\n"
     ]
    },
    {
     "name": "stderr",
     "output_type": "stream",
     "text": [
      "\r",
      "t:  99%|████████████████████████████████████████████████▊| 1193/1199 [05:33<00:01,  3.56it/s, now=None]"
     ]
    },
    {
     "name": "stdout",
     "output_type": "stream",
     "text": [
      "missdetection\n",
      "[-1.08067303e-03  1.23702447e+00 -3.67597481e+02]\n"
     ]
    },
    {
     "name": "stderr",
     "output_type": "stream",
     "text": [
      "\r",
      "t: 100%|████████████████████████████████████████████████▊| 1194/1199 [05:33<00:01,  3.56it/s, now=None]"
     ]
    },
    {
     "name": "stdout",
     "output_type": "stream",
     "text": [
      "missdetection\n",
      "[ 2.15581015e-03 -2.12215210e+00  4.77403631e+02]\n"
     ]
    },
    {
     "name": "stderr",
     "output_type": "stream",
     "text": [
      "t: 100%|████████████████████████████████████████████████▉| 1196/1199 [05:34<00:00,  3.58it/s, now=None]"
     ]
    },
    {
     "name": "stdout",
     "output_type": "stream",
     "text": [
      "missdetection\n",
      "[ 1.29036442e-03 -1.60184749e+00  4.49166373e+02]\n"
     ]
    },
    {
     "name": "stderr",
     "output_type": "stream",
     "text": [
      "\r",
      "t: 100%|████████████████████████████████████████████████▉| 1197/1199 [05:34<00:00,  3.51it/s, now=None]"
     ]
    },
    {
     "name": "stdout",
     "output_type": "stream",
     "text": [
      "Wrong separation between lines\n"
     ]
    },
    {
     "name": "stderr",
     "output_type": "stream",
     "text": [
      "t: 100%|█████████████████████████████████████████████████| 1199/1199 [05:35<00:00,  3.67it/s, now=None]"
     ]
    },
    {
     "name": "stdout",
     "output_type": "stream",
     "text": [
      "Wrong separation between lines\n"
     ]
    },
    {
     "name": "stderr",
     "output_type": "stream",
     "text": [
      "                                                                                                       \r"
     ]
    },
    {
     "name": "stdout",
     "output_type": "stream",
     "text": [
      "Moviepy - Done !\n",
      "Moviepy - video ready output_videos/harder_challenge_video.mp4\n",
      "Wall time: 5min 37s\n"
     ]
    }
   ],
   "source": [
    "# Instanciate cLine classes\n",
    "lineLeft = Line()\n",
    "lineRight = Line()\n",
    "\n",
    "\n",
    "harder_challenge_output = 'output_videos/harder_challenge_video.mp4'\n",
    "clip3 = VideoFileClip(\"test_videos/harder_challenge_video.mp4\")\n",
    "\n",
    "harder_challenge_clip = clip3.fl_image(process_frame) #NOTE: this function expects color images!!\n",
    "%time harder_challenge_clip.write_videofile(harder_challenge_output, audio=False)"
   ]
  },
  {
   "cell_type": "code",
   "execution_count": 8,
   "id": "1f55179c",
   "metadata": {
    "scrolled": false
   },
   "outputs": [
    {
     "data": {
      "text/html": [
       "\n",
       "<video width=\"960\" height=\"540\" controls>\n",
       "  <source src=\"output_videos/harder_challenge_video.mp4\">\n",
       "</video>\n"
      ],
      "text/plain": [
       "<IPython.core.display.HTML object>"
      ]
     },
     "execution_count": 8,
     "metadata": {},
     "output_type": "execute_result"
    }
   ],
   "source": [
    "HTML(\"\"\"\n",
    "<video width=\"960\" height=\"540\" controls>\n",
    "  <source src=\"{0}\">\n",
    "</video>\n",
    "\"\"\".format(harder_challenge_output))"
   ]
  },
  {
   "cell_type": "markdown",
   "id": "38d10baf",
   "metadata": {},
   "source": [
    "## Helper code"
   ]
  },
  {
   "cell_type": "code",
   "execution_count": 9,
   "id": "68fa74bc",
   "metadata": {},
   "outputs": [],
   "source": [
    "#for i in range(1,10):\n",
    "#    clip2.save_frame(\"test_video_frames/challenge_{}s.png\".format(i), t=i) # saves the frame a t=xs"
   ]
  }
 ],
 "metadata": {
  "kernelspec": {
   "display_name": "Python 3",
   "language": "python",
   "name": "python3"
  },
  "language_info": {
   "codemirror_mode": {
    "name": "ipython",
    "version": 3
   },
   "file_extension": ".py",
   "mimetype": "text/x-python",
   "name": "python",
   "nbconvert_exporter": "python",
   "pygments_lexer": "ipython3",
   "version": "3.8.8"
  }
 },
 "nbformat": 4,
 "nbformat_minor": 5
}
