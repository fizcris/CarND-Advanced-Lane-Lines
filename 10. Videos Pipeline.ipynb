{
 "cells": [
  {
   "cell_type": "markdown",
   "id": "b13d48ba",
   "metadata": {},
   "source": [
    "# Videos Pipeline"
   ]
  },
  {
   "cell_type": "code",
   "execution_count": 1,
   "id": "853e34a9",
   "metadata": {},
   "outputs": [
    {
     "name": "stderr",
     "output_type": "stream",
     "text": [
      "[NbConvertApp] Converting notebook 0. Functions_Clases Pipeline.ipynb to script\n",
      "[NbConvertApp] Writing 20607 bytes to 0. Functions_Clases Pipeline.py\n"
     ]
    }
   ],
   "source": [
    "# Import everything needed to edit/save/watch video clips\n",
    "from moviepy.editor import VideoFileClip\n",
    "from IPython.display import HTML\n",
    "\n",
    "# load helper functions\n",
    "%run -i \"0. Functions_Clases Pipeline.py\"\n",
    "%run -i \"Line.py\"\n",
    "\n",
    "# Load Camera calibration params\n",
    "[ret, mtx, dist, rvecs, tvecs] = pickle.load(open( \"pickle_data/camera_calibration_params.p\", \"rb\" ) )\n"
   ]
  },
  {
   "cell_type": "code",
   "execution_count": 2,
   "id": "32dad634",
   "metadata": {},
   "outputs": [],
   "source": [
    "def process_frame(img):\n",
    "    \n",
    "    ###### Resize image\n",
    "    img = resizeImage(img)\n",
    "\n",
    "    ###### Undistort image\n",
    "    undistorted = undistort_image(img, mtx, dist)\n",
    "  \n",
    "    ###### Color Enhancement\n",
    "\n",
    "    imageCE = colorEnhancement(img)\n",
    "   \n",
    "    ###### GrayScale\n",
    "    imageGray = grayscale(imageCE)\n",
    "\n",
    "\n",
    "    ###### Gauss Smoothing\n",
    "    imageGauss = gaussian_blur(imageGray,kernel_size=5) \n",
    "    \n",
    "    #### Edge detection\n",
    "    sbinary = sobel_thresh(imageGauss, sobel_kernel=5, x_thresh=[80,100], y_thresh=[40,100], \n",
    "                           mag_thresh=[50,255], dir_thresh=[100,200])\n",
    "\n",
    "    #### ROI\n",
    "    ysize =sbinary.shape[0]\n",
    "    xsize =sbinary.shape[1]\n",
    "\n",
    "    ROI_upperWidth = 280 #Width of the upper horizontal straight in px\n",
    "    ROI_upperHeight = 260 #Height of the upper horizontal straight from the bottom of the image in px\n",
    "    ROI_lowerWidth = 950 #Width of the lower horizontal straight in px\n",
    "    ROI_lowerHeight = 50  #Height of the lower horizontal straight  from the bottom of the image in px      \n",
    "\n",
    "    limitLL = ((xsize/2)-(ROI_lowerWidth/2),ysize-ROI_lowerHeight);\n",
    "    limitLR = (xsize - ((xsize/2)-(ROI_lowerWidth/2)),ysize-ROI_lowerHeight);\n",
    "    limitUL = ((xsize/2)-(ROI_upperWidth/2), ysize-ROI_upperHeight);\n",
    "    limitUR = ((xsize/2)+(ROI_upperWidth/2), ysize-ROI_upperHeight);\n",
    "    vertices = np.array([[limitLL,limitUL,limitUR , limitLR]], dtype=np.int32)\n",
    "    \n",
    "    imageROI = region_of_interest(sbinary,vertices,)\n",
    "\n",
    "    \n",
    "    #### Perspective transform\n",
    "    warped_img,M, Minv = warp_image(imageROI, hwidth = 250 ,offset = 0, height = -800, )\n",
    "    \n",
    "    #### Find lines\n",
    "    \n",
    "    # Find x line poitns based on histogram values\n",
    "    leftx_base, rightx_base  = find_lane_x_points(warped_img)\n",
    "    \n",
    "    # Update x base points\n",
    "    lineLeft.updateXbase(leftx_base)\n",
    "    lineRight.updateXbase(rightx_base)\n",
    "    \n",
    "    \n",
    "    ## Find pixels\n",
    "    ### Left line\n",
    "    if lineLeft.missdetections > 0 or np.any((lineLeft.recent_poly_fits == 0)):\n",
    "        # Find lane pixels\n",
    "        leftx, lefty, rightx, righty, out_img = find_lane_pixels(warped_img, lineLeft.bestx, \n",
    "                                                                 lineRight.bestx, showRectangles = False)\n",
    "        \n",
    "        # Update lane pixels\n",
    "        lineLeft.updatePixels(leftx, lefty)   \n",
    "\n",
    "        # Search blindly image\n",
    "        coeffs_fit_L, lineDetectedL, left_fitx, ploty, img_line  = fit_polynomial(out_img, lineLeft.allx,\n",
    "                                                                                  lineLeft.ally, drawPoly = False)\n",
    "    ## Speed up pixel search with coef with area search    \n",
    "    else:\n",
    "        # Search based on coefs\n",
    "        leftx, lefty, coeffs_fit_L, lineDetectedL, left_fitx, out_img = search_around_poly(warped_img, lineLeft)\n",
    "        lineLeft.updatePixels(leftx, lefty)  \n",
    "\n",
    "    #Right line\n",
    "    if lineRight.missdetections > 0 or np.any((lineRight.recent_poly_fits == 0)):\n",
    "        ## Update lane pixels\n",
    "        if not(\"rightx\" in locals()) or not(\"righty\" in locals()) :\n",
    "            leftx, lefty, rightx, righty, out_img = find_lane_pixels(warped_img, lineLeft.bestx, \n",
    "                                                                     lineRight.bestx, showRectangles = False)\n",
    "        # Update lane pixels\n",
    "        lineRight.updatePixels(rightx, righty)\n",
    "        \n",
    "        # Search blindly image\n",
    "        coeffs_fit_R, lineDetectedR, right_fitx, ploty, img_line  = fit_polynomial(out_img, lineRight.allx,\n",
    "                                                                                   lineRight.ally, drawPoly = False)\n",
    "    else:\n",
    "        # Search based on coefs\n",
    "        rightx, righty, coeffs_fit_R, lineDetectedR, right_fitx, out_img = search_around_poly(out_img, lineRight)   \n",
    "        lineRight.updatePixels(rightx, righty)\n",
    "        \n",
    "           \n",
    "    #Update line class instances\n",
    "    lineLeft.updateCoeffsLine(lineDetectedL, coeffs_fit_L, left_fitx, \n",
    "                              lineLeft.poly_ploty,coefLimits=[0.1,1,200],movingAvg=8)\n",
    "    lineRight.updateCoeffsLine(lineDetectedR, coeffs_fit_R,right_fitx,\n",
    "                               lineRight.poly_ploty,coefLimits=[0.1,1,200],movingAvg=8)\n",
    "        \n",
    "\n",
    "        \n",
    "    #Sanity check line width\n",
    "    if lineLeft.detected and lineRight.detected:\n",
    "        if left_fitx.any and right_fitx.any and len(lineLeft.recent_poly_fits) >1 and len(lineRight.recent_poly_fits) >1:  # If vectors are empty do nothing\n",
    "            # If separation ok, update stage vectors\n",
    "            if rightSeparation(left_fitx, right_fitx, limitDist = 100):\n",
    "                lineLeft.poly_best_fit_staged = lineLeft.poly_best_fit\n",
    "                lineRight.poly_best_fit_staged = lineRight.poly_best_fit\n",
    "                #lineLeft.poly_plotx_staged = left_fitx \n",
    "                #lineRight.poly_plotx_staged = right_fitx\n",
    "                pass\n",
    "            else: # If separation not ok, use stage vectors\n",
    "                print(\"Wrong separation between lines\")\n",
    "                ### Left line\n",
    "                #Discard last fit\n",
    "                lineLeft.recent_poly_fits = lineLeft.recent_poly_fits[:-1]\n",
    "                \n",
    "                # Reuse best fit if exists\n",
    "                \n",
    "             \n",
    "                if  len(lineLeft.poly_best_fit_staged) > 2 :\n",
    "                    lineLeft.poly_best_fit = lineLeft.poly_best_fit_staged\n",
    "                    #print(\"1\")\n",
    "                    #print(lineLeft.poly_best_fit_staged)\n",
    "                else:         \n",
    "                    lineLeft.poly_best_fit = lineLeft.recent_poly_fits[-1]\n",
    "                    #print(\"2\")\n",
    "                    #print(lineLeft.poly_best_fit)\n",
    "                    \n",
    "                ### Right line\n",
    "                #Discard last fit\n",
    "                lineRight.recent_poly_fits = lineRight.recent_poly_fits[:-1]\n",
    "                \n",
    "                # Reuse best fit if exists\n",
    "                if  len(lineRight.poly_best_fit_staged) > 2 :\n",
    "                    lineRight.poly_best_fit = lineRight.poly_best_fit_staged\n",
    "                else:\n",
    "                    lineRight.poly_best_fit = lineRight.recent_poly_fits[-1]\n",
    "                    \n",
    "                \n",
    "                # Compute new plot\n",
    "                lineLeft.poly_plotx = np.polyval(lineLeft.poly_best_fit, lineLeft.poly_ploty)\n",
    "                lineRight.poly_plotx = np.polyval(lineRight.poly_best_fit, lineRight.poly_ploty)\n",
    "                # Increase missdetections\n",
    "                lineLeft.missdetections += 1\n",
    "                lineRight.missdetections += 1\n",
    "            \n",
    "    ##Do sanity checks on lines\n",
    "    lineLeft.sanityCheck(limit=10)\n",
    "    lineRight.sanityCheck(limit=10)\n",
    "    \n",
    "    ### Unwarp images\n",
    "    \n",
    "    #color_warp = np.zeros_like(out_img).astype(np.uint8)\n",
    "    color_warp = out_img\n",
    "    #color_warp = np.dstack((warp_zero, warp_zero, warp_zero))\n",
    "    \n",
    "    pts_left = np.array([np.transpose(np.vstack([lineLeft.poly_plotx, lineLeft.poly_ploty]))])\n",
    "    pts_right = np.array([np.flipud(np.transpose(np.vstack([lineRight.poly_plotx, lineRight.poly_ploty])))])\n",
    "    pts = np.hstack((pts_left, pts_right))\n",
    "    \n",
    "     \n",
    "    #Draw the lane onto the warped blank image\n",
    "    cv2.fillPoly(color_warp, np.int_([pts]), (0,255, 0))\n",
    "    \n",
    "    \n",
    "    newwarp = cv2.warpPerspective(color_warp, M, (img.shape[1], img.shape[0])) \n",
    "    result = cv2.addWeighted(img, 1, newwarp, 0.5, 0)\n",
    "    \n",
    "    \n",
    "    ### Anotate Radius of curvature   \n",
    "    \n",
    "    diff, mean, text = checkRadius(lineLeft, lineRight )\n",
    "\n",
    "    result_annotated = cv2.putText(result, text, org= (50, 50), fontFace=cv2.FONT_HERSHEY_SIMPLEX, \n",
    "                   fontScale=2, color= (255, 255, 255), thickness=2, lineType=cv2.LINE_AA)\n",
    "    \n",
    "\n",
    "    ### Anotate Vehicle position\n",
    "    dev, text = calculateDeviation(result, lineLeft,lineRight,)\n",
    "\n",
    "    result_annotated = cv2.putText(result, text, org= (50, 100), fontFace=cv2.FONT_HERSHEY_SIMPLEX, \n",
    "                       fontScale=2, color= (255, 255, 255), thickness=2, lineType=cv2.LINE_AA)\n",
    "    \n",
    "    # Anotate missdetections\n",
    "    #result_annotated = cv2.putText(result, str(lineLeft.missdetections),  org= (50, 200), fontFace=cv2.FONT_HERSHEY_SIMPLEX, \n",
    "     #                fontScale=1, color= (255, 255, 255), thickness=2, lineType=cv2.LINE_AA)\n",
    "    \n",
    "    #result_annotated = cv2.putText(result, str(lineRight.missdetections),  org= (50, 300), fontFace=cv2.FONT_HERSHEY_SIMPLEX, \n",
    "#                       fontScale=1, color= (255, 255, 255), thickness=2, lineType=cv2.LINE_AA)\n",
    "      \n",
    " \n",
    "    #out = np.dstack((out_img*255, out_img*255, out_img*255))\n",
    "    \n",
    "    # Show ROI\n",
    "    #cv2.polylines(result,[vertices],True,(0,0,255),thickness=5)\n",
    "    \n",
    "    return result_annotated"
   ]
  },
  {
   "cell_type": "markdown",
   "id": "01e12194",
   "metadata": {},
   "source": [
    "## Video 1"
   ]
  },
  {
   "cell_type": "code",
   "execution_count": 3,
   "id": "e5462762",
   "metadata": {
    "scrolled": true
   },
   "outputs": [
    {
     "name": "stderr",
     "output_type": "stream",
     "text": [
      "\r",
      "t:   0%|                                                            | 0/1260 [00:00<?, ?it/s, now=None]"
     ]
    },
    {
     "name": "stdout",
     "output_type": "stream",
     "text": [
      "Moviepy - Building video output_videos/solidWhiteRight.mp4.\n",
      "Moviepy - Writing video output_videos/solidWhiteRight.mp4\n",
      "\n"
     ]
    },
    {
     "name": "stderr",
     "output_type": "stream",
     "text": [
      "t:  83%|████████████████████████████████████████▌        | 1042/1260 [04:51<00:54,  4.03it/s, now=None]"
     ]
    },
    {
     "name": "stdout",
     "output_type": "stream",
     "text": [
      "missdetection\n",
      "[ 1.99004446e-03 -1.82550128e+00  4.28816735e+02]\n"
     ]
    },
    {
     "name": "stderr",
     "output_type": "stream",
     "text": [
      "t:  83%|████████████████████████████████████████▊        | 1050/1260 [04:53<00:53,  3.92it/s, now=None]"
     ]
    },
    {
     "name": "stdout",
     "output_type": "stream",
     "text": [
      "Discarded X point\n"
     ]
    },
    {
     "name": "stderr",
     "output_type": "stream",
     "text": [
      "\r",
      "t:  83%|████████████████████████████████████████▊        | 1051/1260 [04:53<00:55,  3.79it/s, now=None]"
     ]
    },
    {
     "name": "stdout",
     "output_type": "stream",
     "text": [
      "Discarded X point\n"
     ]
    },
    {
     "name": "stderr",
     "output_type": "stream",
     "text": [
      "                                                                                                       \r"
     ]
    },
    {
     "name": "stdout",
     "output_type": "stream",
     "text": [
      "Moviepy - Done !\n",
      "Moviepy - video ready output_videos/solidWhiteRight.mp4\n",
      "Wall time: 5min 50s\n"
     ]
    }
   ],
   "source": [
    "# Instanciate cLine classes\n",
    "lineLeft = Line()\n",
    "lineRight = Line()\n",
    "\n",
    "\n",
    "white_output = 'output_videos/solidWhiteRight.mp4'\n",
    "#clip1 = VideoFileClip(\"test_videos/project_video.mp4\").subclip(0,10)\n",
    "clip1 = VideoFileClip(\"test_videos/project_video.mp4\")\n",
    "white_clip = clip1.fl_image(process_frame) #NOTE: this function expects color images!!\n",
    "%time white_clip.write_videofile(white_output, audio=False)"
   ]
  },
  {
   "cell_type": "code",
   "execution_count": 4,
   "id": "3384229a",
   "metadata": {
    "scrolled": false
   },
   "outputs": [
    {
     "data": {
      "text/html": [
       "\n",
       "<video width=\"960\" height=\"540\" controls>\n",
       "  <source src=\"output_videos/solidWhiteRight.mp4\">\n",
       "</video>\n"
      ],
      "text/plain": [
       "<IPython.core.display.HTML object>"
      ]
     },
     "execution_count": 4,
     "metadata": {},
     "output_type": "execute_result"
    }
   ],
   "source": [
    "HTML(\"\"\"\n",
    "<video width=\"960\" height=\"540\" controls>\n",
    "  <source src=\"{0}\">\n",
    "</video>\n",
    "\"\"\".format(white_output))"
   ]
  },
  {
   "cell_type": "markdown",
   "id": "04c2a13b",
   "metadata": {},
   "source": [
    "## Video 2"
   ]
  },
  {
   "cell_type": "code",
   "execution_count": 5,
   "id": "c275064e",
   "metadata": {
    "scrolled": true
   },
   "outputs": [
    {
     "name": "stderr",
     "output_type": "stream",
     "text": [
      "\r",
      "t:   0%|                                                             | 0/485 [00:00<?, ?it/s, now=None]"
     ]
    },
    {
     "name": "stdout",
     "output_type": "stream",
     "text": [
      "Moviepy - Building video output_videos/challenge_video.mp4.\n",
      "Moviepy - Writing video output_videos/challenge_video.mp4\n",
      "\n",
      "missdetection\n",
      "[-1.92871935e-03  2.40260878e+00 -7.44370229e+02]\n"
     ]
    },
    {
     "name": "stderr",
     "output_type": "stream",
     "text": [
      "t:   1%|▎                                                    | 3/485 [00:02<05:27,  1.47it/s, now=None]"
     ]
    },
    {
     "name": "stdout",
     "output_type": "stream",
     "text": [
      "Wrong separation between lines\n"
     ]
    },
    {
     "name": "stderr",
     "output_type": "stream",
     "text": [
      "\r",
      "t:   1%|▍                                                    | 4/485 [00:02<04:06,  1.95it/s, now=None]"
     ]
    },
    {
     "name": "stdout",
     "output_type": "stream",
     "text": [
      "Wrong separation between lines\n"
     ]
    },
    {
     "name": "stderr",
     "output_type": "stream",
     "text": [
      "\r",
      "t:   1%|▌                                                    | 5/485 [00:02<03:17,  2.43it/s, now=None]"
     ]
    },
    {
     "name": "stdout",
     "output_type": "stream",
     "text": [
      "missdetection\n",
      "[ 3.36956619e-04 -5.43547398e-01  2.12794503e+02]\n"
     ]
    },
    {
     "name": "stderr",
     "output_type": "stream",
     "text": [
      "\r",
      "t:   1%|▋                                                    | 6/485 [00:02<02:52,  2.77it/s, now=None]"
     ]
    },
    {
     "name": "stdout",
     "output_type": "stream",
     "text": [
      "missdetection\n",
      "[ 3.35703966e-04 -5.44574869e-01  2.13971442e+02]\n"
     ]
    },
    {
     "name": "stderr",
     "output_type": "stream",
     "text": [
      "\r",
      "t:   1%|▊                                                    | 7/485 [00:03<02:36,  3.05it/s, now=None]"
     ]
    },
    {
     "name": "stdout",
     "output_type": "stream",
     "text": [
      "missdetection\n",
      "[ 3.39366172e-04 -5.46235053e-01  2.14912828e+02]\n"
     ]
    },
    {
     "name": "stderr",
     "output_type": "stream",
     "text": [
      "\r",
      "t:   2%|▊                                                    | 8/485 [00:03<02:27,  3.23it/s, now=None]"
     ]
    },
    {
     "name": "stdout",
     "output_type": "stream",
     "text": [
      "Discarded X point\n",
      "missdetection\n",
      "[ 3.41417648e-04 -5.49005266e-01  2.15017787e+02]\n"
     ]
    },
    {
     "name": "stderr",
     "output_type": "stream",
     "text": [
      "\r",
      "t:   2%|▉                                                    | 9/485 [00:03<02:17,  3.46it/s, now=None]"
     ]
    },
    {
     "name": "stdout",
     "output_type": "stream",
     "text": [
      "Discarded X point\n",
      "missdetection\n",
      "[ 3.41612439e-04 -5.49268195e-01  2.15016381e+02]\n"
     ]
    },
    {
     "name": "stderr",
     "output_type": "stream",
     "text": [
      "\r",
      "t:   2%|█                                                   | 10/485 [00:03<02:11,  3.60it/s, now=None]"
     ]
    },
    {
     "name": "stdout",
     "output_type": "stream",
     "text": [
      "Discarded X point\n",
      "missdetection\n",
      "[-1.38881896e-03  1.80685939e+00 -5.85840327e+02]\n"
     ]
    },
    {
     "name": "stderr",
     "output_type": "stream",
     "text": [
      "\r",
      "t:   2%|█▏                                                  | 11/485 [00:04<02:07,  3.72it/s, now=None]"
     ]
    },
    {
     "name": "stdout",
     "output_type": "stream",
     "text": [
      "Discarded X point\n",
      "missdetection\n",
      "[-1.44177491e-03  1.87528749e+00 -6.07888735e+02]\n"
     ]
    },
    {
     "name": "stderr",
     "output_type": "stream",
     "text": [
      "\r",
      "t:   2%|█▎                                                  | 12/485 [00:04<02:06,  3.75it/s, now=None]"
     ]
    },
    {
     "name": "stdout",
     "output_type": "stream",
     "text": [
      "missdetection\n",
      "[-1.45670422e-03  1.89594699e+00 -6.12720444e+02]\n"
     ]
    },
    {
     "name": "stderr",
     "output_type": "stream",
     "text": [
      "\r",
      "t:   3%|█▍                                                  | 13/485 [00:04<02:05,  3.77it/s, now=None]"
     ]
    },
    {
     "name": "stdout",
     "output_type": "stream",
     "text": [
      "missdetection\n",
      "[-1.49022017e-03  1.92341821e+00 -6.16135656e+02]\n"
     ]
    },
    {
     "name": "stderr",
     "output_type": "stream",
     "text": [
      "\r",
      "t:   3%|█▌                                                  | 14/485 [00:04<02:02,  3.86it/s, now=None]"
     ]
    },
    {
     "name": "stdout",
     "output_type": "stream",
     "text": [
      "missdetection\n",
      "[-1.51621822e-03  1.94799456e+00 -6.20379750e+02]\n",
      "Reset by SanityCheck\n"
     ]
    },
    {
     "name": "stderr",
     "output_type": "stream",
     "text": [
      "t:   3%|█▋                                                  | 16/485 [00:05<01:56,  4.03it/s, now=None]"
     ]
    },
    {
     "name": "stdout",
     "output_type": "stream",
     "text": [
      "Wrong separation between lines\n"
     ]
    },
    {
     "name": "stderr",
     "output_type": "stream",
     "text": [
      "\r",
      "t:   4%|█▊                                                  | 17/485 [00:05<01:56,  4.03it/s, now=None]"
     ]
    },
    {
     "name": "stdout",
     "output_type": "stream",
     "text": [
      "missdetection\n",
      "[ 3.07266993e-03 -3.23464799e+00  8.45125229e+02]\n"
     ]
    },
    {
     "name": "stderr",
     "output_type": "stream",
     "text": [
      "\r",
      "t:   4%|█▉                                                  | 18/485 [00:05<01:56,  4.00it/s, now=None]"
     ]
    },
    {
     "name": "stdout",
     "output_type": "stream",
     "text": [
      "missdetection\n",
      "[ 3.09447989e-03 -3.25775187e+00  8.50590151e+02]\n"
     ]
    },
    {
     "name": "stderr",
     "output_type": "stream",
     "text": [
      "\r",
      "t:   4%|██                                                  | 19/485 [00:06<01:54,  4.05it/s, now=None]"
     ]
    },
    {
     "name": "stdout",
     "output_type": "stream",
     "text": [
      "missdetection\n",
      "[ 3.14184306e-03 -3.31693462e+00  8.68814607e+02]\n"
     ]
    },
    {
     "name": "stderr",
     "output_type": "stream",
     "text": [
      "\r",
      "t:   4%|██▏                                                 | 20/485 [00:06<01:54,  4.05it/s, now=None]"
     ]
    },
    {
     "name": "stdout",
     "output_type": "stream",
     "text": [
      "missdetection\n",
      "[ 3.17636357e-03 -3.35402980e+00  8.77794758e+02]\n"
     ]
    },
    {
     "name": "stderr",
     "output_type": "stream",
     "text": [
      "\r",
      "t:   4%|██▎                                                 | 21/485 [00:06<01:55,  4.00it/s, now=None]"
     ]
    },
    {
     "name": "stdout",
     "output_type": "stream",
     "text": [
      "missdetection\n",
      "[ 3.23044554e-03 -3.42124733e+00  8.98279038e+02]\n"
     ]
    },
    {
     "name": "stderr",
     "output_type": "stream",
     "text": [
      "\r",
      "t:   5%|██▎                                                 | 22/485 [00:06<01:55,  4.00it/s, now=None]"
     ]
    },
    {
     "name": "stdout",
     "output_type": "stream",
     "text": [
      "missdetection\n",
      "[ 2.96630297e-03 -3.14588518e+00  8.35906814e+02]\n"
     ]
    },
    {
     "name": "stderr",
     "output_type": "stream",
     "text": [
      "\r",
      "t:   5%|██▍                                                 | 23/485 [00:07<01:54,  4.04it/s, now=None]"
     ]
    },
    {
     "name": "stdout",
     "output_type": "stream",
     "text": [
      "missdetection\n",
      "[ 3.01572410e-03 -3.20766662e+00  8.55171023e+02]\n"
     ]
    },
    {
     "name": "stderr",
     "output_type": "stream",
     "text": [
      "\r",
      "t:   5%|██▌                                                 | 24/485 [00:07<01:54,  4.03it/s, now=None]"
     ]
    },
    {
     "name": "stdout",
     "output_type": "stream",
     "text": [
      "missdetection\n",
      "[ 2.94135105e-03 -3.12382500e+00  8.33156962e+02]\n"
     ]
    },
    {
     "name": "stderr",
     "output_type": "stream",
     "text": [
      "\r",
      "t:   5%|██▋                                                 | 25/485 [00:07<01:58,  3.88it/s, now=None]"
     ]
    },
    {
     "name": "stdout",
     "output_type": "stream",
     "text": [
      "missdetection\n",
      "[ 2.92732947e-03 -3.11704780e+00  8.35620203e+02]\n"
     ]
    },
    {
     "name": "stderr",
     "output_type": "stream",
     "text": [
      "\r",
      "t:   5%|██▊                                                 | 26/485 [00:07<01:59,  3.85it/s, now=None]"
     ]
    },
    {
     "name": "stdout",
     "output_type": "stream",
     "text": [
      "missdetection\n",
      "[ 2.92788751e-03 -3.12217394e+00  8.39270057e+02]\n",
      "Reset by SanityCheck\n"
     ]
    },
    {
     "name": "stderr",
     "output_type": "stream",
     "text": [
      "t:   6%|███                                                 | 28/485 [00:08<01:55,  3.94it/s, now=None]"
     ]
    },
    {
     "name": "stdout",
     "output_type": "stream",
     "text": [
      "Wrong separation between lines\n",
      "Wrong separation between lines\n"
     ]
    },
    {
     "name": "stderr",
     "output_type": "stream",
     "text": [
      "t:   6%|███▏                                                | 30/485 [00:08<01:50,  4.10it/s, now=None]"
     ]
    },
    {
     "name": "stdout",
     "output_type": "stream",
     "text": [
      "Wrong separation between lines\n"
     ]
    },
    {
     "name": "stderr",
     "output_type": "stream",
     "text": [
      "\r",
      "t:   6%|███▎                                                | 31/485 [00:09<01:49,  4.16it/s, now=None]"
     ]
    },
    {
     "name": "stdout",
     "output_type": "stream",
     "text": [
      "Wrong separation between lines\n"
     ]
    },
    {
     "name": "stderr",
     "output_type": "stream",
     "text": [
      "\r",
      "t:   7%|███▍                                                | 32/485 [00:09<01:49,  4.14it/s, now=None]"
     ]
    },
    {
     "name": "stdout",
     "output_type": "stream",
     "text": [
      "Wrong separation between lines\n"
     ]
    },
    {
     "name": "stderr",
     "output_type": "stream",
     "text": [
      "\r",
      "t:   7%|███▌                                                | 33/485 [00:09<01:48,  4.15it/s, now=None]"
     ]
    },
    {
     "name": "stdout",
     "output_type": "stream",
     "text": [
      "missdetection\n",
      "[ 8.77083441e-04 -8.62009974e-01  2.08186653e+02]\n"
     ]
    },
    {
     "name": "stderr",
     "output_type": "stream",
     "text": [
      "\r",
      "t:   7%|███▋                                                | 34/485 [00:09<01:50,  4.08it/s, now=None]"
     ]
    },
    {
     "name": "stdout",
     "output_type": "stream",
     "text": [
      "Wrong separation between lines\n"
     ]
    },
    {
     "name": "stderr",
     "output_type": "stream",
     "text": [
      "\r",
      "t:   7%|███▊                                                | 35/485 [00:10<01:47,  4.20it/s, now=None]"
     ]
    },
    {
     "name": "stdout",
     "output_type": "stream",
     "text": [
      "Wrong separation between lines\n"
     ]
    },
    {
     "name": "stderr",
     "output_type": "stream",
     "text": [
      "\r",
      "t:   7%|███▊                                                | 36/485 [00:10<01:46,  4.23it/s, now=None]"
     ]
    },
    {
     "name": "stdout",
     "output_type": "stream",
     "text": [
      "Wrong separation between lines\n"
     ]
    },
    {
     "name": "stderr",
     "output_type": "stream",
     "text": [
      "\r",
      "t:   8%|███▉                                                | 37/485 [00:10<01:45,  4.24it/s, now=None]"
     ]
    },
    {
     "name": "stdout",
     "output_type": "stream",
     "text": [
      "Wrong separation between lines\n"
     ]
    },
    {
     "name": "stderr",
     "output_type": "stream",
     "text": [
      "\r",
      "t:   8%|████                                                | 38/485 [00:10<01:42,  4.35it/s, now=None]"
     ]
    },
    {
     "name": "stdout",
     "output_type": "stream",
     "text": [
      "Wrong separation between lines\n"
     ]
    },
    {
     "name": "stderr",
     "output_type": "stream",
     "text": [
      "\r",
      "t:   8%|████▏                                               | 39/485 [00:11<01:41,  4.40it/s, now=None]"
     ]
    },
    {
     "name": "stdout",
     "output_type": "stream",
     "text": [
      "Wrong separation between lines\n"
     ]
    },
    {
     "name": "stderr",
     "output_type": "stream",
     "text": [
      "\r",
      "t:   8%|████▎                                               | 40/485 [00:11<01:41,  4.40it/s, now=None]"
     ]
    },
    {
     "name": "stdout",
     "output_type": "stream",
     "text": [
      "Wrong separation between lines\n"
     ]
    },
    {
     "name": "stderr",
     "output_type": "stream",
     "text": [
      "\r",
      "t:   8%|████▍                                               | 41/485 [00:11<01:42,  4.32it/s, now=None]"
     ]
    },
    {
     "name": "stdout",
     "output_type": "stream",
     "text": [
      "Wrong separation between lines\n"
     ]
    },
    {
     "name": "stderr",
     "output_type": "stream",
     "text": [
      "\r",
      "t:   9%|████▌                                               | 42/485 [00:11<01:43,  4.30it/s, now=None]"
     ]
    },
    {
     "name": "stdout",
     "output_type": "stream",
     "text": [
      "Wrong separation between lines\n"
     ]
    },
    {
     "name": "stderr",
     "output_type": "stream",
     "text": [
      "\r",
      "t:   9%|████▌                                               | 43/485 [00:12<01:45,  4.20it/s, now=None]"
     ]
    },
    {
     "name": "stdout",
     "output_type": "stream",
     "text": [
      "Wrong separation between lines\n"
     ]
    },
    {
     "name": "stderr",
     "output_type": "stream",
     "text": [
      "\r",
      "t:   9%|████▋                                               | 44/485 [00:12<01:48,  4.08it/s, now=None]"
     ]
    },
    {
     "name": "stdout",
     "output_type": "stream",
     "text": [
      "Wrong separation between lines\n"
     ]
    },
    {
     "name": "stderr",
     "output_type": "stream",
     "text": [
      "\r",
      "t:   9%|████▊                                               | 45/485 [00:12<01:47,  4.09it/s, now=None]"
     ]
    },
    {
     "name": "stdout",
     "output_type": "stream",
     "text": [
      "Wrong separation between lines\n"
     ]
    },
    {
     "name": "stderr",
     "output_type": "stream",
     "text": [
      "\r",
      "t:   9%|████▉                                               | 46/485 [00:12<01:44,  4.21it/s, now=None]"
     ]
    },
    {
     "name": "stdout",
     "output_type": "stream",
     "text": [
      "Wrong separation between lines\n"
     ]
    },
    {
     "name": "stderr",
     "output_type": "stream",
     "text": [
      "\r",
      "t:  10%|█████                                               | 47/485 [00:12<01:44,  4.19it/s, now=None]"
     ]
    },
    {
     "name": "stdout",
     "output_type": "stream",
     "text": [
      "missdetection\n",
      "[ 7.63740869e-04 -7.66982317e-01  2.06222836e+02]\n"
     ]
    },
    {
     "name": "stderr",
     "output_type": "stream",
     "text": [
      "\r",
      "t:  10%|█████▏                                              | 48/485 [00:13<01:45,  4.15it/s, now=None]"
     ]
    },
    {
     "name": "stdout",
     "output_type": "stream",
     "text": [
      "Wrong separation between lines\n"
     ]
    },
    {
     "name": "stderr",
     "output_type": "stream",
     "text": [
      "t:  10%|█████▎                                              | 50/485 [00:13<01:42,  4.22it/s, now=None]"
     ]
    },
    {
     "name": "stdout",
     "output_type": "stream",
     "text": [
      "Wrong separation between lines\n"
     ]
    },
    {
     "name": "stderr",
     "output_type": "stream",
     "text": [
      "\r",
      "t:  11%|█████▍                                              | 51/485 [00:13<01:40,  4.31it/s, now=None]"
     ]
    },
    {
     "name": "stdout",
     "output_type": "stream",
     "text": [
      "Wrong separation between lines\n"
     ]
    },
    {
     "name": "stderr",
     "output_type": "stream",
     "text": [
      "\r",
      "t:  11%|█████▌                                              | 52/485 [00:14<01:42,  4.24it/s, now=None]"
     ]
    },
    {
     "name": "stdout",
     "output_type": "stream",
     "text": [
      "Wrong separation between lines\n"
     ]
    },
    {
     "name": "stderr",
     "output_type": "stream",
     "text": [
      "t:  11%|█████▉                                              | 55/485 [00:14<01:48,  3.97it/s, now=None]"
     ]
    },
    {
     "name": "stdout",
     "output_type": "stream",
     "text": [
      "Wrong separation between lines\n"
     ]
    },
    {
     "name": "stderr",
     "output_type": "stream",
     "text": [
      "\r",
      "t:  12%|██████                                              | 56/485 [00:15<01:42,  4.17it/s, now=None]"
     ]
    },
    {
     "name": "stdout",
     "output_type": "stream",
     "text": [
      "missdetection\n",
      "[ 2.11039604e-04 -4.60347305e-01  2.02761451e+02]\n"
     ]
    },
    {
     "name": "stderr",
     "output_type": "stream",
     "text": [
      "\r",
      "t:  12%|██████                                              | 57/485 [00:15<01:46,  4.04it/s, now=None]"
     ]
    },
    {
     "name": "stdout",
     "output_type": "stream",
     "text": [
      "missdetection\n",
      "[ 4.21084997e-04 -7.44055553e-01  2.97922349e+02]\n"
     ]
    },
    {
     "name": "stderr",
     "output_type": "stream",
     "text": [
      "\r",
      "t:  12%|██████▏                                             | 58/485 [00:15<01:49,  3.89it/s, now=None]"
     ]
    },
    {
     "name": "stdout",
     "output_type": "stream",
     "text": [
      "missdetection\n",
      "[ 4.59673471e-04 -7.90575703e-01  3.13183309e+02]\n"
     ]
    },
    {
     "name": "stderr",
     "output_type": "stream",
     "text": [
      "\r",
      "t:  12%|██████▎                                             | 59/485 [00:15<01:51,  3.83it/s, now=None]"
     ]
    },
    {
     "name": "stdout",
     "output_type": "stream",
     "text": [
      "missdetection\n",
      "[ 3.96966529e-04 -7.04931170e-01  2.83377413e+02]\n"
     ]
    },
    {
     "name": "stderr",
     "output_type": "stream",
     "text": [
      "\r",
      "t:  12%|██████▍                                             | 60/485 [00:16<01:49,  3.90it/s, now=None]"
     ]
    },
    {
     "name": "stdout",
     "output_type": "stream",
     "text": [
      "missdetection\n",
      "[ 5.28077945e-04 -8.65837958e-01  3.32716266e+02]\n"
     ]
    },
    {
     "name": "stderr",
     "output_type": "stream",
     "text": [
      "\r",
      "t:  13%|██████▌                                             | 61/485 [00:16<01:48,  3.91it/s, now=None]"
     ]
    },
    {
     "name": "stdout",
     "output_type": "stream",
     "text": [
      "missdetection\n",
      "[ 7.43421472e-04 -1.17418096e+00  4.43229848e+02]\n"
     ]
    },
    {
     "name": "stderr",
     "output_type": "stream",
     "text": [
      "t:  13%|██████▊                                             | 64/485 [00:17<01:47,  3.92it/s, now=None]"
     ]
    },
    {
     "name": "stdout",
     "output_type": "stream",
     "text": [
      "Wrong separation between lines\n"
     ]
    },
    {
     "name": "stderr",
     "output_type": "stream",
     "text": [
      "t:  14%|███████                                             | 66/485 [00:17<01:43,  4.05it/s, now=None]"
     ]
    },
    {
     "name": "stdout",
     "output_type": "stream",
     "text": [
      "Wrong separation between lines\n"
     ]
    },
    {
     "name": "stderr",
     "output_type": "stream",
     "text": [
      "t:  14%|███████▎                                            | 68/485 [00:18<01:37,  4.28it/s, now=None]"
     ]
    },
    {
     "name": "stdout",
     "output_type": "stream",
     "text": [
      "Wrong separation between lines\n"
     ]
    },
    {
     "name": "stderr",
     "output_type": "stream",
     "text": [
      "t:  14%|███████▌                                            | 70/485 [00:18<01:38,  4.22it/s, now=None]"
     ]
    },
    {
     "name": "stdout",
     "output_type": "stream",
     "text": [
      "Wrong separation between lines\n"
     ]
    },
    {
     "name": "stderr",
     "output_type": "stream",
     "text": [
      "t:  15%|███████▋                                            | 72/485 [00:19<01:33,  4.40it/s, now=None]"
     ]
    },
    {
     "name": "stdout",
     "output_type": "stream",
     "text": [
      "Wrong separation between lines\n"
     ]
    },
    {
     "name": "stderr",
     "output_type": "stream",
     "text": [
      "\r",
      "t:  15%|███████▊                                            | 73/485 [00:19<01:34,  4.35it/s, now=None]"
     ]
    },
    {
     "name": "stdout",
     "output_type": "stream",
     "text": [
      "missdetection\n",
      "[ 4.04807244e-04 -5.91956949e-01  2.11313766e+02]\n"
     ]
    },
    {
     "name": "stderr",
     "output_type": "stream",
     "text": [
      "t:  18%|█████████▎                                          | 87/485 [00:22<01:33,  4.27it/s, now=None]"
     ]
    },
    {
     "name": "stdout",
     "output_type": "stream",
     "text": [
      "Wrong separation between lines\n"
     ]
    },
    {
     "name": "stderr",
     "output_type": "stream",
     "text": [
      "\r",
      "t:  18%|█████████▍                                          | 88/485 [00:22<01:31,  4.32it/s, now=None]"
     ]
    },
    {
     "name": "stdout",
     "output_type": "stream",
     "text": [
      "missdetection\n",
      "[ 5.49647224e-04 -8.07533628e-01  2.83969497e+02]\n"
     ]
    },
    {
     "name": "stderr",
     "output_type": "stream",
     "text": [
      "\r",
      "t:  18%|█████████▌                                          | 89/485 [00:23<01:34,  4.17it/s, now=None]"
     ]
    },
    {
     "name": "stdout",
     "output_type": "stream",
     "text": [
      "missdetection\n",
      "[ 4.36255477e-04 -6.42965700e-01  2.24772955e+02]\n"
     ]
    },
    {
     "name": "stderr",
     "output_type": "stream",
     "text": [
      "\r",
      "t:  19%|█████████▋                                          | 90/485 [00:23<01:38,  4.00it/s, now=None]"
     ]
    },
    {
     "name": "stdout",
     "output_type": "stream",
     "text": [
      "Wrong separation between lines\n"
     ]
    },
    {
     "name": "stderr",
     "output_type": "stream",
     "text": [
      "t:  19%|█████████▊                                          | 92/485 [00:23<01:35,  4.12it/s, now=None]"
     ]
    },
    {
     "name": "stdout",
     "output_type": "stream",
     "text": [
      "Wrong separation between lines\n"
     ]
    },
    {
     "name": "stderr",
     "output_type": "stream",
     "text": [
      "t:  19%|██████████                                          | 94/485 [00:24<01:32,  4.24it/s, now=None]"
     ]
    },
    {
     "name": "stdout",
     "output_type": "stream",
     "text": [
      "Wrong separation between lines\n"
     ]
    },
    {
     "name": "stderr",
     "output_type": "stream",
     "text": [
      "\r",
      "t:  20%|██████████▏                                         | 95/485 [00:24<01:31,  4.25it/s, now=None]"
     ]
    },
    {
     "name": "stdout",
     "output_type": "stream",
     "text": [
      "Wrong separation between lines\n"
     ]
    },
    {
     "name": "stderr",
     "output_type": "stream",
     "text": [
      "t:  20%|██████████▍                                         | 97/485 [00:24<01:28,  4.38it/s, now=None]"
     ]
    },
    {
     "name": "stdout",
     "output_type": "stream",
     "text": [
      "Wrong separation between lines\n"
     ]
    },
    {
     "name": "stderr",
     "output_type": "stream",
     "text": [
      "t:  21%|██████████▌                                        | 100/485 [00:25<01:32,  4.17it/s, now=None]"
     ]
    },
    {
     "name": "stdout",
     "output_type": "stream",
     "text": [
      "Wrong separation between lines\n"
     ]
    },
    {
     "name": "stderr",
     "output_type": "stream",
     "text": [
      "t:  23%|███████████▊                                       | 112/485 [00:28<01:28,  4.20it/s, now=None]"
     ]
    },
    {
     "name": "stdout",
     "output_type": "stream",
     "text": [
      "Wrong separation between lines\n"
     ]
    },
    {
     "name": "stderr",
     "output_type": "stream",
     "text": [
      "\r",
      "t:  23%|███████████▉                                       | 113/485 [00:28<01:28,  4.22it/s, now=None]"
     ]
    },
    {
     "name": "stdout",
     "output_type": "stream",
     "text": [
      "Wrong separation between lines\n"
     ]
    },
    {
     "name": "stderr",
     "output_type": "stream",
     "text": [
      "\r",
      "t:  24%|███████████▉                                       | 114/485 [00:28<01:26,  4.31it/s, now=None]"
     ]
    },
    {
     "name": "stdout",
     "output_type": "stream",
     "text": [
      "Wrong separation between lines\n"
     ]
    },
    {
     "name": "stderr",
     "output_type": "stream",
     "text": [
      "\r",
      "t:  24%|████████████                                       | 115/485 [00:29<01:24,  4.38it/s, now=None]"
     ]
    },
    {
     "name": "stdout",
     "output_type": "stream",
     "text": [
      "Wrong separation between lines\n"
     ]
    },
    {
     "name": "stderr",
     "output_type": "stream",
     "text": [
      "\r",
      "t:  24%|████████████▏                                      | 116/485 [00:29<01:23,  4.44it/s, now=None]"
     ]
    },
    {
     "name": "stdout",
     "output_type": "stream",
     "text": [
      "Wrong separation between lines\n"
     ]
    },
    {
     "name": "stderr",
     "output_type": "stream",
     "text": [
      "t:  27%|█████████████▌                                     | 129/485 [00:32<01:20,  4.43it/s, now=None]"
     ]
    },
    {
     "name": "stdout",
     "output_type": "stream",
     "text": [
      "missdetection\n",
      "[ 5.54607258e-04 -6.88633738e-01  2.12442623e+02]\n"
     ]
    },
    {
     "name": "stderr",
     "output_type": "stream",
     "text": [
      "\r",
      "t:  27%|█████████████▋                                     | 130/485 [00:32<01:23,  4.23it/s, now=None]"
     ]
    },
    {
     "name": "stdout",
     "output_type": "stream",
     "text": [
      "missdetection\n",
      "[ 9.71842313e-04 -1.48435570e+00  5.43309994e+02]\n"
     ]
    },
    {
     "name": "stderr",
     "output_type": "stream",
     "text": [
      "\r",
      "t:  27%|█████████████▊                                     | 131/485 [00:32<01:25,  4.15it/s, now=None]"
     ]
    },
    {
     "name": "stdout",
     "output_type": "stream",
     "text": [
      "missdetection\n",
      "[ 9.75789572e-04 -1.46419272e+00  5.27029736e+02]\n"
     ]
    },
    {
     "name": "stderr",
     "output_type": "stream",
     "text": [
      "\r",
      "t:  27%|█████████████▉                                     | 132/485 [00:33<01:25,  4.12it/s, now=None]"
     ]
    },
    {
     "name": "stdout",
     "output_type": "stream",
     "text": [
      "missdetection\n",
      "[ 1.01180479e-03 -1.51818086e+00  5.45869057e+02]\n"
     ]
    },
    {
     "name": "stderr",
     "output_type": "stream",
     "text": [
      "\r",
      "t:  27%|█████████████▉                                     | 133/485 [00:33<01:24,  4.17it/s, now=None]"
     ]
    },
    {
     "name": "stdout",
     "output_type": "stream",
     "text": [
      "missdetection\n",
      "[ 1.00353646e-03 -1.50981422e+00  5.45645452e+02]\n"
     ]
    },
    {
     "name": "stderr",
     "output_type": "stream",
     "text": [
      "\r",
      "t:  28%|██████████████                                     | 134/485 [00:33<01:24,  4.14it/s, now=None]"
     ]
    },
    {
     "name": "stdout",
     "output_type": "stream",
     "text": [
      "Discarded X point\n",
      "missdetection\n",
      "[ 1.00343585e-03 -1.50553776e+00  5.43714922e+02]\n"
     ]
    },
    {
     "name": "stderr",
     "output_type": "stream",
     "text": [
      "\r",
      "t:  28%|██████████████▏                                    | 135/485 [00:33<01:27,  4.00it/s, now=None]"
     ]
    },
    {
     "name": "stdout",
     "output_type": "stream",
     "text": [
      "Discarded X point\n",
      "Discarded X point\n",
      "missdetection\n",
      "[ 1.00999654e-03 -1.51478246e+00  5.45090214e+02]\n"
     ]
    },
    {
     "name": "stderr",
     "output_type": "stream",
     "text": [
      "\r",
      "t:  28%|██████████████▎                                    | 136/485 [00:34<01:24,  4.14it/s, now=None]"
     ]
    },
    {
     "name": "stdout",
     "output_type": "stream",
     "text": [
      "Discarded X point\n",
      "Discarded X point\n",
      "missdetection\n",
      "[ 1.00999654e-03 -1.51478246e+00  5.45090214e+02]\n"
     ]
    },
    {
     "name": "stderr",
     "output_type": "stream",
     "text": [
      "\r",
      "t:  28%|██████████████▍                                    | 137/485 [00:34<01:27,  4.00it/s, now=None]"
     ]
    },
    {
     "name": "stdout",
     "output_type": "stream",
     "text": [
      "Discarded X point\n",
      "Discarded X point\n",
      "missdetection\n",
      "[ 1.00973681e-03 -1.51443189e+00  5.45092089e+02]\n"
     ]
    },
    {
     "name": "stderr",
     "output_type": "stream",
     "text": [
      "\r",
      "t:  28%|██████████████▌                                    | 138/485 [00:34<01:29,  3.89it/s, now=None]"
     ]
    },
    {
     "name": "stdout",
     "output_type": "stream",
     "text": [
      "Discarded X point\n",
      "Discarded X point\n",
      "missdetection\n",
      "[ 1.00947709e-03 -1.51408132e+00  5.45093963e+02]\n"
     ]
    },
    {
     "name": "stderr",
     "output_type": "stream",
     "text": [
      "\r",
      "t:  29%|██████████████▌                                    | 139/485 [00:34<01:30,  3.81it/s, now=None]"
     ]
    },
    {
     "name": "stdout",
     "output_type": "stream",
     "text": [
      "Discarded X point\n",
      "Discarded X point\n",
      "missdetection\n",
      "[ 1.00934723e-03 -1.51390603e+00  5.45094900e+02]\n",
      "Reset by SanityCheck\n"
     ]
    },
    {
     "name": "stderr",
     "output_type": "stream",
     "text": [
      "\r",
      "t:  29%|██████████████▋                                    | 140/485 [00:35<01:31,  3.78it/s, now=None]"
     ]
    },
    {
     "name": "stdout",
     "output_type": "stream",
     "text": [
      "Discarded X point\n",
      "Discarded X point\n",
      "NO pixels with search around poly\n"
     ]
    },
    {
     "name": "stderr",
     "output_type": "stream",
     "text": [
      "\r",
      "t:  29%|██████████████▊                                    | 141/485 [00:35<01:29,  3.84it/s, now=None]"
     ]
    },
    {
     "name": "stdout",
     "output_type": "stream",
     "text": [
      "Discarded X point\n",
      "Discarded X point\n",
      "missdetection\n",
      "[ 1.00973681e-03 -1.51443189e+00  5.45092089e+02]\n"
     ]
    },
    {
     "name": "stderr",
     "output_type": "stream",
     "text": [
      "\r",
      "t:  29%|██████████████▉                                    | 142/485 [00:35<01:28,  3.88it/s, now=None]"
     ]
    },
    {
     "name": "stdout",
     "output_type": "stream",
     "text": [
      "Discarded X point\n",
      "Discarded X point\n",
      "missdetection\n",
      "[ 1.00980174e-03 -1.51451953e+00  5.45091620e+02]\n"
     ]
    },
    {
     "name": "stderr",
     "output_type": "stream",
     "text": [
      "\r",
      "t:  29%|███████████████                                    | 143/485 [00:36<01:29,  3.84it/s, now=None]"
     ]
    },
    {
     "name": "stdout",
     "output_type": "stream",
     "text": [
      "Discarded X point\n",
      "Discarded X point\n",
      "missdetection\n",
      "[ 1.00980174e-03 -1.51451953e+00  5.45091620e+02]\n"
     ]
    },
    {
     "name": "stderr",
     "output_type": "stream",
     "text": [
      "\r",
      "t:  30%|███████████████▏                                   | 144/485 [00:36<01:26,  3.96it/s, now=None]"
     ]
    },
    {
     "name": "stdout",
     "output_type": "stream",
     "text": [
      "Discarded X point\n",
      "Discarded X point\n",
      "missdetection\n",
      "[ 1.00980174e-03 -1.51451953e+00  5.45091620e+02]\n"
     ]
    },
    {
     "name": "stderr",
     "output_type": "stream",
     "text": [
      "\r",
      "t:  30%|███████████████▏                                   | 145/485 [00:36<01:26,  3.95it/s, now=None]"
     ]
    },
    {
     "name": "stdout",
     "output_type": "stream",
     "text": [
      "Discarded X point\n",
      "Discarded X point\n",
      "missdetection\n",
      "[ 1.00980174e-03 -1.51451953e+00  5.45091620e+02]\n"
     ]
    },
    {
     "name": "stderr",
     "output_type": "stream",
     "text": [
      "\r",
      "t:  30%|███████████████▎                                   | 146/485 [00:36<01:25,  3.97it/s, now=None]"
     ]
    },
    {
     "name": "stdout",
     "output_type": "stream",
     "text": [
      "Discarded X point\n",
      "Discarded X point\n",
      "missdetection\n",
      "[ 1.00980174e-03 -1.51451953e+00  5.45091620e+02]\n"
     ]
    },
    {
     "name": "stderr",
     "output_type": "stream",
     "text": [
      "\r",
      "t:  30%|███████████████▍                                   | 147/485 [00:37<01:26,  3.90it/s, now=None]"
     ]
    },
    {
     "name": "stdout",
     "output_type": "stream",
     "text": [
      "Discarded X point\n",
      "Discarded X point\n"
     ]
    },
    {
     "name": "stderr",
     "output_type": "stream",
     "text": [
      "\r",
      "t:  31%|███████████████▌                                   | 148/485 [00:37<01:24,  3.97it/s, now=None]"
     ]
    },
    {
     "name": "stdout",
     "output_type": "stream",
     "text": [
      "Discarded X point\n",
      "Wrong separation between lines\n"
     ]
    },
    {
     "name": "stderr",
     "output_type": "stream",
     "text": [
      "\r",
      "t:  31%|███████████████▋                                   | 149/485 [00:37<01:23,  4.04it/s, now=None]"
     ]
    },
    {
     "name": "stdout",
     "output_type": "stream",
     "text": [
      "Discarded X point\n"
     ]
    },
    {
     "name": "stderr",
     "output_type": "stream",
     "text": [
      "t:  32%|████████████████                                   | 153/485 [00:38<01:19,  4.18it/s, now=None]"
     ]
    },
    {
     "name": "stdout",
     "output_type": "stream",
     "text": [
      "Wrong separation between lines\n"
     ]
    },
    {
     "name": "stderr",
     "output_type": "stream",
     "text": [
      "t:  34%|█████████████████▌                                 | 167/485 [00:41<01:19,  3.99it/s, now=None]"
     ]
    },
    {
     "name": "stdout",
     "output_type": "stream",
     "text": [
      "Wrong separation between lines\n"
     ]
    },
    {
     "name": "stderr",
     "output_type": "stream",
     "text": [
      "t:  35%|█████████████████▊                                 | 169/485 [00:42<01:19,  3.99it/s, now=None]"
     ]
    },
    {
     "name": "stdout",
     "output_type": "stream",
     "text": [
      "Wrong separation between lines\n"
     ]
    },
    {
     "name": "stderr",
     "output_type": "stream",
     "text": [
      "t:  35%|██████████████████                                 | 172/485 [00:43<01:17,  4.06it/s, now=None]"
     ]
    },
    {
     "name": "stdout",
     "output_type": "stream",
     "text": [
      "Wrong separation between lines\n"
     ]
    },
    {
     "name": "stderr",
     "output_type": "stream",
     "text": [
      "\r",
      "t:  36%|██████████████████▏                                | 173/485 [00:43<01:14,  4.19it/s, now=None]"
     ]
    },
    {
     "name": "stdout",
     "output_type": "stream",
     "text": [
      "Wrong separation between lines\n"
     ]
    },
    {
     "name": "stderr",
     "output_type": "stream",
     "text": [
      "\r",
      "t:  36%|██████████████████▎                                | 174/485 [00:43<01:14,  4.20it/s, now=None]"
     ]
    },
    {
     "name": "stdout",
     "output_type": "stream",
     "text": [
      "Wrong separation between lines\n"
     ]
    },
    {
     "name": "stderr",
     "output_type": "stream",
     "text": [
      "\r",
      "t:  36%|██████████████████▍                                | 175/485 [00:43<01:14,  4.16it/s, now=None]"
     ]
    },
    {
     "name": "stdout",
     "output_type": "stream",
     "text": [
      "Wrong separation between lines\n"
     ]
    },
    {
     "name": "stderr",
     "output_type": "stream",
     "text": [
      "\r",
      "t:  36%|██████████████████▌                                | 176/485 [00:44<01:13,  4.23it/s, now=None]"
     ]
    },
    {
     "name": "stdout",
     "output_type": "stream",
     "text": [
      "Wrong separation between lines\n"
     ]
    },
    {
     "name": "stderr",
     "output_type": "stream",
     "text": [
      "\r",
      "t:  36%|██████████████████▌                                | 177/485 [00:44<01:12,  4.26it/s, now=None]"
     ]
    },
    {
     "name": "stdout",
     "output_type": "stream",
     "text": [
      "Wrong separation between lines\n"
     ]
    },
    {
     "name": "stderr",
     "output_type": "stream",
     "text": [
      "\r",
      "t:  37%|██████████████████▋                                | 178/485 [00:44<01:13,  4.17it/s, now=None]"
     ]
    },
    {
     "name": "stdout",
     "output_type": "stream",
     "text": [
      "Wrong separation between lines\n"
     ]
    },
    {
     "name": "stderr",
     "output_type": "stream",
     "text": [
      "\r",
      "t:  37%|██████████████████▊                                | 179/485 [00:44<01:10,  4.33it/s, now=None]"
     ]
    },
    {
     "name": "stdout",
     "output_type": "stream",
     "text": [
      "Wrong separation between lines\n"
     ]
    },
    {
     "name": "stderr",
     "output_type": "stream",
     "text": [
      "\r",
      "t:  37%|██████████████████▉                                | 180/485 [00:44<01:09,  4.41it/s, now=None]"
     ]
    },
    {
     "name": "stdout",
     "output_type": "stream",
     "text": [
      "Wrong separation between lines\n"
     ]
    },
    {
     "name": "stderr",
     "output_type": "stream",
     "text": [
      "\r",
      "t:  37%|███████████████████                                | 181/485 [00:45<01:09,  4.38it/s, now=None]"
     ]
    },
    {
     "name": "stdout",
     "output_type": "stream",
     "text": [
      "Wrong separation between lines\n"
     ]
    },
    {
     "name": "stderr",
     "output_type": "stream",
     "text": [
      "\r",
      "t:  38%|███████████████████▏                               | 182/485 [00:45<01:10,  4.31it/s, now=None]"
     ]
    },
    {
     "name": "stdout",
     "output_type": "stream",
     "text": [
      "Wrong separation between lines\n"
     ]
    },
    {
     "name": "stderr",
     "output_type": "stream",
     "text": [
      "\r",
      "t:  38%|███████████████████▏                               | 183/485 [00:45<01:11,  4.20it/s, now=None]"
     ]
    },
    {
     "name": "stdout",
     "output_type": "stream",
     "text": [
      "Wrong separation between lines\n"
     ]
    },
    {
     "name": "stderr",
     "output_type": "stream",
     "text": [
      "\r",
      "t:  38%|███████████████████▎                               | 184/485 [00:45<01:13,  4.11it/s, now=None]"
     ]
    },
    {
     "name": "stdout",
     "output_type": "stream",
     "text": [
      "Wrong separation between lines\n"
     ]
    },
    {
     "name": "stderr",
     "output_type": "stream",
     "text": [
      "\r",
      "t:  38%|███████████████████▍                               | 185/485 [00:46<01:11,  4.19it/s, now=None]"
     ]
    },
    {
     "name": "stdout",
     "output_type": "stream",
     "text": [
      "Wrong separation between lines\n"
     ]
    },
    {
     "name": "stderr",
     "output_type": "stream",
     "text": [
      "\r",
      "t:  38%|███████████████████▌                               | 186/485 [00:46<01:10,  4.26it/s, now=None]"
     ]
    },
    {
     "name": "stdout",
     "output_type": "stream",
     "text": [
      "Wrong separation between lines\n"
     ]
    },
    {
     "name": "stderr",
     "output_type": "stream",
     "text": [
      "\r",
      "t:  39%|███████████████████▋                               | 187/485 [00:46<01:09,  4.26it/s, now=None]"
     ]
    },
    {
     "name": "stdout",
     "output_type": "stream",
     "text": [
      "Wrong separation between lines\n"
     ]
    },
    {
     "name": "stderr",
     "output_type": "stream",
     "text": [
      "\r",
      "t:  39%|███████████████████▊                               | 188/485 [00:46<01:09,  4.25it/s, now=None]"
     ]
    },
    {
     "name": "stdout",
     "output_type": "stream",
     "text": [
      "Wrong separation between lines\n"
     ]
    },
    {
     "name": "stderr",
     "output_type": "stream",
     "text": [
      "\r",
      "t:  39%|███████████████████▊                               | 189/485 [00:47<01:08,  4.30it/s, now=None]"
     ]
    },
    {
     "name": "stdout",
     "output_type": "stream",
     "text": [
      "Wrong separation between lines\n"
     ]
    },
    {
     "name": "stderr",
     "output_type": "stream",
     "text": [
      "\r",
      "t:  39%|███████████████████▉                               | 190/485 [00:47<01:08,  4.30it/s, now=None]"
     ]
    },
    {
     "name": "stdout",
     "output_type": "stream",
     "text": [
      "Wrong separation between lines\n"
     ]
    },
    {
     "name": "stderr",
     "output_type": "stream",
     "text": [
      "\r",
      "t:  39%|████████████████████                               | 191/485 [00:47<01:08,  4.29it/s, now=None]"
     ]
    },
    {
     "name": "stdout",
     "output_type": "stream",
     "text": [
      "Wrong separation between lines\n"
     ]
    },
    {
     "name": "stderr",
     "output_type": "stream",
     "text": [
      "\r",
      "t:  40%|████████████████████▏                              | 192/485 [00:47<01:09,  4.24it/s, now=None]"
     ]
    },
    {
     "name": "stdout",
     "output_type": "stream",
     "text": [
      "Wrong separation between lines\n"
     ]
    },
    {
     "name": "stderr",
     "output_type": "stream",
     "text": [
      "\r",
      "t:  40%|████████████████████▎                              | 193/485 [00:48<01:08,  4.26it/s, now=None]"
     ]
    },
    {
     "name": "stdout",
     "output_type": "stream",
     "text": [
      "Wrong separation between lines\n"
     ]
    },
    {
     "name": "stderr",
     "output_type": "stream",
     "text": [
      "\r",
      "t:  40%|████████████████████▍                              | 194/485 [00:48<01:08,  4.22it/s, now=None]"
     ]
    },
    {
     "name": "stdout",
     "output_type": "stream",
     "text": [
      "Wrong separation between lines\n"
     ]
    },
    {
     "name": "stderr",
     "output_type": "stream",
     "text": [
      "\r",
      "t:  40%|████████████████████▌                              | 195/485 [00:48<01:08,  4.26it/s, now=None]"
     ]
    },
    {
     "name": "stdout",
     "output_type": "stream",
     "text": [
      "Wrong separation between lines\n"
     ]
    },
    {
     "name": "stderr",
     "output_type": "stream",
     "text": [
      "\r",
      "t:  40%|████████████████████▌                              | 196/485 [00:48<01:07,  4.29it/s, now=None]"
     ]
    },
    {
     "name": "stdout",
     "output_type": "stream",
     "text": [
      "Wrong separation between lines\n"
     ]
    },
    {
     "name": "stderr",
     "output_type": "stream",
     "text": [
      "\r",
      "t:  41%|████████████████████▋                              | 197/485 [00:48<01:06,  4.32it/s, now=None]"
     ]
    },
    {
     "name": "stdout",
     "output_type": "stream",
     "text": [
      "Wrong separation between lines\n"
     ]
    },
    {
     "name": "stderr",
     "output_type": "stream",
     "text": [
      "\r",
      "t:  41%|████████████████████▊                              | 198/485 [00:49<01:06,  4.31it/s, now=None]"
     ]
    },
    {
     "name": "stdout",
     "output_type": "stream",
     "text": [
      "Wrong separation between lines\n"
     ]
    },
    {
     "name": "stderr",
     "output_type": "stream",
     "text": [
      "\r",
      "t:  41%|████████████████████▉                              | 199/485 [00:49<01:05,  4.37it/s, now=None]"
     ]
    },
    {
     "name": "stdout",
     "output_type": "stream",
     "text": [
      "Wrong separation between lines\n"
     ]
    },
    {
     "name": "stderr",
     "output_type": "stream",
     "text": [
      "\r",
      "t:  41%|█████████████████████                              | 200/485 [00:49<01:05,  4.35it/s, now=None]"
     ]
    },
    {
     "name": "stdout",
     "output_type": "stream",
     "text": [
      "Wrong separation between lines\n"
     ]
    },
    {
     "name": "stderr",
     "output_type": "stream",
     "text": [
      "\r",
      "t:  41%|█████████████████████▏                             | 201/485 [00:49<01:05,  4.34it/s, now=None]"
     ]
    },
    {
     "name": "stdout",
     "output_type": "stream",
     "text": [
      "Wrong separation between lines\n"
     ]
    },
    {
     "name": "stderr",
     "output_type": "stream",
     "text": [
      "\r",
      "t:  42%|█████████████████████▏                             | 202/485 [00:50<01:05,  4.34it/s, now=None]"
     ]
    },
    {
     "name": "stdout",
     "output_type": "stream",
     "text": [
      "Wrong separation between lines\n"
     ]
    },
    {
     "name": "stderr",
     "output_type": "stream",
     "text": [
      "\r",
      "t:  42%|█████████████████████▎                             | 203/485 [00:50<01:04,  4.38it/s, now=None]"
     ]
    },
    {
     "name": "stdout",
     "output_type": "stream",
     "text": [
      "Wrong separation between lines\n"
     ]
    },
    {
     "name": "stderr",
     "output_type": "stream",
     "text": [
      "\r",
      "t:  42%|█████████████████████▍                             | 204/485 [00:50<01:04,  4.34it/s, now=None]"
     ]
    },
    {
     "name": "stdout",
     "output_type": "stream",
     "text": [
      "Wrong separation between lines\n"
     ]
    },
    {
     "name": "stderr",
     "output_type": "stream",
     "text": [
      "\r",
      "t:  42%|█████████████████████▌                             | 205/485 [00:50<01:05,  4.29it/s, now=None]"
     ]
    },
    {
     "name": "stdout",
     "output_type": "stream",
     "text": [
      "Wrong separation between lines\n"
     ]
    },
    {
     "name": "stderr",
     "output_type": "stream",
     "text": [
      "\r",
      "t:  42%|█████████████████████▋                             | 206/485 [00:51<01:04,  4.29it/s, now=None]"
     ]
    },
    {
     "name": "stdout",
     "output_type": "stream",
     "text": [
      "Wrong separation between lines\n"
     ]
    },
    {
     "name": "stderr",
     "output_type": "stream",
     "text": [
      "\r",
      "t:  43%|█████████████████████▊                             | 207/485 [00:51<01:04,  4.30it/s, now=None]"
     ]
    },
    {
     "name": "stdout",
     "output_type": "stream",
     "text": [
      "Wrong separation between lines\n"
     ]
    },
    {
     "name": "stderr",
     "output_type": "stream",
     "text": [
      "\r",
      "t:  43%|█████████████████████▊                             | 208/485 [00:51<01:04,  4.30it/s, now=None]"
     ]
    },
    {
     "name": "stdout",
     "output_type": "stream",
     "text": [
      "Wrong separation between lines\n"
     ]
    },
    {
     "name": "stderr",
     "output_type": "stream",
     "text": [
      "\r",
      "t:  43%|█████████████████████▉                             | 209/485 [00:51<01:03,  4.35it/s, now=None]"
     ]
    },
    {
     "name": "stdout",
     "output_type": "stream",
     "text": [
      "Wrong separation between lines\n"
     ]
    },
    {
     "name": "stderr",
     "output_type": "stream",
     "text": [
      "\r",
      "t:  43%|██████████████████████                             | 210/485 [00:51<01:03,  4.35it/s, now=None]"
     ]
    },
    {
     "name": "stdout",
     "output_type": "stream",
     "text": [
      "Wrong separation between lines\n"
     ]
    },
    {
     "name": "stderr",
     "output_type": "stream",
     "text": [
      "\r",
      "t:  44%|██████████████████████▏                            | 211/485 [00:52<01:02,  4.35it/s, now=None]"
     ]
    },
    {
     "name": "stdout",
     "output_type": "stream",
     "text": [
      "Wrong separation between lines\n"
     ]
    },
    {
     "name": "stderr",
     "output_type": "stream",
     "text": [
      "\r",
      "t:  44%|██████████████████████▎                            | 212/485 [00:52<01:02,  4.37it/s, now=None]"
     ]
    },
    {
     "name": "stdout",
     "output_type": "stream",
     "text": [
      "Wrong separation between lines\n"
     ]
    },
    {
     "name": "stderr",
     "output_type": "stream",
     "text": [
      "\r",
      "t:  44%|██████████████████████▍                            | 213/485 [00:52<01:01,  4.40it/s, now=None]"
     ]
    },
    {
     "name": "stdout",
     "output_type": "stream",
     "text": [
      "Wrong separation between lines\n"
     ]
    },
    {
     "name": "stderr",
     "output_type": "stream",
     "text": [
      "\r",
      "t:  44%|██████████████████████▌                            | 214/485 [00:52<01:02,  4.32it/s, now=None]"
     ]
    },
    {
     "name": "stdout",
     "output_type": "stream",
     "text": [
      "Wrong separation between lines\n"
     ]
    },
    {
     "name": "stderr",
     "output_type": "stream",
     "text": [
      "\r",
      "t:  44%|██████████████████████▌                            | 215/485 [00:53<01:01,  4.38it/s, now=None]"
     ]
    },
    {
     "name": "stdout",
     "output_type": "stream",
     "text": [
      "Wrong separation between lines\n"
     ]
    },
    {
     "name": "stderr",
     "output_type": "stream",
     "text": [
      "\r",
      "t:  45%|██████████████████████▋                            | 216/485 [00:53<01:01,  4.38it/s, now=None]"
     ]
    },
    {
     "name": "stdout",
     "output_type": "stream",
     "text": [
      "Wrong separation between lines\n"
     ]
    },
    {
     "name": "stderr",
     "output_type": "stream",
     "text": [
      "\r",
      "t:  45%|██████████████████████▊                            | 217/485 [00:53<01:02,  4.32it/s, now=None]"
     ]
    },
    {
     "name": "stdout",
     "output_type": "stream",
     "text": [
      "Wrong separation between lines\n"
     ]
    },
    {
     "name": "stderr",
     "output_type": "stream",
     "text": [
      "\r",
      "t:  45%|██████████████████████▉                            | 218/485 [00:53<01:01,  4.33it/s, now=None]"
     ]
    },
    {
     "name": "stdout",
     "output_type": "stream",
     "text": [
      "Wrong separation between lines\n"
     ]
    },
    {
     "name": "stderr",
     "output_type": "stream",
     "text": [
      "\r",
      "t:  45%|███████████████████████                            | 219/485 [00:54<01:01,  4.33it/s, now=None]"
     ]
    },
    {
     "name": "stdout",
     "output_type": "stream",
     "text": [
      "Wrong separation between lines\n"
     ]
    },
    {
     "name": "stderr",
     "output_type": "stream",
     "text": [
      "\r",
      "t:  45%|███████████████████████▏                           | 220/485 [00:54<01:00,  4.40it/s, now=None]"
     ]
    },
    {
     "name": "stdout",
     "output_type": "stream",
     "text": [
      "Wrong separation between lines\n"
     ]
    },
    {
     "name": "stderr",
     "output_type": "stream",
     "text": [
      "\r",
      "t:  46%|███████████████████████▏                           | 221/485 [00:54<00:59,  4.44it/s, now=None]"
     ]
    },
    {
     "name": "stdout",
     "output_type": "stream",
     "text": [
      "Wrong separation between lines\n"
     ]
    },
    {
     "name": "stderr",
     "output_type": "stream",
     "text": [
      "t:  46%|███████████████████████▍                           | 223/485 [00:54<00:59,  4.40it/s, now=None]"
     ]
    },
    {
     "name": "stdout",
     "output_type": "stream",
     "text": [
      "Wrong separation between lines\n"
     ]
    },
    {
     "name": "stderr",
     "output_type": "stream",
     "text": [
      "\r",
      "t:  46%|███████████████████████▌                           | 224/485 [00:55<00:58,  4.46it/s, now=None]"
     ]
    },
    {
     "name": "stdout",
     "output_type": "stream",
     "text": [
      "Wrong separation between lines\n"
     ]
    },
    {
     "name": "stderr",
     "output_type": "stream",
     "text": [
      "\r",
      "t:  46%|███████████████████████▋                           | 225/485 [00:55<00:58,  4.42it/s, now=None]"
     ]
    },
    {
     "name": "stdout",
     "output_type": "stream",
     "text": [
      "Wrong separation between lines\n"
     ]
    },
    {
     "name": "stderr",
     "output_type": "stream",
     "text": [
      "\r",
      "t:  47%|███████████████████████▊                           | 226/485 [00:55<00:58,  4.39it/s, now=None]"
     ]
    },
    {
     "name": "stdout",
     "output_type": "stream",
     "text": [
      "Wrong separation between lines\n"
     ]
    },
    {
     "name": "stderr",
     "output_type": "stream",
     "text": [
      "\r",
      "t:  47%|███████████████████████▊                           | 227/485 [00:55<00:59,  4.37it/s, now=None]"
     ]
    },
    {
     "name": "stdout",
     "output_type": "stream",
     "text": [
      "Wrong separation between lines\n"
     ]
    },
    {
     "name": "stderr",
     "output_type": "stream",
     "text": [
      "\r",
      "t:  47%|███████████████████████▉                           | 228/485 [00:56<00:58,  4.36it/s, now=None]"
     ]
    },
    {
     "name": "stdout",
     "output_type": "stream",
     "text": [
      "Wrong separation between lines\n"
     ]
    },
    {
     "name": "stderr",
     "output_type": "stream",
     "text": [
      "\r",
      "t:  47%|████████████████████████                           | 229/485 [00:56<00:59,  4.29it/s, now=None]"
     ]
    },
    {
     "name": "stdout",
     "output_type": "stream",
     "text": [
      "Wrong separation between lines\n"
     ]
    },
    {
     "name": "stderr",
     "output_type": "stream",
     "text": [
      "t:  48%|████████████████████████▎                          | 231/485 [00:56<00:56,  4.46it/s, now=None]"
     ]
    },
    {
     "name": "stdout",
     "output_type": "stream",
     "text": [
      "Wrong separation between lines\n"
     ]
    },
    {
     "name": "stderr",
     "output_type": "stream",
     "text": [
      "\r",
      "t:  48%|████████████████████████▍                          | 232/485 [00:56<00:57,  4.43it/s, now=None]"
     ]
    },
    {
     "name": "stdout",
     "output_type": "stream",
     "text": [
      "Wrong separation between lines\n"
     ]
    },
    {
     "name": "stderr",
     "output_type": "stream",
     "text": [
      "\r",
      "t:  48%|████████████████████████▌                          | 233/485 [00:57<00:55,  4.50it/s, now=None]"
     ]
    },
    {
     "name": "stdout",
     "output_type": "stream",
     "text": [
      "Wrong separation between lines\n"
     ]
    },
    {
     "name": "stderr",
     "output_type": "stream",
     "text": [
      "\r",
      "t:  48%|████████████████████████▌                          | 234/485 [00:57<00:57,  4.39it/s, now=None]"
     ]
    },
    {
     "name": "stdout",
     "output_type": "stream",
     "text": [
      "Wrong separation between lines\n"
     ]
    },
    {
     "name": "stderr",
     "output_type": "stream",
     "text": [
      "\r",
      "t:  48%|████████████████████████▋                          | 235/485 [00:57<00:57,  4.36it/s, now=None]"
     ]
    },
    {
     "name": "stdout",
     "output_type": "stream",
     "text": [
      "Wrong separation between lines\n"
     ]
    },
    {
     "name": "stderr",
     "output_type": "stream",
     "text": [
      "\r",
      "t:  49%|████████████████████████▊                          | 236/485 [00:57<00:55,  4.46it/s, now=None]"
     ]
    },
    {
     "name": "stdout",
     "output_type": "stream",
     "text": [
      "Wrong separation between lines\n"
     ]
    },
    {
     "name": "stderr",
     "output_type": "stream",
     "text": [
      "\r",
      "t:  49%|████████████████████████▉                          | 237/485 [00:58<00:56,  4.37it/s, now=None]"
     ]
    },
    {
     "name": "stdout",
     "output_type": "stream",
     "text": [
      "Wrong separation between lines\n",
      "Wrong separation between lines\n"
     ]
    },
    {
     "name": "stderr",
     "output_type": "stream",
     "text": [
      "t:  49%|█████████████████████████▏                         | 239/485 [00:58<00:54,  4.55it/s, now=None]"
     ]
    },
    {
     "name": "stdout",
     "output_type": "stream",
     "text": [
      "Wrong separation between lines\n"
     ]
    },
    {
     "name": "stderr",
     "output_type": "stream",
     "text": [
      "\r",
      "t:  49%|█████████████████████████▏                         | 240/485 [00:58<00:53,  4.54it/s, now=None]"
     ]
    },
    {
     "name": "stdout",
     "output_type": "stream",
     "text": [
      "Wrong separation between lines\n"
     ]
    },
    {
     "name": "stderr",
     "output_type": "stream",
     "text": [
      "\r",
      "t:  50%|█████████████████████████▎                         | 241/485 [00:58<00:54,  4.48it/s, now=None]"
     ]
    },
    {
     "name": "stdout",
     "output_type": "stream",
     "text": [
      "Wrong separation between lines\n"
     ]
    },
    {
     "name": "stderr",
     "output_type": "stream",
     "text": [
      "\r",
      "t:  50%|█████████████████████████▍                         | 242/485 [00:59<00:54,  4.49it/s, now=None]"
     ]
    },
    {
     "name": "stdout",
     "output_type": "stream",
     "text": [
      "Wrong separation between lines\n"
     ]
    },
    {
     "name": "stderr",
     "output_type": "stream",
     "text": [
      "\r",
      "t:  50%|█████████████████████████▌                         | 243/485 [00:59<00:54,  4.45it/s, now=None]"
     ]
    },
    {
     "name": "stdout",
     "output_type": "stream",
     "text": [
      "Wrong separation between lines\n"
     ]
    },
    {
     "name": "stderr",
     "output_type": "stream",
     "text": [
      "t:  51%|█████████████████████████▊                         | 245/485 [00:59<00:54,  4.41it/s, now=None]"
     ]
    },
    {
     "name": "stdout",
     "output_type": "stream",
     "text": [
      "Wrong separation between lines\n"
     ]
    },
    {
     "name": "stderr",
     "output_type": "stream",
     "text": [
      "t:  51%|█████████████████████████▉                         | 247/485 [01:00<00:56,  4.19it/s, now=None]"
     ]
    },
    {
     "name": "stdout",
     "output_type": "stream",
     "text": [
      "Wrong separation between lines\n"
     ]
    },
    {
     "name": "stderr",
     "output_type": "stream",
     "text": [
      "\r",
      "t:  51%|██████████████████████████                         | 248/485 [01:00<00:56,  4.22it/s, now=None]"
     ]
    },
    {
     "name": "stdout",
     "output_type": "stream",
     "text": [
      "Wrong separation between lines\n"
     ]
    },
    {
     "name": "stderr",
     "output_type": "stream",
     "text": [
      "\r",
      "t:  51%|██████████████████████████▏                        | 249/485 [01:00<00:55,  4.22it/s, now=None]"
     ]
    },
    {
     "name": "stdout",
     "output_type": "stream",
     "text": [
      "Wrong separation between lines\n"
     ]
    },
    {
     "name": "stderr",
     "output_type": "stream",
     "text": [
      "\r",
      "t:  52%|██████████████████████████▎                        | 250/485 [01:01<00:55,  4.23it/s, now=None]"
     ]
    },
    {
     "name": "stdout",
     "output_type": "stream",
     "text": [
      "Wrong separation between lines\n"
     ]
    },
    {
     "name": "stderr",
     "output_type": "stream",
     "text": [
      "t:  53%|██████████████████████████▊                        | 255/485 [01:02<00:53,  4.33it/s, now=None]"
     ]
    },
    {
     "name": "stdout",
     "output_type": "stream",
     "text": [
      "Wrong separation between lines\n"
     ]
    },
    {
     "name": "stderr",
     "output_type": "stream",
     "text": [
      "\r",
      "t:  53%|██████████████████████████▉                        | 256/485 [01:02<00:53,  4.25it/s, now=None]"
     ]
    },
    {
     "name": "stdout",
     "output_type": "stream",
     "text": [
      "Wrong separation between lines\n"
     ]
    },
    {
     "name": "stderr",
     "output_type": "stream",
     "text": [
      "\r",
      "t:  53%|███████████████████████████                        | 257/485 [01:02<00:52,  4.34it/s, now=None]"
     ]
    },
    {
     "name": "stdout",
     "output_type": "stream",
     "text": [
      "Wrong separation between lines\n"
     ]
    },
    {
     "name": "stderr",
     "output_type": "stream",
     "text": [
      "\r",
      "t:  53%|███████████████████████████▏                       | 258/485 [01:02<00:51,  4.39it/s, now=None]"
     ]
    },
    {
     "name": "stdout",
     "output_type": "stream",
     "text": [
      "Wrong separation between lines\n"
     ]
    },
    {
     "name": "stderr",
     "output_type": "stream",
     "text": [
      "\r",
      "t:  53%|███████████████████████████▏                       | 259/485 [01:03<00:53,  4.19it/s, now=None]"
     ]
    },
    {
     "name": "stdout",
     "output_type": "stream",
     "text": [
      "Wrong separation between lines\n"
     ]
    },
    {
     "name": "stderr",
     "output_type": "stream",
     "text": [
      "\r",
      "t:  54%|███████████████████████████▎                       | 260/485 [01:03<00:53,  4.18it/s, now=None]"
     ]
    },
    {
     "name": "stdout",
     "output_type": "stream",
     "text": [
      "Wrong separation between lines\n"
     ]
    },
    {
     "name": "stderr",
     "output_type": "stream",
     "text": [
      "\r",
      "t:  54%|███████████████████████████▍                       | 261/485 [01:03<00:53,  4.18it/s, now=None]"
     ]
    },
    {
     "name": "stdout",
     "output_type": "stream",
     "text": [
      "Wrong separation between lines\n"
     ]
    },
    {
     "name": "stderr",
     "output_type": "stream",
     "text": [
      "\r",
      "t:  54%|███████████████████████████▌                       | 262/485 [01:03<00:53,  4.19it/s, now=None]"
     ]
    },
    {
     "name": "stdout",
     "output_type": "stream",
     "text": [
      "Wrong separation between lines\n"
     ]
    },
    {
     "name": "stderr",
     "output_type": "stream",
     "text": [
      "\r",
      "t:  54%|███████████████████████████▋                       | 263/485 [01:04<00:51,  4.35it/s, now=None]"
     ]
    },
    {
     "name": "stdout",
     "output_type": "stream",
     "text": [
      "Wrong separation between lines\n"
     ]
    },
    {
     "name": "stderr",
     "output_type": "stream",
     "text": [
      "\r",
      "t:  54%|███████████████████████████▊                       | 264/485 [01:04<00:50,  4.39it/s, now=None]"
     ]
    },
    {
     "name": "stdout",
     "output_type": "stream",
     "text": [
      "Wrong separation between lines\n"
     ]
    },
    {
     "name": "stderr",
     "output_type": "stream",
     "text": [
      "\r",
      "t:  55%|███████████████████████████▊                       | 265/485 [01:04<00:49,  4.41it/s, now=None]"
     ]
    },
    {
     "name": "stdout",
     "output_type": "stream",
     "text": [
      "Wrong separation between lines\n"
     ]
    },
    {
     "name": "stderr",
     "output_type": "stream",
     "text": [
      "\r",
      "t:  55%|███████████████████████████▉                       | 266/485 [01:04<00:50,  4.38it/s, now=None]"
     ]
    },
    {
     "name": "stdout",
     "output_type": "stream",
     "text": [
      "Wrong separation between lines\n"
     ]
    },
    {
     "name": "stderr",
     "output_type": "stream",
     "text": [
      "t:  55%|████████████████████████████▏                      | 268/485 [01:05<00:49,  4.39it/s, now=None]"
     ]
    },
    {
     "name": "stdout",
     "output_type": "stream",
     "text": [
      "Wrong separation between lines\n"
     ]
    },
    {
     "name": "stderr",
     "output_type": "stream",
     "text": [
      "\r",
      "t:  55%|████████████████████████████▎                      | 269/485 [01:05<00:50,  4.29it/s, now=None]"
     ]
    },
    {
     "name": "stdout",
     "output_type": "stream",
     "text": [
      "Wrong separation between lines\n"
     ]
    },
    {
     "name": "stderr",
     "output_type": "stream",
     "text": [
      "\r",
      "t:  56%|████████████████████████████▍                      | 270/485 [01:05<00:48,  4.42it/s, now=None]"
     ]
    },
    {
     "name": "stdout",
     "output_type": "stream",
     "text": [
      "Wrong separation between lines\n"
     ]
    },
    {
     "name": "stderr",
     "output_type": "stream",
     "text": [
      "t:  56%|████████████████████████████▌                      | 272/485 [01:06<00:47,  4.44it/s, now=None]"
     ]
    },
    {
     "name": "stdout",
     "output_type": "stream",
     "text": [
      "Wrong separation between lines\n"
     ]
    },
    {
     "name": "stderr",
     "output_type": "stream",
     "text": [
      "\r",
      "t:  56%|████████████████████████████▋                      | 273/485 [01:06<00:47,  4.46it/s, now=None]"
     ]
    },
    {
     "name": "stdout",
     "output_type": "stream",
     "text": [
      "Wrong separation between lines\n"
     ]
    },
    {
     "name": "stderr",
     "output_type": "stream",
     "text": [
      "\r",
      "t:  56%|████████████████████████████▊                      | 274/485 [01:06<00:48,  4.35it/s, now=None]"
     ]
    },
    {
     "name": "stdout",
     "output_type": "stream",
     "text": [
      "Wrong separation between lines\n"
     ]
    },
    {
     "name": "stderr",
     "output_type": "stream",
     "text": [
      "\r",
      "t:  57%|████████████████████████████▉                      | 275/485 [01:06<00:47,  4.39it/s, now=None]"
     ]
    },
    {
     "name": "stdout",
     "output_type": "stream",
     "text": [
      "Wrong separation between lines\n"
     ]
    },
    {
     "name": "stderr",
     "output_type": "stream",
     "text": [
      "\r",
      "t:  57%|█████████████████████████████                      | 276/485 [01:07<00:46,  4.48it/s, now=None]"
     ]
    },
    {
     "name": "stdout",
     "output_type": "stream",
     "text": [
      "Wrong separation between lines\n"
     ]
    },
    {
     "name": "stderr",
     "output_type": "stream",
     "text": [
      "t:  58%|█████████████████████████████▍                     | 280/485 [01:08<00:46,  4.37it/s, now=None]"
     ]
    },
    {
     "name": "stdout",
     "output_type": "stream",
     "text": [
      "Wrong separation between lines\n"
     ]
    },
    {
     "name": "stderr",
     "output_type": "stream",
     "text": [
      "t:  58%|█████████████████████████████▋                     | 282/485 [01:08<00:48,  4.22it/s, now=None]"
     ]
    },
    {
     "name": "stdout",
     "output_type": "stream",
     "text": [
      "Wrong separation between lines\n"
     ]
    },
    {
     "name": "stderr",
     "output_type": "stream",
     "text": [
      "t:  59%|█████████████████████████████▊                     | 284/485 [01:08<00:47,  4.22it/s, now=None]"
     ]
    },
    {
     "name": "stdout",
     "output_type": "stream",
     "text": [
      "Wrong separation between lines\n"
     ]
    },
    {
     "name": "stderr",
     "output_type": "stream",
     "text": [
      "t:  59%|██████████████████████████████                     | 286/485 [01:09<00:47,  4.21it/s, now=None]"
     ]
    },
    {
     "name": "stdout",
     "output_type": "stream",
     "text": [
      "Wrong separation between lines\n"
     ]
    },
    {
     "name": "stderr",
     "output_type": "stream",
     "text": [
      "t:  59%|██████████████████████████████▎                    | 288/485 [01:09<00:49,  4.00it/s, now=None]"
     ]
    },
    {
     "name": "stdout",
     "output_type": "stream",
     "text": [
      "Wrong separation between lines\n"
     ]
    },
    {
     "name": "stderr",
     "output_type": "stream",
     "text": [
      "t:  60%|██████████████████████████████▍                    | 290/485 [01:10<00:48,  4.03it/s, now=None]"
     ]
    },
    {
     "name": "stdout",
     "output_type": "stream",
     "text": [
      "Wrong separation between lines\n"
     ]
    },
    {
     "name": "stderr",
     "output_type": "stream",
     "text": [
      "t:  60%|██████████████████████████████▋                    | 292/485 [01:10<00:46,  4.14it/s, now=None]"
     ]
    },
    {
     "name": "stdout",
     "output_type": "stream",
     "text": [
      "Wrong separation between lines\n"
     ]
    },
    {
     "name": "stderr",
     "output_type": "stream",
     "text": [
      "\r",
      "t:  60%|██████████████████████████████▊                    | 293/485 [01:11<00:45,  4.25it/s, now=None]"
     ]
    },
    {
     "name": "stdout",
     "output_type": "stream",
     "text": [
      "Wrong separation between lines\n"
     ]
    },
    {
     "name": "stderr",
     "output_type": "stream",
     "text": [
      "t:  61%|███████████████████████████████                    | 295/485 [01:11<00:45,  4.22it/s, now=None]"
     ]
    },
    {
     "name": "stdout",
     "output_type": "stream",
     "text": [
      "Wrong separation between lines\n",
      "Wrong separation between lines\n"
     ]
    },
    {
     "name": "stderr",
     "output_type": "stream",
     "text": [
      "t:  61%|███████████████████████████████▏                   | 297/485 [01:12<00:41,  4.49it/s, now=None]"
     ]
    },
    {
     "name": "stdout",
     "output_type": "stream",
     "text": [
      "Wrong separation between lines\n"
     ]
    },
    {
     "name": "stderr",
     "output_type": "stream",
     "text": [
      "t:  62%|███████████████████████████████▍                   | 299/485 [01:12<00:41,  4.45it/s, now=None]"
     ]
    },
    {
     "name": "stdout",
     "output_type": "stream",
     "text": [
      "Wrong separation between lines\n"
     ]
    },
    {
     "name": "stderr",
     "output_type": "stream",
     "text": [
      "\r",
      "t:  62%|███████████████████████████████▌                   | 300/485 [01:12<00:41,  4.43it/s, now=None]"
     ]
    },
    {
     "name": "stdout",
     "output_type": "stream",
     "text": [
      "Wrong separation between lines\n"
     ]
    },
    {
     "name": "stderr",
     "output_type": "stream",
     "text": [
      "\r",
      "t:  62%|███████████████████████████████▋                   | 301/485 [01:12<00:41,  4.43it/s, now=None]"
     ]
    },
    {
     "name": "stdout",
     "output_type": "stream",
     "text": [
      "Wrong separation between lines\n"
     ]
    },
    {
     "name": "stderr",
     "output_type": "stream",
     "text": [
      "\r",
      "t:  62%|███████████████████████████████▊                   | 302/485 [01:13<00:41,  4.44it/s, now=None]"
     ]
    },
    {
     "name": "stdout",
     "output_type": "stream",
     "text": [
      "Wrong separation between lines\n"
     ]
    },
    {
     "name": "stderr",
     "output_type": "stream",
     "text": [
      "\r",
      "t:  62%|███████████████████████████████▊                   | 303/485 [01:13<00:40,  4.44it/s, now=None]"
     ]
    },
    {
     "name": "stdout",
     "output_type": "stream",
     "text": [
      "Wrong separation between lines\n"
     ]
    },
    {
     "name": "stderr",
     "output_type": "stream",
     "text": [
      "\r",
      "t:  63%|███████████████████████████████▉                   | 304/485 [01:13<00:40,  4.45it/s, now=None]"
     ]
    },
    {
     "name": "stdout",
     "output_type": "stream",
     "text": [
      "Wrong separation between lines\n"
     ]
    },
    {
     "name": "stderr",
     "output_type": "stream",
     "text": [
      "\r",
      "t:  63%|████████████████████████████████                   | 305/485 [01:13<00:40,  4.39it/s, now=None]"
     ]
    },
    {
     "name": "stdout",
     "output_type": "stream",
     "text": [
      "Wrong separation between lines\n"
     ]
    },
    {
     "name": "stderr",
     "output_type": "stream",
     "text": [
      "\r",
      "t:  63%|████████████████████████████████▏                  | 306/485 [01:14<00:41,  4.28it/s, now=None]"
     ]
    },
    {
     "name": "stdout",
     "output_type": "stream",
     "text": [
      "Wrong separation between lines\n"
     ]
    },
    {
     "name": "stderr",
     "output_type": "stream",
     "text": [
      "\r",
      "t:  63%|████████████████████████████████▎                  | 307/485 [01:14<00:42,  4.20it/s, now=None]"
     ]
    },
    {
     "name": "stdout",
     "output_type": "stream",
     "text": [
      "Wrong separation between lines\n"
     ]
    },
    {
     "name": "stderr",
     "output_type": "stream",
     "text": [
      "\r",
      "t:  64%|████████████████████████████████▍                  | 308/485 [01:14<00:42,  4.21it/s, now=None]"
     ]
    },
    {
     "name": "stdout",
     "output_type": "stream",
     "text": [
      "Wrong separation between lines\n"
     ]
    },
    {
     "name": "stderr",
     "output_type": "stream",
     "text": [
      "\r",
      "t:  64%|████████████████████████████████▍                  | 309/485 [01:14<00:41,  4.20it/s, now=None]"
     ]
    },
    {
     "name": "stdout",
     "output_type": "stream",
     "text": [
      "Wrong separation between lines\n"
     ]
    },
    {
     "name": "stderr",
     "output_type": "stream",
     "text": [
      "\r",
      "t:  64%|████████████████████████████████▌                  | 310/485 [01:15<00:41,  4.26it/s, now=None]"
     ]
    },
    {
     "name": "stdout",
     "output_type": "stream",
     "text": [
      "Wrong separation between lines\n"
     ]
    },
    {
     "name": "stderr",
     "output_type": "stream",
     "text": [
      "\r",
      "t:  64%|████████████████████████████████▋                  | 311/485 [01:15<00:40,  4.27it/s, now=None]"
     ]
    },
    {
     "name": "stdout",
     "output_type": "stream",
     "text": [
      "Wrong separation between lines\n"
     ]
    },
    {
     "name": "stderr",
     "output_type": "stream",
     "text": [
      "\r",
      "t:  64%|████████████████████████████████▊                  | 312/485 [01:15<00:41,  4.14it/s, now=None]"
     ]
    },
    {
     "name": "stdout",
     "output_type": "stream",
     "text": [
      "Wrong separation between lines\n"
     ]
    },
    {
     "name": "stderr",
     "output_type": "stream",
     "text": [
      "\r",
      "t:  65%|████████████████████████████████▉                  | 313/485 [01:15<00:40,  4.20it/s, now=None]"
     ]
    },
    {
     "name": "stdout",
     "output_type": "stream",
     "text": [
      "Wrong separation between lines\n"
     ]
    },
    {
     "name": "stderr",
     "output_type": "stream",
     "text": [
      "\r",
      "t:  65%|█████████████████████████████████                  | 314/485 [01:15<00:39,  4.34it/s, now=None]"
     ]
    },
    {
     "name": "stdout",
     "output_type": "stream",
     "text": [
      "Wrong separation between lines\n"
     ]
    },
    {
     "name": "stderr",
     "output_type": "stream",
     "text": [
      "\r",
      "t:  65%|█████████████████████████████████                  | 315/485 [01:16<00:40,  4.16it/s, now=None]"
     ]
    },
    {
     "name": "stdout",
     "output_type": "stream",
     "text": [
      "Wrong separation between lines\n"
     ]
    },
    {
     "name": "stderr",
     "output_type": "stream",
     "text": [
      "\r",
      "t:  65%|█████████████████████████████████▏                 | 316/485 [01:16<00:39,  4.32it/s, now=None]"
     ]
    },
    {
     "name": "stdout",
     "output_type": "stream",
     "text": [
      "Wrong separation between lines\n"
     ]
    },
    {
     "name": "stderr",
     "output_type": "stream",
     "text": [
      "\r",
      "t:  65%|█████████████████████████████████▎                 | 317/485 [01:16<00:39,  4.30it/s, now=None]"
     ]
    },
    {
     "name": "stdout",
     "output_type": "stream",
     "text": [
      "Wrong separation between lines\n"
     ]
    },
    {
     "name": "stderr",
     "output_type": "stream",
     "text": [
      "\r",
      "t:  66%|█████████████████████████████████▍                 | 318/485 [01:16<00:38,  4.32it/s, now=None]"
     ]
    },
    {
     "name": "stdout",
     "output_type": "stream",
     "text": [
      "Wrong separation between lines\n"
     ]
    },
    {
     "name": "stderr",
     "output_type": "stream",
     "text": [
      "\r",
      "t:  66%|█████████████████████████████████▌                 | 319/485 [01:17<00:37,  4.39it/s, now=None]"
     ]
    },
    {
     "name": "stdout",
     "output_type": "stream",
     "text": [
      "Wrong separation between lines\n"
     ]
    },
    {
     "name": "stderr",
     "output_type": "stream",
     "text": [
      "\r",
      "t:  66%|█████████████████████████████████▋                 | 320/485 [01:17<00:38,  4.34it/s, now=None]"
     ]
    },
    {
     "name": "stdout",
     "output_type": "stream",
     "text": [
      "Wrong separation between lines\n"
     ]
    },
    {
     "name": "stderr",
     "output_type": "stream",
     "text": [
      "\r",
      "t:  66%|█████████████████████████████████▊                 | 321/485 [01:17<00:37,  4.37it/s, now=None]"
     ]
    },
    {
     "name": "stdout",
     "output_type": "stream",
     "text": [
      "Wrong separation between lines\n"
     ]
    },
    {
     "name": "stderr",
     "output_type": "stream",
     "text": [
      "\r",
      "t:  66%|█████████████████████████████████▊                 | 322/485 [01:17<00:37,  4.37it/s, now=None]"
     ]
    },
    {
     "name": "stdout",
     "output_type": "stream",
     "text": [
      "Wrong separation between lines\n"
     ]
    },
    {
     "name": "stderr",
     "output_type": "stream",
     "text": [
      "\r",
      "t:  67%|█████████████████████████████████▉                 | 323/485 [01:18<00:36,  4.44it/s, now=None]"
     ]
    },
    {
     "name": "stdout",
     "output_type": "stream",
     "text": [
      "Wrong separation between lines\n"
     ]
    },
    {
     "name": "stderr",
     "output_type": "stream",
     "text": [
      "\r",
      "t:  67%|██████████████████████████████████                 | 324/485 [01:18<00:37,  4.29it/s, now=None]"
     ]
    },
    {
     "name": "stdout",
     "output_type": "stream",
     "text": [
      "Wrong separation between lines\n"
     ]
    },
    {
     "name": "stderr",
     "output_type": "stream",
     "text": [
      "\r",
      "t:  67%|██████████████████████████████████▏                | 325/485 [01:18<00:37,  4.27it/s, now=None]"
     ]
    },
    {
     "name": "stdout",
     "output_type": "stream",
     "text": [
      "Wrong separation between lines\n"
     ]
    },
    {
     "name": "stderr",
     "output_type": "stream",
     "text": [
      "\r",
      "t:  67%|██████████████████████████████████▎                | 326/485 [01:18<00:37,  4.24it/s, now=None]"
     ]
    },
    {
     "name": "stdout",
     "output_type": "stream",
     "text": [
      "Wrong separation between lines\n"
     ]
    },
    {
     "name": "stderr",
     "output_type": "stream",
     "text": [
      "\r",
      "t:  67%|██████████████████████████████████▍                | 327/485 [01:18<00:36,  4.36it/s, now=None]"
     ]
    },
    {
     "name": "stdout",
     "output_type": "stream",
     "text": [
      "Wrong separation between lines\n",
      "Wrong separation between lines\n"
     ]
    },
    {
     "name": "stderr",
     "output_type": "stream",
     "text": [
      "t:  68%|██████████████████████████████████▌                | 329/485 [01:19<00:36,  4.26it/s, now=None]"
     ]
    },
    {
     "name": "stdout",
     "output_type": "stream",
     "text": [
      "Wrong separation between lines\n"
     ]
    },
    {
     "name": "stderr",
     "output_type": "stream",
     "text": [
      "\r",
      "t:  68%|██████████████████████████████████▋                | 330/485 [01:19<00:37,  4.17it/s, now=None]"
     ]
    },
    {
     "name": "stdout",
     "output_type": "stream",
     "text": [
      "Wrong separation between lines\n"
     ]
    },
    {
     "name": "stderr",
     "output_type": "stream",
     "text": [
      "\r",
      "t:  68%|██████████████████████████████████▊                | 331/485 [01:19<00:36,  4.17it/s, now=None]"
     ]
    },
    {
     "name": "stdout",
     "output_type": "stream",
     "text": [
      "Wrong separation between lines\n"
     ]
    },
    {
     "name": "stderr",
     "output_type": "stream",
     "text": [
      "\r",
      "t:  68%|██████████████████████████████████▉                | 332/485 [01:20<00:37,  4.10it/s, now=None]"
     ]
    },
    {
     "name": "stdout",
     "output_type": "stream",
     "text": [
      "Wrong separation between lines\n"
     ]
    },
    {
     "name": "stderr",
     "output_type": "stream",
     "text": [
      "\r",
      "t:  69%|███████████████████████████████████                | 333/485 [01:20<00:37,  4.05it/s, now=None]"
     ]
    },
    {
     "name": "stdout",
     "output_type": "stream",
     "text": [
      "Wrong separation between lines\n"
     ]
    },
    {
     "name": "stderr",
     "output_type": "stream",
     "text": [
      "\r",
      "t:  69%|███████████████████████████████████                | 334/485 [01:20<00:36,  4.15it/s, now=None]"
     ]
    },
    {
     "name": "stdout",
     "output_type": "stream",
     "text": [
      "Wrong separation between lines\n"
     ]
    },
    {
     "name": "stderr",
     "output_type": "stream",
     "text": [
      "\r",
      "t:  69%|███████████████████████████████████▏               | 335/485 [01:21<00:40,  3.70it/s, now=None]"
     ]
    },
    {
     "name": "stdout",
     "output_type": "stream",
     "text": [
      "Wrong separation between lines\n"
     ]
    },
    {
     "name": "stderr",
     "output_type": "stream",
     "text": [
      "\r",
      "t:  69%|███████████████████████████████████▎               | 336/485 [01:21<00:40,  3.67it/s, now=None]"
     ]
    },
    {
     "name": "stdout",
     "output_type": "stream",
     "text": [
      "Wrong separation between lines\n"
     ]
    },
    {
     "name": "stderr",
     "output_type": "stream",
     "text": [
      "\r",
      "t:  69%|███████████████████████████████████▍               | 337/485 [01:21<00:39,  3.73it/s, now=None]"
     ]
    },
    {
     "name": "stdout",
     "output_type": "stream",
     "text": [
      "Wrong separation between lines\n"
     ]
    },
    {
     "name": "stderr",
     "output_type": "stream",
     "text": [
      "\r",
      "t:  70%|███████████████████████████████████▌               | 338/485 [01:21<00:37,  3.91it/s, now=None]"
     ]
    },
    {
     "name": "stdout",
     "output_type": "stream",
     "text": [
      "Wrong separation between lines\n"
     ]
    },
    {
     "name": "stderr",
     "output_type": "stream",
     "text": [
      "\r",
      "t:  70%|███████████████████████████████████▋               | 339/485 [01:22<00:36,  3.99it/s, now=None]"
     ]
    },
    {
     "name": "stdout",
     "output_type": "stream",
     "text": [
      "Wrong separation between lines\n"
     ]
    },
    {
     "name": "stderr",
     "output_type": "stream",
     "text": [
      "\r",
      "t:  70%|███████████████████████████████████▊               | 340/485 [01:22<00:35,  4.05it/s, now=None]"
     ]
    },
    {
     "name": "stdout",
     "output_type": "stream",
     "text": [
      "Wrong separation between lines\n"
     ]
    },
    {
     "name": "stderr",
     "output_type": "stream",
     "text": [
      "\r",
      "t:  70%|███████████████████████████████████▊               | 341/485 [01:22<00:35,  4.08it/s, now=None]"
     ]
    },
    {
     "name": "stdout",
     "output_type": "stream",
     "text": [
      "Wrong separation between lines\n"
     ]
    },
    {
     "name": "stderr",
     "output_type": "stream",
     "text": [
      "\r",
      "t:  71%|███████████████████████████████████▉               | 342/485 [01:22<00:37,  3.82it/s, now=None]"
     ]
    },
    {
     "name": "stdout",
     "output_type": "stream",
     "text": [
      "Wrong separation between lines\n"
     ]
    },
    {
     "name": "stderr",
     "output_type": "stream",
     "text": [
      "\r",
      "t:  71%|████████████████████████████████████               | 343/485 [01:23<00:35,  3.96it/s, now=None]"
     ]
    },
    {
     "name": "stdout",
     "output_type": "stream",
     "text": [
      "Wrong separation between lines\n"
     ]
    },
    {
     "name": "stderr",
     "output_type": "stream",
     "text": [
      "\r",
      "t:  71%|████████████████████████████████████▏              | 344/485 [01:23<00:35,  4.00it/s, now=None]"
     ]
    },
    {
     "name": "stdout",
     "output_type": "stream",
     "text": [
      "Wrong separation between lines\n"
     ]
    },
    {
     "name": "stderr",
     "output_type": "stream",
     "text": [
      "\r",
      "t:  71%|████████████████████████████████████▎              | 345/485 [01:23<00:34,  4.08it/s, now=None]"
     ]
    },
    {
     "name": "stdout",
     "output_type": "stream",
     "text": [
      "Wrong separation between lines\n"
     ]
    },
    {
     "name": "stderr",
     "output_type": "stream",
     "text": [
      "\r",
      "t:  71%|████████████████████████████████████▍              | 346/485 [01:23<00:33,  4.16it/s, now=None]"
     ]
    },
    {
     "name": "stdout",
     "output_type": "stream",
     "text": [
      "Wrong separation between lines\n"
     ]
    },
    {
     "name": "stderr",
     "output_type": "stream",
     "text": [
      "\r",
      "t:  72%|████████████████████████████████████▍              | 347/485 [01:24<00:33,  4.08it/s, now=None]"
     ]
    },
    {
     "name": "stdout",
     "output_type": "stream",
     "text": [
      "Wrong separation between lines\n"
     ]
    },
    {
     "name": "stderr",
     "output_type": "stream",
     "text": [
      "\r",
      "t:  72%|████████████████████████████████████▌              | 348/485 [01:24<00:33,  4.09it/s, now=None]"
     ]
    },
    {
     "name": "stdout",
     "output_type": "stream",
     "text": [
      "Wrong separation between lines\n"
     ]
    },
    {
     "name": "stderr",
     "output_type": "stream",
     "text": [
      "\r",
      "t:  72%|████████████████████████████████████▋              | 349/485 [01:24<00:33,  4.06it/s, now=None]"
     ]
    },
    {
     "name": "stdout",
     "output_type": "stream",
     "text": [
      "Wrong separation between lines\n"
     ]
    },
    {
     "name": "stderr",
     "output_type": "stream",
     "text": [
      "\r",
      "t:  72%|████████████████████████████████████▊              | 350/485 [01:24<00:32,  4.13it/s, now=None]"
     ]
    },
    {
     "name": "stdout",
     "output_type": "stream",
     "text": [
      "Wrong separation between lines\n"
     ]
    },
    {
     "name": "stderr",
     "output_type": "stream",
     "text": [
      "\r",
      "t:  72%|████████████████████████████████████▉              | 351/485 [01:24<00:32,  4.14it/s, now=None]"
     ]
    },
    {
     "name": "stdout",
     "output_type": "stream",
     "text": [
      "Wrong separation between lines\n"
     ]
    },
    {
     "name": "stderr",
     "output_type": "stream",
     "text": [
      "\r",
      "t:  73%|█████████████████████████████████████              | 352/485 [01:25<00:32,  4.10it/s, now=None]"
     ]
    },
    {
     "name": "stdout",
     "output_type": "stream",
     "text": [
      "Wrong separation between lines\n"
     ]
    },
    {
     "name": "stderr",
     "output_type": "stream",
     "text": [
      "\r",
      "t:  73%|█████████████████████████████████████              | 353/485 [01:25<00:32,  4.11it/s, now=None]"
     ]
    },
    {
     "name": "stdout",
     "output_type": "stream",
     "text": [
      "Wrong separation between lines\n"
     ]
    },
    {
     "name": "stderr",
     "output_type": "stream",
     "text": [
      "\r",
      "t:  73%|█████████████████████████████████████▏             | 354/485 [01:25<00:31,  4.21it/s, now=None]"
     ]
    },
    {
     "name": "stdout",
     "output_type": "stream",
     "text": [
      "Wrong separation between lines\n"
     ]
    },
    {
     "name": "stderr",
     "output_type": "stream",
     "text": [
      "\r",
      "t:  73%|█████████████████████████████████████▎             | 355/485 [01:25<00:30,  4.19it/s, now=None]"
     ]
    },
    {
     "name": "stdout",
     "output_type": "stream",
     "text": [
      "Wrong separation between lines\n"
     ]
    },
    {
     "name": "stderr",
     "output_type": "stream",
     "text": [
      "\r",
      "t:  73%|█████████████████████████████████████▍             | 356/485 [01:26<00:31,  4.16it/s, now=None]"
     ]
    },
    {
     "name": "stdout",
     "output_type": "stream",
     "text": [
      "Wrong separation between lines\n"
     ]
    },
    {
     "name": "stderr",
     "output_type": "stream",
     "text": [
      "\r",
      "t:  74%|█████████████████████████████████████▌             | 357/485 [01:26<00:32,  3.90it/s, now=None]"
     ]
    },
    {
     "name": "stdout",
     "output_type": "stream",
     "text": [
      "Wrong separation between lines\n"
     ]
    },
    {
     "name": "stderr",
     "output_type": "stream",
     "text": [
      "\r",
      "t:  74%|█████████████████████████████████████▋             | 358/485 [01:26<00:33,  3.77it/s, now=None]"
     ]
    },
    {
     "name": "stdout",
     "output_type": "stream",
     "text": [
      "Wrong separation between lines\n"
     ]
    },
    {
     "name": "stderr",
     "output_type": "stream",
     "text": [
      "\r",
      "t:  74%|█████████████████████████████████████▊             | 359/485 [01:27<00:35,  3.55it/s, now=None]"
     ]
    },
    {
     "name": "stdout",
     "output_type": "stream",
     "text": [
      "Wrong separation between lines\n"
     ]
    },
    {
     "name": "stderr",
     "output_type": "stream",
     "text": [
      "\r",
      "t:  74%|█████████████████████████████████████▊             | 360/485 [01:27<00:34,  3.65it/s, now=None]"
     ]
    },
    {
     "name": "stdout",
     "output_type": "stream",
     "text": [
      "Wrong separation between lines\n"
     ]
    },
    {
     "name": "stderr",
     "output_type": "stream",
     "text": [
      "\r",
      "t:  74%|█████████████████████████████████████▉             | 361/485 [01:27<00:34,  3.63it/s, now=None]"
     ]
    },
    {
     "name": "stdout",
     "output_type": "stream",
     "text": [
      "Wrong separation between lines\n"
     ]
    },
    {
     "name": "stderr",
     "output_type": "stream",
     "text": [
      "\r",
      "t:  75%|██████████████████████████████████████             | 362/485 [01:27<00:34,  3.56it/s, now=None]"
     ]
    },
    {
     "name": "stdout",
     "output_type": "stream",
     "text": [
      "Wrong separation between lines\n"
     ]
    },
    {
     "name": "stderr",
     "output_type": "stream",
     "text": [
      "\r",
      "t:  75%|██████████████████████████████████████▏            | 363/485 [01:28<00:35,  3.39it/s, now=None]"
     ]
    },
    {
     "name": "stdout",
     "output_type": "stream",
     "text": [
      "Wrong separation between lines\n"
     ]
    },
    {
     "name": "stderr",
     "output_type": "stream",
     "text": [
      "\r",
      "t:  75%|██████████████████████████████████████▎            | 364/485 [01:28<00:34,  3.46it/s, now=None]"
     ]
    },
    {
     "name": "stdout",
     "output_type": "stream",
     "text": [
      "Wrong separation between lines\n"
     ]
    },
    {
     "name": "stderr",
     "output_type": "stream",
     "text": [
      "\r",
      "t:  75%|██████████████████████████████████████▍            | 365/485 [01:28<00:35,  3.38it/s, now=None]"
     ]
    },
    {
     "name": "stdout",
     "output_type": "stream",
     "text": [
      "Wrong separation between lines\n"
     ]
    },
    {
     "name": "stderr",
     "output_type": "stream",
     "text": [
      "\r",
      "t:  75%|██████████████████████████████████████▍            | 366/485 [01:29<00:38,  3.10it/s, now=None]"
     ]
    },
    {
     "name": "stdout",
     "output_type": "stream",
     "text": [
      "Wrong separation between lines\n"
     ]
    },
    {
     "name": "stderr",
     "output_type": "stream",
     "text": [
      "\r",
      "t:  76%|██████████████████████████████████████▌            | 367/485 [01:29<00:40,  2.91it/s, now=None]"
     ]
    },
    {
     "name": "stdout",
     "output_type": "stream",
     "text": [
      "Wrong separation between lines\n"
     ]
    },
    {
     "name": "stderr",
     "output_type": "stream",
     "text": [
      "\r",
      "t:  76%|██████████████████████████████████████▋            | 368/485 [01:29<00:39,  2.99it/s, now=None]"
     ]
    },
    {
     "name": "stdout",
     "output_type": "stream",
     "text": [
      "Wrong separation between lines\n"
     ]
    },
    {
     "name": "stderr",
     "output_type": "stream",
     "text": [
      "\r",
      "t:  76%|██████████████████████████████████████▊            | 369/485 [01:30<00:38,  3.05it/s, now=None]"
     ]
    },
    {
     "name": "stdout",
     "output_type": "stream",
     "text": [
      "Wrong separation between lines\n"
     ]
    },
    {
     "name": "stderr",
     "output_type": "stream",
     "text": [
      "\r",
      "t:  76%|██████████████████████████████████████▉            | 370/485 [01:30<00:37,  3.07it/s, now=None]"
     ]
    },
    {
     "name": "stdout",
     "output_type": "stream",
     "text": [
      "Wrong separation between lines\n"
     ]
    },
    {
     "name": "stderr",
     "output_type": "stream",
     "text": [
      "\r",
      "t:  76%|███████████████████████████████████████            | 371/485 [01:30<00:36,  3.09it/s, now=None]"
     ]
    },
    {
     "name": "stdout",
     "output_type": "stream",
     "text": [
      "Wrong separation between lines\n"
     ]
    },
    {
     "name": "stderr",
     "output_type": "stream",
     "text": [
      "\r",
      "t:  77%|███████████████████████████████████████            | 372/485 [01:31<00:40,  2.76it/s, now=None]"
     ]
    },
    {
     "name": "stdout",
     "output_type": "stream",
     "text": [
      "Wrong separation between lines\n"
     ]
    },
    {
     "name": "stderr",
     "output_type": "stream",
     "text": [
      "\r",
      "t:  77%|███████████████████████████████████████▏           | 373/485 [01:31<00:39,  2.83it/s, now=None]"
     ]
    },
    {
     "name": "stdout",
     "output_type": "stream",
     "text": [
      "Wrong separation between lines\n"
     ]
    },
    {
     "name": "stderr",
     "output_type": "stream",
     "text": [
      "\r",
      "t:  77%|███████████████████████████████████████▎           | 374/485 [01:31<00:37,  2.94it/s, now=None]"
     ]
    },
    {
     "name": "stdout",
     "output_type": "stream",
     "text": [
      "Wrong separation between lines\n"
     ]
    },
    {
     "name": "stderr",
     "output_type": "stream",
     "text": [
      "\r",
      "t:  77%|███████████████████████████████████████▍           | 375/485 [01:32<00:37,  2.96it/s, now=None]"
     ]
    },
    {
     "name": "stdout",
     "output_type": "stream",
     "text": [
      "Wrong separation between lines\n"
     ]
    },
    {
     "name": "stderr",
     "output_type": "stream",
     "text": [
      "\r",
      "t:  78%|███████████████████████████████████████▌           | 376/485 [01:32<00:36,  3.02it/s, now=None]"
     ]
    },
    {
     "name": "stdout",
     "output_type": "stream",
     "text": [
      "Wrong separation between lines\n"
     ]
    },
    {
     "name": "stderr",
     "output_type": "stream",
     "text": [
      "t:  78%|███████████████████████████████████████▊           | 379/485 [01:33<00:33,  3.16it/s, now=None]"
     ]
    },
    {
     "name": "stdout",
     "output_type": "stream",
     "text": [
      "Wrong separation between lines\n"
     ]
    },
    {
     "name": "stderr",
     "output_type": "stream",
     "text": [
      "\r",
      "t:  78%|███████████████████████████████████████▉           | 380/485 [01:33<00:32,  3.26it/s, now=None]"
     ]
    },
    {
     "name": "stdout",
     "output_type": "stream",
     "text": [
      "Wrong separation between lines\n"
     ]
    },
    {
     "name": "stderr",
     "output_type": "stream",
     "text": [
      "\r",
      "t:  79%|████████████████████████████████████████           | 381/485 [01:34<00:30,  3.37it/s, now=None]"
     ]
    },
    {
     "name": "stdout",
     "output_type": "stream",
     "text": [
      "Wrong separation between lines\n"
     ]
    },
    {
     "name": "stderr",
     "output_type": "stream",
     "text": [
      "\r",
      "t:  79%|████████████████████████████████████████▏          | 382/485 [01:34<00:29,  3.46it/s, now=None]"
     ]
    },
    {
     "name": "stdout",
     "output_type": "stream",
     "text": [
      "Wrong separation between lines\n"
     ]
    },
    {
     "name": "stderr",
     "output_type": "stream",
     "text": [
      "\r",
      "t:  79%|████████████████████████████████████████▎          | 383/485 [01:34<00:28,  3.59it/s, now=None]"
     ]
    },
    {
     "name": "stdout",
     "output_type": "stream",
     "text": [
      "Wrong separation between lines\n"
     ]
    },
    {
     "name": "stderr",
     "output_type": "stream",
     "text": [
      "\r",
      "t:  79%|████████████████████████████████████████▍          | 384/485 [01:34<00:26,  3.77it/s, now=None]"
     ]
    },
    {
     "name": "stdout",
     "output_type": "stream",
     "text": [
      "Wrong separation between lines\n"
     ]
    },
    {
     "name": "stderr",
     "output_type": "stream",
     "text": [
      "\r",
      "t:  79%|████████████████████████████████████████▍          | 385/485 [01:35<00:27,  3.68it/s, now=None]"
     ]
    },
    {
     "name": "stdout",
     "output_type": "stream",
     "text": [
      "Wrong separation between lines\n"
     ]
    },
    {
     "name": "stderr",
     "output_type": "stream",
     "text": [
      "\r",
      "t:  80%|████████████████████████████████████████▌          | 386/485 [01:35<00:27,  3.58it/s, now=None]"
     ]
    },
    {
     "name": "stdout",
     "output_type": "stream",
     "text": [
      "Wrong separation between lines\n"
     ]
    },
    {
     "name": "stderr",
     "output_type": "stream",
     "text": [
      "\r",
      "t:  80%|████████████████████████████████████████▋          | 387/485 [01:35<00:27,  3.60it/s, now=None]"
     ]
    },
    {
     "name": "stdout",
     "output_type": "stream",
     "text": [
      "Wrong separation between lines\n"
     ]
    },
    {
     "name": "stderr",
     "output_type": "stream",
     "text": [
      "\r",
      "t:  80%|████████████████████████████████████████▊          | 388/485 [01:35<00:27,  3.58it/s, now=None]"
     ]
    },
    {
     "name": "stdout",
     "output_type": "stream",
     "text": [
      "Wrong separation between lines\n"
     ]
    },
    {
     "name": "stderr",
     "output_type": "stream",
     "text": [
      "\r",
      "t:  80%|████████████████████████████████████████▉          | 389/485 [01:36<00:26,  3.64it/s, now=None]"
     ]
    },
    {
     "name": "stdout",
     "output_type": "stream",
     "text": [
      "Wrong separation between lines\n"
     ]
    },
    {
     "name": "stderr",
     "output_type": "stream",
     "text": [
      "\r",
      "t:  80%|█████████████████████████████████████████          | 390/485 [01:36<00:25,  3.69it/s, now=None]"
     ]
    },
    {
     "name": "stdout",
     "output_type": "stream",
     "text": [
      "Wrong separation between lines\n"
     ]
    },
    {
     "name": "stderr",
     "output_type": "stream",
     "text": [
      "\r",
      "t:  81%|█████████████████████████████████████████          | 391/485 [01:36<00:24,  3.76it/s, now=None]"
     ]
    },
    {
     "name": "stdout",
     "output_type": "stream",
     "text": [
      "Wrong separation between lines\n"
     ]
    },
    {
     "name": "stderr",
     "output_type": "stream",
     "text": [
      "\r",
      "t:  81%|█████████████████████████████████████████▏         | 392/485 [01:37<00:27,  3.37it/s, now=None]"
     ]
    },
    {
     "name": "stdout",
     "output_type": "stream",
     "text": [
      "Wrong separation between lines\n"
     ]
    },
    {
     "name": "stderr",
     "output_type": "stream",
     "text": [
      "\r",
      "t:  81%|█████████████████████████████████████████▎         | 393/485 [01:37<00:27,  3.32it/s, now=None]"
     ]
    },
    {
     "name": "stdout",
     "output_type": "stream",
     "text": [
      "Wrong separation between lines\n"
     ]
    },
    {
     "name": "stderr",
     "output_type": "stream",
     "text": [
      "\r",
      "t:  81%|█████████████████████████████████████████▍         | 394/485 [01:37<00:27,  3.30it/s, now=None]"
     ]
    },
    {
     "name": "stdout",
     "output_type": "stream",
     "text": [
      "Wrong separation between lines\n"
     ]
    },
    {
     "name": "stderr",
     "output_type": "stream",
     "text": [
      "\r",
      "t:  81%|█████████████████████████████████████████▌         | 395/485 [01:38<00:27,  3.32it/s, now=None]"
     ]
    },
    {
     "name": "stdout",
     "output_type": "stream",
     "text": [
      "Wrong separation between lines\n"
     ]
    },
    {
     "name": "stderr",
     "output_type": "stream",
     "text": [
      "\r",
      "t:  82%|█████████████████████████████████████████▋         | 396/485 [01:38<00:26,  3.32it/s, now=None]"
     ]
    },
    {
     "name": "stdout",
     "output_type": "stream",
     "text": [
      "Wrong separation between lines\n"
     ]
    },
    {
     "name": "stderr",
     "output_type": "stream",
     "text": [
      "\r",
      "t:  82%|█████████████████████████████████████████▋         | 397/485 [01:38<00:27,  3.21it/s, now=None]"
     ]
    },
    {
     "name": "stdout",
     "output_type": "stream",
     "text": [
      "Wrong separation between lines\n"
     ]
    },
    {
     "name": "stderr",
     "output_type": "stream",
     "text": [
      "\r",
      "t:  82%|█████████████████████████████████████████▊         | 398/485 [01:39<00:27,  3.15it/s, now=None]"
     ]
    },
    {
     "name": "stdout",
     "output_type": "stream",
     "text": [
      "Wrong separation between lines\n"
     ]
    },
    {
     "name": "stderr",
     "output_type": "stream",
     "text": [
      "\r",
      "t:  82%|█████████████████████████████████████████▉         | 399/485 [01:39<00:27,  3.17it/s, now=None]"
     ]
    },
    {
     "name": "stdout",
     "output_type": "stream",
     "text": [
      "Wrong separation between lines\n"
     ]
    },
    {
     "name": "stderr",
     "output_type": "stream",
     "text": [
      "\r",
      "t:  82%|██████████████████████████████████████████         | 400/485 [01:39<00:27,  3.15it/s, now=None]"
     ]
    },
    {
     "name": "stdout",
     "output_type": "stream",
     "text": [
      "Wrong separation between lines\n"
     ]
    },
    {
     "name": "stderr",
     "output_type": "stream",
     "text": [
      "\r",
      "t:  83%|██████████████████████████████████████████▏        | 401/485 [01:39<00:25,  3.31it/s, now=None]"
     ]
    },
    {
     "name": "stdout",
     "output_type": "stream",
     "text": [
      "Wrong separation between lines\n"
     ]
    },
    {
     "name": "stderr",
     "output_type": "stream",
     "text": [
      "\r",
      "t:  83%|██████████████████████████████████████████▎        | 402/485 [01:40<00:24,  3.39it/s, now=None]"
     ]
    },
    {
     "name": "stdout",
     "output_type": "stream",
     "text": [
      "Wrong separation between lines\n"
     ]
    },
    {
     "name": "stderr",
     "output_type": "stream",
     "text": [
      "\r",
      "t:  83%|██████████████████████████████████████████▍        | 403/485 [01:40<00:24,  3.32it/s, now=None]"
     ]
    },
    {
     "name": "stdout",
     "output_type": "stream",
     "text": [
      "Wrong separation between lines\n"
     ]
    },
    {
     "name": "stderr",
     "output_type": "stream",
     "text": [
      "\r",
      "t:  83%|██████████████████████████████████████████▍        | 404/485 [01:40<00:24,  3.35it/s, now=None]"
     ]
    },
    {
     "name": "stdout",
     "output_type": "stream",
     "text": [
      "Wrong separation between lines\n"
     ]
    },
    {
     "name": "stderr",
     "output_type": "stream",
     "text": [
      "\r",
      "t:  84%|██████████████████████████████████████████▌        | 405/485 [01:41<00:23,  3.38it/s, now=None]"
     ]
    },
    {
     "name": "stdout",
     "output_type": "stream",
     "text": [
      "Wrong separation between lines\n"
     ]
    },
    {
     "name": "stderr",
     "output_type": "stream",
     "text": [
      "\r",
      "t:  84%|██████████████████████████████████████████▋        | 406/485 [01:41<00:23,  3.39it/s, now=None]"
     ]
    },
    {
     "name": "stdout",
     "output_type": "stream",
     "text": [
      "Wrong separation between lines\n"
     ]
    },
    {
     "name": "stderr",
     "output_type": "stream",
     "text": [
      "\r",
      "t:  84%|██████████████████████████████████████████▊        | 407/485 [01:41<00:22,  3.41it/s, now=None]"
     ]
    },
    {
     "name": "stdout",
     "output_type": "stream",
     "text": [
      "Wrong separation between lines\n"
     ]
    },
    {
     "name": "stderr",
     "output_type": "stream",
     "text": [
      "\r",
      "t:  84%|██████████████████████████████████████████▉        | 408/485 [01:42<00:24,  3.20it/s, now=None]"
     ]
    },
    {
     "name": "stdout",
     "output_type": "stream",
     "text": [
      "Wrong separation between lines\n"
     ]
    },
    {
     "name": "stderr",
     "output_type": "stream",
     "text": [
      "\r",
      "t:  84%|███████████████████████████████████████████        | 409/485 [01:42<00:23,  3.18it/s, now=None]"
     ]
    },
    {
     "name": "stdout",
     "output_type": "stream",
     "text": [
      "Wrong separation between lines\n"
     ]
    },
    {
     "name": "stderr",
     "output_type": "stream",
     "text": [
      "\r",
      "t:  85%|███████████████████████████████████████████        | 410/485 [01:42<00:23,  3.15it/s, now=None]"
     ]
    },
    {
     "name": "stdout",
     "output_type": "stream",
     "text": [
      "Wrong separation between lines\n"
     ]
    },
    {
     "name": "stderr",
     "output_type": "stream",
     "text": [
      "\r",
      "t:  85%|███████████████████████████████████████████▏       | 411/485 [01:42<00:23,  3.16it/s, now=None]"
     ]
    },
    {
     "name": "stdout",
     "output_type": "stream",
     "text": [
      "Wrong separation between lines\n"
     ]
    },
    {
     "name": "stderr",
     "output_type": "stream",
     "text": [
      "t:  85%|███████████████████████████████████████████▍       | 413/485 [01:43<00:21,  3.36it/s, now=None]"
     ]
    },
    {
     "name": "stdout",
     "output_type": "stream",
     "text": [
      "Wrong separation between lines\n"
     ]
    },
    {
     "name": "stderr",
     "output_type": "stream",
     "text": [
      "\r",
      "t:  85%|███████████████████████████████████████████▌       | 414/485 [01:43<00:20,  3.43it/s, now=None]"
     ]
    },
    {
     "name": "stdout",
     "output_type": "stream",
     "text": [
      "Wrong separation between lines\n"
     ]
    },
    {
     "name": "stderr",
     "output_type": "stream",
     "text": [
      "\r",
      "t:  86%|███████████████████████████████████████████▋       | 415/485 [01:44<00:19,  3.64it/s, now=None]"
     ]
    },
    {
     "name": "stdout",
     "output_type": "stream",
     "text": [
      "Wrong separation between lines\n"
     ]
    },
    {
     "name": "stderr",
     "output_type": "stream",
     "text": [
      "t:  86%|███████████████████████████████████████████▊       | 417/485 [01:44<00:18,  3.62it/s, now=None]"
     ]
    },
    {
     "name": "stdout",
     "output_type": "stream",
     "text": [
      "Wrong separation between lines\n"
     ]
    },
    {
     "name": "stderr",
     "output_type": "stream",
     "text": [
      "t:  86%|████████████████████████████████████████████       | 419/485 [01:45<00:18,  3.57it/s, now=None]"
     ]
    },
    {
     "name": "stdout",
     "output_type": "stream",
     "text": [
      "Wrong separation between lines\n"
     ]
    },
    {
     "name": "stderr",
     "output_type": "stream",
     "text": [
      "\r",
      "t:  87%|████████████████████████████████████████████▏      | 420/485 [01:45<00:18,  3.58it/s, now=None]"
     ]
    },
    {
     "name": "stdout",
     "output_type": "stream",
     "text": [
      "Wrong separation between lines\n"
     ]
    },
    {
     "name": "stderr",
     "output_type": "stream",
     "text": [
      "\r",
      "t:  87%|████████████████████████████████████████████▎      | 421/485 [01:45<00:16,  3.78it/s, now=None]"
     ]
    },
    {
     "name": "stdout",
     "output_type": "stream",
     "text": [
      "Wrong separation between lines\n"
     ]
    },
    {
     "name": "stderr",
     "output_type": "stream",
     "text": [
      "\r",
      "t:  87%|████████████████████████████████████████████▍      | 422/485 [01:45<00:16,  3.74it/s, now=None]"
     ]
    },
    {
     "name": "stdout",
     "output_type": "stream",
     "text": [
      "Wrong separation between lines\n"
     ]
    },
    {
     "name": "stderr",
     "output_type": "stream",
     "text": [
      "\r",
      "t:  87%|████████████████████████████████████████████▍      | 423/485 [01:46<00:16,  3.69it/s, now=None]"
     ]
    },
    {
     "name": "stdout",
     "output_type": "stream",
     "text": [
      "Wrong separation between lines\n"
     ]
    },
    {
     "name": "stderr",
     "output_type": "stream",
     "text": [
      "\r",
      "t:  87%|████████████████████████████████████████████▌      | 424/485 [01:46<00:16,  3.76it/s, now=None]"
     ]
    },
    {
     "name": "stdout",
     "output_type": "stream",
     "text": [
      "Wrong separation between lines\n"
     ]
    },
    {
     "name": "stderr",
     "output_type": "stream",
     "text": [
      "\r",
      "t:  88%|████████████████████████████████████████████▋      | 425/485 [01:46<00:15,  3.89it/s, now=None]"
     ]
    },
    {
     "name": "stdout",
     "output_type": "stream",
     "text": [
      "Wrong separation between lines\n"
     ]
    },
    {
     "name": "stderr",
     "output_type": "stream",
     "text": [
      "\r",
      "t:  88%|████████████████████████████████████████████▊      | 426/485 [01:47<00:15,  3.84it/s, now=None]"
     ]
    },
    {
     "name": "stdout",
     "output_type": "stream",
     "text": [
      "Wrong separation between lines\n"
     ]
    },
    {
     "name": "stderr",
     "output_type": "stream",
     "text": [
      "\r",
      "t:  88%|████████████████████████████████████████████▉      | 427/485 [01:47<00:14,  3.91it/s, now=None]"
     ]
    },
    {
     "name": "stdout",
     "output_type": "stream",
     "text": [
      "Wrong separation between lines\n"
     ]
    },
    {
     "name": "stderr",
     "output_type": "stream",
     "text": [
      "\r",
      "t:  88%|█████████████████████████████████████████████      | 428/485 [01:47<00:14,  3.93it/s, now=None]"
     ]
    },
    {
     "name": "stdout",
     "output_type": "stream",
     "text": [
      "Wrong separation between lines\n"
     ]
    },
    {
     "name": "stderr",
     "output_type": "stream",
     "text": [
      "\r",
      "t:  88%|█████████████████████████████████████████████      | 429/485 [01:47<00:14,  3.76it/s, now=None]"
     ]
    },
    {
     "name": "stdout",
     "output_type": "stream",
     "text": [
      "Wrong separation between lines\n"
     ]
    },
    {
     "name": "stderr",
     "output_type": "stream",
     "text": [
      "\r",
      "t:  89%|█████████████████████████████████████████████▏     | 430/485 [01:48<00:14,  3.83it/s, now=None]"
     ]
    },
    {
     "name": "stdout",
     "output_type": "stream",
     "text": [
      "Wrong separation between lines\n"
     ]
    },
    {
     "name": "stderr",
     "output_type": "stream",
     "text": [
      "\r",
      "t:  89%|█████████████████████████████████████████████▎     | 431/485 [01:48<00:14,  3.82it/s, now=None]"
     ]
    },
    {
     "name": "stdout",
     "output_type": "stream",
     "text": [
      "Wrong separation between lines\n"
     ]
    },
    {
     "name": "stderr",
     "output_type": "stream",
     "text": [
      "\r",
      "t:  89%|█████████████████████████████████████████████▍     | 432/485 [01:48<00:13,  3.84it/s, now=None]"
     ]
    },
    {
     "name": "stdout",
     "output_type": "stream",
     "text": [
      "Wrong separation between lines\n"
     ]
    },
    {
     "name": "stderr",
     "output_type": "stream",
     "text": [
      "t:  89%|█████████████████████████████████████████████▋     | 434/485 [01:49<00:14,  3.40it/s, now=None]"
     ]
    },
    {
     "name": "stdout",
     "output_type": "stream",
     "text": [
      "Wrong separation between lines\n"
     ]
    },
    {
     "name": "stderr",
     "output_type": "stream",
     "text": [
      "t:  90%|██████████████████████████████████████████████     | 438/485 [01:50<00:14,  3.30it/s, now=None]"
     ]
    },
    {
     "name": "stdout",
     "output_type": "stream",
     "text": [
      "Wrong separation between lines\n"
     ]
    },
    {
     "name": "stderr",
     "output_type": "stream",
     "text": [
      "\r",
      "t:  91%|██████████████████████████████████████████████▏    | 439/485 [01:50<00:13,  3.43it/s, now=None]"
     ]
    },
    {
     "name": "stdout",
     "output_type": "stream",
     "text": [
      "Wrong separation between lines\n"
     ]
    },
    {
     "name": "stderr",
     "output_type": "stream",
     "text": [
      "\r",
      "t:  91%|██████████████████████████████████████████████▎    | 440/485 [01:51<00:14,  3.09it/s, now=None]"
     ]
    },
    {
     "name": "stdout",
     "output_type": "stream",
     "text": [
      "Wrong separation between lines\n"
     ]
    },
    {
     "name": "stderr",
     "output_type": "stream",
     "text": [
      "\r",
      "t:  91%|██████████████████████████████████████████████▎    | 441/485 [01:51<00:13,  3.17it/s, now=None]"
     ]
    },
    {
     "name": "stdout",
     "output_type": "stream",
     "text": [
      "Wrong separation between lines\n"
     ]
    },
    {
     "name": "stderr",
     "output_type": "stream",
     "text": [
      "\r",
      "t:  91%|██████████████████████████████████████████████▍    | 442/485 [01:51<00:13,  3.18it/s, now=None]"
     ]
    },
    {
     "name": "stdout",
     "output_type": "stream",
     "text": [
      "Wrong separation between lines\n"
     ]
    },
    {
     "name": "stderr",
     "output_type": "stream",
     "text": [
      "\r",
      "t:  91%|██████████████████████████████████████████████▌    | 443/485 [01:52<00:13,  3.10it/s, now=None]"
     ]
    },
    {
     "name": "stdout",
     "output_type": "stream",
     "text": [
      "Wrong separation between lines\n"
     ]
    },
    {
     "name": "stderr",
     "output_type": "stream",
     "text": [
      "\r",
      "t:  92%|██████████████████████████████████████████████▋    | 444/485 [01:52<00:13,  3.12it/s, now=None]"
     ]
    },
    {
     "name": "stdout",
     "output_type": "stream",
     "text": [
      "Wrong separation between lines\n"
     ]
    },
    {
     "name": "stderr",
     "output_type": "stream",
     "text": [
      "\r",
      "t:  92%|██████████████████████████████████████████████▊    | 445/485 [01:52<00:12,  3.14it/s, now=None]"
     ]
    },
    {
     "name": "stdout",
     "output_type": "stream",
     "text": [
      "Wrong separation between lines\n"
     ]
    },
    {
     "name": "stderr",
     "output_type": "stream",
     "text": [
      "\r",
      "t:  92%|██████████████████████████████████████████████▉    | 446/485 [01:53<00:12,  3.06it/s, now=None]"
     ]
    },
    {
     "name": "stdout",
     "output_type": "stream",
     "text": [
      "Wrong separation between lines\n"
     ]
    },
    {
     "name": "stderr",
     "output_type": "stream",
     "text": [
      "\r",
      "t:  92%|███████████████████████████████████████████████    | 447/485 [01:53<00:12,  3.10it/s, now=None]"
     ]
    },
    {
     "name": "stdout",
     "output_type": "stream",
     "text": [
      "Wrong separation between lines\n"
     ]
    },
    {
     "name": "stderr",
     "output_type": "stream",
     "text": [
      "\r",
      "t:  92%|███████████████████████████████████████████████    | 448/485 [01:53<00:12,  3.04it/s, now=None]"
     ]
    },
    {
     "name": "stdout",
     "output_type": "stream",
     "text": [
      "Wrong separation between lines\n"
     ]
    },
    {
     "name": "stderr",
     "output_type": "stream",
     "text": [
      "\r",
      "t:  93%|███████████████████████████████████████████████▏   | 449/485 [01:54<00:11,  3.00it/s, now=None]"
     ]
    },
    {
     "name": "stdout",
     "output_type": "stream",
     "text": [
      "Wrong separation between lines\n"
     ]
    },
    {
     "name": "stderr",
     "output_type": "stream",
     "text": [
      "\r",
      "t:  93%|███████████████████████████████████████████████▎   | 450/485 [01:54<00:11,  3.10it/s, now=None]"
     ]
    },
    {
     "name": "stdout",
     "output_type": "stream",
     "text": [
      "Wrong separation between lines\n"
     ]
    },
    {
     "name": "stderr",
     "output_type": "stream",
     "text": [
      "\r",
      "t:  93%|███████████████████████████████████████████████▍   | 451/485 [01:54<00:10,  3.14it/s, now=None]"
     ]
    },
    {
     "name": "stdout",
     "output_type": "stream",
     "text": [
      "Discarded X point\n",
      "Wrong separation between lines\n"
     ]
    },
    {
     "name": "stderr",
     "output_type": "stream",
     "text": [
      "\r",
      "t:  93%|███████████████████████████████████████████████▌   | 452/485 [01:54<00:10,  3.12it/s, now=None]"
     ]
    },
    {
     "name": "stdout",
     "output_type": "stream",
     "text": [
      "Wrong separation between lines\n"
     ]
    },
    {
     "name": "stderr",
     "output_type": "stream",
     "text": [
      "\r",
      "t:  93%|███████████████████████████████████████████████▋   | 453/485 [01:55<00:10,  3.17it/s, now=None]"
     ]
    },
    {
     "name": "stdout",
     "output_type": "stream",
     "text": [
      "Wrong separation between lines\n"
     ]
    },
    {
     "name": "stderr",
     "output_type": "stream",
     "text": [
      "\r",
      "t:  94%|███████████████████████████████████████████████▋   | 454/485 [01:55<00:09,  3.20it/s, now=None]"
     ]
    },
    {
     "name": "stdout",
     "output_type": "stream",
     "text": [
      "Wrong separation between lines\n"
     ]
    },
    {
     "name": "stderr",
     "output_type": "stream",
     "text": [
      "\r",
      "t:  94%|███████████████████████████████████████████████▊   | 455/485 [01:55<00:09,  3.18it/s, now=None]"
     ]
    },
    {
     "name": "stdout",
     "output_type": "stream",
     "text": [
      "Wrong separation between lines\n"
     ]
    },
    {
     "name": "stderr",
     "output_type": "stream",
     "text": [
      "\r",
      "t:  94%|███████████████████████████████████████████████▉   | 456/485 [01:56<00:08,  3.26it/s, now=None]"
     ]
    },
    {
     "name": "stdout",
     "output_type": "stream",
     "text": [
      "Wrong separation between lines\n"
     ]
    },
    {
     "name": "stderr",
     "output_type": "stream",
     "text": [
      "\r",
      "t:  94%|████████████████████████████████████████████████   | 457/485 [01:56<00:08,  3.29it/s, now=None]"
     ]
    },
    {
     "name": "stdout",
     "output_type": "stream",
     "text": [
      "Wrong separation between lines\n"
     ]
    },
    {
     "name": "stderr",
     "output_type": "stream",
     "text": [
      "\r",
      "t:  94%|████████████████████████████████████████████████▏  | 458/485 [01:56<00:08,  3.35it/s, now=None]"
     ]
    },
    {
     "name": "stdout",
     "output_type": "stream",
     "text": [
      "Wrong separation between lines\n"
     ]
    },
    {
     "name": "stderr",
     "output_type": "stream",
     "text": [
      "\r",
      "t:  95%|████████████████████████████████████████████████▎  | 459/485 [01:57<00:07,  3.49it/s, now=None]"
     ]
    },
    {
     "name": "stdout",
     "output_type": "stream",
     "text": [
      "Wrong separation between lines\n"
     ]
    },
    {
     "name": "stderr",
     "output_type": "stream",
     "text": [
      "\r",
      "t:  95%|████████████████████████████████████████████████▎  | 460/485 [01:57<00:06,  3.61it/s, now=None]"
     ]
    },
    {
     "name": "stdout",
     "output_type": "stream",
     "text": [
      "Wrong separation between lines\n"
     ]
    },
    {
     "name": "stderr",
     "output_type": "stream",
     "text": [
      "\r",
      "t:  95%|████████████████████████████████████████████████▍  | 461/485 [01:57<00:06,  3.69it/s, now=None]"
     ]
    },
    {
     "name": "stdout",
     "output_type": "stream",
     "text": [
      "Wrong separation between lines\n"
     ]
    },
    {
     "name": "stderr",
     "output_type": "stream",
     "text": [
      "\r",
      "t:  95%|████████████████████████████████████████████████▌  | 462/485 [01:57<00:06,  3.76it/s, now=None]"
     ]
    },
    {
     "name": "stdout",
     "output_type": "stream",
     "text": [
      "Wrong separation between lines\n"
     ]
    },
    {
     "name": "stderr",
     "output_type": "stream",
     "text": [
      "\r",
      "t:  95%|████████████████████████████████████████████████▋  | 463/485 [01:58<00:05,  3.84it/s, now=None]"
     ]
    },
    {
     "name": "stdout",
     "output_type": "stream",
     "text": [
      "Wrong separation between lines\n"
     ]
    },
    {
     "name": "stderr",
     "output_type": "stream",
     "text": [
      "t:  97%|█████████████████████████████████████████████████▌ | 471/485 [02:00<00:03,  3.87it/s, now=None]"
     ]
    },
    {
     "name": "stdout",
     "output_type": "stream",
     "text": [
      "missdetection\n",
      "[-8.66283107e-04  8.00825666e-01 -2.08600468e+02]\n"
     ]
    },
    {
     "name": "stderr",
     "output_type": "stream",
     "text": [
      "\r",
      "t:  97%|█████████████████████████████████████████████████▋ | 472/485 [02:00<00:03,  3.93it/s, now=None]"
     ]
    },
    {
     "name": "stdout",
     "output_type": "stream",
     "text": [
      "missdetection\n",
      "[ 8.61140018e-04 -9.15908907e-01  2.22261944e+02]\n"
     ]
    },
    {
     "name": "stderr",
     "output_type": "stream",
     "text": [
      "\r",
      "t:  98%|█████████████████████████████████████████████████▋ | 473/485 [02:00<00:03,  3.78it/s, now=None]"
     ]
    },
    {
     "name": "stdout",
     "output_type": "stream",
     "text": [
      "missdetection\n",
      "[ 1.09344543e-03 -1.21123977e+00  3.14878485e+02]\n"
     ]
    },
    {
     "name": "stderr",
     "output_type": "stream",
     "text": [
      "\r",
      "t:  98%|█████████████████████████████████████████████████▊ | 474/485 [02:00<00:02,  3.81it/s, now=None]"
     ]
    },
    {
     "name": "stdout",
     "output_type": "stream",
     "text": [
      "missdetection\n",
      "[ 1.36144327e-03 -1.55531027e+00  4.23602503e+02]\n"
     ]
    },
    {
     "name": "stderr",
     "output_type": "stream",
     "text": [
      "\r",
      "t:  98%|█████████████████████████████████████████████████▉ | 475/485 [02:01<00:02,  3.84it/s, now=None]"
     ]
    },
    {
     "name": "stdout",
     "output_type": "stream",
     "text": [
      "Wrong separation between lines\n"
     ]
    },
    {
     "name": "stderr",
     "output_type": "stream",
     "text": [
      "\r",
      "t:  98%|██████████████████████████████████████████████████ | 476/485 [02:01<00:02,  3.93it/s, now=None]"
     ]
    },
    {
     "name": "stdout",
     "output_type": "stream",
     "text": [
      "Wrong separation between lines\n"
     ]
    },
    {
     "name": "stderr",
     "output_type": "stream",
     "text": [
      "\r",
      "t:  98%|██████████████████████████████████████████████████▏| 477/485 [02:01<00:01,  4.05it/s, now=None]"
     ]
    },
    {
     "name": "stdout",
     "output_type": "stream",
     "text": [
      "Wrong separation between lines\n"
     ]
    },
    {
     "name": "stderr",
     "output_type": "stream",
     "text": [
      "\r",
      "t:  99%|██████████████████████████████████████████████████▎| 478/485 [02:01<00:01,  4.04it/s, now=None]"
     ]
    },
    {
     "name": "stdout",
     "output_type": "stream",
     "text": [
      "Wrong separation between lines\n"
     ]
    },
    {
     "name": "stderr",
     "output_type": "stream",
     "text": [
      "\r",
      "t:  99%|██████████████████████████████████████████████████▎| 479/485 [02:02<00:01,  4.08it/s, now=None]"
     ]
    },
    {
     "name": "stdout",
     "output_type": "stream",
     "text": [
      "Wrong separation between lines\n"
     ]
    },
    {
     "name": "stderr",
     "output_type": "stream",
     "text": [
      "\r",
      "t:  99%|██████████████████████████████████████████████████▍| 480/485 [02:02<00:01,  4.15it/s, now=None]"
     ]
    },
    {
     "name": "stdout",
     "output_type": "stream",
     "text": [
      "Wrong separation between lines\n"
     ]
    },
    {
     "name": "stderr",
     "output_type": "stream",
     "text": [
      "\r",
      "t:  99%|██████████████████████████████████████████████████▌| 481/485 [02:02<00:00,  4.18it/s, now=None]"
     ]
    },
    {
     "name": "stdout",
     "output_type": "stream",
     "text": [
      "Wrong separation between lines\n"
     ]
    },
    {
     "name": "stderr",
     "output_type": "stream",
     "text": [
      "\r",
      "t:  99%|██████████████████████████████████████████████████▋| 482/485 [02:02<00:00,  4.00it/s, now=None]"
     ]
    },
    {
     "name": "stdout",
     "output_type": "stream",
     "text": [
      "Wrong separation between lines\n"
     ]
    },
    {
     "name": "stderr",
     "output_type": "stream",
     "text": [
      "\r",
      "t: 100%|██████████████████████████████████████████████████▊| 483/485 [02:03<00:00,  4.15it/s, now=None]"
     ]
    },
    {
     "name": "stdout",
     "output_type": "stream",
     "text": [
      "Wrong separation between lines\n"
     ]
    },
    {
     "name": "stderr",
     "output_type": "stream",
     "text": [
      "\r",
      "t: 100%|██████████████████████████████████████████████████▉| 484/485 [02:03<00:00,  4.27it/s, now=None]"
     ]
    },
    {
     "name": "stdout",
     "output_type": "stream",
     "text": [
      "Wrong separation between lines\n"
     ]
    },
    {
     "name": "stderr",
     "output_type": "stream",
     "text": [
      "\r",
      "t: 100%|███████████████████████████████████████████████████| 485/485 [02:03<00:00,  4.26it/s, now=None]"
     ]
    },
    {
     "name": "stdout",
     "output_type": "stream",
     "text": [
      "Wrong separation between lines\n"
     ]
    },
    {
     "name": "stderr",
     "output_type": "stream",
     "text": [
      "\r",
      "                                                                                                       "
     ]
    },
    {
     "name": "stdout",
     "output_type": "stream",
     "text": [
      "Wrong separation between lines\n"
     ]
    },
    {
     "name": "stderr",
     "output_type": "stream",
     "text": [
      "\r"
     ]
    },
    {
     "name": "stdout",
     "output_type": "stream",
     "text": [
      "Moviepy - Done !\n",
      "Moviepy - video ready output_videos/challenge_video.mp4\n",
      "Wall time: 2min 4s\n"
     ]
    }
   ],
   "source": [
    "# Instanciate cLine classes\n",
    "lineLeft = Line()\n",
    "lineRight = Line()\n",
    "\n",
    "\n",
    "challenge_output = 'output_videos/challenge_video.mp4'\n",
    "clip2 = VideoFileClip(\"test_videos/challenge_video.mp4\")\n",
    "\n",
    "challenge_clip = clip2.fl_image(process_frame) #NOTE: this function expects color images!!\n",
    "%time challenge_clip.write_videofile(challenge_output, audio=False)"
   ]
  },
  {
   "cell_type": "code",
   "execution_count": 6,
   "id": "5022385c",
   "metadata": {
    "scrolled": false
   },
   "outputs": [
    {
     "data": {
      "text/html": [
       "\n",
       "<video width=\"960\" height=\"540\" controls>\n",
       "  <source src=\"output_videos/challenge_video.mp4\">\n",
       "</video>\n"
      ],
      "text/plain": [
       "<IPython.core.display.HTML object>"
      ]
     },
     "execution_count": 6,
     "metadata": {},
     "output_type": "execute_result"
    }
   ],
   "source": [
    "HTML(\"\"\"\n",
    "<video width=\"960\" height=\"540\" controls>\n",
    "  <source src=\"{0}\">\n",
    "</video>\n",
    "\"\"\".format(challenge_output))"
   ]
  },
  {
   "cell_type": "markdown",
   "id": "819f376b",
   "metadata": {},
   "source": [
    "## Video 3"
   ]
  },
  {
   "cell_type": "code",
   "execution_count": 7,
   "id": "38f346b8",
   "metadata": {},
   "outputs": [
    {
     "name": "stderr",
     "output_type": "stream",
     "text": [
      "\r",
      "t:   0%|                                                            | 0/1199 [00:00<?, ?it/s, now=None]"
     ]
    },
    {
     "name": "stdout",
     "output_type": "stream",
     "text": [
      "Moviepy - Building video output_videos/harder_challenge_video.mp4.\n",
      "Moviepy - Writing video output_videos/harder_challenge_video.mp4\n",
      "\n"
     ]
    },
    {
     "name": "stderr",
     "output_type": "stream",
     "text": [
      "t:   4%|█▉                                                 | 45/1199 [00:13<05:43,  3.36it/s, now=None]"
     ]
    },
    {
     "name": "stdout",
     "output_type": "stream",
     "text": [
      "Wrong separation between lines\n"
     ]
    },
    {
     "name": "stderr",
     "output_type": "stream",
     "text": [
      "\r",
      "t:   4%|█▉                                                 | 46/1199 [00:14<05:32,  3.47it/s, now=None]"
     ]
    },
    {
     "name": "stdout",
     "output_type": "stream",
     "text": [
      "Wrong separation between lines\n"
     ]
    },
    {
     "name": "stderr",
     "output_type": "stream",
     "text": [
      "\r",
      "t:   4%|█▉                                                 | 47/1199 [00:14<05:17,  3.63it/s, now=None]"
     ]
    },
    {
     "name": "stdout",
     "output_type": "stream",
     "text": [
      "Wrong separation between lines\n"
     ]
    },
    {
     "name": "stderr",
     "output_type": "stream",
     "text": [
      "\r",
      "t:   4%|██                                                 | 48/1199 [00:14<05:29,  3.49it/s, now=None]"
     ]
    },
    {
     "name": "stdout",
     "output_type": "stream",
     "text": [
      "Wrong separation between lines\n"
     ]
    },
    {
     "name": "stderr",
     "output_type": "stream",
     "text": [
      "\r",
      "t:   4%|██                                                 | 49/1199 [00:14<05:36,  3.42it/s, now=None]"
     ]
    },
    {
     "name": "stdout",
     "output_type": "stream",
     "text": [
      "Wrong separation between lines\n"
     ]
    },
    {
     "name": "stderr",
     "output_type": "stream",
     "text": [
      "\r",
      "t:   4%|██▏                                                | 50/1199 [00:15<05:36,  3.42it/s, now=None]"
     ]
    },
    {
     "name": "stdout",
     "output_type": "stream",
     "text": [
      "Wrong separation between lines\n"
     ]
    },
    {
     "name": "stderr",
     "output_type": "stream",
     "text": [
      "\r",
      "t:   4%|██▏                                                | 51/1199 [00:15<05:32,  3.45it/s, now=None]"
     ]
    },
    {
     "name": "stdout",
     "output_type": "stream",
     "text": [
      "Wrong separation between lines\n"
     ]
    },
    {
     "name": "stderr",
     "output_type": "stream",
     "text": [
      "\r",
      "t:   4%|██▏                                                | 52/1199 [00:15<05:22,  3.56it/s, now=None]"
     ]
    },
    {
     "name": "stdout",
     "output_type": "stream",
     "text": [
      "Wrong separation between lines\n"
     ]
    },
    {
     "name": "stderr",
     "output_type": "stream",
     "text": [
      "\r",
      "t:   4%|██▎                                                | 53/1199 [00:15<05:20,  3.57it/s, now=None]"
     ]
    },
    {
     "name": "stdout",
     "output_type": "stream",
     "text": [
      "Wrong separation between lines\n"
     ]
    },
    {
     "name": "stderr",
     "output_type": "stream",
     "text": [
      "\r",
      "t:   5%|██▎                                                | 54/1199 [00:16<05:16,  3.62it/s, now=None]"
     ]
    },
    {
     "name": "stdout",
     "output_type": "stream",
     "text": [
      "Wrong separation between lines\n"
     ]
    },
    {
     "name": "stderr",
     "output_type": "stream",
     "text": [
      "\r",
      "t:   5%|██▎                                                | 55/1199 [00:16<05:09,  3.69it/s, now=None]"
     ]
    },
    {
     "name": "stdout",
     "output_type": "stream",
     "text": [
      "Wrong separation between lines\n"
     ]
    },
    {
     "name": "stderr",
     "output_type": "stream",
     "text": [
      "\r",
      "t:   5%|██▍                                                | 56/1199 [00:16<05:07,  3.72it/s, now=None]"
     ]
    },
    {
     "name": "stdout",
     "output_type": "stream",
     "text": [
      "Wrong separation between lines\n"
     ]
    },
    {
     "name": "stderr",
     "output_type": "stream",
     "text": [
      "\r",
      "t:   5%|██▍                                                | 57/1199 [00:17<05:11,  3.66it/s, now=None]"
     ]
    },
    {
     "name": "stdout",
     "output_type": "stream",
     "text": [
      "Wrong separation between lines\n"
     ]
    },
    {
     "name": "stderr",
     "output_type": "stream",
     "text": [
      "\r",
      "t:   5%|██▍                                                | 58/1199 [00:17<05:03,  3.76it/s, now=None]"
     ]
    },
    {
     "name": "stdout",
     "output_type": "stream",
     "text": [
      "Wrong separation between lines\n"
     ]
    },
    {
     "name": "stderr",
     "output_type": "stream",
     "text": [
      "\r",
      "t:   5%|██▌                                                | 59/1199 [00:17<05:04,  3.75it/s, now=None]"
     ]
    },
    {
     "name": "stdout",
     "output_type": "stream",
     "text": [
      "Wrong separation between lines\n"
     ]
    },
    {
     "name": "stderr",
     "output_type": "stream",
     "text": [
      "\r",
      "t:   5%|██▌                                                | 60/1199 [00:17<05:02,  3.76it/s, now=None]"
     ]
    },
    {
     "name": "stdout",
     "output_type": "stream",
     "text": [
      "Wrong separation between lines\n"
     ]
    },
    {
     "name": "stderr",
     "output_type": "stream",
     "text": [
      "\r",
      "t:   5%|██▌                                                | 61/1199 [00:18<04:59,  3.80it/s, now=None]"
     ]
    },
    {
     "name": "stdout",
     "output_type": "stream",
     "text": [
      "Wrong separation between lines\n"
     ]
    },
    {
     "name": "stderr",
     "output_type": "stream",
     "text": [
      "\r",
      "t:   5%|██▋                                                | 62/1199 [00:18<05:02,  3.76it/s, now=None]"
     ]
    },
    {
     "name": "stdout",
     "output_type": "stream",
     "text": [
      "Wrong separation between lines\n"
     ]
    },
    {
     "name": "stderr",
     "output_type": "stream",
     "text": [
      "\r",
      "t:   5%|██▋                                                | 63/1199 [00:18<04:55,  3.85it/s, now=None]"
     ]
    },
    {
     "name": "stdout",
     "output_type": "stream",
     "text": [
      "missdetection\n",
      "[ 6.30912041e-04 -7.71024953e-01  2.19016152e+02]\n"
     ]
    },
    {
     "name": "stderr",
     "output_type": "stream",
     "text": [
      "\r",
      "t:   5%|██▋                                                | 64/1199 [00:18<05:06,  3.71it/s, now=None]"
     ]
    },
    {
     "name": "stdout",
     "output_type": "stream",
     "text": [
      "Wrong separation between lines\n"
     ]
    },
    {
     "name": "stderr",
     "output_type": "stream",
     "text": [
      "\r",
      "t:   5%|██▊                                                | 65/1199 [00:19<05:08,  3.68it/s, now=None]"
     ]
    },
    {
     "name": "stdout",
     "output_type": "stream",
     "text": [
      "missdetection\n",
      "[ 6.33456762e-04 -7.65616913e-01  2.12980550e+02]\n"
     ]
    },
    {
     "name": "stderr",
     "output_type": "stream",
     "text": [
      "\r",
      "t:   6%|██▊                                                | 66/1199 [00:19<05:17,  3.56it/s, now=None]"
     ]
    },
    {
     "name": "stdout",
     "output_type": "stream",
     "text": [
      "missdetection\n",
      "[ 7.27075733e-04 -8.66473981e-01  2.38929435e+02]\n"
     ]
    },
    {
     "name": "stderr",
     "output_type": "stream",
     "text": [
      "\r",
      "t:   6%|██▊                                                | 67/1199 [00:19<05:27,  3.45it/s, now=None]"
     ]
    },
    {
     "name": "stdout",
     "output_type": "stream",
     "text": [
      "missdetection\n",
      "[ 7.51597687e-04 -8.98353976e-01  2.48810552e+02]\n"
     ]
    },
    {
     "name": "stderr",
     "output_type": "stream",
     "text": [
      "\r",
      "t:   6%|██▉                                                | 68/1199 [00:20<05:29,  3.44it/s, now=None]"
     ]
    },
    {
     "name": "stdout",
     "output_type": "stream",
     "text": [
      "missdetection\n",
      "[ 7.86011786e-04 -9.41060482e-01  2.60189816e+02]\n"
     ]
    },
    {
     "name": "stderr",
     "output_type": "stream",
     "text": [
      "\r",
      "t:   6%|██▉                                                | 69/1199 [00:20<05:27,  3.45it/s, now=None]"
     ]
    },
    {
     "name": "stdout",
     "output_type": "stream",
     "text": [
      "missdetection\n",
      "[ 7.90543785e-04 -9.52278706e-01  2.65215534e+02]\n"
     ]
    },
    {
     "name": "stderr",
     "output_type": "stream",
     "text": [
      "\r",
      "t:   6%|██▉                                                | 70/1199 [00:20<05:25,  3.47it/s, now=None]"
     ]
    },
    {
     "name": "stdout",
     "output_type": "stream",
     "text": [
      "missdetection\n",
      "[ 8.02247974e-04 -9.70929380e-01  2.71974893e+02]\n"
     ]
    },
    {
     "name": "stderr",
     "output_type": "stream",
     "text": [
      "\r",
      "t:   6%|███                                                | 71/1199 [00:20<05:33,  3.39it/s, now=None]"
     ]
    },
    {
     "name": "stdout",
     "output_type": "stream",
     "text": [
      "missdetection\n",
      "[ 8.21305495e-04 -9.98106385e-01  2.81104354e+02]\n"
     ]
    },
    {
     "name": "stderr",
     "output_type": "stream",
     "text": [
      "\r",
      "t:   6%|███                                                | 72/1199 [00:21<05:29,  3.43it/s, now=None]"
     ]
    },
    {
     "name": "stdout",
     "output_type": "stream",
     "text": [
      "missdetection\n",
      "[ 7.96134775e-04 -9.80752297e-01  2.80624736e+02]\n"
     ]
    },
    {
     "name": "stderr",
     "output_type": "stream",
     "text": [
      "\r",
      "t:   6%|███                                                | 73/1199 [00:21<05:19,  3.53it/s, now=None]"
     ]
    },
    {
     "name": "stdout",
     "output_type": "stream",
     "text": [
      "missdetection\n",
      "[ 8.07470068e-04 -9.97257402e-01  2.86290563e+02]\n"
     ]
    },
    {
     "name": "stderr",
     "output_type": "stream",
     "text": [
      "\r",
      "t:   6%|███▏                                               | 74/1199 [00:21<05:18,  3.54it/s, now=None]"
     ]
    },
    {
     "name": "stdout",
     "output_type": "stream",
     "text": [
      "missdetection\n",
      "[ 8.15108107e-04 -1.01772039e+00  2.96297160e+02]\n",
      "Reset by SanityCheck\n"
     ]
    },
    {
     "name": "stderr",
     "output_type": "stream",
     "text": [
      "\r",
      "t:   6%|███▏                                               | 75/1199 [00:22<05:07,  3.65it/s, now=None]"
     ]
    },
    {
     "name": "stdout",
     "output_type": "stream",
     "text": [
      "missdetection\n",
      "[ 1.81032011e-04 -5.01577099e-01  2.04911039e+02]\n"
     ]
    },
    {
     "name": "stderr",
     "output_type": "stream",
     "text": [
      "\r",
      "t:   6%|███▏                                               | 76/1199 [00:22<05:06,  3.66it/s, now=None]"
     ]
    },
    {
     "name": "stdout",
     "output_type": "stream",
     "text": [
      "missdetection\n",
      "[ 7.05745934e-04 -9.34232031e-01  2.83800731e+02]\n"
     ]
    },
    {
     "name": "stderr",
     "output_type": "stream",
     "text": [
      "\r",
      "t:   6%|███▎                                               | 77/1199 [00:22<05:23,  3.47it/s, now=None]"
     ]
    },
    {
     "name": "stdout",
     "output_type": "stream",
     "text": [
      "missdetection\n",
      "[ 6.56702400e-04 -9.03297652e-01  2.81289344e+02]\n"
     ]
    },
    {
     "name": "stderr",
     "output_type": "stream",
     "text": [
      "\r",
      "t:   7%|███▎                                               | 78/1199 [00:22<05:27,  3.43it/s, now=None]"
     ]
    },
    {
     "name": "stdout",
     "output_type": "stream",
     "text": [
      "missdetection\n",
      "[ 7.56213553e-04 -1.01345961e+00  3.13703785e+02]\n"
     ]
    },
    {
     "name": "stderr",
     "output_type": "stream",
     "text": [
      "\r",
      "t:   7%|███▎                                               | 79/1199 [00:23<05:27,  3.42it/s, now=None]"
     ]
    },
    {
     "name": "stdout",
     "output_type": "stream",
     "text": [
      "missdetection\n",
      "[ 8.28150996e-04 -1.12276423e+00  3.52338949e+02]\n"
     ]
    },
    {
     "name": "stderr",
     "output_type": "stream",
     "text": [
      "\r",
      "t:   7%|███▍                                               | 80/1199 [00:23<05:23,  3.46it/s, now=None]"
     ]
    },
    {
     "name": "stdout",
     "output_type": "stream",
     "text": [
      "missdetection\n",
      "[ 8.29870840e-04 -1.13181578e+00  3.57300234e+02]\n"
     ]
    },
    {
     "name": "stderr",
     "output_type": "stream",
     "text": [
      "\r",
      "t:   7%|███▍                                               | 81/1199 [00:23<05:15,  3.55it/s, now=None]"
     ]
    },
    {
     "name": "stdout",
     "output_type": "stream",
     "text": [
      "missdetection\n",
      "[ 8.32739081e-04 -1.12993582e+00  3.54885848e+02]\n"
     ]
    },
    {
     "name": "stderr",
     "output_type": "stream",
     "text": [
      "\r",
      "t:   7%|███▍                                               | 82/1199 [00:24<05:14,  3.55it/s, now=None]"
     ]
    },
    {
     "name": "stdout",
     "output_type": "stream",
     "text": [
      "Wrong separation between lines\n"
     ]
    },
    {
     "name": "stderr",
     "output_type": "stream",
     "text": [
      "t:   7%|███▌                                               | 84/1199 [00:24<05:01,  3.70it/s, now=None]"
     ]
    },
    {
     "name": "stdout",
     "output_type": "stream",
     "text": [
      "missdetection\n",
      "[ 2.60211612e-04 -6.44385680e-01  2.73978000e+02]\n"
     ]
    },
    {
     "name": "stderr",
     "output_type": "stream",
     "text": [
      "\r",
      "t:   7%|███▌                                               | 85/1199 [00:24<05:04,  3.66it/s, now=None]"
     ]
    },
    {
     "name": "stdout",
     "output_type": "stream",
     "text": [
      "Wrong separation between lines\n"
     ]
    },
    {
     "name": "stderr",
     "output_type": "stream",
     "text": [
      "\r",
      "t:   7%|███▋                                               | 86/1199 [00:25<05:08,  3.61it/s, now=None]"
     ]
    },
    {
     "name": "stdout",
     "output_type": "stream",
     "text": [
      "Wrong separation between lines\n"
     ]
    },
    {
     "name": "stderr",
     "output_type": "stream",
     "text": [
      "\r",
      "t:   7%|███▋                                               | 87/1199 [00:25<05:05,  3.64it/s, now=None]"
     ]
    },
    {
     "name": "stdout",
     "output_type": "stream",
     "text": [
      "missdetection\n",
      "[ 1.04936603e-03 -1.38855330e+00  4.38421996e+02]\n"
     ]
    },
    {
     "name": "stderr",
     "output_type": "stream",
     "text": [
      "\r",
      "t:   7%|███▋                                               | 88/1199 [00:25<05:02,  3.68it/s, now=None]"
     ]
    },
    {
     "name": "stdout",
     "output_type": "stream",
     "text": [
      "Wrong separation between lines\n"
     ]
    },
    {
     "name": "stderr",
     "output_type": "stream",
     "text": [
      "\r",
      "t:   7%|███▊                                               | 89/1199 [00:25<04:52,  3.79it/s, now=None]"
     ]
    },
    {
     "name": "stdout",
     "output_type": "stream",
     "text": [
      "Wrong separation between lines\n"
     ]
    },
    {
     "name": "stderr",
     "output_type": "stream",
     "text": [
      "\r",
      "t:   8%|███▊                                               | 90/1199 [00:26<04:42,  3.93it/s, now=None]"
     ]
    },
    {
     "name": "stdout",
     "output_type": "stream",
     "text": [
      "Wrong separation between lines\n"
     ]
    },
    {
     "name": "stderr",
     "output_type": "stream",
     "text": [
      "\r",
      "t:   8%|███▊                                               | 91/1199 [00:26<04:44,  3.89it/s, now=None]"
     ]
    },
    {
     "name": "stdout",
     "output_type": "stream",
     "text": [
      "Wrong separation between lines\n"
     ]
    },
    {
     "name": "stderr",
     "output_type": "stream",
     "text": [
      "\r",
      "t:   8%|███▉                                               | 92/1199 [00:26<04:56,  3.74it/s, now=None]"
     ]
    },
    {
     "name": "stdout",
     "output_type": "stream",
     "text": [
      "Wrong separation between lines\n"
     ]
    },
    {
     "name": "stderr",
     "output_type": "stream",
     "text": [
      "\r",
      "t:   8%|███▉                                               | 93/1199 [00:27<05:01,  3.66it/s, now=None]"
     ]
    },
    {
     "name": "stdout",
     "output_type": "stream",
     "text": [
      "Wrong separation between lines\n"
     ]
    },
    {
     "name": "stderr",
     "output_type": "stream",
     "text": [
      "\r",
      "t:   8%|███▉                                               | 94/1199 [00:27<05:10,  3.56it/s, now=None]"
     ]
    },
    {
     "name": "stdout",
     "output_type": "stream",
     "text": [
      "Wrong separation between lines\n"
     ]
    },
    {
     "name": "stderr",
     "output_type": "stream",
     "text": [
      "\r",
      "t:   8%|████                                               | 95/1199 [00:27<05:14,  3.51it/s, now=None]"
     ]
    },
    {
     "name": "stdout",
     "output_type": "stream",
     "text": [
      "missdetection\n",
      "[ 1.22393575e-03 -1.71881649e+00  5.82799333e+02]\n"
     ]
    },
    {
     "name": "stderr",
     "output_type": "stream",
     "text": [
      "\r",
      "t:   8%|████                                               | 96/1199 [00:27<05:30,  3.33it/s, now=None]"
     ]
    },
    {
     "name": "stdout",
     "output_type": "stream",
     "text": [
      "missdetection\n",
      "[ 1.19028861e-03 -1.64520888e+00  5.53158190e+02]\n"
     ]
    },
    {
     "name": "stderr",
     "output_type": "stream",
     "text": [
      "\r",
      "t:   8%|████▏                                              | 97/1199 [00:28<05:37,  3.26it/s, now=None]"
     ]
    },
    {
     "name": "stdout",
     "output_type": "stream",
     "text": [
      "missdetection\n",
      "[ 1.09741650e-03 -1.54613544e+00  5.25337483e+02]\n"
     ]
    },
    {
     "name": "stderr",
     "output_type": "stream",
     "text": [
      "\r",
      "t:   8%|████▏                                              | 98/1199 [00:28<05:48,  3.16it/s, now=None]"
     ]
    },
    {
     "name": "stdout",
     "output_type": "stream",
     "text": [
      "missdetection\n",
      "[ 9.28159307e-04 -1.33144135e+00  4.59270780e+02]\n"
     ]
    },
    {
     "name": "stderr",
     "output_type": "stream",
     "text": [
      "\r",
      "t:   8%|████▏                                              | 99/1199 [00:28<06:00,  3.06it/s, now=None]"
     ]
    },
    {
     "name": "stdout",
     "output_type": "stream",
     "text": [
      "missdetection\n",
      "[ 7.24100920e-04 -1.06580964e+00  3.75085783e+02]\n"
     ]
    },
    {
     "name": "stderr",
     "output_type": "stream",
     "text": [
      "\r",
      "t:   8%|████▏                                             | 100/1199 [00:29<05:58,  3.06it/s, now=None]"
     ]
    },
    {
     "name": "stdout",
     "output_type": "stream",
     "text": [
      "missdetection\n",
      "[ 6.62266544e-04 -1.01277502e+00  3.65671108e+02]\n"
     ]
    },
    {
     "name": "stderr",
     "output_type": "stream",
     "text": [
      "\r",
      "t:   8%|████▏                                             | 101/1199 [00:29<05:55,  3.09it/s, now=None]"
     ]
    },
    {
     "name": "stdout",
     "output_type": "stream",
     "text": [
      "missdetection\n",
      "[ 1.16908376e-03 -1.64449981e+00  5.61755594e+02]\n"
     ]
    },
    {
     "name": "stderr",
     "output_type": "stream",
     "text": [
      "\r",
      "t:   9%|████▎                                             | 102/1199 [00:29<05:40,  3.22it/s, now=None]"
     ]
    },
    {
     "name": "stdout",
     "output_type": "stream",
     "text": [
      "missdetection\n",
      "[ 1.09278618e-03 -1.55167166e+00  5.33693156e+02]\n"
     ]
    },
    {
     "name": "stderr",
     "output_type": "stream",
     "text": [
      "\r",
      "t:   9%|████▎                                             | 103/1199 [00:30<05:33,  3.28it/s, now=None]"
     ]
    },
    {
     "name": "stdout",
     "output_type": "stream",
     "text": [
      "missdetection\n",
      "[ 1.04819083e-03 -1.49431445e+00  5.17355025e+02]\n"
     ]
    },
    {
     "name": "stderr",
     "output_type": "stream",
     "text": [
      "\r",
      "t:   9%|████▎                                             | 104/1199 [00:30<05:21,  3.40it/s, now=None]"
     ]
    },
    {
     "name": "stdout",
     "output_type": "stream",
     "text": [
      "missdetection\n",
      "[ 1.04832906e-03 -1.50876765e+00  5.25534908e+02]\n",
      "Reset by SanityCheck\n"
     ]
    },
    {
     "name": "stderr",
     "output_type": "stream",
     "text": [
      "\r",
      "t:   9%|████▍                                             | 105/1199 [00:30<05:22,  3.39it/s, now=None]"
     ]
    },
    {
     "name": "stdout",
     "output_type": "stream",
     "text": [
      "missdetection\n",
      "[ 3.37108517e-04 -7.88281000e-01  3.52772355e+02]\n"
     ]
    },
    {
     "name": "stderr",
     "output_type": "stream",
     "text": [
      "\r",
      "t:   9%|████▍                                             | 106/1199 [00:31<05:22,  3.39it/s, now=None]"
     ]
    },
    {
     "name": "stdout",
     "output_type": "stream",
     "text": [
      "missdetection\n",
      "[ 8.20328393e-04 -1.13480155e+00  3.89771185e+02]\n"
     ]
    },
    {
     "name": "stderr",
     "output_type": "stream",
     "text": [
      "\r",
      "t:   9%|████▍                                             | 107/1199 [00:31<05:15,  3.46it/s, now=None]"
     ]
    },
    {
     "name": "stdout",
     "output_type": "stream",
     "text": [
      "missdetection\n",
      "[ 7.59140173e-04 -1.07334358e+00  3.74597035e+02]\n"
     ]
    },
    {
     "name": "stderr",
     "output_type": "stream",
     "text": [
      "\r",
      "t:   9%|████▌                                             | 108/1199 [00:31<05:11,  3.50it/s, now=None]"
     ]
    },
    {
     "name": "stdout",
     "output_type": "stream",
     "text": [
      "missdetection\n",
      "[ 7.48905551e-04 -1.06184472e+00  3.72459361e+02]\n"
     ]
    },
    {
     "name": "stderr",
     "output_type": "stream",
     "text": [
      "\r",
      "t:   9%|████▌                                             | 109/1199 [00:31<05:22,  3.38it/s, now=None]"
     ]
    },
    {
     "name": "stdout",
     "output_type": "stream",
     "text": [
      "missdetection\n",
      "[ 4.96326562e-04 -7.59887288e-01  2.83908336e+02]\n"
     ]
    },
    {
     "name": "stderr",
     "output_type": "stream",
     "text": [
      "\r",
      "t:   9%|████▌                                             | 110/1199 [00:32<05:23,  3.36it/s, now=None]"
     ]
    },
    {
     "name": "stdout",
     "output_type": "stream",
     "text": [
      "missdetection\n",
      "[ 3.97435968e-04 -6.57790170e-01  2.58856619e+02]\n"
     ]
    },
    {
     "name": "stderr",
     "output_type": "stream",
     "text": [
      "\r",
      "t:   9%|████▋                                             | 111/1199 [00:32<05:20,  3.39it/s, now=None]"
     ]
    },
    {
     "name": "stdout",
     "output_type": "stream",
     "text": [
      "missdetection\n",
      "[ 3.10598097e-04 -5.23329356e-01  2.15590858e+02]\n"
     ]
    },
    {
     "name": "stderr",
     "output_type": "stream",
     "text": [
      "t:   9%|████▋                                             | 113/1199 [00:33<05:35,  3.24it/s, now=None]"
     ]
    },
    {
     "name": "stdout",
     "output_type": "stream",
     "text": [
      "Wrong separation between lines\n"
     ]
    },
    {
     "name": "stderr",
     "output_type": "stream",
     "text": [
      "\r",
      "t:  10%|████▊                                             | 114/1199 [00:33<05:24,  3.34it/s, now=None]"
     ]
    },
    {
     "name": "stdout",
     "output_type": "stream",
     "text": [
      "Wrong separation between lines\n"
     ]
    },
    {
     "name": "stderr",
     "output_type": "stream",
     "text": [
      "\r",
      "t:  10%|████▊                                             | 115/1199 [00:33<05:16,  3.42it/s, now=None]"
     ]
    },
    {
     "name": "stdout",
     "output_type": "stream",
     "text": [
      "Wrong separation between lines\n"
     ]
    },
    {
     "name": "stderr",
     "output_type": "stream",
     "text": [
      "\r",
      "t:  10%|████▊                                             | 116/1199 [00:33<05:07,  3.52it/s, now=None]"
     ]
    },
    {
     "name": "stdout",
     "output_type": "stream",
     "text": [
      "Wrong separation between lines\n"
     ]
    },
    {
     "name": "stderr",
     "output_type": "stream",
     "text": [
      "\r",
      "t:  10%|████▉                                             | 117/1199 [00:34<05:10,  3.49it/s, now=None]"
     ]
    },
    {
     "name": "stdout",
     "output_type": "stream",
     "text": [
      "Wrong separation between lines\n"
     ]
    },
    {
     "name": "stderr",
     "output_type": "stream",
     "text": [
      "t:  10%|█████                                             | 120/1199 [00:35<05:12,  3.46it/s, now=None]"
     ]
    },
    {
     "name": "stdout",
     "output_type": "stream",
     "text": [
      "Wrong separation between lines\n"
     ]
    },
    {
     "name": "stderr",
     "output_type": "stream",
     "text": [
      "\r",
      "t:  10%|█████                                             | 121/1199 [00:35<05:05,  3.53it/s, now=None]"
     ]
    },
    {
     "name": "stdout",
     "output_type": "stream",
     "text": [
      "Wrong separation between lines\n"
     ]
    },
    {
     "name": "stderr",
     "output_type": "stream",
     "text": [
      "\r",
      "t:  10%|█████                                             | 122/1199 [00:35<04:53,  3.67it/s, now=None]"
     ]
    },
    {
     "name": "stdout",
     "output_type": "stream",
     "text": [
      "Wrong separation between lines\n"
     ]
    },
    {
     "name": "stderr",
     "output_type": "stream",
     "text": [
      "\r",
      "t:  10%|█████▏                                            | 123/1199 [00:35<04:48,  3.73it/s, now=None]"
     ]
    },
    {
     "name": "stdout",
     "output_type": "stream",
     "text": [
      "Wrong separation between lines\n"
     ]
    },
    {
     "name": "stderr",
     "output_type": "stream",
     "text": [
      "\r",
      "t:  10%|█████▏                                            | 124/1199 [00:36<04:40,  3.83it/s, now=None]"
     ]
    },
    {
     "name": "stdout",
     "output_type": "stream",
     "text": [
      "Wrong separation between lines\n"
     ]
    },
    {
     "name": "stderr",
     "output_type": "stream",
     "text": [
      "\r",
      "t:  10%|█████▏                                            | 125/1199 [00:36<04:33,  3.93it/s, now=None]"
     ]
    },
    {
     "name": "stdout",
     "output_type": "stream",
     "text": [
      "missdetection\n",
      "[-7.38764100e-04  8.60197264e-01 -2.22611308e+02]\n"
     ]
    },
    {
     "name": "stderr",
     "output_type": "stream",
     "text": [
      "\r",
      "t:  11%|█████▎                                            | 126/1199 [00:36<04:33,  3.92it/s, now=None]"
     ]
    },
    {
     "name": "stdout",
     "output_type": "stream",
     "text": [
      "missdetection\n",
      "[-7.67547239e-04  9.28762409e-01 -2.55802066e+02]\n"
     ]
    },
    {
     "name": "stderr",
     "output_type": "stream",
     "text": [
      "\r",
      "t:  11%|█████▎                                            | 127/1199 [00:36<04:35,  3.90it/s, now=None]"
     ]
    },
    {
     "name": "stdout",
     "output_type": "stream",
     "text": [
      "missdetection\n",
      "[-7.53987377e-04  9.50525781e-01 -2.77061807e+02]\n"
     ]
    },
    {
     "name": "stderr",
     "output_type": "stream",
     "text": [
      "\r",
      "t:  11%|█████▎                                            | 128/1199 [00:37<04:37,  3.86it/s, now=None]"
     ]
    },
    {
     "name": "stdout",
     "output_type": "stream",
     "text": [
      "missdetection\n",
      "[-7.41922712e-04  9.77261895e-01 -3.00794208e+02]\n"
     ]
    },
    {
     "name": "stderr",
     "output_type": "stream",
     "text": [
      "\r",
      "t:  11%|█████▍                                            | 129/1199 [00:37<04:33,  3.92it/s, now=None]"
     ]
    },
    {
     "name": "stdout",
     "output_type": "stream",
     "text": [
      "missdetection\n",
      "[-7.21108679e-04  9.94702042e-01 -3.22833740e+02]\n"
     ]
    },
    {
     "name": "stderr",
     "output_type": "stream",
     "text": [
      "\r",
      "t:  11%|█████▍                                            | 130/1199 [00:37<04:35,  3.88it/s, now=None]"
     ]
    },
    {
     "name": "stdout",
     "output_type": "stream",
     "text": [
      "missdetection\n",
      "[-6.91422863e-04  9.94192405e-01 -3.36912141e+02]\n"
     ]
    },
    {
     "name": "stderr",
     "output_type": "stream",
     "text": [
      "t:  11%|█████▌                                            | 132/1199 [00:38<04:40,  3.80it/s, now=None]"
     ]
    },
    {
     "name": "stdout",
     "output_type": "stream",
     "text": [
      "missdetection\n",
      "[-1.01451966e-03  1.19251193e+00 -3.60329264e+02]\n"
     ]
    },
    {
     "name": "stderr",
     "output_type": "stream",
     "text": [
      "\r",
      "t:  11%|█████▌                                            | 133/1199 [00:38<04:39,  3.81it/s, now=None]"
     ]
    },
    {
     "name": "stdout",
     "output_type": "stream",
     "text": [
      "Wrong separation between lines\n"
     ]
    },
    {
     "name": "stderr",
     "output_type": "stream",
     "text": [
      "\r",
      "t:  11%|█████▌                                            | 134/1199 [00:38<04:27,  3.98it/s, now=None]"
     ]
    },
    {
     "name": "stdout",
     "output_type": "stream",
     "text": [
      "Wrong separation between lines\n"
     ]
    },
    {
     "name": "stderr",
     "output_type": "stream",
     "text": [
      "\r",
      "t:  11%|█████▋                                            | 135/1199 [00:38<04:26,  3.99it/s, now=None]"
     ]
    },
    {
     "name": "stdout",
     "output_type": "stream",
     "text": [
      "missdetection\n",
      "[-1.88271684e-04  4.30262652e-01 -2.03507736e+02]\n",
      "missdetection\n",
      "[-6.71264132e-04  1.09073360e+00 -4.18257578e+02]\n"
     ]
    },
    {
     "name": "stderr",
     "output_type": "stream",
     "text": [
      "\r",
      "t:  11%|█████▋                                            | 136/1199 [00:39<04:33,  3.89it/s, now=None]"
     ]
    },
    {
     "name": "stdout",
     "output_type": "stream",
     "text": [
      "missdetection\n",
      "[-1.83447930e-04  4.38309968e-01 -2.11950267e+02]\n"
     ]
    },
    {
     "name": "stderr",
     "output_type": "stream",
     "text": [
      "\r",
      "t:  11%|█████▋                                            | 137/1199 [00:39<04:44,  3.73it/s, now=None]"
     ]
    },
    {
     "name": "stdout",
     "output_type": "stream",
     "text": [
      "missdetection\n",
      "[-2.23737966e-04  4.97484679e-01 -2.34207072e+02]\n"
     ]
    },
    {
     "name": "stderr",
     "output_type": "stream",
     "text": [
      "\r",
      "t:  12%|█████▊                                            | 138/1199 [00:39<05:07,  3.45it/s, now=None]"
     ]
    },
    {
     "name": "stdout",
     "output_type": "stream",
     "text": [
      "missdetection\n",
      "[-2.36708166e-04  5.33875490e-01 -2.50660662e+02]\n"
     ]
    },
    {
     "name": "stderr",
     "output_type": "stream",
     "text": [
      "\r",
      "t:  12%|█████▊                                            | 139/1199 [00:40<05:13,  3.38it/s, now=None]"
     ]
    },
    {
     "name": "stdout",
     "output_type": "stream",
     "text": [
      "missdetection\n",
      "[-2.18587270e-04  5.29377760e-01 -2.57987932e+02]\n"
     ]
    },
    {
     "name": "stderr",
     "output_type": "stream",
     "text": [
      "\r",
      "t:  12%|█████▊                                            | 140/1199 [00:40<05:16,  3.35it/s, now=None]"
     ]
    },
    {
     "name": "stdout",
     "output_type": "stream",
     "text": [
      "missdetection\n",
      "[-2.72658934e-04  5.93302771e-01 -2.77781023e+02]\n"
     ]
    },
    {
     "name": "stderr",
     "output_type": "stream",
     "text": [
      "\r",
      "t:  12%|█████▉                                            | 141/1199 [00:40<05:22,  3.28it/s, now=None]"
     ]
    },
    {
     "name": "stdout",
     "output_type": "stream",
     "text": [
      "missdetection\n",
      "[-2.68661830e-04  6.00121380e-01 -2.85159332e+02]\n"
     ]
    },
    {
     "name": "stderr",
     "output_type": "stream",
     "text": [
      "\r",
      "t:  12%|█████▉                                            | 142/1199 [00:41<05:32,  3.18it/s, now=None]"
     ]
    },
    {
     "name": "stdout",
     "output_type": "stream",
     "text": [
      "missdetection\n",
      "[-2.62048316e-04  6.08403453e-01 -2.94219555e+02]\n"
     ]
    },
    {
     "name": "stderr",
     "output_type": "stream",
     "text": [
      "\r",
      "t:  12%|█████▉                                            | 143/1199 [00:41<05:28,  3.22it/s, now=None]"
     ]
    },
    {
     "name": "stdout",
     "output_type": "stream",
     "text": [
      "missdetection\n",
      "[-2.69922863e-04  6.29886324e-01 -3.05517585e+02]\n"
     ]
    },
    {
     "name": "stderr",
     "output_type": "stream",
     "text": [
      "\r",
      "t:  12%|██████                                            | 144/1199 [00:41<05:22,  3.27it/s, now=None]"
     ]
    },
    {
     "name": "stdout",
     "output_type": "stream",
     "text": [
      "missdetection\n",
      "[-3.26225591e-04  7.01595589e-01 -3.29493972e+02]\n",
      "Reset by SanityCheck\n"
     ]
    },
    {
     "name": "stderr",
     "output_type": "stream",
     "text": [
      "\r",
      "t:  12%|██████                                            | 145/1199 [00:41<05:07,  3.43it/s, now=None]"
     ]
    },
    {
     "name": "stdout",
     "output_type": "stream",
     "text": [
      "missdetection\n",
      "[-2.74895481e-04  5.14579506e-01 -2.46050291e+02]\n"
     ]
    },
    {
     "name": "stderr",
     "output_type": "stream",
     "text": [
      "\r",
      "t:  12%|██████                                            | 146/1199 [00:42<05:08,  3.42it/s, now=None]"
     ]
    },
    {
     "name": "stdout",
     "output_type": "stream",
     "text": [
      "missdetection\n",
      "[-4.44593342e-04  8.01941705e-01 -3.53822738e+02]\n"
     ]
    },
    {
     "name": "stderr",
     "output_type": "stream",
     "text": [
      "\r",
      "t:  12%|██████▏                                           | 147/1199 [00:42<05:20,  3.28it/s, now=None]"
     ]
    },
    {
     "name": "stdout",
     "output_type": "stream",
     "text": [
      "missdetection\n",
      "[-5.10184451e-04  8.81582859e-01 -3.77432546e+02]\n"
     ]
    },
    {
     "name": "stderr",
     "output_type": "stream",
     "text": [
      "\r",
      "t:  12%|██████▏                                           | 148/1199 [00:42<05:24,  3.24it/s, now=None]"
     ]
    },
    {
     "name": "stdout",
     "output_type": "stream",
     "text": [
      "missdetection\n",
      "[-5.09325154e-04  8.86601090e-01 -3.80548258e+02]\n"
     ]
    },
    {
     "name": "stderr",
     "output_type": "stream",
     "text": [
      "\r",
      "t:  12%|██████▏                                           | 149/1199 [00:43<05:14,  3.33it/s, now=None]"
     ]
    },
    {
     "name": "stdout",
     "output_type": "stream",
     "text": [
      "missdetection\n",
      "[-5.17980685e-04  8.99722382e-01 -3.84657195e+02]\n"
     ]
    },
    {
     "name": "stderr",
     "output_type": "stream",
     "text": [
      "\r",
      "t:  13%|██████▎                                           | 150/1199 [00:43<05:14,  3.34it/s, now=None]"
     ]
    },
    {
     "name": "stdout",
     "output_type": "stream",
     "text": [
      "missdetection\n",
      "[-5.42041850e-04  9.29146577e-01 -3.93223861e+02]\n"
     ]
    },
    {
     "name": "stderr",
     "output_type": "stream",
     "text": [
      "\r",
      "t:  13%|██████▎                                           | 151/1199 [00:43<05:14,  3.33it/s, now=None]"
     ]
    },
    {
     "name": "stdout",
     "output_type": "stream",
     "text": [
      "missdetection\n",
      "[-5.63350199e-04  9.65242017e-01 -4.07664767e+02]\n"
     ]
    },
    {
     "name": "stderr",
     "output_type": "stream",
     "text": [
      "\r",
      "t:  13%|██████▎                                           | 152/1199 [00:44<05:14,  3.32it/s, now=None]"
     ]
    },
    {
     "name": "stdout",
     "output_type": "stream",
     "text": [
      "missdetection\n",
      "[-5.75366483e-04  9.86997992e-01 -4.16374386e+02]\n"
     ]
    },
    {
     "name": "stderr",
     "output_type": "stream",
     "text": [
      "\r",
      "t:  13%|██████▍                                           | 153/1199 [00:44<05:09,  3.38it/s, now=None]"
     ]
    },
    {
     "name": "stdout",
     "output_type": "stream",
     "text": [
      "missdetection\n",
      "[-6.02746140e-04  1.02258813e+00 -4.27495917e+02]\n"
     ]
    },
    {
     "name": "stderr",
     "output_type": "stream",
     "text": [
      "\r",
      "t:  13%|██████▍                                           | 154/1199 [00:44<05:08,  3.39it/s, now=None]"
     ]
    },
    {
     "name": "stdout",
     "output_type": "stream",
     "text": [
      "missdetection\n",
      "[-6.71659633e-04  1.08920524e+00 -4.45413243e+02]\n"
     ]
    },
    {
     "name": "stderr",
     "output_type": "stream",
     "text": [
      "\r",
      "t:  13%|██████▍                                           | 155/1199 [00:44<05:05,  3.41it/s, now=None]"
     ]
    },
    {
     "name": "stdout",
     "output_type": "stream",
     "text": [
      "missdetection\n",
      "[-7.14757487e-04  1.14501631e+00 -4.64099405e+02]\n",
      "Reset by SanityCheck\n"
     ]
    },
    {
     "name": "stderr",
     "output_type": "stream",
     "text": [
      "\r",
      "t:  13%|██████▌                                           | 156/1199 [00:45<04:51,  3.58it/s, now=None]"
     ]
    },
    {
     "name": "stdout",
     "output_type": "stream",
     "text": [
      "missdetection\n",
      "[-1.60752999e-03  1.06366772e+00 -8.33922933e+01]\n"
     ]
    },
    {
     "name": "stderr",
     "output_type": "stream",
     "text": [
      "\r",
      "t:  13%|██████▌                                           | 157/1199 [00:45<04:45,  3.65it/s, now=None]"
     ]
    },
    {
     "name": "stdout",
     "output_type": "stream",
     "text": [
      "missdetection\n",
      "[ 1.97906523e-03 -2.12447850e+00  5.22503373e+02]\n"
     ]
    },
    {
     "name": "stderr",
     "output_type": "stream",
     "text": [
      "\r",
      "t:  13%|██████▌                                           | 158/1199 [00:45<04:46,  3.63it/s, now=None]"
     ]
    },
    {
     "name": "stdout",
     "output_type": "stream",
     "text": [
      "missdetection\n",
      "[ 2.03626401e-03 -2.25922084e+00  5.86510178e+02]\n"
     ]
    },
    {
     "name": "stderr",
     "output_type": "stream",
     "text": [
      "\r",
      "t:  13%|██████▋                                           | 159/1199 [00:46<04:49,  3.59it/s, now=None]"
     ]
    },
    {
     "name": "stdout",
     "output_type": "stream",
     "text": [
      "missdetection\n",
      "[ 2.05413666e-03 -2.31633254e+00  6.15770135e+02]\n"
     ]
    },
    {
     "name": "stderr",
     "output_type": "stream",
     "text": [
      "\r",
      "t:  13%|██████▋                                           | 160/1199 [00:46<04:42,  3.68it/s, now=None]"
     ]
    },
    {
     "name": "stdout",
     "output_type": "stream",
     "text": [
      "missdetection\n",
      "[ 2.07233386e-03 -2.37508133e+00  6.46512314e+02]\n"
     ]
    },
    {
     "name": "stderr",
     "output_type": "stream",
     "text": [
      "\r",
      "t:  13%|██████▋                                           | 161/1199 [00:46<04:32,  3.81it/s, now=None]"
     ]
    },
    {
     "name": "stdout",
     "output_type": "stream",
     "text": [
      "missdetection\n",
      "[ 2.07645639e-03 -2.40700019e+00  6.65772085e+02]\n"
     ]
    },
    {
     "name": "stderr",
     "output_type": "stream",
     "text": [
      "\r",
      "t:  14%|██████▊                                           | 162/1199 [00:46<04:32,  3.80it/s, now=None]"
     ]
    },
    {
     "name": "stdout",
     "output_type": "stream",
     "text": [
      "missdetection\n",
      "[ 1.21567911e-03 -1.11449776e+00  1.91355619e+02]\n",
      "missdetection\n",
      "[ 2.05420428e-03 -2.37513358e+00  6.53130021e+02]\n"
     ]
    },
    {
     "name": "stderr",
     "output_type": "stream",
     "text": [
      "\r",
      "t:  14%|██████▊                                           | 163/1199 [00:47<04:28,  3.86it/s, now=None]"
     ]
    },
    {
     "name": "stdout",
     "output_type": "stream",
     "text": [
      "missdetection\n",
      "[-1.27714553e-03  1.74205216e+00 -6.21585744e+02]\n",
      "missdetection\n",
      "[ 2.06312574e-03 -2.38709026e+00  6.55688734e+02]\n"
     ]
    },
    {
     "name": "stderr",
     "output_type": "stream",
     "text": [
      "\r",
      "t:  14%|██████▊                                           | 164/1199 [00:47<04:20,  3.97it/s, now=None]"
     ]
    },
    {
     "name": "stdout",
     "output_type": "stream",
     "text": [
      "missdetection\n",
      "[-1.20910837e-03  1.67071520e+00 -6.02798672e+02]\n",
      "missdetection\n",
      "[ 2.06749401e-03 -2.41022196e+00  6.68796213e+02]\n"
     ]
    },
    {
     "name": "stderr",
     "output_type": "stream",
     "text": [
      "\r",
      "t:  14%|██████▉                                           | 165/1199 [00:47<04:17,  4.01it/s, now=None]"
     ]
    },
    {
     "name": "stdout",
     "output_type": "stream",
     "text": [
      "missdetection\n",
      "[-1.30361900e-03  1.77745658e+00 -6.33168177e+02]\n",
      "missdetection\n",
      "[ 2.08288426e-03 -2.42261516e+00  6.67890657e+02]\n"
     ]
    },
    {
     "name": "stderr",
     "output_type": "stream",
     "text": [
      "\r",
      "t:  14%|██████▉                                           | 166/1199 [00:47<04:17,  4.02it/s, now=None]"
     ]
    },
    {
     "name": "stdout",
     "output_type": "stream",
     "text": [
      "missdetection\n",
      "[-1.30205895e-03  1.78557717e+00 -6.38447745e+02]\n",
      "missdetection\n",
      "[ 2.07278464e-03 -2.41090969e+00  6.63809918e+02]\n",
      "Reset by SanityCheck\n"
     ]
    },
    {
     "name": "stderr",
     "output_type": "stream",
     "text": [
      "\r",
      "t:  14%|██████▉                                           | 167/1199 [00:48<04:23,  3.92it/s, now=None]"
     ]
    },
    {
     "name": "stdout",
     "output_type": "stream",
     "text": [
      "missdetection\n",
      "[-1.27544823e-03  1.73997327e+00 -6.20023564e+02]\n"
     ]
    },
    {
     "name": "stderr",
     "output_type": "stream",
     "text": [
      "\r",
      "t:  14%|███████                                           | 168/1199 [00:48<04:23,  3.92it/s, now=None]"
     ]
    },
    {
     "name": "stdout",
     "output_type": "stream",
     "text": [
      "missdetection\n",
      "[-1.28839787e-03  1.75960347e+00 -6.25332701e+02]\n"
     ]
    },
    {
     "name": "stderr",
     "output_type": "stream",
     "text": [
      "\r",
      "t:  14%|███████                                           | 169/1199 [00:48<04:29,  3.83it/s, now=None]"
     ]
    },
    {
     "name": "stdout",
     "output_type": "stream",
     "text": [
      "missdetection\n",
      "[-1.33531683e-03  1.80586861e+00 -6.36855281e+02]\n"
     ]
    },
    {
     "name": "stderr",
     "output_type": "stream",
     "text": [
      "\r",
      "t:  14%|███████                                           | 170/1199 [00:48<04:52,  3.52it/s, now=None]"
     ]
    },
    {
     "name": "stdout",
     "output_type": "stream",
     "text": [
      "missdetection\n",
      "[-1.27774407e-03  1.74436516e+00 -6.19699361e+02]\n",
      "missdetection\n",
      "[ 7.90334057e-04 -9.88715941e-01  2.71950747e+02]\n"
     ]
    },
    {
     "name": "stderr",
     "output_type": "stream",
     "text": [
      "\r",
      "t:  14%|███████▏                                          | 171/1199 [00:49<04:46,  3.59it/s, now=None]"
     ]
    },
    {
     "name": "stdout",
     "output_type": "stream",
     "text": [
      "missdetection\n",
      "[-1.39045072e-03  1.84071074e+00 -6.40172379e+02]\n",
      "missdetection\n",
      "[ 1.72864835e-03 -2.20897049e+00  6.65542815e+02]\n"
     ]
    },
    {
     "name": "stderr",
     "output_type": "stream",
     "text": [
      "\r",
      "t:  14%|███████▏                                          | 172/1199 [00:49<04:40,  3.66it/s, now=None]"
     ]
    },
    {
     "name": "stdout",
     "output_type": "stream",
     "text": [
      "Discarded X point\n",
      "missdetection\n",
      "[-1.27622107e-03  1.72928217e+00 -6.12996035e+02]\n",
      "missdetection\n",
      "[ 1.71797001e-03 -2.18151934e+00  6.51271848e+02]\n",
      "Reset by SanityCheck\n"
     ]
    },
    {
     "name": "stderr",
     "output_type": "stream",
     "text": [
      "\r",
      "t:  14%|███████▏                                          | 173/1199 [00:49<04:32,  3.76it/s, now=None]"
     ]
    },
    {
     "name": "stdout",
     "output_type": "stream",
     "text": [
      "Discarded X point\n",
      "missdetection\n",
      "[-7.61799768e-04  1.27151825e+00 -5.22284130e+02]\n",
      "missdetection\n",
      "[ 1.73229649e-03 -2.20441757e+00  6.59072885e+02]\n"
     ]
    },
    {
     "name": "stderr",
     "output_type": "stream",
     "text": [
      "\r",
      "t:  15%|███████▎                                          | 174/1199 [00:49<04:23,  3.90it/s, now=None]"
     ]
    },
    {
     "name": "stdout",
     "output_type": "stream",
     "text": [
      "missdetection\n",
      "[-1.57809218e-03  1.99271855e+00 -6.76256445e+02]\n",
      "missdetection\n",
      "[ 1.74075713e-03 -2.21454467e+00  6.63086112e+02]\n"
     ]
    },
    {
     "name": "stderr",
     "output_type": "stream",
     "text": [
      "\r",
      "t:  15%|███████▎                                          | 175/1199 [00:50<04:19,  3.95it/s, now=None]"
     ]
    },
    {
     "name": "stdout",
     "output_type": "stream",
     "text": [
      "missdetection\n",
      "[-1.43297086e-03  1.76545183e+00 -5.98455235e+02]\n",
      "missdetection\n",
      "[ 1.73575037e-03 -2.21871791e+00  6.67239137e+02]\n"
     ]
    },
    {
     "name": "stderr",
     "output_type": "stream",
     "text": [
      "\r",
      "t:  15%|███████▎                                          | 176/1199 [00:50<04:23,  3.88it/s, now=None]"
     ]
    },
    {
     "name": "stdout",
     "output_type": "stream",
     "text": [
      "missdetection\n",
      "[-1.53026176e-03  1.94385971e+00 -6.69490859e+02]\n",
      "missdetection\n",
      "[ 1.73256897e-03 -2.22545490e+00  6.70799089e+02]\n"
     ]
    },
    {
     "name": "stderr",
     "output_type": "stream",
     "text": [
      "\r",
      "t:  15%|███████▍                                          | 177/1199 [00:50<04:07,  4.13it/s, now=None]"
     ]
    },
    {
     "name": "stdout",
     "output_type": "stream",
     "text": [
      "missdetection\n",
      "[-1.28969217e-03  1.72030203e+00 -6.18600074e+02]\n",
      "missdetection\n",
      "[ 1.72717183e-03 -2.22623837e+00  6.73117959e+02]\n"
     ]
    },
    {
     "name": "stderr",
     "output_type": "stream",
     "text": [
      "\r",
      "t:  15%|███████▍                                          | 178/1199 [00:50<04:09,  4.09it/s, now=None]"
     ]
    },
    {
     "name": "stdout",
     "output_type": "stream",
     "text": [
      "missdetection\n",
      "[-9.09839618e-04  1.22010350e+00 -4.59276505e+02]\n",
      "missdetection\n",
      "[ 1.72327252e-03 -2.22610039e+00  6.74368830e+02]\n"
     ]
    },
    {
     "name": "stderr",
     "output_type": "stream",
     "text": [
      "\r",
      "t:  15%|███████▍                                          | 179/1199 [00:51<04:19,  3.93it/s, now=None]"
     ]
    },
    {
     "name": "stdout",
     "output_type": "stream",
     "text": [
      "missdetection\n",
      "[-8.01084309e-04  1.10335534e+00 -4.29353772e+02]\n",
      "missdetection\n",
      "[ 1.71761766e-03 -2.22456416e+00  6.75525650e+02]\n"
     ]
    },
    {
     "name": "stderr",
     "output_type": "stream",
     "text": [
      "\r",
      "t:  15%|███████▌                                          | 180/1199 [00:51<04:29,  3.78it/s, now=None]"
     ]
    },
    {
     "name": "stdout",
     "output_type": "stream",
     "text": [
      "missdetection\n",
      "[-6.66330232e-04  9.49185163e-01 -3.86054115e+02]\n",
      "missdetection\n",
      "[ 1.71300589e-03 -2.22352127e+00  6.76170779e+02]\n",
      "Reset by SanityCheck\n"
     ]
    },
    {
     "name": "stderr",
     "output_type": "stream",
     "text": [
      "\r",
      "t:  15%|███████▌                                          | 181/1199 [00:51<04:28,  3.79it/s, now=None]"
     ]
    },
    {
     "name": "stdout",
     "output_type": "stream",
     "text": [
      "missdetection\n",
      "[-2.95039488e-04  4.40111258e-01 -2.11514630e+02]\n"
     ]
    },
    {
     "name": "stderr",
     "output_type": "stream",
     "text": [
      "t:  15%|███████▋                                          | 183/1199 [00:52<04:45,  3.56it/s, now=None]"
     ]
    },
    {
     "name": "stdout",
     "output_type": "stream",
     "text": [
      "missdetection\n",
      "[ 9.90146266e-05  3.67260163e-01 -3.12424945e+02]\n",
      "missdetection\n",
      "[-1.22317132e-02  1.67510140e+01 -5.80685158e+03]\n"
     ]
    },
    {
     "name": "stderr",
     "output_type": "stream",
     "text": [
      "\r",
      "t:  15%|███████▋                                          | 184/1199 [00:52<04:46,  3.54it/s, now=None]"
     ]
    },
    {
     "name": "stdout",
     "output_type": "stream",
     "text": [
      "missdetection\n",
      "[ 6.81201808e-04 -8.77694672e-01  2.35907813e+02]\n",
      "missdetection\n",
      "[ 1.75537108e-03 -2.33222193e+00  7.14485592e+02]\n"
     ]
    },
    {
     "name": "stderr",
     "output_type": "stream",
     "text": [
      "\r",
      "t:  15%|███████▋                                          | 185/1199 [00:52<04:27,  3.79it/s, now=None]"
     ]
    },
    {
     "name": "stdout",
     "output_type": "stream",
     "text": [
      "missdetection\n",
      "[ 7.38975728e-04 -9.96684089e-01  2.90772196e+02]\n",
      "missdetection\n",
      "[ 1.75226505e-03 -2.32921191e+00  7.15015784e+02]\n"
     ]
    },
    {
     "name": "stderr",
     "output_type": "stream",
     "text": [
      "\r",
      "t:  16%|███████▊                                          | 186/1199 [00:53<04:25,  3.81it/s, now=None]"
     ]
    },
    {
     "name": "stdout",
     "output_type": "stream",
     "text": [
      "missdetection\n",
      "[ 7.35700064e-04 -1.00762144e+00  3.00117357e+02]\n"
     ]
    },
    {
     "name": "stderr",
     "output_type": "stream",
     "text": [
      "\r",
      "t:  16%|███████▊                                          | 187/1199 [00:53<04:40,  3.61it/s, now=None]"
     ]
    },
    {
     "name": "stdout",
     "output_type": "stream",
     "text": [
      "missdetection\n",
      "[ 7.52370443e-04 -1.00716132e+00  2.93442450e+02]\n"
     ]
    },
    {
     "name": "stderr",
     "output_type": "stream",
     "text": [
      "\r",
      "t:  16%|███████▊                                          | 188/1199 [00:53<04:45,  3.54it/s, now=None]"
     ]
    },
    {
     "name": "stdout",
     "output_type": "stream",
     "text": [
      "missdetection\n",
      "[ 7.88483079e-04 -1.04085905e+00  3.01278791e+02]\n"
     ]
    },
    {
     "name": "stderr",
     "output_type": "stream",
     "text": [
      "\r",
      "t:  16%|███████▉                                          | 189/1199 [00:53<04:37,  3.63it/s, now=None]"
     ]
    },
    {
     "name": "stdout",
     "output_type": "stream",
     "text": [
      "Discarded X point\n",
      "missdetection\n",
      "[ 8.12264142e-04 -1.07459408e+00  3.09154013e+02]\n"
     ]
    },
    {
     "name": "stderr",
     "output_type": "stream",
     "text": [
      "\r",
      "t:  16%|███████▉                                          | 190/1199 [00:54<04:31,  3.71it/s, now=None]"
     ]
    },
    {
     "name": "stdout",
     "output_type": "stream",
     "text": [
      "Discarded X point\n",
      "Discarded X point\n",
      "missdetection\n",
      "[ 8.13000019e-04 -1.07558737e+00  3.09148703e+02]\n"
     ]
    },
    {
     "name": "stderr",
     "output_type": "stream",
     "text": [
      "\r",
      "t:  16%|███████▉                                          | 191/1199 [00:54<04:33,  3.68it/s, now=None]"
     ]
    },
    {
     "name": "stdout",
     "output_type": "stream",
     "text": [
      "Discarded X point\n",
      "Discarded X point\n",
      "missdetection\n",
      "[ 8.13259741e-04 -1.07593794e+00  3.09146828e+02]\n"
     ]
    },
    {
     "name": "stderr",
     "output_type": "stream",
     "text": [
      "\r",
      "t:  16%|████████                                          | 192/1199 [00:54<04:47,  3.51it/s, now=None]"
     ]
    },
    {
     "name": "stdout",
     "output_type": "stream",
     "text": [
      "Discarded X point\n",
      "Discarded X point\n",
      "missdetection\n",
      "[ 8.12935089e-04 -1.07549973e+00  3.09149171e+02]\n"
     ]
    },
    {
     "name": "stderr",
     "output_type": "stream",
     "text": [
      "\r",
      "t:  16%|████████                                          | 193/1199 [00:55<04:35,  3.66it/s, now=None]"
     ]
    },
    {
     "name": "stdout",
     "output_type": "stream",
     "text": [
      "Discarded X point\n",
      "Discarded X point\n",
      "missdetection\n",
      "[ 8.12264142e-04 -1.07459408e+00  3.09154013e+02]\n",
      "Reset by SanityCheck\n"
     ]
    },
    {
     "name": "stderr",
     "output_type": "stream",
     "text": [
      "\r",
      "t:  16%|████████                                          | 194/1199 [00:55<04:22,  3.82it/s, now=None]"
     ]
    },
    {
     "name": "stdout",
     "output_type": "stream",
     "text": [
      "Discarded X point\n",
      "Discarded X point\n",
      "NO pixels with search around poly\n",
      "missdetection\n",
      "[-2.98115329e-03  1.72662673e+00 -1.45834739e+02]\n"
     ]
    },
    {
     "name": "stderr",
     "output_type": "stream",
     "text": [
      "\r",
      "t:  16%|████████▏                                         | 195/1199 [00:55<04:17,  3.90it/s, now=None]"
     ]
    },
    {
     "name": "stdout",
     "output_type": "stream",
     "text": [
      "Discarded X point\n",
      "Discarded X point\n",
      "missdetection\n",
      "[ 1.78971526e-03 -2.32788461e+00  7.08369026e+02]\n"
     ]
    },
    {
     "name": "stderr",
     "output_type": "stream",
     "text": [
      "\r",
      "t:  16%|████████▏                                         | 196/1199 [00:55<04:21,  3.84it/s, now=None]"
     ]
    },
    {
     "name": "stdout",
     "output_type": "stream",
     "text": [
      "Discarded X point\n",
      "Discarded X point\n",
      "NO pixels with search around poly\n",
      "missdetection\n",
      "[ 1.78978019e-03 -2.32797225e+00  7.08368557e+02]\n"
     ]
    },
    {
     "name": "stderr",
     "output_type": "stream",
     "text": [
      "\r",
      "t:  16%|████████▏                                         | 197/1199 [00:56<04:10,  4.00it/s, now=None]"
     ]
    },
    {
     "name": "stdout",
     "output_type": "stream",
     "text": [
      "Discarded X point\n",
      "Discarded X point\n",
      "missdetection\n",
      "[ 1.78978019e-03 -2.32797225e+00  7.08368557e+02]\n"
     ]
    },
    {
     "name": "stderr",
     "output_type": "stream",
     "text": [
      "\r",
      "t:  17%|████████▎                                         | 198/1199 [00:56<04:15,  3.91it/s, now=None]"
     ]
    },
    {
     "name": "stdout",
     "output_type": "stream",
     "text": [
      "Discarded X point\n",
      "Discarded X point\n",
      "missdetection\n",
      "[ 1.78978019e-03 -2.32797225e+00  7.08368557e+02]\n"
     ]
    },
    {
     "name": "stderr",
     "output_type": "stream",
     "text": [
      "\r",
      "t:  17%|████████▎                                         | 199/1199 [00:56<04:13,  3.94it/s, now=None]"
     ]
    },
    {
     "name": "stdout",
     "output_type": "stream",
     "text": [
      "Discarded X point\n",
      "missdetection\n",
      "[ 1.78971526e-03 -2.32788461e+00  7.08369026e+02]\n"
     ]
    },
    {
     "name": "stderr",
     "output_type": "stream",
     "text": [
      "\r",
      "t:  17%|████████▎                                         | 200/1199 [00:56<04:10,  3.98it/s, now=None]"
     ]
    },
    {
     "name": "stdout",
     "output_type": "stream",
     "text": [
      "Discarded X point\n",
      "missdetection\n",
      "[ 1.78971526e-03 -2.32788461e+00  7.08369026e+02]\n"
     ]
    },
    {
     "name": "stderr",
     "output_type": "stream",
     "text": [
      "\r",
      "t:  17%|████████▍                                         | 201/1199 [00:57<04:07,  4.03it/s, now=None]"
     ]
    },
    {
     "name": "stdout",
     "output_type": "stream",
     "text": [
      "Discarded X point\n",
      "missdetection\n",
      "[ 1.78971526e-03 -2.32788461e+00  7.08369026e+02]\n"
     ]
    },
    {
     "name": "stderr",
     "output_type": "stream",
     "text": [
      "\r",
      "t:  17%|████████▍                                         | 202/1199 [00:57<04:10,  3.98it/s, now=None]"
     ]
    },
    {
     "name": "stdout",
     "output_type": "stream",
     "text": [
      "Discarded X point\n",
      "missdetection\n",
      "[ 1.78971526e-03 -2.32788461e+00  7.08369026e+02]\n"
     ]
    },
    {
     "name": "stderr",
     "output_type": "stream",
     "text": [
      "\r",
      "t:  17%|████████▍                                         | 203/1199 [00:57<04:08,  4.00it/s, now=None]"
     ]
    },
    {
     "name": "stdout",
     "output_type": "stream",
     "text": [
      "Discarded X point\n",
      "missdetection\n",
      "[ 1.78971526e-03 -2.32788461e+00  7.08369026e+02]\n"
     ]
    },
    {
     "name": "stderr",
     "output_type": "stream",
     "text": [
      "\r",
      "t:  17%|████████▌                                         | 204/1199 [00:57<04:14,  3.91it/s, now=None]"
     ]
    },
    {
     "name": "stdout",
     "output_type": "stream",
     "text": [
      "Discarded X point\n",
      "missdetection\n",
      "[ 1.78971526e-03 -2.32788461e+00  7.08369026e+02]\n",
      "Reset by SanityCheck\n"
     ]
    },
    {
     "name": "stderr",
     "output_type": "stream",
     "text": [
      "\r",
      "t:  17%|████████▌                                         | 205/1199 [00:58<04:15,  3.89it/s, now=None]"
     ]
    },
    {
     "name": "stdout",
     "output_type": "stream",
     "text": [
      "Discarded X point\n",
      "NO pixels with search around poly\n"
     ]
    },
    {
     "name": "stderr",
     "output_type": "stream",
     "text": [
      "\r",
      "t:  17%|████████▌                                         | 206/1199 [00:58<04:16,  3.87it/s, now=None]"
     ]
    },
    {
     "name": "stdout",
     "output_type": "stream",
     "text": [
      "missdetection\n",
      "[-1.66367465e-04  3.48825318e-01 -2.14118699e+02]\n"
     ]
    },
    {
     "name": "stderr",
     "output_type": "stream",
     "text": [
      "\r",
      "t:  17%|████████▋                                         | 207/1199 [00:58<04:12,  3.93it/s, now=None]"
     ]
    },
    {
     "name": "stdout",
     "output_type": "stream",
     "text": [
      "missdetection\n",
      "[-5.03627904e-06  3.38725272e-01 -2.95456264e+02]\n"
     ]
    },
    {
     "name": "stderr",
     "output_type": "stream",
     "text": [
      "\r",
      "t:  17%|████████▋                                         | 208/1199 [00:58<04:11,  3.93it/s, now=None]"
     ]
    },
    {
     "name": "stdout",
     "output_type": "stream",
     "text": [
      "missdetection\n",
      "[-1.67268018e-05  3.31235972e-01 -2.81353305e+02]\n"
     ]
    },
    {
     "name": "stderr",
     "output_type": "stream",
     "text": [
      "\r",
      "t:  17%|████████▋                                         | 209/1199 [00:59<04:20,  3.79it/s, now=None]"
     ]
    },
    {
     "name": "stdout",
     "output_type": "stream",
     "text": [
      "missdetection\n",
      "[ 1.51888362e-03 -1.01303254e+00  2.62711245e+01]\n",
      "missdetection\n",
      "[ 6.96922991e-05  2.19684676e-01 -2.42202140e+02]\n"
     ]
    },
    {
     "name": "stderr",
     "output_type": "stream",
     "text": [
      "t:  18%|████████▊                                         | 211/1199 [00:59<04:56,  3.33it/s, now=None]"
     ]
    },
    {
     "name": "stdout",
     "output_type": "stream",
     "text": [
      "missdetection\n",
      "[ 1.44395392e-03 -1.10506256e+00  1.09442545e+02]\n"
     ]
    },
    {
     "name": "stderr",
     "output_type": "stream",
     "text": [
      "t:  18%|████████▉                                         | 213/1199 [01:00<05:17,  3.11it/s, now=None]"
     ]
    },
    {
     "name": "stdout",
     "output_type": "stream",
     "text": [
      "missdetection\n",
      "[ 1.37488799e-03 -1.13574291e+00  1.63893668e+02]\n"
     ]
    },
    {
     "name": "stderr",
     "output_type": "stream",
     "text": [
      "t:  18%|████████▉                                         | 215/1199 [01:01<05:05,  3.22it/s, now=None]"
     ]
    },
    {
     "name": "stdout",
     "output_type": "stream",
     "text": [
      "Wrong separation between lines\n"
     ]
    },
    {
     "name": "stderr",
     "output_type": "stream",
     "text": [
      "\r",
      "t:  18%|█████████                                         | 216/1199 [01:01<04:51,  3.37it/s, now=None]"
     ]
    },
    {
     "name": "stdout",
     "output_type": "stream",
     "text": [
      "Wrong separation between lines\n"
     ]
    },
    {
     "name": "stderr",
     "output_type": "stream",
     "text": [
      "\r",
      "t:  18%|█████████                                         | 217/1199 [01:01<04:47,  3.42it/s, now=None]"
     ]
    },
    {
     "name": "stdout",
     "output_type": "stream",
     "text": [
      "Wrong separation between lines\n"
     ]
    },
    {
     "name": "stderr",
     "output_type": "stream",
     "text": [
      "\r",
      "t:  18%|█████████                                         | 218/1199 [01:01<04:37,  3.53it/s, now=None]"
     ]
    },
    {
     "name": "stdout",
     "output_type": "stream",
     "text": [
      "Wrong separation between lines\n"
     ]
    },
    {
     "name": "stderr",
     "output_type": "stream",
     "text": [
      "\r",
      "t:  18%|█████████▏                                        | 219/1199 [01:02<04:31,  3.61it/s, now=None]"
     ]
    },
    {
     "name": "stdout",
     "output_type": "stream",
     "text": [
      "Wrong separation between lines\n"
     ]
    },
    {
     "name": "stderr",
     "output_type": "stream",
     "text": [
      "t:  18%|█████████▏                                        | 221/1199 [01:02<04:26,  3.67it/s, now=None]"
     ]
    },
    {
     "name": "stdout",
     "output_type": "stream",
     "text": [
      "Wrong separation between lines\n"
     ]
    },
    {
     "name": "stderr",
     "output_type": "stream",
     "text": [
      "t:  19%|█████████▎                                        | 223/1199 [01:03<04:25,  3.67it/s, now=None]"
     ]
    },
    {
     "name": "stdout",
     "output_type": "stream",
     "text": [
      "missdetection\n",
      "[-1.57245870e-03  1.01903396e+00 -1.01497965e+02]\n"
     ]
    },
    {
     "name": "stderr",
     "output_type": "stream",
     "text": [
      "\r",
      "t:  19%|█████████▎                                        | 224/1199 [01:03<04:41,  3.46it/s, now=None]"
     ]
    },
    {
     "name": "stdout",
     "output_type": "stream",
     "text": [
      "missdetection\n",
      "[ 6.59198198e-04 -8.40087568e-01  2.55220634e+02]\n"
     ]
    },
    {
     "name": "stderr",
     "output_type": "stream",
     "text": [
      "\r",
      "t:  19%|█████████▍                                        | 225/1199 [01:03<04:41,  3.46it/s, now=None]"
     ]
    },
    {
     "name": "stdout",
     "output_type": "stream",
     "text": [
      "missdetection\n",
      "[ 4.76565445e-04 -6.75654920e-01  2.29329891e+02]\n"
     ]
    },
    {
     "name": "stderr",
     "output_type": "stream",
     "text": [
      "\r",
      "t:  19%|█████████▍                                        | 226/1199 [01:04<04:42,  3.44it/s, now=None]"
     ]
    },
    {
     "name": "stdout",
     "output_type": "stream",
     "text": [
      "missdetection\n",
      "[ 4.47879744e-04 -6.54189265e-01  2.29267812e+02]\n"
     ]
    },
    {
     "name": "stderr",
     "output_type": "stream",
     "text": [
      "\r",
      "t:  19%|█████████▍                                        | 227/1199 [01:04<04:42,  3.44it/s, now=None]"
     ]
    },
    {
     "name": "stdout",
     "output_type": "stream",
     "text": [
      "missdetection\n",
      "[ 4.49887461e-04 -6.57536432e-01  2.31349882e+02]\n"
     ]
    },
    {
     "name": "stderr",
     "output_type": "stream",
     "text": [
      "\r",
      "t:  19%|█████████▌                                        | 228/1199 [01:04<04:44,  3.42it/s, now=None]"
     ]
    },
    {
     "name": "stdout",
     "output_type": "stream",
     "text": [
      "missdetection\n",
      "[ 4.75057631e-04 -6.84869315e-01  2.39524735e+02]\n"
     ]
    },
    {
     "name": "stderr",
     "output_type": "stream",
     "text": [
      "\r",
      "t:  19%|█████████▌                                        | 229/1199 [01:04<04:32,  3.57it/s, now=None]"
     ]
    },
    {
     "name": "stdout",
     "output_type": "stream",
     "text": [
      "missdetection\n",
      "[ 5.01487581e-04 -7.16248946e-01  2.48972589e+02]\n"
     ]
    },
    {
     "name": "stderr",
     "output_type": "stream",
     "text": [
      "\r",
      "t:  19%|█████████▌                                        | 230/1199 [01:05<04:36,  3.50it/s, now=None]"
     ]
    },
    {
     "name": "stdout",
     "output_type": "stream",
     "text": [
      "missdetection\n",
      "[ 5.15893311e-04 -7.39034156e-01  2.58338204e+02]\n",
      "Discarded X point\n"
     ]
    },
    {
     "name": "stderr",
     "output_type": "stream",
     "text": [
      "\r",
      "t:  19%|█████████▋                                        | 231/1199 [01:05<04:34,  3.53it/s, now=None]"
     ]
    },
    {
     "name": "stdout",
     "output_type": "stream",
     "text": [
      "missdetection\n",
      "[ 5.37361557e-04 -7.68824324e-01  2.69083117e+02]\n",
      "Discarded X point\n"
     ]
    },
    {
     "name": "stderr",
     "output_type": "stream",
     "text": [
      "\r",
      "t:  19%|█████████▋                                        | 232/1199 [01:05<04:32,  3.55it/s, now=None]"
     ]
    },
    {
     "name": "stdout",
     "output_type": "stream",
     "text": [
      "missdetection\n",
      "[ 5.09145400e-04 -7.43843820e-01  2.66307305e+02]\n"
     ]
    },
    {
     "name": "stderr",
     "output_type": "stream",
     "text": [
      "\r",
      "t:  19%|█████████▋                                        | 233/1199 [01:06<04:36,  3.49it/s, now=None]"
     ]
    },
    {
     "name": "stdout",
     "output_type": "stream",
     "text": [
      "missdetection\n",
      "[ 4.72511245e-04 -7.08776497e-01  2.61443865e+02]\n",
      "Reset by SanityCheck\n"
     ]
    },
    {
     "name": "stderr",
     "output_type": "stream",
     "text": [
      "\r",
      "t:  20%|█████████▊                                        | 234/1199 [01:06<04:35,  3.50it/s, now=None]"
     ]
    },
    {
     "name": "stdout",
     "output_type": "stream",
     "text": [
      "Wrong separation between lines\n"
     ]
    },
    {
     "name": "stderr",
     "output_type": "stream",
     "text": [
      "\r",
      "t:  20%|█████████▊                                        | 235/1199 [01:06<04:23,  3.66it/s, now=None]"
     ]
    },
    {
     "name": "stdout",
     "output_type": "stream",
     "text": [
      "missdetection\n",
      "[ 5.99422273e-04 -8.11206827e-01  2.87149330e+02]\n"
     ]
    },
    {
     "name": "stderr",
     "output_type": "stream",
     "text": [
      "\r",
      "t:  20%|█████████▊                                        | 236/1199 [01:06<04:29,  3.57it/s, now=None]"
     ]
    },
    {
     "name": "stdout",
     "output_type": "stream",
     "text": [
      "missdetection\n",
      "[ 5.84336694e-04 -7.95213276e-01  2.86324543e+02]\n"
     ]
    },
    {
     "name": "stderr",
     "output_type": "stream",
     "text": [
      "\r",
      "t:  20%|█████████▉                                        | 237/1199 [01:07<04:26,  3.61it/s, now=None]"
     ]
    },
    {
     "name": "stdout",
     "output_type": "stream",
     "text": [
      "missdetection\n",
      "[ 5.82019035e-04 -8.10418640e-01  2.97258086e+02]\n"
     ]
    },
    {
     "name": "stderr",
     "output_type": "stream",
     "text": [
      "\r",
      "t:  20%|█████████▉                                        | 238/1199 [01:07<04:33,  3.52it/s, now=None]"
     ]
    },
    {
     "name": "stdout",
     "output_type": "stream",
     "text": [
      "missdetection\n",
      "[ 6.30628291e-04 -8.70379400e-01  3.16015304e+02]\n"
     ]
    },
    {
     "name": "stderr",
     "output_type": "stream",
     "text": [
      "\r",
      "t:  20%|█████████▉                                        | 239/1199 [01:07<04:33,  3.51it/s, now=None]"
     ]
    },
    {
     "name": "stdout",
     "output_type": "stream",
     "text": [
      "missdetection\n",
      "[ 7.40506661e-04 -1.00091307e+00  3.55812999e+02]\n"
     ]
    },
    {
     "name": "stderr",
     "output_type": "stream",
     "text": [
      "\r",
      "t:  20%|██████████                                        | 240/1199 [01:08<04:35,  3.48it/s, now=None]"
     ]
    },
    {
     "name": "stdout",
     "output_type": "stream",
     "text": [
      "missdetection\n",
      "[ 7.91700481e-04 -1.07715996e+00  3.84236208e+02]\n"
     ]
    },
    {
     "name": "stderr",
     "output_type": "stream",
     "text": [
      "\r",
      "t:  20%|██████████                                        | 241/1199 [01:08<04:43,  3.37it/s, now=None]"
     ]
    },
    {
     "name": "stdout",
     "output_type": "stream",
     "text": [
      "Discarded X point\n",
      "missdetection\n",
      "[ 7.27477352e-04 -1.02600610e+00  3.77141689e+02]\n"
     ]
    },
    {
     "name": "stderr",
     "output_type": "stream",
     "text": [
      "\r",
      "t:  20%|██████████                                        | 242/1199 [01:08<04:39,  3.42it/s, now=None]"
     ]
    },
    {
     "name": "stdout",
     "output_type": "stream",
     "text": [
      "Discarded X point\n",
      "missdetection\n",
      "[ 8.21595305e-04 -1.14918065e+00  4.18933766e+02]\n"
     ]
    },
    {
     "name": "stderr",
     "output_type": "stream",
     "text": [
      "\r",
      "t:  20%|██████████▏                                       | 243/1199 [01:08<04:32,  3.51it/s, now=None]"
     ]
    },
    {
     "name": "stdout",
     "output_type": "stream",
     "text": [
      "Discarded X point\n",
      "missdetection\n",
      "[ 8.81538480e-04 -1.21960278e+00  4.41427643e+02]\n"
     ]
    },
    {
     "name": "stderr",
     "output_type": "stream",
     "text": [
      "\r",
      "t:  20%|██████████▏                                       | 244/1199 [01:09<04:40,  3.41it/s, now=None]"
     ]
    },
    {
     "name": "stdout",
     "output_type": "stream",
     "text": [
      "Discarded X point\n",
      "missdetection\n",
      "[ 9.11973955e-04 -1.27832218e+00  4.65994371e+02]\n",
      "Reset by SanityCheck\n"
     ]
    },
    {
     "name": "stderr",
     "output_type": "stream",
     "text": [
      "\r",
      "t:  20%|██████████▏                                       | 245/1199 [01:09<04:33,  3.48it/s, now=None]"
     ]
    },
    {
     "name": "stdout",
     "output_type": "stream",
     "text": [
      "Discarded X point\n",
      "missdetection\n",
      "[ 5.41303993e-04 -8.45558327e-01  3.49575571e+02]\n"
     ]
    },
    {
     "name": "stderr",
     "output_type": "stream",
     "text": [
      "\r",
      "t:  21%|██████████▎                                       | 246/1199 [01:09<04:27,  3.57it/s, now=None]"
     ]
    },
    {
     "name": "stdout",
     "output_type": "stream",
     "text": [
      "Discarded X point\n",
      "missdetection\n",
      "[ 1.08449527e-03 -1.45951044e+00  5.17680482e+02]\n"
     ]
    },
    {
     "name": "stderr",
     "output_type": "stream",
     "text": [
      "\r",
      "t:  21%|██████████▎                                       | 247/1199 [01:10<04:36,  3.44it/s, now=None]"
     ]
    },
    {
     "name": "stdout",
     "output_type": "stream",
     "text": [
      "Discarded X point\n",
      "missdetection\n",
      "[ 1.17402767e-03 -1.55225872e+00  5.43352558e+02]\n"
     ]
    },
    {
     "name": "stderr",
     "output_type": "stream",
     "text": [
      "\r",
      "t:  21%|██████████▎                                       | 248/1199 [01:10<04:36,  3.44it/s, now=None]"
     ]
    },
    {
     "name": "stdout",
     "output_type": "stream",
     "text": [
      "Discarded X point\n",
      "missdetection\n",
      "[ 1.09904759e-03 -1.46229835e+00  5.16206811e+02]\n"
     ]
    },
    {
     "name": "stderr",
     "output_type": "stream",
     "text": [
      "\r",
      "t:  21%|██████████▍                                       | 249/1199 [01:10<04:42,  3.37it/s, now=None]"
     ]
    },
    {
     "name": "stdout",
     "output_type": "stream",
     "text": [
      "missdetection\n",
      "[ 1.16745940e-03 -1.54436372e+00  5.40737236e+02]\n"
     ]
    },
    {
     "name": "stderr",
     "output_type": "stream",
     "text": [
      "\r",
      "t:  21%|██████████▍                                       | 250/1199 [01:11<04:39,  3.39it/s, now=None]"
     ]
    },
    {
     "name": "stdout",
     "output_type": "stream",
     "text": [
      "missdetection\n",
      "[ 1.23123734e-03 -1.62407349e+00  5.65469586e+02]\n"
     ]
    },
    {
     "name": "stderr",
     "output_type": "stream",
     "text": [
      "\r",
      "t:  21%|██████████▍                                       | 251/1199 [01:11<04:50,  3.27it/s, now=None]"
     ]
    },
    {
     "name": "stdout",
     "output_type": "stream",
     "text": [
      "missdetection\n",
      "[ 1.23319735e-03 -1.62756280e+00  5.66240383e+02]\n"
     ]
    },
    {
     "name": "stderr",
     "output_type": "stream",
     "text": [
      "\r",
      "t:  21%|██████████▌                                       | 252/1199 [01:11<04:52,  3.24it/s, now=None]"
     ]
    },
    {
     "name": "stdout",
     "output_type": "stream",
     "text": [
      "missdetection\n",
      "[ 1.24958151e-03 -1.64803464e+00  5.73316174e+02]\n",
      "missdetection\n",
      "[-1.17342966e-03  1.05092747e+00 -1.83546619e+02]\n"
     ]
    },
    {
     "name": "stderr",
     "output_type": "stream",
     "text": [
      "\r",
      "t:  21%|██████████▌                                       | 253/1199 [01:11<04:40,  3.37it/s, now=None]"
     ]
    },
    {
     "name": "stdout",
     "output_type": "stream",
     "text": [
      "missdetection\n",
      "[ 1.33292931e-03 -1.76319739e+00  6.12390960e+02]\n"
     ]
    },
    {
     "name": "stderr",
     "output_type": "stream",
     "text": [
      "\r",
      "t:  21%|██████████▌                                       | 254/1199 [01:12<04:37,  3.41it/s, now=None]"
     ]
    },
    {
     "name": "stdout",
     "output_type": "stream",
     "text": [
      "missdetection\n",
      "[ 1.35417043e-03 -1.77849595e+00  6.15906741e+02]\n"
     ]
    },
    {
     "name": "stderr",
     "output_type": "stream",
     "text": [
      "\r",
      "t:  21%|██████████▋                                       | 255/1199 [01:12<04:50,  3.25it/s, now=None]"
     ]
    },
    {
     "name": "stdout",
     "output_type": "stream",
     "text": [
      "missdetection\n",
      "[ 1.29317872e-03 -1.70574666e+00  5.93442263e+02]\n",
      "missdetection\n",
      "[-1.31281397e-03  1.23240721e+00 -2.40603358e+02]\n",
      "Reset by SanityCheck\n"
     ]
    },
    {
     "name": "stderr",
     "output_type": "stream",
     "text": [
      "t:  21%|██████████▋                                       | 257/1199 [01:13<04:41,  3.34it/s, now=None]"
     ]
    },
    {
     "name": "stdout",
     "output_type": "stream",
     "text": [
      "Discarded X point\n",
      "Wrong separation between lines\n"
     ]
    },
    {
     "name": "stderr",
     "output_type": "stream",
     "text": [
      "\r",
      "t:  22%|██████████▊                                       | 258/1199 [01:13<04:36,  3.41it/s, now=None]"
     ]
    },
    {
     "name": "stdout",
     "output_type": "stream",
     "text": [
      "Discarded X point\n",
      "missdetection\n",
      "[ 1.27391299e-03 -1.64254810e+00  5.65410989e+02]\n"
     ]
    },
    {
     "name": "stderr",
     "output_type": "stream",
     "text": [
      "\r",
      "t:  22%|██████████▊                                       | 259/1199 [01:13<04:41,  3.34it/s, now=None]"
     ]
    },
    {
     "name": "stdout",
     "output_type": "stream",
     "text": [
      "Discarded X point\n",
      "missdetection\n",
      "[ 1.13379609e-03 -1.47798887e+00  5.18547111e+02]\n"
     ]
    },
    {
     "name": "stderr",
     "output_type": "stream",
     "text": [
      "\r",
      "t:  22%|██████████▊                                       | 260/1199 [01:13<04:29,  3.48it/s, now=None]"
     ]
    },
    {
     "name": "stdout",
     "output_type": "stream",
     "text": [
      "Discarded X point\n",
      "missdetection\n",
      "[ 9.07331362e-04 -1.18112517e+00  4.21897376e+02]\n"
     ]
    },
    {
     "name": "stderr",
     "output_type": "stream",
     "text": [
      "\r",
      "t:  22%|██████████▉                                       | 261/1199 [01:14<04:36,  3.39it/s, now=None]"
     ]
    },
    {
     "name": "stdout",
     "output_type": "stream",
     "text": [
      "Discarded X point\n",
      "missdetection\n",
      "[ 8.78588569e-04 -1.15386750e+00  4.16858872e+02]\n"
     ]
    },
    {
     "name": "stderr",
     "output_type": "stream",
     "text": [
      "\r",
      "t:  22%|██████████▉                                       | 262/1199 [01:14<04:37,  3.37it/s, now=None]"
     ]
    },
    {
     "name": "stdout",
     "output_type": "stream",
     "text": [
      "Discarded X point\n",
      "missdetection\n",
      "[ 9.97416227e-04 -1.29881724e+00  4.59779591e+02]\n"
     ]
    },
    {
     "name": "stderr",
     "output_type": "stream",
     "text": [
      "\r",
      "t:  22%|██████████▉                                       | 263/1199 [01:14<04:31,  3.45it/s, now=None]"
     ]
    },
    {
     "name": "stdout",
     "output_type": "stream",
     "text": [
      "Discarded X point\n",
      "missdetection\n",
      "[ 1.02955238e-03 -1.33810511e+00  4.72307100e+02]\n"
     ]
    },
    {
     "name": "stderr",
     "output_type": "stream",
     "text": [
      "\r",
      "t:  22%|███████████                                       | 264/1199 [01:15<04:34,  3.41it/s, now=None]"
     ]
    },
    {
     "name": "stdout",
     "output_type": "stream",
     "text": [
      "missdetection\n",
      "[ 1.07547577e-03 -1.38588883e+00  4.83136098e+02]\n"
     ]
    },
    {
     "name": "stderr",
     "output_type": "stream",
     "text": [
      "\r",
      "t:  22%|███████████                                       | 265/1199 [01:15<04:41,  3.32it/s, now=None]"
     ]
    },
    {
     "name": "stdout",
     "output_type": "stream",
     "text": [
      "missdetection\n",
      "[ 1.13861986e-03 -1.46488441e+00  5.07922912e+02]\n"
     ]
    },
    {
     "name": "stderr",
     "output_type": "stream",
     "text": [
      "\r",
      "t:  22%|███████████                                       | 266/1199 [01:15<04:37,  3.37it/s, now=None]"
     ]
    },
    {
     "name": "stdout",
     "output_type": "stream",
     "text": [
      "missdetection\n",
      "[ 1.22964782e-03 -1.56635264e+00  5.34805745e+02]\n"
     ]
    },
    {
     "name": "stderr",
     "output_type": "stream",
     "text": [
      "\r",
      "t:  22%|███████████▏                                      | 267/1199 [01:16<04:30,  3.44it/s, now=None]"
     ]
    },
    {
     "name": "stdout",
     "output_type": "stream",
     "text": [
      "missdetection\n",
      "[ 1.24597234e-03 -1.57865845e+00  5.35549456e+02]\n",
      "Reset by SanityCheck\n"
     ]
    },
    {
     "name": "stderr",
     "output_type": "stream",
     "text": [
      "t:  22%|███████████▏                                      | 269/1199 [01:16<04:18,  3.60it/s, now=None]"
     ]
    },
    {
     "name": "stdout",
     "output_type": "stream",
     "text": [
      "Wrong separation between lines\n"
     ]
    },
    {
     "name": "stderr",
     "output_type": "stream",
     "text": [
      "\r",
      "t:  23%|███████████▎                                      | 270/1199 [01:16<04:07,  3.75it/s, now=None]"
     ]
    },
    {
     "name": "stdout",
     "output_type": "stream",
     "text": [
      "missdetection\n",
      "[ 1.04910835e-03 -1.29479095e+00  4.30755014e+02]\n"
     ]
    },
    {
     "name": "stderr",
     "output_type": "stream",
     "text": [
      "\r",
      "t:  23%|███████████▎                                      | 271/1199 [01:17<04:09,  3.72it/s, now=None]"
     ]
    },
    {
     "name": "stdout",
     "output_type": "stream",
     "text": [
      "missdetection\n",
      "[ 9.63356083e-04 -1.16141752e+00  3.79071974e+02]\n"
     ]
    },
    {
     "name": "stderr",
     "output_type": "stream",
     "text": [
      "\r",
      "t:  23%|███████████▎                                      | 272/1199 [01:17<04:11,  3.68it/s, now=None]"
     ]
    },
    {
     "name": "stdout",
     "output_type": "stream",
     "text": [
      "missdetection\n",
      "[ 9.01358943e-04 -1.03193721e+00  3.21867009e+02]\n"
     ]
    },
    {
     "name": "stderr",
     "output_type": "stream",
     "text": [
      "\r",
      "t:  23%|███████████▍                                      | 273/1199 [01:17<04:11,  3.68it/s, now=None]"
     ]
    },
    {
     "name": "stdout",
     "output_type": "stream",
     "text": [
      "missdetection\n",
      "[ 8.71088134e-04 -9.81258449e-01  3.00643153e+02]\n"
     ]
    },
    {
     "name": "stderr",
     "output_type": "stream",
     "text": [
      "\r",
      "t:  23%|███████████▍                                      | 274/1199 [01:17<04:10,  3.69it/s, now=None]"
     ]
    },
    {
     "name": "stdout",
     "output_type": "stream",
     "text": [
      "missdetection\n",
      "[ 9.25293488e-04 -1.04724457e+00  3.19407090e+02]\n"
     ]
    },
    {
     "name": "stderr",
     "output_type": "stream",
     "text": [
      "\r",
      "t:  23%|███████████▍                                      | 275/1199 [01:18<04:11,  3.68it/s, now=None]"
     ]
    },
    {
     "name": "stdout",
     "output_type": "stream",
     "text": [
      "missdetection\n",
      "[ 8.19280160e-04 -9.00551236e-01  2.68064988e+02]\n"
     ]
    },
    {
     "name": "stderr",
     "output_type": "stream",
     "text": [
      "\r",
      "t:  23%|███████████▌                                      | 276/1199 [01:18<04:15,  3.61it/s, now=None]"
     ]
    },
    {
     "name": "stdout",
     "output_type": "stream",
     "text": [
      "missdetection\n",
      "[ 7.65530268e-04 -8.32432300e-01  2.46599573e+02]\n"
     ]
    },
    {
     "name": "stderr",
     "output_type": "stream",
     "text": [
      "\r",
      "t:  23%|███████████▌                                      | 277/1199 [01:18<04:17,  3.58it/s, now=None]"
     ]
    },
    {
     "name": "stdout",
     "output_type": "stream",
     "text": [
      "missdetection\n",
      "[ 8.03811079e-04 -8.95067018e-01  2.70751884e+02]\n"
     ]
    },
    {
     "name": "stderr",
     "output_type": "stream",
     "text": [
      "\r",
      "t:  23%|███████████▌                                      | 278/1199 [01:19<04:15,  3.60it/s, now=None]"
     ]
    },
    {
     "name": "stdout",
     "output_type": "stream",
     "text": [
      "missdetection\n",
      "[ 6.73787427e-04 -7.11544070e-01  2.11826466e+02]\n"
     ]
    },
    {
     "name": "stderr",
     "output_type": "stream",
     "text": [
      "\r",
      "t:  23%|███████████▋                                      | 279/1199 [01:19<04:26,  3.45it/s, now=None]"
     ]
    },
    {
     "name": "stdout",
     "output_type": "stream",
     "text": [
      "missdetection\n",
      "[ 6.48982490e-04 -6.79158278e-01  2.01598682e+02]\n",
      "Reset by SanityCheck\n"
     ]
    },
    {
     "name": "stderr",
     "output_type": "stream",
     "text": [
      "t:  23%|███████████▋                                      | 281/1199 [01:19<04:16,  3.58it/s, now=None]"
     ]
    },
    {
     "name": "stdout",
     "output_type": "stream",
     "text": [
      "missdetection\n",
      "[ 3.51927956e-03 -3.78818744e+00  1.01747262e+03]\n",
      "missdetection\n",
      "[-1.26402321e-03  1.13078500e+00 -2.61124888e+02]\n"
     ]
    },
    {
     "name": "stderr",
     "output_type": "stream",
     "text": [
      "\r",
      "t:  24%|███████████▊                                      | 282/1199 [01:20<04:11,  3.65it/s, now=None]"
     ]
    },
    {
     "name": "stdout",
     "output_type": "stream",
     "text": [
      "missdetection\n",
      "[-9.44779482e-03  9.71473156e+00 -2.48440098e+03]\n"
     ]
    },
    {
     "name": "stderr",
     "output_type": "stream",
     "text": [
      "\r",
      "t:  24%|███████████▊                                      | 283/1199 [01:20<04:15,  3.58it/s, now=None]"
     ]
    },
    {
     "name": "stdout",
     "output_type": "stream",
     "text": [
      "missdetection\n",
      "[-9.42852202e-03  9.69062629e+00 -2.47755108e+03]\n"
     ]
    },
    {
     "name": "stderr",
     "output_type": "stream",
     "text": [
      "\r",
      "t:  24%|███████████▊                                      | 284/1199 [01:20<04:23,  3.48it/s, now=None]"
     ]
    },
    {
     "name": "stdout",
     "output_type": "stream",
     "text": [
      "missdetection\n",
      "[-9.40081067e-03  9.66582504e+00 -2.47376567e+03]\n"
     ]
    },
    {
     "name": "stderr",
     "output_type": "stream",
     "text": [
      "\r",
      "t:  24%|███████████▉                                      | 285/1199 [01:21<04:38,  3.29it/s, now=None]"
     ]
    },
    {
     "name": "stdout",
     "output_type": "stream",
     "text": [
      "missdetection\n",
      "[-9.37901475e-03  9.63395742e+00 -2.46244964e+03]\n"
     ]
    },
    {
     "name": "stderr",
     "output_type": "stream",
     "text": [
      "\r",
      "t:  24%|███████████▉                                      | 286/1199 [01:21<04:50,  3.14it/s, now=None]"
     ]
    },
    {
     "name": "stdout",
     "output_type": "stream",
     "text": [
      "missdetection\n",
      "[-9.31808214e-03  9.55083599e+00 -2.43462801e+03]\n"
     ]
    },
    {
     "name": "stderr",
     "output_type": "stream",
     "text": [
      "\r",
      "t:  24%|███████████▉                                      | 287/1199 [01:21<04:55,  3.08it/s, now=None]"
     ]
    },
    {
     "name": "stdout",
     "output_type": "stream",
     "text": [
      "missdetection\n",
      "[-9.27862161e-03  9.50198705e+00 -2.42102767e+03]\n"
     ]
    },
    {
     "name": "stderr",
     "output_type": "stream",
     "text": [
      "\r",
      "t:  24%|████████████                                      | 288/1199 [01:22<04:51,  3.12it/s, now=None]"
     ]
    },
    {
     "name": "stdout",
     "output_type": "stream",
     "text": [
      "missdetection\n",
      "[-9.23837925e-03  9.45762576e+00 -2.41017682e+03]\n"
     ]
    },
    {
     "name": "stderr",
     "output_type": "stream",
     "text": [
      "\r",
      "t:  24%|████████████                                      | 289/1199 [01:22<04:48,  3.15it/s, now=None]"
     ]
    },
    {
     "name": "stdout",
     "output_type": "stream",
     "text": [
      "missdetection\n",
      "[-9.17818792e-03  9.38559605e+00 -2.38908691e+03]\n"
     ]
    },
    {
     "name": "stderr",
     "output_type": "stream",
     "text": [
      "\r",
      "t:  24%|████████████                                      | 290/1199 [01:22<04:45,  3.18it/s, now=None]"
     ]
    },
    {
     "name": "stdout",
     "output_type": "stream",
     "text": [
      "missdetection\n",
      "[-9.59498234e-03  9.94190485e+00 -2.57589631e+03]\n"
     ]
    },
    {
     "name": "stderr",
     "output_type": "stream",
     "text": [
      "\r",
      "t:  24%|████████████▏                                     | 291/1199 [01:23<04:32,  3.33it/s, now=None]"
     ]
    },
    {
     "name": "stdout",
     "output_type": "stream",
     "text": [
      "missdetection\n",
      "[-9.65135918e-03  1.00050629e+01 -2.59384919e+03]\n",
      "Reset by SanityCheck\n",
      "Discarded X point\n",
      "NO pixels with search around poly\n"
     ]
    },
    {
     "ename": "ValueError",
     "evalue": "all the input array dimensions for the concatenation axis must match exactly, but along dimension 1, the array at index 0 has size 0 and the array at index 1 has size 720",
     "output_type": "error",
     "traceback": [
      "\u001b[1;31m---------------------------------------------------------------------------\u001b[0m",
      "\u001b[1;31mValueError\u001b[0m                                Traceback (most recent call last)",
      "\u001b[1;32m~\\Desktop\\CarND-Advanced-Lane-Lines\\Line.py\u001b[0m in \u001b[0;36m<module>\u001b[1;34m\u001b[0m\n",
      "\u001b[1;32m<decorator-gen-172>\u001b[0m in \u001b[0;36mwrite_videofile\u001b[1;34m(self, filename, fps, codec, bitrate, audio, audio_fps, preset, audio_nbytes, audio_codec, audio_bitrate, audio_bufsize, temp_audiofile, rewrite_audio, remove_temp, write_logfile, verbose, threads, ffmpeg_params, logger)\u001b[0m\n",
      "\u001b[1;32mC:\\ProgramData\\Anaconda3\\lib\\site-packages\\moviepy\\decorators.py\u001b[0m in \u001b[0;36mrequires_duration\u001b[1;34m(f, clip, *a, **k)\u001b[0m\n\u001b[0;32m     52\u001b[0m         \u001b[1;32mraise\u001b[0m \u001b[0mValueError\u001b[0m\u001b[1;33m(\u001b[0m\u001b[1;34m\"Attribute 'duration' not set\"\u001b[0m\u001b[1;33m)\u001b[0m\u001b[1;33m\u001b[0m\u001b[1;33m\u001b[0m\u001b[0m\n\u001b[0;32m     53\u001b[0m     \u001b[1;32melse\u001b[0m\u001b[1;33m:\u001b[0m\u001b[1;33m\u001b[0m\u001b[1;33m\u001b[0m\u001b[0m\n\u001b[1;32m---> 54\u001b[1;33m         \u001b[1;32mreturn\u001b[0m \u001b[0mf\u001b[0m\u001b[1;33m(\u001b[0m\u001b[0mclip\u001b[0m\u001b[1;33m,\u001b[0m \u001b[1;33m*\u001b[0m\u001b[0ma\u001b[0m\u001b[1;33m,\u001b[0m \u001b[1;33m**\u001b[0m\u001b[0mk\u001b[0m\u001b[1;33m)\u001b[0m\u001b[1;33m\u001b[0m\u001b[1;33m\u001b[0m\u001b[0m\n\u001b[0m\u001b[0;32m     55\u001b[0m \u001b[1;33m\u001b[0m\u001b[0m\n\u001b[0;32m     56\u001b[0m \u001b[1;33m\u001b[0m\u001b[0m\n",
      "\u001b[1;32m<decorator-gen-171>\u001b[0m in \u001b[0;36mwrite_videofile\u001b[1;34m(self, filename, fps, codec, bitrate, audio, audio_fps, preset, audio_nbytes, audio_codec, audio_bitrate, audio_bufsize, temp_audiofile, rewrite_audio, remove_temp, write_logfile, verbose, threads, ffmpeg_params, logger)\u001b[0m\n",
      "\u001b[1;32mC:\\ProgramData\\Anaconda3\\lib\\site-packages\\moviepy\\decorators.py\u001b[0m in \u001b[0;36muse_clip_fps_by_default\u001b[1;34m(f, clip, *a, **k)\u001b[0m\n\u001b[0;32m    133\u001b[0m              for (k,v) in k.items()}\n\u001b[0;32m    134\u001b[0m \u001b[1;33m\u001b[0m\u001b[0m\n\u001b[1;32m--> 135\u001b[1;33m     \u001b[1;32mreturn\u001b[0m \u001b[0mf\u001b[0m\u001b[1;33m(\u001b[0m\u001b[0mclip\u001b[0m\u001b[1;33m,\u001b[0m \u001b[1;33m*\u001b[0m\u001b[0mnew_a\u001b[0m\u001b[1;33m,\u001b[0m \u001b[1;33m**\u001b[0m\u001b[0mnew_kw\u001b[0m\u001b[1;33m)\u001b[0m\u001b[1;33m\u001b[0m\u001b[1;33m\u001b[0m\u001b[0m\n\u001b[0m",
      "\u001b[1;32m<decorator-gen-170>\u001b[0m in \u001b[0;36mwrite_videofile\u001b[1;34m(self, filename, fps, codec, bitrate, audio, audio_fps, preset, audio_nbytes, audio_codec, audio_bitrate, audio_bufsize, temp_audiofile, rewrite_audio, remove_temp, write_logfile, verbose, threads, ffmpeg_params, logger)\u001b[0m\n",
      "\u001b[1;32mC:\\ProgramData\\Anaconda3\\lib\\site-packages\\moviepy\\decorators.py\u001b[0m in \u001b[0;36mconvert_masks_to_RGB\u001b[1;34m(f, clip, *a, **k)\u001b[0m\n\u001b[0;32m     20\u001b[0m     \u001b[1;32mif\u001b[0m \u001b[0mclip\u001b[0m\u001b[1;33m.\u001b[0m\u001b[0mismask\u001b[0m\u001b[1;33m:\u001b[0m\u001b[1;33m\u001b[0m\u001b[1;33m\u001b[0m\u001b[0m\n\u001b[0;32m     21\u001b[0m         \u001b[0mclip\u001b[0m \u001b[1;33m=\u001b[0m \u001b[0mclip\u001b[0m\u001b[1;33m.\u001b[0m\u001b[0mto_RGB\u001b[0m\u001b[1;33m(\u001b[0m\u001b[1;33m)\u001b[0m\u001b[1;33m\u001b[0m\u001b[1;33m\u001b[0m\u001b[0m\n\u001b[1;32m---> 22\u001b[1;33m     \u001b[1;32mreturn\u001b[0m \u001b[0mf\u001b[0m\u001b[1;33m(\u001b[0m\u001b[0mclip\u001b[0m\u001b[1;33m,\u001b[0m \u001b[1;33m*\u001b[0m\u001b[0ma\u001b[0m\u001b[1;33m,\u001b[0m \u001b[1;33m**\u001b[0m\u001b[0mk\u001b[0m\u001b[1;33m)\u001b[0m\u001b[1;33m\u001b[0m\u001b[1;33m\u001b[0m\u001b[0m\n\u001b[0m\u001b[0;32m     23\u001b[0m \u001b[1;33m\u001b[0m\u001b[0m\n\u001b[0;32m     24\u001b[0m \u001b[1;33m@\u001b[0m\u001b[0mdecorator\u001b[0m\u001b[1;33m.\u001b[0m\u001b[0mdecorator\u001b[0m\u001b[1;33m\u001b[0m\u001b[1;33m\u001b[0m\u001b[0m\n",
      "\u001b[1;32mC:\\ProgramData\\Anaconda3\\lib\\site-packages\\moviepy\\video\\VideoClip.py\u001b[0m in \u001b[0;36mwrite_videofile\u001b[1;34m(self, filename, fps, codec, bitrate, audio, audio_fps, preset, audio_nbytes, audio_codec, audio_bitrate, audio_bufsize, temp_audiofile, rewrite_audio, remove_temp, write_logfile, verbose, threads, ffmpeg_params, logger)\u001b[0m\n\u001b[0;32m    298\u001b[0m                                        logger=logger)\n\u001b[0;32m    299\u001b[0m \u001b[1;33m\u001b[0m\u001b[0m\n\u001b[1;32m--> 300\u001b[1;33m         ffmpeg_write_video(self, filename, fps, codec,\n\u001b[0m\u001b[0;32m    301\u001b[0m                            \u001b[0mbitrate\u001b[0m\u001b[1;33m=\u001b[0m\u001b[0mbitrate\u001b[0m\u001b[1;33m,\u001b[0m\u001b[1;33m\u001b[0m\u001b[1;33m\u001b[0m\u001b[0m\n\u001b[0;32m    302\u001b[0m                            \u001b[0mpreset\u001b[0m\u001b[1;33m=\u001b[0m\u001b[0mpreset\u001b[0m\u001b[1;33m,\u001b[0m\u001b[1;33m\u001b[0m\u001b[1;33m\u001b[0m\u001b[0m\n",
      "\u001b[1;32mC:\\ProgramData\\Anaconda3\\lib\\site-packages\\moviepy\\video\\io\\ffmpeg_writer.py\u001b[0m in \u001b[0;36mffmpeg_write_video\u001b[1;34m(clip, filename, fps, codec, bitrate, preset, withmask, write_logfile, audiofile, verbose, threads, ffmpeg_params, logger)\u001b[0m\n\u001b[0;32m    218\u001b[0m         \u001b[0mnframes\u001b[0m \u001b[1;33m=\u001b[0m \u001b[0mint\u001b[0m\u001b[1;33m(\u001b[0m\u001b[0mclip\u001b[0m\u001b[1;33m.\u001b[0m\u001b[0mduration\u001b[0m\u001b[1;33m*\u001b[0m\u001b[0mfps\u001b[0m\u001b[1;33m)\u001b[0m\u001b[1;33m\u001b[0m\u001b[1;33m\u001b[0m\u001b[0m\n\u001b[0;32m    219\u001b[0m \u001b[1;33m\u001b[0m\u001b[0m\n\u001b[1;32m--> 220\u001b[1;33m         for t,frame in clip.iter_frames(logger=logger, with_times=True,\n\u001b[0m\u001b[0;32m    221\u001b[0m                                         fps=fps, dtype=\"uint8\"):\n\u001b[0;32m    222\u001b[0m             \u001b[1;32mif\u001b[0m \u001b[0mwithmask\u001b[0m\u001b[1;33m:\u001b[0m\u001b[1;33m\u001b[0m\u001b[1;33m\u001b[0m\u001b[0m\n",
      "\u001b[1;32mC:\\ProgramData\\Anaconda3\\lib\\site-packages\\moviepy\\Clip.py\u001b[0m in \u001b[0;36miter_frames\u001b[1;34m(self, fps, with_times, logger, dtype)\u001b[0m\n\u001b[0;32m    470\u001b[0m         \u001b[0mlogger\u001b[0m \u001b[1;33m=\u001b[0m \u001b[0mproglog\u001b[0m\u001b[1;33m.\u001b[0m\u001b[0mdefault_bar_logger\u001b[0m\u001b[1;33m(\u001b[0m\u001b[0mlogger\u001b[0m\u001b[1;33m)\u001b[0m\u001b[1;33m\u001b[0m\u001b[1;33m\u001b[0m\u001b[0m\n\u001b[0;32m    471\u001b[0m         \u001b[1;32mfor\u001b[0m \u001b[0mt\u001b[0m \u001b[1;32min\u001b[0m \u001b[0mlogger\u001b[0m\u001b[1;33m.\u001b[0m\u001b[0miter_bar\u001b[0m\u001b[1;33m(\u001b[0m\u001b[0mt\u001b[0m\u001b[1;33m=\u001b[0m\u001b[0mnp\u001b[0m\u001b[1;33m.\u001b[0m\u001b[0marange\u001b[0m\u001b[1;33m(\u001b[0m\u001b[1;36m0\u001b[0m\u001b[1;33m,\u001b[0m \u001b[0mself\u001b[0m\u001b[1;33m.\u001b[0m\u001b[0mduration\u001b[0m\u001b[1;33m,\u001b[0m \u001b[1;36m1.0\u001b[0m\u001b[1;33m/\u001b[0m\u001b[0mfps\u001b[0m\u001b[1;33m)\u001b[0m\u001b[1;33m)\u001b[0m\u001b[1;33m:\u001b[0m\u001b[1;33m\u001b[0m\u001b[1;33m\u001b[0m\u001b[0m\n\u001b[1;32m--> 472\u001b[1;33m             \u001b[0mframe\u001b[0m \u001b[1;33m=\u001b[0m \u001b[0mself\u001b[0m\u001b[1;33m.\u001b[0m\u001b[0mget_frame\u001b[0m\u001b[1;33m(\u001b[0m\u001b[0mt\u001b[0m\u001b[1;33m)\u001b[0m\u001b[1;33m\u001b[0m\u001b[1;33m\u001b[0m\u001b[0m\n\u001b[0m\u001b[0;32m    473\u001b[0m             \u001b[1;32mif\u001b[0m \u001b[1;33m(\u001b[0m\u001b[0mdtype\u001b[0m \u001b[1;32mis\u001b[0m \u001b[1;32mnot\u001b[0m \u001b[1;32mNone\u001b[0m\u001b[1;33m)\u001b[0m \u001b[1;32mand\u001b[0m \u001b[1;33m(\u001b[0m\u001b[0mframe\u001b[0m\u001b[1;33m.\u001b[0m\u001b[0mdtype\u001b[0m \u001b[1;33m!=\u001b[0m \u001b[0mdtype\u001b[0m\u001b[1;33m)\u001b[0m\u001b[1;33m:\u001b[0m\u001b[1;33m\u001b[0m\u001b[1;33m\u001b[0m\u001b[0m\n\u001b[0;32m    474\u001b[0m                 \u001b[0mframe\u001b[0m \u001b[1;33m=\u001b[0m \u001b[0mframe\u001b[0m\u001b[1;33m.\u001b[0m\u001b[0mastype\u001b[0m\u001b[1;33m(\u001b[0m\u001b[0mdtype\u001b[0m\u001b[1;33m)\u001b[0m\u001b[1;33m\u001b[0m\u001b[1;33m\u001b[0m\u001b[0m\n",
      "\u001b[1;32m<decorator-gen-128>\u001b[0m in \u001b[0;36mget_frame\u001b[1;34m(self, t)\u001b[0m\n",
      "\u001b[1;32mC:\\ProgramData\\Anaconda3\\lib\\site-packages\\moviepy\\decorators.py\u001b[0m in \u001b[0;36mwrapper\u001b[1;34m(f, *a, **kw)\u001b[0m\n\u001b[0;32m     87\u001b[0m         new_kw = {k: fun(v) if k in varnames else v\n\u001b[0;32m     88\u001b[0m                  for (k,v) in kw.items()}\n\u001b[1;32m---> 89\u001b[1;33m         \u001b[1;32mreturn\u001b[0m \u001b[0mf\u001b[0m\u001b[1;33m(\u001b[0m\u001b[1;33m*\u001b[0m\u001b[0mnew_a\u001b[0m\u001b[1;33m,\u001b[0m \u001b[1;33m**\u001b[0m\u001b[0mnew_kw\u001b[0m\u001b[1;33m)\u001b[0m\u001b[1;33m\u001b[0m\u001b[1;33m\u001b[0m\u001b[0m\n\u001b[0m\u001b[0;32m     90\u001b[0m     \u001b[1;32mreturn\u001b[0m \u001b[0mdecorator\u001b[0m\u001b[1;33m.\u001b[0m\u001b[0mdecorator\u001b[0m\u001b[1;33m(\u001b[0m\u001b[0mwrapper\u001b[0m\u001b[1;33m)\u001b[0m\u001b[1;33m\u001b[0m\u001b[1;33m\u001b[0m\u001b[0m\n\u001b[0;32m     91\u001b[0m \u001b[1;33m\u001b[0m\u001b[0m\n",
      "\u001b[1;32mC:\\ProgramData\\Anaconda3\\lib\\site-packages\\moviepy\\Clip.py\u001b[0m in \u001b[0;36mget_frame\u001b[1;34m(self, t)\u001b[0m\n\u001b[0;32m     91\u001b[0m                 \u001b[1;32mreturn\u001b[0m \u001b[0mframe\u001b[0m\u001b[1;33m\u001b[0m\u001b[1;33m\u001b[0m\u001b[0m\n\u001b[0;32m     92\u001b[0m         \u001b[1;32melse\u001b[0m\u001b[1;33m:\u001b[0m\u001b[1;33m\u001b[0m\u001b[1;33m\u001b[0m\u001b[0m\n\u001b[1;32m---> 93\u001b[1;33m             \u001b[1;32mreturn\u001b[0m \u001b[0mself\u001b[0m\u001b[1;33m.\u001b[0m\u001b[0mmake_frame\u001b[0m\u001b[1;33m(\u001b[0m\u001b[0mt\u001b[0m\u001b[1;33m)\u001b[0m\u001b[1;33m\u001b[0m\u001b[1;33m\u001b[0m\u001b[0m\n\u001b[0m\u001b[0;32m     94\u001b[0m \u001b[1;33m\u001b[0m\u001b[0m\n\u001b[0;32m     95\u001b[0m     \u001b[1;32mdef\u001b[0m \u001b[0mfl\u001b[0m\u001b[1;33m(\u001b[0m\u001b[0mself\u001b[0m\u001b[1;33m,\u001b[0m \u001b[0mfun\u001b[0m\u001b[1;33m,\u001b[0m \u001b[0mapply_to\u001b[0m\u001b[1;33m=\u001b[0m\u001b[1;32mNone\u001b[0m\u001b[1;33m,\u001b[0m \u001b[0mkeep_duration\u001b[0m\u001b[1;33m=\u001b[0m\u001b[1;32mTrue\u001b[0m\u001b[1;33m)\u001b[0m\u001b[1;33m:\u001b[0m\u001b[1;33m\u001b[0m\u001b[1;33m\u001b[0m\u001b[0m\n",
      "\u001b[1;32mC:\\ProgramData\\Anaconda3\\lib\\site-packages\\moviepy\\Clip.py\u001b[0m in \u001b[0;36m<lambda>\u001b[1;34m(t)\u001b[0m\n\u001b[0;32m    134\u001b[0m \u001b[1;33m\u001b[0m\u001b[0m\n\u001b[0;32m    135\u001b[0m         \u001b[1;31m#mf = copy(self.make_frame)\u001b[0m\u001b[1;33m\u001b[0m\u001b[1;33m\u001b[0m\u001b[1;33m\u001b[0m\u001b[0m\n\u001b[1;32m--> 136\u001b[1;33m         \u001b[0mnewclip\u001b[0m \u001b[1;33m=\u001b[0m \u001b[0mself\u001b[0m\u001b[1;33m.\u001b[0m\u001b[0mset_make_frame\u001b[0m\u001b[1;33m(\u001b[0m\u001b[1;32mlambda\u001b[0m \u001b[0mt\u001b[0m\u001b[1;33m:\u001b[0m \u001b[0mfun\u001b[0m\u001b[1;33m(\u001b[0m\u001b[0mself\u001b[0m\u001b[1;33m.\u001b[0m\u001b[0mget_frame\u001b[0m\u001b[1;33m,\u001b[0m \u001b[0mt\u001b[0m\u001b[1;33m)\u001b[0m\u001b[1;33m)\u001b[0m\u001b[1;33m\u001b[0m\u001b[1;33m\u001b[0m\u001b[0m\n\u001b[0m\u001b[0;32m    137\u001b[0m \u001b[1;33m\u001b[0m\u001b[0m\n\u001b[0;32m    138\u001b[0m         \u001b[1;32mif\u001b[0m \u001b[1;32mnot\u001b[0m \u001b[0mkeep_duration\u001b[0m\u001b[1;33m:\u001b[0m\u001b[1;33m\u001b[0m\u001b[1;33m\u001b[0m\u001b[0m\n",
      "\u001b[1;32mC:\\ProgramData\\Anaconda3\\lib\\site-packages\\moviepy\\video\\VideoClip.py\u001b[0m in \u001b[0;36m<lambda>\u001b[1;34m(gf, t)\u001b[0m\n\u001b[0;32m    488\u001b[0m         \"\"\"\n\u001b[0;32m    489\u001b[0m         \u001b[0mapply_to\u001b[0m \u001b[1;33m=\u001b[0m \u001b[0mapply_to\u001b[0m \u001b[1;32mor\u001b[0m \u001b[1;33m[\u001b[0m\u001b[1;33m]\u001b[0m\u001b[1;33m\u001b[0m\u001b[1;33m\u001b[0m\u001b[0m\n\u001b[1;32m--> 490\u001b[1;33m         \u001b[1;32mreturn\u001b[0m \u001b[0mself\u001b[0m\u001b[1;33m.\u001b[0m\u001b[0mfl\u001b[0m\u001b[1;33m(\u001b[0m\u001b[1;32mlambda\u001b[0m \u001b[0mgf\u001b[0m\u001b[1;33m,\u001b[0m \u001b[0mt\u001b[0m\u001b[1;33m:\u001b[0m \u001b[0mimage_func\u001b[0m\u001b[1;33m(\u001b[0m\u001b[0mgf\u001b[0m\u001b[1;33m(\u001b[0m\u001b[0mt\u001b[0m\u001b[1;33m)\u001b[0m\u001b[1;33m)\u001b[0m\u001b[1;33m,\u001b[0m \u001b[0mapply_to\u001b[0m\u001b[1;33m)\u001b[0m\u001b[1;33m\u001b[0m\u001b[1;33m\u001b[0m\u001b[0m\n\u001b[0m\u001b[0;32m    491\u001b[0m \u001b[1;33m\u001b[0m\u001b[0m\n\u001b[0;32m    492\u001b[0m     \u001b[1;31m# --------------------------------------------------------------\u001b[0m\u001b[1;33m\u001b[0m\u001b[1;33m\u001b[0m\u001b[1;33m\u001b[0m\u001b[0m\n",
      "\u001b[1;32m~\\Desktop\\CarND-Advanced-Lane-Lines\\Line.py\u001b[0m in \u001b[0;36mprocess_frame\u001b[1;34m(img)\u001b[0m\n\u001b[0;32m    154\u001b[0m     \u001b[1;31m#color_warp = np.dstack((warp_zero, warp_zero, warp_zero))\u001b[0m\u001b[1;33m\u001b[0m\u001b[1;33m\u001b[0m\u001b[1;33m\u001b[0m\u001b[0m\n\u001b[0;32m    155\u001b[0m \u001b[1;33m\u001b[0m\u001b[0m\n\u001b[1;32m--> 156\u001b[1;33m     \u001b[0mpts_left\u001b[0m \u001b[1;33m=\u001b[0m \u001b[0mnp\u001b[0m\u001b[1;33m.\u001b[0m\u001b[0marray\u001b[0m\u001b[1;33m(\u001b[0m\u001b[1;33m[\u001b[0m\u001b[0mnp\u001b[0m\u001b[1;33m.\u001b[0m\u001b[0mtranspose\u001b[0m\u001b[1;33m(\u001b[0m\u001b[0mnp\u001b[0m\u001b[1;33m.\u001b[0m\u001b[0mvstack\u001b[0m\u001b[1;33m(\u001b[0m\u001b[1;33m[\u001b[0m\u001b[0mlineLeft\u001b[0m\u001b[1;33m.\u001b[0m\u001b[0mpoly_plotx\u001b[0m\u001b[1;33m,\u001b[0m \u001b[0mlineLeft\u001b[0m\u001b[1;33m.\u001b[0m\u001b[0mpoly_ploty\u001b[0m\u001b[1;33m]\u001b[0m\u001b[1;33m)\u001b[0m\u001b[1;33m)\u001b[0m\u001b[1;33m]\u001b[0m\u001b[1;33m)\u001b[0m\u001b[1;33m\u001b[0m\u001b[1;33m\u001b[0m\u001b[0m\n\u001b[0m\u001b[0;32m    157\u001b[0m     \u001b[0mpts_right\u001b[0m \u001b[1;33m=\u001b[0m \u001b[0mnp\u001b[0m\u001b[1;33m.\u001b[0m\u001b[0marray\u001b[0m\u001b[1;33m(\u001b[0m\u001b[1;33m[\u001b[0m\u001b[0mnp\u001b[0m\u001b[1;33m.\u001b[0m\u001b[0mflipud\u001b[0m\u001b[1;33m(\u001b[0m\u001b[0mnp\u001b[0m\u001b[1;33m.\u001b[0m\u001b[0mtranspose\u001b[0m\u001b[1;33m(\u001b[0m\u001b[0mnp\u001b[0m\u001b[1;33m.\u001b[0m\u001b[0mvstack\u001b[0m\u001b[1;33m(\u001b[0m\u001b[1;33m[\u001b[0m\u001b[0mlineRight\u001b[0m\u001b[1;33m.\u001b[0m\u001b[0mpoly_plotx\u001b[0m\u001b[1;33m,\u001b[0m \u001b[0mlineRight\u001b[0m\u001b[1;33m.\u001b[0m\u001b[0mpoly_ploty\u001b[0m\u001b[1;33m]\u001b[0m\u001b[1;33m)\u001b[0m\u001b[1;33m)\u001b[0m\u001b[1;33m)\u001b[0m\u001b[1;33m]\u001b[0m\u001b[1;33m)\u001b[0m\u001b[1;33m\u001b[0m\u001b[1;33m\u001b[0m\u001b[0m\n\u001b[0;32m    158\u001b[0m     \u001b[0mpts\u001b[0m \u001b[1;33m=\u001b[0m \u001b[0mnp\u001b[0m\u001b[1;33m.\u001b[0m\u001b[0mhstack\u001b[0m\u001b[1;33m(\u001b[0m\u001b[1;33m(\u001b[0m\u001b[0mpts_left\u001b[0m\u001b[1;33m,\u001b[0m \u001b[0mpts_right\u001b[0m\u001b[1;33m)\u001b[0m\u001b[1;33m)\u001b[0m\u001b[1;33m\u001b[0m\u001b[1;33m\u001b[0m\u001b[0m\n",
      "\u001b[1;32m<__array_function__ internals>\u001b[0m in \u001b[0;36mvstack\u001b[1;34m(*args, **kwargs)\u001b[0m\n",
      "\u001b[1;32mC:\\ProgramData\\Anaconda3\\lib\\site-packages\\numpy\\core\\shape_base.py\u001b[0m in \u001b[0;36mvstack\u001b[1;34m(tup)\u001b[0m\n\u001b[0;32m    281\u001b[0m     \u001b[1;32mif\u001b[0m \u001b[1;32mnot\u001b[0m \u001b[0misinstance\u001b[0m\u001b[1;33m(\u001b[0m\u001b[0marrs\u001b[0m\u001b[1;33m,\u001b[0m \u001b[0mlist\u001b[0m\u001b[1;33m)\u001b[0m\u001b[1;33m:\u001b[0m\u001b[1;33m\u001b[0m\u001b[1;33m\u001b[0m\u001b[0m\n\u001b[0;32m    282\u001b[0m         \u001b[0marrs\u001b[0m \u001b[1;33m=\u001b[0m \u001b[1;33m[\u001b[0m\u001b[0marrs\u001b[0m\u001b[1;33m]\u001b[0m\u001b[1;33m\u001b[0m\u001b[1;33m\u001b[0m\u001b[0m\n\u001b[1;32m--> 283\u001b[1;33m     \u001b[1;32mreturn\u001b[0m \u001b[0m_nx\u001b[0m\u001b[1;33m.\u001b[0m\u001b[0mconcatenate\u001b[0m\u001b[1;33m(\u001b[0m\u001b[0marrs\u001b[0m\u001b[1;33m,\u001b[0m \u001b[1;36m0\u001b[0m\u001b[1;33m)\u001b[0m\u001b[1;33m\u001b[0m\u001b[1;33m\u001b[0m\u001b[0m\n\u001b[0m\u001b[0;32m    284\u001b[0m \u001b[1;33m\u001b[0m\u001b[0m\n\u001b[0;32m    285\u001b[0m \u001b[1;33m\u001b[0m\u001b[0m\n",
      "\u001b[1;32m<__array_function__ internals>\u001b[0m in \u001b[0;36mconcatenate\u001b[1;34m(*args, **kwargs)\u001b[0m\n",
      "\u001b[1;31mValueError\u001b[0m: all the input array dimensions for the concatenation axis must match exactly, but along dimension 1, the array at index 0 has size 0 and the array at index 1 has size 720"
     ]
    }
   ],
   "source": [
    "# Instanciate cLine classes\n",
    "lineLeft = Line()\n",
    "lineRight = Line()\n",
    "\n",
    "\n",
    "harder_challenge_output = 'output_videos/harder_challenge_video.mp4'\n",
    "clip3 = VideoFileClip(\"test_videos/harder_challenge_video.mp4\")\n",
    "\n",
    "harder_challenge_clip = clip3.fl_image(process_frame) #NOTE: this function expects color images!!\n",
    "%time harder_challenge_clip.write_videofile(harder_challenge_output, audio=False)"
   ]
  },
  {
   "cell_type": "code",
   "execution_count": 8,
   "id": "1f55179c",
   "metadata": {
    "scrolled": false
   },
   "outputs": [
    {
     "data": {
      "text/html": [
       "\n",
       "<video width=\"960\" height=\"540\" controls>\n",
       "  <source src=\"output_videos/harder_challenge_video.mp4\">\n",
       "</video>\n"
      ],
      "text/plain": [
       "<IPython.core.display.HTML object>"
      ]
     },
     "execution_count": 8,
     "metadata": {},
     "output_type": "execute_result"
    }
   ],
   "source": [
    "HTML(\"\"\"\n",
    "<video width=\"960\" height=\"540\" controls>\n",
    "  <source src=\"{0}\">\n",
    "</video>\n",
    "\"\"\".format(harder_challenge_output))"
   ]
  },
  {
   "cell_type": "markdown",
   "id": "38d10baf",
   "metadata": {},
   "source": [
    "## Helper code"
   ]
  },
  {
   "cell_type": "code",
   "execution_count": 9,
   "id": "68fa74bc",
   "metadata": {},
   "outputs": [],
   "source": [
    "#for i in range(1,10):\n",
    "#    clip2.save_frame(\"test_video_frames/challenge_{}s.png\".format(i), t=i) # saves the frame a t=xs"
   ]
  },
  {
   "cell_type": "code",
   "execution_count": null,
   "id": "125c6e05",
   "metadata": {},
   "outputs": [
    {
     "name": "stderr",
     "output_type": "stream",
     "text": [
      "t:  24%|████████████▏                                     | 291/1199 [12:00<04:32,  3.33it/s, now=None]\n",
      "t:   0%|                                                             | 0/756 [00:00<?, ?it/s, now=None]\u001b[A"
     ]
    },
    {
     "name": "stdout",
     "output_type": "stream",
     "text": [
      "MoviePy - Building file report_resources/project_video.gif with imageio.\n",
      "missdetection\n",
      "[-1.40189791e-04  5.91150196e-01 -3.41622026e+02]\n"
     ]
    },
    {
     "name": "stderr",
     "output_type": "stream",
     "text": [
      "\n",
      "t:   0%|▏                                                    | 2/756 [00:02<14:11,  1.13s/it, now=None]\u001b[A\n",
      "t:   0%|▏                                                    | 3/756 [00:02<10:55,  1.15it/s, now=None]\u001b[A\n",
      "t:   1%|▎                                                    | 4/756 [00:03<09:04,  1.38it/s, now=None]\u001b[A\n",
      "t:   1%|▎                                                    | 5/756 [00:03<07:52,  1.59it/s, now=None]\u001b[A\n",
      "t:   1%|▍                                                    | 6/756 [00:04<07:09,  1.75it/s, now=None]\u001b[A\n",
      "t:   1%|▍                                                    | 7/756 [00:04<06:38,  1.88it/s, now=None]\u001b[A\n",
      "t:   1%|▌                                                    | 8/756 [00:05<06:18,  1.98it/s, now=None]\u001b[A\n",
      "t:   1%|▋                                                    | 9/756 [00:05<06:23,  1.95it/s, now=None]\u001b[A\n",
      "t:   1%|▋                                                   | 10/756 [00:06<06:17,  1.98it/s, now=None]\u001b[A\n",
      "t:   1%|▊                                                   | 11/756 [00:06<06:24,  1.94it/s, now=None]\u001b[A\n",
      "t:   2%|▊                                                   | 12/756 [00:07<06:11,  2.00it/s, now=None]\u001b[A\n",
      "t:   2%|▉                                                   | 13/756 [00:07<06:01,  2.06it/s, now=None]\u001b[A\n",
      "t:   2%|▉                                                   | 14/756 [00:08<05:59,  2.06it/s, now=None]\u001b[A\n",
      "t:   2%|█                                                   | 15/756 [00:08<06:11,  1.99it/s, now=None]\u001b[A\n",
      "t:   2%|█                                                   | 16/756 [00:09<06:18,  1.95it/s, now=None]\u001b[A\n",
      "t:   2%|█▏                                                  | 17/756 [00:09<06:01,  2.04it/s, now=None]\u001b[A\n",
      "t:   2%|█▏                                                  | 18/756 [00:09<05:57,  2.06it/s, now=None]\u001b[A\n",
      "t:   3%|█▎                                                  | 19/756 [00:10<06:04,  2.02it/s, now=None]\u001b[A\n",
      "t:   3%|█▍                                                  | 20/756 [00:11<06:06,  2.01it/s, now=None]\u001b[A\n",
      "t:   3%|█▍                                                  | 21/756 [00:11<06:00,  2.04it/s, now=None]\u001b[A\n",
      "t:   3%|█▌                                                  | 22/756 [00:11<05:57,  2.05it/s, now=None]\u001b[A\n",
      "t:   3%|█▌                                                  | 23/756 [00:12<06:07,  1.99it/s, now=None]\u001b[A\n",
      "t:   3%|█▋                                                  | 24/756 [00:13<06:06,  2.00it/s, now=None]\u001b[A\n",
      "t:   3%|█▋                                                  | 25/756 [00:13<06:07,  1.99it/s, now=None]\u001b[A\n",
      "t:   3%|█▊                                                  | 26/756 [00:14<06:11,  1.97it/s, now=None]\u001b[A\n",
      "t:   4%|█▊                                                  | 27/756 [00:14<06:14,  1.95it/s, now=None]\u001b[A\n",
      "t:   4%|█▉                                                  | 28/756 [00:15<06:23,  1.90it/s, now=None]\u001b[A\n",
      "t:   4%|█▉                                                  | 29/756 [00:15<06:36,  1.83it/s, now=None]\u001b[A\n",
      "t:   4%|██                                                  | 30/756 [00:16<06:57,  1.74it/s, now=None]\u001b[A\n",
      "t:   4%|██▏                                                 | 31/756 [00:16<06:39,  1.81it/s, now=None]\u001b[A\n",
      "t:   4%|██▏                                                 | 32/756 [00:17<06:38,  1.82it/s, now=None]\u001b[A\n",
      "t:   4%|██▎                                                 | 33/756 [00:17<06:28,  1.86it/s, now=None]\u001b[A\n",
      "t:   4%|██▎                                                 | 34/756 [00:18<06:22,  1.89it/s, now=None]\u001b[A\n",
      "t:   5%|██▍                                                 | 35/756 [00:18<06:12,  1.94it/s, now=None]\u001b[A\n",
      "t:   5%|██▍                                                 | 36/756 [00:19<06:04,  1.98it/s, now=None]\u001b[A\n",
      "t:   5%|██▌                                                 | 37/756 [00:19<05:50,  2.05it/s, now=None]\u001b[A\n",
      "t:   5%|██▌                                                 | 38/756 [00:20<05:50,  2.05it/s, now=None]\u001b[A\n",
      "t:   5%|██▋                                                 | 39/756 [00:20<05:44,  2.08it/s, now=None]\u001b[A\n",
      "t:   5%|██▊                                                 | 40/756 [00:21<05:47,  2.06it/s, now=None]\u001b[A\n",
      "t:   5%|██▊                                                 | 41/756 [00:21<05:42,  2.09it/s, now=None]\u001b[A\n",
      "t:   6%|██▉                                                 | 42/756 [00:22<05:43,  2.08it/s, now=None]\u001b[A\n",
      "t:   6%|██▉                                                 | 43/756 [00:22<05:38,  2.11it/s, now=None]\u001b[A\n",
      "t:   6%|███                                                 | 44/756 [00:23<05:34,  2.13it/s, now=None]\u001b[A\n",
      "t:   6%|███                                                 | 45/756 [00:23<05:30,  2.15it/s, now=None]\u001b[A\n",
      "t:   6%|███▏                                                | 46/756 [00:24<05:35,  2.11it/s, now=None]\u001b[A\n",
      "t:   6%|███▏                                                | 47/756 [00:24<05:39,  2.09it/s, now=None]\u001b[A\n",
      "t:   6%|███▎                                                | 48/756 [00:25<05:40,  2.08it/s, now=None]\u001b[A\n",
      "t:   6%|███▎                                                | 49/756 [00:25<05:37,  2.09it/s, now=None]\u001b[A\n",
      "t:   7%|███▍                                                | 50/756 [00:26<05:36,  2.10it/s, now=None]\u001b[A\n",
      "t:   7%|███▌                                                | 51/756 [00:26<05:26,  2.16it/s, now=None]\u001b[A\n",
      "t:   7%|███▌                                                | 52/756 [00:26<05:30,  2.13it/s, now=None]\u001b[A\n",
      "t:   7%|███▋                                                | 53/756 [00:27<05:36,  2.09it/s, now=None]\u001b[A\n",
      "t:   7%|███▋                                                | 54/756 [00:27<05:50,  2.00it/s, now=None]\u001b[A\n",
      "t:   7%|███▊                                                | 55/756 [00:28<06:20,  1.84it/s, now=None]\u001b[A\n",
      "t:   7%|███▊                                                | 56/756 [00:29<06:19,  1.84it/s, now=None]\u001b[A\n",
      "t:   8%|███▉                                                | 57/756 [00:29<06:15,  1.86it/s, now=None]\u001b[A\n",
      "t:   8%|███▉                                                | 58/756 [00:30<05:59,  1.94it/s, now=None]\u001b[A\n",
      "t:   8%|████                                                | 59/756 [00:30<05:56,  1.96it/s, now=None]\u001b[A\n",
      "t:   8%|████▏                                               | 60/756 [00:31<05:51,  1.98it/s, now=None]\u001b[A\n",
      "t:   8%|████▏                                               | 61/756 [00:31<05:43,  2.02it/s, now=None]\u001b[A\n",
      "t:   8%|████▎                                               | 62/756 [00:32<06:32,  1.77it/s, now=None]\u001b[A\n",
      "t:   8%|████▎                                               | 63/756 [00:32<06:43,  1.72it/s, now=None]\u001b[A\n",
      "t:   8%|████▍                                               | 64/756 [00:33<06:56,  1.66it/s, now=None]\u001b[A\n",
      "t:   9%|████▍                                               | 65/756 [00:34<06:58,  1.65it/s, now=None]\u001b[A\n",
      "t:   9%|████▌                                               | 66/756 [00:34<06:54,  1.66it/s, now=None]\u001b[A\n",
      "t:   9%|████▌                                               | 67/756 [00:35<06:55,  1.66it/s, now=None]\u001b[A\n",
      "t:   9%|████▋                                               | 68/756 [00:36<06:49,  1.68it/s, now=None]\u001b[A\n",
      "t:   9%|████▋                                               | 69/756 [00:36<06:33,  1.74it/s, now=None]\u001b[A\n",
      "t:   9%|████▊                                               | 70/756 [00:37<06:28,  1.77it/s, now=None]\u001b[A\n",
      "t:   9%|████▉                                               | 71/756 [00:37<06:24,  1.78it/s, now=None]\u001b[A\n",
      "t:  10%|████▉                                               | 72/756 [00:38<06:27,  1.76it/s, now=None]\u001b[A\n",
      "t:  10%|█████                                               | 73/756 [00:38<06:29,  1.75it/s, now=None]\u001b[A\n",
      "t:  10%|█████                                               | 74/756 [00:39<06:27,  1.76it/s, now=None]\u001b[A\n",
      "t:  10%|█████▏                                              | 75/756 [00:39<06:14,  1.82it/s, now=None]\u001b[A\n",
      "t:  10%|█████▏                                              | 76/756 [00:40<06:24,  1.77it/s, now=None]\u001b[A\n",
      "t:  10%|█████▎                                              | 77/756 [00:40<06:14,  1.81it/s, now=None]\u001b[A\n"
     ]
    },
    {
     "name": "stderr",
     "output_type": "stream",
     "text": [
      "t:  10%|█████▎                                              | 78/756 [00:41<06:06,  1.85it/s, now=None]\u001b[A\n",
      "t:  10%|█████▍                                              | 79/756 [00:42<05:59,  1.88it/s, now=None]\u001b[A\n",
      "t:  11%|█████▌                                              | 80/756 [00:42<05:50,  1.93it/s, now=None]\u001b[A\n",
      "t:  11%|█████▌                                              | 81/756 [00:42<05:47,  1.94it/s, now=None]\u001b[A\n",
      "t:  11%|█████▋                                              | 82/756 [00:43<05:33,  2.02it/s, now=None]\u001b[A\n",
      "t:  11%|█████▋                                              | 83/756 [00:43<05:31,  2.03it/s, now=None]\u001b[A\n",
      "t:  11%|█████▊                                              | 84/756 [00:44<05:48,  1.93it/s, now=None]\u001b[A\n",
      "t:  11%|█████▊                                              | 85/756 [00:45<06:00,  1.86it/s, now=None]\u001b[A\n",
      "t:  11%|█████▉                                              | 86/756 [00:45<05:44,  1.95it/s, now=None]\u001b[A\n",
      "t:  12%|█████▉                                              | 87/756 [00:46<05:36,  1.99it/s, now=None]\u001b[A\n",
      "t:  12%|██████                                              | 88/756 [00:46<05:53,  1.89it/s, now=None]\u001b[A\n",
      "t:  12%|██████                                              | 89/756 [00:47<05:51,  1.90it/s, now=None]\u001b[A\n",
      "t:  12%|██████▏                                             | 90/756 [00:47<05:47,  1.92it/s, now=None]\u001b[A\n",
      "t:  12%|██████▎                                             | 91/756 [00:48<05:46,  1.92it/s, now=None]\u001b[A\n",
      "t:  12%|██████▎                                             | 92/756 [00:48<05:39,  1.96it/s, now=None]\u001b[A\n",
      "t:  12%|██████▍                                             | 93/756 [00:49<05:38,  1.96it/s, now=None]\u001b[A\n",
      "t:  12%|██████▍                                             | 94/756 [00:49<05:25,  2.03it/s, now=None]\u001b[A\n",
      "t:  13%|██████▌                                             | 95/756 [00:50<05:19,  2.07it/s, now=None]\u001b[A\n",
      "t:  13%|██████▌                                             | 96/756 [00:50<05:15,  2.09it/s, now=None]\u001b[A\n",
      "t:  13%|██████▋                                             | 97/756 [00:51<05:31,  1.99it/s, now=None]\u001b[A\n",
      "t:  13%|██████▋                                             | 98/756 [00:51<05:24,  2.03it/s, now=None]\u001b[A\n",
      "t:  13%|██████▊                                             | 99/756 [00:52<05:43,  1.91it/s, now=None]\u001b[A\n",
      "t:  13%|██████▋                                            | 100/756 [00:52<06:06,  1.79it/s, now=None]\u001b[A\n",
      "t:  13%|██████▊                                            | 101/756 [00:53<06:23,  1.71it/s, now=None]\u001b[A\n",
      "t:  13%|██████▉                                            | 102/756 [00:54<06:50,  1.59it/s, now=None]\u001b[A\n",
      "t:  14%|██████▉                                            | 103/756 [00:54<06:53,  1.58it/s, now=None]\u001b[A\n",
      "t:  14%|███████                                            | 104/756 [00:55<06:50,  1.59it/s, now=None]\u001b[A\n",
      "t:  14%|███████                                            | 105/756 [00:55<06:31,  1.66it/s, now=None]\u001b[A\n",
      "t:  14%|███████▏                                           | 106/756 [00:56<06:00,  1.80it/s, now=None]\u001b[A\n",
      "t:  14%|███████▏                                           | 107/756 [00:56<05:54,  1.83it/s, now=None]\u001b[A\n",
      "t:  14%|███████▎                                           | 108/756 [00:57<05:39,  1.91it/s, now=None]\u001b[A\n",
      "t:  14%|███████▎                                           | 109/756 [00:57<05:24,  1.99it/s, now=None]\u001b[A\n",
      "t:  15%|███████▍                                           | 110/756 [00:58<05:17,  2.03it/s, now=None]\u001b[A\n",
      "t:  15%|███████▍                                           | 111/756 [00:58<05:14,  2.05it/s, now=None]\u001b[A\n",
      "t:  15%|███████▌                                           | 112/756 [00:59<05:08,  2.09it/s, now=None]\u001b[A\n",
      "t:  15%|███████▌                                           | 113/756 [00:59<05:03,  2.12it/s, now=None]\u001b[A\n",
      "t:  15%|███████▋                                           | 114/756 [01:00<05:04,  2.11it/s, now=None]\u001b[A\n",
      "t:  15%|███████▊                                           | 115/756 [01:00<05:07,  2.08it/s, now=None]\u001b[A\n",
      "t:  15%|███████▊                                           | 116/756 [01:01<05:02,  2.11it/s, now=None]\u001b[A\n",
      "t:  15%|███████▉                                           | 117/756 [01:01<05:11,  2.05it/s, now=None]\u001b[A\n",
      "t:  16%|███████▉                                           | 118/756 [01:02<05:22,  1.98it/s, now=None]\u001b[A\n",
      "t:  16%|████████                                           | 119/756 [01:02<05:42,  1.86it/s, now=None]\u001b[A\n",
      "t:  16%|████████                                           | 120/756 [01:03<06:01,  1.76it/s, now=None]\u001b[A\n",
      "t:  16%|████████▏                                          | 121/756 [01:04<06:13,  1.70it/s, now=None]\u001b[A\n",
      "t:  16%|████████▏                                          | 122/756 [01:04<06:32,  1.62it/s, now=None]\u001b[A\n",
      "t:  16%|████████▎                                          | 123/756 [01:05<06:37,  1.59it/s, now=None]\u001b[A\n",
      "t:  16%|████████▎                                          | 124/756 [01:06<06:39,  1.58it/s, now=None]\u001b[A\n",
      "t:  17%|████████▍                                          | 125/756 [01:06<06:36,  1.59it/s, now=None]\u001b[A\n",
      "t:  17%|████████▌                                          | 126/756 [01:07<06:28,  1.62it/s, now=None]\u001b[A\n",
      "t:  17%|████████▌                                          | 127/756 [01:07<06:14,  1.68it/s, now=None]\u001b[A\n",
      "t:  17%|████████▋                                          | 128/756 [01:08<06:06,  1.71it/s, now=None]\u001b[A\n",
      "t:  17%|████████▋                                          | 129/756 [01:09<06:06,  1.71it/s, now=None]\u001b[A\n",
      "t:  17%|████████▊                                          | 130/756 [01:09<06:27,  1.62it/s, now=None]\u001b[A\n",
      "t:  17%|████████▊                                          | 131/756 [01:10<06:38,  1.57it/s, now=None]\u001b[A\n",
      "t:  17%|████████▉                                          | 132/756 [01:11<06:35,  1.58it/s, now=None]\u001b[A\n",
      "t:  18%|████████▉                                          | 133/756 [01:11<06:54,  1.50it/s, now=None]\u001b[A\n",
      "t:  18%|█████████                                          | 134/756 [01:12<07:04,  1.47it/s, now=None]\u001b[A\n",
      "t:  18%|█████████                                          | 135/756 [01:13<06:55,  1.50it/s, now=None]\u001b[A\n",
      "t:  18%|█████████▏                                         | 136/756 [01:13<06:42,  1.54it/s, now=None]\u001b[A\n",
      "t:  18%|█████████▏                                         | 137/756 [01:14<06:24,  1.61it/s, now=None]\u001b[A\n",
      "t:  18%|█████████▎                                         | 138/756 [01:14<06:21,  1.62it/s, now=None]\u001b[A\n",
      "t:  18%|█████████▍                                         | 139/756 [01:15<06:11,  1.66it/s, now=None]\u001b[A\n",
      "t:  19%|█████████▍                                         | 140/756 [01:16<07:52,  1.30it/s, now=None]\u001b[A\n",
      "t:  19%|█████████▌                                         | 141/756 [01:17<08:50,  1.16it/s, now=None]\u001b[A\n",
      "t:  19%|█████████▌                                         | 142/756 [01:18<09:35,  1.07it/s, now=None]\u001b[A\n",
      "t:  19%|█████████▋                                         | 143/756 [01:19<09:15,  1.10it/s, now=None]\u001b[A\n",
      "t:  19%|█████████▋                                         | 144/756 [01:20<09:32,  1.07it/s, now=None]\u001b[A\n",
      "t:  19%|█████████▊                                         | 145/756 [01:21<10:05,  1.01it/s, now=None]\u001b[A\n",
      "t:  19%|█████████▊                                         | 146/756 [01:22<09:46,  1.04it/s, now=None]\u001b[A\n",
      "t:  19%|█████████▉                                         | 147/756 [01:23<08:38,  1.17it/s, now=None]\u001b[A\n",
      "t:  20%|█████████▉                                         | 148/756 [01:23<07:40,  1.32it/s, now=None]\u001b[A\n",
      "t:  20%|██████████                                         | 149/756 [01:24<06:57,  1.46it/s, now=None]\u001b[A\n",
      "t:  20%|██████████                                         | 150/756 [01:24<06:21,  1.59it/s, now=None]\u001b[A\n",
      "t:  20%|██████████▏                                        | 151/756 [01:25<06:12,  1.62it/s, now=None]\u001b[A\n",
      "t:  20%|██████████▎                                        | 152/756 [01:26<06:21,  1.58it/s, now=None]\u001b[A\n",
      "t:  20%|██████████▎                                        | 153/756 [01:26<06:55,  1.45it/s, now=None]\u001b[A\n"
     ]
    },
    {
     "name": "stderr",
     "output_type": "stream",
     "text": [
      "t:  20%|██████████▍                                        | 154/756 [01:27<07:43,  1.30it/s, now=None]\u001b[A\n",
      "t:  21%|██████████▍                                        | 155/756 [01:28<07:42,  1.30it/s, now=None]\u001b[A\n",
      "t:  21%|██████████▌                                        | 156/756 [01:29<07:04,  1.41it/s, now=None]\u001b[A\n",
      "t:  21%|██████████▌                                        | 157/756 [01:29<06:34,  1.52it/s, now=None]\u001b[A\n",
      "t:  21%|██████████▋                                        | 158/756 [01:30<06:51,  1.45it/s, now=None]\u001b[A\n",
      "t:  21%|██████████▋                                        | 159/756 [01:31<06:32,  1.52it/s, now=None]\u001b[A\n",
      "t:  21%|██████████▊                                        | 160/756 [01:31<06:04,  1.63it/s, now=None]\u001b[A\n",
      "t:  21%|██████████▊                                        | 161/756 [01:32<05:48,  1.71it/s, now=None]\u001b[A\n",
      "t:  21%|██████████▉                                        | 162/756 [01:32<05:35,  1.77it/s, now=None]\u001b[A\n",
      "t:  22%|██████████▉                                        | 163/756 [01:33<05:32,  1.78it/s, now=None]\u001b[A\n",
      "t:  22%|███████████                                        | 164/756 [01:33<05:29,  1.80it/s, now=None]\u001b[A\n",
      "t:  22%|███████████▏                                       | 165/756 [01:34<05:14,  1.88it/s, now=None]\u001b[A\n",
      "t:  22%|███████████▏                                       | 166/756 [01:34<05:04,  1.94it/s, now=None]\u001b[A\n",
      "t:  22%|███████████▎                                       | 167/756 [01:35<05:01,  1.96it/s, now=None]\u001b[A\n",
      "t:  22%|███████████▎                                       | 168/756 [01:35<04:58,  1.97it/s, now=None]\u001b[A\n",
      "t:  22%|███████████▍                                       | 169/756 [01:36<05:25,  1.80it/s, now=None]\u001b[A\n",
      "t:  22%|███████████▍                                       | 170/756 [01:36<05:49,  1.68it/s, now=None]\u001b[A\n",
      "t:  23%|███████████▌                                       | 171/756 [01:37<06:47,  1.44it/s, now=None]\u001b[A\n",
      "t:  23%|███████████▌                                       | 172/756 [01:38<07:00,  1.39it/s, now=None]\u001b[A\n",
      "t:  23%|███████████▋                                       | 173/756 [01:39<07:01,  1.38it/s, now=None]\u001b[A\n",
      "t:  23%|███████████▋                                       | 174/756 [01:39<06:19,  1.54it/s, now=None]\u001b[A\n",
      "t:  23%|███████████▊                                       | 175/756 [01:40<06:05,  1.59it/s, now=None]\u001b[A\n",
      "t:  23%|███████████▊                                       | 176/756 [01:40<05:36,  1.72it/s, now=None]\u001b[A\n",
      "t:  23%|███████████▉                                       | 177/756 [01:41<05:20,  1.80it/s, now=None]\u001b[A\n",
      "t:  24%|████████████                                       | 178/756 [01:41<05:05,  1.89it/s, now=None]\u001b[A\n",
      "t:  24%|████████████                                       | 179/756 [01:42<05:40,  1.70it/s, now=None]\u001b[A\n",
      "t:  24%|████████████▏                                      | 180/756 [01:43<05:25,  1.77it/s, now=None]\u001b[A\n",
      "t:  24%|████████████▏                                      | 181/756 [01:43<05:14,  1.83it/s, now=None]\u001b[A\n",
      "t:  24%|████████████▎                                      | 182/756 [01:44<04:59,  1.92it/s, now=None]\u001b[A\n",
      "t:  24%|████████████▎                                      | 183/756 [01:44<04:55,  1.94it/s, now=None]\u001b[A\n",
      "t:  24%|████████████▍                                      | 184/756 [01:45<04:43,  2.01it/s, now=None]\u001b[A\n",
      "t:  24%|████████████▍                                      | 185/756 [01:45<04:44,  2.01it/s, now=None]\u001b[A\n",
      "t:  25%|████████████▌                                      | 186/756 [01:46<04:48,  1.98it/s, now=None]\u001b[A\n",
      "t:  25%|████████████▌                                      | 187/756 [01:46<04:51,  1.95it/s, now=None]\u001b[A\n",
      "t:  25%|████████████▋                                      | 188/756 [01:47<04:48,  1.97it/s, now=None]\u001b[A\n",
      "t:  25%|████████████▊                                      | 189/756 [01:47<04:47,  1.97it/s, now=None]\u001b[A\n",
      "t:  25%|████████████▊                                      | 190/756 [01:48<04:47,  1.97it/s, now=None]\u001b[A\n",
      "t:  25%|████████████▉                                      | 191/756 [01:48<04:59,  1.89it/s, now=None]\u001b[A\n",
      "t:  25%|████████████▉                                      | 192/756 [01:49<05:02,  1.86it/s, now=None]\u001b[A\n",
      "t:  26%|█████████████                                      | 193/756 [01:49<04:54,  1.91it/s, now=None]\u001b[A\n",
      "t:  26%|█████████████                                      | 194/756 [01:50<04:52,  1.92it/s, now=None]\u001b[A\n",
      "t:  26%|█████████████▏                                     | 195/756 [01:50<04:45,  1.96it/s, now=None]\u001b[A\n",
      "t:  26%|█████████████▏                                     | 196/756 [01:51<05:18,  1.76it/s, now=None]\u001b[A\n",
      "t:  26%|█████████████▎                                     | 197/756 [01:52<05:23,  1.73it/s, now=None]\u001b[A\n",
      "t:  26%|█████████████▎                                     | 198/756 [01:52<05:27,  1.70it/s, now=None]\u001b[A\n",
      "t:  26%|█████████████▍                                     | 199/756 [01:53<05:10,  1.79it/s, now=None]\u001b[A\n",
      "t:  26%|█████████████▍                                     | 200/756 [01:53<05:24,  1.72it/s, now=None]\u001b[A\n",
      "t:  27%|█████████████▌                                     | 201/756 [01:54<05:30,  1.68it/s, now=None]\u001b[A\n",
      "t:  27%|█████████████▋                                     | 202/756 [01:55<05:46,  1.60it/s, now=None]\u001b[A\n",
      "t:  27%|█████████████▋                                     | 203/756 [01:55<05:36,  1.64it/s, now=None]\u001b[A\n",
      "t:  27%|█████████████▊                                     | 204/756 [01:56<05:23,  1.70it/s, now=None]\u001b[A\n",
      "t:  27%|█████████████▊                                     | 205/756 [01:56<05:11,  1.77it/s, now=None]\u001b[A\n",
      "t:  27%|█████████████▉                                     | 206/756 [01:57<04:57,  1.85it/s, now=None]\u001b[A\n",
      "t:  27%|█████████████▉                                     | 207/756 [01:57<04:52,  1.88it/s, now=None]\u001b[A\n",
      "t:  28%|██████████████                                     | 208/756 [01:58<04:44,  1.93it/s, now=None]\u001b[A\n",
      "t:  28%|██████████████                                     | 209/756 [01:58<04:39,  1.95it/s, now=None]\u001b[A\n",
      "t:  28%|██████████████▏                                    | 210/756 [01:59<05:00,  1.82it/s, now=None]\u001b[A\n",
      "t:  28%|██████████████▏                                    | 211/756 [01:59<04:59,  1.82it/s, now=None]\u001b[A\n",
      "t:  28%|██████████████▎                                    | 212/756 [02:00<04:55,  1.84it/s, now=None]\u001b[A\n",
      "t:  28%|██████████████▎                                    | 213/756 [02:00<04:45,  1.90it/s, now=None]\u001b[A\n",
      "t:  28%|██████████████▍                                    | 214/756 [02:01<04:38,  1.95it/s, now=None]\u001b[A\n",
      "t:  28%|██████████████▌                                    | 215/756 [02:01<04:42,  1.92it/s, now=None]\u001b[A\n",
      "t:  29%|██████████████▌                                    | 216/756 [02:02<04:39,  1.93it/s, now=None]\u001b[A\n",
      "t:  29%|██████████████▋                                    | 217/756 [02:03<04:45,  1.89it/s, now=None]\u001b[A\n",
      "t:  29%|██████████████▋                                    | 218/756 [02:03<05:04,  1.77it/s, now=None]\u001b[A\n",
      "t:  29%|██████████████▊                                    | 219/756 [02:04<05:17,  1.69it/s, now=None]\u001b[A\n",
      "t:  29%|██████████████▊                                    | 220/756 [02:04<05:12,  1.72it/s, now=None]\u001b[A\n",
      "t:  29%|██████████████▉                                    | 221/756 [02:05<05:07,  1.74it/s, now=None]\u001b[A\n",
      "t:  29%|██████████████▉                                    | 222/756 [02:06<05:04,  1.75it/s, now=None]\u001b[A\n",
      "t:  29%|███████████████                                    | 223/756 [02:06<05:02,  1.76it/s, now=None]\u001b[A\n",
      "t:  30%|███████████████                                    | 224/756 [02:07<05:06,  1.73it/s, now=None]\u001b[A\n",
      "t:  30%|███████████████▏                                   | 225/756 [02:07<05:28,  1.62it/s, now=None]\u001b[A\n",
      "t:  30%|███████████████▏                                   | 226/756 [02:08<06:31,  1.35it/s, now=None]\u001b[A\n",
      "t:  30%|███████████████▎                                   | 227/756 [02:09<06:58,  1.26it/s, now=None]\u001b[A\n",
      "t:  30%|███████████████▍                                   | 228/756 [02:10<06:45,  1.30it/s, now=None]\u001b[A\n",
      "t:  30%|███████████████▍                                   | 229/756 [02:11<06:31,  1.35it/s, now=None]\u001b[A\n"
     ]
    },
    {
     "name": "stderr",
     "output_type": "stream",
     "text": [
      "t:  30%|███████████████▌                                   | 230/756 [02:11<05:58,  1.47it/s, now=None]\u001b[A\n",
      "t:  31%|███████████████▌                                   | 231/756 [02:12<05:34,  1.57it/s, now=None]\u001b[A\n",
      "t:  31%|███████████████▋                                   | 232/756 [02:12<05:19,  1.64it/s, now=None]\u001b[A\n",
      "t:  31%|███████████████▋                                   | 233/756 [02:13<05:15,  1.66it/s, now=None]\u001b[A\n",
      "t:  31%|███████████████▊                                   | 234/756 [02:13<05:01,  1.73it/s, now=None]\u001b[A\n",
      "t:  31%|███████████████▊                                   | 235/756 [02:14<04:54,  1.77it/s, now=None]\u001b[A\n",
      "t:  31%|███████████████▉                                   | 236/756 [02:15<04:47,  1.81it/s, now=None]\u001b[A\n",
      "t:  31%|███████████████▉                                   | 237/756 [02:15<04:45,  1.82it/s, now=None]\u001b[A\n",
      "t:  31%|████████████████                                   | 238/756 [02:16<04:38,  1.86it/s, now=None]\u001b[A\n",
      "t:  32%|████████████████                                   | 239/756 [02:16<04:35,  1.88it/s, now=None]\u001b[A\n",
      "t:  32%|████████████████▏                                  | 240/756 [02:17<04:35,  1.87it/s, now=None]\u001b[A\n",
      "t:  32%|████████████████▎                                  | 241/756 [02:17<04:32,  1.89it/s, now=None]\u001b[A\n",
      "t:  32%|████████████████▎                                  | 242/756 [02:18<04:31,  1.90it/s, now=None]\u001b[A\n",
      "t:  32%|████████████████▍                                  | 243/756 [02:18<04:26,  1.93it/s, now=None]\u001b[A\n",
      "t:  32%|████████████████▍                                  | 244/756 [02:19<04:29,  1.90it/s, now=None]\u001b[A\n",
      "t:  32%|████████████████▌                                  | 245/756 [02:19<04:37,  1.84it/s, now=None]\u001b[A\n",
      "t:  33%|████████████████▌                                  | 246/756 [02:20<04:34,  1.86it/s, now=None]\u001b[A\n",
      "t:  33%|████████████████▋                                  | 247/756 [02:20<04:34,  1.85it/s, now=None]\u001b[A\n",
      "t:  33%|████████████████▋                                  | 248/756 [02:21<04:44,  1.79it/s, now=None]\u001b[A\n",
      "t:  33%|████████████████▊                                  | 249/756 [02:22<04:45,  1.77it/s, now=None]\u001b[A\n",
      "t:  33%|████████████████▊                                  | 250/756 [02:22<04:45,  1.77it/s, now=None]\u001b[A\n",
      "t:  33%|████████████████▉                                  | 251/756 [02:23<04:40,  1.80it/s, now=None]\u001b[A\n",
      "t:  33%|█████████████████                                  | 252/756 [02:23<04:43,  1.77it/s, now=None]\u001b[A\n",
      "t:  33%|█████████████████                                  | 253/756 [02:24<04:44,  1.77it/s, now=None]\u001b[A\n",
      "t:  34%|█████████████████▏                                 | 254/756 [02:24<04:58,  1.68it/s, now=None]\u001b[A\n",
      "t:  34%|█████████████████▏                                 | 255/756 [02:25<05:10,  1.61it/s, now=None]\u001b[A\n",
      "t:  34%|█████████████████▎                                 | 256/756 [02:26<05:47,  1.44it/s, now=None]\u001b[A\n",
      "t:  34%|█████████████████▎                                 | 257/756 [02:27<06:08,  1.35it/s, now=None]\u001b[A\n",
      "t:  34%|█████████████████▍                                 | 258/756 [02:28<05:57,  1.39it/s, now=None]\u001b[A\n",
      "t:  34%|█████████████████▍                                 | 259/756 [02:28<05:37,  1.47it/s, now=None]\u001b[A\n",
      "t:  34%|█████████████████▌                                 | 260/756 [02:29<05:28,  1.51it/s, now=None]\u001b[A\n",
      "t:  35%|█████████████████▌                                 | 261/756 [02:29<05:04,  1.62it/s, now=None]\u001b[A\n",
      "t:  35%|█████████████████▋                                 | 262/756 [02:30<04:48,  1.71it/s, now=None]\u001b[A\n",
      "t:  35%|█████████████████▋                                 | 263/756 [02:30<04:35,  1.79it/s, now=None]\u001b[A\n",
      "t:  35%|█████████████████▊                                 | 264/756 [02:31<04:30,  1.82it/s, now=None]\u001b[A\n",
      "t:  35%|█████████████████▉                                 | 265/756 [02:31<04:33,  1.79it/s, now=None]\u001b[A\n",
      "t:  35%|█████████████████▉                                 | 266/756 [02:32<04:31,  1.81it/s, now=None]\u001b[A\n",
      "t:  35%|██████████████████                                 | 267/756 [02:32<04:23,  1.85it/s, now=None]\u001b[A\n",
      "t:  35%|██████████████████                                 | 268/756 [02:33<04:25,  1.83it/s, now=None]\u001b[A\n",
      "t:  36%|██████████████████▏                                | 269/756 [02:34<05:11,  1.56it/s, now=None]\u001b[A\n",
      "t:  36%|██████████████████▏                                | 270/756 [02:34<05:02,  1.60it/s, now=None]\u001b[A\n",
      "t:  36%|██████████████████▎                                | 271/756 [02:35<04:52,  1.66it/s, now=None]\u001b[A\n",
      "t:  36%|██████████████████▎                                | 272/756 [02:36<04:47,  1.68it/s, now=None]\u001b[A\n",
      "t:  36%|██████████████████▍                                | 273/756 [02:36<04:36,  1.74it/s, now=None]\u001b[A\n",
      "t:  36%|██████████████████▍                                | 274/756 [02:37<04:51,  1.66it/s, now=None]\u001b[A\n",
      "t:  36%|██████████████████▌                                | 275/756 [02:37<05:11,  1.55it/s, now=None]\u001b[A\n",
      "t:  37%|██████████████████▌                                | 276/756 [02:38<05:23,  1.48it/s, now=None]\u001b[A\n",
      "t:  37%|██████████████████▋                                | 277/756 [02:39<05:48,  1.38it/s, now=None]\u001b[A\n",
      "t:  37%|██████████████████▊                                | 278/756 [02:40<05:49,  1.37it/s, now=None]\u001b[A\n",
      "t:  37%|██████████████████▊                                | 279/756 [02:41<05:45,  1.38it/s, now=None]\u001b[A\n",
      "t:  37%|██████████████████▉                                | 280/756 [02:41<05:47,  1.37it/s, now=None]\u001b[A\n",
      "t:  37%|██████████████████▉                                | 281/756 [02:42<05:42,  1.39it/s, now=None]\u001b[A\n",
      "t:  37%|███████████████████                                | 282/756 [02:43<05:54,  1.34it/s, now=None]\u001b[A\n",
      "t:  37%|███████████████████                                | 283/756 [02:43<05:45,  1.37it/s, now=None]\u001b[A\n",
      "t:  38%|███████████████████▏                               | 284/756 [02:44<05:36,  1.40it/s, now=None]\u001b[A\n",
      "t:  38%|███████████████████▏                               | 285/756 [02:45<05:21,  1.47it/s, now=None]\u001b[A\n",
      "t:  38%|███████████████████▎                               | 286/756 [02:45<04:58,  1.57it/s, now=None]\u001b[A\n",
      "t:  38%|███████████████████▎                               | 287/756 [02:46<04:58,  1.57it/s, now=None]\u001b[A\n",
      "t:  38%|███████████████████▍                               | 288/756 [02:47<04:56,  1.58it/s, now=None]\u001b[A\n",
      "t:  38%|███████████████████▍                               | 289/756 [02:47<04:41,  1.66it/s, now=None]\u001b[A\n",
      "t:  38%|███████████████████▌                               | 290/756 [02:48<04:30,  1.72it/s, now=None]\u001b[A\n",
      "t:  38%|███████████████████▋                               | 291/756 [02:48<04:25,  1.75it/s, now=None]\u001b[A\n",
      "t:  39%|███████████████████▋                               | 292/756 [02:49<04:14,  1.83it/s, now=None]\u001b[A\n",
      "t:  39%|███████████████████▊                               | 293/756 [02:49<04:18,  1.79it/s, now=None]\u001b[A\n",
      "t:  39%|███████████████████▊                               | 294/756 [02:50<04:22,  1.76it/s, now=None]\u001b[A\n",
      "t:  39%|███████████████████▉                               | 295/756 [02:50<04:09,  1.85it/s, now=None]\u001b[A\n",
      "t:  39%|███████████████████▉                               | 296/756 [02:51<04:05,  1.88it/s, now=None]\u001b[A\n",
      "t:  39%|████████████████████                               | 297/756 [02:51<04:02,  1.89it/s, now=None]\u001b[A\n",
      "t:  39%|████████████████████                               | 298/756 [02:52<04:10,  1.83it/s, now=None]\u001b[A\n",
      "t:  40%|████████████████████▏                              | 299/756 [02:52<04:10,  1.83it/s, now=None]\u001b[A\n",
      "t:  40%|████████████████████▏                              | 300/756 [02:53<04:10,  1.82it/s, now=None]\u001b[A\n",
      "t:  40%|████████████████████▎                              | 301/756 [02:54<04:14,  1.79it/s, now=None]\u001b[A\n",
      "t:  40%|████████████████████▎                              | 302/756 [02:54<04:15,  1.78it/s, now=None]\u001b[A\n",
      "t:  40%|████████████████████▍                              | 303/756 [02:55<04:21,  1.74it/s, now=None]\u001b[A\n",
      "t:  40%|████████████████████▌                              | 304/756 [02:55<04:30,  1.67it/s, now=None]\u001b[A\n",
      "t:  40%|████████████████████▌                              | 305/756 [02:56<04:25,  1.70it/s, now=None]\u001b[A\n"
     ]
    },
    {
     "name": "stderr",
     "output_type": "stream",
     "text": [
      "t:  40%|████████████████████▋                              | 306/756 [02:57<04:20,  1.72it/s, now=None]\u001b[A\n",
      "t:  41%|████████████████████▋                              | 307/756 [02:57<04:24,  1.70it/s, now=None]\u001b[A\n",
      "t:  41%|████████████████████▊                              | 308/756 [02:58<05:07,  1.46it/s, now=None]\u001b[A\n",
      "t:  41%|████████████████████▊                              | 309/756 [02:59<05:16,  1.41it/s, now=None]\u001b[A\n",
      "t:  41%|████████████████████▉                              | 310/756 [03:00<05:41,  1.31it/s, now=None]\u001b[A\n",
      "t:  41%|████████████████████▉                              | 311/756 [03:01<06:10,  1.20it/s, now=None]\u001b[A\n",
      "t:  41%|█████████████████████                              | 312/756 [03:01<05:57,  1.24it/s, now=None]\u001b[A\n",
      "t:  41%|█████████████████████                              | 313/756 [03:02<05:50,  1.26it/s, now=None]\u001b[A\n",
      "t:  42%|█████████████████████▏                             | 314/756 [03:03<05:52,  1.26it/s, now=None]\u001b[A\n",
      "t:  42%|█████████████████████▎                             | 315/756 [03:04<05:59,  1.23it/s, now=None]\u001b[A\n",
      "t:  42%|█████████████████████▎                             | 316/756 [03:05<05:52,  1.25it/s, now=None]\u001b[A\n",
      "t:  42%|█████████████████████▍                             | 317/756 [03:05<05:39,  1.29it/s, now=None]\u001b[A\n",
      "t:  42%|█████████████████████▍                             | 318/756 [03:06<05:14,  1.39it/s, now=None]\u001b[A\n",
      "t:  42%|█████████████████████▌                             | 319/756 [03:06<04:40,  1.56it/s, now=None]\u001b[A\n",
      "t:  42%|█████████████████████▌                             | 320/756 [03:07<04:44,  1.53it/s, now=None]\u001b[A\n",
      "t:  42%|█████████████████████▋                             | 321/756 [03:08<04:45,  1.52it/s, now=None]\u001b[A\n",
      "t:  43%|█████████████████████▋                             | 322/756 [03:08<04:42,  1.54it/s, now=None]\u001b[A\n",
      "t:  43%|█████████████████████▊                             | 323/756 [03:09<04:36,  1.56it/s, now=None]\u001b[A\n",
      "t:  43%|█████████████████████▊                             | 324/756 [03:09<04:16,  1.69it/s, now=None]\u001b[A\n",
      "t:  43%|█████████████████████▉                             | 325/756 [03:10<04:14,  1.69it/s, now=None]\u001b[A\n",
      "t:  43%|█████████████████████▉                             | 326/756 [03:11<04:08,  1.73it/s, now=None]\u001b[A\n",
      "t:  43%|██████████████████████                             | 327/756 [03:11<04:08,  1.73it/s, now=None]\u001b[A\n",
      "t:  43%|██████████████████████▏                            | 328/756 [03:12<04:11,  1.70it/s, now=None]\u001b[A\n",
      "t:  44%|██████████████████████▏                            | 329/756 [03:12<04:22,  1.63it/s, now=None]\u001b[A\n",
      "t:  44%|██████████████████████▎                            | 330/756 [03:13<04:14,  1.67it/s, now=None]\u001b[A\n",
      "t:  44%|██████████████████████▎                            | 331/756 [03:14<04:23,  1.61it/s, now=None]\u001b[A\n",
      "t:  44%|██████████████████████▍                            | 332/756 [03:14<04:20,  1.62it/s, now=None]\u001b[A\n",
      "t:  44%|██████████████████████▍                            | 333/756 [03:15<04:16,  1.65it/s, now=None]\u001b[A\n",
      "t:  44%|██████████████████████▌                            | 334/756 [03:16<04:40,  1.50it/s, now=None]\u001b[A\n",
      "t:  44%|██████████████████████▌                            | 335/756 [03:16<04:44,  1.48it/s, now=None]\u001b[A\n",
      "t:  44%|██████████████████████▋                            | 336/756 [03:17<05:02,  1.39it/s, now=None]\u001b[A\n",
      "t:  45%|██████████████████████▋                            | 337/756 [03:18<05:20,  1.31it/s, now=None]\u001b[A\n",
      "t:  45%|██████████████████████▊                            | 338/756 [03:19<05:04,  1.37it/s, now=None]\u001b[A\n",
      "t:  45%|██████████████████████▊                            | 339/756 [03:19<05:02,  1.38it/s, now=None]\u001b[A\n",
      "t:  45%|██████████████████████▉                            | 340/756 [03:20<04:56,  1.41it/s, now=None]\u001b[A\n",
      "t:  45%|███████████████████████                            | 341/756 [03:21<05:31,  1.25it/s, now=None]\u001b[A\n",
      "t:  45%|███████████████████████                            | 342/756 [03:22<05:35,  1.23it/s, now=None]\u001b[A\n",
      "t:  45%|███████████████████████▏                           | 343/756 [03:23<05:16,  1.31it/s, now=None]\u001b[A\n",
      "t:  46%|███████████████████████▏                           | 344/756 [03:23<04:53,  1.40it/s, now=None]\u001b[A\n",
      "t:  46%|███████████████████████▎                           | 345/756 [03:24<04:47,  1.43it/s, now=None]\u001b[A\n",
      "t:  46%|███████████████████████▎                           | 346/756 [03:25<04:57,  1.38it/s, now=None]\u001b[A\n",
      "t:  46%|███████████████████████▍                           | 347/756 [03:25<04:45,  1.43it/s, now=None]\u001b[A\n",
      "t:  46%|███████████████████████▍                           | 348/756 [03:26<04:36,  1.47it/s, now=None]\u001b[A\n",
      "t:  46%|███████████████████████▌                           | 349/756 [03:26<04:12,  1.61it/s, now=None]\u001b[A\n",
      "t:  46%|███████████████████████▌                           | 350/756 [03:27<03:53,  1.74it/s, now=None]\u001b[A\n",
      "t:  46%|███████████████████████▋                           | 351/756 [03:27<03:45,  1.79it/s, now=None]\u001b[A\n",
      "t:  47%|███████████████████████▋                           | 352/756 [03:28<03:32,  1.90it/s, now=None]\u001b[A\n",
      "t:  47%|███████████████████████▊                           | 353/756 [03:28<03:26,  1.95it/s, now=None]\u001b[A\n",
      "t:  47%|███████████████████████▉                           | 354/756 [03:29<03:29,  1.92it/s, now=None]\u001b[A\n",
      "t:  47%|███████████████████████▉                           | 355/756 [03:30<03:41,  1.81it/s, now=None]\u001b[A\n",
      "t:  47%|████████████████████████                           | 356/756 [03:30<03:46,  1.76it/s, now=None]\u001b[A\n",
      "t:  47%|████████████████████████                           | 357/756 [03:31<04:09,  1.60it/s, now=None]\u001b[A\n",
      "t:  47%|████████████████████████▏                          | 358/756 [03:31<04:06,  1.61it/s, now=None]\u001b[A\n",
      "t:  47%|████████████████████████▏                          | 359/756 [03:32<03:58,  1.67it/s, now=None]\u001b[A\n",
      "t:  48%|████████████████████████▎                          | 360/756 [03:32<03:39,  1.80it/s, now=None]\u001b[A\n",
      "t:  48%|████████████████████████▎                          | 361/756 [03:33<03:25,  1.92it/s, now=None]\u001b[A\n",
      "t:  48%|████████████████████████▍                          | 362/756 [03:33<03:16,  2.00it/s, now=None]\u001b[A\n",
      "t:  48%|████████████████████████▍                          | 363/756 [03:34<03:12,  2.04it/s, now=None]\u001b[A\n",
      "t:  48%|████████████████████████▌                          | 364/756 [03:34<03:09,  2.07it/s, now=None]\u001b[A\n",
      "t:  48%|████████████████████████▌                          | 365/756 [03:35<03:15,  2.00it/s, now=None]\u001b[A\n",
      "t:  48%|████████████████████████▋                          | 366/756 [03:35<03:19,  1.96it/s, now=None]\u001b[A\n",
      "t:  49%|████████████████████████▊                          | 367/756 [03:36<03:44,  1.73it/s, now=None]\u001b[A\n",
      "t:  49%|████████████████████████▊                          | 368/756 [03:37<04:00,  1.62it/s, now=None]\u001b[A\n",
      "t:  49%|████████████████████████▉                          | 369/756 [03:37<04:02,  1.60it/s, now=None]\u001b[A\n",
      "t:  49%|████████████████████████▉                          | 370/756 [03:38<04:00,  1.60it/s, now=None]\u001b[A\n",
      "t:  49%|█████████████████████████                          | 371/756 [03:39<03:54,  1.64it/s, now=None]\u001b[A\n",
      "t:  49%|█████████████████████████                          | 372/756 [03:39<03:49,  1.67it/s, now=None]\u001b[A\n",
      "t:  49%|█████████████████████████▏                         | 373/756 [03:40<04:27,  1.43it/s, now=None]\u001b[A\n",
      "t:  49%|█████████████████████████▏                         | 374/756 [03:41<04:33,  1.40it/s, now=None]\u001b[A\n",
      "t:  50%|█████████████████████████▎                         | 375/756 [03:42<04:26,  1.43it/s, now=None]\u001b[A\n",
      "t:  50%|█████████████████████████▎                         | 376/756 [03:42<04:18,  1.47it/s, now=None]\u001b[A\n",
      "t:  50%|█████████████████████████▍                         | 377/756 [03:43<04:09,  1.52it/s, now=None]\u001b[A\n",
      "t:  50%|█████████████████████████▌                         | 378/756 [03:43<04:05,  1.54it/s, now=None]\u001b[A\n",
      "t:  50%|█████████████████████████▌                         | 379/756 [03:44<04:01,  1.56it/s, now=None]\u001b[A\n",
      "t:  50%|█████████████████████████▋                         | 380/756 [03:45<03:57,  1.58it/s, now=None]\u001b[A\n",
      "t:  50%|█████████████████████████▋                         | 381/756 [03:45<03:45,  1.67it/s, now=None]\u001b[A\n"
     ]
    },
    {
     "name": "stderr",
     "output_type": "stream",
     "text": [
      "t:  51%|█████████████████████████▊                         | 382/756 [03:46<03:41,  1.69it/s, now=None]\u001b[A\n",
      "t:  51%|█████████████████████████▊                         | 383/756 [03:46<03:33,  1.74it/s, now=None]\u001b[A\n",
      "t:  51%|█████████████████████████▉                         | 384/756 [03:47<03:25,  1.81it/s, now=None]\u001b[A\n",
      "t:  51%|█████████████████████████▉                         | 385/756 [03:47<03:19,  1.86it/s, now=None]\u001b[A\n",
      "t:  51%|██████████████████████████                         | 386/756 [03:48<03:18,  1.87it/s, now=None]\u001b[A\n",
      "t:  51%|██████████████████████████                         | 387/756 [03:48<03:11,  1.93it/s, now=None]\u001b[A\n",
      "t:  51%|██████████████████████████▏                        | 388/756 [03:49<03:12,  1.91it/s, now=None]\u001b[A\n",
      "t:  51%|██████████████████████████▏                        | 389/756 [03:49<03:09,  1.94it/s, now=None]\u001b[A\n",
      "t:  52%|██████████████████████████▎                        | 390/756 [03:50<03:02,  2.00it/s, now=None]\u001b[A\n",
      "t:  52%|██████████████████████████▍                        | 391/756 [03:50<03:02,  2.00it/s, now=None]\u001b[A\n",
      "t:  52%|██████████████████████████▍                        | 392/756 [03:51<03:00,  2.02it/s, now=None]\u001b[A\n",
      "t:  52%|██████████████████████████▌                        | 393/756 [03:51<02:59,  2.02it/s, now=None]\u001b[A\n",
      "t:  52%|██████████████████████████▌                        | 394/756 [03:52<02:54,  2.07it/s, now=None]\u001b[A\n",
      "t:  52%|██████████████████████████▋                        | 395/756 [03:52<02:49,  2.13it/s, now=None]\u001b[A\n",
      "t:  52%|██████████████████████████▋                        | 396/756 [03:53<02:51,  2.10it/s, now=None]\u001b[A\n",
      "t:  53%|██████████████████████████▊                        | 397/756 [03:53<03:01,  1.97it/s, now=None]\u001b[A\n",
      "t:  53%|██████████████████████████▊                        | 398/756 [03:54<02:55,  2.04it/s, now=None]\u001b[A\n",
      "t:  53%|██████████████████████████▉                        | 399/756 [03:54<02:45,  2.16it/s, now=None]\u001b[A\n",
      "t:  53%|██████████████████████████▉                        | 400/756 [03:55<02:44,  2.16it/s, now=None]\u001b[A\n",
      "t:  53%|███████████████████████████                        | 401/756 [03:55<02:37,  2.25it/s, now=None]\u001b[A\n",
      "t:  53%|███████████████████████████                        | 402/756 [03:55<02:31,  2.34it/s, now=None]\u001b[A\n",
      "t:  53%|███████████████████████████▏                       | 403/756 [03:56<02:31,  2.32it/s, now=None]\u001b[A\n",
      "t:  53%|███████████████████████████▎                       | 404/756 [03:56<02:27,  2.38it/s, now=None]\u001b[A\n",
      "t:  54%|███████████████████████████▎                       | 405/756 [03:57<02:24,  2.42it/s, now=None]\u001b[A\n",
      "t:  54%|███████████████████████████▍                       | 406/756 [03:57<02:21,  2.47it/s, now=None]\u001b[A\n",
      "t:  54%|███████████████████████████▍                       | 407/756 [03:57<02:22,  2.46it/s, now=None]\u001b[A\n",
      "t:  54%|███████████████████████████▌                       | 408/756 [03:58<02:23,  2.42it/s, now=None]\u001b[A\n",
      "t:  54%|███████████████████████████▌                       | 409/756 [03:58<02:24,  2.40it/s, now=None]\u001b[A\n",
      "t:  54%|███████████████████████████▋                       | 410/756 [03:59<02:37,  2.19it/s, now=None]\u001b[A\n",
      "t:  54%|███████████████████████████▋                       | 411/756 [03:59<02:45,  2.09it/s, now=None]\u001b[A\n",
      "t:  54%|███████████████████████████▊                       | 412/756 [04:00<02:44,  2.09it/s, now=None]\u001b[A\n",
      "t:  55%|███████████████████████████▊                       | 413/756 [04:00<02:54,  1.97it/s, now=None]\u001b[A\n",
      "t:  55%|███████████████████████████▉                       | 414/756 [04:01<02:58,  1.91it/s, now=None]\u001b[A\n",
      "t:  55%|███████████████████████████▉                       | 415/756 [04:02<03:01,  1.88it/s, now=None]\u001b[A\n",
      "t:  55%|████████████████████████████                       | 416/756 [04:02<02:57,  1.92it/s, now=None]\u001b[A\n",
      "t:  55%|████████████████████████████▏                      | 417/756 [04:02<02:51,  1.98it/s, now=None]\u001b[A\n",
      "t:  55%|████████████████████████████▏                      | 418/756 [04:03<02:53,  1.95it/s, now=None]\u001b[A\n",
      "t:  55%|████████████████████████████▎                      | 419/756 [04:04<03:00,  1.87it/s, now=None]\u001b[A\n",
      "t:  56%|████████████████████████████▎                      | 420/756 [04:04<02:53,  1.93it/s, now=None]\u001b[A\n",
      "t:  56%|████████████████████████████▍                      | 421/756 [04:05<02:49,  1.98it/s, now=None]\u001b[A\n",
      "t:  56%|████████████████████████████▍                      | 422/756 [04:05<02:49,  1.97it/s, now=None]\u001b[A\n",
      "t:  56%|████████████████████████████▌                      | 423/756 [04:06<02:43,  2.04it/s, now=None]\u001b[A\n",
      "t:  56%|████████████████████████████▌                      | 424/756 [04:06<02:42,  2.04it/s, now=None]\u001b[A\n",
      "t:  56%|████████████████████████████▋                      | 425/756 [04:06<02:40,  2.06it/s, now=None]\u001b[A\n",
      "t:  56%|████████████████████████████▋                      | 426/756 [04:07<02:38,  2.08it/s, now=None]\u001b[A\n",
      "t:  56%|████████████████████████████▊                      | 427/756 [04:07<02:37,  2.09it/s, now=None]\u001b[A\n",
      "t:  57%|████████████████████████████▊                      | 428/756 [04:08<02:37,  2.08it/s, now=None]\u001b[A\n",
      "t:  57%|████████████████████████████▉                      | 429/756 [04:08<02:33,  2.14it/s, now=None]\u001b[A\n",
      "t:  57%|█████████████████████████████                      | 430/756 [04:09<02:37,  2.07it/s, now=None]\u001b[A\n",
      "t:  57%|█████████████████████████████                      | 431/756 [04:09<02:40,  2.03it/s, now=None]\u001b[A\n",
      "t:  57%|█████████████████████████████▏                     | 432/756 [04:10<02:38,  2.04it/s, now=None]\u001b[A\n",
      "t:  57%|█████████████████████████████▏                     | 433/756 [04:10<02:37,  2.06it/s, now=None]\u001b[A\n",
      "t:  57%|█████████████████████████████▎                     | 434/756 [04:11<02:35,  2.07it/s, now=None]\u001b[A\n",
      "t:  58%|█████████████████████████████▎                     | 435/756 [04:11<02:37,  2.03it/s, now=None]\u001b[A\n",
      "t:  58%|█████████████████████████████▍                     | 436/756 [04:12<02:39,  2.01it/s, now=None]\u001b[A\n",
      "t:  58%|█████████████████████████████▍                     | 437/756 [04:12<02:38,  2.02it/s, now=None]\u001b[A\n",
      "t:  58%|█████████████████████████████▌                     | 438/756 [04:13<02:48,  1.89it/s, now=None]\u001b[A\n",
      "t:  58%|█████████████████████████████▌                     | 439/756 [04:14<03:12,  1.65it/s, now=None]\u001b[A\n",
      "t:  58%|█████████████████████████████▋                     | 440/756 [04:15<03:31,  1.49it/s, now=None]\u001b[A\n",
      "t:  58%|█████████████████████████████▊                     | 441/756 [04:15<03:33,  1.48it/s, now=None]\u001b[A\n",
      "t:  58%|█████████████████████████████▊                     | 442/756 [04:16<03:35,  1.46it/s, now=None]\u001b[A\n",
      "t:  59%|█████████████████████████████▉                     | 443/756 [04:17<03:25,  1.52it/s, now=None]\u001b[A\n",
      "t:  59%|█████████████████████████████▉                     | 444/756 [04:17<03:08,  1.66it/s, now=None]\u001b[A\n",
      "t:  59%|██████████████████████████████                     | 445/756 [04:17<02:56,  1.76it/s, now=None]\u001b[A\n",
      "t:  59%|██████████████████████████████                     | 446/756 [04:18<02:47,  1.85it/s, now=None]\u001b[A\n",
      "t:  59%|██████████████████████████████▏                    | 447/756 [04:19<02:58,  1.74it/s, now=None]\u001b[A\n",
      "t:  59%|██████████████████████████████▏                    | 448/756 [04:19<02:47,  1.84it/s, now=None]\u001b[A\n",
      "t:  59%|██████████████████████████████▎                    | 449/756 [04:20<02:49,  1.81it/s, now=None]\u001b[A\n",
      "t:  60%|██████████████████████████████▎                    | 450/756 [04:20<02:45,  1.84it/s, now=None]\u001b[A\n",
      "t:  60%|██████████████████████████████▍                    | 451/756 [04:21<02:45,  1.85it/s, now=None]\u001b[A\n",
      "t:  60%|██████████████████████████████▍                    | 452/756 [04:21<02:46,  1.82it/s, now=None]\u001b[A\n",
      "t:  60%|██████████████████████████████▌                    | 453/756 [04:22<03:16,  1.54it/s, now=None]\u001b[A\n",
      "t:  60%|██████████████████████████████▋                    | 454/756 [04:23<03:25,  1.47it/s, now=None]\u001b[A\n",
      "t:  60%|██████████████████████████████▋                    | 455/756 [04:24<03:36,  1.39it/s, now=None]\u001b[A\n",
      "t:  60%|██████████████████████████████▊                    | 456/756 [04:25<03:45,  1.33it/s, now=None]\u001b[A\n",
      "t:  60%|██████████████████████████████▊                    | 457/756 [04:25<03:31,  1.41it/s, now=None]\u001b[A\n"
     ]
    },
    {
     "name": "stderr",
     "output_type": "stream",
     "text": [
      "t:  61%|██████████████████████████████▉                    | 458/756 [04:26<03:17,  1.51it/s, now=None]\u001b[A\n",
      "t:  61%|██████████████████████████████▉                    | 459/756 [04:26<03:08,  1.57it/s, now=None]\u001b[A\n",
      "t:  61%|███████████████████████████████                    | 460/756 [04:27<03:11,  1.54it/s, now=None]\u001b[A\n",
      "t:  61%|███████████████████████████████                    | 461/756 [04:28<03:17,  1.50it/s, now=None]\u001b[A\n",
      "t:  61%|███████████████████████████████▏                   | 462/756 [04:28<03:26,  1.42it/s, now=None]\u001b[A\n",
      "t:  61%|███████████████████████████████▏                   | 463/756 [04:29<03:24,  1.43it/s, now=None]\u001b[A\n",
      "t:  61%|███████████████████████████████▎                   | 464/756 [04:30<03:19,  1.46it/s, now=None]\u001b[A\n",
      "t:  62%|███████████████████████████████▎                   | 465/756 [04:30<03:14,  1.50it/s, now=None]\u001b[A\n",
      "t:  62%|███████████████████████████████▍                   | 466/756 [04:31<02:59,  1.62it/s, now=None]\u001b[A\n",
      "t:  62%|███████████████████████████████▌                   | 467/756 [04:31<02:47,  1.72it/s, now=None]\u001b[A\n",
      "t:  62%|███████████████████████████████▌                   | 468/756 [04:32<02:39,  1.81it/s, now=None]\u001b[A\n",
      "t:  62%|███████████████████████████████▋                   | 469/756 [04:32<02:32,  1.89it/s, now=None]\u001b[A\n",
      "t:  62%|███████████████████████████████▋                   | 470/756 [04:33<02:28,  1.92it/s, now=None]\u001b[A\n",
      "t:  62%|███████████████████████████████▊                   | 471/756 [04:33<02:24,  1.97it/s, now=None]\u001b[A\n",
      "t:  62%|███████████████████████████████▊                   | 472/756 [04:34<02:20,  2.02it/s, now=None]\u001b[A\n",
      "t:  63%|███████████████████████████████▉                   | 473/756 [04:34<02:20,  2.01it/s, now=None]\u001b[A\n",
      "t:  63%|███████████████████████████████▉                   | 474/756 [04:35<02:17,  2.04it/s, now=None]\u001b[A\n",
      "t:  63%|████████████████████████████████                   | 475/756 [04:35<02:14,  2.10it/s, now=None]\u001b[A\n",
      "t:  63%|████████████████████████████████                   | 476/756 [04:36<02:13,  2.10it/s, now=None]\u001b[A\n",
      "t:  63%|████████████████████████████████▏                  | 477/756 [04:36<02:10,  2.14it/s, now=None]\u001b[A\n",
      "t:  63%|████████████████████████████████▏                  | 478/756 [04:37<02:12,  2.09it/s, now=None]\u001b[A\n",
      "t:  63%|████████████████████████████████▎                  | 479/756 [04:37<02:10,  2.13it/s, now=None]\u001b[A\n",
      "t:  63%|████████████████████████████████▍                  | 480/756 [04:38<02:11,  2.10it/s, now=None]\u001b[A\n",
      "t:  64%|████████████████████████████████▍                  | 481/756 [04:38<02:12,  2.07it/s, now=None]\u001b[A\n",
      "t:  64%|████████████████████████████████▌                  | 482/756 [04:39<02:14,  2.03it/s, now=None]\u001b[A\n",
      "t:  64%|████████████████████████████████▌                  | 483/756 [04:39<02:18,  1.97it/s, now=None]\u001b[A\n",
      "t:  64%|████████████████████████████████▋                  | 484/756 [04:40<02:17,  1.98it/s, now=None]\u001b[A\n",
      "t:  64%|████████████████████████████████▋                  | 485/756 [04:40<02:18,  1.96it/s, now=None]\u001b[A\n",
      "t:  64%|████████████████████████████████▊                  | 486/756 [04:41<02:17,  1.97it/s, now=None]\u001b[A\n",
      "t:  64%|████████████████████████████████▊                  | 487/756 [04:41<02:27,  1.83it/s, now=None]\u001b[A\n",
      "t:  65%|████████████████████████████████▉                  | 488/756 [04:42<02:54,  1.53it/s, now=None]\u001b[A\n",
      "t:  65%|████████████████████████████████▉                  | 489/756 [04:43<02:58,  1.50it/s, now=None]\u001b[A\n",
      "t:  65%|█████████████████████████████████                  | 490/756 [04:44<02:57,  1.49it/s, now=None]\u001b[A\n",
      "t:  65%|█████████████████████████████████                  | 491/756 [04:44<02:58,  1.48it/s, now=None]\u001b[A\n",
      "t:  65%|█████████████████████████████████▏                 | 492/756 [04:45<03:02,  1.45it/s, now=None]\u001b[A\n",
      "t:  65%|█████████████████████████████████▎                 | 493/756 [04:46<02:53,  1.51it/s, now=None]\u001b[A\n",
      "t:  65%|█████████████████████████████████▎                 | 494/756 [04:46<02:46,  1.57it/s, now=None]\u001b[A\n",
      "t:  65%|█████████████████████████████████▍                 | 495/756 [04:47<02:35,  1.68it/s, now=None]\u001b[A\n",
      "t:  66%|█████████████████████████████████▍                 | 496/756 [04:47<02:25,  1.78it/s, now=None]\u001b[A\n",
      "t:  66%|█████████████████████████████████▌                 | 497/756 [04:48<02:20,  1.84it/s, now=None]\u001b[A\n",
      "t:  66%|█████████████████████████████████▌                 | 498/756 [04:48<02:16,  1.89it/s, now=None]\u001b[A\n",
      "t:  66%|█████████████████████████████████▋                 | 499/756 [04:49<02:20,  1.83it/s, now=None]\u001b[A\n",
      "t:  66%|█████████████████████████████████▋                 | 500/756 [04:49<02:13,  1.92it/s, now=None]\u001b[A\n",
      "t:  66%|█████████████████████████████████▊                 | 501/756 [04:50<02:11,  1.94it/s, now=None]\u001b[A\n",
      "t:  66%|█████████████████████████████████▊                 | 502/756 [04:50<02:09,  1.97it/s, now=None]\u001b[A\n",
      "t:  67%|█████████████████████████████████▉                 | 503/756 [04:51<02:04,  2.04it/s, now=None]\u001b[A\n",
      "t:  67%|██████████████████████████████████                 | 504/756 [04:51<02:06,  2.00it/s, now=None]\u001b[A\n",
      "t:  67%|██████████████████████████████████                 | 505/756 [04:52<02:01,  2.06it/s, now=None]\u001b[A\n",
      "t:  67%|██████████████████████████████████▏                | 506/756 [04:52<02:08,  1.95it/s, now=None]\u001b[A\n",
      "t:  67%|██████████████████████████████████▏                | 507/756 [04:53<02:05,  1.98it/s, now=None]\u001b[A\n",
      "t:  67%|██████████████████████████████████▎                | 508/756 [04:53<02:03,  2.01it/s, now=None]\u001b[A\n",
      "t:  67%|██████████████████████████████████▎                | 509/756 [04:54<02:00,  2.05it/s, now=None]\u001b[A\n",
      "t:  67%|██████████████████████████████████▍                | 510/756 [04:54<01:59,  2.06it/s, now=None]\u001b[A\n",
      "t:  68%|██████████████████████████████████▍                | 511/756 [04:55<01:59,  2.06it/s, now=None]\u001b[A\n",
      "t:  68%|██████████████████████████████████▌                | 512/756 [04:55<02:00,  2.03it/s, now=None]\u001b[A\n",
      "t:  68%|██████████████████████████████████▌                | 513/756 [04:56<01:58,  2.05it/s, now=None]\u001b[A\n",
      "t:  68%|██████████████████████████████████▋                | 514/756 [04:56<01:59,  2.03it/s, now=None]\u001b[A\n",
      "t:  68%|██████████████████████████████████▋                | 515/756 [04:57<02:04,  1.94it/s, now=None]\u001b[A\n",
      "t:  68%|██████████████████████████████████▊                | 516/756 [04:57<02:06,  1.90it/s, now=None]\u001b[A\n",
      "t:  68%|██████████████████████████████████▉                | 517/756 [04:58<02:02,  1.95it/s, now=None]\u001b[A\n",
      "t:  69%|██████████████████████████████████▉                | 518/756 [04:58<02:00,  1.97it/s, now=None]\u001b[A\n",
      "t:  69%|███████████████████████████████████                | 519/756 [04:59<01:59,  1.98it/s, now=None]\u001b[A\n",
      "t:  69%|███████████████████████████████████                | 520/756 [04:59<02:05,  1.87it/s, now=None]\u001b[A\n",
      "t:  69%|███████████████████████████████████▏               | 521/756 [05:00<02:06,  1.86it/s, now=None]\u001b[A\n",
      "t:  69%|███████████████████████████████████▏               | 522/756 [05:00<02:01,  1.92it/s, now=None]\u001b[A\n",
      "t:  69%|███████████████████████████████████▎               | 523/756 [05:01<02:01,  1.91it/s, now=None]\u001b[A\n",
      "t:  69%|███████████████████████████████████▎               | 524/756 [05:01<02:01,  1.91it/s, now=None]\u001b[A\n",
      "t:  69%|███████████████████████████████████▍               | 525/756 [05:02<02:03,  1.88it/s, now=None]\u001b[A\n",
      "t:  70%|███████████████████████████████████▍               | 526/756 [05:03<02:09,  1.77it/s, now=None]\u001b[A\n",
      "t:  70%|███████████████████████████████████▌               | 527/756 [05:04<02:39,  1.43it/s, now=None]\u001b[A\n",
      "t:  70%|███████████████████████████████████▌               | 528/756 [05:04<02:39,  1.43it/s, now=None]\u001b[A\n",
      "t:  70%|███████████████████████████████████▋               | 529/756 [05:05<02:43,  1.39it/s, now=None]\u001b[A\n",
      "t:  70%|███████████████████████████████████▊               | 530/756 [05:06<02:55,  1.29it/s, now=None]\u001b[A\n",
      "t:  70%|███████████████████████████████████▊               | 531/756 [05:07<02:56,  1.27it/s, now=None]\u001b[A\n",
      "t:  70%|███████████████████████████████████▉               | 532/756 [05:07<02:46,  1.34it/s, now=None]\u001b[A\n",
      "t:  71%|███████████████████████████████████▉               | 533/756 [05:08<02:36,  1.42it/s, now=None]\u001b[A\n"
     ]
    },
    {
     "name": "stderr",
     "output_type": "stream",
     "text": [
      "t:  71%|████████████████████████████████████               | 534/756 [05:09<02:25,  1.53it/s, now=None]\u001b[A\n",
      "t:  71%|████████████████████████████████████               | 535/756 [05:09<02:14,  1.64it/s, now=None]\u001b[A\n",
      "t:  71%|████████████████████████████████████▏              | 536/756 [05:10<02:08,  1.71it/s, now=None]\u001b[A\n",
      "t:  71%|████████████████████████████████████▏              | 537/756 [05:10<02:02,  1.78it/s, now=None]\u001b[A\n",
      "t:  71%|████████████████████████████████████▎              | 538/756 [05:11<02:00,  1.82it/s, now=None]\u001b[A\n",
      "t:  71%|████████████████████████████████████▎              | 539/756 [05:11<01:54,  1.90it/s, now=None]\u001b[A\n",
      "t:  71%|████████████████████████████████████▍              | 540/756 [05:12<01:51,  1.93it/s, now=None]\u001b[A\n",
      "t:  72%|████████████████████████████████████▍              | 541/756 [05:12<01:48,  1.99it/s, now=None]\u001b[A\n",
      "t:  72%|████████████████████████████████████▌              | 542/756 [05:13<01:47,  1.99it/s, now=None]\u001b[A\n",
      "t:  72%|████████████████████████████████████▋              | 543/756 [05:13<01:44,  2.04it/s, now=None]\u001b[A\n",
      "t:  72%|████████████████████████████████████▋              | 544/756 [05:14<01:42,  2.07it/s, now=None]\u001b[A\n",
      "t:  72%|████████████████████████████████████▊              | 545/756 [05:14<01:41,  2.09it/s, now=None]\u001b[A\n",
      "t:  72%|████████████████████████████████████▊              | 546/756 [05:15<01:44,  2.00it/s, now=None]\u001b[A\n",
      "t:  72%|████████████████████████████████████▉              | 547/756 [05:15<01:43,  2.02it/s, now=None]\u001b[A\n",
      "t:  72%|████████████████████████████████████▉              | 548/756 [05:15<01:40,  2.07it/s, now=None]\u001b[A\n",
      "t:  73%|█████████████████████████████████████              | 549/756 [05:16<01:39,  2.08it/s, now=None]\u001b[A\n",
      "t:  73%|█████████████████████████████████████              | 550/756 [05:16<01:36,  2.13it/s, now=None]\u001b[A\n",
      "t:  73%|█████████████████████████████████████▏             | 551/756 [05:17<01:36,  2.14it/s, now=None]\u001b[A\n",
      "t:  73%|█████████████████████████████████████▏             | 552/756 [05:17<01:36,  2.12it/s, now=None]\u001b[A\n",
      "t:  73%|█████████████████████████████████████▎             | 553/756 [05:18<01:36,  2.09it/s, now=None]\u001b[A\n",
      "t:  73%|█████████████████████████████████████▎             | 554/756 [05:18<01:35,  2.11it/s, now=None]\u001b[A\n",
      "t:  73%|█████████████████████████████████████▍             | 555/756 [05:19<01:35,  2.11it/s, now=None]\u001b[A\n",
      "t:  74%|█████████████████████████████████████▌             | 556/756 [05:19<01:35,  2.10it/s, now=None]\u001b[A\n",
      "t:  74%|█████████████████████████████████████▌             | 557/756 [05:20<01:43,  1.92it/s, now=None]\u001b[A\n",
      "t:  74%|█████████████████████████████████████▋             | 558/756 [05:21<01:51,  1.77it/s, now=None]\u001b[A\n",
      "t:  74%|█████████████████████████████████████▋             | 559/756 [05:21<01:51,  1.77it/s, now=None]\u001b[A\n",
      "t:  74%|█████████████████████████████████████▊             | 560/756 [05:22<01:45,  1.85it/s, now=None]\u001b[A\n",
      "t:  74%|█████████████████████████████████████▊             | 561/756 [05:22<01:49,  1.77it/s, now=None]\u001b[A\n",
      "t:  74%|█████████████████████████████████████▉             | 562/756 [05:23<01:59,  1.62it/s, now=None]\u001b[A\n",
      "t:  74%|█████████████████████████████████████▉             | 563/756 [05:24<02:04,  1.55it/s, now=None]\u001b[A\n",
      "t:  75%|██████████████████████████████████████             | 564/756 [05:24<02:00,  1.59it/s, now=None]\u001b[A\n",
      "t:  75%|██████████████████████████████████████             | 565/756 [05:25<01:59,  1.60it/s, now=None]\u001b[A\n",
      "t:  75%|██████████████████████████████████████▏            | 566/756 [05:25<01:52,  1.69it/s, now=None]\u001b[A\n",
      "t:  75%|██████████████████████████████████████▎            | 567/756 [05:26<01:46,  1.78it/s, now=None]\u001b[A\n",
      "t:  75%|██████████████████████████████████████▎            | 568/756 [05:26<01:40,  1.87it/s, now=None]\u001b[A\n",
      "t:  75%|██████████████████████████████████████▍            | 569/756 [05:27<01:40,  1.87it/s, now=None]\u001b[A\n",
      "t:  75%|██████████████████████████████████████▍            | 570/756 [05:27<01:38,  1.89it/s, now=None]\u001b[A\n",
      "t:  76%|██████████████████████████████████████▌            | 571/756 [05:28<01:40,  1.84it/s, now=None]\u001b[A\n",
      "t:  76%|██████████████████████████████████████▌            | 572/756 [05:29<01:45,  1.74it/s, now=None]\u001b[A\n",
      "t:  76%|██████████████████████████████████████▋            | 573/756 [05:29<01:45,  1.73it/s, now=None]\u001b[A\n",
      "t:  76%|██████████████████████████████████████▋            | 574/756 [05:30<01:43,  1.76it/s, now=None]\u001b[A\n",
      "t:  76%|██████████████████████████████████████▊            | 575/756 [05:30<01:40,  1.80it/s, now=None]\u001b[A\n",
      "t:  76%|██████████████████████████████████████▊            | 576/756 [05:31<01:40,  1.79it/s, now=None]\u001b[A\n",
      "t:  76%|██████████████████████████████████████▉            | 577/756 [05:31<01:40,  1.78it/s, now=None]\u001b[A\n",
      "t:  76%|██████████████████████████████████████▉            | 578/756 [05:32<01:40,  1.78it/s, now=None]\u001b[A\n",
      "t:  77%|███████████████████████████████████████            | 579/756 [05:33<01:43,  1.72it/s, now=None]\u001b[A\n",
      "t:  77%|███████████████████████████████████████▏           | 580/756 [05:33<01:43,  1.70it/s, now=None]\u001b[A\n",
      "t:  77%|███████████████████████████████████████▏           | 581/756 [05:34<01:37,  1.80it/s, now=None]\u001b[A\n",
      "t:  77%|███████████████████████████████████████▎           | 582/756 [05:34<01:33,  1.87it/s, now=None]\u001b[A\n",
      "t:  77%|███████████████████████████████████████▎           | 583/756 [05:35<01:31,  1.90it/s, now=None]\u001b[A\n",
      "t:  77%|███████████████████████████████████████▍           | 584/756 [05:35<01:34,  1.82it/s, now=None]\u001b[A\n",
      "t:  77%|███████████████████████████████████████▍           | 585/756 [05:36<01:33,  1.83it/s, now=None]\u001b[A\n",
      "t:  78%|███████████████████████████████████████▌           | 586/756 [05:36<01:32,  1.84it/s, now=None]\u001b[A\n",
      "t:  78%|███████████████████████████████████████▌           | 587/756 [05:37<01:35,  1.78it/s, now=None]\u001b[A\n",
      "t:  78%|███████████████████████████████████████▋           | 588/756 [05:37<01:32,  1.81it/s, now=None]\u001b[A\n",
      "t:  78%|███████████████████████████████████████▋           | 589/756 [05:38<01:31,  1.83it/s, now=None]\u001b[A\n",
      "t:  78%|███████████████████████████████████████▊           | 590/756 [05:39<01:31,  1.82it/s, now=None]\u001b[A\n",
      "t:  78%|███████████████████████████████████████▊           | 591/756 [05:39<01:32,  1.79it/s, now=None]\u001b[A\n",
      "t:  78%|███████████████████████████████████████▉           | 592/756 [05:40<01:29,  1.84it/s, now=None]\u001b[A\n",
      "t:  78%|████████████████████████████████████████           | 593/756 [05:40<01:28,  1.85it/s, now=None]\u001b[A\n",
      "t:  79%|████████████████████████████████████████           | 594/756 [05:41<01:29,  1.81it/s, now=None]\u001b[A\n",
      "t:  79%|████████████████████████████████████████▏          | 595/756 [05:41<01:31,  1.75it/s, now=None]\u001b[A\n",
      "t:  79%|████████████████████████████████████████▏          | 596/756 [05:42<01:31,  1.74it/s, now=None]\u001b[A\n",
      "t:  79%|████████████████████████████████████████▎          | 597/756 [05:43<01:31,  1.74it/s, now=None]\u001b[A\n",
      "t:  79%|████████████████████████████████████████▎          | 598/756 [05:43<01:30,  1.75it/s, now=None]\u001b[A\n",
      "t:  79%|████████████████████████████████████████▍          | 599/756 [05:44<01:29,  1.75it/s, now=None]\u001b[A\n",
      "t:  79%|████████████████████████████████████████▍          | 600/756 [05:44<01:29,  1.74it/s, now=None]\u001b[A\n",
      "t:  79%|████████████████████████████████████████▌          | 601/756 [05:45<01:29,  1.72it/s, now=None]\u001b[A\n",
      "t:  80%|████████████████████████████████████████▌          | 602/756 [05:45<01:29,  1.71it/s, now=None]\u001b[A\n",
      "t:  80%|████████████████████████████████████████▋          | 603/756 [05:46<01:27,  1.74it/s, now=None]\u001b[A\n",
      "t:  80%|████████████████████████████████████████▋          | 604/756 [05:47<01:26,  1.77it/s, now=None]\u001b[A\n",
      "t:  80%|████████████████████████████████████████▊          | 605/756 [05:47<01:23,  1.82it/s, now=None]\u001b[A\n",
      "t:  80%|████████████████████████████████████████▉          | 606/756 [05:48<01:22,  1.81it/s, now=None]\u001b[A\n",
      "t:  80%|████████████████████████████████████████▉          | 607/756 [05:48<01:22,  1.81it/s, now=None]\u001b[A\n",
      "t:  80%|█████████████████████████████████████████          | 608/756 [05:49<01:24,  1.75it/s, now=None]\u001b[A\n",
      "t:  81%|█████████████████████████████████████████          | 609/756 [05:49<01:24,  1.74it/s, now=None]\u001b[A\n"
     ]
    },
    {
     "name": "stderr",
     "output_type": "stream",
     "text": [
      "t:  81%|█████████████████████████████████████████▏         | 610/756 [05:50<01:21,  1.79it/s, now=None]\u001b[A\n",
      "t:  81%|█████████████████████████████████████████▏         | 611/756 [05:50<01:19,  1.82it/s, now=None]\u001b[A\n",
      "t:  81%|█████████████████████████████████████████▎         | 612/756 [05:51<01:18,  1.83it/s, now=None]\u001b[A\n",
      "t:  81%|█████████████████████████████████████████▎         | 613/756 [05:51<01:16,  1.87it/s, now=None]\u001b[A"
     ]
    }
   ],
   "source": [
    "white_clip.write_gif(\"report_resources/project_video.gif\",fps=15)\n",
    "challenge_clip.write_gif(\"report_resources/challenge_video.gif\",fps=15)\n",
    "#challenge_clip.write_gif(\"test_videos_output/challenge.gif\",fps=15)"
   ]
  }
 ],
 "metadata": {
  "kernelspec": {
   "display_name": "Python 3",
   "language": "python",
   "name": "python3"
  },
  "language_info": {
   "codemirror_mode": {
    "name": "ipython",
    "version": 3
   },
   "file_extension": ".py",
   "mimetype": "text/x-python",
   "name": "python",
   "nbconvert_exporter": "python",
   "pygments_lexer": "ipython3",
   "version": "3.8.8"
  }
 },
 "nbformat": 4,
 "nbformat_minor": 5
}
