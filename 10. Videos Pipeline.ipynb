{
 "cells": [
  {
   "cell_type": "markdown",
   "id": "b13d48ba",
   "metadata": {},
   "source": [
    "# Videos Pipeline"
   ]
  },
  {
   "cell_type": "code",
   "execution_count": 1,
   "id": "853e34a9",
   "metadata": {},
   "outputs": [
    {
     "name": "stderr",
     "output_type": "stream",
     "text": [
      "[NbConvertApp] Converting notebook 0. Functions_Clases Pipeline.ipynb to script\n",
      "[NbConvertApp] Writing 19746 bytes to 0. Functions_Clases Pipeline.py\n"
     ]
    }
   ],
   "source": [
    "# Import everything needed to edit/save/watch video clips\n",
    "from moviepy.editor import VideoFileClip\n",
    "from IPython.display import HTML\n",
    "\n",
    "# load helper functions\n",
    "%run -i \"0. Functions_Clases Pipeline.py\"\n",
    "%run -i \"Line.py\"\n",
    "\n",
    "# Load Camera calibration params\n",
    "[ret, mtx, dist, rvecs, tvecs] = pickle.load(open( \"pickle_data/camera_calibration_params.p\", \"rb\" ) )\n"
   ]
  },
  {
   "cell_type": "code",
   "execution_count": 2,
   "id": "32dad634",
   "metadata": {},
   "outputs": [],
   "source": [
    "def process_frame(img):\n",
    "    \n",
    "    ###### Resize image\n",
    "    img = resizeImage(img)\n",
    "\n",
    "    ###### Undistort image\n",
    "    undistorted = undistort_image(img, mtx, dist)\n",
    "  \n",
    "    ###### Color Enhancement\n",
    "\n",
    "    imageCE = colorEnhancement(img)\n",
    "   \n",
    "    ###### GrayScale\n",
    "    imageGray = grayscale(imageCE)\n",
    "\n",
    "\n",
    "    ###### Gauss Smoothing\n",
    "    imageGauss = gaussian_blur(imageGray,kernel_size=5) \n",
    "    \n",
    "    #### Edge detection\n",
    "    sbinary = sobel_thresh(imageGauss, sobel_kernel=5, x_thresh=[80,100], y_thresh=[40,100], mag_thresh=[50,255], dir_thresh=[100,200])\n",
    "\n",
    "    #### ROI\n",
    "    ysize =sbinary.shape[0]\n",
    "    xsize =sbinary.shape[1]\n",
    "\n",
    "    ROI_upperWidth = 350 #Width of the upper horizontal straight in px\n",
    "    ROI_upperHeight = 300 #Height of the upper horizontal straight from the bottom of the image in px\n",
    "    ROI_lowerWidth = 1000 #Width of the lower horizontal straight in px\n",
    "    ROI_lowerHeight = 50  #Height of the lower horizontal straight  from the bottom of the image in px      \n",
    "\n",
    "    limitLL = ((xsize/2)-(ROI_lowerWidth/2),ysize-ROI_lowerHeight);\n",
    "    limitLR = (xsize - ((xsize/2)-(ROI_lowerWidth/2)),ysize-ROI_lowerHeight);\n",
    "    limitUL = ((xsize/2)-(ROI_upperWidth/2), ysize-ROI_upperHeight);\n",
    "    limitUR = ((xsize/2)+(ROI_upperWidth/2), ysize-ROI_upperHeight);\n",
    "    vertices = np.array([[limitLL,limitUL,limitUR , limitLR]], dtype=np.int32)\n",
    "    \n",
    "    imageROI = region_of_interest(sbinary,vertices)\n",
    "\n",
    "    \n",
    "    #### Perspective transform\n",
    "    warped_img,M, Minv = warp_image(imageROI, hwidth = 250 ,offset = 0, height = -600, overplotLines= False )\n",
    "    \n",
    "    #### Find lines\n",
    "    \n",
    "    # Find x line poitns based on histogram values\n",
    "    leftx_base, rightx_base  = find_lane_x_points(warped_img)\n",
    "    \n",
    "    # Update x base points\n",
    "    lineLeft.updateXbase(leftx_base)\n",
    "    lineRight.updateXbase(rightx_base)\n",
    "    \n",
    "    \n",
    "    #Speed up coef with area search\n",
    "    #Left line\n",
    "    if lineLeft.missdetections > 0 or np.any((lineLeft.recent_poly_fits == 0)):\n",
    "        ## Find lane pixels\n",
    "        leftx, lefty, rightx, righty, out_img = find_lane_pixels(warped_img, lineLeft.bestx, lineRight.bestx, showRectangles = False)\n",
    "        \n",
    "        ## Update lane pixels\n",
    "        lineLeft.updatePixels(leftx, lefty)   \n",
    "\n",
    "        # Search blindly image\n",
    "        coeffs_fit_L, lineDetectedL, left_fitx, ploty, img_line  = fit_polynomial(out_img, lineLeft.allx, lineLeft.ally, drawPoly = False)\n",
    "        \n",
    "    else:\n",
    "        # Search based on coefs\n",
    "        leftx, lefty, coeffs_fit_L, lineDetectedL, left_fitx, out_img = search_around_poly(warped_img, lineLeft)\n",
    "        lineLeft.updatePixels(leftx, lefty)  \n",
    "\n",
    "    #Right line\n",
    "    if lineRight.missdetections > 0 or np.any((lineRight.recent_poly_fits == 0)):\n",
    "        ## Update lane pixels\n",
    "        if not(\"rightx\" in locals()) or not(\"righty\" in locals()) :\n",
    "            leftx, lefty, rightx, righty, out_img = find_lane_pixels(warped_img, lineLeft.bestx, lineRight.bestx, showRectangles = False)\n",
    "\n",
    "        lineRight.updatePixels(rightx, righty)\n",
    "        \n",
    "        # Search blindly image\n",
    "        coeffs_fit_R, lineDetectedR, right_fitx, ploty, img_line  = fit_polynomial(out_img, lineRight.allx, lineRight.ally, drawPoly = False)\n",
    "    else:\n",
    "        # Search based on coefs\n",
    "        rightx, righty, coeffs_fit_R, lineDetectedR, right_fitx, out_img = search_around_poly(out_img, lineRight)   \n",
    "        lineRight.updatePixels(rightx, righty)\n",
    "        \n",
    "           \n",
    "    #Update line class instances\n",
    "    lineLeft.updateCoeffsLine(lineDetectedL, coeffs_fit_L, left_fitx, lineLeft.poly_ploty,coefLimits=[0.01,1,100],movingAvg=5 )\n",
    "    lineRight.updateCoeffsLine(lineDetectedR, coeffs_fit_R,right_fitx,lineRight.poly_ploty,coefLimits=[0.01,1,100],movingAvg=5 )\n",
    "        \n",
    "\n",
    "        \n",
    "    #Sanity check line width\n",
    "    if left_fitx.any and right_fitx.any and len(lineLeft.recent_poly_fits) >1 and len(lineRight.recent_poly_fits) >1:  # If vectors are empty do nothing\n",
    "        # If separation ok, update stage vectors\n",
    "        if rightSeparation(left_fitx, right_fitx, limitDist = 100):\n",
    "            pass\n",
    "            #lineLeft.poly_plotx_staged = left_fitx \n",
    "            #lineRight.poly_plotx_staged = right_fitx\n",
    "        else: # If separation not ok, use stage vectors\n",
    "            print(\"Wrong separation between lines\")\n",
    "            #Discard last fit\n",
    "            lineLeft.recent_poly_fits = lineLeft.recent_poly_fits[:-1]\n",
    "            lineLeft.poly_best_fit = lineLeft.recent_poly_fits[-1]\n",
    "            lineLeft.poly_plotx = np.polyval(lineLeft.poly_best_fit, lineLeft.poly_ploty)\n",
    "            \n",
    "            lineRight.recent_poly_fits = lineRight.recent_poly_fits[:-1]\n",
    "            lineRight.poly_best_fit = lineRight.recent_poly_fits[-1]\n",
    "            lineRight.poly_plotx = np.polyval(lineRight.poly_best_fit, lineRight.poly_ploty)\n",
    "            \n",
    "                \n",
    "                \n",
    "                \n",
    "            lineLeft.missdetections += 1\n",
    "            lineRight.missdetections += 1\n",
    "    \n",
    "    ### Unwarp images\n",
    "    \n",
    "    #color_warp = np.zeros_like(out_img).astype(np.uint8)\n",
    "    color_warp = out_img\n",
    "    #color_warp = np.dstack((warp_zero, warp_zero, warp_zero))\n",
    "    \n",
    "    pts_left = np.array([np.transpose(np.vstack([lineLeft.poly_plotx, lineLeft.poly_ploty]))])\n",
    "    pts_right = np.array([np.flipud(np.transpose(np.vstack([lineRight.poly_plotx, lineRight.poly_ploty])))])\n",
    "    pts = np.hstack((pts_left, pts_right))\n",
    "    \n",
    "     \n",
    "    #Draw the lane onto the warped blank image\n",
    "    cv2.fillPoly(color_warp, np.int_([pts]), (0,255, 0))\n",
    "    \n",
    "    \n",
    "    newwarp = cv2.warpPerspective(color_warp, M, (img.shape[1], img.shape[0])) \n",
    "    result = cv2.addWeighted(img, 1, newwarp, 0.8, 0)\n",
    "    \n",
    "    \n",
    "    ### Anotate Radius of curvature\n",
    "    diff, mean, text = checkRadius(lineLeft, lineRight )\n",
    "\n",
    "    result_annotated = cv2.putText(result, text, org= (50, 50), fontFace=cv2.FONT_HERSHEY_SIMPLEX, \n",
    "                   fontScale=2, color= (255, 255, 255), thickness=2, lineType=cv2.LINE_AA)\n",
    "    \n",
    "\n",
    "    ### Anotate Vehicle position\n",
    "    dev, text = calculateDeviation(result, lineLeft,lineRight,)\n",
    "\n",
    "    result_annotated = cv2.putText(result, text, org= (50, 100), fontFace=cv2.FONT_HERSHEY_SIMPLEX, \n",
    "                       fontScale=2, color= (255, 255, 255), thickness=2, lineType=cv2.LINE_AA)\n",
    "      \n",
    " \n",
    "    #out = np.dstack((out_img*255, out_img*255, out_img*255))\n",
    "    \n",
    "    return result_annotated"
   ]
  },
  {
   "cell_type": "code",
   "execution_count": 3,
   "id": "e5462762",
   "metadata": {
    "scrolled": true
   },
   "outputs": [
    {
     "name": "stderr",
     "output_type": "stream",
     "text": [
      "\r",
      "t:   0%|                                                             | 0/250 [00:00<?, ?it/s, now=None]"
     ]
    },
    {
     "name": "stdout",
     "output_type": "stream",
     "text": [
      "Moviepy - Building video output_videos/solidWhiteRight.mp4.\n",
      "Moviepy - Writing video output_videos/solidWhiteRight.mp4\n",
      "\n"
     ]
    },
    {
     "name": "stderr",
     "output_type": "stream",
     "text": [
      "t:  76%|██████████████████████████████████████▌            | 189/250 [00:46<00:15,  3.95it/s, now=None]"
     ]
    },
    {
     "name": "stdout",
     "output_type": "stream",
     "text": [
      "Wrong separation between lines\n"
     ]
    },
    {
     "name": "stderr",
     "output_type": "stream",
     "text": [
      "                                                                                                       \r"
     ]
    },
    {
     "name": "stdout",
     "output_type": "stream",
     "text": [
      "Moviepy - Done !\n",
      "Moviepy - video ready output_videos/solidWhiteRight.mp4\n",
      "Wall time: 1min 1s\n"
     ]
    }
   ],
   "source": [
    "# Instanciate cLine classes\n",
    "lineLeft = Line()\n",
    "lineRight = Line()\n",
    "\n",
    "\n",
    "white_output = 'output_videos/solidWhiteRight.mp4'\n",
    "clip1 = VideoFileClip(\"test_videos/project_video.mp4\").subclip(0,10)\n",
    "#clip1 = VideoFileClip(\"test_videos/project_video.mp4\")\n",
    "white_clip = clip1.fl_image(process_frame) #NOTE: this function expects color images!!\n",
    "%time white_clip.write_videofile(white_output, audio=False)"
   ]
  },
  {
   "cell_type": "code",
   "execution_count": 4,
   "id": "3384229a",
   "metadata": {
    "scrolled": false
   },
   "outputs": [
    {
     "data": {
      "text/html": [
       "\n",
       "<video width=\"960\" height=\"540\" controls>\n",
       "  <source src=\"output_videos/solidWhiteRight.mp4\">\n",
       "</video>\n"
      ],
      "text/plain": [
       "<IPython.core.display.HTML object>"
      ]
     },
     "execution_count": 4,
     "metadata": {},
     "output_type": "execute_result"
    }
   ],
   "source": [
    "HTML(\"\"\"\n",
    "<video width=\"960\" height=\"540\" controls>\n",
    "  <source src=\"{0}\">\n",
    "</video>\n",
    "\"\"\".format(white_output))"
   ]
  },
  {
   "cell_type": "code",
   "execution_count": 5,
   "id": "c275064e",
   "metadata": {},
   "outputs": [
    {
     "name": "stderr",
     "output_type": "stream",
     "text": [
      "\r",
      "t:   0%|                                                             | 0/485 [00:00<?, ?it/s, now=None]"
     ]
    },
    {
     "name": "stdout",
     "output_type": "stream",
     "text": [
      "Moviepy - Building video output_videos/challenge_video.mp4.\n",
      "Moviepy - Writing video output_videos/challenge_video.mp4\n",
      "\n",
      "Wrong separation between lines\n"
     ]
    },
    {
     "name": "stderr",
     "output_type": "stream",
     "text": [
      "t:   1%|▍                                                    | 4/485 [00:00<01:51,  4.32it/s, now=None]"
     ]
    },
    {
     "name": "stdout",
     "output_type": "stream",
     "text": [
      "Wrong separation between lines\n"
     ]
    },
    {
     "name": "stderr",
     "output_type": "stream",
     "text": [
      "\r",
      "t:   1%|▌                                                    | 5/485 [00:01<01:48,  4.44it/s, now=None]"
     ]
    },
    {
     "name": "stdout",
     "output_type": "stream",
     "text": [
      "Wrong separation between lines\n"
     ]
    },
    {
     "name": "stderr",
     "output_type": "stream",
     "text": [
      "\r",
      "t:   1%|▋                                                    | 6/485 [00:01<01:47,  4.46it/s, now=None]"
     ]
    },
    {
     "name": "stdout",
     "output_type": "stream",
     "text": [
      "Wrong separation between lines\n"
     ]
    },
    {
     "name": "stderr",
     "output_type": "stream",
     "text": [
      "\r",
      "t:   1%|▊                                                    | 7/485 [00:01<01:46,  4.49it/s, now=None]"
     ]
    },
    {
     "name": "stdout",
     "output_type": "stream",
     "text": [
      "Wrong separation between lines\n"
     ]
    },
    {
     "name": "stderr",
     "output_type": "stream",
     "text": [
      "\r",
      "t:   2%|▊                                                    | 8/485 [00:01<01:46,  4.47it/s, now=None]"
     ]
    },
    {
     "name": "stdout",
     "output_type": "stream",
     "text": [
      "Wrong separation between lines\n"
     ]
    },
    {
     "name": "stderr",
     "output_type": "stream",
     "text": [
      "\r",
      "t:   2%|▉                                                    | 9/485 [00:02<01:46,  4.49it/s, now=None]"
     ]
    },
    {
     "name": "stdout",
     "output_type": "stream",
     "text": [
      "Wrong separation between lines\n"
     ]
    },
    {
     "name": "stderr",
     "output_type": "stream",
     "text": [
      "\r",
      "t:   2%|█                                                   | 10/485 [00:02<01:45,  4.52it/s, now=None]"
     ]
    },
    {
     "name": "stdout",
     "output_type": "stream",
     "text": [
      "Wrong separation between lines\n"
     ]
    },
    {
     "name": "stderr",
     "output_type": "stream",
     "text": [
      "\r",
      "t:   2%|█▏                                                  | 11/485 [00:02<01:45,  4.49it/s, now=None]"
     ]
    },
    {
     "name": "stdout",
     "output_type": "stream",
     "text": [
      "Wrong separation between lines\n"
     ]
    },
    {
     "name": "stderr",
     "output_type": "stream",
     "text": [
      "\r",
      "t:   2%|█▎                                                  | 12/485 [00:02<01:44,  4.53it/s, now=None]"
     ]
    },
    {
     "name": "stdout",
     "output_type": "stream",
     "text": [
      "Wrong separation between lines\n"
     ]
    },
    {
     "name": "stderr",
     "output_type": "stream",
     "text": [
      "\r",
      "t:   3%|█▍                                                  | 13/485 [00:02<01:44,  4.51it/s, now=None]"
     ]
    },
    {
     "name": "stdout",
     "output_type": "stream",
     "text": [
      "Wrong separation between lines\n"
     ]
    },
    {
     "name": "stderr",
     "output_type": "stream",
     "text": [
      "\r",
      "t:   3%|█▌                                                  | 14/485 [00:03<01:45,  4.48it/s, now=None]"
     ]
    },
    {
     "name": "stdout",
     "output_type": "stream",
     "text": [
      "Wrong separation between lines\n",
      "Wrong separation between lines\n"
     ]
    },
    {
     "name": "stderr",
     "output_type": "stream",
     "text": [
      "t:   3%|█▋                                                  | 16/485 [00:03<01:43,  4.52it/s, now=None]"
     ]
    },
    {
     "name": "stdout",
     "output_type": "stream",
     "text": [
      "Wrong separation between lines\n"
     ]
    },
    {
     "name": "stderr",
     "output_type": "stream",
     "text": [
      "\r",
      "t:   4%|█▊                                                  | 17/485 [00:03<01:41,  4.62it/s, now=None]"
     ]
    },
    {
     "name": "stdout",
     "output_type": "stream",
     "text": [
      "Wrong separation between lines\n"
     ]
    },
    {
     "name": "stderr",
     "output_type": "stream",
     "text": [
      "\r",
      "t:   4%|█▉                                                  | 18/485 [00:04<01:43,  4.52it/s, now=None]"
     ]
    },
    {
     "name": "stdout",
     "output_type": "stream",
     "text": [
      "Wrong separation between lines\n"
     ]
    },
    {
     "name": "stderr",
     "output_type": "stream",
     "text": [
      "t:   4%|██▏                                                 | 20/485 [00:04<01:47,  4.33it/s, now=None]"
     ]
    },
    {
     "name": "stdout",
     "output_type": "stream",
     "text": [
      "Wrong separation between lines\n"
     ]
    },
    {
     "name": "stderr",
     "output_type": "stream",
     "text": [
      "t:   5%|██▎                                                 | 22/485 [00:05<01:52,  4.13it/s, now=None]"
     ]
    },
    {
     "name": "stdout",
     "output_type": "stream",
     "text": [
      "Wrong separation between lines\n"
     ]
    },
    {
     "name": "stderr",
     "output_type": "stream",
     "text": [
      "t:   5%|██▌                                                 | 24/485 [00:05<01:44,  4.43it/s, now=None]"
     ]
    },
    {
     "name": "stdout",
     "output_type": "stream",
     "text": [
      "Wrong separation between lines\n"
     ]
    },
    {
     "name": "stderr",
     "output_type": "stream",
     "text": [
      "t:   5%|██▊                                                 | 26/485 [00:05<01:50,  4.15it/s, now=None]"
     ]
    },
    {
     "name": "stdout",
     "output_type": "stream",
     "text": [
      "Wrong separation between lines\n"
     ]
    },
    {
     "name": "stderr",
     "output_type": "stream",
     "text": [
      "\r",
      "t:   6%|██▉                                                 | 27/485 [00:06<01:49,  4.18it/s, now=None]"
     ]
    },
    {
     "name": "stdout",
     "output_type": "stream",
     "text": [
      "Wrong separation between lines\n"
     ]
    },
    {
     "name": "stderr",
     "output_type": "stream",
     "text": [
      "\r",
      "t:   6%|███                                                 | 28/485 [00:06<01:49,  4.18it/s, now=None]"
     ]
    },
    {
     "name": "stdout",
     "output_type": "stream",
     "text": [
      "Wrong separation between lines\n"
     ]
    },
    {
     "name": "stderr",
     "output_type": "stream",
     "text": [
      "\r",
      "t:   6%|███                                                 | 29/485 [00:06<01:52,  4.04it/s, now=None]"
     ]
    },
    {
     "name": "stdout",
     "output_type": "stream",
     "text": [
      "Wrong separation between lines\n"
     ]
    },
    {
     "name": "stderr",
     "output_type": "stream",
     "text": [
      "\r",
      "t:   6%|███▏                                                | 30/485 [00:06<01:53,  4.02it/s, now=None]"
     ]
    },
    {
     "name": "stdout",
     "output_type": "stream",
     "text": [
      "Wrong separation between lines\n"
     ]
    },
    {
     "name": "stderr",
     "output_type": "stream",
     "text": [
      "\r",
      "t:   6%|███▎                                                | 31/485 [00:07<01:49,  4.14it/s, now=None]"
     ]
    },
    {
     "name": "stdout",
     "output_type": "stream",
     "text": [
      "Wrong separation between lines\n"
     ]
    },
    {
     "name": "stderr",
     "output_type": "stream",
     "text": [
      "\r",
      "t:   7%|███▍                                                | 32/485 [00:07<01:50,  4.11it/s, now=None]"
     ]
    },
    {
     "name": "stdout",
     "output_type": "stream",
     "text": [
      "Wrong separation between lines\n"
     ]
    },
    {
     "name": "stderr",
     "output_type": "stream",
     "text": [
      "\r",
      "t:   7%|███▌                                                | 33/485 [00:07<01:52,  4.03it/s, now=None]"
     ]
    },
    {
     "name": "stdout",
     "output_type": "stream",
     "text": [
      "Wrong separation between lines\n"
     ]
    },
    {
     "name": "stderr",
     "output_type": "stream",
     "text": [
      "\r",
      "t:   7%|███▋                                                | 34/485 [00:07<01:50,  4.07it/s, now=None]"
     ]
    },
    {
     "name": "stdout",
     "output_type": "stream",
     "text": [
      "Wrong separation between lines\n"
     ]
    },
    {
     "name": "stderr",
     "output_type": "stream",
     "text": [
      "\r",
      "t:   7%|███▊                                                | 35/485 [00:08<01:50,  4.06it/s, now=None]"
     ]
    },
    {
     "name": "stdout",
     "output_type": "stream",
     "text": [
      "Wrong separation between lines\n"
     ]
    },
    {
     "name": "stderr",
     "output_type": "stream",
     "text": [
      "\r",
      "t:   7%|███▊                                                | 36/485 [00:08<01:49,  4.09it/s, now=None]"
     ]
    },
    {
     "name": "stdout",
     "output_type": "stream",
     "text": [
      "missdetection\n",
      "[ 4.13596110e-04 -4.53386186e-01  1.22064888e+02]\n",
      "Wrong separation between lines\n"
     ]
    },
    {
     "name": "stderr",
     "output_type": "stream",
     "text": [
      "\r",
      "t:   8%|███▉                                                | 37/485 [00:08<01:49,  4.07it/s, now=None]"
     ]
    },
    {
     "name": "stdout",
     "output_type": "stream",
     "text": [
      "Wrong separation between lines\n"
     ]
    },
    {
     "name": "stderr",
     "output_type": "stream",
     "text": [
      "\r",
      "t:   8%|████                                                | 38/485 [00:08<01:49,  4.09it/s, now=None]"
     ]
    },
    {
     "name": "stdout",
     "output_type": "stream",
     "text": [
      "missdetection\n",
      "[ 3.28607711e-04 -3.85569916e-01  1.16584287e+02]\n",
      "Wrong separation between lines\n"
     ]
    },
    {
     "name": "stderr",
     "output_type": "stream",
     "text": [
      "\r",
      "t:   8%|████▏                                               | 39/485 [00:09<01:49,  4.09it/s, now=None]"
     ]
    },
    {
     "name": "stdout",
     "output_type": "stream",
     "text": [
      "Wrong separation between lines\n"
     ]
    },
    {
     "name": "stderr",
     "output_type": "stream",
     "text": [
      "\r",
      "t:   8%|████▎                                               | 40/485 [00:09<01:47,  4.16it/s, now=None]"
     ]
    },
    {
     "name": "stdout",
     "output_type": "stream",
     "text": [
      "missdetection\n",
      "[ 4.83153167e-04 -5.90645944e-01  1.85310019e+02]\n",
      "Wrong separation between lines\n"
     ]
    },
    {
     "name": "stderr",
     "output_type": "stream",
     "text": [
      "\r",
      "t:   8%|████▍                                               | 41/485 [00:09<01:45,  4.19it/s, now=None]"
     ]
    },
    {
     "name": "stdout",
     "output_type": "stream",
     "text": [
      "missdetection\n",
      "[ 4.68203197e-04 -5.94428603e-01  1.95180646e+02]\n",
      "Wrong separation between lines\n"
     ]
    },
    {
     "name": "stderr",
     "output_type": "stream",
     "text": [
      "\r",
      "t:   9%|████▌                                               | 42/485 [00:09<01:44,  4.22it/s, now=None]"
     ]
    },
    {
     "name": "stdout",
     "output_type": "stream",
     "text": [
      "missdetection\n",
      "[ 4.35218118e-04 -5.50250042e-01  1.79951835e+02]\n",
      "Wrong separation between lines\n"
     ]
    },
    {
     "name": "stderr",
     "output_type": "stream",
     "text": [
      "\r",
      "t:   9%|████▌                                               | 43/485 [00:10<01:41,  4.37it/s, now=None]"
     ]
    },
    {
     "name": "stdout",
     "output_type": "stream",
     "text": [
      "missdetection\n",
      "[ 4.36971220e-04 -5.28944904e-01  1.68019585e+02]\n"
     ]
    },
    {
     "name": "stderr",
     "output_type": "stream",
     "text": [
      "\r",
      "t:   9%|████▋                                               | 44/485 [00:10<01:45,  4.19it/s, now=None]"
     ]
    },
    {
     "name": "stdout",
     "output_type": "stream",
     "text": [
      "missdetection\n",
      "[ 5.48878788e-04 -6.83202402e-01  2.18205693e+02]\n"
     ]
    },
    {
     "name": "stderr",
     "output_type": "stream",
     "text": [
      "\r",
      "t:   9%|████▊                                               | 45/485 [00:10<01:50,  3.98it/s, now=None]"
     ]
    },
    {
     "name": "stdout",
     "output_type": "stream",
     "text": [
      "missdetection\n",
      "[ 5.69930211e-04 -7.04574965e-01  2.23632740e+02]\n"
     ]
    },
    {
     "name": "stderr",
     "output_type": "stream",
     "text": [
      "\r",
      "t:   9%|████▉                                               | 46/485 [00:10<01:50,  3.96it/s, now=None]"
     ]
    },
    {
     "name": "stdout",
     "output_type": "stream",
     "text": [
      "missdetection\n",
      "[ 9.48850198e-04 -1.21764771e+00  3.97637594e+02]\n"
     ]
    },
    {
     "name": "stderr",
     "output_type": "stream",
     "text": [
      "\r",
      "t:  10%|█████                                               | 47/485 [00:11<01:47,  4.06it/s, now=None]"
     ]
    },
    {
     "name": "stdout",
     "output_type": "stream",
     "text": [
      "missdetection\n",
      "[ 1.10290943e-03 -1.40382490e+00  4.52974863e+02]\n"
     ]
    },
    {
     "name": "stderr",
     "output_type": "stream",
     "text": [
      "\r",
      "t:  10%|█████▏                                              | 48/485 [00:11<01:52,  3.88it/s, now=None]"
     ]
    },
    {
     "name": "stdout",
     "output_type": "stream",
     "text": [
      "missdetection\n",
      "[ 9.37365490e-04 -1.19514061e+00  3.91119161e+02]\n"
     ]
    },
    {
     "name": "stderr",
     "output_type": "stream",
     "text": [
      "\r",
      "t:  10%|█████▎                                              | 49/485 [00:11<01:51,  3.90it/s, now=None]"
     ]
    },
    {
     "name": "stdout",
     "output_type": "stream",
     "text": [
      "missdetection\n",
      "[-2.49277768e-04  3.80922163e-01 -1.33543178e+02]\n"
     ]
    },
    {
     "name": "stderr",
     "output_type": "stream",
     "text": [
      "\r",
      "t:  10%|█████▎                                              | 50/485 [00:11<01:53,  3.85it/s, now=None]"
     ]
    },
    {
     "name": "stdout",
     "output_type": "stream",
     "text": [
      "missdetection\n",
      "[-6.59946488e-04  9.64664921e-01 -3.40082239e+02]\n"
     ]
    },
    {
     "name": "stderr",
     "output_type": "stream",
     "text": [
      "\r",
      "t:  11%|█████▍                                              | 51/485 [00:12<01:52,  3.85it/s, now=None]"
     ]
    },
    {
     "name": "stdout",
     "output_type": "stream",
     "text": [
      "missdetection\n",
      "[ 1.17160930e-03 -1.49253816e+00  4.81253428e+02]\n"
     ]
    },
    {
     "name": "stderr",
     "output_type": "stream",
     "text": [
      "\r",
      "t:  11%|█████▌                                              | 52/485 [00:12<01:51,  3.90it/s, now=None]"
     ]
    },
    {
     "name": "stdout",
     "output_type": "stream",
     "text": [
      "missdetection\n",
      "[ 2.92275216e-04 -3.68025321e-01  1.23522546e+02]\n"
     ]
    },
    {
     "name": "stderr",
     "output_type": "stream",
     "text": [
      "\r",
      "t:  11%|█████▋                                              | 53/485 [00:12<01:48,  3.99it/s, now=None]"
     ]
    },
    {
     "name": "stdout",
     "output_type": "stream",
     "text": [
      "missdetection\n",
      "[ 2.76859536e-04 -4.15504627e-01  1.61888034e+02]\n"
     ]
    },
    {
     "name": "stderr",
     "output_type": "stream",
     "text": [
      "\r",
      "t:  11%|█████▊                                              | 54/485 [00:12<01:48,  3.97it/s, now=None]"
     ]
    },
    {
     "name": "stdout",
     "output_type": "stream",
     "text": [
      "missdetection\n",
      "[ 3.92435591e-04 -5.50009492e-01  2.00248241e+02]\n"
     ]
    },
    {
     "name": "stderr",
     "output_type": "stream",
     "text": [
      "\r",
      "t:  11%|█████▉                                              | 55/485 [00:13<01:47,  3.99it/s, now=None]"
     ]
    },
    {
     "name": "stdout",
     "output_type": "stream",
     "text": [
      "missdetection\n",
      "[ 3.10177953e-04 -4.40815707e-01  1.64308758e+02]\n"
     ]
    },
    {
     "name": "stderr",
     "output_type": "stream",
     "text": [
      "\r",
      "t:  12%|██████                                              | 56/485 [00:13<01:44,  4.11it/s, now=None]"
     ]
    },
    {
     "name": "stdout",
     "output_type": "stream",
     "text": [
      "missdetection\n",
      "[ 3.07925467e-04 -4.60420599e-01  1.78661500e+02]\n"
     ]
    },
    {
     "name": "stderr",
     "output_type": "stream",
     "text": [
      "\r",
      "t:  12%|██████                                              | 57/485 [00:13<01:45,  4.06it/s, now=None]"
     ]
    },
    {
     "name": "stdout",
     "output_type": "stream",
     "text": [
      "missdetection\n",
      "[ 3.09350107e-04 -4.79443465e-01  1.90927028e+02]\n"
     ]
    },
    {
     "name": "stderr",
     "output_type": "stream",
     "text": [
      "\r",
      "t:  12%|██████▏                                             | 58/485 [00:13<01:45,  4.04it/s, now=None]"
     ]
    },
    {
     "name": "stdout",
     "output_type": "stream",
     "text": [
      "Wrong separation between lines\n",
      "missdetection\n",
      "[ 2.17337997e-04 -3.45396753e-01  1.42809551e+02]\n"
     ]
    },
    {
     "name": "stderr",
     "output_type": "stream",
     "text": [
      "t:  12%|██████▍                                             | 60/485 [00:14<01:41,  4.19it/s, now=None]"
     ]
    },
    {
     "name": "stdout",
     "output_type": "stream",
     "text": [
      "missdetection\n",
      "[ 3.68942001e-04 -5.16371495e-01  1.89501550e+02]\n"
     ]
    },
    {
     "name": "stderr",
     "output_type": "stream",
     "text": [
      "\r",
      "t:  13%|██████▌                                             | 61/485 [00:14<01:42,  4.15it/s, now=None]"
     ]
    },
    {
     "name": "stdout",
     "output_type": "stream",
     "text": [
      "missdetection\n",
      "[ 3.99492758e-04 -5.54575209e-01  2.01093896e+02]\n"
     ]
    },
    {
     "name": "stderr",
     "output_type": "stream",
     "text": [
      "\r",
      "t:  13%|██████▋                                             | 62/485 [00:14<01:45,  4.01it/s, now=None]"
     ]
    },
    {
     "name": "stdout",
     "output_type": "stream",
     "text": [
      "Wrong separation between lines\n"
     ]
    },
    {
     "name": "stderr",
     "output_type": "stream",
     "text": [
      "t:  13%|██████▊                                             | 64/485 [00:15<01:42,  4.12it/s, now=None]"
     ]
    },
    {
     "name": "stdout",
     "output_type": "stream",
     "text": [
      "Wrong separation between lines\n"
     ]
    },
    {
     "name": "stderr",
     "output_type": "stream",
     "text": [
      "\r",
      "t:  13%|██████▉                                             | 65/485 [00:15<01:42,  4.10it/s, now=None]"
     ]
    },
    {
     "name": "stdout",
     "output_type": "stream",
     "text": [
      "Wrong separation between lines\n"
     ]
    },
    {
     "name": "stderr",
     "output_type": "stream",
     "text": [
      "\r",
      "t:  14%|███████                                             | 66/485 [00:15<01:39,  4.20it/s, now=None]"
     ]
    },
    {
     "name": "stdout",
     "output_type": "stream",
     "text": [
      "Wrong separation between lines\n"
     ]
    },
    {
     "name": "stderr",
     "output_type": "stream",
     "text": [
      "\r",
      "t:  14%|███████▏                                            | 67/485 [00:16<01:38,  4.26it/s, now=None]"
     ]
    },
    {
     "name": "stdout",
     "output_type": "stream",
     "text": [
      "Wrong separation between lines\n"
     ]
    },
    {
     "name": "stderr",
     "output_type": "stream",
     "text": [
      "\r",
      "t:  14%|███████▎                                            | 68/485 [00:16<01:37,  4.28it/s, now=None]"
     ]
    },
    {
     "name": "stdout",
     "output_type": "stream",
     "text": [
      "Wrong separation between lines\n"
     ]
    },
    {
     "name": "stderr",
     "output_type": "stream",
     "text": [
      "\r",
      "t:  14%|███████▍                                            | 69/485 [00:16<01:36,  4.33it/s, now=None]"
     ]
    },
    {
     "name": "stdout",
     "output_type": "stream",
     "text": [
      "Wrong separation between lines\n"
     ]
    },
    {
     "name": "stderr",
     "output_type": "stream",
     "text": [
      "\r",
      "t:  14%|███████▌                                            | 70/485 [00:16<01:35,  4.37it/s, now=None]"
     ]
    },
    {
     "name": "stdout",
     "output_type": "stream",
     "text": [
      "Wrong separation between lines\n"
     ]
    },
    {
     "name": "stderr",
     "output_type": "stream",
     "text": [
      "\r",
      "t:  15%|███████▌                                            | 71/485 [00:16<01:34,  4.40it/s, now=None]"
     ]
    },
    {
     "name": "stdout",
     "output_type": "stream",
     "text": [
      "Wrong separation between lines\n"
     ]
    },
    {
     "name": "stderr",
     "output_type": "stream",
     "text": [
      "\r",
      "t:  15%|███████▋                                            | 72/485 [00:17<01:35,  4.33it/s, now=None]"
     ]
    },
    {
     "name": "stdout",
     "output_type": "stream",
     "text": [
      "Wrong separation between lines\n"
     ]
    },
    {
     "name": "stderr",
     "output_type": "stream",
     "text": [
      "\r",
      "t:  15%|███████▊                                            | 73/485 [00:17<01:33,  4.41it/s, now=None]"
     ]
    },
    {
     "name": "stdout",
     "output_type": "stream",
     "text": [
      "missdetection\n",
      "[ 3.66756894e-04 -4.61934259e-01  1.57395922e+02]\n",
      "Wrong separation between lines\n"
     ]
    },
    {
     "name": "stderr",
     "output_type": "stream",
     "text": [
      "\r",
      "t:  15%|███████▉                                            | 74/485 [00:17<01:34,  4.37it/s, now=None]"
     ]
    },
    {
     "name": "stdout",
     "output_type": "stream",
     "text": [
      "missdetection\n",
      "[ 1.43767536e-03 -1.88316831e+00  6.34722802e+02]\n"
     ]
    },
    {
     "name": "stderr",
     "output_type": "stream",
     "text": [
      "\r",
      "t:  15%|████████                                            | 75/485 [00:17<01:35,  4.28it/s, now=None]"
     ]
    },
    {
     "name": "stdout",
     "output_type": "stream",
     "text": [
      "missdetection\n",
      "[ 1.43561297e-03 -1.86953076e+00  6.27208548e+02]\n"
     ]
    },
    {
     "name": "stderr",
     "output_type": "stream",
     "text": [
      "\r",
      "t:  16%|████████▏                                           | 76/485 [00:18<01:37,  4.19it/s, now=None]"
     ]
    },
    {
     "name": "stdout",
     "output_type": "stream",
     "text": [
      "missdetection\n",
      "[ 1.52113009e-03 -1.97060960e+00  6.56844473e+02]\n"
     ]
    },
    {
     "name": "stderr",
     "output_type": "stream",
     "text": [
      "\r",
      "t:  16%|████████▎                                           | 77/485 [00:18<01:36,  4.22it/s, now=None]"
     ]
    },
    {
     "name": "stdout",
     "output_type": "stream",
     "text": [
      "missdetection\n",
      "[ 1.56117191e-03 -2.01809534e+00  6.71008210e+02]\n"
     ]
    },
    {
     "name": "stderr",
     "output_type": "stream",
     "text": [
      "\r",
      "t:  16%|████████▎                                           | 78/485 [00:18<01:35,  4.27it/s, now=None]"
     ]
    },
    {
     "name": "stdout",
     "output_type": "stream",
     "text": [
      "missdetection\n",
      "[ 1.08176999e-03 -1.38739702e+00  4.61410329e+02]\n"
     ]
    },
    {
     "name": "stderr",
     "output_type": "stream",
     "text": [
      "\r",
      "t:  16%|████████▍                                           | 79/485 [00:18<01:38,  4.10it/s, now=None]"
     ]
    },
    {
     "name": "stdout",
     "output_type": "stream",
     "text": [
      "missdetection\n",
      "[ 7.01790538e-04 -8.94289984e-01  3.02128950e+02]\n"
     ]
    },
    {
     "name": "stderr",
     "output_type": "stream",
     "text": [
      "\r",
      "t:  16%|████████▌                                           | 80/485 [00:19<01:41,  4.00it/s, now=None]"
     ]
    },
    {
     "name": "stdout",
     "output_type": "stream",
     "text": [
      "Wrong separation between lines\n"
     ]
    },
    {
     "name": "stderr",
     "output_type": "stream",
     "text": [
      "\r",
      "t:  17%|████████▋                                           | 81/485 [00:19<01:38,  4.09it/s, now=None]"
     ]
    },
    {
     "name": "stdout",
     "output_type": "stream",
     "text": [
      "Wrong separation between lines\n"
     ]
    },
    {
     "name": "stderr",
     "output_type": "stream",
     "text": [
      "\r",
      "t:  17%|████████▊                                           | 82/485 [00:19<01:36,  4.19it/s, now=None]"
     ]
    },
    {
     "name": "stdout",
     "output_type": "stream",
     "text": [
      "Wrong separation between lines\n"
     ]
    },
    {
     "name": "stderr",
     "output_type": "stream",
     "text": [
      "\r",
      "t:  17%|████████▉                                           | 83/485 [00:19<01:35,  4.21it/s, now=None]"
     ]
    },
    {
     "name": "stdout",
     "output_type": "stream",
     "text": [
      "Wrong separation between lines\n"
     ]
    },
    {
     "name": "stderr",
     "output_type": "stream",
     "text": [
      "\r",
      "t:  17%|█████████                                           | 84/485 [00:20<01:35,  4.21it/s, now=None]"
     ]
    },
    {
     "name": "stdout",
     "output_type": "stream",
     "text": [
      "Wrong separation between lines\n"
     ]
    },
    {
     "name": "stderr",
     "output_type": "stream",
     "text": [
      "\r",
      "t:  18%|█████████                                           | 85/485 [00:20<01:33,  4.27it/s, now=None]"
     ]
    },
    {
     "name": "stdout",
     "output_type": "stream",
     "text": [
      "Wrong separation between lines\n"
     ]
    },
    {
     "name": "stderr",
     "output_type": "stream",
     "text": [
      "\r",
      "t:  18%|█████████▏                                          | 86/485 [00:20<01:32,  4.30it/s, now=None]"
     ]
    },
    {
     "name": "stdout",
     "output_type": "stream",
     "text": [
      "Wrong separation between lines\n"
     ]
    },
    {
     "name": "stderr",
     "output_type": "stream",
     "text": [
      "\r",
      "t:  18%|█████████▎                                          | 87/485 [00:20<01:33,  4.27it/s, now=None]"
     ]
    },
    {
     "name": "stdout",
     "output_type": "stream",
     "text": [
      "Wrong separation between lines\n"
     ]
    },
    {
     "name": "stderr",
     "output_type": "stream",
     "text": [
      "\r",
      "t:  18%|█████████▍                                          | 88/485 [00:20<01:33,  4.25it/s, now=None]"
     ]
    },
    {
     "name": "stdout",
     "output_type": "stream",
     "text": [
      "Wrong separation between lines\n"
     ]
    },
    {
     "name": "stderr",
     "output_type": "stream",
     "text": [
      "\r",
      "t:  18%|█████████▌                                          | 89/485 [00:21<01:31,  4.31it/s, now=None]"
     ]
    },
    {
     "name": "stdout",
     "output_type": "stream",
     "text": [
      "Wrong separation between lines\n"
     ]
    },
    {
     "name": "stderr",
     "output_type": "stream",
     "text": [
      "\r",
      "t:  19%|█████████▋                                          | 90/485 [00:21<01:31,  4.33it/s, now=None]"
     ]
    },
    {
     "name": "stdout",
     "output_type": "stream",
     "text": [
      "Wrong separation between lines\n"
     ]
    },
    {
     "name": "stderr",
     "output_type": "stream",
     "text": [
      "\r",
      "t:  19%|█████████▊                                          | 91/485 [00:21<01:30,  4.37it/s, now=None]"
     ]
    },
    {
     "name": "stdout",
     "output_type": "stream",
     "text": [
      "Wrong separation between lines\n"
     ]
    },
    {
     "name": "stderr",
     "output_type": "stream",
     "text": [
      "\r",
      "t:  19%|█████████▊                                          | 92/485 [00:21<01:31,  4.28it/s, now=None]"
     ]
    },
    {
     "name": "stdout",
     "output_type": "stream",
     "text": [
      "Wrong separation between lines\n"
     ]
    },
    {
     "name": "stderr",
     "output_type": "stream",
     "text": [
      "\r",
      "t:  19%|█████████▉                                          | 93/485 [00:22<01:31,  4.27it/s, now=None]"
     ]
    },
    {
     "name": "stdout",
     "output_type": "stream",
     "text": [
      "Wrong separation between lines\n"
     ]
    },
    {
     "name": "stderr",
     "output_type": "stream",
     "text": [
      "\r",
      "t:  19%|██████████                                          | 94/485 [00:22<01:31,  4.27it/s, now=None]"
     ]
    },
    {
     "name": "stdout",
     "output_type": "stream",
     "text": [
      "Wrong separation between lines\n"
     ]
    },
    {
     "name": "stderr",
     "output_type": "stream",
     "text": [
      "\r",
      "t:  20%|██████████▏                                         | 95/485 [00:22<01:30,  4.32it/s, now=None]"
     ]
    },
    {
     "name": "stdout",
     "output_type": "stream",
     "text": [
      "Wrong separation between lines\n"
     ]
    },
    {
     "name": "stderr",
     "output_type": "stream",
     "text": [
      "\r",
      "t:  20%|██████████▎                                         | 96/485 [00:22<01:30,  4.29it/s, now=None]"
     ]
    },
    {
     "name": "stdout",
     "output_type": "stream",
     "text": [
      "Wrong separation between lines\n"
     ]
    },
    {
     "name": "stderr",
     "output_type": "stream",
     "text": [
      "\r",
      "t:  20%|██████████▍                                         | 97/485 [00:23<01:28,  4.39it/s, now=None]"
     ]
    },
    {
     "name": "stdout",
     "output_type": "stream",
     "text": [
      "missdetection\n",
      "[ 5.02814114e-04 -6.32953729e-01  2.19635923e+02]\n"
     ]
    },
    {
     "name": "stderr",
     "output_type": "stream",
     "text": [
      "\r",
      "t:  20%|██████████▌                                         | 98/485 [00:23<01:30,  4.29it/s, now=None]"
     ]
    },
    {
     "name": "stdout",
     "output_type": "stream",
     "text": [
      "Wrong separation between lines\n"
     ]
    },
    {
     "name": "stderr",
     "output_type": "stream",
     "text": [
      "\r",
      "t:  20%|██████████▌                                         | 99/485 [00:23<01:28,  4.36it/s, now=None]"
     ]
    },
    {
     "name": "stdout",
     "output_type": "stream",
     "text": [
      "Wrong separation between lines\n"
     ]
    },
    {
     "name": "stderr",
     "output_type": "stream",
     "text": [
      "\r",
      "t:  21%|██████████▌                                        | 100/485 [00:23<01:28,  4.35it/s, now=None]"
     ]
    },
    {
     "name": "stdout",
     "output_type": "stream",
     "text": [
      "Wrong separation between lines\n"
     ]
    },
    {
     "name": "stderr",
     "output_type": "stream",
     "text": [
      "\r",
      "t:  21%|██████████▌                                        | 101/485 [00:23<01:27,  4.41it/s, now=None]"
     ]
    },
    {
     "name": "stdout",
     "output_type": "stream",
     "text": [
      "Wrong separation between lines\n"
     ]
    },
    {
     "name": "stderr",
     "output_type": "stream",
     "text": [
      "\r",
      "t:  21%|██████████▋                                        | 102/485 [00:24<01:26,  4.41it/s, now=None]"
     ]
    },
    {
     "name": "stdout",
     "output_type": "stream",
     "text": [
      "Wrong separation between lines\n",
      "missdetection\n",
      "[ 2.85391068e-04 -3.38727569e-01  1.23025412e+02]\n"
     ]
    },
    {
     "name": "stderr",
     "output_type": "stream",
     "text": [
      "t:  21%|██████████▉                                        | 104/485 [00:24<01:27,  4.34it/s, now=None]"
     ]
    },
    {
     "name": "stdout",
     "output_type": "stream",
     "text": [
      "Wrong separation between lines\n"
     ]
    },
    {
     "name": "stderr",
     "output_type": "stream",
     "text": [
      "\r",
      "t:  22%|███████████                                        | 105/485 [00:24<01:25,  4.44it/s, now=None]"
     ]
    },
    {
     "name": "stdout",
     "output_type": "stream",
     "text": [
      "Wrong separation between lines\n"
     ]
    },
    {
     "name": "stderr",
     "output_type": "stream",
     "text": [
      "\r",
      "t:  22%|███████████▏                                       | 106/485 [00:25<01:26,  4.40it/s, now=None]"
     ]
    },
    {
     "name": "stdout",
     "output_type": "stream",
     "text": [
      "missdetection\n",
      "[ 4.00946553e-04 -5.03644204e-01  1.79502427e+02]\n"
     ]
    },
    {
     "name": "stderr",
     "output_type": "stream",
     "text": [
      "\r",
      "t:  22%|███████████▎                                       | 107/485 [00:25<01:29,  4.22it/s, now=None]"
     ]
    },
    {
     "name": "stdout",
     "output_type": "stream",
     "text": [
      "missdetection\n",
      "[ 1.10612033e-03 -1.41086998e+00  4.74031503e+02]\n"
     ]
    },
    {
     "name": "stderr",
     "output_type": "stream",
     "text": [
      "\r",
      "t:  22%|███████████▎                                       | 108/485 [00:25<01:30,  4.17it/s, now=None]"
     ]
    },
    {
     "name": "stdout",
     "output_type": "stream",
     "text": [
      "missdetection\n",
      "[ 7.50572440e-04 -9.52540290e-01  3.23230691e+02]\n"
     ]
    },
    {
     "name": "stderr",
     "output_type": "stream",
     "text": [
      "\r",
      "t:  22%|███████████▍                                       | 109/485 [00:25<01:32,  4.06it/s, now=None]"
     ]
    },
    {
     "name": "stdout",
     "output_type": "stream",
     "text": [
      "missdetection\n",
      "[ 4.17830826e-04 -5.28747124e-01  1.89701020e+02]\n"
     ]
    },
    {
     "name": "stderr",
     "output_type": "stream",
     "text": [
      "\r",
      "t:  23%|███████████▌                                       | 110/485 [00:26<01:34,  3.95it/s, now=None]"
     ]
    },
    {
     "name": "stdout",
     "output_type": "stream",
     "text": [
      "missdetection\n",
      "[ 1.07752776e-03 -1.38373953e+00  4.65895884e+02]\n"
     ]
    },
    {
     "name": "stderr",
     "output_type": "stream",
     "text": [
      "\r",
      "t:  23%|███████████▋                                       | 111/485 [00:26<01:34,  3.94it/s, now=None]"
     ]
    },
    {
     "name": "stdout",
     "output_type": "stream",
     "text": [
      "missdetection\n",
      "[ 8.95584891e-04 -1.14187716e+00  3.86010738e+02]\n"
     ]
    },
    {
     "name": "stderr",
     "output_type": "stream",
     "text": [
      "\r",
      "t:  23%|███████████▊                                       | 112/485 [00:26<01:35,  3.93it/s, now=None]"
     ]
    },
    {
     "name": "stdout",
     "output_type": "stream",
     "text": [
      "Wrong separation between lines\n"
     ]
    },
    {
     "name": "stderr",
     "output_type": "stream",
     "text": [
      "\r",
      "t:  23%|███████████▉                                       | 113/485 [00:26<01:34,  3.94it/s, now=None]"
     ]
    },
    {
     "name": "stdout",
     "output_type": "stream",
     "text": [
      "Wrong separation between lines\n"
     ]
    },
    {
     "name": "stderr",
     "output_type": "stream",
     "text": [
      "\r",
      "t:  24%|███████████▉                                       | 114/485 [00:27<01:33,  3.97it/s, now=None]"
     ]
    },
    {
     "name": "stdout",
     "output_type": "stream",
     "text": [
      "Wrong separation between lines\n"
     ]
    },
    {
     "name": "stderr",
     "output_type": "stream",
     "text": [
      "\r",
      "t:  24%|████████████                                       | 115/485 [00:27<01:32,  4.02it/s, now=None]"
     ]
    },
    {
     "name": "stdout",
     "output_type": "stream",
     "text": [
      "Wrong separation between lines\n"
     ]
    },
    {
     "name": "stderr",
     "output_type": "stream",
     "text": [
      "\r",
      "t:  24%|████████████▏                                      | 116/485 [00:27<01:28,  4.18it/s, now=None]"
     ]
    },
    {
     "name": "stdout",
     "output_type": "stream",
     "text": [
      "Wrong separation between lines\n"
     ]
    },
    {
     "name": "stderr",
     "output_type": "stream",
     "text": [
      "\r",
      "t:  24%|████████████▎                                      | 117/485 [00:27<01:27,  4.21it/s, now=None]"
     ]
    },
    {
     "name": "stdout",
     "output_type": "stream",
     "text": [
      "missdetection\n",
      "[ 1.29409877e-03 -1.67649355e+00  5.64770400e+02]\n"
     ]
    },
    {
     "name": "stderr",
     "output_type": "stream",
     "text": [
      "\r",
      "t:  24%|████████████▍                                      | 118/485 [00:28<01:30,  4.08it/s, now=None]"
     ]
    },
    {
     "name": "stdout",
     "output_type": "stream",
     "text": [
      "Wrong separation between lines\n"
     ]
    },
    {
     "name": "stderr",
     "output_type": "stream",
     "text": [
      "\r",
      "t:  25%|████████████▌                                      | 119/485 [00:28<01:30,  4.06it/s, now=None]"
     ]
    },
    {
     "name": "stdout",
     "output_type": "stream",
     "text": [
      "Wrong separation between lines\n"
     ]
    },
    {
     "name": "stderr",
     "output_type": "stream",
     "text": [
      "\r",
      "t:  25%|████████████▌                                      | 120/485 [00:28<01:28,  4.11it/s, now=None]"
     ]
    },
    {
     "name": "stdout",
     "output_type": "stream",
     "text": [
      "missdetection\n",
      "[ 5.47828095e-04 -7.02559656e-01  2.47556447e+02]\n"
     ]
    },
    {
     "name": "stderr",
     "output_type": "stream",
     "text": [
      "\r",
      "t:  25%|████████████▋                                      | 121/485 [00:28<01:27,  4.18it/s, now=None]"
     ]
    },
    {
     "name": "stdout",
     "output_type": "stream",
     "text": [
      "Wrong separation between lines\n"
     ]
    },
    {
     "name": "stderr",
     "output_type": "stream",
     "text": [
      "\r",
      "t:  25%|████████████▊                                      | 122/485 [00:29<01:25,  4.24it/s, now=None]"
     ]
    },
    {
     "name": "stdout",
     "output_type": "stream",
     "text": [
      "Wrong separation between lines\n"
     ]
    },
    {
     "name": "stderr",
     "output_type": "stream",
     "text": [
      "\r",
      "t:  25%|████████████▉                                      | 123/485 [00:29<01:25,  4.21it/s, now=None]"
     ]
    },
    {
     "name": "stdout",
     "output_type": "stream",
     "text": [
      "Wrong separation between lines\n"
     ]
    },
    {
     "name": "stderr",
     "output_type": "stream",
     "text": [
      "\r",
      "t:  26%|█████████████                                      | 124/485 [00:29<01:25,  4.22it/s, now=None]"
     ]
    },
    {
     "name": "stdout",
     "output_type": "stream",
     "text": [
      "missdetection\n",
      "[ 3.11059103e-04 -4.90017917e-01  1.68452540e+02]\n",
      "missdetection\n",
      "[ 4.58202341e-04 -5.79456020e-01  2.06613387e+02]\n"
     ]
    },
    {
     "name": "stderr",
     "output_type": "stream",
     "text": [
      "\r",
      "t:  26%|█████████████▏                                     | 125/485 [00:29<01:25,  4.21it/s, now=None]"
     ]
    },
    {
     "name": "stdout",
     "output_type": "stream",
     "text": [
      "missdetection\n",
      "[ 5.85775583e-04 -8.50476530e-01  2.87833927e+02]\n",
      "missdetection\n",
      "[ 2.85155421e-04 -3.32135864e-01  1.18880061e+02]\n"
     ]
    },
    {
     "name": "stderr",
     "output_type": "stream",
     "text": [
      "\r",
      "t:  26%|█████████████▏                                     | 126/485 [00:29<01:22,  4.33it/s, now=None]"
     ]
    },
    {
     "name": "stdout",
     "output_type": "stream",
     "text": [
      "missdetection\n",
      "[ 8.06716041e-04 -1.14737616e+00  3.86211483e+02]\n",
      "missdetection\n",
      "[ 7.81360166e-04 -9.85102055e-01  3.32701258e+02]\n"
     ]
    },
    {
     "name": "stderr",
     "output_type": "stream",
     "text": [
      "\r",
      "t:  26%|█████████████▎                                     | 127/485 [00:30<01:22,  4.32it/s, now=None]"
     ]
    },
    {
     "name": "stdout",
     "output_type": "stream",
     "text": [
      "missdetection\n",
      "[ 8.46698929e-04 -1.19853066e+00  4.04161849e+02]\n",
      "missdetection\n",
      "[ 1.18354198e-03 -1.51366056e+00  5.05780718e+02]\n"
     ]
    },
    {
     "name": "stderr",
     "output_type": "stream",
     "text": [
      "\r",
      "t:  26%|█████████████▍                                     | 128/485 [00:30<01:23,  4.28it/s, now=None]"
     ]
    },
    {
     "name": "stdout",
     "output_type": "stream",
     "text": [
      "missdetection\n",
      "[ 1.01665202e-03 -1.42003666e+00  4.75638468e+02]\n",
      "missdetection\n",
      "[ 1.38845435e-03 -1.78898295e+00  5.97909199e+02]\n"
     ]
    },
    {
     "name": "stderr",
     "output_type": "stream",
     "text": [
      "\r",
      "t:  27%|█████████████▌                                     | 129/485 [00:30<01:21,  4.35it/s, now=None]"
     ]
    },
    {
     "name": "stdout",
     "output_type": "stream",
     "text": [
      "missdetection\n",
      "[ 1.09004494e-03 -1.51880090e+00  5.08577368e+02]\n",
      "missdetection\n",
      "[ 1.49763477e-03 -1.93848138e+00  6.48960178e+02]\n"
     ]
    },
    {
     "name": "stderr",
     "output_type": "stream",
     "text": [
      "\r",
      "t:  27%|█████████████▋                                     | 130/485 [00:30<01:22,  4.29it/s, now=None]"
     ]
    },
    {
     "name": "stdout",
     "output_type": "stream",
     "text": [
      "missdetection\n",
      "[ 1.12895677e-03 -1.56715294e+00  5.24226462e+02]\n",
      "missdetection\n",
      "[ 1.56553859e-03 -2.03059500e+00  6.80149401e+02]\n"
     ]
    },
    {
     "name": "stderr",
     "output_type": "stream",
     "text": [
      "\r",
      "t:  27%|█████████████▊                                     | 131/485 [00:31<01:22,  4.27it/s, now=None]"
     ]
    },
    {
     "name": "stdout",
     "output_type": "stream",
     "text": [
      "missdetection\n",
      "[ 1.18057255e-03 -1.63387113e+00  5.46047229e+02]\n",
      "missdetection\n",
      "[ 1.57749411e-03 -2.04720942e+00  6.85810583e+02]\n"
     ]
    },
    {
     "name": "stderr",
     "output_type": "stream",
     "text": [
      "\r",
      "t:  27%|█████████████▉                                     | 132/485 [00:31<01:22,  4.27it/s, now=None]"
     ]
    },
    {
     "name": "stdout",
     "output_type": "stream",
     "text": [
      "missdetection\n",
      "[ 1.17254230e-03 -1.62982253e+00  5.47455985e+02]\n",
      "missdetection\n",
      "[ 1.57977352e-03 -2.05065731e+00  6.87030062e+02]\n"
     ]
    },
    {
     "name": "stderr",
     "output_type": "stream",
     "text": [
      "\r",
      "t:  27%|█████████████▉                                     | 133/485 [00:31<01:22,  4.28it/s, now=None]"
     ]
    },
    {
     "name": "stdout",
     "output_type": "stream",
     "text": [
      "missdetection\n",
      "[ 1.17656684e-03 -1.63099751e+00  5.46218573e+02]\n",
      "missdetection\n",
      "[ 1.60361112e-03 -2.08145517e+00  6.96700058e+02]\n"
     ]
    },
    {
     "name": "stderr",
     "output_type": "stream",
     "text": [
      "\r",
      "t:  28%|██████████████                                     | 134/485 [00:31<01:21,  4.29it/s, now=None]"
     ]
    },
    {
     "name": "stdout",
     "output_type": "stream",
     "text": [
      "missdetection\n",
      "[ 1.18933673e-03 -1.64517347e+00  5.52210514e+02]\n",
      "missdetection\n",
      "[ 1.60462091e-03 -2.08345006e+00  6.97617181e+02]\n"
     ]
    },
    {
     "name": "stderr",
     "output_type": "stream",
     "text": [
      "\r",
      "t:  28%|██████████████▏                                    | 135/485 [00:32<01:21,  4.31it/s, now=None]"
     ]
    },
    {
     "name": "stdout",
     "output_type": "stream",
     "text": [
      "missdetection\n",
      "[ 1.19656677e-03 -1.65743209e+00  5.53930203e+02]\n",
      "Wrong separation between lines\n"
     ]
    },
    {
     "name": "stderr",
     "output_type": "stream",
     "text": [
      "\r",
      "t:  28%|██████████████▎                                    | 136/485 [00:32<01:19,  4.41it/s, now=None]"
     ]
    },
    {
     "name": "stdout",
     "output_type": "stream",
     "text": [
      "missdetection\n",
      "[ 1.19860992e-03 -1.66118662e+00  5.54404261e+02]\n",
      "Wrong separation between lines\n"
     ]
    },
    {
     "name": "stderr",
     "output_type": "stream",
     "text": [
      "\r",
      "t:  28%|██████████████▍                                    | 137/485 [00:32<01:19,  4.37it/s, now=None]"
     ]
    },
    {
     "name": "stdout",
     "output_type": "stream",
     "text": [
      "missdetection\n",
      "[ 1.16379963e-03 -1.65243208e+00  5.58427287e+02]\n",
      "Wrong separation between lines\n"
     ]
    },
    {
     "name": "stderr",
     "output_type": "stream",
     "text": [
      "\r",
      "t:  28%|██████████████▌                                    | 138/485 [00:32<01:21,  4.27it/s, now=None]"
     ]
    },
    {
     "name": "stdout",
     "output_type": "stream",
     "text": [
      "missdetection\n",
      "[ 1.25819035e-04 -2.83098607e-01  1.10178170e+02]\n"
     ]
    },
    {
     "name": "stderr",
     "output_type": "stream",
     "text": [
      "\r",
      "t:  29%|██████████████▌                                    | 139/485 [00:32<01:23,  4.14it/s, now=None]"
     ]
    },
    {
     "name": "stdout",
     "output_type": "stream",
     "text": [
      "missdetection\n",
      "[-3.24397674e-04  3.94849721e-01 -1.06892932e+02]\n"
     ]
    },
    {
     "name": "stderr",
     "output_type": "stream",
     "text": [
      "\r",
      "t:  29%|██████████████▋                                    | 140/485 [00:33<01:25,  4.04it/s, now=None]"
     ]
    },
    {
     "name": "stdout",
     "output_type": "stream",
     "text": [
      "Wrong separation between lines\n"
     ]
    },
    {
     "name": "stderr",
     "output_type": "stream",
     "text": [
      "t:  29%|███████████████                                    | 143/485 [00:34<01:25,  4.01it/s, now=None]"
     ]
    },
    {
     "name": "stdout",
     "output_type": "stream",
     "text": [
      "Wrong separation between lines\n"
     ]
    },
    {
     "name": "stderr",
     "output_type": "stream",
     "text": [
      "\r",
      "t:  30%|███████████████▏                                   | 144/485 [00:34<01:23,  4.10it/s, now=None]"
     ]
    },
    {
     "name": "stdout",
     "output_type": "stream",
     "text": [
      "Wrong separation between lines\n"
     ]
    },
    {
     "name": "stderr",
     "output_type": "stream",
     "text": [
      "\r",
      "t:  30%|███████████████▏                                   | 145/485 [00:34<01:22,  4.12it/s, now=None]"
     ]
    },
    {
     "name": "stdout",
     "output_type": "stream",
     "text": [
      "Wrong separation between lines\n"
     ]
    },
    {
     "name": "stderr",
     "output_type": "stream",
     "text": [
      "\r",
      "t:  30%|███████████████▎                                   | 146/485 [00:34<01:23,  4.08it/s, now=None]"
     ]
    },
    {
     "name": "stdout",
     "output_type": "stream",
     "text": [
      "Wrong separation between lines\n"
     ]
    },
    {
     "name": "stderr",
     "output_type": "stream",
     "text": [
      "t:  31%|███████████████▉                                   | 151/485 [00:35<01:20,  4.16it/s, now=None]"
     ]
    },
    {
     "name": "stdout",
     "output_type": "stream",
     "text": [
      "Wrong separation between lines\n"
     ]
    },
    {
     "name": "stderr",
     "output_type": "stream",
     "text": [
      "t:  32%|████████████████                                   | 153/485 [00:36<01:20,  4.11it/s, now=None]"
     ]
    },
    {
     "name": "stdout",
     "output_type": "stream",
     "text": [
      "Wrong separation between lines\n"
     ]
    },
    {
     "name": "stderr",
     "output_type": "stream",
     "text": [
      "t:  32%|████████████████▎                                  | 155/485 [00:36<01:18,  4.18it/s, now=None]"
     ]
    },
    {
     "name": "stdout",
     "output_type": "stream",
     "text": [
      "Wrong separation between lines\n"
     ]
    },
    {
     "name": "stderr",
     "output_type": "stream",
     "text": [
      "t:  32%|████████████████▌                                  | 157/485 [00:37<01:17,  4.23it/s, now=None]"
     ]
    },
    {
     "name": "stdout",
     "output_type": "stream",
     "text": [
      "Wrong separation between lines\n"
     ]
    },
    {
     "name": "stderr",
     "output_type": "stream",
     "text": [
      "t:  33%|████████████████▋                                  | 159/485 [00:37<01:16,  4.25it/s, now=None]"
     ]
    },
    {
     "name": "stdout",
     "output_type": "stream",
     "text": [
      "Wrong separation between lines\n"
     ]
    },
    {
     "name": "stderr",
     "output_type": "stream",
     "text": [
      "t:  34%|█████████████████▏                                 | 164/485 [00:39<01:18,  4.11it/s, now=None]"
     ]
    },
    {
     "name": "stdout",
     "output_type": "stream",
     "text": [
      "Wrong separation between lines\n"
     ]
    },
    {
     "name": "stderr",
     "output_type": "stream",
     "text": [
      "t:  34%|█████████████████▍                                 | 166/485 [00:39<01:16,  4.19it/s, now=None]"
     ]
    },
    {
     "name": "stdout",
     "output_type": "stream",
     "text": [
      "Wrong separation between lines\n"
     ]
    },
    {
     "name": "stderr",
     "output_type": "stream",
     "text": [
      "\r",
      "t:  34%|█████████████████▌                                 | 167/485 [00:39<01:16,  4.16it/s, now=None]"
     ]
    },
    {
     "name": "stdout",
     "output_type": "stream",
     "text": [
      "Wrong separation between lines\n"
     ]
    },
    {
     "name": "stderr",
     "output_type": "stream",
     "text": [
      "\r",
      "t:  35%|█████████████████▋                                 | 168/485 [00:40<01:21,  3.90it/s, now=None]"
     ]
    },
    {
     "name": "stdout",
     "output_type": "stream",
     "text": [
      "Wrong separation between lines\n"
     ]
    },
    {
     "name": "stderr",
     "output_type": "stream",
     "text": [
      "\r",
      "t:  35%|█████████████████▊                                 | 169/485 [00:40<01:20,  3.92it/s, now=None]"
     ]
    },
    {
     "name": "stdout",
     "output_type": "stream",
     "text": [
      "Wrong separation between lines\n"
     ]
    },
    {
     "name": "stderr",
     "output_type": "stream",
     "text": [
      "\r",
      "t:  35%|█████████████████▉                                 | 170/485 [00:40<01:20,  3.94it/s, now=None]"
     ]
    },
    {
     "name": "stdout",
     "output_type": "stream",
     "text": [
      "Wrong separation between lines\n"
     ]
    },
    {
     "name": "stderr",
     "output_type": "stream",
     "text": [
      "\r",
      "t:  35%|█████████████████▉                                 | 171/485 [00:40<01:19,  3.93it/s, now=None]"
     ]
    },
    {
     "name": "stdout",
     "output_type": "stream",
     "text": [
      "Wrong separation between lines\n"
     ]
    },
    {
     "name": "stderr",
     "output_type": "stream",
     "text": [
      "\r",
      "t:  35%|██████████████████                                 | 172/485 [00:41<01:19,  3.92it/s, now=None]"
     ]
    },
    {
     "name": "stdout",
     "output_type": "stream",
     "text": [
      "Wrong separation between lines\n"
     ]
    },
    {
     "name": "stderr",
     "output_type": "stream",
     "text": [
      "\r",
      "t:  36%|██████████████████▏                                | 173/485 [00:41<01:19,  3.95it/s, now=None]"
     ]
    },
    {
     "name": "stdout",
     "output_type": "stream",
     "text": [
      "Wrong separation between lines\n"
     ]
    },
    {
     "name": "stderr",
     "output_type": "stream",
     "text": [
      "\r",
      "t:  36%|██████████████████▎                                | 174/485 [00:41<01:18,  3.98it/s, now=None]"
     ]
    },
    {
     "name": "stdout",
     "output_type": "stream",
     "text": [
      "Wrong separation between lines\n"
     ]
    },
    {
     "name": "stderr",
     "output_type": "stream",
     "text": [
      "\r",
      "t:  36%|██████████████████▍                                | 175/485 [00:41<01:20,  3.87it/s, now=None]"
     ]
    },
    {
     "name": "stdout",
     "output_type": "stream",
     "text": [
      "Wrong separation between lines\n"
     ]
    },
    {
     "name": "stderr",
     "output_type": "stream",
     "text": [
      "\r",
      "t:  36%|██████████████████▌                                | 176/485 [00:42<01:18,  3.92it/s, now=None]"
     ]
    },
    {
     "name": "stdout",
     "output_type": "stream",
     "text": [
      "Wrong separation between lines\n"
     ]
    },
    {
     "name": "stderr",
     "output_type": "stream",
     "text": [
      "\r",
      "t:  36%|██████████████████▌                                | 177/485 [00:42<01:24,  3.65it/s, now=None]"
     ]
    },
    {
     "name": "stdout",
     "output_type": "stream",
     "text": [
      "Wrong separation between lines\n"
     ]
    },
    {
     "name": "stderr",
     "output_type": "stream",
     "text": [
      "\r",
      "t:  37%|██████████████████▋                                | 178/485 [00:42<01:26,  3.56it/s, now=None]"
     ]
    },
    {
     "name": "stdout",
     "output_type": "stream",
     "text": [
      "Wrong separation between lines\n"
     ]
    },
    {
     "name": "stderr",
     "output_type": "stream",
     "text": [
      "t:  38%|███████████████████▏                               | 182/485 [00:43<01:26,  3.52it/s, now=None]"
     ]
    },
    {
     "name": "stdout",
     "output_type": "stream",
     "text": [
      "Wrong separation between lines\n"
     ]
    },
    {
     "name": "stderr",
     "output_type": "stream",
     "text": [
      "\r",
      "t:  38%|███████████████████▏                               | 183/485 [00:44<01:21,  3.69it/s, now=None]"
     ]
    },
    {
     "name": "stdout",
     "output_type": "stream",
     "text": [
      "Wrong separation between lines\n"
     ]
    },
    {
     "name": "stderr",
     "output_type": "stream",
     "text": [
      "t:  38%|███████████████████▍                               | 185/485 [00:44<01:18,  3.84it/s, now=None]"
     ]
    },
    {
     "name": "stdout",
     "output_type": "stream",
     "text": [
      "Wrong separation between lines\n"
     ]
    },
    {
     "name": "stderr",
     "output_type": "stream",
     "text": [
      "t:  39%|███████████████████▋                               | 187/485 [00:45<01:14,  3.99it/s, now=None]"
     ]
    },
    {
     "name": "stdout",
     "output_type": "stream",
     "text": [
      "Wrong separation between lines\n"
     ]
    },
    {
     "name": "stderr",
     "output_type": "stream",
     "text": [
      "t:  39%|███████████████████▊                               | 189/485 [00:45<01:11,  4.11it/s, now=None]"
     ]
    },
    {
     "name": "stdout",
     "output_type": "stream",
     "text": [
      "Wrong separation between lines\n"
     ]
    },
    {
     "name": "stderr",
     "output_type": "stream",
     "text": [
      "\r",
      "t:  39%|███████████████████▉                               | 190/485 [00:45<01:10,  4.19it/s, now=None]"
     ]
    },
    {
     "name": "stdout",
     "output_type": "stream",
     "text": [
      "Wrong separation between lines\n"
     ]
    },
    {
     "name": "stderr",
     "output_type": "stream",
     "text": [
      "\r",
      "t:  39%|████████████████████                               | 191/485 [00:46<01:10,  4.15it/s, now=None]"
     ]
    },
    {
     "name": "stdout",
     "output_type": "stream",
     "text": [
      "Wrong separation between lines\n"
     ]
    },
    {
     "name": "stderr",
     "output_type": "stream",
     "text": [
      "\r",
      "t:  40%|████████████████████▏                              | 192/485 [00:46<01:07,  4.34it/s, now=None]"
     ]
    },
    {
     "name": "stdout",
     "output_type": "stream",
     "text": [
      "Wrong separation between lines\n"
     ]
    },
    {
     "name": "stderr",
     "output_type": "stream",
     "text": [
      "\r",
      "t:  40%|████████████████████▎                              | 193/485 [00:46<01:10,  4.13it/s, now=None]"
     ]
    },
    {
     "name": "stdout",
     "output_type": "stream",
     "text": [
      "Wrong separation between lines\n"
     ]
    },
    {
     "name": "stderr",
     "output_type": "stream",
     "text": [
      "\r",
      "t:  40%|████████████████████▍                              | 194/485 [00:46<01:08,  4.24it/s, now=None]"
     ]
    },
    {
     "name": "stdout",
     "output_type": "stream",
     "text": [
      "Wrong separation between lines\n"
     ]
    },
    {
     "name": "stderr",
     "output_type": "stream",
     "text": [
      "\r",
      "t:  40%|████████████████████▌                              | 195/485 [00:46<01:06,  4.33it/s, now=None]"
     ]
    },
    {
     "name": "stdout",
     "output_type": "stream",
     "text": [
      "Wrong separation between lines\n"
     ]
    },
    {
     "name": "stderr",
     "output_type": "stream",
     "text": [
      "\r",
      "t:  40%|████████████████████▌                              | 196/485 [00:47<01:07,  4.31it/s, now=None]"
     ]
    },
    {
     "name": "stdout",
     "output_type": "stream",
     "text": [
      "Wrong separation between lines\n"
     ]
    },
    {
     "name": "stderr",
     "output_type": "stream",
     "text": [
      "\r",
      "t:  41%|████████████████████▋                              | 197/485 [00:47<01:05,  4.40it/s, now=None]"
     ]
    },
    {
     "name": "stdout",
     "output_type": "stream",
     "text": [
      "Wrong separation between lines\n",
      "Wrong separation between lines\n"
     ]
    },
    {
     "name": "stderr",
     "output_type": "stream",
     "text": [
      "t:  41%|████████████████████▉                              | 199/485 [00:47<01:04,  4.42it/s, now=None]"
     ]
    },
    {
     "name": "stdout",
     "output_type": "stream",
     "text": [
      "Wrong separation between lines\n"
     ]
    },
    {
     "name": "stderr",
     "output_type": "stream",
     "text": [
      "\r",
      "t:  41%|█████████████████████                              | 200/485 [00:48<01:06,  4.31it/s, now=None]"
     ]
    },
    {
     "name": "stdout",
     "output_type": "stream",
     "text": [
      "Wrong separation between lines\n"
     ]
    },
    {
     "name": "stderr",
     "output_type": "stream",
     "text": [
      "\r",
      "t:  41%|█████████████████████▏                             | 201/485 [00:48<01:06,  4.28it/s, now=None]"
     ]
    },
    {
     "name": "stdout",
     "output_type": "stream",
     "text": [
      "Wrong separation between lines\n"
     ]
    },
    {
     "name": "stderr",
     "output_type": "stream",
     "text": [
      "\r",
      "t:  42%|█████████████████████▏                             | 202/485 [00:48<01:05,  4.34it/s, now=None]"
     ]
    },
    {
     "name": "stdout",
     "output_type": "stream",
     "text": [
      "Wrong separation between lines\n"
     ]
    },
    {
     "name": "stderr",
     "output_type": "stream",
     "text": [
      "\r",
      "t:  42%|█████████████████████▎                             | 203/485 [00:48<01:05,  4.31it/s, now=None]"
     ]
    },
    {
     "name": "stdout",
     "output_type": "stream",
     "text": [
      "Wrong separation between lines\n"
     ]
    },
    {
     "name": "stderr",
     "output_type": "stream",
     "text": [
      "\r",
      "t:  42%|█████████████████████▍                             | 204/485 [00:48<01:05,  4.28it/s, now=None]"
     ]
    },
    {
     "name": "stdout",
     "output_type": "stream",
     "text": [
      "Wrong separation between lines\n"
     ]
    },
    {
     "name": "stderr",
     "output_type": "stream",
     "text": [
      "\r",
      "t:  42%|█████████████████████▌                             | 205/485 [00:49<01:05,  4.26it/s, now=None]"
     ]
    },
    {
     "name": "stdout",
     "output_type": "stream",
     "text": [
      "Wrong separation between lines\n",
      "Wrong separation between lines\n"
     ]
    },
    {
     "name": "stderr",
     "output_type": "stream",
     "text": [
      "t:  43%|█████████████████████▊                             | 207/485 [00:49<01:04,  4.33it/s, now=None]"
     ]
    },
    {
     "name": "stdout",
     "output_type": "stream",
     "text": [
      "Wrong separation between lines\n",
      "Wrong separation between lines\n"
     ]
    },
    {
     "name": "stderr",
     "output_type": "stream",
     "text": [
      "t:  43%|█████████████████████▉                             | 209/485 [00:50<01:00,  4.54it/s, now=None]"
     ]
    },
    {
     "name": "stdout",
     "output_type": "stream",
     "text": [
      "Wrong separation between lines\n"
     ]
    },
    {
     "name": "stderr",
     "output_type": "stream",
     "text": [
      "\r",
      "t:  43%|██████████████████████                             | 210/485 [00:50<01:02,  4.42it/s, now=None]"
     ]
    },
    {
     "name": "stdout",
     "output_type": "stream",
     "text": [
      "Wrong separation between lines\n"
     ]
    },
    {
     "name": "stderr",
     "output_type": "stream",
     "text": [
      "\r",
      "t:  44%|██████████████████████▏                            | 211/485 [00:50<01:01,  4.46it/s, now=None]"
     ]
    },
    {
     "name": "stdout",
     "output_type": "stream",
     "text": [
      "Wrong separation between lines\n"
     ]
    },
    {
     "name": "stderr",
     "output_type": "stream",
     "text": [
      "\r",
      "t:  44%|██████████████████████▎                            | 212/485 [00:50<01:01,  4.43it/s, now=None]"
     ]
    },
    {
     "name": "stdout",
     "output_type": "stream",
     "text": [
      "Wrong separation between lines\n"
     ]
    },
    {
     "name": "stderr",
     "output_type": "stream",
     "text": [
      "\r",
      "t:  44%|██████████████████████▍                            | 213/485 [00:51<01:01,  4.44it/s, now=None]"
     ]
    },
    {
     "name": "stdout",
     "output_type": "stream",
     "text": [
      "Wrong separation between lines\n"
     ]
    },
    {
     "name": "stderr",
     "output_type": "stream",
     "text": [
      "\r",
      "t:  44%|██████████████████████▌                            | 214/485 [00:51<01:00,  4.45it/s, now=None]"
     ]
    },
    {
     "name": "stdout",
     "output_type": "stream",
     "text": [
      "Wrong separation between lines\n"
     ]
    },
    {
     "name": "stderr",
     "output_type": "stream",
     "text": [
      "\r",
      "t:  44%|██████████████████████▌                            | 215/485 [00:51<01:02,  4.32it/s, now=None]"
     ]
    },
    {
     "name": "stdout",
     "output_type": "stream",
     "text": [
      "Wrong separation between lines\n"
     ]
    },
    {
     "name": "stderr",
     "output_type": "stream",
     "text": [
      "\r",
      "t:  45%|██████████████████████▋                            | 216/485 [00:51<01:01,  4.34it/s, now=None]"
     ]
    },
    {
     "name": "stdout",
     "output_type": "stream",
     "text": [
      "Wrong separation between lines\n"
     ]
    },
    {
     "name": "stderr",
     "output_type": "stream",
     "text": [
      "\r",
      "t:  45%|██████████████████████▊                            | 217/485 [00:51<01:02,  4.26it/s, now=None]"
     ]
    },
    {
     "name": "stdout",
     "output_type": "stream",
     "text": [
      "Wrong separation between lines\n"
     ]
    },
    {
     "name": "stderr",
     "output_type": "stream",
     "text": [
      "\r",
      "t:  45%|██████████████████████▉                            | 218/485 [00:52<01:02,  4.28it/s, now=None]"
     ]
    },
    {
     "name": "stdout",
     "output_type": "stream",
     "text": [
      "missdetection\n",
      "[ 3.81871625e-04 -4.51274462e-01  1.37832202e+02]\n",
      "Wrong separation between lines\n"
     ]
    },
    {
     "name": "stderr",
     "output_type": "stream",
     "text": [
      "\r",
      "t:  45%|███████████████████████                            | 219/485 [00:52<01:00,  4.39it/s, now=None]"
     ]
    },
    {
     "name": "stdout",
     "output_type": "stream",
     "text": [
      "Wrong separation between lines\n"
     ]
    },
    {
     "name": "stderr",
     "output_type": "stream",
     "text": [
      "\r",
      "t:  45%|███████████████████████▏                           | 220/485 [00:52<01:01,  4.32it/s, now=None]"
     ]
    },
    {
     "name": "stdout",
     "output_type": "stream",
     "text": [
      "missdetection\n",
      "[ 6.52468790e-04 -7.87265164e-01  2.42523755e+02]\n",
      "Wrong separation between lines\n"
     ]
    },
    {
     "name": "stderr",
     "output_type": "stream",
     "text": [
      "\r",
      "t:  46%|███████████████████████▏                           | 221/485 [00:52<01:01,  4.29it/s, now=None]"
     ]
    },
    {
     "name": "stdout",
     "output_type": "stream",
     "text": [
      "Wrong separation between lines\n"
     ]
    },
    {
     "name": "stderr",
     "output_type": "stream",
     "text": [
      "\r",
      "t:  46%|███████████████████████▎                           | 222/485 [00:53<01:00,  4.36it/s, now=None]"
     ]
    },
    {
     "name": "stdout",
     "output_type": "stream",
     "text": [
      "missdetection\n",
      "[ 1.50447061e-03 -1.91591284e+00  6.16763580e+02]\n",
      "Wrong separation between lines\n"
     ]
    },
    {
     "name": "stderr",
     "output_type": "stream",
     "text": [
      "\r",
      "t:  46%|███████████████████████▍                           | 223/485 [00:53<00:59,  4.39it/s, now=None]"
     ]
    },
    {
     "name": "stdout",
     "output_type": "stream",
     "text": [
      "missdetection\n",
      "[ 1.27942545e-03 -1.65198033e+00  5.38086921e+02]\n",
      "Wrong separation between lines\n"
     ]
    },
    {
     "name": "stderr",
     "output_type": "stream",
     "text": [
      "\r",
      "t:  46%|███████████████████████▌                           | 224/485 [00:53<01:02,  4.20it/s, now=None]"
     ]
    },
    {
     "name": "stdout",
     "output_type": "stream",
     "text": [
      "missdetection\n",
      "[ 1.17764444e-03 -1.53238258e+00  5.02959287e+02]\n",
      "Wrong separation between lines\n"
     ]
    },
    {
     "name": "stderr",
     "output_type": "stream",
     "text": [
      "\r",
      "t:  46%|███████████████████████▋                           | 225/485 [00:53<01:01,  4.22it/s, now=None]"
     ]
    },
    {
     "name": "stdout",
     "output_type": "stream",
     "text": [
      "missdetection\n",
      "[ 1.82898017e-03 -2.33137772e+00  7.56007093e+02]\n",
      "Wrong separation between lines\n"
     ]
    },
    {
     "name": "stderr",
     "output_type": "stream",
     "text": [
      "\r",
      "t:  47%|███████████████████████▊                           | 226/485 [00:54<01:01,  4.21it/s, now=None]"
     ]
    },
    {
     "name": "stdout",
     "output_type": "stream",
     "text": [
      "missdetection\n",
      "[ 3.55242558e-04 -3.98539557e-01  1.27483990e+02]\n",
      "Wrong separation between lines\n"
     ]
    },
    {
     "name": "stderr",
     "output_type": "stream",
     "text": [
      "\r",
      "t:  47%|███████████████████████▊                           | 227/485 [00:54<01:01,  4.22it/s, now=None]"
     ]
    },
    {
     "name": "stdout",
     "output_type": "stream",
     "text": [
      "missdetection\n",
      "[ 1.60589711e-03 -2.07139025e+00  6.76766235e+02]\n",
      "Wrong separation between lines\n"
     ]
    },
    {
     "name": "stderr",
     "output_type": "stream",
     "text": [
      "\r",
      "t:  47%|███████████████████████▉                           | 228/485 [00:54<00:59,  4.32it/s, now=None]"
     ]
    },
    {
     "name": "stdout",
     "output_type": "stream",
     "text": [
      "missdetection\n",
      "[ 5.89390803e-04 -6.79861404e-01  2.13764767e+02]\n",
      "Wrong separation between lines\n"
     ]
    },
    {
     "name": "stderr",
     "output_type": "stream",
     "text": [
      "\r",
      "t:  47%|████████████████████████                           | 229/485 [00:54<00:59,  4.29it/s, now=None]"
     ]
    },
    {
     "name": "stdout",
     "output_type": "stream",
     "text": [
      "missdetection\n",
      "[ 5.94421723e-04 -6.69221124e-01  2.08669956e+02]\n",
      "Wrong separation between lines\n"
     ]
    },
    {
     "name": "stderr",
     "output_type": "stream",
     "text": [
      "\r",
      "t:  47%|████████████████████████▏                          | 230/485 [00:54<00:59,  4.28it/s, now=None]"
     ]
    },
    {
     "name": "stdout",
     "output_type": "stream",
     "text": [
      "missdetection\n",
      "[ 7.65488997e-04 -8.72652040e-01  2.72877960e+02]\n",
      "Wrong separation between lines\n"
     ]
    },
    {
     "name": "stderr",
     "output_type": "stream",
     "text": [
      "\r",
      "t:  48%|████████████████████████▎                          | 231/485 [00:55<00:58,  4.34it/s, now=None]"
     ]
    },
    {
     "name": "stdout",
     "output_type": "stream",
     "text": [
      "missdetection\n",
      "[ 1.63528913e-03 -1.99748349e+00  6.37301330e+02]\n",
      "Wrong separation between lines\n"
     ]
    },
    {
     "name": "stderr",
     "output_type": "stream",
     "text": [
      "\r",
      "t:  48%|████████████████████████▍                          | 232/485 [00:55<00:57,  4.40it/s, now=None]"
     ]
    },
    {
     "name": "stdout",
     "output_type": "stream",
     "text": [
      "Wrong separation between lines\n"
     ]
    },
    {
     "name": "stderr",
     "output_type": "stream",
     "text": [
      "\r",
      "t:  48%|████████████████████████▌                          | 233/485 [00:55<00:57,  4.40it/s, now=None]"
     ]
    },
    {
     "name": "stdout",
     "output_type": "stream",
     "text": [
      "Wrong separation between lines\n"
     ]
    },
    {
     "name": "stderr",
     "output_type": "stream",
     "text": [
      "\r",
      "t:  48%|████████████████████████▌                          | 234/485 [00:55<00:58,  4.32it/s, now=None]"
     ]
    },
    {
     "name": "stdout",
     "output_type": "stream",
     "text": [
      "Wrong separation between lines\n"
     ]
    },
    {
     "name": "stderr",
     "output_type": "stream",
     "text": [
      "\r",
      "t:  48%|████████████████████████▋                          | 235/485 [00:56<00:56,  4.41it/s, now=None]"
     ]
    },
    {
     "name": "stdout",
     "output_type": "stream",
     "text": [
      "Wrong separation between lines\n"
     ]
    },
    {
     "name": "stderr",
     "output_type": "stream",
     "text": [
      "\r",
      "t:  49%|████████████████████████▊                          | 236/485 [00:56<00:56,  4.40it/s, now=None]"
     ]
    },
    {
     "name": "stdout",
     "output_type": "stream",
     "text": [
      "missdetection\n",
      "[ 1.87709096e-03 -2.32421887e+00  7.50432303e+02]\n",
      "Wrong separation between lines\n"
     ]
    },
    {
     "name": "stderr",
     "output_type": "stream",
     "text": [
      "\r",
      "t:  49%|████████████████████████▉                          | 237/485 [00:56<00:57,  4.34it/s, now=None]"
     ]
    },
    {
     "name": "stdout",
     "output_type": "stream",
     "text": [
      "missdetection\n",
      "[ 1.86344691e-03 -2.29954504e+00  7.44075241e+02]\n",
      "Wrong separation between lines\n"
     ]
    },
    {
     "name": "stderr",
     "output_type": "stream",
     "text": [
      "\r",
      "t:  49%|█████████████████████████                          | 238/485 [00:56<00:56,  4.40it/s, now=None]"
     ]
    },
    {
     "name": "stdout",
     "output_type": "stream",
     "text": [
      "missdetection\n",
      "[ 1.85694454e-03 -2.30144831e+00  7.46878775e+02]\n",
      "Wrong separation between lines\n"
     ]
    },
    {
     "name": "stderr",
     "output_type": "stream",
     "text": [
      "\r",
      "t:  49%|█████████████████████████▏                         | 239/485 [00:57<00:54,  4.49it/s, now=None]"
     ]
    },
    {
     "name": "stdout",
     "output_type": "stream",
     "text": [
      "missdetection\n",
      "[ 1.84268346e-03 -2.21332083e+00  7.10486751e+02]\n",
      "Wrong separation between lines\n",
      "missdetection\n",
      "[ 8.82284257e-04 -1.00203987e+00  3.22125639e+02]\n",
      "Wrong separation between lines\n"
     ]
    },
    {
     "name": "stderr",
     "output_type": "stream",
     "text": [
      "t:  50%|█████████████████████████▎                         | 241/485 [00:57<00:55,  4.40it/s, now=None]"
     ]
    },
    {
     "name": "stdout",
     "output_type": "stream",
     "text": [
      "missdetection\n",
      "[ 9.82594507e-04 -1.13353042e+00  3.67963981e+02]\n",
      "Wrong separation between lines\n",
      "Wrong separation between lines\n"
     ]
    },
    {
     "name": "stderr",
     "output_type": "stream",
     "text": [
      "t:  50%|█████████████████████████▌                         | 243/485 [00:57<00:52,  4.62it/s, now=None]"
     ]
    },
    {
     "name": "stdout",
     "output_type": "stream",
     "text": [
      "Wrong separation between lines\n"
     ]
    },
    {
     "name": "stderr",
     "output_type": "stream",
     "text": [
      "t:  51%|█████████████████████████▊                         | 245/485 [00:58<00:53,  4.46it/s, now=None]"
     ]
    },
    {
     "name": "stdout",
     "output_type": "stream",
     "text": [
      "missdetection\n",
      "[ 1.92335485e-03 -1.50656249e+00  3.02971552e+02]\n",
      "Wrong separation between lines\n",
      "missdetection\n",
      "[ 3.01103607e-04 -2.95787930e-01  1.03077917e+02]\n",
      "Wrong separation between lines\n"
     ]
    },
    {
     "name": "stderr",
     "output_type": "stream",
     "text": [
      "t:  51%|█████████████████████████▉                         | 247/485 [00:58<00:54,  4.37it/s, now=None]"
     ]
    },
    {
     "name": "stdout",
     "output_type": "stream",
     "text": [
      "missdetection\n",
      "[ 6.96007690e-04 -5.74395573e-01  1.73510571e+02]\n",
      "Wrong separation between lines\n"
     ]
    },
    {
     "name": "stderr",
     "output_type": "stream",
     "text": [
      "\r",
      "t:  51%|██████████████████████████                         | 248/485 [00:59<00:52,  4.47it/s, now=None]"
     ]
    },
    {
     "name": "stdout",
     "output_type": "stream",
     "text": [
      "missdetection\n",
      "[ 2.10673708e-04 -2.58574013e-01  1.01347523e+02]\n",
      "Wrong separation between lines\n"
     ]
    },
    {
     "name": "stderr",
     "output_type": "stream",
     "text": [
      "\r",
      "t:  51%|██████████████████████████▏                        | 249/485 [00:59<00:54,  4.32it/s, now=None]"
     ]
    },
    {
     "name": "stdout",
     "output_type": "stream",
     "text": [
      "missdetection\n",
      "[ 6.50593182e-04 -8.26747883e-01  2.87469690e+02]\n",
      "Wrong separation between lines\n"
     ]
    },
    {
     "name": "stderr",
     "output_type": "stream",
     "text": [
      "\r",
      "t:  52%|██████████████████████████▎                        | 250/485 [00:59<00:55,  4.25it/s, now=None]"
     ]
    },
    {
     "name": "stdout",
     "output_type": "stream",
     "text": [
      "missdetection\n",
      "[ 1.53055981e-03 -1.98098560e+00  6.76613951e+02]\n"
     ]
    },
    {
     "name": "stderr",
     "output_type": "stream",
     "text": [
      "\r",
      "t:  52%|██████████████████████████▍                        | 251/485 [00:59<00:54,  4.26it/s, now=None]"
     ]
    },
    {
     "name": "stdout",
     "output_type": "stream",
     "text": [
      "Wrong separation between lines\n"
     ]
    },
    {
     "name": "stderr",
     "output_type": "stream",
     "text": [
      "\r",
      "t:  52%|██████████████████████████▍                        | 252/485 [00:59<00:54,  4.25it/s, now=None]"
     ]
    },
    {
     "name": "stdout",
     "output_type": "stream",
     "text": [
      "missdetection\n",
      "[ 1.73374015e-04 -2.27898068e-01  1.11441305e+02]\n"
     ]
    },
    {
     "name": "stderr",
     "output_type": "stream",
     "text": [
      "\r",
      "t:  52%|██████████████████████████▌                        | 253/485 [01:00<00:54,  4.28it/s, now=None]"
     ]
    },
    {
     "name": "stdout",
     "output_type": "stream",
     "text": [
      "Wrong separation between lines\n"
     ]
    },
    {
     "name": "stderr",
     "output_type": "stream",
     "text": [
      "\r",
      "t:  52%|██████████████████████████▋                        | 254/485 [01:00<00:53,  4.31it/s, now=None]"
     ]
    },
    {
     "name": "stdout",
     "output_type": "stream",
     "text": [
      "Wrong separation between lines\n",
      "missdetection\n",
      "[ 5.07225098e-04 -6.42124018e-01  2.40696965e+02]\n"
     ]
    },
    {
     "name": "stderr",
     "output_type": "stream",
     "text": [
      "t:  53%|██████████████████████████▉                        | 256/485 [01:00<00:52,  4.35it/s, now=None]"
     ]
    },
    {
     "name": "stdout",
     "output_type": "stream",
     "text": [
      "missdetection\n",
      "[ 1.37404897e-03 -1.77180256e+00  6.05892741e+02]\n"
     ]
    },
    {
     "name": "stderr",
     "output_type": "stream",
     "text": [
      "\r",
      "t:  53%|███████████████████████████                        | 257/485 [01:01<00:53,  4.25it/s, now=None]"
     ]
    },
    {
     "name": "stdout",
     "output_type": "stream",
     "text": [
      "Wrong separation between lines\n"
     ]
    },
    {
     "name": "stderr",
     "output_type": "stream",
     "text": [
      "\r",
      "t:  53%|███████████████████████████▏                       | 258/485 [01:01<00:51,  4.38it/s, now=None]"
     ]
    },
    {
     "name": "stdout",
     "output_type": "stream",
     "text": [
      "Wrong separation between lines\n"
     ]
    },
    {
     "name": "stderr",
     "output_type": "stream",
     "text": [
      "\r",
      "t:  53%|███████████████████████████▏                       | 259/485 [01:01<00:50,  4.48it/s, now=None]"
     ]
    },
    {
     "name": "stdout",
     "output_type": "stream",
     "text": [
      "missdetection\n",
      "[ 6.60448056e-04 -8.26433499e-01  2.92092609e+02]\n"
     ]
    },
    {
     "name": "stderr",
     "output_type": "stream",
     "text": [
      "\r",
      "t:  54%|███████████████████████████▎                       | 260/485 [01:01<00:52,  4.31it/s, now=None]"
     ]
    },
    {
     "name": "stdout",
     "output_type": "stream",
     "text": [
      "missdetection\n",
      "[ 2.86444550e-04 -3.22869144e-01  1.22186967e+02]\n"
     ]
    },
    {
     "name": "stderr",
     "output_type": "stream",
     "text": [
      "\r",
      "t:  54%|███████████████████████████▍                       | 261/485 [01:02<00:53,  4.18it/s, now=None]"
     ]
    },
    {
     "name": "stdout",
     "output_type": "stream",
     "text": [
      "missdetection\n",
      "[ 3.25082131e-04 -3.76416325e-01  1.41944374e+02]\n"
     ]
    },
    {
     "name": "stderr",
     "output_type": "stream",
     "text": [
      "\r",
      "t:  54%|███████████████████████████▌                       | 262/485 [01:02<00:53,  4.19it/s, now=None]"
     ]
    },
    {
     "name": "stdout",
     "output_type": "stream",
     "text": [
      "missdetection\n",
      "[ 8.62957244e-04 -1.08406375e+00  3.73269194e+02]\n"
     ]
    },
    {
     "name": "stderr",
     "output_type": "stream",
     "text": [
      "\r",
      "t:  54%|███████████████████████████▋                       | 263/485 [01:02<00:52,  4.21it/s, now=None]"
     ]
    },
    {
     "name": "stdout",
     "output_type": "stream",
     "text": [
      "missdetection\n",
      "[ 9.88861825e-04 -1.25374252e+00  4.30615491e+02]\n"
     ]
    },
    {
     "name": "stderr",
     "output_type": "stream",
     "text": [
      "\r",
      "t:  54%|███████████████████████████▊                       | 264/485 [01:02<00:54,  4.07it/s, now=None]"
     ]
    },
    {
     "name": "stdout",
     "output_type": "stream",
     "text": [
      "missdetection\n",
      "[ 9.80951337e-04 -1.24223795e+00  4.27257686e+02]\n"
     ]
    },
    {
     "name": "stderr",
     "output_type": "stream",
     "text": [
      "\r",
      "t:  55%|███████████████████████████▊                       | 265/485 [01:03<00:53,  4.08it/s, now=None]"
     ]
    },
    {
     "name": "stdout",
     "output_type": "stream",
     "text": [
      "missdetection\n",
      "[ 1.24270532e-03 -1.59369023e+00  5.43614731e+02]\n"
     ]
    },
    {
     "name": "stderr",
     "output_type": "stream",
     "text": [
      "\r",
      "t:  55%|███████████████████████████▉                       | 266/485 [01:03<00:55,  3.96it/s, now=None]"
     ]
    },
    {
     "name": "stdout",
     "output_type": "stream",
     "text": [
      "missdetection\n",
      "[ 1.35950588e-03 -1.75152422e+00  5.96580984e+02]\n"
     ]
    },
    {
     "name": "stderr",
     "output_type": "stream",
     "text": [
      "\r",
      "t:  55%|████████████████████████████                       | 267/485 [01:03<00:55,  3.95it/s, now=None]"
     ]
    },
    {
     "name": "stdout",
     "output_type": "stream",
     "text": [
      "missdetection\n",
      "[ 8.58647106e-04 -1.08471614e+00  3.76686784e+02]\n"
     ]
    },
    {
     "name": "stderr",
     "output_type": "stream",
     "text": [
      "\r",
      "t:  55%|████████████████████████████▏                      | 268/485 [01:03<00:55,  3.88it/s, now=None]"
     ]
    },
    {
     "name": "stdout",
     "output_type": "stream",
     "text": [
      "missdetection\n",
      "[ 2.70423223e-04 -3.20575163e-01  1.29470150e+02]\n"
     ]
    },
    {
     "name": "stderr",
     "output_type": "stream",
     "text": [
      "\r",
      "t:  55%|████████████████████████████▎                      | 269/485 [01:04<00:55,  3.89it/s, now=None]"
     ]
    },
    {
     "name": "stdout",
     "output_type": "stream",
     "text": [
      "missdetection\n",
      "[ 3.83566618e-04 -4.63733920e-01  1.74192798e+02]\n"
     ]
    },
    {
     "name": "stderr",
     "output_type": "stream",
     "text": [
      "\r",
      "t:  56%|████████████████████████████▍                      | 270/485 [01:04<00:53,  4.01it/s, now=None]"
     ]
    },
    {
     "name": "stdout",
     "output_type": "stream",
     "text": [
      "missdetection\n",
      "[ 4.39554816e-04 -5.41993805e-01  2.01199230e+02]\n"
     ]
    },
    {
     "name": "stderr",
     "output_type": "stream",
     "text": [
      "\r",
      "t:  56%|████████████████████████████▍                      | 271/485 [01:04<00:51,  4.15it/s, now=None]"
     ]
    },
    {
     "name": "stdout",
     "output_type": "stream",
     "text": [
      "missdetection\n",
      "[ 7.67104833e-04 -9.71370791e-01  3.44196648e+02]\n"
     ]
    },
    {
     "name": "stderr",
     "output_type": "stream",
     "text": [
      "\r",
      "t:  56%|████████████████████████████▌                      | 272/485 [01:04<00:52,  4.05it/s, now=None]"
     ]
    },
    {
     "name": "stdout",
     "output_type": "stream",
     "text": [
      "missdetection\n",
      "[ 2.79471481e-04 -3.40283883e-01  1.38516565e+02]\n"
     ]
    },
    {
     "name": "stderr",
     "output_type": "stream",
     "text": [
      "\r",
      "t:  56%|████████████████████████████▋                      | 273/485 [01:05<00:51,  4.11it/s, now=None]"
     ]
    },
    {
     "name": "stdout",
     "output_type": "stream",
     "text": [
      "missdetection\n",
      "[ 6.15113982e-04 -7.55574135e-01  2.65722439e+02]\n"
     ]
    },
    {
     "name": "stderr",
     "output_type": "stream",
     "text": [
      "\r",
      "t:  56%|████████████████████████████▊                      | 274/485 [01:05<00:52,  4.04it/s, now=None]"
     ]
    },
    {
     "name": "stdout",
     "output_type": "stream",
     "text": [
      "missdetection\n",
      "[ 3.22589506e-04 -3.84571009e-01  1.47374674e+02]\n"
     ]
    },
    {
     "name": "stderr",
     "output_type": "stream",
     "text": [
      "\r",
      "t:  57%|████████████████████████████▉                      | 275/485 [01:05<00:51,  4.07it/s, now=None]"
     ]
    },
    {
     "name": "stdout",
     "output_type": "stream",
     "text": [
      "Wrong separation between lines\n"
     ]
    },
    {
     "name": "stderr",
     "output_type": "stream",
     "text": [
      "\r",
      "t:  57%|█████████████████████████████                      | 276/485 [01:05<00:49,  4.21it/s, now=None]"
     ]
    },
    {
     "name": "stdout",
     "output_type": "stream",
     "text": [
      "Wrong separation between lines\n"
     ]
    },
    {
     "name": "stderr",
     "output_type": "stream",
     "text": [
      "\r",
      "t:  57%|█████████████████████████████▏                     | 277/485 [01:06<00:49,  4.18it/s, now=None]"
     ]
    },
    {
     "name": "stdout",
     "output_type": "stream",
     "text": [
      "Wrong separation between lines\n"
     ]
    },
    {
     "name": "stderr",
     "output_type": "stream",
     "text": [
      "\r",
      "t:  57%|█████████████████████████████▏                     | 278/485 [01:06<00:49,  4.17it/s, now=None]"
     ]
    },
    {
     "name": "stdout",
     "output_type": "stream",
     "text": [
      "Wrong separation between lines\n"
     ]
    },
    {
     "name": "stderr",
     "output_type": "stream",
     "text": [
      "\r",
      "t:  58%|█████████████████████████████▎                     | 279/485 [01:06<00:49,  4.17it/s, now=None]"
     ]
    },
    {
     "name": "stdout",
     "output_type": "stream",
     "text": [
      "Wrong separation between lines\n"
     ]
    },
    {
     "name": "stderr",
     "output_type": "stream",
     "text": [
      "\r",
      "t:  58%|█████████████████████████████▍                     | 280/485 [01:06<00:49,  4.18it/s, now=None]"
     ]
    },
    {
     "name": "stdout",
     "output_type": "stream",
     "text": [
      "missdetection\n",
      "[ 3.13633977e-04 -3.86426679e-01  1.54665657e+02]\n"
     ]
    },
    {
     "name": "stderr",
     "output_type": "stream",
     "text": [
      "\r",
      "t:  58%|█████████████████████████████▌                     | 281/485 [01:06<00:49,  4.11it/s, now=None]"
     ]
    },
    {
     "name": "stdout",
     "output_type": "stream",
     "text": [
      "Wrong separation between lines\n"
     ]
    },
    {
     "name": "stderr",
     "output_type": "stream",
     "text": [
      "\r",
      "t:  58%|█████████████████████████████▋                     | 282/485 [01:07<00:52,  3.89it/s, now=None]"
     ]
    },
    {
     "name": "stdout",
     "output_type": "stream",
     "text": [
      "missdetection\n",
      "[ 2.31616611e-04 -2.78477780e-01  1.19070429e+02]\n"
     ]
    },
    {
     "name": "stderr",
     "output_type": "stream",
     "text": [
      "\r",
      "t:  58%|█████████████████████████████▊                     | 283/485 [01:07<00:54,  3.69it/s, now=None]"
     ]
    },
    {
     "name": "stdout",
     "output_type": "stream",
     "text": [
      "Wrong separation between lines\n"
     ]
    },
    {
     "name": "stderr",
     "output_type": "stream",
     "text": [
      "\r",
      "t:  59%|█████████████████████████████▊                     | 284/485 [01:07<00:52,  3.80it/s, now=None]"
     ]
    },
    {
     "name": "stdout",
     "output_type": "stream",
     "text": [
      "Wrong separation between lines\n"
     ]
    },
    {
     "name": "stderr",
     "output_type": "stream",
     "text": [
      "\r",
      "t:  59%|█████████████████████████████▉                     | 285/485 [01:08<00:52,  3.83it/s, now=None]"
     ]
    },
    {
     "name": "stdout",
     "output_type": "stream",
     "text": [
      "Wrong separation between lines\n"
     ]
    },
    {
     "name": "stderr",
     "output_type": "stream",
     "text": [
      "\r",
      "t:  59%|██████████████████████████████                     | 286/485 [01:08<00:53,  3.75it/s, now=None]"
     ]
    },
    {
     "name": "stdout",
     "output_type": "stream",
     "text": [
      "missdetection\n",
      "[ 7.33249230e-04 -9.34069251e-01  3.30939185e+02]\n"
     ]
    },
    {
     "name": "stderr",
     "output_type": "stream",
     "text": [
      "\r",
      "t:  59%|██████████████████████████████▏                    | 287/485 [01:08<00:53,  3.69it/s, now=None]"
     ]
    },
    {
     "name": "stdout",
     "output_type": "stream",
     "text": [
      "Wrong separation between lines\n"
     ]
    },
    {
     "name": "stderr",
     "output_type": "stream",
     "text": [
      "\r",
      "t:  59%|██████████████████████████████▎                    | 288/485 [01:08<00:52,  3.77it/s, now=None]"
     ]
    },
    {
     "name": "stdout",
     "output_type": "stream",
     "text": [
      "Wrong separation between lines\n"
     ]
    },
    {
     "name": "stderr",
     "output_type": "stream",
     "text": [
      "\r",
      "t:  60%|██████████████████████████████▍                    | 289/485 [01:09<00:51,  3.84it/s, now=None]"
     ]
    },
    {
     "name": "stdout",
     "output_type": "stream",
     "text": [
      "Wrong separation between lines\n"
     ]
    },
    {
     "name": "stderr",
     "output_type": "stream",
     "text": [
      "\r",
      "t:  60%|██████████████████████████████▍                    | 290/485 [01:09<00:50,  3.85it/s, now=None]"
     ]
    },
    {
     "name": "stdout",
     "output_type": "stream",
     "text": [
      "Wrong separation between lines\n"
     ]
    },
    {
     "name": "stderr",
     "output_type": "stream",
     "text": [
      "\r",
      "t:  60%|██████████████████████████████▌                    | 291/485 [01:09<00:49,  3.88it/s, now=None]"
     ]
    },
    {
     "name": "stdout",
     "output_type": "stream",
     "text": [
      "Wrong separation between lines\n"
     ]
    },
    {
     "name": "stderr",
     "output_type": "stream",
     "text": [
      "\r",
      "t:  60%|██████████████████████████████▋                    | 292/485 [01:09<00:52,  3.65it/s, now=None]"
     ]
    },
    {
     "name": "stdout",
     "output_type": "stream",
     "text": [
      "Wrong separation between lines\n"
     ]
    },
    {
     "name": "stderr",
     "output_type": "stream",
     "text": [
      "\r",
      "t:  60%|██████████████████████████████▊                    | 293/485 [01:10<00:53,  3.56it/s, now=None]"
     ]
    },
    {
     "name": "stdout",
     "output_type": "stream",
     "text": [
      "Wrong separation between lines\n"
     ]
    },
    {
     "name": "stderr",
     "output_type": "stream",
     "text": [
      "\r",
      "t:  61%|██████████████████████████████▉                    | 294/485 [01:10<00:54,  3.53it/s, now=None]"
     ]
    },
    {
     "name": "stdout",
     "output_type": "stream",
     "text": [
      "Wrong separation between lines\n"
     ]
    },
    {
     "name": "stderr",
     "output_type": "stream",
     "text": [
      "\r",
      "t:  61%|███████████████████████████████                    | 295/485 [01:10<00:52,  3.60it/s, now=None]"
     ]
    },
    {
     "name": "stdout",
     "output_type": "stream",
     "text": [
      "Wrong separation between lines\n"
     ]
    },
    {
     "name": "stderr",
     "output_type": "stream",
     "text": [
      "\r",
      "t:  61%|███████████████████████████████▏                   | 296/485 [01:11<00:50,  3.72it/s, now=None]"
     ]
    },
    {
     "name": "stdout",
     "output_type": "stream",
     "text": [
      "Wrong separation between lines\n"
     ]
    },
    {
     "name": "stderr",
     "output_type": "stream",
     "text": [
      "\r",
      "t:  61%|███████████████████████████████▏                   | 297/485 [01:11<00:49,  3.81it/s, now=None]"
     ]
    },
    {
     "name": "stdout",
     "output_type": "stream",
     "text": [
      "Wrong separation between lines\n"
     ]
    },
    {
     "name": "stderr",
     "output_type": "stream",
     "text": [
      "\r",
      "t:  61%|███████████████████████████████▎                   | 298/485 [01:11<00:49,  3.80it/s, now=None]"
     ]
    },
    {
     "name": "stdout",
     "output_type": "stream",
     "text": [
      "Wrong separation between lines\n"
     ]
    },
    {
     "name": "stderr",
     "output_type": "stream",
     "text": [
      "\r",
      "t:  62%|███████████████████████████████▍                   | 299/485 [01:11<00:50,  3.72it/s, now=None]"
     ]
    },
    {
     "name": "stdout",
     "output_type": "stream",
     "text": [
      "Wrong separation between lines\n"
     ]
    },
    {
     "name": "stderr",
     "output_type": "stream",
     "text": [
      "\r",
      "t:  62%|███████████████████████████████▌                   | 300/485 [01:12<00:49,  3.77it/s, now=None]"
     ]
    },
    {
     "name": "stdout",
     "output_type": "stream",
     "text": [
      "Wrong separation between lines\n"
     ]
    },
    {
     "name": "stderr",
     "output_type": "stream",
     "text": [
      "\r",
      "t:  62%|███████████████████████████████▋                   | 301/485 [01:12<00:49,  3.74it/s, now=None]"
     ]
    },
    {
     "name": "stdout",
     "output_type": "stream",
     "text": [
      "Wrong separation between lines\n"
     ]
    },
    {
     "name": "stderr",
     "output_type": "stream",
     "text": [
      "\r",
      "t:  62%|███████████████████████████████▊                   | 302/485 [01:12<00:47,  3.86it/s, now=None]"
     ]
    },
    {
     "name": "stdout",
     "output_type": "stream",
     "text": [
      "Wrong separation between lines\n"
     ]
    },
    {
     "name": "stderr",
     "output_type": "stream",
     "text": [
      "\r",
      "t:  62%|███████████████████████████████▊                   | 303/485 [01:12<00:45,  3.99it/s, now=None]"
     ]
    },
    {
     "name": "stdout",
     "output_type": "stream",
     "text": [
      "missdetection\n",
      "[ 2.41504578e-04 -2.80816415e-01  1.14355882e+02]\n"
     ]
    },
    {
     "name": "stderr",
     "output_type": "stream",
     "text": [
      "\r",
      "t:  63%|███████████████████████████████▉                   | 304/485 [01:13<00:46,  3.90it/s, now=None]"
     ]
    },
    {
     "name": "stdout",
     "output_type": "stream",
     "text": [
      "Wrong separation between lines\n"
     ]
    },
    {
     "name": "stderr",
     "output_type": "stream",
     "text": [
      "\r",
      "t:  63%|████████████████████████████████                   | 305/485 [01:13<00:46,  3.90it/s, now=None]"
     ]
    },
    {
     "name": "stdout",
     "output_type": "stream",
     "text": [
      "missdetection\n",
      "[ 4.40428382e-04 -5.19606872e-01  1.88789483e+02]\n"
     ]
    },
    {
     "name": "stderr",
     "output_type": "stream",
     "text": [
      "\r",
      "t:  63%|████████████████████████████████▏                  | 306/485 [01:13<00:46,  3.84it/s, now=None]"
     ]
    },
    {
     "name": "stdout",
     "output_type": "stream",
     "text": [
      "Wrong separation between lines\n"
     ]
    },
    {
     "name": "stderr",
     "output_type": "stream",
     "text": [
      "\r",
      "t:  63%|████████████████████████████████▎                  | 307/485 [01:13<00:46,  3.79it/s, now=None]"
     ]
    },
    {
     "name": "stdout",
     "output_type": "stream",
     "text": [
      "Wrong separation between lines\n"
     ]
    },
    {
     "name": "stderr",
     "output_type": "stream",
     "text": [
      "\r",
      "t:  64%|████████████████████████████████▍                  | 308/485 [01:14<00:46,  3.83it/s, now=None]"
     ]
    },
    {
     "name": "stdout",
     "output_type": "stream",
     "text": [
      "Wrong separation between lines\n"
     ]
    },
    {
     "name": "stderr",
     "output_type": "stream",
     "text": [
      "\r",
      "t:  64%|████████████████████████████████▍                  | 309/485 [01:14<00:46,  3.79it/s, now=None]"
     ]
    },
    {
     "name": "stdout",
     "output_type": "stream",
     "text": [
      "Wrong separation between lines\n"
     ]
    },
    {
     "name": "stderr",
     "output_type": "stream",
     "text": [
      "\r",
      "t:  64%|████████████████████████████████▌                  | 310/485 [01:14<00:44,  3.91it/s, now=None]"
     ]
    },
    {
     "name": "stdout",
     "output_type": "stream",
     "text": [
      "Wrong separation between lines\n"
     ]
    },
    {
     "name": "stderr",
     "output_type": "stream",
     "text": [
      "\r",
      "t:  64%|████████████████████████████████▋                  | 311/485 [01:14<00:43,  3.99it/s, now=None]"
     ]
    },
    {
     "name": "stdout",
     "output_type": "stream",
     "text": [
      "Wrong separation between lines\n"
     ]
    },
    {
     "name": "stderr",
     "output_type": "stream",
     "text": [
      "\r",
      "t:  64%|████████████████████████████████▊                  | 312/485 [01:15<00:41,  4.14it/s, now=None]"
     ]
    },
    {
     "name": "stdout",
     "output_type": "stream",
     "text": [
      "Wrong separation between lines\n"
     ]
    },
    {
     "name": "stderr",
     "output_type": "stream",
     "text": [
      "\r",
      "t:  65%|████████████████████████████████▉                  | 313/485 [01:15<00:41,  4.14it/s, now=None]"
     ]
    },
    {
     "name": "stdout",
     "output_type": "stream",
     "text": [
      "Wrong separation between lines\n"
     ]
    },
    {
     "name": "stderr",
     "output_type": "stream",
     "text": [
      "t:  65%|█████████████████████████████████                  | 315/485 [01:15<00:40,  4.20it/s, now=None]"
     ]
    },
    {
     "name": "stdout",
     "output_type": "stream",
     "text": [
      "Wrong separation between lines\n"
     ]
    },
    {
     "name": "stderr",
     "output_type": "stream",
     "text": [
      "t:  65%|█████████████████████████████████▎                 | 317/485 [01:16<00:40,  4.17it/s, now=None]"
     ]
    },
    {
     "name": "stdout",
     "output_type": "stream",
     "text": [
      "Wrong separation between lines\n"
     ]
    },
    {
     "name": "stderr",
     "output_type": "stream",
     "text": [
      "\r",
      "t:  66%|█████████████████████████████████▍                 | 318/485 [01:16<00:39,  4.23it/s, now=None]"
     ]
    },
    {
     "name": "stdout",
     "output_type": "stream",
     "text": [
      "Wrong separation between lines\n"
     ]
    },
    {
     "name": "stderr",
     "output_type": "stream",
     "text": [
      "t:  66%|█████████████████████████████████▋                 | 320/485 [01:17<00:39,  4.22it/s, now=None]"
     ]
    },
    {
     "name": "stdout",
     "output_type": "stream",
     "text": [
      "Wrong separation between lines\n"
     ]
    },
    {
     "name": "stderr",
     "output_type": "stream",
     "text": [
      "t:  66%|█████████████████████████████████▊                 | 322/485 [01:17<00:39,  4.18it/s, now=None]"
     ]
    },
    {
     "name": "stdout",
     "output_type": "stream",
     "text": [
      "Wrong separation between lines\n"
     ]
    },
    {
     "name": "stderr",
     "output_type": "stream",
     "text": [
      "\r",
      "t:  67%|█████████████████████████████████▉                 | 323/485 [01:17<00:38,  4.21it/s, now=None]"
     ]
    },
    {
     "name": "stdout",
     "output_type": "stream",
     "text": [
      "Wrong separation between lines\n"
     ]
    },
    {
     "name": "stderr",
     "output_type": "stream",
     "text": [
      "\r",
      "t:  67%|██████████████████████████████████                 | 324/485 [01:18<00:39,  4.08it/s, now=None]"
     ]
    },
    {
     "name": "stdout",
     "output_type": "stream",
     "text": [
      "Wrong separation between lines\n"
     ]
    },
    {
     "name": "stderr",
     "output_type": "stream",
     "text": [
      "\r",
      "t:  67%|██████████████████████████████████▏                | 325/485 [01:18<00:38,  4.14it/s, now=None]"
     ]
    },
    {
     "name": "stdout",
     "output_type": "stream",
     "text": [
      "Wrong separation between lines\n"
     ]
    },
    {
     "name": "stderr",
     "output_type": "stream",
     "text": [
      "\r",
      "t:  67%|██████████████████████████████████▎                | 326/485 [01:18<00:38,  4.18it/s, now=None]"
     ]
    },
    {
     "name": "stdout",
     "output_type": "stream",
     "text": [
      "Wrong separation between lines\n"
     ]
    },
    {
     "name": "stderr",
     "output_type": "stream",
     "text": [
      "\r",
      "t:  67%|██████████████████████████████████▍                | 327/485 [01:18<00:38,  4.15it/s, now=None]"
     ]
    },
    {
     "name": "stdout",
     "output_type": "stream",
     "text": [
      "Wrong separation between lines\n"
     ]
    },
    {
     "name": "stderr",
     "output_type": "stream",
     "text": [
      "\r",
      "t:  68%|██████████████████████████████████▍                | 328/485 [01:18<00:37,  4.13it/s, now=None]"
     ]
    },
    {
     "name": "stdout",
     "output_type": "stream",
     "text": [
      "Wrong separation between lines\n"
     ]
    },
    {
     "name": "stderr",
     "output_type": "stream",
     "text": [
      "\r",
      "t:  68%|██████████████████████████████████▌                | 329/485 [01:19<00:36,  4.28it/s, now=None]"
     ]
    },
    {
     "name": "stdout",
     "output_type": "stream",
     "text": [
      "Wrong separation between lines\n"
     ]
    },
    {
     "name": "stderr",
     "output_type": "stream",
     "text": [
      "\r",
      "t:  68%|██████████████████████████████████▋                | 330/485 [01:19<00:36,  4.30it/s, now=None]"
     ]
    },
    {
     "name": "stdout",
     "output_type": "stream",
     "text": [
      "Wrong separation between lines\n"
     ]
    },
    {
     "name": "stderr",
     "output_type": "stream",
     "text": [
      "\r",
      "t:  68%|██████████████████████████████████▊                | 331/485 [01:19<00:35,  4.35it/s, now=None]"
     ]
    },
    {
     "name": "stdout",
     "output_type": "stream",
     "text": [
      "Wrong separation between lines\n"
     ]
    },
    {
     "name": "stderr",
     "output_type": "stream",
     "text": [
      "\r",
      "t:  68%|██████████████████████████████████▉                | 332/485 [01:19<00:36,  4.23it/s, now=None]"
     ]
    },
    {
     "name": "stdout",
     "output_type": "stream",
     "text": [
      "Wrong separation between lines\n"
     ]
    },
    {
     "name": "stderr",
     "output_type": "stream",
     "text": [
      "\r",
      "t:  69%|███████████████████████████████████                | 333/485 [01:20<00:35,  4.26it/s, now=None]"
     ]
    },
    {
     "name": "stdout",
     "output_type": "stream",
     "text": [
      "Wrong separation between lines\n"
     ]
    },
    {
     "name": "stderr",
     "output_type": "stream",
     "text": [
      "\r",
      "t:  69%|███████████████████████████████████                | 334/485 [01:20<00:34,  4.39it/s, now=None]"
     ]
    },
    {
     "name": "stdout",
     "output_type": "stream",
     "text": [
      "Wrong separation between lines\n"
     ]
    },
    {
     "name": "stderr",
     "output_type": "stream",
     "text": [
      "\r",
      "t:  69%|███████████████████████████████████▏               | 335/485 [01:20<00:34,  4.36it/s, now=None]"
     ]
    },
    {
     "name": "stdout",
     "output_type": "stream",
     "text": [
      "Wrong separation between lines\n"
     ]
    },
    {
     "name": "stderr",
     "output_type": "stream",
     "text": [
      "\r",
      "t:  69%|███████████████████████████████████▎               | 336/485 [01:20<00:35,  4.22it/s, now=None]"
     ]
    },
    {
     "name": "stdout",
     "output_type": "stream",
     "text": [
      "Wrong separation between lines\n"
     ]
    },
    {
     "name": "stderr",
     "output_type": "stream",
     "text": [
      "\r",
      "t:  69%|███████████████████████████████████▍               | 337/485 [01:21<00:35,  4.17it/s, now=None]"
     ]
    },
    {
     "name": "stdout",
     "output_type": "stream",
     "text": [
      "Wrong separation between lines\n"
     ]
    },
    {
     "name": "stderr",
     "output_type": "stream",
     "text": [
      "\r",
      "t:  70%|███████████████████████████████████▌               | 338/485 [01:21<00:34,  4.29it/s, now=None]"
     ]
    },
    {
     "name": "stdout",
     "output_type": "stream",
     "text": [
      "Wrong separation between lines\n"
     ]
    },
    {
     "name": "stderr",
     "output_type": "stream",
     "text": [
      "\r",
      "t:  70%|███████████████████████████████████▋               | 339/485 [01:21<00:33,  4.31it/s, now=None]"
     ]
    },
    {
     "name": "stdout",
     "output_type": "stream",
     "text": [
      "Wrong separation between lines\n"
     ]
    },
    {
     "name": "stderr",
     "output_type": "stream",
     "text": [
      "\r",
      "t:  70%|███████████████████████████████████▊               | 340/485 [01:21<00:34,  4.25it/s, now=None]"
     ]
    },
    {
     "name": "stdout",
     "output_type": "stream",
     "text": [
      "Wrong separation between lines\n"
     ]
    },
    {
     "name": "stderr",
     "output_type": "stream",
     "text": [
      "\r",
      "t:  70%|███████████████████████████████████▊               | 341/485 [01:22<00:35,  4.11it/s, now=None]"
     ]
    },
    {
     "name": "stdout",
     "output_type": "stream",
     "text": [
      "Wrong separation between lines\n"
     ]
    },
    {
     "name": "stderr",
     "output_type": "stream",
     "text": [
      "\r",
      "t:  71%|███████████████████████████████████▉               | 342/485 [01:22<00:34,  4.14it/s, now=None]"
     ]
    },
    {
     "name": "stdout",
     "output_type": "stream",
     "text": [
      "Wrong separation between lines\n"
     ]
    },
    {
     "name": "stderr",
     "output_type": "stream",
     "text": [
      "\r",
      "t:  71%|████████████████████████████████████               | 343/485 [01:22<00:33,  4.19it/s, now=None]"
     ]
    },
    {
     "name": "stdout",
     "output_type": "stream",
     "text": [
      "Wrong separation between lines\n"
     ]
    },
    {
     "name": "stderr",
     "output_type": "stream",
     "text": [
      "\r",
      "t:  71%|████████████████████████████████████▏              | 344/485 [01:22<00:33,  4.25it/s, now=None]"
     ]
    },
    {
     "name": "stdout",
     "output_type": "stream",
     "text": [
      "Wrong separation between lines\n"
     ]
    },
    {
     "name": "stderr",
     "output_type": "stream",
     "text": [
      "\r",
      "t:  71%|████████████████████████████████████▎              | 345/485 [01:22<00:33,  4.24it/s, now=None]"
     ]
    },
    {
     "name": "stdout",
     "output_type": "stream",
     "text": [
      "Wrong separation between lines\n"
     ]
    },
    {
     "name": "stderr",
     "output_type": "stream",
     "text": [
      "\r",
      "t:  71%|████████████████████████████████████▍              | 346/485 [01:23<00:33,  4.12it/s, now=None]"
     ]
    },
    {
     "name": "stdout",
     "output_type": "stream",
     "text": [
      "Wrong separation between lines\n"
     ]
    },
    {
     "name": "stderr",
     "output_type": "stream",
     "text": [
      "\r",
      "t:  72%|████████████████████████████████████▍              | 347/485 [01:23<00:33,  4.12it/s, now=None]"
     ]
    },
    {
     "name": "stdout",
     "output_type": "stream",
     "text": [
      "Wrong separation between lines\n"
     ]
    },
    {
     "name": "stderr",
     "output_type": "stream",
     "text": [
      "\r",
      "t:  72%|████████████████████████████████████▌              | 348/485 [01:23<00:34,  3.98it/s, now=None]"
     ]
    },
    {
     "name": "stdout",
     "output_type": "stream",
     "text": [
      "Wrong separation between lines\n"
     ]
    },
    {
     "name": "stderr",
     "output_type": "stream",
     "text": [
      "\r",
      "t:  72%|████████████████████████████████████▋              | 349/485 [01:24<00:35,  3.84it/s, now=None]"
     ]
    },
    {
     "name": "stdout",
     "output_type": "stream",
     "text": [
      "Wrong separation between lines\n"
     ]
    },
    {
     "name": "stderr",
     "output_type": "stream",
     "text": [
      "\r",
      "t:  72%|████████████████████████████████████▊              | 350/485 [01:24<00:34,  3.88it/s, now=None]"
     ]
    },
    {
     "name": "stdout",
     "output_type": "stream",
     "text": [
      "Wrong separation between lines\n"
     ]
    },
    {
     "name": "stderr",
     "output_type": "stream",
     "text": [
      "\r",
      "t:  72%|████████████████████████████████████▉              | 351/485 [01:24<00:34,  3.89it/s, now=None]"
     ]
    },
    {
     "name": "stdout",
     "output_type": "stream",
     "text": [
      "Wrong separation between lines\n"
     ]
    },
    {
     "name": "stderr",
     "output_type": "stream",
     "text": [
      "\r",
      "t:  73%|█████████████████████████████████████              | 352/485 [01:24<00:33,  3.99it/s, now=None]"
     ]
    },
    {
     "name": "stdout",
     "output_type": "stream",
     "text": [
      "Wrong separation between lines\n"
     ]
    },
    {
     "name": "stderr",
     "output_type": "stream",
     "text": [
      "\r",
      "t:  73%|█████████████████████████████████████              | 353/485 [01:25<00:33,  3.96it/s, now=None]"
     ]
    },
    {
     "name": "stdout",
     "output_type": "stream",
     "text": [
      "Wrong separation between lines\n"
     ]
    },
    {
     "name": "stderr",
     "output_type": "stream",
     "text": [
      "t:  73%|█████████████████████████████████████▎             | 355/485 [01:25<00:32,  3.99it/s, now=None]"
     ]
    },
    {
     "name": "stdout",
     "output_type": "stream",
     "text": [
      "Wrong separation between lines\n"
     ]
    },
    {
     "name": "stderr",
     "output_type": "stream",
     "text": [
      "\r",
      "t:  73%|█████████████████████████████████████▍             | 356/485 [01:25<00:31,  4.15it/s, now=None]"
     ]
    },
    {
     "name": "stdout",
     "output_type": "stream",
     "text": [
      "Wrong separation between lines\n"
     ]
    },
    {
     "name": "stderr",
     "output_type": "stream",
     "text": [
      "\r",
      "t:  74%|█████████████████████████████████████▌             | 357/485 [01:25<00:31,  4.11it/s, now=None]"
     ]
    },
    {
     "name": "stdout",
     "output_type": "stream",
     "text": [
      "Wrong separation between lines\n"
     ]
    },
    {
     "name": "stderr",
     "output_type": "stream",
     "text": [
      "\r",
      "t:  74%|█████████████████████████████████████▋             | 358/485 [01:26<00:31,  4.03it/s, now=None]"
     ]
    },
    {
     "name": "stdout",
     "output_type": "stream",
     "text": [
      "Wrong separation between lines\n"
     ]
    },
    {
     "name": "stderr",
     "output_type": "stream",
     "text": [
      "t:  74%|█████████████████████████████████████▊             | 360/485 [01:26<00:32,  3.89it/s, now=None]"
     ]
    },
    {
     "name": "stdout",
     "output_type": "stream",
     "text": [
      "Wrong separation between lines\n"
     ]
    },
    {
     "name": "stderr",
     "output_type": "stream",
     "text": [
      "\r",
      "t:  74%|█████████████████████████████████████▉             | 361/485 [01:26<00:30,  4.02it/s, now=None]"
     ]
    },
    {
     "name": "stdout",
     "output_type": "stream",
     "text": [
      "Wrong separation between lines\n"
     ]
    },
    {
     "name": "stderr",
     "output_type": "stream",
     "text": [
      "\r",
      "t:  75%|██████████████████████████████████████             | 362/485 [01:27<00:30,  4.01it/s, now=None]"
     ]
    },
    {
     "name": "stdout",
     "output_type": "stream",
     "text": [
      "Wrong separation between lines\n"
     ]
    },
    {
     "name": "stderr",
     "output_type": "stream",
     "text": [
      "\r",
      "t:  75%|██████████████████████████████████████▏            | 363/485 [01:27<00:30,  3.98it/s, now=None]"
     ]
    },
    {
     "name": "stdout",
     "output_type": "stream",
     "text": [
      "Wrong separation between lines\n"
     ]
    },
    {
     "name": "stderr",
     "output_type": "stream",
     "text": [
      "\r",
      "t:  75%|██████████████████████████████████████▎            | 364/485 [01:27<00:30,  3.99it/s, now=None]"
     ]
    },
    {
     "name": "stdout",
     "output_type": "stream",
     "text": [
      "Wrong separation between lines\n"
     ]
    },
    {
     "name": "stderr",
     "output_type": "stream",
     "text": [
      "\r",
      "t:  75%|██████████████████████████████████████▍            | 365/485 [01:27<00:29,  4.11it/s, now=None]"
     ]
    },
    {
     "name": "stdout",
     "output_type": "stream",
     "text": [
      "Wrong separation between lines\n"
     ]
    },
    {
     "name": "stderr",
     "output_type": "stream",
     "text": [
      "\r",
      "t:  75%|██████████████████████████████████████▍            | 366/485 [01:28<00:29,  4.07it/s, now=None]"
     ]
    },
    {
     "name": "stdout",
     "output_type": "stream",
     "text": [
      "Wrong separation between lines\n"
     ]
    },
    {
     "name": "stderr",
     "output_type": "stream",
     "text": [
      "\r",
      "t:  76%|██████████████████████████████████████▌            | 367/485 [01:28<00:28,  4.10it/s, now=None]"
     ]
    },
    {
     "name": "stdout",
     "output_type": "stream",
     "text": [
      "Wrong separation between lines\n"
     ]
    },
    {
     "name": "stderr",
     "output_type": "stream",
     "text": [
      "t:  76%|██████████████████████████████████████▊            | 369/485 [01:28<00:28,  4.03it/s, now=None]"
     ]
    },
    {
     "name": "stdout",
     "output_type": "stream",
     "text": [
      "missdetection\n",
      "[ 3.07273528e-04 -5.60476532e-01  1.39299332e+02]\n",
      "Wrong separation between lines\n"
     ]
    },
    {
     "name": "stderr",
     "output_type": "stream",
     "text": [
      "\r",
      "t:  76%|██████████████████████████████████████▉            | 370/485 [01:29<00:28,  4.04it/s, now=None]"
     ]
    },
    {
     "name": "stdout",
     "output_type": "stream",
     "text": [
      "Wrong separation between lines\n"
     ]
    },
    {
     "name": "stderr",
     "output_type": "stream",
     "text": [
      "\r",
      "t:  76%|███████████████████████████████████████            | 371/485 [01:29<00:27,  4.10it/s, now=None]"
     ]
    },
    {
     "name": "stdout",
     "output_type": "stream",
     "text": [
      "Wrong separation between lines\n"
     ]
    },
    {
     "name": "stderr",
     "output_type": "stream",
     "text": [
      "\r",
      "t:  77%|███████████████████████████████████████            | 372/485 [01:29<00:27,  4.10it/s, now=None]"
     ]
    },
    {
     "name": "stdout",
     "output_type": "stream",
     "text": [
      "Wrong separation between lines\n"
     ]
    },
    {
     "name": "stderr",
     "output_type": "stream",
     "text": [
      "\r",
      "t:  77%|███████████████████████████████████████▏           | 373/485 [01:29<00:27,  4.14it/s, now=None]"
     ]
    },
    {
     "name": "stdout",
     "output_type": "stream",
     "text": [
      "Wrong separation between lines\n"
     ]
    },
    {
     "name": "stderr",
     "output_type": "stream",
     "text": [
      "\r",
      "t:  77%|███████████████████████████████████████▎           | 374/485 [01:30<00:26,  4.21it/s, now=None]"
     ]
    },
    {
     "name": "stdout",
     "output_type": "stream",
     "text": [
      "missdetection\n",
      "[ 2.01591214e-04 -2.59481414e-01  1.01724879e+02]\n",
      "Wrong separation between lines\n"
     ]
    },
    {
     "name": "stderr",
     "output_type": "stream",
     "text": [
      "t:  78%|███████████████████████████████████████▌           | 376/485 [01:30<00:26,  4.10it/s, now=None]"
     ]
    },
    {
     "name": "stdout",
     "output_type": "stream",
     "text": [
      "Wrong separation between lines\n"
     ]
    },
    {
     "name": "stderr",
     "output_type": "stream",
     "text": [
      "t:  78%|███████████████████████████████████████▋           | 378/485 [01:31<00:25,  4.20it/s, now=None]"
     ]
    },
    {
     "name": "stdout",
     "output_type": "stream",
     "text": [
      "Wrong separation between lines\n"
     ]
    },
    {
     "name": "stderr",
     "output_type": "stream",
     "text": [
      "\r",
      "t:  78%|███████████████████████████████████████▊           | 379/485 [01:31<00:25,  4.21it/s, now=None]"
     ]
    },
    {
     "name": "stdout",
     "output_type": "stream",
     "text": [
      "Wrong separation between lines\n"
     ]
    },
    {
     "name": "stderr",
     "output_type": "stream",
     "text": [
      "\r",
      "t:  78%|███████████████████████████████████████▉           | 380/485 [01:31<00:25,  4.11it/s, now=None]"
     ]
    },
    {
     "name": "stdout",
     "output_type": "stream",
     "text": [
      "Wrong separation between lines\n"
     ]
    },
    {
     "name": "stderr",
     "output_type": "stream",
     "text": [
      "\r",
      "t:  79%|████████████████████████████████████████           | 381/485 [01:31<00:25,  4.11it/s, now=None]"
     ]
    },
    {
     "name": "stdout",
     "output_type": "stream",
     "text": [
      "Wrong separation between lines\n"
     ]
    },
    {
     "name": "stderr",
     "output_type": "stream",
     "text": [
      "\r",
      "t:  79%|████████████████████████████████████████▏          | 382/485 [01:32<00:24,  4.20it/s, now=None]"
     ]
    },
    {
     "name": "stdout",
     "output_type": "stream",
     "text": [
      "Wrong separation between lines\n"
     ]
    },
    {
     "name": "stderr",
     "output_type": "stream",
     "text": [
      "\r",
      "t:  79%|████████████████████████████████████████▎          | 383/485 [01:32<00:24,  4.11it/s, now=None]"
     ]
    },
    {
     "name": "stdout",
     "output_type": "stream",
     "text": [
      "missdetection\n",
      "[ 3.51981797e-04 -4.60419900e-01  1.67667694e+02]\n",
      "Wrong separation between lines\n"
     ]
    },
    {
     "name": "stderr",
     "output_type": "stream",
     "text": [
      "\r",
      "t:  79%|████████████████████████████████████████▍          | 384/485 [01:32<00:24,  4.10it/s, now=None]"
     ]
    },
    {
     "name": "stdout",
     "output_type": "stream",
     "text": [
      "missdetection\n",
      "[ 3.61027340e-04 -4.69205628e-01  1.70681945e+02]\n",
      "Wrong separation between lines\n"
     ]
    },
    {
     "name": "stderr",
     "output_type": "stream",
     "text": [
      "\r",
      "t:  79%|████████████████████████████████████████▍          | 385/485 [01:32<00:24,  4.14it/s, now=None]"
     ]
    },
    {
     "name": "stdout",
     "output_type": "stream",
     "text": [
      "missdetection\n",
      "[ 4.21446066e-04 -5.91410139e-01  2.26077622e+02]\n",
      "Wrong separation between lines\n"
     ]
    },
    {
     "name": "stderr",
     "output_type": "stream",
     "text": [
      "\r",
      "t:  80%|████████████████████████████████████████▌          | 386/485 [01:33<00:24,  4.01it/s, now=None]"
     ]
    },
    {
     "name": "stdout",
     "output_type": "stream",
     "text": [
      "missdetection\n",
      "[ 3.41715114e-04 -4.83855632e-01  1.96767865e+02]\n",
      "Wrong separation between lines\n"
     ]
    },
    {
     "name": "stderr",
     "output_type": "stream",
     "text": [
      "\r",
      "t:  80%|████████████████████████████████████████▋          | 387/485 [01:33<00:24,  4.00it/s, now=None]"
     ]
    },
    {
     "name": "stdout",
     "output_type": "stream",
     "text": [
      "missdetection\n",
      "[ 8.39149833e-04 -1.09930418e+00  3.84005990e+02]\n",
      "Wrong separation between lines\n"
     ]
    },
    {
     "name": "stderr",
     "output_type": "stream",
     "text": [
      "t:  80%|████████████████████████████████████████▉          | 389/485 [01:33<00:24,  3.90it/s, now=None]"
     ]
    },
    {
     "name": "stdout",
     "output_type": "stream",
     "text": [
      "missdetection\n",
      "[-4.52278094e-03  5.36037259e+00 -1.52006784e+03]\n",
      "Wrong separation between lines\n"
     ]
    },
    {
     "name": "stderr",
     "output_type": "stream",
     "text": [
      "\r",
      "t:  80%|█████████████████████████████████████████          | 390/485 [01:34<00:25,  3.80it/s, now=None]"
     ]
    },
    {
     "name": "stdout",
     "output_type": "stream",
     "text": [
      "missdetection\n",
      "[ 1.68416801e-03 -2.19890717e+00  7.40124744e+02]\n",
      "Wrong separation between lines\n"
     ]
    },
    {
     "name": "stderr",
     "output_type": "stream",
     "text": [
      "\r",
      "t:  81%|█████████████████████████████████████████          | 391/485 [01:34<00:25,  3.62it/s, now=None]"
     ]
    },
    {
     "name": "stdout",
     "output_type": "stream",
     "text": [
      "missdetection\n",
      "[ 1.71125455e-03 -2.23601186e+00  7.54484609e+02]\n",
      "Wrong separation between lines\n"
     ]
    },
    {
     "name": "stderr",
     "output_type": "stream",
     "text": [
      "t:  81%|█████████████████████████████████████████▎         | 393/485 [01:34<00:22,  4.03it/s, now=None]"
     ]
    },
    {
     "name": "stdout",
     "output_type": "stream",
     "text": [
      "Wrong separation between lines\n"
     ]
    },
    {
     "name": "stderr",
     "output_type": "stream",
     "text": [
      "t:  81%|█████████████████████████████████████████▌         | 395/485 [01:35<00:21,  4.11it/s, now=None]"
     ]
    },
    {
     "name": "stdout",
     "output_type": "stream",
     "text": [
      "Wrong separation between lines\n"
     ]
    },
    {
     "name": "stderr",
     "output_type": "stream",
     "text": [
      "\r",
      "t:  82%|█████████████████████████████████████████▋         | 396/485 [01:35<00:21,  4.16it/s, now=None]"
     ]
    },
    {
     "name": "stdout",
     "output_type": "stream",
     "text": [
      "Wrong separation between lines\n"
     ]
    },
    {
     "name": "stderr",
     "output_type": "stream",
     "text": [
      "\r",
      "t:  82%|█████████████████████████████████████████▋         | 397/485 [01:35<00:21,  4.19it/s, now=None]"
     ]
    },
    {
     "name": "stdout",
     "output_type": "stream",
     "text": [
      "Wrong separation between lines\n"
     ]
    },
    {
     "name": "stderr",
     "output_type": "stream",
     "text": [
      "\r",
      "t:  82%|█████████████████████████████████████████▊         | 398/485 [01:36<00:20,  4.23it/s, now=None]"
     ]
    },
    {
     "name": "stdout",
     "output_type": "stream",
     "text": [
      "Wrong separation between lines\n"
     ]
    },
    {
     "name": "stderr",
     "output_type": "stream",
     "text": [
      "\r",
      "t:  82%|█████████████████████████████████████████▉         | 399/485 [01:36<00:20,  4.26it/s, now=None]"
     ]
    },
    {
     "name": "stdout",
     "output_type": "stream",
     "text": [
      "Wrong separation between lines\n"
     ]
    },
    {
     "name": "stderr",
     "output_type": "stream",
     "text": [
      "\r",
      "t:  82%|██████████████████████████████████████████         | 400/485 [01:36<00:19,  4.26it/s, now=None]"
     ]
    },
    {
     "name": "stdout",
     "output_type": "stream",
     "text": [
      "missdetection\n",
      "[ 4.33342907e-04 -5.38639784e-01  1.90238373e+02]\n",
      "Wrong separation between lines\n"
     ]
    },
    {
     "name": "stderr",
     "output_type": "stream",
     "text": [
      "\r",
      "t:  83%|██████████████████████████████████████████▏        | 401/485 [01:36<00:19,  4.31it/s, now=None]"
     ]
    },
    {
     "name": "stdout",
     "output_type": "stream",
     "text": [
      "missdetection\n",
      "[ 2.57389630e-04 -3.17446666e-01  1.20920585e+02]\n",
      "Wrong separation between lines\n"
     ]
    },
    {
     "name": "stderr",
     "output_type": "stream",
     "text": [
      "\r",
      "t:  83%|██████████████████████████████████████████▎        | 402/485 [01:36<00:19,  4.26it/s, now=None]"
     ]
    },
    {
     "name": "stdout",
     "output_type": "stream",
     "text": [
      "missdetection\n",
      "[ 1.30660766e-04 -1.70886277e-01  1.02969266e+02]\n"
     ]
    },
    {
     "name": "stderr",
     "output_type": "stream",
     "text": [
      "\r",
      "t:  83%|██████████████████████████████████████████▍        | 403/485 [01:37<00:20,  4.09it/s, now=None]"
     ]
    },
    {
     "name": "stdout",
     "output_type": "stream",
     "text": [
      "missdetection\n",
      "[ 1.77904884e-04 -2.16458971e-01  1.12350212e+02]\n"
     ]
    },
    {
     "name": "stderr",
     "output_type": "stream",
     "text": [
      "\r",
      "t:  83%|██████████████████████████████████████████▍        | 404/485 [01:37<00:19,  4.07it/s, now=None]"
     ]
    },
    {
     "name": "stdout",
     "output_type": "stream",
     "text": [
      "Wrong separation between lines\n"
     ]
    },
    {
     "name": "stderr",
     "output_type": "stream",
     "text": [
      "\r",
      "t:  84%|██████████████████████████████████████████▌        | 405/485 [01:37<00:19,  4.12it/s, now=None]"
     ]
    },
    {
     "name": "stdout",
     "output_type": "stream",
     "text": [
      "Wrong separation between lines\n"
     ]
    },
    {
     "name": "stderr",
     "output_type": "stream",
     "text": [
      "\r",
      "t:  84%|██████████████████████████████████████████▋        | 406/485 [01:37<00:19,  4.14it/s, now=None]"
     ]
    },
    {
     "name": "stdout",
     "output_type": "stream",
     "text": [
      "Wrong separation between lines\n"
     ]
    },
    {
     "name": "stderr",
     "output_type": "stream",
     "text": [
      "\r",
      "t:  84%|██████████████████████████████████████████▊        | 407/485 [01:38<00:18,  4.31it/s, now=None]"
     ]
    },
    {
     "name": "stdout",
     "output_type": "stream",
     "text": [
      "Wrong separation between lines\n"
     ]
    },
    {
     "name": "stderr",
     "output_type": "stream",
     "text": [
      "\r",
      "t:  84%|██████████████████████████████████████████▉        | 408/485 [01:38<00:18,  4.09it/s, now=None]"
     ]
    },
    {
     "name": "stdout",
     "output_type": "stream",
     "text": [
      "Wrong separation between lines\n"
     ]
    },
    {
     "name": "stderr",
     "output_type": "stream",
     "text": [
      "\r",
      "t:  84%|███████████████████████████████████████████        | 409/485 [01:38<00:18,  4.19it/s, now=None]"
     ]
    },
    {
     "name": "stdout",
     "output_type": "stream",
     "text": [
      "Wrong separation between lines\n"
     ]
    },
    {
     "name": "stderr",
     "output_type": "stream",
     "text": [
      "t:  85%|███████████████████████████████████████████▎       | 412/485 [01:39<00:17,  4.22it/s, now=None]"
     ]
    },
    {
     "name": "stdout",
     "output_type": "stream",
     "text": [
      "Wrong separation between lines\n"
     ]
    },
    {
     "name": "stderr",
     "output_type": "stream",
     "text": [
      "\r",
      "t:  85%|███████████████████████████████████████████▍       | 413/485 [01:39<00:16,  4.29it/s, now=None]"
     ]
    },
    {
     "name": "stdout",
     "output_type": "stream",
     "text": [
      "missdetection\n",
      "[ 4.38850491e-04 -5.96539793e-01  1.90874155e+02]\n",
      "Wrong separation between lines\n"
     ]
    },
    {
     "name": "stderr",
     "output_type": "stream",
     "text": [
      "t:  86%|███████████████████████████████████████████▋       | 416/485 [01:40<00:16,  4.21it/s, now=None]"
     ]
    },
    {
     "name": "stdout",
     "output_type": "stream",
     "text": [
      "Wrong separation between lines\n"
     ]
    },
    {
     "name": "stderr",
     "output_type": "stream",
     "text": [
      "t:  87%|████████████████████████████████████████████▍      | 423/485 [01:41<00:14,  4.35it/s, now=None]"
     ]
    },
    {
     "name": "stdout",
     "output_type": "stream",
     "text": [
      "missdetection\n",
      "[-9.37847834e-04  8.17669738e-01 -1.02949113e+02]\n",
      "Wrong separation between lines\n"
     ]
    },
    {
     "name": "stderr",
     "output_type": "stream",
     "text": [
      "t:  88%|████████████████████████████████████████████▋      | 425/485 [01:42<00:14,  4.13it/s, now=None]"
     ]
    },
    {
     "name": "stdout",
     "output_type": "stream",
     "text": [
      "missdetection\n",
      "[-8.15954069e-04  7.91087050e-01 -1.12426953e+02]\n",
      "Wrong separation between lines\n"
     ]
    },
    {
     "name": "stderr",
     "output_type": "stream",
     "text": [
      "\r",
      "t:  88%|████████████████████████████████████████████▊      | 426/485 [01:42<00:14,  4.06it/s, now=None]"
     ]
    },
    {
     "name": "stdout",
     "output_type": "stream",
     "text": [
      "missdetection\n",
      "[ 5.64169111e-04 -6.99548227e-01  2.32510378e+02]\n",
      "Wrong separation between lines\n"
     ]
    },
    {
     "name": "stderr",
     "output_type": "stream",
     "text": [
      "\r",
      "t:  88%|████████████████████████████████████████████▉      | 427/485 [01:42<00:14,  4.02it/s, now=None]"
     ]
    },
    {
     "name": "stdout",
     "output_type": "stream",
     "text": [
      "missdetection\n",
      "[ 5.67725024e-04 -7.18323438e-01  2.43059053e+02]\n",
      "Wrong separation between lines\n"
     ]
    },
    {
     "name": "stderr",
     "output_type": "stream",
     "text": [
      "\r",
      "t:  88%|█████████████████████████████████████████████      | 428/485 [01:43<00:14,  4.03it/s, now=None]"
     ]
    },
    {
     "name": "stdout",
     "output_type": "stream",
     "text": [
      "missdetection\n",
      "[ 7.52956897e-04 -9.63115696e-01  3.24964796e+02]\n",
      "Wrong separation between lines\n"
     ]
    },
    {
     "name": "stderr",
     "output_type": "stream",
     "text": [
      "\r",
      "t:  88%|█████████████████████████████████████████████      | 429/485 [01:43<00:13,  4.04it/s, now=None]"
     ]
    },
    {
     "name": "stdout",
     "output_type": "stream",
     "text": [
      "missdetection\n",
      "[ 8.72669439e-04 -1.12759851e+00  3.80658780e+02]\n",
      "Wrong separation between lines\n"
     ]
    },
    {
     "name": "stderr",
     "output_type": "stream",
     "text": [
      "\r",
      "t:  89%|█████████████████████████████████████████████▏     | 430/485 [01:43<00:13,  4.00it/s, now=None]"
     ]
    },
    {
     "name": "stdout",
     "output_type": "stream",
     "text": [
      "missdetection\n",
      "[-3.33843251e-04  4.22250309e-01 -1.10405130e+02]\n"
     ]
    },
    {
     "name": "stderr",
     "output_type": "stream",
     "text": [
      "\r",
      "t:  89%|█████████████████████████████████████████████▎     | 431/485 [01:43<00:13,  3.87it/s, now=None]"
     ]
    },
    {
     "name": "stdout",
     "output_type": "stream",
     "text": [
      "missdetection\n",
      "[-3.36257051e-04  4.38394591e-01 -1.20027111e+02]\n"
     ]
    },
    {
     "name": "stderr",
     "output_type": "stream",
     "text": [
      "\r",
      "t:  89%|█████████████████████████████████████████████▍     | 432/485 [01:44<00:13,  3.84it/s, now=None]"
     ]
    },
    {
     "name": "stdout",
     "output_type": "stream",
     "text": [
      "missdetection\n",
      "[-3.41161231e-04  4.44800266e-01 -1.22122699e+02]\n"
     ]
    },
    {
     "name": "stderr",
     "output_type": "stream",
     "text": [
      "\r",
      "t:  89%|█████████████████████████████████████████████▌     | 433/485 [01:44<00:13,  3.98it/s, now=None]"
     ]
    },
    {
     "name": "stdout",
     "output_type": "stream",
     "text": [
      "missdetection\n",
      "[ 1.68466511e-03 -2.19028035e+00  7.31274161e+02]\n",
      "Wrong separation between lines\n"
     ]
    },
    {
     "name": "stderr",
     "output_type": "stream",
     "text": [
      "\r",
      "t:  89%|█████████████████████████████████████████████▋     | 434/485 [01:44<00:12,  4.01it/s, now=None]"
     ]
    },
    {
     "name": "stdout",
     "output_type": "stream",
     "text": [
      "missdetection\n",
      "[ 1.66327007e-03 -2.20488225e+00  7.45051151e+02]\n",
      "Wrong separation between lines\n"
     ]
    },
    {
     "name": "stderr",
     "output_type": "stream",
     "text": [
      "\r",
      "t:  90%|█████████████████████████████████████████████▋     | 435/485 [01:45<00:13,  3.80it/s, now=None]"
     ]
    },
    {
     "name": "stdout",
     "output_type": "stream",
     "text": [
      "missdetection\n",
      "[-3.77432463e-04  5.02281471e-01 -1.43176176e+02]\n"
     ]
    },
    {
     "name": "stderr",
     "output_type": "stream",
     "text": [
      "\r",
      "t:  90%|█████████████████████████████████████████████▊     | 436/485 [01:45<00:13,  3.66it/s, now=None]"
     ]
    },
    {
     "name": "stdout",
     "output_type": "stream",
     "text": [
      "missdetection\n",
      "[-3.62084181e-04  4.78170851e-01 -1.35876553e+02]\n"
     ]
    },
    {
     "name": "stderr",
     "output_type": "stream",
     "text": [
      "\r",
      "t:  90%|█████████████████████████████████████████████▉     | 437/485 [01:45<00:14,  3.40it/s, now=None]"
     ]
    },
    {
     "name": "stdout",
     "output_type": "stream",
     "text": [
      "missdetection\n",
      "[-2.68292062e-04  3.67181885e-01 -1.03753976e+02]\n"
     ]
    },
    {
     "name": "stderr",
     "output_type": "stream",
     "text": [
      "t:  91%|██████████████████████████████████████████████▏    | 439/485 [01:46<00:13,  3.30it/s, now=None]"
     ]
    },
    {
     "name": "stdout",
     "output_type": "stream",
     "text": [
      "missdetection\n",
      "[-1.27185521e-03  1.24839498e+00 -3.10583381e+02]\n",
      "Wrong separation between lines\n"
     ]
    },
    {
     "name": "stderr",
     "output_type": "stream",
     "text": [
      "\r",
      "t:  91%|██████████████████████████████████████████████▎    | 440/485 [01:46<00:13,  3.31it/s, now=None]"
     ]
    },
    {
     "name": "stdout",
     "output_type": "stream",
     "text": [
      "missdetection\n",
      "[ 1.16629332e-03 -1.48549292e+00  4.93092032e+02]\n",
      "Wrong separation between lines\n"
     ]
    },
    {
     "name": "stderr",
     "output_type": "stream",
     "text": [
      "\r",
      "t:  91%|██████████████████████████████████████████████▎    | 441/485 [01:46<00:13,  3.38it/s, now=None]"
     ]
    },
    {
     "name": "stdout",
     "output_type": "stream",
     "text": [
      "missdetection\n",
      "[ 1.65508677e-03 -2.12201789e+00  6.99628462e+02]\n",
      "Wrong separation between lines\n"
     ]
    },
    {
     "name": "stderr",
     "output_type": "stream",
     "text": [
      "\r",
      "t:  91%|██████████████████████████████████████████████▍    | 442/485 [01:47<00:12,  3.36it/s, now=None]"
     ]
    },
    {
     "name": "stdout",
     "output_type": "stream",
     "text": [
      "missdetection\n",
      "[ 1.55383942e-03 -2.01759031e+00  6.98656692e+02]\n"
     ]
    },
    {
     "name": "stderr",
     "output_type": "stream",
     "text": [
      "\r",
      "t:  91%|██████████████████████████████████████████████▌    | 443/485 [01:47<00:12,  3.30it/s, now=None]"
     ]
    },
    {
     "name": "stdout",
     "output_type": "stream",
     "text": [
      "missdetection\n",
      "[-7.62143796e-04  1.02007719e+00 -2.96849633e+02]\n"
     ]
    },
    {
     "name": "stderr",
     "output_type": "stream",
     "text": [
      "\r",
      "t:  92%|██████████████████████████████████████████████▋    | 444/485 [01:47<00:12,  3.31it/s, now=None]"
     ]
    },
    {
     "name": "stdout",
     "output_type": "stream",
     "text": [
      "missdetection\n",
      "[-4.69182021e-04  6.67681703e-01 -1.89841546e+02]\n"
     ]
    },
    {
     "name": "stderr",
     "output_type": "stream",
     "text": [
      "\r",
      "t:  92%|██████████████████████████████████████████████▊    | 445/485 [01:48<00:12,  3.30it/s, now=None]"
     ]
    },
    {
     "name": "stdout",
     "output_type": "stream",
     "text": [
      "missdetection\n",
      "[-5.05765902e-04  7.19962238e-01 -2.08268215e+02]\n"
     ]
    },
    {
     "name": "stderr",
     "output_type": "stream",
     "text": [
      "\r",
      "t:  92%|██████████████████████████████████████████████▉    | 446/485 [01:48<00:11,  3.30it/s, now=None]"
     ]
    },
    {
     "name": "stdout",
     "output_type": "stream",
     "text": [
      "missdetection\n",
      "[-5.75640408e-04  7.97696748e-01 -2.29233652e+02]\n"
     ]
    },
    {
     "name": "stderr",
     "output_type": "stream",
     "text": [
      "\r",
      "t:  92%|███████████████████████████████████████████████    | 447/485 [01:48<00:11,  3.40it/s, now=None]"
     ]
    },
    {
     "name": "stdout",
     "output_type": "stream",
     "text": [
      "missdetection\n",
      "[-6.45771175e-04  8.91769926e-01 -2.60844776e+02]\n"
     ]
    },
    {
     "name": "stderr",
     "output_type": "stream",
     "text": [
      "\r",
      "t:  92%|███████████████████████████████████████████████    | 448/485 [01:48<00:10,  3.45it/s, now=None]"
     ]
    },
    {
     "name": "stdout",
     "output_type": "stream",
     "text": [
      "missdetection\n",
      "[-6.10533596e-04  8.71300082e-01 -2.66799982e+02]\n"
     ]
    },
    {
     "name": "stderr",
     "output_type": "stream",
     "text": [
      "\r",
      "t:  93%|███████████████████████████████████████████████▏   | 449/485 [01:49<00:10,  3.50it/s, now=None]"
     ]
    },
    {
     "name": "stdout",
     "output_type": "stream",
     "text": [
      "missdetection\n",
      "[-4.14060267e-04  6.47693910e-01 -2.05523218e+02]\n"
     ]
    },
    {
     "name": "stderr",
     "output_type": "stream",
     "text": [
      "\r",
      "t:  93%|███████████████████████████████████████████████▎   | 450/485 [01:49<00:09,  3.62it/s, now=None]"
     ]
    },
    {
     "name": "stdout",
     "output_type": "stream",
     "text": [
      "missdetection\n",
      "[-5.86867000e-04  8.48718620e-01 -2.59936297e+02]\n"
     ]
    },
    {
     "name": "stderr",
     "output_type": "stream",
     "text": [
      "\r",
      "t:  93%|███████████████████████████████████████████████▍   | 451/485 [01:49<00:09,  3.69it/s, now=None]"
     ]
    },
    {
     "name": "stdout",
     "output_type": "stream",
     "text": [
      "missdetection\n",
      "[-7.13378270e-04  1.00542015e+00 -3.07503666e+02]\n"
     ]
    },
    {
     "name": "stderr",
     "output_type": "stream",
     "text": [
      "\r",
      "t:  93%|███████████████████████████████████████████████▌   | 452/485 [01:50<00:08,  3.79it/s, now=None]"
     ]
    },
    {
     "name": "stdout",
     "output_type": "stream",
     "text": [
      "missdetection\n",
      "[ 4.06290562e-04 -4.88411607e-01  1.88773361e+02]\n"
     ]
    },
    {
     "name": "stderr",
     "output_type": "stream",
     "text": [
      "\r",
      "t:  93%|███████████████████████████████████████████████▋   | 453/485 [01:50<00:08,  3.98it/s, now=None]"
     ]
    },
    {
     "name": "stdout",
     "output_type": "stream",
     "text": [
      "missdetection\n",
      "[-4.32280071e-04  6.30214135e-01 -1.82944032e+02]\n"
     ]
    },
    {
     "name": "stderr",
     "output_type": "stream",
     "text": [
      "\r",
      "t:  94%|███████████████████████████████████████████████▋   | 454/485 [01:50<00:07,  4.02it/s, now=None]"
     ]
    },
    {
     "name": "stdout",
     "output_type": "stream",
     "text": [
      "missdetection\n",
      "[-6.97620774e-04  9.97114720e-01 -3.09651970e+02]\n"
     ]
    },
    {
     "name": "stderr",
     "output_type": "stream",
     "text": [
      "\r",
      "t:  94%|███████████████████████████████████████████████▊   | 455/485 [01:50<00:07,  3.94it/s, now=None]"
     ]
    },
    {
     "name": "stdout",
     "output_type": "stream",
     "text": [
      "Wrong separation between lines\n"
     ]
    },
    {
     "name": "stderr",
     "output_type": "stream",
     "text": [
      "\r",
      "t:  94%|███████████████████████████████████████████████▉   | 456/485 [01:50<00:07,  3.95it/s, now=None]"
     ]
    },
    {
     "name": "stdout",
     "output_type": "stream",
     "text": [
      "missdetection\n",
      "[ 1.03957219e-03 -1.29884857e+00  4.45620501e+02]\n"
     ]
    },
    {
     "name": "stderr",
     "output_type": "stream",
     "text": [
      "\r",
      "t:  94%|████████████████████████████████████████████████   | 457/485 [01:51<00:07,  3.83it/s, now=None]"
     ]
    },
    {
     "name": "stdout",
     "output_type": "stream",
     "text": [
      "missdetection\n",
      "[ 1.39759854e-03 -1.80413964e+00  6.23188522e+02]\n"
     ]
    },
    {
     "name": "stderr",
     "output_type": "stream",
     "text": [
      "\r",
      "t:  94%|████████████████████████████████████████████████▏  | 458/485 [01:51<00:07,  3.64it/s, now=None]"
     ]
    },
    {
     "name": "stdout",
     "output_type": "stream",
     "text": [
      "missdetection\n",
      "[ 1.27539712e-03 -1.64589087e+00  5.68499355e+02]\n"
     ]
    },
    {
     "name": "stderr",
     "output_type": "stream",
     "text": [
      "\r",
      "t:  95%|████████████████████████████████████████████████▎  | 459/485 [01:51<00:07,  3.64it/s, now=None]"
     ]
    },
    {
     "name": "stdout",
     "output_type": "stream",
     "text": [
      "missdetection\n",
      "[ 1.01434659e-03 -1.28726489e+00  4.49530244e+02]\n"
     ]
    },
    {
     "name": "stderr",
     "output_type": "stream",
     "text": [
      "t:  95%|████████████████████████████████████████████████▍  | 461/485 [01:52<00:06,  3.73it/s, now=None]"
     ]
    },
    {
     "name": "stdout",
     "output_type": "stream",
     "text": [
      "missdetection\n",
      "[-2.15368663e-03  1.95638358e+00 -4.06809876e+02]\n",
      "Wrong separation between lines\n"
     ]
    },
    {
     "name": "stderr",
     "output_type": "stream",
     "text": [
      "t:  95%|████████████████████████████████████████████████▋  | 463/485 [01:52<00:05,  4.01it/s, now=None]"
     ]
    },
    {
     "name": "stdout",
     "output_type": "stream",
     "text": [
      "missdetection\n",
      "[-2.70149658e-03  2.68155035e+00 -6.28952954e+02]\n",
      "Wrong separation between lines\n"
     ]
    },
    {
     "name": "stderr",
     "output_type": "stream",
     "text": [
      "\r",
      "t:  96%|████████████████████████████████████████████████▊  | 464/485 [01:53<00:05,  4.11it/s, now=None]"
     ]
    },
    {
     "name": "stdout",
     "output_type": "stream",
     "text": [
      "missdetection\n",
      "[ 6.67310919e-04 -8.55508321e-01  3.11560643e+02]\n"
     ]
    },
    {
     "name": "stderr",
     "output_type": "stream",
     "text": [
      "\r",
      "t:  96%|████████████████████████████████████████████████▉  | 465/485 [01:53<00:04,  4.12it/s, now=None]"
     ]
    },
    {
     "name": "stdout",
     "output_type": "stream",
     "text": [
      "missdetection\n",
      "[ 6.98559253e-04 -8.90024825e-01  3.27714495e+02]\n"
     ]
    },
    {
     "name": "stderr",
     "output_type": "stream",
     "text": [
      "\r",
      "t:  96%|█████████████████████████████████████████████████  | 466/485 [01:53<00:05,  3.79it/s, now=None]"
     ]
    },
    {
     "name": "stdout",
     "output_type": "stream",
     "text": [
      "missdetection\n",
      "[ 1.08549492e-03 -1.39392627e+00  4.87243917e+02]\n"
     ]
    },
    {
     "name": "stderr",
     "output_type": "stream",
     "text": [
      "\r",
      "t:  96%|█████████████████████████████████████████████████  | 467/485 [01:53<00:04,  3.65it/s, now=None]"
     ]
    },
    {
     "name": "stdout",
     "output_type": "stream",
     "text": [
      "missdetection\n",
      "[ 1.51028497e-03 -1.96096597e+00  6.75601688e+02]\n"
     ]
    },
    {
     "name": "stderr",
     "output_type": "stream",
     "text": [
      "\r",
      "t:  96%|█████████████████████████████████████████████████▏ | 468/485 [01:54<00:04,  3.52it/s, now=None]"
     ]
    },
    {
     "name": "stdout",
     "output_type": "stream",
     "text": [
      "missdetection\n",
      "[ 1.45887955e-03 -1.88592592e+00  6.48812638e+02]\n"
     ]
    },
    {
     "name": "stderr",
     "output_type": "stream",
     "text": [
      "\r",
      "t:  97%|█████████████████████████████████████████████████▎ | 469/485 [01:54<00:04,  3.33it/s, now=None]"
     ]
    },
    {
     "name": "stdout",
     "output_type": "stream",
     "text": [
      "missdetection\n",
      "[ 1.57718266e-03 -2.04899305e+00  7.04566553e+02]\n"
     ]
    },
    {
     "name": "stderr",
     "output_type": "stream",
     "text": [
      "\r",
      "t:  97%|█████████████████████████████████████████████████▍ | 470/485 [01:54<00:04,  3.27it/s, now=None]"
     ]
    },
    {
     "name": "stdout",
     "output_type": "stream",
     "text": [
      "missdetection\n",
      "[ 1.66212697e-03 -2.16512278e+00  7.44228196e+02]\n"
     ]
    },
    {
     "name": "stderr",
     "output_type": "stream",
     "text": [
      "\r",
      "t:  97%|█████████████████████████████████████████████████▌ | 471/485 [01:55<00:04,  3.29it/s, now=None]"
     ]
    },
    {
     "name": "stdout",
     "output_type": "stream",
     "text": [
      "missdetection\n",
      "[ 1.22597899e-03 -1.57142237e+00  5.42919025e+02]\n"
     ]
    },
    {
     "name": "stderr",
     "output_type": "stream",
     "text": [
      "\r",
      "t:  97%|█████████████████████████████████████████████████▋ | 472/485 [01:55<00:03,  3.37it/s, now=None]"
     ]
    },
    {
     "name": "stdout",
     "output_type": "stream",
     "text": [
      "missdetection\n",
      "[ 5.26222519e-04 -6.36015759e-01  2.30696729e+02]\n"
     ]
    },
    {
     "name": "stderr",
     "output_type": "stream",
     "text": [
      "\r",
      "t:  98%|█████████████████████████████████████████████████▋ | 473/485 [01:55<00:03,  3.43it/s, now=None]"
     ]
    },
    {
     "name": "stdout",
     "output_type": "stream",
     "text": [
      "missdetection\n",
      "[ 1.22141371e-03 -1.55076727e+00  5.27654442e+02]\n"
     ]
    },
    {
     "name": "stderr",
     "output_type": "stream",
     "text": [
      "\r",
      "t:  98%|█████████████████████████████████████████████████▊ | 474/485 [01:55<00:03,  3.53it/s, now=None]"
     ]
    },
    {
     "name": "stdout",
     "output_type": "stream",
     "text": [
      "missdetection\n",
      "[ 1.33920600e-03 -1.69651795e+00  5.70567307e+02]\n"
     ]
    },
    {
     "name": "stderr",
     "output_type": "stream",
     "text": [
      "\r",
      "t:  98%|█████████████████████████████████████████████████▉ | 475/485 [01:56<00:02,  3.56it/s, now=None]"
     ]
    },
    {
     "name": "stdout",
     "output_type": "stream",
     "text": [
      "missdetection\n",
      "[ 8.94226884e-04 -1.11913303e+00  3.82450616e+02]\n"
     ]
    },
    {
     "name": "stderr",
     "output_type": "stream",
     "text": [
      "\r",
      "t:  98%|██████████████████████████████████████████████████ | 476/485 [01:56<00:02,  3.62it/s, now=None]"
     ]
    },
    {
     "name": "stdout",
     "output_type": "stream",
     "text": [
      "missdetection\n",
      "[ 8.57049002e-04 -1.07382126e+00  3.67513645e+02]\n"
     ]
    },
    {
     "name": "stderr",
     "output_type": "stream",
     "text": [
      "\r",
      "t:  98%|██████████████████████████████████████████████████▏| 477/485 [01:56<00:02,  3.48it/s, now=None]"
     ]
    },
    {
     "name": "stdout",
     "output_type": "stream",
     "text": [
      "missdetection\n",
      "[ 1.12369967e-03 -1.43327252e+00  4.92589438e+02]\n"
     ]
    },
    {
     "name": "stderr",
     "output_type": "stream",
     "text": [
      "\r",
      "t:  99%|██████████████████████████████████████████████████▎| 478/485 [01:57<00:02,  3.47it/s, now=None]"
     ]
    },
    {
     "name": "stdout",
     "output_type": "stream",
     "text": [
      "missdetection\n",
      "[ 1.60052305e-03 -2.08670306e+00  7.15808022e+02]\n"
     ]
    },
    {
     "name": "stderr",
     "output_type": "stream",
     "text": [
      "\r",
      "t:  99%|██████████████████████████████████████████████████▎| 479/485 [01:57<00:01,  3.39it/s, now=None]"
     ]
    },
    {
     "name": "stdout",
     "output_type": "stream",
     "text": [
      "missdetection\n",
      "[ 1.59847995e-03 -2.08584752e+00  7.15974216e+02]\n"
     ]
    },
    {
     "name": "stderr",
     "output_type": "stream",
     "text": [
      "\r",
      "t:  99%|██████████████████████████████████████████████████▍| 480/485 [01:57<00:01,  3.39it/s, now=None]"
     ]
    },
    {
     "name": "stdout",
     "output_type": "stream",
     "text": [
      "missdetection\n",
      "[ 1.59611707e-03 -2.07359556e+00  7.08942211e+02]\n"
     ]
    },
    {
     "name": "stderr",
     "output_type": "stream",
     "text": [
      "\r",
      "t:  99%|██████████████████████████████████████████████████▌| 481/485 [01:58<00:01,  3.32it/s, now=None]"
     ]
    },
    {
     "name": "stdout",
     "output_type": "stream",
     "text": [
      "missdetection\n",
      "[ 5.70095685e-04 -7.41582563e-01  2.78061662e+02]\n"
     ]
    },
    {
     "name": "stderr",
     "output_type": "stream",
     "text": [
      "t: 100%|██████████████████████████████████████████████████▊| 483/485 [01:58<00:00,  3.35it/s, now=None]"
     ]
    },
    {
     "name": "stdout",
     "output_type": "stream",
     "text": [
      "Wrong separation between lines\n"
     ]
    },
    {
     "name": "stderr",
     "output_type": "stream",
     "text": [
      "t: 100%|███████████████████████████████████████████████████| 485/485 [01:59<00:00,  3.55it/s, now=None]"
     ]
    },
    {
     "name": "stdout",
     "output_type": "stream",
     "text": [
      "Wrong separation between lines\n"
     ]
    },
    {
     "name": "stderr",
     "output_type": "stream",
     "text": [
      "                                                                                                       \r"
     ]
    },
    {
     "name": "stdout",
     "output_type": "stream",
     "text": [
      "Moviepy - Done !\n",
      "Moviepy - video ready output_videos/challenge_video.mp4\n",
      "Wall time: 2min\n"
     ]
    }
   ],
   "source": [
    "# Instanciate cLine classes\n",
    "lineLeft = Line()\n",
    "lineRight = Line()\n",
    "\n",
    "\n",
    "challenge_output = 'output_videos/challenge_video.mp4'\n",
    "clip2 = VideoFileClip(\"test_videos/challenge_video.mp4\")\n",
    "\n",
    "challenge_clip = clip2.fl_image(process_frame) #NOTE: this function expects color images!!\n",
    "%time challenge_clip.write_videofile(challenge_output, audio=False)"
   ]
  },
  {
   "cell_type": "code",
   "execution_count": 6,
   "id": "5022385c",
   "metadata": {},
   "outputs": [
    {
     "data": {
      "text/html": [
       "\n",
       "<video width=\"960\" height=\"540\" controls>\n",
       "  <source src=\"output_videos/challenge_video.mp4\">\n",
       "</video>\n"
      ],
      "text/plain": [
       "<IPython.core.display.HTML object>"
      ]
     },
     "execution_count": 6,
     "metadata": {},
     "output_type": "execute_result"
    }
   ],
   "source": [
    "HTML(\"\"\"\n",
    "<video width=\"960\" height=\"540\" controls>\n",
    "  <source src=\"{0}\">\n",
    "</video>\n",
    "\"\"\".format(challenge_output))"
   ]
  },
  {
   "cell_type": "code",
   "execution_count": 7,
   "id": "38f346b8",
   "metadata": {},
   "outputs": [
    {
     "name": "stderr",
     "output_type": "stream",
     "text": [
      "\r",
      "t:   0%|                                                            | 0/1199 [00:00<?, ?it/s, now=None]"
     ]
    },
    {
     "name": "stdout",
     "output_type": "stream",
     "text": [
      "Moviepy - Building video output_videos/harder_challenge_video.mp4.\n",
      "Moviepy - Writing video output_videos/harder_challenge_video.mp4\n",
      "\n"
     ]
    },
    {
     "name": "stderr",
     "output_type": "stream",
     "text": [
      "t:   3%|█▋                                                 | 40/1199 [00:09<04:48,  4.02it/s, now=None]"
     ]
    },
    {
     "name": "stdout",
     "output_type": "stream",
     "text": [
      "missdetection\n",
      "[ 4.62634602e-04 -4.64199303e-01  1.05741850e+02]\n",
      "Wrong separation between lines\n"
     ]
    },
    {
     "name": "stderr",
     "output_type": "stream",
     "text": [
      "t:   4%|█▊                                                 | 42/1199 [00:10<04:37,  4.17it/s, now=None]"
     ]
    },
    {
     "name": "stdout",
     "output_type": "stream",
     "text": [
      "missdetection\n",
      "[ 5.29303078e-04 -5.46563015e-01  1.28403062e+02]\n"
     ]
    },
    {
     "name": "stderr",
     "output_type": "stream",
     "text": [
      "t:   4%|█▊                                                 | 44/1199 [00:10<04:50,  3.97it/s, now=None]"
     ]
    },
    {
     "name": "stdout",
     "output_type": "stream",
     "text": [
      "missdetection\n",
      "[ 5.43283208e-04 -5.81159558e-01  1.43189834e+02]\n",
      "Wrong separation between lines\n"
     ]
    },
    {
     "name": "stderr",
     "output_type": "stream",
     "text": [
      "t:   4%|█▉                                                 | 46/1199 [00:11<04:48,  4.00it/s, now=None]"
     ]
    },
    {
     "name": "stdout",
     "output_type": "stream",
     "text": [
      "missdetection\n",
      "[ 5.84082889e-04 -6.39459252e-01  1.60744837e+02]\n",
      "Wrong separation between lines\n"
     ]
    },
    {
     "name": "stderr",
     "output_type": "stream",
     "text": [
      "t:   4%|██                                                 | 48/1199 [00:11<04:35,  4.17it/s, now=None]"
     ]
    },
    {
     "name": "stdout",
     "output_type": "stream",
     "text": [
      "missdetection\n",
      "[ 6.10547684e-04 -6.85739041e-01  1.79109161e+02]\n",
      "Wrong separation between lines\n"
     ]
    },
    {
     "name": "stderr",
     "output_type": "stream",
     "text": [
      "t:   4%|██▏                                                | 50/1199 [00:12<04:39,  4.11it/s, now=None]"
     ]
    },
    {
     "name": "stdout",
     "output_type": "stream",
     "text": [
      "missdetection\n",
      "[ 5.22128003e-04 -6.22456409e-01  1.70583385e+02]\n",
      "Wrong separation between lines\n"
     ]
    },
    {
     "name": "stderr",
     "output_type": "stream",
     "text": [
      "\r",
      "t:   4%|██▏                                                | 51/1199 [00:12<04:38,  4.12it/s, now=None]"
     ]
    },
    {
     "name": "stdout",
     "output_type": "stream",
     "text": [
      "missdetection\n",
      "[ 2.20679961e-04 -3.29665285e-01  1.01438476e+02]\n"
     ]
    },
    {
     "name": "stderr",
     "output_type": "stream",
     "text": [
      "\r",
      "t:   4%|██▏                                                | 52/1199 [00:12<04:56,  3.86it/s, now=None]"
     ]
    },
    {
     "name": "stdout",
     "output_type": "stream",
     "text": [
      "missdetection\n",
      "[ 2.32148378e-04 -3.44564019e-01  1.06065570e+02]\n"
     ]
    },
    {
     "name": "stderr",
     "output_type": "stream",
     "text": [
      "\r",
      "t:   4%|██▎                                                | 53/1199 [00:13<04:56,  3.87it/s, now=None]"
     ]
    },
    {
     "name": "stdout",
     "output_type": "stream",
     "text": [
      "missdetection\n",
      "[ 2.72046134e-04 -3.94263509e-01  1.21003130e+02]\n"
     ]
    },
    {
     "name": "stderr",
     "output_type": "stream",
     "text": [
      "\r",
      "t:   5%|██▎                                                | 54/1199 [00:13<05:03,  3.77it/s, now=None]"
     ]
    },
    {
     "name": "stdout",
     "output_type": "stream",
     "text": [
      "missdetection\n",
      "[ 2.84589127e-04 -4.11356352e-01  1.26201026e+02]\n"
     ]
    },
    {
     "name": "stderr",
     "output_type": "stream",
     "text": [
      "\r",
      "t:   5%|██▎                                                | 55/1199 [00:13<05:06,  3.73it/s, now=None]"
     ]
    },
    {
     "name": "stdout",
     "output_type": "stream",
     "text": [
      "missdetection\n",
      "[ 3.24693846e-04 -4.58266727e-01  1.39321928e+02]\n"
     ]
    },
    {
     "name": "stderr",
     "output_type": "stream",
     "text": [
      "\r",
      "t:   5%|██▍                                                | 56/1199 [00:14<05:10,  3.69it/s, now=None]"
     ]
    },
    {
     "name": "stdout",
     "output_type": "stream",
     "text": [
      "missdetection\n",
      "[ 3.22914923e-04 -4.63353357e-01  1.42975832e+02]\n"
     ]
    },
    {
     "name": "stderr",
     "output_type": "stream",
     "text": [
      "\r",
      "t:   5%|██▍                                                | 57/1199 [00:14<05:15,  3.62it/s, now=None]"
     ]
    },
    {
     "name": "stdout",
     "output_type": "stream",
     "text": [
      "missdetection\n",
      "[ 3.53292077e-04 -4.95452947e-01  1.50267972e+02]\n"
     ]
    },
    {
     "name": "stderr",
     "output_type": "stream",
     "text": [
      "\r",
      "t:   5%|██▍                                                | 58/1199 [00:14<05:22,  3.54it/s, now=None]"
     ]
    },
    {
     "name": "stdout",
     "output_type": "stream",
     "text": [
      "missdetection\n",
      "[ 3.82808865e-04 -5.30877110e-01  1.61051843e+02]\n"
     ]
    },
    {
     "name": "stderr",
     "output_type": "stream",
     "text": [
      "\r",
      "t:   5%|██▌                                                | 59/1199 [00:14<05:14,  3.62it/s, now=None]"
     ]
    },
    {
     "name": "stdout",
     "output_type": "stream",
     "text": [
      "missdetection\n",
      "[ 3.88063180e-04 -5.27791553e-01  1.57004335e+02]\n"
     ]
    },
    {
     "name": "stderr",
     "output_type": "stream",
     "text": [
      "\r",
      "t:   5%|██▌                                                | 60/1199 [00:15<05:17,  3.58it/s, now=None]"
     ]
    },
    {
     "name": "stdout",
     "output_type": "stream",
     "text": [
      "missdetection\n",
      "[ 3.79629594e-04 -5.23007271e-01  1.57321776e+02]\n"
     ]
    },
    {
     "name": "stderr",
     "output_type": "stream",
     "text": [
      "\r",
      "t:   5%|██▌                                                | 61/1199 [00:15<05:18,  3.57it/s, now=None]"
     ]
    },
    {
     "name": "stdout",
     "output_type": "stream",
     "text": [
      "missdetection\n",
      "[ 4.38616660e-04 -6.00707800e-01  1.82456454e+02]\n"
     ]
    },
    {
     "name": "stderr",
     "output_type": "stream",
     "text": [
      "\r",
      "t:   5%|██▋                                                | 62/1199 [00:15<05:19,  3.56it/s, now=None]"
     ]
    },
    {
     "name": "stdout",
     "output_type": "stream",
     "text": [
      "missdetection\n",
      "[ 4.51802599e-04 -6.18590702e-01  1.88008503e+02]\n"
     ]
    },
    {
     "name": "stderr",
     "output_type": "stream",
     "text": [
      "\r",
      "t:   5%|██▋                                                | 63/1199 [00:16<05:20,  3.55it/s, now=None]"
     ]
    },
    {
     "name": "stdout",
     "output_type": "stream",
     "text": [
      "missdetection\n",
      "[-5.71572282e-04  6.43644868e-01 -1.96831216e+02]\n",
      "Wrong separation between lines\n"
     ]
    },
    {
     "name": "stderr",
     "output_type": "stream",
     "text": [
      "\r",
      "t:   5%|██▋                                                | 64/1199 [00:16<05:08,  3.68it/s, now=None]"
     ]
    },
    {
     "name": "stdout",
     "output_type": "stream",
     "text": [
      "missdetection\n",
      "[-6.55726296e-04  7.42650173e-01 -2.30603766e+02]\n",
      "Wrong separation between lines\n"
     ]
    },
    {
     "name": "stderr",
     "output_type": "stream",
     "text": [
      "\r",
      "t:   5%|██▊                                                | 65/1199 [00:16<04:53,  3.87it/s, now=None]"
     ]
    },
    {
     "name": "stdout",
     "output_type": "stream",
     "text": [
      "missdetection\n",
      "[-5.80037820e-04  6.73064728e-01 -2.19199950e+02]\n",
      "Wrong separation between lines\n"
     ]
    },
    {
     "name": "stderr",
     "output_type": "stream",
     "text": [
      "\r",
      "t:   6%|██▊                                                | 66/1199 [00:16<04:45,  3.97it/s, now=None]"
     ]
    },
    {
     "name": "stdout",
     "output_type": "stream",
     "text": [
      "missdetection\n",
      "[-4.99574111e-04  5.89331628e-01 -1.97863903e+02]\n",
      "Wrong separation between lines\n"
     ]
    },
    {
     "name": "stderr",
     "output_type": "stream",
     "text": [
      "\r",
      "t:   6%|██▊                                                | 67/1199 [00:16<04:35,  4.11it/s, now=None]"
     ]
    },
    {
     "name": "stdout",
     "output_type": "stream",
     "text": [
      "missdetection\n",
      "[-4.83577165e-04  5.78713326e-01 -1.97414465e+02]\n",
      "Wrong separation between lines\n"
     ]
    },
    {
     "name": "stderr",
     "output_type": "stream",
     "text": [
      "\r",
      "t:   6%|██▉                                                | 68/1199 [00:17<04:29,  4.19it/s, now=None]"
     ]
    },
    {
     "name": "stdout",
     "output_type": "stream",
     "text": [
      "missdetection\n",
      "[-5.04502212e-04  6.08801162e-01 -2.07021879e+02]\n",
      "Wrong separation between lines\n"
     ]
    },
    {
     "name": "stderr",
     "output_type": "stream",
     "text": [
      "\r",
      "t:   6%|██▉                                                | 69/1199 [00:17<04:26,  4.24it/s, now=None]"
     ]
    },
    {
     "name": "stdout",
     "output_type": "stream",
     "text": [
      "missdetection\n",
      "[-4.67821153e-04  5.69065963e-01 -1.95247849e+02]\n",
      "missdetection\n",
      "[ 3.07737202e-04 -3.62960350e-01  1.04586444e+02]\n",
      "Wrong separation between lines\n"
     ]
    },
    {
     "name": "stderr",
     "output_type": "stream",
     "text": [
      "\r",
      "t:   6%|██▉                                                | 70/1199 [00:17<04:27,  4.22it/s, now=None]"
     ]
    },
    {
     "name": "stdout",
     "output_type": "stream",
     "text": [
      "missdetection\n",
      "[-4.55614415e-04  5.58673886e-01 -1.94668146e+02]\n",
      "missdetection\n",
      "[ 3.30030025e-04 -3.79181617e-01  1.08078696e+02]\n",
      "Wrong separation between lines\n"
     ]
    },
    {
     "name": "stderr",
     "output_type": "stream",
     "text": [
      "\r",
      "t:   6%|███                                                | 71/1199 [00:17<04:26,  4.24it/s, now=None]"
     ]
    },
    {
     "name": "stdout",
     "output_type": "stream",
     "text": [
      "missdetection\n",
      "[-4.37833014e-04  5.51293091e-01 -1.94713887e+02]\n",
      "missdetection\n",
      "[ 3.82853462e-04 -4.44951481e-01  1.25794317e+02]\n",
      "Wrong separation between lines\n"
     ]
    },
    {
     "name": "stderr",
     "output_type": "stream",
     "text": [
      "\r",
      "t:   6%|███                                                | 72/1199 [00:18<04:23,  4.28it/s, now=None]"
     ]
    },
    {
     "name": "stdout",
     "output_type": "stream",
     "text": [
      "missdetection\n",
      "[-4.39992368e-04  5.52869339e-01 -1.93592474e+02]\n",
      "missdetection\n",
      "[ 3.91427753e-04 -4.31121079e-01  1.16116209e+02]\n",
      "Wrong separation between lines\n"
     ]
    },
    {
     "name": "stderr",
     "output_type": "stream",
     "text": [
      "\r",
      "t:   6%|███                                                | 73/1199 [00:18<04:30,  4.16it/s, now=None]"
     ]
    },
    {
     "name": "stdout",
     "output_type": "stream",
     "text": [
      "missdetection\n",
      "[-2.99702007e-04  3.60138059e-01 -1.27141422e+02]\n",
      "missdetection\n",
      "[ 4.00744623e-04 -4.44070832e-01  1.17081335e+02]\n",
      "Wrong separation between lines\n"
     ]
    },
    {
     "name": "stderr",
     "output_type": "stream",
     "text": [
      "\r",
      "t:   6%|███▏                                               | 74/1199 [00:18<04:28,  4.18it/s, now=None]"
     ]
    },
    {
     "name": "stdout",
     "output_type": "stream",
     "text": [
      "missdetection\n",
      "[-3.37262858e-04  4.35063057e-01 -1.58027414e+02]\n",
      "missdetection\n",
      "[ 4.25307689e-04 -4.67932560e-01  1.21533370e+02]\n",
      "Wrong separation between lines\n"
     ]
    },
    {
     "name": "stderr",
     "output_type": "stream",
     "text": [
      "\r",
      "t:   6%|███▏                                               | 75/1199 [00:18<04:28,  4.18it/s, now=None]"
     ]
    },
    {
     "name": "stdout",
     "output_type": "stream",
     "text": [
      "missdetection\n",
      "[-3.39812946e-04  4.32088825e-01 -1.54129838e+02]\n",
      "missdetection\n",
      "[ 4.85438580e-04 -5.28442138e-01  1.36207006e+02]\n",
      "Wrong separation between lines\n"
     ]
    },
    {
     "name": "stderr",
     "output_type": "stream",
     "text": [
      "\r",
      "t:   6%|███▏                                               | 76/1199 [00:19<04:23,  4.26it/s, now=None]"
     ]
    },
    {
     "name": "stdout",
     "output_type": "stream",
     "text": [
      "missdetection\n",
      "[-2.78988501e-04  3.64366955e-01 -1.34831909e+02]\n",
      "missdetection\n",
      "[ 5.04209121e-04 -5.44021437e-01  1.37456826e+02]\n",
      "Wrong separation between lines\n"
     ]
    },
    {
     "name": "stderr",
     "output_type": "stream",
     "text": [
      "\r",
      "t:   6%|███▎                                               | 77/1199 [00:19<04:25,  4.23it/s, now=None]"
     ]
    },
    {
     "name": "stdout",
     "output_type": "stream",
     "text": [
      "missdetection\n",
      "[-2.21032953e-04  3.02100801e-01 -1.17437101e+02]\n",
      "missdetection\n",
      "[ 5.73496853e-04 -6.26514295e-01  1.61361829e+02]\n",
      "Wrong separation between lines\n"
     ]
    },
    {
     "name": "stderr",
     "output_type": "stream",
     "text": [
      "\r",
      "t:   7%|███▎                                               | 78/1199 [00:19<04:25,  4.23it/s, now=None]"
     ]
    },
    {
     "name": "stdout",
     "output_type": "stream",
     "text": [
      "missdetection\n",
      "[-2.66032141e-04  3.51163006e-01 -1.29550586e+02]\n",
      "missdetection\n",
      "[ 6.01260876e-04 -6.54206696e-01  1.67026776e+02]\n",
      "Wrong separation between lines\n"
     ]
    },
    {
     "name": "stderr",
     "output_type": "stream",
     "text": [
      "\r",
      "t:   7%|███▎                                               | 79/1199 [00:19<04:21,  4.28it/s, now=None]"
     ]
    },
    {
     "name": "stdout",
     "output_type": "stream",
     "text": [
      "missdetection\n",
      "[-2.84055208e-04  3.65178986e-01 -1.30761470e+02]\n",
      "missdetection\n",
      "[ 6.39369535e-04 -7.00407902e-01  1.80169234e+02]\n",
      "Wrong separation between lines\n"
     ]
    },
    {
     "name": "stderr",
     "output_type": "stream",
     "text": [
      "\r",
      "t:   7%|███▍                                               | 80/1199 [00:20<04:27,  4.19it/s, now=None]"
     ]
    },
    {
     "name": "stdout",
     "output_type": "stream",
     "text": [
      "missdetection\n",
      "[-2.39156578e-04  3.26332153e-01 -1.24999064e+02]\n",
      "missdetection\n",
      "[ 7.07889411e-04 -7.87211951e-01  2.07022266e+02]\n",
      "Wrong separation between lines\n"
     ]
    },
    {
     "name": "stderr",
     "output_type": "stream",
     "text": [
      "\r",
      "t:   7%|███▍                                               | 81/1199 [00:20<04:33,  4.09it/s, now=None]"
     ]
    },
    {
     "name": "stdout",
     "output_type": "stream",
     "text": [
      "missdetection\n",
      "[-2.21702440e-04  2.97504246e-01 -1.13090309e+02]\n",
      "missdetection\n",
      "[ 7.82662293e-04 -8.76804636e-01  2.34329246e+02]\n",
      "Wrong separation between lines\n"
     ]
    },
    {
     "name": "stderr",
     "output_type": "stream",
     "text": [
      "\r",
      "t:   7%|███▍                                               | 82/1199 [00:20<04:27,  4.17it/s, now=None]"
     ]
    },
    {
     "name": "stdout",
     "output_type": "stream",
     "text": [
      "missdetection\n",
      "[ 8.16027481e-04 -9.19571120e-01  2.47354370e+02]\n",
      "Wrong separation between lines\n"
     ]
    },
    {
     "name": "stderr",
     "output_type": "stream",
     "text": [
      "\r",
      "t:   7%|███▌                                               | 83/1199 [00:20<04:24,  4.22it/s, now=None]"
     ]
    },
    {
     "name": "stdout",
     "output_type": "stream",
     "text": [
      "missdetection\n",
      "[ 8.32404850e-04 -9.30218279e-01  2.46764448e+02]\n",
      "Wrong separation between lines\n"
     ]
    },
    {
     "name": "stderr",
     "output_type": "stream",
     "text": [
      "\r",
      "t:   7%|███▌                                               | 84/1199 [00:20<04:19,  4.30it/s, now=None]"
     ]
    },
    {
     "name": "stdout",
     "output_type": "stream",
     "text": [
      "missdetection\n",
      "[ 7.55251674e-04 -8.40804483e-01  2.20903398e+02]\n",
      "Wrong separation between lines\n"
     ]
    },
    {
     "name": "stderr",
     "output_type": "stream",
     "text": [
      "\r",
      "t:   7%|███▌                                               | 85/1199 [00:21<04:23,  4.23it/s, now=None]"
     ]
    },
    {
     "name": "stdout",
     "output_type": "stream",
     "text": [
      "missdetection\n",
      "[-1.52792367e-04  2.33685434e-01 -1.00495759e+02]\n",
      "missdetection\n",
      "[ 8.82483468e-04 -9.95027062e-01  2.69887992e+02]\n",
      "Wrong separation between lines\n"
     ]
    },
    {
     "name": "stderr",
     "output_type": "stream",
     "text": [
      "\r",
      "t:   7%|███▋                                               | 86/1199 [00:21<04:25,  4.19it/s, now=None]"
     ]
    },
    {
     "name": "stdout",
     "output_type": "stream",
     "text": [
      "missdetection\n",
      "[ 9.66001516e-04 -1.12405879e+00  3.15328002e+02]\n",
      "Wrong separation between lines\n"
     ]
    },
    {
     "name": "stderr",
     "output_type": "stream",
     "text": [
      "\r",
      "t:   7%|███▋                                               | 87/1199 [00:21<04:34,  4.05it/s, now=None]"
     ]
    },
    {
     "name": "stdout",
     "output_type": "stream",
     "text": [
      "missdetection\n",
      "[ 1.07739558e-03 -1.27291009e+00  3.65385744e+02]\n",
      "Wrong separation between lines\n"
     ]
    },
    {
     "name": "stderr",
     "output_type": "stream",
     "text": [
      "\r",
      "t:   7%|███▋                                               | 88/1199 [00:21<04:40,  3.95it/s, now=None]"
     ]
    },
    {
     "name": "stdout",
     "output_type": "stream",
     "text": [
      "missdetection\n",
      "[-1.48539145e-04  2.44381579e-01 -1.08468874e+02]\n",
      "missdetection\n",
      "[ 1.19197500e-03 -1.42900662e+00  4.20158116e+02]\n",
      "Wrong separation between lines\n"
     ]
    },
    {
     "name": "stderr",
     "output_type": "stream",
     "text": [
      "\r",
      "t:   7%|███▊                                               | 89/1199 [00:22<04:38,  3.98it/s, now=None]"
     ]
    },
    {
     "name": "stdout",
     "output_type": "stream",
     "text": [
      "missdetection\n",
      "[-1.73855403e-04  2.67362554e-01 -1.11508845e+02]\n",
      "missdetection\n",
      "[ 1.29602615e-03 -1.57294307e+00  4.70086980e+02]\n",
      "Wrong separation between lines\n"
     ]
    },
    {
     "name": "stderr",
     "output_type": "stream",
     "text": [
      "\r",
      "t:   8%|███▊                                               | 90/1199 [00:22<04:36,  4.01it/s, now=None]"
     ]
    },
    {
     "name": "stdout",
     "output_type": "stream",
     "text": [
      "missdetection\n",
      "[-3.58981477e-04  5.11144563e-01 -1.83239391e+02]\n"
     ]
    },
    {
     "name": "stderr",
     "output_type": "stream",
     "text": [
      "\r",
      "t:   8%|███▊                                               | 91/1199 [00:22<04:35,  4.02it/s, now=None]"
     ]
    },
    {
     "name": "stdout",
     "output_type": "stream",
     "text": [
      "missdetection\n",
      "[-3.38018732e-04  4.74452997e-01 -1.68454546e+02]\n"
     ]
    },
    {
     "name": "stderr",
     "output_type": "stream",
     "text": [
      "\r",
      "t:   8%|███▉                                               | 92/1199 [00:22<04:40,  3.95it/s, now=None]"
     ]
    },
    {
     "name": "stdout",
     "output_type": "stream",
     "text": [
      "missdetection\n",
      "[-4.51007013e-04  5.94385100e-01 -1.98731438e+02]\n"
     ]
    },
    {
     "name": "stderr",
     "output_type": "stream",
     "text": [
      "\r",
      "t:   8%|███▉                                               | 93/1199 [00:23<04:56,  3.73it/s, now=None]"
     ]
    },
    {
     "name": "stdout",
     "output_type": "stream",
     "text": [
      "missdetection\n",
      "[-3.10199863e-04  4.14141492e-01 -1.41639559e+02]\n"
     ]
    },
    {
     "name": "stderr",
     "output_type": "stream",
     "text": [
      "t:   8%|████                                               | 95/1199 [00:23<04:49,  3.81it/s, now=None]"
     ]
    },
    {
     "name": "stdout",
     "output_type": "stream",
     "text": [
      "missdetection\n",
      "[-1.36341958e-03  1.08133322e+00 -1.53362451e+02]\n",
      "Wrong separation between lines\n"
     ]
    },
    {
     "name": "stderr",
     "output_type": "stream",
     "text": [
      "\r",
      "t:   8%|████                                               | 96/1199 [00:24<04:47,  3.84it/s, now=None]"
     ]
    },
    {
     "name": "stdout",
     "output_type": "stream",
     "text": [
      "missdetection\n",
      "[-3.81159360e-04  4.61439021e-01 -1.40191593e+02]\n"
     ]
    },
    {
     "name": "stderr",
     "output_type": "stream",
     "text": [
      "\r",
      "t:   8%|████▏                                              | 97/1199 [00:24<04:43,  3.88it/s, now=None]"
     ]
    },
    {
     "name": "stdout",
     "output_type": "stream",
     "text": [
      "missdetection\n",
      "[-4.30710367e-04  4.57725977e-01 -1.07628490e+02]\n",
      "missdetection\n",
      "[-3.95178199e-04  4.96579696e-01 -1.58895048e+02]\n",
      "Wrong separation between lines\n"
     ]
    },
    {
     "name": "stderr",
     "output_type": "stream",
     "text": [
      "\r",
      "t:   8%|████▏                                              | 98/1199 [00:24<04:59,  3.67it/s, now=None]"
     ]
    },
    {
     "name": "stdout",
     "output_type": "stream",
     "text": [
      "missdetection\n",
      "[-4.61116397e-04  5.71786733e-01 -1.78848453e+02]\n"
     ]
    },
    {
     "name": "stderr",
     "output_type": "stream",
     "text": [
      "\r",
      "t:   8%|████▏                                              | 99/1199 [00:24<05:11,  3.53it/s, now=None]"
     ]
    },
    {
     "name": "stdout",
     "output_type": "stream",
     "text": [
      "missdetection\n",
      "[-1.04932691e-03  8.74536434e-01 -1.28179591e+02]\n",
      "missdetection\n",
      "[-4.89285697e-04  6.21620506e-01 -1.99068055e+02]\n",
      "Wrong separation between lines\n"
     ]
    },
    {
     "name": "stderr",
     "output_type": "stream",
     "text": [
      "\r",
      "t:   8%|████▏                                             | 100/1199 [00:25<05:02,  3.63it/s, now=None]"
     ]
    },
    {
     "name": "stdout",
     "output_type": "stream",
     "text": [
      "missdetection\n",
      "[ 1.23641969e-03 -1.62401139e+00  5.30638024e+02]\n",
      "missdetection\n",
      "[-5.61542551e-04  6.99096082e-01 -2.19143172e+02]\n",
      "Wrong separation between lines\n"
     ]
    },
    {
     "name": "stderr",
     "output_type": "stream",
     "text": [
      "\r",
      "t:   8%|████▏                                             | 101/1199 [00:25<04:53,  3.74it/s, now=None]"
     ]
    },
    {
     "name": "stdout",
     "output_type": "stream",
     "text": [
      "missdetection\n",
      "[ 1.17739653e-03 -1.55911928e+00  5.12718030e+02]\n",
      "missdetection\n",
      "[-7.20841896e-04  8.70619135e-01 -2.63357406e+02]\n",
      "Wrong separation between lines\n"
     ]
    },
    {
     "name": "stderr",
     "output_type": "stream",
     "text": [
      "\r",
      "t:   9%|████▎                                             | 102/1199 [00:25<05:01,  3.63it/s, now=None]"
     ]
    },
    {
     "name": "stdout",
     "output_type": "stream",
     "text": [
      "missdetection\n",
      "[ 1.25535399e-03 -1.61420793e+00  5.15870695e+02]\n",
      "missdetection\n",
      "[-7.26163423e-04  9.06836895e-01 -2.84938028e+02]\n",
      "Wrong separation between lines\n"
     ]
    },
    {
     "name": "stderr",
     "output_type": "stream",
     "text": [
      "\r",
      "t:   9%|████▎                                             | 103/1199 [00:26<05:07,  3.57it/s, now=None]"
     ]
    },
    {
     "name": "stdout",
     "output_type": "stream",
     "text": [
      "missdetection\n",
      "[ 1.32278912e-03 -1.70953248e+00  5.48474844e+02]\n",
      "missdetection\n",
      "[-8.18792989e-04  1.01145877e+00 -3.14190971e+02]\n",
      "Wrong separation between lines\n"
     ]
    },
    {
     "name": "stderr",
     "output_type": "stream",
     "text": [
      "\r",
      "t:   9%|████▎                                             | 104/1199 [00:26<04:56,  3.69it/s, now=None]"
     ]
    },
    {
     "name": "stdout",
     "output_type": "stream",
     "text": [
      "missdetection\n",
      "[ 9.22697309e-04 -1.21308940e+00  3.97230289e+02]\n",
      "missdetection\n",
      "[ 6.75001780e-04 -9.08496313e-01  2.99660668e+02]\n"
     ]
    },
    {
     "name": "stderr",
     "output_type": "stream",
     "text": [
      "\r",
      "t:   9%|████▍                                             | 105/1199 [00:26<04:51,  3.75it/s, now=None]"
     ]
    },
    {
     "name": "stdout",
     "output_type": "stream",
     "text": [
      "missdetection\n",
      "[ 1.16539501e-03 -1.52290545e+00  4.95285796e+02]\n",
      "missdetection\n",
      "[ 9.55420034e-04 -1.27675157e+00  4.19898743e+02]\n"
     ]
    },
    {
     "name": "stderr",
     "output_type": "stream",
     "text": [
      "\r",
      "t:   9%|████▍                                             | 106/1199 [00:26<04:50,  3.77it/s, now=None]"
     ]
    },
    {
     "name": "stdout",
     "output_type": "stream",
     "text": [
      "missdetection\n",
      "[ 1.18586430e-03 -1.55671596e+00  5.08955345e+02]\n",
      "missdetection\n",
      "[ 7.92925323e-04 -1.07427176e+00  3.57631394e+02]\n"
     ]
    },
    {
     "name": "stderr",
     "output_type": "stream",
     "text": [
      "\r",
      "t:   9%|████▍                                             | 107/1199 [00:27<04:44,  3.84it/s, now=None]"
     ]
    },
    {
     "name": "stdout",
     "output_type": "stream",
     "text": [
      "missdetection\n",
      "[ 1.12520417e-03 -1.47420305e+00  4.80724560e+02]\n",
      "missdetection\n",
      "[ 9.46790900e-04 -1.28752287e+00  4.31523960e+02]\n"
     ]
    },
    {
     "name": "stderr",
     "output_type": "stream",
     "text": [
      "\r",
      "t:   9%|████▌                                             | 108/1199 [00:27<04:43,  3.85it/s, now=None]"
     ]
    },
    {
     "name": "stdout",
     "output_type": "stream",
     "text": [
      "missdetection\n",
      "[ 1.08977011e-03 -1.42398824e+00  4.62937712e+02]\n",
      "missdetection\n",
      "[ 2.55102713e-04 -4.08425845e-01  1.54037845e+02]\n",
      "Wrong separation between lines\n"
     ]
    },
    {
     "name": "stderr",
     "output_type": "stream",
     "text": [
      "\r",
      "t:   9%|████▌                                             | 109/1199 [00:27<04:45,  3.81it/s, now=None]"
     ]
    },
    {
     "name": "stdout",
     "output_type": "stream",
     "text": [
      "missdetection\n",
      "[ 1.14458151e-03 -1.50179801e+00  4.86477382e+02]\n",
      "Wrong separation between lines\n"
     ]
    },
    {
     "name": "stderr",
     "output_type": "stream",
     "text": [
      "\r",
      "t:   9%|████▌                                             | 110/1199 [00:27<04:42,  3.85it/s, now=None]"
     ]
    },
    {
     "name": "stdout",
     "output_type": "stream",
     "text": [
      "missdetection\n",
      "[ 4.11550203e-04 -5.86960769e-01  2.04043652e+02]\n",
      "Wrong separation between lines\n"
     ]
    },
    {
     "name": "stderr",
     "output_type": "stream",
     "text": [
      "\r",
      "t:   9%|████▋                                             | 111/1199 [00:28<04:36,  3.94it/s, now=None]"
     ]
    },
    {
     "name": "stdout",
     "output_type": "stream",
     "text": [
      "missdetection\n",
      "[-5.05092476e-04  5.31718770e-01 -1.30851524e+02]\n",
      "Wrong separation between lines\n"
     ]
    },
    {
     "name": "stderr",
     "output_type": "stream",
     "text": [
      "\r",
      "t:   9%|████▋                                             | 112/1199 [00:28<04:48,  3.77it/s, now=None]"
     ]
    },
    {
     "name": "stdout",
     "output_type": "stream",
     "text": [
      "missdetection\n",
      "[ 1.25070625e-03 -1.62975558e+00  5.28566661e+02]\n",
      "missdetection\n",
      "[-5.89995460e-04  5.94221828e-01 -1.37079131e+02]\n",
      "Wrong separation between lines\n"
     ]
    },
    {
     "name": "stderr",
     "output_type": "stream",
     "text": [
      "\r",
      "t:   9%|████▋                                             | 113/1199 [00:28<04:50,  3.73it/s, now=None]"
     ]
    },
    {
     "name": "stdout",
     "output_type": "stream",
     "text": [
      "missdetection\n",
      "[ 1.26698947e-03 -1.65467519e+00  5.37523652e+02]\n",
      "missdetection\n",
      "[-6.40034350e-04  6.19463622e-01 -1.31977254e+02]\n",
      "Wrong separation between lines\n"
     ]
    },
    {
     "name": "stderr",
     "output_type": "stream",
     "text": [
      "\r",
      "t:  10%|████▊                                             | 114/1199 [00:28<04:56,  3.66it/s, now=None]"
     ]
    },
    {
     "name": "stdout",
     "output_type": "stream",
     "text": [
      "missdetection\n",
      "[ 2.81665034e-04 -4.75934239e-01  1.90123986e+02]\n",
      "missdetection\n",
      "[-6.93041820e-04  6.97636077e-01 -1.60118208e+02]\n",
      "Wrong separation between lines\n"
     ]
    },
    {
     "name": "stderr",
     "output_type": "stream",
     "text": [
      "\r",
      "t:  10%|████▊                                             | 115/1199 [00:29<04:59,  3.62it/s, now=None]"
     ]
    },
    {
     "name": "stdout",
     "output_type": "stream",
     "text": [
      "missdetection\n",
      "[ 3.26328350e-04 -5.03258799e-01  1.89660887e+02]\n",
      "Wrong separation between lines\n"
     ]
    },
    {
     "name": "stderr",
     "output_type": "stream",
     "text": [
      "\r",
      "t:  10%|████▊                                             | 116/1199 [00:29<05:00,  3.61it/s, now=None]"
     ]
    },
    {
     "name": "stdout",
     "output_type": "stream",
     "text": [
      "missdetection\n",
      "[ 2.27227152e-04 -3.91712410e-01  1.60021983e+02]\n"
     ]
    },
    {
     "name": "stderr",
     "output_type": "stream",
     "text": [
      "\r",
      "t:  10%|████▉                                             | 117/1199 [00:29<05:07,  3.52it/s, now=None]"
     ]
    },
    {
     "name": "stdout",
     "output_type": "stream",
     "text": [
      "Wrong separation between lines\n"
     ]
    },
    {
     "name": "stderr",
     "output_type": "stream",
     "text": [
      "t:  10%|████▉                                             | 119/1199 [00:30<04:56,  3.65it/s, now=None]"
     ]
    },
    {
     "name": "stdout",
     "output_type": "stream",
     "text": [
      "missdetection\n",
      "[-1.31022741e-03  1.12451815e+00 -1.85794830e+02]\n",
      "Wrong separation between lines\n"
     ]
    },
    {
     "name": "stderr",
     "output_type": "stream",
     "text": [
      "\r",
      "t:  10%|█████                                             | 120/1199 [00:30<04:46,  3.77it/s, now=None]"
     ]
    },
    {
     "name": "stdout",
     "output_type": "stream",
     "text": [
      "missdetection\n",
      "[-8.47152037e-04  7.76003071e-01 -1.45079526e+02]\n",
      "Wrong separation between lines\n"
     ]
    },
    {
     "name": "stderr",
     "output_type": "stream",
     "text": [
      "\r",
      "t:  10%|█████                                             | 121/1199 [00:30<04:43,  3.80it/s, now=None]"
     ]
    },
    {
     "name": "stdout",
     "output_type": "stream",
     "text": [
      "missdetection\n",
      "[-9.15453505e-04  8.60079121e-01 -1.71597238e+02]\n",
      "Wrong separation between lines\n"
     ]
    },
    {
     "name": "stderr",
     "output_type": "stream",
     "text": [
      "\r",
      "t:  10%|█████                                             | 122/1199 [00:31<04:42,  3.81it/s, now=None]"
     ]
    },
    {
     "name": "stdout",
     "output_type": "stream",
     "text": [
      "missdetection\n",
      "[-8.72594496e-04  8.38777617e-01 -1.75747912e+02]\n",
      "Wrong separation between lines\n"
     ]
    },
    {
     "name": "stderr",
     "output_type": "stream",
     "text": [
      "\r",
      "t:  10%|█████▏                                            | 123/1199 [00:31<04:36,  3.89it/s, now=None]"
     ]
    },
    {
     "name": "stdout",
     "output_type": "stream",
     "text": [
      "missdetection\n",
      "[-8.87349443e-04  8.79120226e-01 -1.95445321e+02]\n",
      "Wrong separation between lines\n"
     ]
    },
    {
     "name": "stderr",
     "output_type": "stream",
     "text": [
      "\r",
      "t:  10%|█████▏                                            | 124/1199 [00:31<04:25,  4.05it/s, now=None]"
     ]
    },
    {
     "name": "stdout",
     "output_type": "stream",
     "text": [
      "missdetection\n",
      "[-9.08440926e-04  9.44524890e-01 -2.24807147e+02]\n",
      "Wrong separation between lines\n"
     ]
    },
    {
     "name": "stderr",
     "output_type": "stream",
     "text": [
      "\r",
      "t:  10%|█████▏                                            | 125/1199 [00:31<04:27,  4.01it/s, now=None]"
     ]
    },
    {
     "name": "stdout",
     "output_type": "stream",
     "text": [
      "missdetection\n",
      "[-9.83876806e-04  1.06813595e+00 -2.73161294e+02]\n",
      "Wrong separation between lines\n"
     ]
    },
    {
     "name": "stderr",
     "output_type": "stream",
     "text": [
      "\r",
      "t:  11%|█████▎                                            | 126/1199 [00:32<04:33,  3.93it/s, now=None]"
     ]
    },
    {
     "name": "stdout",
     "output_type": "stream",
     "text": [
      "missdetection\n",
      "[-2.81268867e-04  3.58761787e-01 -1.11106269e+02]\n",
      "missdetection\n",
      "[-1.02527983e-03  1.14152887e+00 -3.03839264e+02]\n",
      "Wrong separation between lines\n"
     ]
    },
    {
     "name": "stderr",
     "output_type": "stream",
     "text": [
      "\r",
      "t:  11%|█████▎                                            | 127/1199 [00:32<04:30,  3.96it/s, now=None]"
     ]
    },
    {
     "name": "stdout",
     "output_type": "stream",
     "text": [
      "missdetection\n",
      "[-1.02000825e-03  1.16656123e+00 -3.22771940e+02]\n",
      "Wrong separation between lines\n"
     ]
    },
    {
     "name": "stderr",
     "output_type": "stream",
     "text": [
      "\r",
      "t:  11%|█████▎                                            | 128/1199 [00:32<04:33,  3.92it/s, now=None]"
     ]
    },
    {
     "name": "stdout",
     "output_type": "stream",
     "text": [
      "missdetection\n",
      "[-2.91055605e-04  3.90958805e-01 -1.29894370e+02]\n",
      "missdetection\n",
      "[-1.03185568e-03  1.21489653e+00 -3.49561634e+02]\n",
      "Wrong separation between lines\n"
     ]
    },
    {
     "name": "stderr",
     "output_type": "stream",
     "text": [
      "\r",
      "t:  11%|█████▍                                            | 129/1199 [00:32<04:35,  3.88it/s, now=None]"
     ]
    },
    {
     "name": "stdout",
     "output_type": "stream",
     "text": [
      "missdetection\n",
      "[-3.30010208e-04  4.56930523e-01 -1.56865600e+02]\n",
      "missdetection\n",
      "[-1.01133039e-03  1.22156063e+00 -3.63205636e+02]\n",
      "Wrong separation between lines\n"
     ]
    },
    {
     "name": "stderr",
     "output_type": "stream",
     "text": [
      "\r",
      "t:  11%|█████▍                                            | 130/1199 [00:33<04:31,  3.94it/s, now=None]"
     ]
    },
    {
     "name": "stdout",
     "output_type": "stream",
     "text": [
      "missdetection\n",
      "[-2.81213818e-04  4.34191064e-01 -1.62834217e+02]\n",
      "missdetection\n",
      "[-9.12137120e-04  1.12808008e+00 -3.45241202e+02]\n",
      "Wrong separation between lines\n"
     ]
    },
    {
     "name": "stderr",
     "output_type": "stream",
     "text": [
      "\r",
      "t:  11%|█████▍                                            | 131/1199 [00:33<04:32,  3.92it/s, now=None]"
     ]
    },
    {
     "name": "stdout",
     "output_type": "stream",
     "text": [
      "missdetection\n",
      "[-3.12411197e-04  4.90663267e-01 -1.87603887e+02]\n",
      "Wrong separation between lines\n"
     ]
    },
    {
     "name": "stderr",
     "output_type": "stream",
     "text": [
      "\r",
      "t:  11%|█████▌                                            | 132/1199 [00:33<04:32,  3.92it/s, now=None]"
     ]
    },
    {
     "name": "stdout",
     "output_type": "stream",
     "text": [
      "missdetection\n",
      "[-3.19777626e-04  5.27512286e-01 -2.06023628e+02]\n",
      "Wrong separation between lines\n"
     ]
    },
    {
     "name": "stderr",
     "output_type": "stream",
     "text": [
      "\r",
      "t:  11%|█████▌                                            | 133/1199 [00:33<04:29,  3.95it/s, now=None]"
     ]
    },
    {
     "name": "stdout",
     "output_type": "stream",
     "text": [
      "missdetection\n",
      "[-4.21468970e-04  6.62181091e-01 -2.50536354e+02]\n",
      "Wrong separation between lines\n"
     ]
    },
    {
     "name": "stderr",
     "output_type": "stream",
     "text": [
      "\r",
      "t:  11%|█████▌                                            | 134/1199 [00:34<04:30,  3.94it/s, now=None]"
     ]
    },
    {
     "name": "stdout",
     "output_type": "stream",
     "text": [
      "missdetection\n",
      "[-4.11928126e-04  6.84907403e-01 -2.67708357e+02]\n",
      "Wrong separation between lines\n"
     ]
    },
    {
     "name": "stderr",
     "output_type": "stream",
     "text": [
      "\r",
      "t:  11%|█████▋                                            | 135/1199 [00:34<04:29,  3.95it/s, now=None]"
     ]
    },
    {
     "name": "stdout",
     "output_type": "stream",
     "text": [
      "missdetection\n",
      "[-3.75047029e-04  6.67327869e-01 -2.72789843e+02]\n",
      "Wrong separation between lines\n"
     ]
    },
    {
     "name": "stderr",
     "output_type": "stream",
     "text": [
      "\r",
      "t:  11%|█████▋                                            | 136/1199 [00:34<04:27,  3.98it/s, now=None]"
     ]
    },
    {
     "name": "stdout",
     "output_type": "stream",
     "text": [
      "missdetection\n",
      "[-3.74430501e-04  6.79836664e-01 -2.81258835e+02]\n",
      "missdetection\n",
      "[ 4.65508467e-04 -5.22582916e-01  1.38599429e+02]\n",
      "Wrong separation between lines\n"
     ]
    },
    {
     "name": "stderr",
     "output_type": "stream",
     "text": [
      "\r",
      "t:  11%|█████▋                                            | 137/1199 [00:34<04:25,  4.00it/s, now=None]"
     ]
    },
    {
     "name": "stdout",
     "output_type": "stream",
     "text": [
      "missdetection\n",
      "[-3.50958894e-04  6.77814293e-01 -2.89350332e+02]\n",
      "missdetection\n",
      "[ 4.34663353e-04 -4.71141926e-01  1.17940487e+02]\n",
      "Wrong separation between lines\n"
     ]
    },
    {
     "name": "stderr",
     "output_type": "stream",
     "text": [
      "\r",
      "t:  12%|█████▊                                            | 138/1199 [00:35<04:24,  4.01it/s, now=None]"
     ]
    },
    {
     "name": "stdout",
     "output_type": "stream",
     "text": [
      "missdetection\n",
      "[-3.45865062e-04  7.02714015e-01 -3.02190521e+02]\n",
      "missdetection\n",
      "[ 4.23797079e-04 -4.50539606e-01  1.08650109e+02]\n"
     ]
    },
    {
     "name": "stderr",
     "output_type": "stream",
     "text": [
      "\r",
      "t:  12%|█████▊                                            | 139/1199 [00:35<04:24,  4.01it/s, now=None]"
     ]
    },
    {
     "name": "stdout",
     "output_type": "stream",
     "text": [
      "missdetection\n",
      "[-4.41316099e-04  8.27421919e-01 -3.43262779e+02]\n"
     ]
    },
    {
     "name": "stderr",
     "output_type": "stream",
     "text": [
      "\r",
      "t:  12%|█████▊                                            | 140/1199 [00:35<04:31,  3.91it/s, now=None]"
     ]
    },
    {
     "name": "stdout",
     "output_type": "stream",
     "text": [
      "missdetection\n",
      "[-5.09399310e-04  9.17805591e-01 -3.73116161e+02]\n"
     ]
    },
    {
     "name": "stderr",
     "output_type": "stream",
     "text": [
      "\r",
      "t:  12%|█████▉                                            | 141/1199 [00:35<04:34,  3.85it/s, now=None]"
     ]
    },
    {
     "name": "stdout",
     "output_type": "stream",
     "text": [
      "missdetection\n",
      "[-5.45841834e-04  9.85542673e-01 -4.02011328e+02]\n"
     ]
    },
    {
     "name": "stderr",
     "output_type": "stream",
     "text": [
      "\r",
      "t:  12%|█████▉                                            | 142/1199 [00:36<04:46,  3.69it/s, now=None]"
     ]
    },
    {
     "name": "stdout",
     "output_type": "stream",
     "text": [
      "missdetection\n",
      "[-5.52173690e-04  9.91137419e-01 -4.07330720e+02]\n"
     ]
    },
    {
     "name": "stderr",
     "output_type": "stream",
     "text": [
      "\r",
      "t:  12%|█████▉                                            | 143/1199 [00:36<04:50,  3.64it/s, now=None]"
     ]
    },
    {
     "name": "stdout",
     "output_type": "stream",
     "text": [
      "missdetection\n",
      "[-6.47825216e-04  1.10765912e+00 -4.42664194e+02]\n"
     ]
    },
    {
     "name": "stderr",
     "output_type": "stream",
     "text": [
      "\r",
      "t:  12%|██████                                            | 144/1199 [00:36<04:54,  3.59it/s, now=None]"
     ]
    },
    {
     "name": "stdout",
     "output_type": "stream",
     "text": [
      "missdetection\n",
      "[-7.28434338e-04  1.22656275e+00 -4.82939195e+02]\n"
     ]
    },
    {
     "name": "stderr",
     "output_type": "stream",
     "text": [
      "\r",
      "t:  12%|██████                                            | 145/1199 [00:37<04:55,  3.57it/s, now=None]"
     ]
    },
    {
     "name": "stdout",
     "output_type": "stream",
     "text": [
      "missdetection\n",
      "[-8.02695677e-04  1.32458997e+00 -5.15027468e+02]\n",
      "missdetection\n",
      "[ 3.44171366e-04 -4.37971876e-01  1.34253660e+02]\n"
     ]
    },
    {
     "name": "stderr",
     "output_type": "stream",
     "text": [
      "\r",
      "t:  12%|██████                                            | 146/1199 [00:37<04:39,  3.77it/s, now=None]"
     ]
    },
    {
     "name": "stdout",
     "output_type": "stream",
     "text": [
      "missdetection\n",
      "[-8.73884561e-04  1.40472522e+00 -5.36708879e+02]\n",
      "missdetection\n",
      "[-4.03390356e-04  5.88550395e-01 -2.18542846e+02]\n"
     ]
    },
    {
     "name": "stderr",
     "output_type": "stream",
     "text": [
      "\r",
      "t:  12%|██████▏                                           | 147/1199 [00:37<04:38,  3.78it/s, now=None]"
     ]
    },
    {
     "name": "stdout",
     "output_type": "stream",
     "text": [
      "missdetection\n",
      "[-9.04164687e-04  1.43646319e+00 -5.44493888e+02]\n",
      "missdetection\n",
      "[-4.45339266e-04  6.26745999e-01 -2.26205927e+02]\n"
     ]
    },
    {
     "name": "stderr",
     "output_type": "stream",
     "text": [
      "\r",
      "t:  12%|██████▏                                           | 148/1199 [00:37<04:28,  3.91it/s, now=None]"
     ]
    },
    {
     "name": "stdout",
     "output_type": "stream",
     "text": [
      "missdetection\n",
      "[-9.34664472e-04  1.46458600e+00 -5.52531950e+02]\n",
      "missdetection\n",
      "[-3.54746492e-04  5.01738959e-01 -1.84017004e+02]\n"
     ]
    },
    {
     "name": "stderr",
     "output_type": "stream",
     "text": [
      "\r",
      "t:  12%|██████▏                                           | 149/1199 [00:38<04:30,  3.88it/s, now=None]"
     ]
    },
    {
     "name": "stdout",
     "output_type": "stream",
     "text": [
      "missdetection\n",
      "[-8.74401378e-04  1.40504390e+00 -5.39804993e+02]\n",
      "missdetection\n",
      "[-3.79659513e-04  5.24375607e-01 -1.89172950e+02]\n"
     ]
    },
    {
     "name": "stderr",
     "output_type": "stream",
     "text": [
      "\r",
      "t:  13%|██████▎                                           | 150/1199 [00:38<04:24,  3.97it/s, now=None]"
     ]
    },
    {
     "name": "stdout",
     "output_type": "stream",
     "text": [
      "missdetection\n",
      "[-9.84943353e-04  1.54614939e+00 -5.84767607e+02]\n",
      "missdetection\n",
      "[-3.38728068e-04  4.62944005e-01 -1.67087783e+02]\n"
     ]
    },
    {
     "name": "stderr",
     "output_type": "stream",
     "text": [
      "\r",
      "t:  13%|██████▎                                           | 151/1199 [00:38<04:33,  3.83it/s, now=None]"
     ]
    },
    {
     "name": "stdout",
     "output_type": "stream",
     "text": [
      "missdetection\n",
      "[-1.00733107e-03  1.57016026e+00 -5.91005661e+02]\n",
      "missdetection\n",
      "[-3.48917287e-04  4.70453154e-01 -1.68471225e+02]\n"
     ]
    },
    {
     "name": "stderr",
     "output_type": "stream",
     "text": [
      "\r",
      "t:  13%|██████▎                                           | 152/1199 [00:38<04:31,  3.85it/s, now=None]"
     ]
    },
    {
     "name": "stdout",
     "output_type": "stream",
     "text": [
      "missdetection\n",
      "[-1.03677457e-03  1.60948256e+00 -6.03788025e+02]\n",
      "missdetection\n",
      "[-3.68675839e-04  5.02014760e-01 -1.81698308e+02]\n"
     ]
    },
    {
     "name": "stderr",
     "output_type": "stream",
     "text": [
      "\r",
      "t:  13%|██████▍                                           | 153/1199 [00:39<04:27,  3.91it/s, now=None]"
     ]
    },
    {
     "name": "stdout",
     "output_type": "stream",
     "text": [
      "missdetection\n",
      "[-1.03914520e-03  1.61610029e+00 -6.08917116e+02]\n",
      "missdetection\n",
      "[-3.58096210e-04  4.67383908e-01 -1.64766742e+02]\n"
     ]
    },
    {
     "name": "stderr",
     "output_type": "stream",
     "text": [
      "\r",
      "t:  13%|██████▍                                           | 154/1199 [00:39<04:21,  3.99it/s, now=None]"
     ]
    },
    {
     "name": "stdout",
     "output_type": "stream",
     "text": [
      "missdetection\n",
      "[-1.03725723e-03  1.61401632e+00 -6.10171826e+02]\n",
      "missdetection\n",
      "[-3.69980485e-04  4.73452953e-01 -1.64098447e+02]\n"
     ]
    },
    {
     "name": "stderr",
     "output_type": "stream",
     "text": [
      "\r",
      "t:  13%|██████▍                                           | 155/1199 [00:39<04:29,  3.87it/s, now=None]"
     ]
    },
    {
     "name": "stdout",
     "output_type": "stream",
     "text": [
      "missdetection\n",
      "[-1.13000394e-03  1.73903980e+00 -6.48400260e+02]\n",
      "missdetection\n",
      "[-3.27688361e-04  4.22049014e-01 -1.49731622e+02]\n"
     ]
    },
    {
     "name": "stderr",
     "output_type": "stream",
     "text": [
      "\r",
      "t:  13%|██████▌                                           | 156/1199 [00:39<04:30,  3.86it/s, now=None]"
     ]
    },
    {
     "name": "stdout",
     "output_type": "stream",
     "text": [
      "missdetection\n",
      "[-1.12451128e-03  1.72912205e+00 -6.44282605e+02]\n",
      "missdetection\n",
      "[-2.87965165e-04  3.71429092e-01 -1.34447834e+02]\n"
     ]
    },
    {
     "name": "stderr",
     "output_type": "stream",
     "text": [
      "\r",
      "t:  13%|██████▌                                           | 157/1199 [00:40<04:24,  3.94it/s, now=None]"
     ]
    },
    {
     "name": "stdout",
     "output_type": "stream",
     "text": [
      "missdetection\n",
      "[-1.15007725e-03  1.74603451e+00 -6.48882766e+02]\n",
      "missdetection\n",
      "[-4.57884462e-04  5.89509754e-01 -2.05212823e+02]\n"
     ]
    },
    {
     "name": "stderr",
     "output_type": "stream",
     "text": [
      "\r",
      "t:  13%|██████▌                                           | 158/1199 [00:40<04:25,  3.92it/s, now=None]"
     ]
    },
    {
     "name": "stdout",
     "output_type": "stream",
     "text": [
      "missdetection\n",
      "[-1.13334466e-03  1.72862138e+00 -6.45409780e+02]\n",
      "missdetection\n",
      "[-5.06720564e-04  6.52282021e-01 -2.21136013e+02]\n"
     ]
    },
    {
     "name": "stderr",
     "output_type": "stream",
     "text": [
      "\r",
      "t:  13%|██████▋                                           | 159/1199 [00:40<04:23,  3.95it/s, now=None]"
     ]
    },
    {
     "name": "stdout",
     "output_type": "stream",
     "text": [
      "missdetection\n",
      "[-1.06569793e-03  1.64709300e+00 -6.17985396e+02]\n",
      "missdetection\n",
      "[-4.75156737e-04  5.92004031e-01 -1.95195379e+02]\n"
     ]
    },
    {
     "name": "stderr",
     "output_type": "stream",
     "text": [
      "\r",
      "t:  13%|██████▋                                           | 160/1199 [00:40<04:23,  3.94it/s, now=None]"
     ]
    },
    {
     "name": "stdout",
     "output_type": "stream",
     "text": [
      "missdetection\n",
      "[-1.08532663e-03  1.67978690e+00 -6.31010749e+02]\n",
      "missdetection\n",
      "[-3.83374068e-04  4.94348654e-01 -1.70967690e+02]\n"
     ]
    },
    {
     "name": "stderr",
     "output_type": "stream",
     "text": [
      "\r",
      "t:  13%|██████▋                                           | 161/1199 [00:41<04:17,  4.03it/s, now=None]"
     ]
    },
    {
     "name": "stdout",
     "output_type": "stream",
     "text": [
      "missdetection\n",
      "[-9.42472793e-04  1.50139909e+00 -5.76119034e+02]\n",
      "missdetection\n",
      "[ 1.44047681e-03 -1.87262558e+00  5.93535082e+02]\n"
     ]
    },
    {
     "name": "stderr",
     "output_type": "stream",
     "text": [
      "\r",
      "t:  14%|██████▊                                           | 162/1199 [00:41<04:19,  3.99it/s, now=None]"
     ]
    },
    {
     "name": "stdout",
     "output_type": "stream",
     "text": [
      "missdetection\n",
      "[-7.41755237e-04  1.23826756e+00 -4.90507930e+02]\n",
      "missdetection\n",
      "[ 1.43865065e-03 -1.87051476e+00  5.92662573e+02]\n"
     ]
    },
    {
     "name": "stderr",
     "output_type": "stream",
     "text": [
      "\r",
      "t:  14%|██████▊                                           | 163/1199 [00:41<04:17,  4.02it/s, now=None]"
     ]
    },
    {
     "name": "stdout",
     "output_type": "stream",
     "text": [
      "missdetection\n",
      "[-7.12495136e-04  1.20588501e+00 -4.82282667e+02]\n",
      "missdetection\n",
      "[ 1.43490675e-03 -1.86545683e+00  5.90853317e+02]\n"
     ]
    },
    {
     "name": "stderr",
     "output_type": "stream",
     "text": [
      "\r",
      "t:  14%|██████▊                                           | 164/1199 [00:41<04:10,  4.13it/s, now=None]"
     ]
    },
    {
     "name": "stdout",
     "output_type": "stream",
     "text": [
      "missdetection\n",
      "[-6.44058627e-04  1.10427926e+00 -4.44756366e+02]\n"
     ]
    },
    {
     "name": "stderr",
     "output_type": "stream",
     "text": [
      "\r",
      "t:  14%|██████▉                                           | 165/1199 [00:42<04:08,  4.16it/s, now=None]"
     ]
    },
    {
     "name": "stdout",
     "output_type": "stream",
     "text": [
      "missdetection\n",
      "[-6.47711723e-04  1.11172450e+00 -4.48352967e+02]\n"
     ]
    },
    {
     "name": "stderr",
     "output_type": "stream",
     "text": [
      "\r",
      "t:  14%|██████▉                                           | 166/1199 [00:42<04:16,  4.03it/s, now=None]"
     ]
    },
    {
     "name": "stdout",
     "output_type": "stream",
     "text": [
      "missdetection\n",
      "[-7.33767226e-04  1.23622374e+00 -4.93262397e+02]\n"
     ]
    },
    {
     "name": "stderr",
     "output_type": "stream",
     "text": [
      "\r",
      "t:  14%|██████▉                                           | 167/1199 [00:42<04:21,  3.95it/s, now=None]"
     ]
    },
    {
     "name": "stdout",
     "output_type": "stream",
     "text": [
      "missdetection\n",
      "[-6.69871107e-04  1.15309349e+00 -4.66300622e+02]\n",
      "missdetection\n",
      "[ 2.73043711e-04 -3.92410414e-01  1.26411643e+02]\n"
     ]
    },
    {
     "name": "stderr",
     "output_type": "stream",
     "text": [
      "\r",
      "t:  14%|███████                                           | 168/1199 [00:42<04:16,  4.02it/s, now=None]"
     ]
    },
    {
     "name": "stdout",
     "output_type": "stream",
     "text": [
      "missdetection\n",
      "[-4.66396846e-04  8.79721475e-01 -3.74372774e+02]\n",
      "missdetection\n",
      "[ 1.42879078e-03 -1.85107166e+00  5.89356268e+02]\n"
     ]
    },
    {
     "name": "stderr",
     "output_type": "stream",
     "text": [
      "\r",
      "t:  14%|███████                                           | 169/1199 [00:42<04:08,  4.15it/s, now=None]"
     ]
    },
    {
     "name": "stdout",
     "output_type": "stream",
     "text": [
      "missdetection\n",
      "[-5.19787521e-04  9.42131169e-01 -3.92000084e+02]\n",
      "missdetection\n",
      "[ 1.42700139e-03 -1.84723578e+00  5.87620440e+02]\n"
     ]
    },
    {
     "name": "stderr",
     "output_type": "stream",
     "text": [
      "\r",
      "t:  14%|███████                                           | 170/1199 [00:43<04:01,  4.27it/s, now=None]"
     ]
    },
    {
     "name": "stdout",
     "output_type": "stream",
     "text": [
      "missdetection\n",
      "[-5.23867167e-04  9.47418128e-01 -3.93610910e+02]\n",
      "missdetection\n",
      "[ 1.43083062e-03 -1.85299533e+00  5.89606244e+02]\n"
     ]
    },
    {
     "name": "stderr",
     "output_type": "stream",
     "text": [
      "\r",
      "t:  14%|███████▏                                          | 171/1199 [00:43<03:57,  4.32it/s, now=None]"
     ]
    },
    {
     "name": "stdout",
     "output_type": "stream",
     "text": [
      "missdetection\n",
      "[-5.66999936e-04  1.00218300e+00 -4.10756444e+02]\n",
      "missdetection\n",
      "[ 1.42790392e-03 -1.84788405e+00  5.87580504e+02]\n"
     ]
    },
    {
     "name": "stderr",
     "output_type": "stream",
     "text": [
      "\r",
      "t:  14%|███████▏                                          | 172/1199 [00:43<04:00,  4.26it/s, now=None]"
     ]
    },
    {
     "name": "stdout",
     "output_type": "stream",
     "text": [
      "missdetection\n",
      "[-5.03279120e-04  9.23654235e-01 -3.87134778e+02]\n",
      "missdetection\n",
      "[ 1.42603125e-03 -1.84462801e+00  5.86312730e+02]\n"
     ]
    },
    {
     "name": "stderr",
     "output_type": "stream",
     "text": [
      "\r",
      "t:  14%|███████▏                                          | 173/1199 [00:43<03:56,  4.33it/s, now=None]"
     ]
    },
    {
     "name": "stdout",
     "output_type": "stream",
     "text": [
      "missdetection\n",
      "[-2.35536385e-04  5.56341391e-01 -2.61912758e+02]\n",
      "missdetection\n",
      "[ 1.42379519e-03 -1.84198197e+00  5.85542530e+02]\n"
     ]
    },
    {
     "name": "stderr",
     "output_type": "stream",
     "text": [
      "\r",
      "t:  15%|███████▎                                          | 174/1199 [00:44<03:57,  4.32it/s, now=None]"
     ]
    },
    {
     "name": "stdout",
     "output_type": "stream",
     "text": [
      "missdetection\n",
      "[-7.00680558e-04  1.18226310e+00 -4.71874815e+02]\n",
      "missdetection\n",
      "[ 1.42066437e-03 -1.83667447e+00  5.83532178e+02]\n"
     ]
    },
    {
     "name": "stderr",
     "output_type": "stream",
     "text": [
      "\r",
      "t:  15%|███████▎                                          | 175/1199 [00:44<03:54,  4.37it/s, now=None]"
     ]
    },
    {
     "name": "stdout",
     "output_type": "stream",
     "text": [
      "missdetection\n",
      "[-3.66725634e-04  7.41369094e-01 -3.27174720e+02]\n",
      "missdetection\n",
      "[ 1.41949357e-03 -1.83580482e+00  5.83477269e+02]\n"
     ]
    },
    {
     "name": "stderr",
     "output_type": "stream",
     "text": [
      "\r",
      "t:  15%|███████▎                                          | 176/1199 [00:44<03:55,  4.34it/s, now=None]"
     ]
    },
    {
     "name": "stdout",
     "output_type": "stream",
     "text": [
      "missdetection\n",
      "[-2.19754695e-04  5.38960096e-01 -2.57873436e+02]\n",
      "missdetection\n",
      "[ 1.41789564e-03 -1.83363612e+00  5.82760314e+02]\n"
     ]
    },
    {
     "name": "stderr",
     "output_type": "stream",
     "text": [
      "\r",
      "t:  15%|███████▍                                          | 177/1199 [00:44<04:01,  4.22it/s, now=None]"
     ]
    },
    {
     "name": "stdout",
     "output_type": "stream",
     "text": [
      "missdetection\n",
      "[ 7.52386489e-05  1.28045393e-01 -1.19614146e+02]\n",
      "missdetection\n",
      "[ 1.41604822e-03 -1.83050154e+00  5.81553861e+02]\n"
     ]
    },
    {
     "name": "stderr",
     "output_type": "stream",
     "text": [
      "\r",
      "t:  15%|███████▍                                          | 178/1199 [00:45<03:59,  4.26it/s, now=None]"
     ]
    },
    {
     "name": "stdout",
     "output_type": "stream",
     "text": [
      "missdetection\n",
      "[ 7.20570009e-05  1.39456812e-01 -1.27213441e+02]\n",
      "missdetection\n",
      "[ 1.41646793e-03 -1.83052860e+00  5.81377520e+02]\n"
     ]
    },
    {
     "name": "stderr",
     "output_type": "stream",
     "text": [
      "\r",
      "t:  15%|███████▍                                          | 179/1199 [00:45<04:01,  4.22it/s, now=None]"
     ]
    },
    {
     "name": "stdout",
     "output_type": "stream",
     "text": [
      "missdetection\n",
      "[ 1.41540160e-03 -1.82886607e+00  5.80769117e+02]\n",
      "Wrong separation between lines\n"
     ]
    },
    {
     "name": "stderr",
     "output_type": "stream",
     "text": [
      "\r",
      "t:  15%|███████▌                                          | 180/1199 [00:45<04:06,  4.13it/s, now=None]"
     ]
    },
    {
     "name": "stdout",
     "output_type": "stream",
     "text": [
      "missdetection\n",
      "[ 1.42780143e-03 -1.86244162e+00  5.96468364e+02]\n",
      "Wrong separation between lines\n"
     ]
    },
    {
     "name": "stderr",
     "output_type": "stream",
     "text": [
      "\r",
      "t:  15%|███████▌                                          | 181/1199 [00:45<04:05,  4.14it/s, now=None]"
     ]
    },
    {
     "name": "stdout",
     "output_type": "stream",
     "text": [
      "missdetection\n",
      "[ 5.70840594e-04 -5.66622501e-01  1.20284648e+02]\n",
      "missdetection\n",
      "[ 1.43562814e-03 -1.87287485e+00  5.98459955e+02]\n"
     ]
    },
    {
     "name": "stderr",
     "output_type": "stream",
     "text": [
      "\r",
      "t:  15%|███████▌                                          | 182/1199 [00:46<04:03,  4.18it/s, now=None]"
     ]
    },
    {
     "name": "stdout",
     "output_type": "stream",
     "text": [
      "missdetection\n",
      "[ 1.43562688e-03 -1.87228906e+00  5.98109034e+02]\n",
      "Wrong separation between lines\n"
     ]
    },
    {
     "name": "stderr",
     "output_type": "stream",
     "text": [
      "\r",
      "t:  15%|███████▋                                          | 183/1199 [00:46<03:58,  4.26it/s, now=None]"
     ]
    },
    {
     "name": "stdout",
     "output_type": "stream",
     "text": [
      "missdetection\n",
      "[ 1.40110271e-03 -1.81092022e+00  5.70677742e+02]\n",
      "Wrong separation between lines\n"
     ]
    },
    {
     "name": "stderr",
     "output_type": "stream",
     "text": [
      "\r",
      "t:  15%|███████▋                                          | 184/1199 [00:46<03:52,  4.37it/s, now=None]"
     ]
    },
    {
     "name": "stdout",
     "output_type": "stream",
     "text": [
      "missdetection\n",
      "[ 1.38760618e-03 -1.81166014e+00  5.76714481e+02]\n",
      "Wrong separation between lines\n"
     ]
    },
    {
     "name": "stderr",
     "output_type": "stream",
     "text": [
      "\r",
      "t:  15%|███████▋                                          | 185/1199 [00:46<03:50,  4.39it/s, now=None]"
     ]
    },
    {
     "name": "stdout",
     "output_type": "stream",
     "text": [
      "missdetection\n",
      "[ 7.03736876e-04 -7.73878426e-01  1.97509926e+02]\n",
      "missdetection\n",
      "[ 1.39314439e-03 -1.83085506e+00  5.86309618e+02]\n"
     ]
    },
    {
     "name": "stderr",
     "output_type": "stream",
     "text": [
      "\r",
      "t:  16%|███████▊                                          | 186/1199 [00:46<03:59,  4.24it/s, now=None]"
     ]
    },
    {
     "name": "stdout",
     "output_type": "stream",
     "text": [
      "missdetection\n",
      "[ 7.06621576e-04 -7.94903547e-01  2.10690566e+02]\n",
      "missdetection\n",
      "[-4.38314649e-04  5.47853251e-01 -1.82916466e+02]\n"
     ]
    },
    {
     "name": "stderr",
     "output_type": "stream",
     "text": [
      "\r",
      "t:  16%|███████▊                                          | 187/1199 [00:47<03:56,  4.29it/s, now=None]"
     ]
    },
    {
     "name": "stdout",
     "output_type": "stream",
     "text": [
      "missdetection\n",
      "[ 5.96940267e-04 -6.52028550e-01  1.66993032e+02]\n",
      "missdetection\n",
      "[-4.37660934e-04  5.30342436e-01 -1.71756748e+02]\n"
     ]
    },
    {
     "name": "stderr",
     "output_type": "stream",
     "text": [
      "\r",
      "t:  16%|███████▊                                          | 188/1199 [00:47<03:57,  4.26it/s, now=None]"
     ]
    },
    {
     "name": "stdout",
     "output_type": "stream",
     "text": [
      "missdetection\n",
      "[-3.11815089e-04  5.44779492e-01 -2.28409361e+02]\n",
      "missdetection\n",
      "[-3.64898471e-04  4.35601210e-01 -1.41032484e+02]\n"
     ]
    },
    {
     "name": "stderr",
     "output_type": "stream",
     "text": [
      "\r",
      "t:  16%|███████▉                                          | 189/1199 [00:47<03:52,  4.35it/s, now=None]"
     ]
    },
    {
     "name": "stdout",
     "output_type": "stream",
     "text": [
      "missdetection\n",
      "[-2.65876988e-04  4.88795660e-01 -2.08850262e+02]\n",
      "missdetection\n",
      "[-3.32390558e-04  3.94035919e-01 -1.27805383e+02]\n"
     ]
    },
    {
     "name": "stderr",
     "output_type": "stream",
     "text": [
      "\r",
      "t:  16%|███████▉                                          | 190/1199 [00:47<03:50,  4.38it/s, now=None]"
     ]
    },
    {
     "name": "stdout",
     "output_type": "stream",
     "text": [
      "missdetection\n",
      "[-1.99041929e-04  3.81315570e-01 -1.67120460e+02]\n"
     ]
    },
    {
     "name": "stderr",
     "output_type": "stream",
     "text": [
      "\r",
      "t:  16%|███████▉                                          | 191/1199 [00:48<03:59,  4.20it/s, now=None]"
     ]
    },
    {
     "name": "stdout",
     "output_type": "stream",
     "text": [
      "missdetection\n",
      "[-2.30488894e-04  4.20466627e-01 -1.79115552e+02]\n"
     ]
    },
    {
     "name": "stderr",
     "output_type": "stream",
     "text": [
      "\r",
      "t:  16%|████████                                          | 192/1199 [00:48<04:02,  4.15it/s, now=None]"
     ]
    },
    {
     "name": "stdout",
     "output_type": "stream",
     "text": [
      "missdetection\n",
      "[-1.08335859e-04  2.68513348e-01 -1.32404742e+02]\n"
     ]
    },
    {
     "name": "stderr",
     "output_type": "stream",
     "text": [
      "\r",
      "t:  16%|████████                                          | 193/1199 [00:48<04:15,  3.94it/s, now=None]"
     ]
    },
    {
     "name": "stdout",
     "output_type": "stream",
     "text": [
      "missdetection\n",
      "[ 4.37321572e-04 -5.85723603e-01  1.86010956e+02]\n",
      "Wrong separation between lines\n"
     ]
    },
    {
     "name": "stderr",
     "output_type": "stream",
     "text": [
      "\r",
      "t:  16%|████████                                          | 194/1199 [00:48<04:10,  4.02it/s, now=None]"
     ]
    },
    {
     "name": "stdout",
     "output_type": "stream",
     "text": [
      "missdetection\n",
      "[-3.36186248e-04  5.60395578e-01 -2.25577700e+02]\n",
      "missdetection\n",
      "[ 1.42305847e-03 -1.84016031e+00  5.82422535e+02]\n"
     ]
    },
    {
     "name": "stderr",
     "output_type": "stream",
     "text": [
      "\r",
      "t:  16%|████████▏                                         | 195/1199 [00:49<04:05,  4.09it/s, now=None]"
     ]
    },
    {
     "name": "stdout",
     "output_type": "stream",
     "text": [
      "missdetection\n",
      "[-2.84680073e-04  4.96891991e-01 -2.06143285e+02]\n",
      "missdetection\n",
      "[ 1.42305847e-03 -1.84016031e+00  5.82422535e+02]\n"
     ]
    },
    {
     "name": "stderr",
     "output_type": "stream",
     "text": [
      "\r",
      "t:  16%|████████▏                                         | 196/1199 [00:49<04:09,  4.02it/s, now=None]"
     ]
    },
    {
     "name": "stdout",
     "output_type": "stream",
     "text": [
      "missdetection\n",
      "[-2.23553963e-04  4.13856048e-01 -1.78074121e+02]\n",
      "missdetection\n",
      "[ 1.42305847e-03 -1.84016031e+00  5.82422535e+02]\n"
     ]
    },
    {
     "name": "stderr",
     "output_type": "stream",
     "text": [
      "\r",
      "t:  16%|████████▏                                         | 197/1199 [00:49<04:07,  4.06it/s, now=None]"
     ]
    },
    {
     "name": "stdout",
     "output_type": "stream",
     "text": [
      "missdetection\n",
      "[-1.08829928e-04  2.76669207e-01 -1.37768333e+02]\n"
     ]
    },
    {
     "name": "stderr",
     "output_type": "stream",
     "text": [
      "\r",
      "t:  17%|████████▎                                         | 198/1199 [00:49<04:09,  4.02it/s, now=None]"
     ]
    },
    {
     "name": "stdout",
     "output_type": "stream",
     "text": [
      "missdetection\n",
      "[-4.44815751e-05  1.79827052e-01 -1.01238618e+02]\n"
     ]
    },
    {
     "name": "stderr",
     "output_type": "stream",
     "text": [
      "t:  17%|████████▎                                         | 200/1199 [00:50<04:12,  3.96it/s, now=None]"
     ]
    },
    {
     "name": "stdout",
     "output_type": "stream",
     "text": [
      "Wrong separation between lines\n"
     ]
    },
    {
     "name": "stderr",
     "output_type": "stream",
     "text": [
      "\r",
      "t:  17%|████████▍                                         | 201/1199 [00:50<04:07,  4.03it/s, now=None]"
     ]
    },
    {
     "name": "stdout",
     "output_type": "stream",
     "text": [
      "missdetection\n",
      "[ 1.46242333e-03 -1.88797345e+00  5.99134175e+02]\n",
      "Wrong separation between lines\n"
     ]
    },
    {
     "name": "stderr",
     "output_type": "stream",
     "text": [
      "\r",
      "t:  17%|████████▍                                         | 202/1199 [00:50<03:59,  4.15it/s, now=None]"
     ]
    },
    {
     "name": "stdout",
     "output_type": "stream",
     "text": [
      "missdetection\n",
      "[ 6.25820289e-04 -7.64205297e-01  2.29632936e+02]\n",
      "missdetection\n",
      "[ 1.45682045e-03 -1.88824296e+00  6.00843365e+02]\n",
      "Wrong separation between lines\n"
     ]
    },
    {
     "name": "stderr",
     "output_type": "stream",
     "text": [
      "\r",
      "t:  17%|████████▍                                         | 203/1199 [00:51<03:54,  4.24it/s, now=None]"
     ]
    },
    {
     "name": "stdout",
     "output_type": "stream",
     "text": [
      "missdetection\n",
      "[-2.93329187e-04  4.90407122e-01 -1.97696336e+02]\n",
      "missdetection\n",
      "[ 1.44557019e-03 -1.88677105e+00  6.03927528e+02]\n"
     ]
    },
    {
     "name": "stderr",
     "output_type": "stream",
     "text": [
      "\r",
      "t:  17%|████████▌                                         | 204/1199 [00:51<03:55,  4.22it/s, now=None]"
     ]
    },
    {
     "name": "stdout",
     "output_type": "stream",
     "text": [
      "missdetection\n",
      "[-1.72544732e-04  3.75180457e-01 -1.74551149e+02]\n",
      "missdetection\n",
      "[ 1.44557019e-03 -1.88677105e+00  6.03927528e+02]\n"
     ]
    },
    {
     "name": "stderr",
     "output_type": "stream",
     "text": [
      "\r",
      "t:  17%|████████▌                                         | 205/1199 [00:51<03:54,  4.24it/s, now=None]"
     ]
    },
    {
     "name": "stdout",
     "output_type": "stream",
     "text": [
      "missdetection\n",
      "[ 1.13162139e-04  2.51970991e-01 -2.21949970e+02]\n",
      "missdetection\n",
      "[-3.58549533e-04  4.63417667e-01 -1.58379767e+02]\n"
     ]
    },
    {
     "name": "stderr",
     "output_type": "stream",
     "text": [
      "\r",
      "t:  17%|████████▌                                         | 206/1199 [00:51<03:52,  4.27it/s, now=None]"
     ]
    },
    {
     "name": "stdout",
     "output_type": "stream",
     "text": [
      "missdetection\n",
      "[ 2.57565344e-04  1.23801152e-01 -2.00015785e+02]\n",
      "missdetection\n",
      "[-2.23462357e-04  3.32825997e-01 -1.30950795e+02]\n"
     ]
    },
    {
     "name": "stderr",
     "output_type": "stream",
     "text": [
      "\r",
      "t:  17%|████████▋                                         | 207/1199 [00:52<03:49,  4.31it/s, now=None]"
     ]
    },
    {
     "name": "stdout",
     "output_type": "stream",
     "text": [
      "missdetection\n",
      "[ 1.50366972e-04  1.95265466e-01 -2.00604888e+02]\n",
      "missdetection\n",
      "[-2.79542288e-04  3.62682681e-01 -1.26434709e+02]\n"
     ]
    },
    {
     "name": "stderr",
     "output_type": "stream",
     "text": [
      "\r",
      "t:  17%|████████▋                                         | 208/1199 [00:52<03:51,  4.27it/s, now=None]"
     ]
    },
    {
     "name": "stdout",
     "output_type": "stream",
     "text": [
      "missdetection\n",
      "[ 1.75601842e-04  1.40223451e-01 -1.73334629e+02]\n"
     ]
    },
    {
     "name": "stderr",
     "output_type": "stream",
     "text": [
      "\r",
      "t:  17%|████████▋                                         | 209/1199 [00:52<04:00,  4.12it/s, now=None]"
     ]
    },
    {
     "name": "stdout",
     "output_type": "stream",
     "text": [
      "missdetection\n",
      "[ 1.60739863e-04  1.18223993e-01 -1.52318978e+02]\n"
     ]
    },
    {
     "name": "stderr",
     "output_type": "stream",
     "text": [
      "\r",
      "t:  18%|████████▊                                         | 210/1199 [00:52<04:09,  3.96it/s, now=None]"
     ]
    },
    {
     "name": "stdout",
     "output_type": "stream",
     "text": [
      "missdetection\n",
      "[ 3.11930584e-05  2.28033946e-01 -1.68631098e+02]\n",
      "missdetection\n",
      "[ 9.96269933e-04 -8.94978146e-01  1.34211013e+02]\n"
     ]
    },
    {
     "name": "stderr",
     "output_type": "stream",
     "text": [
      "\r",
      "t:  18%|████████▊                                         | 211/1199 [00:53<04:09,  3.95it/s, now=None]"
     ]
    },
    {
     "name": "stdout",
     "output_type": "stream",
     "text": [
      "missdetection\n",
      "[-2.70994035e-05  2.58789521e-01 -1.63539881e+02]\n",
      "missdetection\n",
      "[-1.24521279e-04  4.03949841e-01 -2.21129692e+02]\n"
     ]
    },
    {
     "name": "stderr",
     "output_type": "stream",
     "text": [
      "\r",
      "t:  18%|████████▊                                         | 212/1199 [00:53<04:12,  3.90it/s, now=None]"
     ]
    },
    {
     "name": "stdout",
     "output_type": "stream",
     "text": [
      "missdetection\n",
      "[-1.14974636e-04  3.35662344e-01 -1.80264593e+02]\n"
     ]
    },
    {
     "name": "stderr",
     "output_type": "stream",
     "text": [
      "\r",
      "t:  18%|████████▉                                         | 213/1199 [00:53<04:15,  3.85it/s, now=None]"
     ]
    },
    {
     "name": "stdout",
     "output_type": "stream",
     "text": [
      "missdetection\n",
      "[ 1.15178589e-03 -1.15218596e+00  2.46271280e+02]\n",
      "missdetection\n",
      "[-3.52304091e-04  5.34294937e-01 -2.12897261e+02]\n",
      "Wrong separation between lines\n"
     ]
    },
    {
     "name": "stderr",
     "output_type": "stream",
     "text": [
      "\r",
      "t:  18%|████████▉                                         | 214/1199 [00:53<04:07,  3.98it/s, now=None]"
     ]
    },
    {
     "name": "stdout",
     "output_type": "stream",
     "text": [
      "missdetection\n",
      "[-1.49559141e-04  3.10669747e-01 -1.46962266e+02]\n",
      "missdetection\n",
      "[-3.84905884e-04  5.49076735e-01 -2.11537883e+02]\n"
     ]
    },
    {
     "name": "stderr",
     "output_type": "stream",
     "text": [
      "\r",
      "t:  18%|████████▉                                         | 215/1199 [00:54<04:11,  3.91it/s, now=None]"
     ]
    },
    {
     "name": "stdout",
     "output_type": "stream",
     "text": [
      "missdetection\n",
      "[-1.49598966e-04  2.88854849e-01 -1.34159444e+02]\n",
      "missdetection\n",
      "[-4.88424415e-04  6.16644439e-01 -2.09662117e+02]\n"
     ]
    },
    {
     "name": "stderr",
     "output_type": "stream",
     "text": [
      "\r",
      "t:  18%|█████████                                         | 216/1199 [00:54<04:17,  3.82it/s, now=None]"
     ]
    },
    {
     "name": "stdout",
     "output_type": "stream",
     "text": [
      "missdetection\n",
      "[-1.35484301e-04  2.53720061e-01 -1.14582440e+02]\n",
      "missdetection\n",
      "[-5.38380007e-04  6.49489207e-01 -2.08116065e+02]\n"
     ]
    },
    {
     "name": "stderr",
     "output_type": "stream",
     "text": [
      "\r",
      "t:  18%|█████████                                         | 217/1199 [00:54<04:18,  3.80it/s, now=None]"
     ]
    },
    {
     "name": "stdout",
     "output_type": "stream",
     "text": [
      "missdetection\n",
      "[-1.89996582e-04  2.95049778e-01 -1.16706604e+02]\n",
      "missdetection\n",
      "[-5.86857111e-04  6.83558917e-01 -2.08143749e+02]\n"
     ]
    },
    {
     "name": "stderr",
     "output_type": "stream",
     "text": [
      "\r",
      "t:  18%|█████████                                         | 218/1199 [00:54<04:15,  3.84it/s, now=None]"
     ]
    },
    {
     "name": "stdout",
     "output_type": "stream",
     "text": [
      "missdetection\n",
      "[-1.55710878e-04  2.50699999e-01 -1.01816479e+02]\n",
      "missdetection\n",
      "[-5.91321973e-04  6.72452147e-01 -1.97894755e+02]\n"
     ]
    },
    {
     "name": "stderr",
     "output_type": "stream",
     "text": [
      "\r",
      "t:  18%|█████████▏                                        | 219/1199 [00:55<04:15,  3.84it/s, now=None]"
     ]
    },
    {
     "name": "stdout",
     "output_type": "stream",
     "text": [
      "missdetection\n",
      "[-6.22379126e-04  6.93145348e-01 -1.94659329e+02]\n"
     ]
    },
    {
     "name": "stderr",
     "output_type": "stream",
     "text": [
      "\r",
      "t:  18%|█████████▏                                        | 220/1199 [00:55<04:31,  3.61it/s, now=None]"
     ]
    },
    {
     "name": "stdout",
     "output_type": "stream",
     "text": [
      "missdetection\n",
      "[-1.18710595e-03  8.92043974e-01 -1.28298351e+02]\n",
      "missdetection\n",
      "[-6.62846043e-04  7.22132571e-01 -1.97605169e+02]\n",
      "Wrong separation between lines\n"
     ]
    },
    {
     "name": "stderr",
     "output_type": "stream",
     "text": [
      "\r",
      "t:  18%|█████████▏                                        | 221/1199 [00:55<04:29,  3.63it/s, now=None]"
     ]
    },
    {
     "name": "stdout",
     "output_type": "stream",
     "text": [
      "missdetection\n",
      "[-6.80602598e-04  7.44093446e-01 -2.02727797e+02]\n",
      "Wrong separation between lines\n"
     ]
    },
    {
     "name": "stderr",
     "output_type": "stream",
     "text": [
      "\r",
      "t:  19%|█████████▎                                        | 222/1199 [00:55<04:22,  3.73it/s, now=None]"
     ]
    },
    {
     "name": "stdout",
     "output_type": "stream",
     "text": [
      "missdetection\n",
      "[-4.45520637e-04  4.97651599e-01 -1.42712107e+02]\n",
      "Wrong separation between lines\n"
     ]
    },
    {
     "name": "stderr",
     "output_type": "stream",
     "text": [
      "\r",
      "t:  19%|█████████▎                                        | 223/1199 [00:56<04:20,  3.75it/s, now=None]"
     ]
    },
    {
     "name": "stdout",
     "output_type": "stream",
     "text": [
      "missdetection\n",
      "[-4.53325143e-04  4.90652391e-01 -1.34679848e+02]\n"
     ]
    },
    {
     "name": "stderr",
     "output_type": "stream",
     "text": [
      "\r",
      "t:  19%|█████████▎                                        | 224/1199 [00:56<04:17,  3.79it/s, now=None]"
     ]
    },
    {
     "name": "stdout",
     "output_type": "stream",
     "text": [
      "missdetection\n",
      "[-4.54260050e-04  4.87516432e-01 -1.31816935e+02]\n"
     ]
    },
    {
     "name": "stderr",
     "output_type": "stream",
     "text": [
      "\r",
      "t:  19%|█████████▍                                        | 225/1199 [00:56<04:20,  3.74it/s, now=None]"
     ]
    },
    {
     "name": "stdout",
     "output_type": "stream",
     "text": [
      "missdetection\n",
      "[-5.42755237e-04  5.78395103e-01 -1.52935403e+02]\n"
     ]
    },
    {
     "name": "stderr",
     "output_type": "stream",
     "text": [
      "\r",
      "t:  19%|█████████▍                                        | 226/1199 [00:57<04:22,  3.70it/s, now=None]"
     ]
    },
    {
     "name": "stdout",
     "output_type": "stream",
     "text": [
      "missdetection\n",
      "[-5.66435967e-04  6.04522691e-01 -1.59556760e+02]\n",
      "Wrong separation between lines\n"
     ]
    },
    {
     "name": "stderr",
     "output_type": "stream",
     "text": [
      "\r",
      "t:  19%|█████████▍                                        | 227/1199 [00:57<04:16,  3.79it/s, now=None]"
     ]
    },
    {
     "name": "stdout",
     "output_type": "stream",
     "text": [
      "missdetection\n",
      "[-6.8067095e-04  7.3838886e-01 -2.0068814e+02]\n",
      "Wrong separation between lines\n"
     ]
    },
    {
     "name": "stderr",
     "output_type": "stream",
     "text": [
      "\r",
      "t:  19%|█████████▌                                        | 228/1199 [00:57<04:12,  3.85it/s, now=None]"
     ]
    },
    {
     "name": "stdout",
     "output_type": "stream",
     "text": [
      "missdetection\n",
      "[-6.90017959e-04  7.63009502e-01 -2.13285038e+02]\n",
      "Wrong separation between lines\n"
     ]
    },
    {
     "name": "stderr",
     "output_type": "stream",
     "text": [
      "\r",
      "t:  19%|█████████▌                                        | 229/1199 [00:57<04:05,  3.95it/s, now=None]"
     ]
    },
    {
     "name": "stdout",
     "output_type": "stream",
     "text": [
      "missdetection\n",
      "[-7.36765370e-04  7.99230709e-01 -2.12103621e+02]\n",
      "Wrong separation between lines\n"
     ]
    },
    {
     "name": "stderr",
     "output_type": "stream",
     "text": [
      "\r",
      "t:  19%|█████████▌                                        | 230/1199 [00:58<04:02,  4.00it/s, now=None]"
     ]
    },
    {
     "name": "stdout",
     "output_type": "stream",
     "text": [
      "missdetection\n",
      "[-8.40182109e-04  9.44977630e-01 -2.65399950e+02]\n",
      "Wrong separation between lines\n"
     ]
    },
    {
     "name": "stderr",
     "output_type": "stream",
     "text": [
      "\r",
      "t:  19%|█████████▋                                        | 231/1199 [00:58<04:06,  3.93it/s, now=None]"
     ]
    },
    {
     "name": "stdout",
     "output_type": "stream",
     "text": [
      "missdetection\n",
      "[-8.42339405e-04  9.54514508e-01 -2.72787419e+02]\n",
      "Wrong separation between lines\n"
     ]
    },
    {
     "name": "stderr",
     "output_type": "stream",
     "text": [
      "\r",
      "t:  19%|█████████▋                                        | 232/1199 [00:58<04:04,  3.95it/s, now=None]"
     ]
    },
    {
     "name": "stdout",
     "output_type": "stream",
     "text": [
      "missdetection\n",
      "[-4.97755409e-04  5.38377007e-01 -1.47428822e+02]\n"
     ]
    },
    {
     "name": "stderr",
     "output_type": "stream",
     "text": [
      "\r",
      "t:  19%|█████████▋                                        | 233/1199 [00:58<04:14,  3.80it/s, now=None]"
     ]
    },
    {
     "name": "stdout",
     "output_type": "stream",
     "text": [
      "missdetection\n",
      "[-1.09121240e-03  8.86871773e-01 -1.28795587e+02]\n",
      "Wrong separation between lines\n"
     ]
    },
    {
     "name": "stderr",
     "output_type": "stream",
     "text": [
      "t:  20%|█████████▊                                        | 235/1199 [00:59<04:23,  3.66it/s, now=None]"
     ]
    },
    {
     "name": "stdout",
     "output_type": "stream",
     "text": [
      "Wrong separation between lines\n"
     ]
    },
    {
     "name": "stderr",
     "output_type": "stream",
     "text": [
      "t:  20%|█████████▉                                        | 237/1199 [00:59<04:17,  3.74it/s, now=None]"
     ]
    },
    {
     "name": "stdout",
     "output_type": "stream",
     "text": [
      "Wrong separation between lines\n"
     ]
    },
    {
     "name": "stderr",
     "output_type": "stream",
     "text": [
      "t:  20%|█████████▉                                        | 239/1199 [01:00<04:26,  3.61it/s, now=None]"
     ]
    },
    {
     "name": "stdout",
     "output_type": "stream",
     "text": [
      "missdetection\n",
      "[-6.86003105e-04  6.91922746e-01 -1.52550814e+02]\n",
      "Wrong separation between lines\n"
     ]
    },
    {
     "name": "stderr",
     "output_type": "stream",
     "text": [
      "\r",
      "t:  20%|██████████                                        | 240/1199 [01:00<04:27,  3.59it/s, now=None]"
     ]
    },
    {
     "name": "stdout",
     "output_type": "stream",
     "text": [
      "missdetection\n",
      "[-4.61211427e-04  4.74576035e-01 -1.15221516e+02]\n"
     ]
    },
    {
     "name": "stderr",
     "output_type": "stream",
     "text": [
      "\r",
      "t:  20%|██████████                                        | 241/1199 [01:01<04:28,  3.56it/s, now=None]"
     ]
    },
    {
     "name": "stdout",
     "output_type": "stream",
     "text": [
      "missdetection\n",
      "[-5.87147979e-04  6.35896231e-01 -1.68172591e+02]\n",
      "Wrong separation between lines\n"
     ]
    },
    {
     "name": "stderr",
     "output_type": "stream",
     "text": [
      "\r",
      "t:  20%|██████████                                        | 242/1199 [01:01<04:17,  3.72it/s, now=None]"
     ]
    },
    {
     "name": "stdout",
     "output_type": "stream",
     "text": [
      "missdetection\n",
      "[-7.15723088e-04  7.81671433e-01 -2.08564822e+02]\n",
      "Wrong separation between lines\n"
     ]
    },
    {
     "name": "stderr",
     "output_type": "stream",
     "text": [
      "\r",
      "t:  20%|██████████▏                                       | 243/1199 [01:01<04:14,  3.75it/s, now=None]"
     ]
    },
    {
     "name": "stdout",
     "output_type": "stream",
     "text": [
      "missdetection\n",
      "[ 3.70130269e-04 -4.26509495e-01  1.24748726e+02]\n",
      "missdetection\n",
      "[ 1.03684931e-03 -1.45304343e+00  4.96892499e+02]\n",
      "Wrong separation between lines\n"
     ]
    },
    {
     "name": "stderr",
     "output_type": "stream",
     "text": [
      "\r",
      "t:  20%|██████████▏                                       | 244/1199 [01:01<04:08,  3.85it/s, now=None]"
     ]
    },
    {
     "name": "stdout",
     "output_type": "stream",
     "text": [
      "missdetection\n",
      "[ 1.70999922e-03 -2.14497469e+00  6.72417626e+02]\n",
      "missdetection\n",
      "[ 9.90184312e-04 -1.38913803e+00  4.76334130e+02]\n",
      "Wrong separation between lines\n"
     ]
    },
    {
     "name": "stderr",
     "output_type": "stream",
     "text": [
      "\r",
      "t:  20%|██████████▏                                       | 245/1199 [01:02<04:12,  3.78it/s, now=None]"
     ]
    },
    {
     "name": "stdout",
     "output_type": "stream",
     "text": [
      "missdetection\n",
      "[ 1.68485866e-03 -2.11486246e+00  6.63691140e+02]\n",
      "missdetection\n",
      "[ 9.88798086e-04 -1.36890543e+00  4.64578706e+02]\n",
      "Wrong separation between lines\n"
     ]
    },
    {
     "name": "stderr",
     "output_type": "stream",
     "text": [
      "\r",
      "t:  21%|██████████▎                                       | 246/1199 [01:02<04:04,  3.90it/s, now=None]"
     ]
    },
    {
     "name": "stdout",
     "output_type": "stream",
     "text": [
      "missdetection\n",
      "[ 1.68718234e-03 -2.13184896e+00  6.75476410e+02]\n",
      "missdetection\n",
      "[ 1.36363544e-03 -1.82663959e+00  6.06536289e+02]\n"
     ]
    },
    {
     "name": "stderr",
     "output_type": "stream",
     "text": [
      "\r",
      "t:  21%|██████████▎                                       | 247/1199 [01:02<04:11,  3.79it/s, now=None]"
     ]
    },
    {
     "name": "stdout",
     "output_type": "stream",
     "text": [
      "missdetection\n",
      "[ 1.66574645e-03 -2.11403794e+00  6.71709189e+02]\n",
      "missdetection\n",
      "[ 1.56543067e-03 -2.08827677e+00  6.87859143e+02]\n"
     ]
    },
    {
     "name": "stderr",
     "output_type": "stream",
     "text": [
      "\r",
      "t:  21%|██████████▎                                       | 248/1199 [01:02<04:10,  3.80it/s, now=None]"
     ]
    },
    {
     "name": "stdout",
     "output_type": "stream",
     "text": [
      "missdetection\n",
      "[ 1.60879611e-03 -2.04055420e+00  6.48103373e+02]\n",
      "missdetection\n",
      "[ 1.48794705e-03 -1.98861404e+00  6.55518831e+02]\n"
     ]
    },
    {
     "name": "stderr",
     "output_type": "stream",
     "text": [
      "\r",
      "t:  21%|██████████▍                                       | 249/1199 [01:03<04:07,  3.84it/s, now=None]"
     ]
    },
    {
     "name": "stdout",
     "output_type": "stream",
     "text": [
      "missdetection\n",
      "[ 1.44207777e-03 -1.92405117e+00  6.32717464e+02]\n",
      "Wrong separation between lines\n"
     ]
    },
    {
     "name": "stderr",
     "output_type": "stream",
     "text": [
      "\r",
      "t:  21%|██████████▍                                       | 250/1199 [01:03<04:03,  3.89it/s, now=None]"
     ]
    },
    {
     "name": "stdout",
     "output_type": "stream",
     "text": [
      "missdetection\n",
      "[ 1.36664627e-03 -1.70362689e+00  5.35641843e+02]\n",
      "missdetection\n",
      "[ 1.38866541e-03 -1.85234170e+00  6.09392006e+02]\n"
     ]
    },
    {
     "name": "stderr",
     "output_type": "stream",
     "text": [
      "\r",
      "t:  21%|██████████▍                                       | 251/1199 [01:03<04:16,  3.69it/s, now=None]"
     ]
    },
    {
     "name": "stdout",
     "output_type": "stream",
     "text": [
      "missdetection\n",
      "[ 1.12887836e-03 -1.51207618e+00  5.02550812e+02]\n",
      "Wrong separation between lines\n"
     ]
    },
    {
     "name": "stderr",
     "output_type": "stream",
     "text": [
      "\r",
      "t:  21%|██████████▌                                       | 252/1199 [01:03<04:16,  3.69it/s, now=None]"
     ]
    },
    {
     "name": "stdout",
     "output_type": "stream",
     "text": [
      "missdetection\n",
      "[ 1.29398777e-03 -1.60241532e+00  5.00297548e+02]\n",
      "missdetection\n",
      "[ 1.06292729e-03 -1.42115647e+00  4.69281859e+02]\n"
     ]
    },
    {
     "name": "stderr",
     "output_type": "stream",
     "text": [
      "\r",
      "t:  21%|██████████▌                                       | 253/1199 [01:04<04:13,  3.72it/s, now=None]"
     ]
    },
    {
     "name": "stdout",
     "output_type": "stream",
     "text": [
      "missdetection\n",
      "[ 1.23767023e-03 -1.52082373e+00  4.70559468e+02]\n",
      "missdetection\n",
      "[ 1.15634911e-03 -1.52993884e+00  4.99402538e+02]\n"
     ]
    },
    {
     "name": "stderr",
     "output_type": "stream",
     "text": [
      "\r",
      "t:  21%|██████████▌                                       | 254/1199 [01:04<04:10,  3.77it/s, now=None]"
     ]
    },
    {
     "name": "stdout",
     "output_type": "stream",
     "text": [
      "missdetection\n",
      "[ 1.11890796e-03 -1.35729718e+00  4.15390779e+02]\n",
      "missdetection\n",
      "[ 1.13819884e-03 -1.49713588e+00  4.85934865e+02]\n"
     ]
    },
    {
     "name": "stderr",
     "output_type": "stream",
     "text": [
      "\r",
      "t:  21%|██████████▋                                       | 255/1199 [01:04<04:06,  3.83it/s, now=None]"
     ]
    },
    {
     "name": "stdout",
     "output_type": "stream",
     "text": [
      "missdetection\n",
      "[ 1.26256768e-03 -1.55378115e+00  4.82248426e+02]\n",
      "missdetection\n",
      "[ 1.22036049e-03 -1.59996065e+00  5.17164408e+02]\n"
     ]
    },
    {
     "name": "stderr",
     "output_type": "stream",
     "text": [
      "\r",
      "t:  21%|██████████▋                                       | 256/1199 [01:04<04:02,  3.89it/s, now=None]"
     ]
    },
    {
     "name": "stdout",
     "output_type": "stream",
     "text": [
      "missdetection\n",
      "[ 1.21626501e-03 -1.49349149e+00  4.64186356e+02]\n",
      "missdetection\n",
      "[ 1.4150745e-03 -1.8420746e+00  5.9297304e+02]\n",
      "Wrong separation between lines\n"
     ]
    },
    {
     "name": "stderr",
     "output_type": "stream",
     "text": [
      "\r",
      "t:  21%|██████████▋                                       | 257/1199 [01:05<04:06,  3.83it/s, now=None]"
     ]
    },
    {
     "name": "stdout",
     "output_type": "stream",
     "text": [
      "missdetection\n",
      "[ 1.55929870e-03 -1.87042676e+00  5.64351916e+02]\n",
      "missdetection\n",
      "[ 1.53903636e-03 -2.01623535e+00  6.50567595e+02]\n",
      "Wrong separation between lines\n"
     ]
    },
    {
     "name": "stderr",
     "output_type": "stream",
     "text": [
      "\r",
      "t:  22%|██████████▊                                       | 258/1199 [01:05<04:07,  3.81it/s, now=None]"
     ]
    },
    {
     "name": "stdout",
     "output_type": "stream",
     "text": [
      "missdetection\n",
      "[ 1.59847809e-03 -1.93928380e+00  5.91037646e+02]\n",
      "missdetection\n",
      "[ 1.20259420e-03 -1.58017227e+00  5.12185330e+02]\n"
     ]
    },
    {
     "name": "stderr",
     "output_type": "stream",
     "text": [
      "\r",
      "t:  22%|██████████▊                                       | 259/1199 [01:05<04:02,  3.87it/s, now=None]"
     ]
    },
    {
     "name": "stdout",
     "output_type": "stream",
     "text": [
      "missdetection\n",
      "[ 1.41844304e-03 -1.69910571e+00  5.14087088e+02]\n",
      "missdetection\n",
      "[ 1.04902264e-03 -1.37849805e+00  4.44957023e+02]\n"
     ]
    },
    {
     "name": "stderr",
     "output_type": "stream",
     "text": [
      "\r",
      "t:  22%|██████████▊                                       | 260/1199 [01:05<04:00,  3.91it/s, now=None]"
     ]
    },
    {
     "name": "stdout",
     "output_type": "stream",
     "text": [
      "missdetection\n",
      "[ 1.42135764e-03 -1.70547958e+00  5.13951522e+02]\n",
      "missdetection\n",
      "[ 8.35267841e-04 -1.09522326e+00  3.50741139e+02]\n",
      "Wrong separation between lines\n"
     ]
    },
    {
     "name": "stderr",
     "output_type": "stream",
     "text": [
      "\r",
      "t:  22%|██████████▉                                       | 261/1199 [01:06<04:00,  3.91it/s, now=None]"
     ]
    },
    {
     "name": "stdout",
     "output_type": "stream",
     "text": [
      "missdetection\n",
      "[ 1.37113638e-03 -1.74698718e+00  5.63562676e+02]\n",
      "missdetection\n",
      "[ 8.41924298e-04 -1.09858522e+00  3.51134053e+02]\n",
      "Wrong separation between lines\n"
     ]
    },
    {
     "name": "stderr",
     "output_type": "stream",
     "text": [
      "\r",
      "t:  22%|██████████▉                                       | 262/1199 [01:06<03:58,  3.93it/s, now=None]"
     ]
    },
    {
     "name": "stdout",
     "output_type": "stream",
     "text": [
      "missdetection\n",
      "[ 1.43347383e-03 -1.84277213e+00  5.98270425e+02]\n",
      "missdetection\n",
      "[ 9.85277414e-04 -1.27773961e+00  4.04479815e+02]\n"
     ]
    },
    {
     "name": "stderr",
     "output_type": "stream",
     "text": [
      "\r",
      "t:  22%|██████████▉                                       | 263/1199 [01:06<03:58,  3.93it/s, now=None]"
     ]
    },
    {
     "name": "stdout",
     "output_type": "stream",
     "text": [
      "missdetection\n",
      "[ 1.41162062e-03 -1.82041678e+00  5.93268365e+02]\n",
      "missdetection\n",
      "[ 1.00140774e-03 -1.29315393e+00  4.08156816e+02]\n"
     ]
    },
    {
     "name": "stderr",
     "output_type": "stream",
     "text": [
      "\r",
      "t:  22%|███████████                                       | 264/1199 [01:07<04:02,  3.86it/s, now=None]"
     ]
    },
    {
     "name": "stdout",
     "output_type": "stream",
     "text": [
      "missdetection\n",
      "[ 1.38862475e-03 -1.79251950e+00  5.86249947e+02]\n",
      "missdetection\n",
      "[ 1.14376937e-03 -1.47578976e+00  4.66172222e+02]\n"
     ]
    },
    {
     "name": "stderr",
     "output_type": "stream",
     "text": [
      "\r",
      "t:  22%|███████████                                       | 265/1199 [01:07<03:56,  3.95it/s, now=None]"
     ]
    },
    {
     "name": "stdout",
     "output_type": "stream",
     "text": [
      "missdetection\n",
      "[ 1.30762965e-03 -1.67706713e+00  5.44503784e+02]\n",
      "missdetection\n",
      "[ 1.32564391e-03 -1.71692132e+00  5.45256025e+02]\n"
     ]
    },
    {
     "name": "stderr",
     "output_type": "stream",
     "text": [
      "\r",
      "t:  22%|███████████                                       | 266/1199 [01:07<03:56,  3.95it/s, now=None]"
     ]
    },
    {
     "name": "stdout",
     "output_type": "stream",
     "text": [
      "missdetection\n",
      "[ 1.34657134e-03 -1.72753511e+00  5.62153375e+02]\n",
      "missdetection\n",
      "[ 1.00852402e-03 -1.30089264e+00  4.08769966e+02]\n"
     ]
    },
    {
     "name": "stderr",
     "output_type": "stream",
     "text": [
      "\r",
      "t:  22%|███████████▏                                      | 267/1199 [01:07<04:03,  3.82it/s, now=None]"
     ]
    },
    {
     "name": "stdout",
     "output_type": "stream",
     "text": [
      "missdetection\n",
      "[ 1.55945037e-03 -2.01418295e+00  6.58896123e+02]\n",
      "missdetection\n",
      "[ 1.37792932e-03 -1.79554234e+00  5.79242697e+02]\n"
     ]
    },
    {
     "name": "stderr",
     "output_type": "stream",
     "text": [
      "\r",
      "t:  22%|███████████▏                                      | 268/1199 [01:08<04:07,  3.77it/s, now=None]"
     ]
    },
    {
     "name": "stdout",
     "output_type": "stream",
     "text": [
      "missdetection\n",
      "[ 1.58298222e-03 -2.04947827e+00  6.70272331e+02]\n",
      "missdetection\n",
      "[ 1.42694198e-03 -1.85879308e+00  5.99427642e+02]\n"
     ]
    },
    {
     "name": "stderr",
     "output_type": "stream",
     "text": [
      "\r",
      "t:  22%|███████████▏                                      | 269/1199 [01:08<03:59,  3.88it/s, now=None]"
     ]
    },
    {
     "name": "stdout",
     "output_type": "stream",
     "text": [
      "missdetection\n",
      "[ 1.34441095e-03 -1.72849208e+00  5.62378030e+02]\n",
      "missdetection\n",
      "[ 1.47456918e-03 -1.92181554e+00  6.20517966e+02]\n"
     ]
    },
    {
     "name": "stderr",
     "output_type": "stream",
     "text": [
      "\r",
      "t:  23%|███████████▎                                      | 270/1199 [01:08<04:04,  3.81it/s, now=None]"
     ]
    },
    {
     "name": "stdout",
     "output_type": "stream",
     "text": [
      "missdetection\n",
      "[ 1.15749419e-03 -1.45864950e+00  4.65200690e+02]\n",
      "missdetection\n",
      "[ 1.56392063e-03 -2.04295721e+00  6.61221496e+02]\n"
     ]
    },
    {
     "name": "stderr",
     "output_type": "stream",
     "text": [
      "\r",
      "t:  23%|███████████▎                                      | 271/1199 [01:08<04:06,  3.76it/s, now=None]"
     ]
    },
    {
     "name": "stdout",
     "output_type": "stream",
     "text": [
      "missdetection\n",
      "[ 1.12625375e-03 -1.39857918e+00  4.41359706e+02]\n",
      "missdetection\n",
      "[ 1.55087297e-03 -2.02426378e+00  6.54558244e+02]\n"
     ]
    },
    {
     "name": "stderr",
     "output_type": "stream",
     "text": [
      "\r",
      "t:  23%|███████████▎                                      | 272/1199 [01:09<04:03,  3.80it/s, now=None]"
     ]
    },
    {
     "name": "stdout",
     "output_type": "stream",
     "text": [
      "missdetection\n",
      "[ 1.25155107e-03 -1.57004924e+00  5.00967266e+02]\n",
      "missdetection\n",
      "[ 1.56776132e-03 -2.04886656e+00  6.61688073e+02]\n"
     ]
    },
    {
     "name": "stderr",
     "output_type": "stream",
     "text": [
      "\r",
      "t:  23%|███████████▍                                      | 273/1199 [01:09<04:03,  3.81it/s, now=None]"
     ]
    },
    {
     "name": "stdout",
     "output_type": "stream",
     "text": [
      "missdetection\n",
      "[ 1.28930198e-03 -1.61036792e+00  5.10126087e+02]\n",
      "missdetection\n",
      "[ 1.54608556e-03 -2.01854628e+00  6.51196705e+02]\n"
     ]
    },
    {
     "name": "stderr",
     "output_type": "stream",
     "text": [
      "\r",
      "t:  23%|███████████▍                                      | 274/1199 [01:09<04:07,  3.73it/s, now=None]"
     ]
    },
    {
     "name": "stdout",
     "output_type": "stream",
     "text": [
      "missdetection\n",
      "[ 1.34216281e-03 -1.67485592e+00  5.27018529e+02]\n",
      "missdetection\n",
      "[ 1.51711914e-03 -1.97906195e+00  6.38034095e+02]\n"
     ]
    },
    {
     "name": "stderr",
     "output_type": "stream",
     "text": [
      "\r",
      "t:  23%|███████████▍                                      | 275/1199 [01:09<04:00,  3.85it/s, now=None]"
     ]
    },
    {
     "name": "stdout",
     "output_type": "stream",
     "text": [
      "missdetection\n",
      "[ 1.28847378e-03 -1.59707958e+00  5.00097407e+02]\n",
      "missdetection\n",
      "[ 1.50521598e-03 -1.96114606e+00  6.31719508e+02]\n"
     ]
    },
    {
     "name": "stderr",
     "output_type": "stream",
     "text": [
      "\r",
      "t:  23%|███████████▌                                      | 276/1199 [01:10<04:05,  3.76it/s, now=None]"
     ]
    },
    {
     "name": "stdout",
     "output_type": "stream",
     "text": [
      "missdetection\n",
      "[ 1.12792413e-03 -1.38637761e+00  4.31312831e+02]\n"
     ]
    },
    {
     "name": "stderr",
     "output_type": "stream",
     "text": [
      "\r",
      "t:  23%|███████████▌                                      | 277/1199 [01:10<04:08,  3.71it/s, now=None]"
     ]
    },
    {
     "name": "stdout",
     "output_type": "stream",
     "text": [
      "missdetection\n",
      "[ 1.07817279e-03 -1.32254259e+00  4.10939531e+02]\n",
      "missdetection\n",
      "[ 2.82033925e-03 -3.67426581e+00  1.18656410e+03]\n"
     ]
    },
    {
     "name": "stderr",
     "output_type": "stream",
     "text": [
      "\r",
      "t:  23%|███████████▌                                      | 278/1199 [01:10<04:08,  3.71it/s, now=None]"
     ]
    },
    {
     "name": "stdout",
     "output_type": "stream",
     "text": [
      "missdetection\n",
      "[ 1.11408049e-03 -1.36818426e+00  4.25530990e+02]\n",
      "missdetection\n",
      "[ 1.55436900e-03 -2.02392397e+00  6.51147854e+02]\n"
     ]
    },
    {
     "name": "stderr",
     "output_type": "stream",
     "text": [
      "\r",
      "t:  23%|███████████▋                                      | 279/1199 [01:10<04:03,  3.77it/s, now=None]"
     ]
    },
    {
     "name": "stdout",
     "output_type": "stream",
     "text": [
      "missdetection\n",
      "[ 9.74195560e-04 -1.18211206e+00  3.66207249e+02]\n",
      "missdetection\n",
      "[ 1.54999505e-03 -2.01825133e+00  6.49225938e+02]\n"
     ]
    },
    {
     "name": "stderr",
     "output_type": "stream",
     "text": [
      "\r",
      "t:  23%|███████████▋                                      | 280/1199 [01:11<03:57,  3.87it/s, now=None]"
     ]
    },
    {
     "name": "stdout",
     "output_type": "stream",
     "text": [
      "missdetection\n",
      "[ 1.55071286e-03 -2.01882911e+00  6.49221905e+02]\n",
      "Wrong separation between lines\n"
     ]
    },
    {
     "name": "stderr",
     "output_type": "stream",
     "text": [
      "\r",
      "t:  23%|███████████▋                                      | 281/1199 [01:11<04:02,  3.78it/s, now=None]"
     ]
    },
    {
     "name": "stdout",
     "output_type": "stream",
     "text": [
      "missdetection\n",
      "[ 1.49751261e-03 -1.94877643e+00  6.27030304e+02]\n",
      "Wrong separation between lines\n"
     ]
    },
    {
     "name": "stderr",
     "output_type": "stream",
     "text": [
      "\r",
      "t:  24%|███████████▊                                      | 282/1199 [01:11<04:00,  3.81it/s, now=None]"
     ]
    },
    {
     "name": "stdout",
     "output_type": "stream",
     "text": [
      "missdetection\n",
      "[ 1.48046278e-03 -1.93346317e+00  6.22243925e+02]\n",
      "Wrong separation between lines\n"
     ]
    },
    {
     "name": "stderr",
     "output_type": "stream",
     "text": [
      "\r",
      "t:  24%|███████████▊                                      | 283/1199 [01:12<03:56,  3.88it/s, now=None]"
     ]
    },
    {
     "name": "stdout",
     "output_type": "stream",
     "text": [
      "missdetection\n",
      "[ 1.49446432e-03 -1.94859240e+00  6.22882267e+02]\n"
     ]
    },
    {
     "name": "stderr",
     "output_type": "stream",
     "text": [
      "\r",
      "t:  24%|███████████▊                                      | 284/1199 [01:12<04:01,  3.79it/s, now=None]"
     ]
    },
    {
     "name": "stdout",
     "output_type": "stream",
     "text": [
      "missdetection\n",
      "[ 1.61390945e-03 -2.11661759e+00  6.81736133e+02]\n"
     ]
    },
    {
     "name": "stderr",
     "output_type": "stream",
     "text": [
      "\r",
      "t:  24%|███████████▉                                      | 285/1199 [01:12<04:02,  3.77it/s, now=None]"
     ]
    },
    {
     "name": "stdout",
     "output_type": "stream",
     "text": [
      "missdetection\n",
      "[ 1.51901789e-03 -1.98743637e+00  6.37970812e+02]\n"
     ]
    },
    {
     "name": "stderr",
     "output_type": "stream",
     "text": [
      "\r",
      "t:  24%|███████████▉                                      | 286/1199 [01:12<04:13,  3.60it/s, now=None]"
     ]
    },
    {
     "name": "stdout",
     "output_type": "stream",
     "text": [
      "missdetection\n",
      "[-7.01291935e-04  6.73268071e-01 -1.51510036e+02]\n",
      "missdetection\n",
      "[ 1.29630890e-03 -1.69691587e+00  5.43808857e+02]\n"
     ]
    },
    {
     "name": "stderr",
     "output_type": "stream",
     "text": [
      "\r",
      "t:  24%|███████████▉                                      | 287/1199 [01:13<04:08,  3.67it/s, now=None]"
     ]
    },
    {
     "name": "stdout",
     "output_type": "stream",
     "text": [
      "missdetection\n",
      "[ 5.67610600e-04 -5.70101335e-01  1.40869177e+02]\n",
      "missdetection\n",
      "[ 1.36281329e-03 -1.78682788e+00  5.74251697e+02]\n"
     ]
    },
    {
     "name": "stderr",
     "output_type": "stream",
     "text": [
      "\r",
      "t:  24%|████████████                                      | 288/1199 [01:13<04:03,  3.74it/s, now=None]"
     ]
    },
    {
     "name": "stdout",
     "output_type": "stream",
     "text": [
      "missdetection\n",
      "[ 5.24297589e-04 -4.82063095e-01  1.02586039e+02]\n"
     ]
    },
    {
     "name": "stderr",
     "output_type": "stream",
     "text": [
      "t:  24%|████████████                                      | 290/1199 [01:13<04:11,  3.61it/s, now=None]"
     ]
    },
    {
     "name": "stdout",
     "output_type": "stream",
     "text": [
      "Wrong separation between lines\n"
     ]
    },
    {
     "name": "stderr",
     "output_type": "stream",
     "text": [
      "t:  24%|████████████▏                                     | 292/1199 [01:14<03:52,  3.89it/s, now=None]"
     ]
    },
    {
     "name": "stdout",
     "output_type": "stream",
     "text": [
      "missdetection\n",
      "[-5.31501830e-04  5.67192449e-01 -1.63597204e+02]\n",
      "Wrong separation between lines\n"
     ]
    },
    {
     "name": "stderr",
     "output_type": "stream",
     "text": [
      "t:  25%|████████████▎                                     | 295/1199 [01:15<03:51,  3.91it/s, now=None]"
     ]
    },
    {
     "name": "stdout",
     "output_type": "stream",
     "text": [
      "Wrong separation between lines\n"
     ]
    },
    {
     "name": "stderr",
     "output_type": "stream",
     "text": [
      "\r",
      "t:  25%|████████████▎                                     | 296/1199 [01:15<03:52,  3.89it/s, now=None]"
     ]
    },
    {
     "name": "stdout",
     "output_type": "stream",
     "text": [
      "missdetection\n",
      "[ 1.89180094e-03 -2.40466408e+00  7.50731747e+02]\n",
      "Wrong separation between lines\n"
     ]
    },
    {
     "name": "stderr",
     "output_type": "stream",
     "text": [
      "\r",
      "t:  25%|████████████▍                                     | 297/1199 [01:15<03:51,  3.90it/s, now=None]"
     ]
    },
    {
     "name": "stdout",
     "output_type": "stream",
     "text": [
      "missdetection\n",
      "[ 1.62847545e-03 -2.10639740e+00  6.77790666e+02]\n",
      "Wrong separation between lines\n"
     ]
    },
    {
     "name": "stderr",
     "output_type": "stream",
     "text": [
      "\r",
      "t:  25%|████████████▍                                     | 298/1199 [01:15<03:44,  4.02it/s, now=None]"
     ]
    },
    {
     "name": "stdout",
     "output_type": "stream",
     "text": [
      "missdetection\n",
      "[ 1.53624363e-03 -1.96109754e+00  6.22289849e+02]\n",
      "Wrong separation between lines\n"
     ]
    },
    {
     "name": "stderr",
     "output_type": "stream",
     "text": [
      "\r",
      "t:  25%|████████████▍                                     | 299/1199 [01:16<03:44,  4.01it/s, now=None]"
     ]
    },
    {
     "name": "stdout",
     "output_type": "stream",
     "text": [
      "missdetection\n",
      "[ 1.55960935e-03 -1.94128040e+00  5.91608003e+02]\n",
      "Wrong separation between lines\n"
     ]
    },
    {
     "name": "stderr",
     "output_type": "stream",
     "text": [
      "\r",
      "t:  25%|████████████▌                                     | 300/1199 [01:16<03:45,  3.98it/s, now=None]"
     ]
    },
    {
     "name": "stdout",
     "output_type": "stream",
     "text": [
      "missdetection\n",
      "[ 1.57669567e-03 -2.00489175e+00  6.24486223e+02]\n",
      "Wrong separation between lines\n"
     ]
    },
    {
     "name": "stderr",
     "output_type": "stream",
     "text": [
      "\r",
      "t:  25%|████████████▌                                     | 301/1199 [01:16<03:44,  4.01it/s, now=None]"
     ]
    },
    {
     "name": "stdout",
     "output_type": "stream",
     "text": [
      "missdetection\n",
      "[ 1.68967612e-03 -2.20300628e+00  7.04053248e+02]\n"
     ]
    },
    {
     "name": "stderr",
     "output_type": "stream",
     "text": [
      "\r",
      "t:  25%|████████████▌                                     | 302/1199 [01:16<03:44,  3.99it/s, now=None]"
     ]
    },
    {
     "name": "stdout",
     "output_type": "stream",
     "text": [
      "missdetection\n",
      "[-7.47642542e-04  7.76569286e-01 -2.14061408e+02]\n",
      "missdetection\n",
      "[ 1.65249088e-03 -2.16873684e+00  7.01175226e+02]\n"
     ]
    },
    {
     "name": "stderr",
     "output_type": "stream",
     "text": [
      "\r",
      "t:  25%|████████████▋                                     | 303/1199 [01:17<03:46,  3.96it/s, now=None]"
     ]
    },
    {
     "name": "stdout",
     "output_type": "stream",
     "text": [
      "missdetection\n",
      "[ 1.57949944e-03 -2.07150248e+00  6.68496329e+02]\n"
     ]
    },
    {
     "name": "stderr",
     "output_type": "stream",
     "text": [
      "\r",
      "t:  25%|████████████▋                                     | 304/1199 [01:17<03:42,  4.02it/s, now=None]"
     ]
    },
    {
     "name": "stdout",
     "output_type": "stream",
     "text": [
      "missdetection\n",
      "[ 1.52606472e-03 -2.00267958e+00  6.46063975e+02]\n"
     ]
    },
    {
     "name": "stderr",
     "output_type": "stream",
     "text": [
      "\r",
      "t:  25%|████████████▋                                     | 305/1199 [01:17<03:45,  3.96it/s, now=None]"
     ]
    },
    {
     "name": "stdout",
     "output_type": "stream",
     "text": [
      "missdetection\n",
      "[-6.99098947e-04  7.79592711e-01 -2.30998210e+02]\n",
      "missdetection\n",
      "[ 1.06550843e-03 -1.39013791e+00  4.44395034e+02]\n"
     ]
    },
    {
     "name": "stderr",
     "output_type": "stream",
     "text": [
      "\r",
      "t:  26%|████████████▊                                     | 306/1199 [01:17<03:45,  3.97it/s, now=None]"
     ]
    },
    {
     "name": "stdout",
     "output_type": "stream",
     "text": [
      "missdetection\n",
      "[ 1.22173798e-03 -1.59027392e+00  5.08533869e+02]\n"
     ]
    },
    {
     "name": "stderr",
     "output_type": "stream",
     "text": [
      "\r",
      "t:  26%|████████████▊                                     | 307/1199 [01:18<03:51,  3.85it/s, now=None]"
     ]
    },
    {
     "name": "stdout",
     "output_type": "stream",
     "text": [
      "missdetection\n",
      "[ 1.40773816e-03 -1.83431499e+00  5.88044191e+02]\n"
     ]
    },
    {
     "name": "stderr",
     "output_type": "stream",
     "text": [
      "\r",
      "t:  26%|████████████▊                                     | 308/1199 [01:18<03:47,  3.91it/s, now=None]"
     ]
    },
    {
     "name": "stdout",
     "output_type": "stream",
     "text": [
      "missdetection\n",
      "[ 1.45750756e-03 -1.90016343e+00  6.09804238e+02]\n"
     ]
    },
    {
     "name": "stderr",
     "output_type": "stream",
     "text": [
      "\r",
      "t:  26%|████████████▉                                     | 309/1199 [01:18<03:43,  3.98it/s, now=None]"
     ]
    },
    {
     "name": "stdout",
     "output_type": "stream",
     "text": [
      "missdetection\n",
      "[ 1.47228029e-03 -1.91879131e+00  6.15992051e+02]\n"
     ]
    },
    {
     "name": "stderr",
     "output_type": "stream",
     "text": [
      "\r",
      "t:  26%|████████████▉                                     | 310/1199 [01:18<03:48,  3.88it/s, now=None]"
     ]
    },
    {
     "name": "stdout",
     "output_type": "stream",
     "text": [
      "missdetection\n",
      "[-1.57424625e-03  2.04202096e+00 -6.80423192e+02]\n",
      "missdetection\n",
      "[ 1.48982633e-03 -1.94188729e+00  6.23892319e+02]\n"
     ]
    },
    {
     "name": "stderr",
     "output_type": "stream",
     "text": [
      "\r",
      "t:  26%|████████████▉                                     | 311/1199 [01:19<03:42,  3.99it/s, now=None]"
     ]
    },
    {
     "name": "stdout",
     "output_type": "stream",
     "text": [
      "missdetection\n",
      "[-1.58281193e-04  3.00388291e-01 -1.17516711e+02]\n",
      "missdetection\n",
      "[ 1.48623288e-03 -1.93659227e+00  6.21857915e+02]\n"
     ]
    },
    {
     "name": "stderr",
     "output_type": "stream",
     "text": [
      "\r",
      "t:  26%|█████████████                                     | 312/1199 [01:19<03:44,  3.94it/s, now=None]"
     ]
    },
    {
     "name": "stdout",
     "output_type": "stream",
     "text": [
      "missdetection\n",
      "[-2.32230600e-04  3.94173491e-01 -1.48304935e+02]\n",
      "missdetection\n",
      "[ 1.49820136e-03 -1.95279088e+00  6.27074253e+02]\n"
     ]
    },
    {
     "name": "stderr",
     "output_type": "stream",
     "text": [
      "\r",
      "t:  26%|█████████████                                     | 313/1199 [01:19<03:42,  3.99it/s, now=None]"
     ]
    },
    {
     "name": "stdout",
     "output_type": "stream",
     "text": [
      "missdetection\n",
      "[-3.72112231e-04  5.67819461e-01 -2.02441155e+02]\n",
      "missdetection\n",
      "[ 1.50076478e-03 -1.95698189e+00  6.28865769e+02]\n"
     ]
    },
    {
     "name": "stderr",
     "output_type": "stream",
     "text": [
      "\r",
      "t:  26%|█████████████                                     | 314/1199 [01:19<03:37,  4.07it/s, now=None]"
     ]
    },
    {
     "name": "stdout",
     "output_type": "stream",
     "text": [
      "missdetection\n",
      "[-4.25915526e-04  6.27899592e-01 -2.21213530e+02]\n",
      "missdetection\n",
      "[ 1.50165412e-03 -1.95809408e+00  6.29151249e+02]\n"
     ]
    },
    {
     "name": "stderr",
     "output_type": "stream",
     "text": [
      "\r",
      "t:  26%|█████████████▏                                    | 315/1199 [01:20<03:37,  4.07it/s, now=None]"
     ]
    },
    {
     "name": "stdout",
     "output_type": "stream",
     "text": [
      "missdetection\n",
      "[-2.51499799e-04  4.98055962e-01 -2.08865549e+02]\n",
      "missdetection\n",
      "[ 6.86141843e-04 -8.85780809e-01  2.77340500e+02]\n"
     ]
    },
    {
     "name": "stderr",
     "output_type": "stream",
     "text": [
      "\r",
      "t:  26%|█████████████▏                                    | 316/1199 [01:20<03:34,  4.12it/s, now=None]"
     ]
    },
    {
     "name": "stdout",
     "output_type": "stream",
     "text": [
      "missdetection\n",
      "[-5.49495340e-04  7.96443646e-01 -2.78293301e+02]\n",
      "Wrong separation between lines\n"
     ]
    },
    {
     "name": "stderr",
     "output_type": "stream",
     "text": [
      "\r",
      "t:  26%|█████████████▏                                    | 317/1199 [01:20<03:37,  4.06it/s, now=None]"
     ]
    },
    {
     "name": "stdout",
     "output_type": "stream",
     "text": [
      "missdetection\n",
      "[-5.20471024e-04  7.96952003e-01 -2.94224069e+02]\n",
      "Wrong separation between lines\n"
     ]
    },
    {
     "name": "stderr",
     "output_type": "stream",
     "text": [
      "\r",
      "t:  27%|█████████████▎                                    | 318/1199 [01:20<03:33,  4.13it/s, now=None]"
     ]
    },
    {
     "name": "stdout",
     "output_type": "stream",
     "text": [
      "missdetection\n",
      "[-3.58445736e-04  6.14672362e-01 -2.47435672e+02]\n",
      "Wrong separation between lines\n"
     ]
    },
    {
     "name": "stderr",
     "output_type": "stream",
     "text": [
      "\r",
      "t:  27%|█████████████▎                                    | 319/1199 [01:21<03:30,  4.17it/s, now=None]"
     ]
    },
    {
     "name": "stdout",
     "output_type": "stream",
     "text": [
      "missdetection\n",
      "[-4.47860956e-04  7.28342503e-01 -2.86098388e+02]\n",
      "Wrong separation between lines\n"
     ]
    },
    {
     "name": "stderr",
     "output_type": "stream",
     "text": [
      "\r",
      "t:  27%|█████████████▎                                    | 320/1199 [01:21<03:29,  4.20it/s, now=None]"
     ]
    },
    {
     "name": "stdout",
     "output_type": "stream",
     "text": [
      "missdetection\n",
      "[-5.50077881e-04  8.84345755e-01 -3.39101021e+02]\n",
      "missdetection\n",
      "[ 4.39087005e-04 -5.47189722e-01  1.59612536e+02]\n"
     ]
    },
    {
     "name": "stderr",
     "output_type": "stream",
     "text": [
      "\r",
      "t:  27%|█████████████▍                                    | 321/1199 [01:21<03:36,  4.06it/s, now=None]"
     ]
    },
    {
     "name": "stdout",
     "output_type": "stream",
     "text": [
      "missdetection\n",
      "[-6.11339742e-04  9.74565603e-01 -3.72102850e+02]\n",
      "missdetection\n",
      "[ 5.58159215e-04 -7.01034713e-01  2.08982318e+02]\n"
     ]
    },
    {
     "name": "stderr",
     "output_type": "stream",
     "text": [
      "\r",
      "t:  27%|█████████████▍                                    | 322/1199 [01:21<03:38,  4.00it/s, now=None]"
     ]
    },
    {
     "name": "stdout",
     "output_type": "stream",
     "text": [
      "missdetection\n",
      "[-6.75844323e-04  1.06034297e+00 -4.00868975e+02]\n",
      "missdetection\n",
      "[ 7.59602050e-04 -9.65098566e-01  2.95255716e+02]\n"
     ]
    },
    {
     "name": "stderr",
     "output_type": "stream",
     "text": [
      "\r",
      "t:  27%|█████████████▍                                    | 323/1199 [01:22<03:37,  4.04it/s, now=None]"
     ]
    },
    {
     "name": "stdout",
     "output_type": "stream",
     "text": [
      "missdetection\n",
      "[-7.69325752e-04  1.18514316e+00 -4.42710188e+02]\n",
      "missdetection\n",
      "[ 9.68572765e-04 -1.24046178e+00  3.85305190e+02]\n"
     ]
    },
    {
     "name": "stderr",
     "output_type": "stream",
     "text": [
      "\r",
      "t:  27%|█████████████▌                                    | 324/1199 [01:22<03:33,  4.09it/s, now=None]"
     ]
    },
    {
     "name": "stdout",
     "output_type": "stream",
     "text": [
      "missdetection\n",
      "[-9.15133253e-04  1.37525248e+00 -5.04602945e+02]\n",
      "missdetection\n",
      "[ 1.17236234e-03 -1.51078076e+00  4.74076236e+02]\n"
     ]
    },
    {
     "name": "stderr",
     "output_type": "stream",
     "text": [
      "\r",
      "t:  27%|█████████████▌                                    | 325/1199 [01:22<03:34,  4.08it/s, now=None]"
     ]
    },
    {
     "name": "stdout",
     "output_type": "stream",
     "text": [
      "missdetection\n",
      "[-1.00326953e-03  1.49422121e+00 -5.45149437e+02]\n",
      "Wrong separation between lines\n"
     ]
    },
    {
     "name": "stderr",
     "output_type": "stream",
     "text": [
      "\r",
      "t:  27%|█████████████▌                                    | 326/1199 [01:22<03:36,  4.04it/s, now=None]"
     ]
    },
    {
     "name": "stdout",
     "output_type": "stream",
     "text": [
      "missdetection\n",
      "[-1.06605361e-03  1.57140431e+00 -5.77757997e+02]\n",
      "missdetection\n",
      "[ 7.97760052e-04 -1.02552243e+00  3.16872572e+02]\n"
     ]
    },
    {
     "name": "stderr",
     "output_type": "stream",
     "text": [
      "\r",
      "t:  27%|█████████████▋                                    | 327/1199 [01:23<03:36,  4.03it/s, now=None]"
     ]
    },
    {
     "name": "stdout",
     "output_type": "stream",
     "text": [
      "missdetection\n",
      "[-1.16586669e-03  1.70250401e+00 -6.16645768e+02]\n",
      "Wrong separation between lines\n"
     ]
    },
    {
     "name": "stderr",
     "output_type": "stream",
     "text": [
      "\r",
      "t:  27%|█████████████▋                                    | 328/1199 [01:23<03:42,  3.92it/s, now=None]"
     ]
    },
    {
     "name": "stdout",
     "output_type": "stream",
     "text": [
      "missdetection\n",
      "[-1.23367155e-03  1.82854545e+00 -6.68717093e+02]\n",
      "Wrong separation between lines\n"
     ]
    },
    {
     "name": "stderr",
     "output_type": "stream",
     "text": [
      "\r",
      "t:  27%|█████████████▋                                    | 329/1199 [01:23<03:37,  4.01it/s, now=None]"
     ]
    },
    {
     "name": "stdout",
     "output_type": "stream",
     "text": [
      "missdetection\n",
      "[-1.10663727e-03  1.68530216e+00 -6.25865407e+02]\n",
      "Wrong separation between lines\n"
     ]
    },
    {
     "name": "stderr",
     "output_type": "stream",
     "text": [
      "\r",
      "t:  28%|█████████████▊                                    | 330/1199 [01:23<03:35,  4.02it/s, now=None]"
     ]
    },
    {
     "name": "stdout",
     "output_type": "stream",
     "text": [
      "missdetection\n",
      "[-1.31169401e-03  1.95565103e+00 -7.19742584e+02]\n",
      "Wrong separation between lines\n"
     ]
    },
    {
     "name": "stderr",
     "output_type": "stream",
     "text": [
      "\r",
      "t:  28%|█████████████▊                                    | 331/1199 [01:24<03:42,  3.91it/s, now=None]"
     ]
    },
    {
     "name": "stdout",
     "output_type": "stream",
     "text": [
      "missdetection\n",
      "[-1.12939194e-03  1.68787568e+00 -6.22217490e+02]\n",
      "missdetection\n",
      "[-2.35160669e-04  3.14503045e-01 -1.15017219e+02]\n"
     ]
    },
    {
     "name": "stderr",
     "output_type": "stream",
     "text": [
      "\r",
      "t:  28%|█████████████▊                                    | 332/1199 [01:24<03:36,  4.00it/s, now=None]"
     ]
    },
    {
     "name": "stdout",
     "output_type": "stream",
     "text": [
      "missdetection\n",
      "[-5.64743553e-04  9.05220442e-01 -3.51657326e+02]\n",
      "Wrong separation between lines\n"
     ]
    },
    {
     "name": "stderr",
     "output_type": "stream",
     "text": [
      "\r",
      "t:  28%|█████████████▉                                    | 333/1199 [01:24<03:34,  4.04it/s, now=None]"
     ]
    },
    {
     "name": "stdout",
     "output_type": "stream",
     "text": [
      "missdetection\n",
      "[-1.30440085e-04  4.04526181e-01 -2.06778051e+02]\n",
      "Wrong separation between lines\n"
     ]
    },
    {
     "name": "stderr",
     "output_type": "stream",
     "text": [
      "\r",
      "t:  28%|█████████████▉                                    | 334/1199 [01:24<03:38,  3.96it/s, now=None]"
     ]
    },
    {
     "name": "stdout",
     "output_type": "stream",
     "text": [
      "missdetection\n",
      "[-1.24699673e-04  3.91592072e-01 -2.01458337e+02]\n",
      "Wrong separation between lines\n"
     ]
    },
    {
     "name": "stderr",
     "output_type": "stream",
     "text": [
      "\r",
      "t:  28%|█████████████▉                                    | 335/1199 [01:25<03:39,  3.94it/s, now=None]"
     ]
    },
    {
     "name": "stdout",
     "output_type": "stream",
     "text": [
      "missdetection\n",
      "[-2.57125783e-04  3.61145530e-01 -1.36317971e+02]\n"
     ]
    },
    {
     "name": "stderr",
     "output_type": "stream",
     "text": [
      "\r",
      "t:  28%|██████████████                                    | 336/1199 [01:25<03:48,  3.78it/s, now=None]"
     ]
    },
    {
     "name": "stdout",
     "output_type": "stream",
     "text": [
      "Wrong separation between lines\n"
     ]
    },
    {
     "name": "stderr",
     "output_type": "stream",
     "text": [
      "\r",
      "t:  28%|██████████████                                    | 337/1199 [01:25<03:54,  3.68it/s, now=None]"
     ]
    },
    {
     "name": "stdout",
     "output_type": "stream",
     "text": [
      "missdetection\n",
      "[-5.44005883e-04  8.10537374e-01 -2.97992375e+02]\n",
      "Wrong separation between lines\n"
     ]
    },
    {
     "name": "stderr",
     "output_type": "stream",
     "text": [
      "\r",
      "t:  28%|██████████████                                    | 338/1199 [01:26<03:47,  3.79it/s, now=None]"
     ]
    },
    {
     "name": "stdout",
     "output_type": "stream",
     "text": [
      "missdetection\n",
      "[-6.13012396e-04  9.59742830e-01 -3.69393087e+02]\n",
      "Wrong separation between lines\n"
     ]
    },
    {
     "name": "stderr",
     "output_type": "stream",
     "text": [
      "\r",
      "t:  28%|██████████████▏                                   | 339/1199 [01:26<03:44,  3.83it/s, now=None]"
     ]
    },
    {
     "name": "stdout",
     "output_type": "stream",
     "text": [
      "missdetection\n",
      "[-6.21292553e-04  1.01114261e+00 -3.94077468e+02]\n",
      "missdetection\n",
      "[-4.56990206e-04  5.98013330e-01 -2.05377407e+02]\n"
     ]
    },
    {
     "name": "stderr",
     "output_type": "stream",
     "text": [
      "\r",
      "t:  28%|██████████████▏                                   | 340/1199 [01:26<03:46,  3.79it/s, now=None]"
     ]
    },
    {
     "name": "stdout",
     "output_type": "stream",
     "text": [
      "missdetection\n",
      "[-6.94667719e-04  1.03877471e+00 -3.80552351e+02]\n",
      "missdetection\n",
      "[-3.96378410e-04  5.65239658e-01 -2.10350279e+02]\n"
     ]
    },
    {
     "name": "stderr",
     "output_type": "stream",
     "text": [
      "\r",
      "t:  28%|██████████████▏                                   | 341/1199 [01:26<03:46,  3.79it/s, now=None]"
     ]
    },
    {
     "name": "stdout",
     "output_type": "stream",
     "text": [
      "missdetection\n",
      "[ 7.47407705e-04 -8.68450549e-01  2.47683647e+02]\n",
      "missdetection\n",
      "[-3.42425753e-04  4.70702569e-01 -1.71674539e+02]\n"
     ]
    },
    {
     "name": "stderr",
     "output_type": "stream",
     "text": [
      "\r",
      "t:  29%|██████████████▎                                   | 342/1199 [01:27<03:45,  3.80it/s, now=None]"
     ]
    },
    {
     "name": "stdout",
     "output_type": "stream",
     "text": [
      "missdetection\n",
      "[-4.76868943e-04  8.87761346e-01 -3.75923848e+02]\n",
      "missdetection\n",
      "[-2.86917708e-04  4.10468067e-01 -1.56231898e+02]\n"
     ]
    },
    {
     "name": "stderr",
     "output_type": "stream",
     "text": [
      "\r",
      "t:  29%|██████████████▎                                   | 343/1199 [01:27<03:56,  3.62it/s, now=None]"
     ]
    },
    {
     "name": "stdout",
     "output_type": "stream",
     "text": [
      "missdetection\n",
      "[-3.69235379e-04  7.86715451e-01 -3.56637610e+02]\n",
      "missdetection\n",
      "[-2.90953998e-04  4.15376913e-01 -1.57802069e+02]\n"
     ]
    },
    {
     "name": "stderr",
     "output_type": "stream",
     "text": [
      "\r",
      "t:  29%|██████████████▎                                   | 344/1199 [01:27<03:50,  3.71it/s, now=None]"
     ]
    },
    {
     "name": "stdout",
     "output_type": "stream",
     "text": [
      "missdetection\n",
      "[-3.84039454e-04  7.97495819e-01 -3.57159766e+02]\n",
      "missdetection\n",
      "[-2.57114450e-04  3.63432750e-01 -1.38364094e+02]\n"
     ]
    },
    {
     "name": "stderr",
     "output_type": "stream",
     "text": [
      "\r",
      "t:  29%|██████████████▍                                   | 345/1199 [01:27<03:52,  3.68it/s, now=None]"
     ]
    },
    {
     "name": "stdout",
     "output_type": "stream",
     "text": [
      "missdetection\n",
      "[-5.26685670e-04  9.15805153e-01 -3.72708766e+02]\n",
      "missdetection\n",
      "[-2.08435760e-04  3.10373748e-01 -1.24620419e+02]\n"
     ]
    },
    {
     "name": "stderr",
     "output_type": "stream",
     "text": [
      "\r",
      "t:  29%|██████████████▍                                   | 346/1199 [01:28<03:45,  3.79it/s, now=None]"
     ]
    },
    {
     "name": "stdout",
     "output_type": "stream",
     "text": [
      "missdetection\n",
      "[-6.10595998e-04  9.87490731e-01 -3.83328134e+02]\n",
      "missdetection\n",
      "[-1.47655362e-04  2.45182058e-01 -1.08235819e+02]\n"
     ]
    },
    {
     "name": "stderr",
     "output_type": "stream",
     "text": [
      "\r",
      "t:  29%|██████████████▍                                   | 347/1199 [01:28<03:49,  3.71it/s, now=None]"
     ]
    },
    {
     "name": "stdout",
     "output_type": "stream",
     "text": [
      "missdetection\n",
      "[-7.00441819e-04  1.07623013e+00 -4.02777564e+02]\n",
      "missdetection\n",
      "[-7.01087293e-04  9.60495933e-01 -3.38532130e+02]\n"
     ]
    },
    {
     "name": "stderr",
     "output_type": "stream",
     "text": [
      "\r",
      "t:  29%|██████████████▌                                   | 348/1199 [01:28<03:50,  3.69it/s, now=None]"
     ]
    },
    {
     "name": "stdout",
     "output_type": "stream",
     "text": [
      "missdetection\n",
      "[-3.96712971e-04  7.94028182e-01 -3.50703876e+02]\n",
      "missdetection\n",
      "[-4.90470845e-04  7.06152800e-01 -2.62939635e+02]\n"
     ]
    },
    {
     "name": "stderr",
     "output_type": "stream",
     "text": [
      "\r",
      "t:  29%|██████████████▌                                   | 349/1199 [01:28<03:49,  3.71it/s, now=None]"
     ]
    },
    {
     "name": "stdout",
     "output_type": "stream",
     "text": [
      "missdetection\n",
      "[-5.63550685e-04  9.65897823e-01 -3.90365084e+02]\n",
      "missdetection\n",
      "[-7.26478106e-04  1.03281727e+00 -3.75591256e+02]\n"
     ]
    },
    {
     "name": "stderr",
     "output_type": "stream",
     "text": [
      "\r",
      "t:  29%|██████████████▌                                   | 350/1199 [01:29<03:42,  3.81it/s, now=None]"
     ]
    },
    {
     "name": "stdout",
     "output_type": "stream",
     "text": [
      "missdetection\n",
      "[-6.32709736e-04  1.05510651e+00 -4.19133635e+02]\n",
      "missdetection\n",
      "[-9.83226920e-04  1.35970875e+00 -4.79360819e+02]\n"
     ]
    },
    {
     "name": "stderr",
     "output_type": "stream",
     "text": [
      "\r",
      "t:  29%|██████████████▋                                   | 351/1199 [01:29<03:45,  3.76it/s, now=None]"
     ]
    },
    {
     "name": "stdout",
     "output_type": "stream",
     "text": [
      "missdetection\n",
      "[-6.16150186e-04  1.01925303e+00 -4.07544475e+02]\n",
      "missdetection\n",
      "[-9.35782190e-04  1.28295653e+00 -4.49286983e+02]\n"
     ]
    },
    {
     "name": "stderr",
     "output_type": "stream",
     "text": [
      "\r",
      "t:  29%|██████████████▋                                   | 352/1199 [01:29<03:42,  3.81it/s, now=None]"
     ]
    },
    {
     "name": "stdout",
     "output_type": "stream",
     "text": [
      "missdetection\n",
      "[-7.03644583e-04  1.12760188e+00 -4.40991158e+02]\n",
      "missdetection\n",
      "[-6.25768132e-04  8.87015720e-01 -3.23392508e+02]\n"
     ]
    },
    {
     "name": "stderr",
     "output_type": "stream",
     "text": [
      "\r",
      "t:  29%|██████████████▋                                   | 353/1199 [01:29<03:35,  3.93it/s, now=None]"
     ]
    },
    {
     "name": "stdout",
     "output_type": "stream",
     "text": [
      "missdetection\n",
      "[-7.60258479e-04  1.19821959e+00 -4.62453150e+02]\n",
      "missdetection\n",
      "[-3.82586936e-04  5.79113355e-01 -2.26331581e+02]\n"
     ]
    },
    {
     "name": "stderr",
     "output_type": "stream",
     "text": [
      "\r",
      "t:  30%|██████████████▊                                   | 354/1199 [01:30<03:37,  3.89it/s, now=None]"
     ]
    },
    {
     "name": "stdout",
     "output_type": "stream",
     "text": [
      "missdetection\n",
      "[-5.93551580e-04  1.01755161e+00 -4.13343076e+02]\n"
     ]
    },
    {
     "name": "stderr",
     "output_type": "stream",
     "text": [
      "\r",
      "t:  30%|██████████████▊                                   | 355/1199 [01:30<03:45,  3.73it/s, now=None]"
     ]
    },
    {
     "name": "stdout",
     "output_type": "stream",
     "text": [
      "missdetection\n",
      "[-6.30432007e-04  1.06829156e+00 -4.30656154e+02]\n",
      "missdetection\n",
      "[ 1.04262034e-03 -1.31265905e+00  4.01414491e+02]\n"
     ]
    },
    {
     "name": "stderr",
     "output_type": "stream",
     "text": [
      "\r",
      "t:  30%|██████████████▊                                   | 356/1199 [01:30<03:39,  3.84it/s, now=None]"
     ]
    },
    {
     "name": "stdout",
     "output_type": "stream",
     "text": [
      "missdetection\n",
      "[-4.83495030e-04  8.96167994e-01 -3.81286312e+02]\n",
      "missdetection\n",
      "[ 1.00078403e-03 -1.29240365e+00  4.09307532e+02]\n"
     ]
    },
    {
     "name": "stderr",
     "output_type": "stream",
     "text": [
      "\r",
      "t:  30%|██████████████▉                                   | 357/1199 [01:31<03:38,  3.86it/s, now=None]"
     ]
    },
    {
     "name": "stdout",
     "output_type": "stream",
     "text": [
      "missdetection\n",
      "[-6.79546256e-04  1.11980296e+00 -4.43711593e+02]\n",
      "missdetection\n",
      "[-3.48212936e-04  3.96725833e-01 -1.15305813e+02]\n"
     ]
    },
    {
     "name": "stderr",
     "output_type": "stream",
     "text": [
      "\r",
      "t:  30%|██████████████▉                                   | 358/1199 [01:31<03:38,  3.85it/s, now=None]"
     ]
    },
    {
     "name": "stdout",
     "output_type": "stream",
     "text": [
      "missdetection\n",
      "[-8.44529820e-04  1.32502738e+00 -5.07720500e+02]\n"
     ]
    },
    {
     "name": "stderr",
     "output_type": "stream",
     "text": [
      "\r",
      "t:  30%|██████████████▉                                   | 359/1199 [01:31<03:52,  3.61it/s, now=None]"
     ]
    },
    {
     "name": "stdout",
     "output_type": "stream",
     "text": [
      "missdetection\n",
      "[-8.37605259e-04  1.33254028e+00 -5.20163500e+02]\n"
     ]
    },
    {
     "name": "stderr",
     "output_type": "stream",
     "text": [
      "\r",
      "t:  30%|███████████████                                   | 360/1199 [01:31<04:07,  3.39it/s, now=None]"
     ]
    },
    {
     "name": "stdout",
     "output_type": "stream",
     "text": [
      "missdetection\n",
      "[-5.03749945e-04  9.08505526e-01 -3.87253250e+02]\n"
     ]
    },
    {
     "name": "stderr",
     "output_type": "stream",
     "text": [
      "\r",
      "t:  30%|███████████████                                   | 361/1199 [01:32<04:22,  3.19it/s, now=None]"
     ]
    },
    {
     "name": "stdout",
     "output_type": "stream",
     "text": [
      "missdetection\n",
      "[-8.92553033e-04  1.38437217e+00 -5.31320656e+02]\n"
     ]
    },
    {
     "name": "stderr",
     "output_type": "stream",
     "text": [
      "\r",
      "t:  30%|███████████████                                   | 362/1199 [01:32<04:28,  3.12it/s, now=None]"
     ]
    },
    {
     "name": "stdout",
     "output_type": "stream",
     "text": [
      "missdetection\n",
      "[-4.83078810e-04  9.13755281e-01 -3.96382147e+02]\n"
     ]
    },
    {
     "name": "stderr",
     "output_type": "stream",
     "text": [
      "\r",
      "t:  30%|███████████████▏                                  | 363/1199 [01:32<04:22,  3.18it/s, now=None]"
     ]
    },
    {
     "name": "stdout",
     "output_type": "stream",
     "text": [
      "missdetection\n",
      "[-6.33134945e-04  1.05595603e+00 -4.24478728e+02]\n"
     ]
    },
    {
     "name": "stderr",
     "output_type": "stream",
     "text": [
      "\r",
      "t:  30%|███████████████▏                                  | 364/1199 [01:33<04:17,  3.24it/s, now=None]"
     ]
    },
    {
     "name": "stdout",
     "output_type": "stream",
     "text": [
      "missdetection\n",
      "[-3.95625050e-04  8.43460011e-01 -3.88432044e+02]\n"
     ]
    },
    {
     "name": "stderr",
     "output_type": "stream",
     "text": [
      "\r",
      "t:  30%|███████████████▏                                  | 365/1199 [01:33<04:14,  3.28it/s, now=None]"
     ]
    },
    {
     "name": "stdout",
     "output_type": "stream",
     "text": [
      "missdetection\n",
      "[-3.72845265e-04  8.23109257e-01 -3.84892906e+02]\n"
     ]
    },
    {
     "name": "stderr",
     "output_type": "stream",
     "text": [
      "\r",
      "t:  31%|███████████████▎                                  | 366/1199 [01:33<04:10,  3.32it/s, now=None]"
     ]
    },
    {
     "name": "stdout",
     "output_type": "stream",
     "text": [
      "missdetection\n",
      "[-3.51140224e-04  7.87054740e-01 -3.71327561e+02]\n"
     ]
    },
    {
     "name": "stderr",
     "output_type": "stream",
     "text": [
      "\r",
      "t:  31%|███████████████▎                                  | 367/1199 [01:34<04:11,  3.30it/s, now=None]"
     ]
    },
    {
     "name": "stdout",
     "output_type": "stream",
     "text": [
      "missdetection\n",
      "[-4.54525604e-04  8.79750674e-01 -3.86949916e+02]\n"
     ]
    },
    {
     "name": "stderr",
     "output_type": "stream",
     "text": [
      "\r",
      "t:  31%|███████████████▎                                  | 368/1199 [01:34<04:24,  3.14it/s, now=None]"
     ]
    },
    {
     "name": "stdout",
     "output_type": "stream",
     "text": [
      "missdetection\n",
      "[-5.91026254e-04  1.02499386e+00 -4.23627812e+02]\n"
     ]
    },
    {
     "name": "stderr",
     "output_type": "stream",
     "text": [
      "\r",
      "t:  31%|███████████████▍                                  | 369/1199 [01:34<04:32,  3.05it/s, now=None]"
     ]
    },
    {
     "name": "stdout",
     "output_type": "stream",
     "text": [
      "missdetection\n",
      "[-4.33838568e-04  8.64636862e-01 -3.86300804e+02]\n"
     ]
    },
    {
     "name": "stderr",
     "output_type": "stream",
     "text": [
      "\r",
      "t:  31%|███████████████▍                                  | 370/1199 [01:35<04:56,  2.80it/s, now=None]"
     ]
    },
    {
     "name": "stdout",
     "output_type": "stream",
     "text": [
      "missdetection\n",
      "[-1.43091345e-04  5.46749695e-01 -3.02940554e+02]\n"
     ]
    },
    {
     "name": "stderr",
     "output_type": "stream",
     "text": [
      "\r",
      "t:  31%|███████████████▍                                  | 371/1199 [01:35<05:21,  2.58it/s, now=None]"
     ]
    },
    {
     "name": "stdout",
     "output_type": "stream",
     "text": [
      "missdetection\n",
      "[ 6.69833467e-05  2.69035609e-01 -2.11585690e+02]\n"
     ]
    },
    {
     "name": "stderr",
     "output_type": "stream",
     "text": [
      "\r",
      "t:  31%|███████████████▌                                  | 372/1199 [01:36<05:18,  2.60it/s, now=None]"
     ]
    },
    {
     "name": "stdout",
     "output_type": "stream",
     "text": [
      "missdetection\n",
      "[ 4.02177677e-06  4.27404369e-01 -2.88496828e+02]\n"
     ]
    },
    {
     "name": "stderr",
     "output_type": "stream",
     "text": [
      "\r",
      "t:  31%|███████████████▌                                  | 373/1199 [01:36<05:07,  2.68it/s, now=None]"
     ]
    },
    {
     "name": "stdout",
     "output_type": "stream",
     "text": [
      "missdetection\n",
      "[-5.66847684e-05  4.69225436e-01 -2.89288662e+02]\n"
     ]
    },
    {
     "name": "stderr",
     "output_type": "stream",
     "text": [
      "\r",
      "t:  31%|███████████████▌                                  | 374/1199 [01:36<05:05,  2.70it/s, now=None]"
     ]
    },
    {
     "name": "stdout",
     "output_type": "stream",
     "text": [
      "missdetection\n",
      "[ 2.56091081e-05  3.79931054e-01 -2.67329163e+02]\n"
     ]
    },
    {
     "name": "stderr",
     "output_type": "stream",
     "text": [
      "\r",
      "t:  31%|███████████████▋                                  | 375/1199 [01:37<04:53,  2.81it/s, now=None]"
     ]
    },
    {
     "name": "stdout",
     "output_type": "stream",
     "text": [
      "missdetection\n",
      "[ 4.76685545e-05  3.49583880e-01 -2.57155917e+02]\n"
     ]
    },
    {
     "name": "stderr",
     "output_type": "stream",
     "text": [
      "\r",
      "t:  31%|███████████████▋                                  | 376/1199 [01:37<04:32,  3.02it/s, now=None]"
     ]
    },
    {
     "name": "stdout",
     "output_type": "stream",
     "text": [
      "missdetection\n",
      "[ 4.28788504e-05  3.57333730e-01 -2.62549042e+02]\n"
     ]
    },
    {
     "name": "stderr",
     "output_type": "stream",
     "text": [
      "\r",
      "t:  31%|███████████████▋                                  | 377/1199 [01:37<04:27,  3.08it/s, now=None]"
     ]
    },
    {
     "name": "stdout",
     "output_type": "stream",
     "text": [
      "missdetection\n",
      "[ 5.57955531e-05  3.40429094e-01 -2.54247331e+02]\n"
     ]
    },
    {
     "name": "stderr",
     "output_type": "stream",
     "text": [
      "\r",
      "t:  32%|███████████████▊                                  | 378/1199 [01:38<04:29,  3.05it/s, now=None]"
     ]
    },
    {
     "name": "stdout",
     "output_type": "stream",
     "text": [
      "missdetection\n",
      "[ 6.57770433e-05  2.95260835e-01 -2.28813440e+02]\n"
     ]
    },
    {
     "name": "stderr",
     "output_type": "stream",
     "text": [
      "\r",
      "t:  32%|███████████████▊                                  | 379/1199 [01:38<05:36,  2.44it/s, now=None]"
     ]
    },
    {
     "name": "stdout",
     "output_type": "stream",
     "text": [
      "missdetection\n",
      "[ 8.99997719e-05  2.48454955e-01 -2.08414913e+02]\n"
     ]
    },
    {
     "name": "stderr",
     "output_type": "stream",
     "text": [
      "\r",
      "t:  32%|███████████████▊                                  | 380/1199 [01:39<05:32,  2.47it/s, now=None]"
     ]
    },
    {
     "name": "stdout",
     "output_type": "stream",
     "text": [
      "missdetection\n",
      "[ 1.35461373e-04  1.80532718e-01 -1.83252978e+02]\n"
     ]
    },
    {
     "name": "stderr",
     "output_type": "stream",
     "text": [
      "\r",
      "t:  32%|███████████████▉                                  | 381/1199 [01:39<05:06,  2.67it/s, now=None]"
     ]
    },
    {
     "name": "stdout",
     "output_type": "stream",
     "text": [
      "missdetection\n",
      "[ 2.06212044e-04  8.36433890e-02 -1.49641134e+02]\n"
     ]
    },
    {
     "name": "stderr",
     "output_type": "stream",
     "text": [
      "\r",
      "t:  32%|███████████████▉                                  | 382/1199 [01:39<04:51,  2.80it/s, now=None]"
     ]
    },
    {
     "name": "stdout",
     "output_type": "stream",
     "text": [
      "missdetection\n",
      "[ 2.08234228e-04  3.66490658e-02 -1.23195073e+02]\n"
     ]
    },
    {
     "name": "stderr",
     "output_type": "stream",
     "text": [
      "\r",
      "t:  32%|███████████████▉                                  | 383/1199 [01:39<04:40,  2.91it/s, now=None]"
     ]
    },
    {
     "name": "stdout",
     "output_type": "stream",
     "text": [
      "missdetection\n",
      "[ 1.45487894e-04  7.67242034e-02 -1.21165355e+02]\n"
     ]
    },
    {
     "name": "stderr",
     "output_type": "stream",
     "text": [
      "\r",
      "t:  32%|████████████████                                  | 384/1199 [01:40<04:31,  3.00it/s, now=None]"
     ]
    },
    {
     "name": "stdout",
     "output_type": "stream",
     "text": [
      "Wrong separation between lines\n"
     ]
    },
    {
     "name": "stderr",
     "output_type": "stream",
     "text": [
      "\r",
      "t:  32%|████████████████                                  | 385/1199 [01:40<04:16,  3.18it/s, now=None]"
     ]
    },
    {
     "name": "stdout",
     "output_type": "stream",
     "text": [
      "missdetection\n",
      "[-1.15545264e-03  1.52202816e+00 -5.03189184e+02]\n",
      "Wrong separation between lines\n"
     ]
    },
    {
     "name": "stderr",
     "output_type": "stream",
     "text": [
      "\r",
      "t:  32%|████████████████                                  | 386/1199 [01:40<04:06,  3.30it/s, now=None]"
     ]
    },
    {
     "name": "stdout",
     "output_type": "stream",
     "text": [
      "missdetection\n",
      "[-1.10592109e-03  1.45553160e+00 -4.81041241e+02]\n",
      "Wrong separation between lines\n"
     ]
    },
    {
     "name": "stderr",
     "output_type": "stream",
     "text": [
      "\r",
      "t:  32%|████████████████▏                                 | 387/1199 [01:41<04:01,  3.36it/s, now=None]"
     ]
    },
    {
     "name": "stdout",
     "output_type": "stream",
     "text": [
      "missdetection\n",
      "[-9.24961922e-04  1.23220672e+00 -4.12736881e+02]\n",
      "Wrong separation between lines\n"
     ]
    },
    {
     "name": "stderr",
     "output_type": "stream",
     "text": [
      "\r",
      "t:  32%|████████████████▏                                 | 388/1199 [01:41<04:00,  3.37it/s, now=None]"
     ]
    },
    {
     "name": "stdout",
     "output_type": "stream",
     "text": [
      "missdetection\n",
      "[-7.96373864e-04  1.09427776e+00 -3.77162164e+02]\n",
      "Wrong separation between lines\n"
     ]
    },
    {
     "name": "stderr",
     "output_type": "stream",
     "text": [
      "\r",
      "t:  32%|████████████████▏                                 | 389/1199 [01:41<03:57,  3.40it/s, now=None]"
     ]
    },
    {
     "name": "stdout",
     "output_type": "stream",
     "text": [
      "missdetection\n",
      "[-8.25302343e-04  1.12228562e+00 -3.82528487e+02]\n",
      "Wrong separation between lines\n"
     ]
    },
    {
     "name": "stderr",
     "output_type": "stream",
     "text": [
      "\r",
      "t:  33%|████████████████▎                                 | 390/1199 [01:41<03:55,  3.43it/s, now=None]"
     ]
    },
    {
     "name": "stdout",
     "output_type": "stream",
     "text": [
      "missdetection\n",
      "[-6.95921573e-04  9.26135276e-01 -3.09286509e+02]\n",
      "Wrong separation between lines\n"
     ]
    },
    {
     "name": "stderr",
     "output_type": "stream",
     "text": [
      "\r",
      "t:  33%|████████████████▎                                 | 391/1199 [01:42<04:01,  3.34it/s, now=None]"
     ]
    },
    {
     "name": "stdout",
     "output_type": "stream",
     "text": [
      "missdetection\n",
      "[-5.84137706e-04  7.91321791e-01 -2.68965797e+02]\n",
      "Wrong separation between lines\n"
     ]
    },
    {
     "name": "stderr",
     "output_type": "stream",
     "text": [
      "\r",
      "t:  33%|████████████████▎                                 | 392/1199 [01:42<03:57,  3.40it/s, now=None]"
     ]
    },
    {
     "name": "stdout",
     "output_type": "stream",
     "text": [
      "missdetection\n",
      "[-2.57329556e-04  3.80465476e-01 -1.42611898e+02]\n",
      "Wrong separation between lines\n"
     ]
    },
    {
     "name": "stderr",
     "output_type": "stream",
     "text": [
      "\r",
      "t:  33%|████████████████▍                                 | 393/1199 [01:42<04:07,  3.26it/s, now=None]"
     ]
    },
    {
     "name": "stdout",
     "output_type": "stream",
     "text": [
      "missdetection\n",
      "[-2.09199977e-04  3.19089228e-01 -1.22933162e+02]\n",
      "Wrong separation between lines\n"
     ]
    },
    {
     "name": "stderr",
     "output_type": "stream",
     "text": [
      "\r",
      "t:  33%|████████████████▍                                 | 394/1199 [01:43<04:03,  3.31it/s, now=None]"
     ]
    },
    {
     "name": "stdout",
     "output_type": "stream",
     "text": [
      "missdetection\n",
      "[-5.02987682e-04  6.27777825e-01 -1.98259331e+02]\n",
      "Wrong separation between lines\n"
     ]
    },
    {
     "name": "stderr",
     "output_type": "stream",
     "text": [
      "\r",
      "t:  33%|████████████████▍                                 | 395/1199 [01:43<03:52,  3.46it/s, now=None]"
     ]
    },
    {
     "name": "stdout",
     "output_type": "stream",
     "text": [
      "missdetection\n",
      "[-5.10150661e-04  5.57724472e-01 -1.50311963e+02]\n",
      "Wrong separation between lines\n"
     ]
    },
    {
     "name": "stderr",
     "output_type": "stream",
     "text": [
      "\r",
      "t:  33%|████████████████▌                                 | 396/1199 [01:43<03:42,  3.61it/s, now=None]"
     ]
    },
    {
     "name": "stdout",
     "output_type": "stream",
     "text": [
      "missdetection\n",
      "[-4.44017459e-04  4.59960840e-01 -1.15028720e+02]\n"
     ]
    },
    {
     "name": "stderr",
     "output_type": "stream",
     "text": [
      "\r",
      "t:  33%|████████████████▌                                 | 397/1199 [01:44<03:48,  3.52it/s, now=None]"
     ]
    },
    {
     "name": "stdout",
     "output_type": "stream",
     "text": [
      "missdetection\n",
      "[-4.56076972e-04  4.46403033e-01 -1.01177011e+02]\n"
     ]
    },
    {
     "name": "stderr",
     "output_type": "stream",
     "text": [
      "\r",
      "t:  33%|████████████████▌                                 | 398/1199 [01:44<03:43,  3.59it/s, now=None]"
     ]
    },
    {
     "name": "stdout",
     "output_type": "stream",
     "text": [
      "missdetection\n",
      "[-4.88323387e-04  4.69177823e-01 -1.02543606e+02]\n"
     ]
    },
    {
     "name": "stderr",
     "output_type": "stream",
     "text": [
      "\r",
      "t:  33%|████████████████▋                                 | 399/1199 [01:44<03:45,  3.55it/s, now=None]"
     ]
    },
    {
     "name": "stdout",
     "output_type": "stream",
     "text": [
      "missdetection\n",
      "[-5.82974379e-04  5.30537417e-01 -1.10511401e+02]\n",
      "missdetection\n",
      "[-4.50980871e-04  4.44361947e-01 -1.02858678e+02]\n"
     ]
    },
    {
     "name": "stderr",
     "output_type": "stream",
     "text": [
      "t:  33%|████████████████▋                                 | 401/1199 [01:45<03:34,  3.73it/s, now=None]"
     ]
    },
    {
     "name": "stdout",
     "output_type": "stream",
     "text": [
      "Wrong separation between lines\n"
     ]
    },
    {
     "name": "stderr",
     "output_type": "stream",
     "text": [
      "\r",
      "t:  34%|████████████████▊                                 | 402/1199 [01:45<03:38,  3.64it/s, now=None]"
     ]
    },
    {
     "name": "stdout",
     "output_type": "stream",
     "text": [
      "Wrong separation between lines\n"
     ]
    },
    {
     "name": "stderr",
     "output_type": "stream",
     "text": [
      "\r",
      "t:  34%|████████████████▊                                 | 403/1199 [01:45<03:28,  3.82it/s, now=None]"
     ]
    },
    {
     "name": "stdout",
     "output_type": "stream",
     "text": [
      "Wrong separation between lines\n"
     ]
    },
    {
     "name": "stderr",
     "output_type": "stream",
     "text": [
      "t:  34%|█████████████████                                 | 409/1199 [01:47<03:56,  3.34it/s, now=None]"
     ]
    },
    {
     "name": "stdout",
     "output_type": "stream",
     "text": [
      "missdetection\n",
      "[-3.30959968e-05 -1.28445839e-01  1.08076853e+02]\n"
     ]
    },
    {
     "name": "stderr",
     "output_type": "stream",
     "text": [
      "\r",
      "t:  34%|█████████████████                                 | 410/1199 [01:47<04:29,  2.93it/s, now=None]"
     ]
    },
    {
     "name": "stdout",
     "output_type": "stream",
     "text": [
      "missdetection\n",
      "[ 1.43901604e-03 -1.72479365e+00  5.09741006e+02]\n",
      "Wrong separation between lines\n"
     ]
    },
    {
     "name": "stderr",
     "output_type": "stream",
     "text": [
      "\r",
      "t:  34%|█████████████████▏                                | 411/1199 [01:48<04:35,  2.86it/s, now=None]"
     ]
    },
    {
     "name": "stdout",
     "output_type": "stream",
     "text": [
      "missdetection\n",
      "[ 1.60761684e-03 -2.00947512e+00  6.24977386e+02]\n",
      "Wrong separation between lines\n"
     ]
    },
    {
     "name": "stderr",
     "output_type": "stream",
     "text": [
      "\r",
      "t:  34%|█████████████████▏                                | 412/1199 [01:48<04:34,  2.87it/s, now=None]"
     ]
    },
    {
     "name": "stdout",
     "output_type": "stream",
     "text": [
      "missdetection\n",
      "[ 9.78585716e-04 -1.25338491e+00  4.02036611e+02]\n",
      "Wrong separation between lines\n"
     ]
    },
    {
     "name": "stderr",
     "output_type": "stream",
     "text": [
      "\r",
      "t:  34%|█████████████████▏                                | 413/1199 [01:48<04:20,  3.02it/s, now=None]"
     ]
    },
    {
     "name": "stdout",
     "output_type": "stream",
     "text": [
      "missdetection\n",
      "[ 8.48505160e-04 -1.12733614e+00  3.76159794e+02]\n",
      "Wrong separation between lines\n"
     ]
    },
    {
     "name": "stderr",
     "output_type": "stream",
     "text": [
      "\r",
      "t:  35%|█████████████████▎                                | 414/1199 [01:49<04:15,  3.08it/s, now=None]"
     ]
    },
    {
     "name": "stdout",
     "output_type": "stream",
     "text": [
      "missdetection\n",
      "[ 9.95804539e-04 -1.31981608e+00  4.41853140e+02]\n",
      "Wrong separation between lines\n"
     ]
    },
    {
     "name": "stderr",
     "output_type": "stream",
     "text": [
      "\r",
      "t:  35%|█████████████████▎                                | 415/1199 [01:49<04:13,  3.10it/s, now=None]"
     ]
    },
    {
     "name": "stdout",
     "output_type": "stream",
     "text": [
      "missdetection\n",
      "[ 9.46139853e-04 -1.29533416e+00  4.46663334e+02]\n",
      "Wrong separation between lines\n"
     ]
    },
    {
     "name": "stderr",
     "output_type": "stream",
     "text": [
      "\r",
      "t:  35%|█████████████████▎                                | 416/1199 [01:49<04:05,  3.19it/s, now=None]"
     ]
    },
    {
     "name": "stdout",
     "output_type": "stream",
     "text": [
      "missdetection\n",
      "[ 1.08400092e-03 -1.44570310e+00  4.90682322e+02]\n",
      "Wrong separation between lines\n"
     ]
    },
    {
     "name": "stderr",
     "output_type": "stream",
     "text": [
      "\r",
      "t:  35%|█████████████████▍                                | 417/1199 [01:50<04:03,  3.21it/s, now=None]"
     ]
    },
    {
     "name": "stdout",
     "output_type": "stream",
     "text": [
      "missdetection\n",
      "[ 1.23476256e-03 -1.62562680e+00  5.41501999e+02]\n",
      "missdetection\n",
      "[-2.53184784e-04  3.56300589e-01 -1.06189922e+02]\n",
      "Wrong separation between lines\n"
     ]
    },
    {
     "name": "stderr",
     "output_type": "stream",
     "text": [
      "\r",
      "t:  35%|█████████████████▍                                | 418/1199 [01:50<04:04,  3.19it/s, now=None]"
     ]
    },
    {
     "name": "stdout",
     "output_type": "stream",
     "text": [
      "missdetection\n",
      "[ 1.20384169e-03 -1.64298021e+00  5.60537140e+02]\n",
      "missdetection\n",
      "[-2.86109013e-04  3.78979910e-01 -1.08322668e+02]\n",
      "Wrong separation between lines\n"
     ]
    },
    {
     "name": "stderr",
     "output_type": "stream",
     "text": [
      "\r",
      "t:  35%|█████████████████▍                                | 419/1199 [01:50<03:58,  3.27it/s, now=None]"
     ]
    },
    {
     "name": "stdout",
     "output_type": "stream",
     "text": [
      "missdetection\n",
      "[ 1.38839321e-03 -1.82222606e+00  5.93775463e+02]\n",
      "missdetection\n",
      "[-3.80321278e-04  4.52543624e-01 -1.20670144e+02]\n"
     ]
    },
    {
     "name": "stderr",
     "output_type": "stream",
     "text": [
      "\r",
      "t:  35%|█████████████████▌                                | 420/1199 [01:50<03:55,  3.31it/s, now=None]"
     ]
    },
    {
     "name": "stdout",
     "output_type": "stream",
     "text": [
      "missdetection\n",
      "[ 1.66090620e-03 -2.13789499e+00  6.82850137e+02]\n",
      "missdetection\n",
      "[-4.66125279e-04  5.41808154e-01 -1.42317442e+02]\n"
     ]
    },
    {
     "name": "stderr",
     "output_type": "stream",
     "text": [
      "\r",
      "t:  35%|█████████████████▌                                | 421/1199 [01:51<03:45,  3.45it/s, now=None]"
     ]
    },
    {
     "name": "stdout",
     "output_type": "stream",
     "text": [
      "missdetection\n",
      "[ 1.78750551e-03 -2.32741631e+00  7.53400300e+02]\n",
      "missdetection\n",
      "[-4.70941724e-04  5.42918297e-01 -1.41642829e+02]\n"
     ]
    },
    {
     "name": "stderr",
     "output_type": "stream",
     "text": [
      "\r",
      "t:  35%|█████████████████▌                                | 422/1199 [01:51<03:45,  3.45it/s, now=None]"
     ]
    },
    {
     "name": "stdout",
     "output_type": "stream",
     "text": [
      "missdetection\n",
      "[ 1.81445665e-03 -2.37333652e+00  7.71831123e+02]\n",
      "missdetection\n",
      "[-4.20594680e-04  4.89177783e-01 -1.27391523e+02]\n"
     ]
    },
    {
     "name": "stderr",
     "output_type": "stream",
     "text": [
      "\r",
      "t:  35%|█████████████████▋                                | 423/1199 [01:51<03:39,  3.54it/s, now=None]"
     ]
    },
    {
     "name": "stdout",
     "output_type": "stream",
     "text": [
      "missdetection\n",
      "[ 1.92061199e-03 -2.51025491e+00  8.15562973e+02]\n",
      "missdetection\n",
      "[-4.11568888e-04  4.87083152e-01 -1.27687842e+02]\n"
     ]
    },
    {
     "name": "stderr",
     "output_type": "stream",
     "text": [
      "\r",
      "t:  35%|█████████████████▋                                | 424/1199 [01:52<03:32,  3.64it/s, now=None]"
     ]
    },
    {
     "name": "stdout",
     "output_type": "stream",
     "text": [
      "missdetection\n",
      "[ 1.97222754e-03 -2.58950714e+00  8.45383855e+02]\n",
      "missdetection\n",
      "[-4.42866603e-04  5.35843709e-01 -1.44956786e+02]\n"
     ]
    },
    {
     "name": "stderr",
     "output_type": "stream",
     "text": [
      "\r",
      "t:  35%|█████████████████▋                                | 425/1199 [01:52<03:31,  3.65it/s, now=None]"
     ]
    },
    {
     "name": "stdout",
     "output_type": "stream",
     "text": [
      "missdetection\n",
      "[ 1.86996083e-03 -2.45881039e+00  8.03823603e+02]\n",
      "missdetection\n",
      "[-4.01201409e-04  4.91394595e-01 -1.34349025e+02]\n"
     ]
    },
    {
     "name": "stderr",
     "output_type": "stream",
     "text": [
      "\r",
      "t:  36%|█████████████████▊                                | 426/1199 [01:52<03:30,  3.67it/s, now=None]"
     ]
    },
    {
     "name": "stdout",
     "output_type": "stream",
     "text": [
      "missdetection\n",
      "[ 1.69502833e-03 -2.21362028e+00  7.18917553e+02]\n",
      "missdetection\n",
      "[-4.61709812e-04  5.69413874e-01 -1.60030060e+02]\n"
     ]
    },
    {
     "name": "stderr",
     "output_type": "stream",
     "text": [
      "\r",
      "t:  36%|█████████████████▊                                | 427/1199 [01:52<03:29,  3.68it/s, now=None]"
     ]
    },
    {
     "name": "stdout",
     "output_type": "stream",
     "text": [
      "missdetection\n",
      "[ 1.51035593e-03 -1.97143841e+00  6.39557712e+02]\n",
      "missdetection\n",
      "[-3.87512961e-04  4.87187747e-01 -1.37356645e+02]\n"
     ]
    },
    {
     "name": "stderr",
     "output_type": "stream",
     "text": [
      "\r",
      "t:  36%|█████████████████▊                                | 428/1199 [01:53<03:24,  3.77it/s, now=None]"
     ]
    },
    {
     "name": "stdout",
     "output_type": "stream",
     "text": [
      "missdetection\n",
      "[ 1.76300414e-03 -2.29341946e+00  7.41032856e+02]\n",
      "missdetection\n",
      "[-5.30609159e-04  6.71688578e-01 -1.93933527e+02]\n"
     ]
    },
    {
     "name": "stderr",
     "output_type": "stream",
     "text": [
      "\r",
      "t:  36%|█████████████████▉                                | 429/1199 [01:53<03:30,  3.66it/s, now=None]"
     ]
    },
    {
     "name": "stdout",
     "output_type": "stream",
     "text": [
      "missdetection\n",
      "[ 1.77283595e-03 -2.31672602e+00  7.52497248e+02]\n",
      "missdetection\n",
      "[-4.29122186e-04  5.93685094e-01 -1.86467650e+02]\n"
     ]
    },
    {
     "name": "stderr",
     "output_type": "stream",
     "text": [
      "\r",
      "t:  36%|█████████████████▉                                | 430/1199 [01:53<03:30,  3.65it/s, now=None]"
     ]
    },
    {
     "name": "stdout",
     "output_type": "stream",
     "text": [
      "missdetection\n",
      "[ 1.74821606e-03 -2.27657474e+00  7.36566046e+02]\n",
      "missdetection\n",
      "[-4.39435230e-04  5.78016479e-01 -1.72616678e+02]\n"
     ]
    },
    {
     "name": "stderr",
     "output_type": "stream",
     "text": [
      "\r",
      "t:  36%|█████████████████▉                                | 431/1199 [01:53<03:35,  3.57it/s, now=None]"
     ]
    },
    {
     "name": "stdout",
     "output_type": "stream",
     "text": [
      "missdetection\n",
      "[ 1.53401631e-03 -1.98116653e+00  6.35241868e+02]\n",
      "missdetection\n",
      "[-4.46057541e-04  5.98586882e-01 -1.82045243e+02]\n"
     ]
    },
    {
     "name": "stderr",
     "output_type": "stream",
     "text": [
      "\r",
      "t:  36%|██████████████████                                | 432/1199 [01:54<03:31,  3.62it/s, now=None]"
     ]
    },
    {
     "name": "stdout",
     "output_type": "stream",
     "text": [
      "missdetection\n",
      "[ 1.26089423e-03 -1.60455129e+00  5.09642146e+02]\n",
      "missdetection\n",
      "[-4.91679428e-04  6.27706359e-01 -1.83077579e+02]\n"
     ]
    },
    {
     "name": "stderr",
     "output_type": "stream",
     "text": [
      "\r",
      "t:  36%|██████████████████                                | 433/1199 [01:54<03:32,  3.61it/s, now=None]"
     ]
    },
    {
     "name": "stdout",
     "output_type": "stream",
     "text": [
      "missdetection\n",
      "[ 1.17403121e-03 -1.48656276e+00  4.71368492e+02]\n",
      "missdetection\n",
      "[-5.77229432e-04  7.34839624e-01 -2.20169044e+02]\n"
     ]
    },
    {
     "name": "stderr",
     "output_type": "stream",
     "text": [
      "\r",
      "t:  36%|██████████████████                                | 434/1199 [01:54<03:32,  3.61it/s, now=None]"
     ]
    },
    {
     "name": "stdout",
     "output_type": "stream",
     "text": [
      "missdetection\n",
      "[-5.11650836e-04  6.70619067e-01 -2.02147942e+02]\n",
      "Wrong separation between lines\n"
     ]
    },
    {
     "name": "stderr",
     "output_type": "stream",
     "text": [
      "\r",
      "t:  36%|██████████████████▏                               | 435/1199 [01:55<03:31,  3.62it/s, now=None]"
     ]
    },
    {
     "name": "stdout",
     "output_type": "stream",
     "text": [
      "missdetection\n",
      "[-3.43688509e-04  4.69878028e-01 -1.45527012e+02]\n",
      "Wrong separation between lines\n"
     ]
    },
    {
     "name": "stderr",
     "output_type": "stream",
     "text": [
      "\r",
      "t:  36%|██████████████████▏                               | 436/1199 [01:55<03:35,  3.54it/s, now=None]"
     ]
    },
    {
     "name": "stdout",
     "output_type": "stream",
     "text": [
      "missdetection\n",
      "[-3.24761820e-04  3.84721015e-01 -1.00756895e+02]\n"
     ]
    },
    {
     "name": "stderr",
     "output_type": "stream",
     "text": [
      "t:  37%|██████████████████▎                               | 438/1199 [01:55<03:39,  3.46it/s, now=None]"
     ]
    },
    {
     "name": "stdout",
     "output_type": "stream",
     "text": [
      "missdetection\n",
      "[-9.81086467e-04  9.71768717e-01 -2.23254115e+02]\n",
      "Wrong separation between lines\n"
     ]
    },
    {
     "name": "stderr",
     "output_type": "stream",
     "text": [
      "t:  37%|██████████████████▎                               | 440/1199 [01:56<03:34,  3.53it/s, now=None]"
     ]
    },
    {
     "name": "stdout",
     "output_type": "stream",
     "text": [
      "missdetection\n",
      "[-1.54113212e-03  1.60805338e+00 -4.00476808e+02]\n",
      "Wrong separation between lines\n"
     ]
    },
    {
     "name": "stderr",
     "output_type": "stream",
     "text": [
      "t:  37%|██████████████████▍                               | 442/1199 [01:57<03:31,  3.58it/s, now=None]"
     ]
    },
    {
     "name": "stdout",
     "output_type": "stream",
     "text": [
      "Wrong separation between lines\n"
     ]
    },
    {
     "name": "stderr",
     "output_type": "stream",
     "text": [
      "t:  37%|██████████████████▌                               | 444/1199 [01:57<03:26,  3.65it/s, now=None]"
     ]
    },
    {
     "name": "stdout",
     "output_type": "stream",
     "text": [
      "Wrong separation between lines\n"
     ]
    },
    {
     "name": "stderr",
     "output_type": "stream",
     "text": [
      "t:  37%|██████████████████▌                               | 446/1199 [01:58<03:22,  3.73it/s, now=None]"
     ]
    },
    {
     "name": "stdout",
     "output_type": "stream",
     "text": [
      "Wrong separation between lines\n"
     ]
    },
    {
     "name": "stderr",
     "output_type": "stream",
     "text": [
      "\r",
      "t:  37%|██████████████████▋                               | 447/1199 [01:58<03:19,  3.77it/s, now=None]"
     ]
    },
    {
     "name": "stdout",
     "output_type": "stream",
     "text": [
      "missdetection\n",
      "[-5.30481195e-04  5.56357527e-01 -1.24496322e+02]\n",
      "Wrong separation between lines\n"
     ]
    },
    {
     "name": "stderr",
     "output_type": "stream",
     "text": [
      "t:  37%|██████████████████▋                               | 449/1199 [01:58<03:25,  3.65it/s, now=None]"
     ]
    },
    {
     "name": "stdout",
     "output_type": "stream",
     "text": [
      "missdetection\n",
      "[-1.50475244e-03  1.44474505e+00 -2.88972507e+02]\n",
      "Wrong separation between lines\n"
     ]
    },
    {
     "name": "stderr",
     "output_type": "stream",
     "text": [
      "\r",
      "t:  38%|██████████████████▊                               | 450/1199 [01:59<03:21,  3.72it/s, now=None]"
     ]
    },
    {
     "name": "stdout",
     "output_type": "stream",
     "text": [
      "missdetection\n",
      "[ 2.22946489e-03 -3.03631201e+00  1.03732505e+03]\n",
      "Wrong separation between lines\n"
     ]
    },
    {
     "name": "stderr",
     "output_type": "stream",
     "text": [
      "\r",
      "t:  38%|██████████████████▊                               | 451/1199 [01:59<03:22,  3.70it/s, now=None]"
     ]
    },
    {
     "name": "stdout",
     "output_type": "stream",
     "text": [
      "missdetection\n",
      "[ 2.19594661e-03 -3.00299835e+00  1.03044626e+03]\n",
      "Wrong separation between lines\n"
     ]
    },
    {
     "name": "stderr",
     "output_type": "stream",
     "text": [
      "\r",
      "t:  38%|██████████████████▊                               | 452/1199 [01:59<03:20,  3.72it/s, now=None]"
     ]
    },
    {
     "name": "stdout",
     "output_type": "stream",
     "text": [
      "missdetection\n",
      "[ 2.20477406e-03 -2.98101782e+00  1.02178808e+03]\n",
      "Wrong separation between lines\n"
     ]
    },
    {
     "name": "stderr",
     "output_type": "stream",
     "text": [
      "\r",
      "t:  38%|██████████████████▉                               | 453/1199 [01:59<03:20,  3.72it/s, now=None]"
     ]
    },
    {
     "name": "stdout",
     "output_type": "stream",
     "text": [
      "missdetection\n",
      "[ 2.08432032e-03 -2.91808093e+00  1.02240463e+03]\n",
      "Wrong separation between lines\n"
     ]
    },
    {
     "name": "stderr",
     "output_type": "stream",
     "text": [
      "\r",
      "t:  38%|██████████████████▉                               | 454/1199 [02:00<03:20,  3.72it/s, now=None]"
     ]
    },
    {
     "name": "stdout",
     "output_type": "stream",
     "text": [
      "missdetection\n",
      "[ 3.23115294e-04 -3.59705814e-01  1.01357444e+02]\n",
      "missdetection\n",
      "[ 2.00823975e-03 -2.81414988e+00  9.87253481e+02]\n",
      "Wrong separation between lines\n"
     ]
    },
    {
     "name": "stderr",
     "output_type": "stream",
     "text": [
      "\r",
      "t:  38%|██████████████████▉                               | 455/1199 [02:00<03:22,  3.67it/s, now=None]"
     ]
    },
    {
     "name": "stdout",
     "output_type": "stream",
     "text": [
      "missdetection\n",
      "[ 1.91556798e-03 -2.69329687e+00  9.46684890e+02]\n",
      "Wrong separation between lines\n"
     ]
    },
    {
     "name": "stderr",
     "output_type": "stream",
     "text": [
      "\r",
      "t:  38%|███████████████████                               | 456/1199 [02:00<03:18,  3.74it/s, now=None]"
     ]
    },
    {
     "name": "stdout",
     "output_type": "stream",
     "text": [
      "missdetection\n",
      "[ 1.83444507e-03 -2.61625099e+00  9.31209823e+02]\n",
      "Wrong separation between lines\n"
     ]
    },
    {
     "name": "stderr",
     "output_type": "stream",
     "text": [
      "\r",
      "t:  38%|███████████████████                               | 457/1199 [02:01<03:18,  3.74it/s, now=None]"
     ]
    },
    {
     "name": "stdout",
     "output_type": "stream",
     "text": [
      "missdetection\n",
      "[ 1.87388328e-03 -2.65819949e+00  9.41455375e+02]\n",
      "Wrong separation between lines\n"
     ]
    },
    {
     "name": "stderr",
     "output_type": "stream",
     "text": [
      "\r",
      "t:  38%|███████████████████                               | 458/1199 [02:01<03:18,  3.74it/s, now=None]"
     ]
    },
    {
     "name": "stdout",
     "output_type": "stream",
     "text": [
      "missdetection\n",
      "[ 1.87442891e-03 -2.66914633e+00  9.48112505e+02]\n",
      "Wrong separation between lines\n"
     ]
    },
    {
     "name": "stderr",
     "output_type": "stream",
     "text": [
      "\r",
      "t:  38%|███████████████████▏                              | 459/1199 [02:01<03:17,  3.74it/s, now=None]"
     ]
    },
    {
     "name": "stdout",
     "output_type": "stream",
     "text": [
      "missdetection\n",
      "[ 1.90309576e-03 -2.68799087e+00  9.47844506e+02]\n",
      "Wrong separation between lines\n"
     ]
    },
    {
     "name": "stderr",
     "output_type": "stream",
     "text": [
      "\r",
      "t:  38%|███████████████████▏                              | 460/1199 [02:01<03:26,  3.57it/s, now=None]"
     ]
    },
    {
     "name": "stdout",
     "output_type": "stream",
     "text": [
      "missdetection\n",
      "[ 1.84843067e-03 -2.61203515e+00  9.20526949e+02]\n",
      "Wrong separation between lines\n"
     ]
    },
    {
     "name": "stderr",
     "output_type": "stream",
     "text": [
      "\r",
      "t:  38%|███████████████████▏                              | 461/1199 [02:02<03:18,  3.72it/s, now=None]"
     ]
    },
    {
     "name": "stdout",
     "output_type": "stream",
     "text": [
      "missdetection\n",
      "[-8.16316513e-05  2.12726212e-01 -1.00706548e+02]\n",
      "missdetection\n",
      "[ 1.86443129e-03 -2.62883592e+00  9.24136490e+02]\n",
      "Wrong separation between lines\n"
     ]
    },
    {
     "name": "stderr",
     "output_type": "stream",
     "text": [
      "\r",
      "t:  39%|███████████████████▎                              | 462/1199 [02:02<03:16,  3.74it/s, now=None]"
     ]
    },
    {
     "name": "stdout",
     "output_type": "stream",
     "text": [
      "missdetection\n",
      "[ 1.87108423e-03 -2.63825915e+00  9.27087477e+02]\n",
      "Wrong separation between lines\n"
     ]
    },
    {
     "name": "stderr",
     "output_type": "stream",
     "text": [
      "\r",
      "t:  39%|███████████████████▎                              | 463/1199 [02:02<03:12,  3.82it/s, now=None]"
     ]
    },
    {
     "name": "stdout",
     "output_type": "stream",
     "text": [
      "missdetection\n",
      "[ 1.97516776e-03 -2.78226869e+00  9.76383234e+02]\n",
      "Wrong separation between lines\n"
     ]
    },
    {
     "name": "stderr",
     "output_type": "stream",
     "text": [
      "\r",
      "t:  39%|███████████████████▎                              | 464/1199 [02:02<03:10,  3.87it/s, now=None]"
     ]
    },
    {
     "name": "stdout",
     "output_type": "stream",
     "text": [
      "missdetection\n",
      "[ 1.96620660e-03 -2.76839240e+00  9.70895456e+02]\n",
      "Wrong separation between lines\n"
     ]
    },
    {
     "name": "stderr",
     "output_type": "stream",
     "text": [
      "\r",
      "t:  39%|███████████████████▍                              | 465/1199 [02:03<03:02,  4.02it/s, now=None]"
     ]
    },
    {
     "name": "stdout",
     "output_type": "stream",
     "text": [
      "missdetection\n",
      "[ 2.07472969e-03 -2.89156916e+00  1.00467898e+03]\n",
      "Wrong separation between lines\n"
     ]
    },
    {
     "name": "stderr",
     "output_type": "stream",
     "text": [
      "\r",
      "t:  39%|███████████████████▍                              | 466/1199 [02:03<03:02,  4.01it/s, now=None]"
     ]
    },
    {
     "name": "stdout",
     "output_type": "stream",
     "text": [
      "missdetection\n",
      "[ 2.06111065e-03 -2.90776747e+00  1.02036716e+03]\n",
      "Wrong separation between lines\n"
     ]
    },
    {
     "name": "stderr",
     "output_type": "stream",
     "text": [
      "\r",
      "t:  39%|███████████████████▍                              | 467/1199 [02:03<03:00,  4.05it/s, now=None]"
     ]
    },
    {
     "name": "stdout",
     "output_type": "stream",
     "text": [
      "missdetection\n",
      "[ 2.04844167e-03 -2.90851419e+00  1.02474579e+03]\n",
      "Wrong separation between lines\n"
     ]
    },
    {
     "name": "stderr",
     "output_type": "stream",
     "text": [
      "\r",
      "t:  39%|███████████████████▌                              | 468/1199 [02:03<03:02,  4.01it/s, now=None]"
     ]
    },
    {
     "name": "stdout",
     "output_type": "stream",
     "text": [
      "missdetection\n",
      "[ 2.09900563e-03 -2.95402568e+00  1.03268450e+03]\n",
      "Wrong separation between lines\n"
     ]
    },
    {
     "name": "stderr",
     "output_type": "stream",
     "text": [
      "\r",
      "t:  39%|███████████████████▌                              | 469/1199 [02:04<02:57,  4.10it/s, now=None]"
     ]
    },
    {
     "name": "stdout",
     "output_type": "stream",
     "text": [
      "missdetection\n",
      "[ 2.26219502e-03 -3.09868942e+00  1.05598843e+03]\n",
      "Wrong separation between lines\n"
     ]
    },
    {
     "name": "stderr",
     "output_type": "stream",
     "text": [
      "\r",
      "t:  39%|███████████████████▌                              | 470/1199 [02:04<02:54,  4.17it/s, now=None]"
     ]
    },
    {
     "name": "stdout",
     "output_type": "stream",
     "text": [
      "Wrong separation between lines\n"
     ]
    },
    {
     "name": "stderr",
     "output_type": "stream",
     "text": [
      "t:  39%|███████████████████▋                              | 472/1199 [02:04<03:09,  3.84it/s, now=None]"
     ]
    },
    {
     "name": "stdout",
     "output_type": "stream",
     "text": [
      "Wrong separation between lines\n"
     ]
    },
    {
     "name": "stderr",
     "output_type": "stream",
     "text": [
      "t:  40%|███████████████████▊                              | 474/1199 [02:05<03:10,  3.81it/s, now=None]"
     ]
    },
    {
     "name": "stdout",
     "output_type": "stream",
     "text": [
      "Wrong separation between lines\n"
     ]
    },
    {
     "name": "stderr",
     "output_type": "stream",
     "text": [
      "t:  40%|███████████████████▊                              | 476/1199 [02:05<03:01,  3.98it/s, now=None]"
     ]
    },
    {
     "name": "stdout",
     "output_type": "stream",
     "text": [
      "Wrong separation between lines\n"
     ]
    },
    {
     "name": "stderr",
     "output_type": "stream",
     "text": [
      "\r",
      "t:  40%|███████████████████▉                              | 477/1199 [02:06<02:59,  4.03it/s, now=None]"
     ]
    },
    {
     "name": "stdout",
     "output_type": "stream",
     "text": [
      "missdetection\n",
      "[ 2.32898892e-03 -3.14054629e+00  1.05285223e+03]\n",
      "Wrong separation between lines\n"
     ]
    },
    {
     "name": "stderr",
     "output_type": "stream",
     "text": [
      "\r",
      "t:  40%|███████████████████▉                              | 478/1199 [02:06<02:58,  4.05it/s, now=None]"
     ]
    },
    {
     "name": "stdout",
     "output_type": "stream",
     "text": [
      "missdetection\n",
      "[ 2.25867193e-03 -3.05773890e+00  1.02898399e+03]\n",
      "Wrong separation between lines\n"
     ]
    },
    {
     "name": "stderr",
     "output_type": "stream",
     "text": [
      "\r",
      "t:  40%|███████████████████▉                              | 479/1199 [02:06<02:57,  4.05it/s, now=None]"
     ]
    },
    {
     "name": "stdout",
     "output_type": "stream",
     "text": [
      "missdetection\n",
      "[ 2.12762144e-03 -2.89386722e+00  9.78225731e+02]\n",
      "Wrong separation between lines\n"
     ]
    },
    {
     "name": "stderr",
     "output_type": "stream",
     "text": [
      "\r",
      "t:  40%|████████████████████                              | 480/1199 [02:06<02:54,  4.13it/s, now=None]"
     ]
    },
    {
     "name": "stdout",
     "output_type": "stream",
     "text": [
      "missdetection\n",
      "[ 7.89248435e-04 -9.70594965e-01  3.02594556e+02]\n",
      "missdetection\n",
      "[ 1.92804283e-03 -2.72772378e+00  9.57778493e+02]\n",
      "Wrong separation between lines\n"
     ]
    },
    {
     "name": "stderr",
     "output_type": "stream",
     "text": [
      "\r",
      "t:  40%|████████████████████                              | 481/1199 [02:07<02:55,  4.08it/s, now=None]"
     ]
    },
    {
     "name": "stdout",
     "output_type": "stream",
     "text": [
      "missdetection\n",
      "[ 7.89431817e-04 -9.72443287e-01  3.05508421e+02]\n",
      "missdetection\n",
      "[ 1.84031286e-03 -2.58438360e+00  8.95840150e+02]\n"
     ]
    },
    {
     "name": "stderr",
     "output_type": "stream",
     "text": [
      "\r",
      "t:  40%|████████████████████                              | 482/1199 [02:07<02:54,  4.12it/s, now=None]"
     ]
    },
    {
     "name": "stdout",
     "output_type": "stream",
     "text": [
      "missdetection\n",
      "[ 6.09893231e-04 -7.13346106e-01  2.12712332e+02]\n",
      "missdetection\n",
      "[ 1.66547147e-03 -2.36153463e+00  8.25207280e+02]\n"
     ]
    },
    {
     "name": "stderr",
     "output_type": "stream",
     "text": [
      "\r",
      "t:  40%|████████████████████▏                             | 483/1199 [02:07<02:51,  4.16it/s, now=None]"
     ]
    },
    {
     "name": "stdout",
     "output_type": "stream",
     "text": [
      "missdetection\n",
      "[ 7.32216794e-04 -8.80968869e-01  2.70168020e+02]\n",
      "missdetection\n",
      "[ 1.44981199e-03 -2.09044549e+00  7.40500943e+02]\n"
     ]
    },
    {
     "name": "stderr",
     "output_type": "stream",
     "text": [
      "\r",
      "t:  40%|████████████████████▏                             | 484/1199 [02:07<02:56,  4.06it/s, now=None]"
     ]
    },
    {
     "name": "stdout",
     "output_type": "stream",
     "text": [
      "missdetection\n",
      "[ 7.12220526e-04 -8.50456988e-01  2.58629547e+02]\n",
      "missdetection\n",
      "[ 1.40523427e-03 -2.03205017e+00  7.21367222e+02]\n"
     ]
    },
    {
     "name": "stderr",
     "output_type": "stream",
     "text": [
      "\r",
      "t:  40%|████████████████████▏                             | 485/1199 [02:08<02:57,  4.01it/s, now=None]"
     ]
    },
    {
     "name": "stdout",
     "output_type": "stream",
     "text": [
      "missdetection\n",
      "[ 8.15102736e-04 -9.99409347e-01  3.12174915e+02]\n",
      "missdetection\n",
      "[ 1.28350882e-03 -1.87885557e+00  6.73466366e+02]\n"
     ]
    },
    {
     "name": "stderr",
     "output_type": "stream",
     "text": [
      "\r",
      "t:  41%|████████████████████▎                             | 486/1199 [02:08<02:59,  3.97it/s, now=None]"
     ]
    },
    {
     "name": "stdout",
     "output_type": "stream",
     "text": [
      "missdetection\n",
      "[ 7.76555327e-04 -9.44280213e-01  2.92319518e+02]\n",
      "missdetection\n",
      "[ 1.18770390e-03 -1.75987141e+00  6.36798688e+02]\n"
     ]
    },
    {
     "name": "stderr",
     "output_type": "stream",
     "text": [
      "\r",
      "t:  41%|████████████████████▎                             | 487/1199 [02:08<02:55,  4.05it/s, now=None]"
     ]
    },
    {
     "name": "stdout",
     "output_type": "stream",
     "text": [
      "missdetection\n",
      "[ 8.27451256e-04 -1.01431073e+00  3.16022186e+02]\n",
      "missdetection\n",
      "[ 1.20210568e-03 -1.77719910e+00  6.41920448e+02]\n"
     ]
    },
    {
     "name": "stderr",
     "output_type": "stream",
     "text": [
      "\r",
      "t:  41%|████████████████████▎                             | 488/1199 [02:08<02:55,  4.06it/s, now=None]"
     ]
    },
    {
     "name": "stdout",
     "output_type": "stream",
     "text": [
      "missdetection\n",
      "[ 6.92704934e-04 -8.20885720e-01  2.46993061e+02]\n",
      "missdetection\n",
      "[ 1.19174198e-03 -1.76409983e+00  6.37811925e+02]\n"
     ]
    },
    {
     "name": "stderr",
     "output_type": "stream",
     "text": [
      "\r",
      "t:  41%|████████████████████▍                             | 489/1199 [02:09<02:59,  3.96it/s, now=None]"
     ]
    },
    {
     "name": "stdout",
     "output_type": "stream",
     "text": [
      "missdetection\n",
      "[ 7.65773071e-04 -9.23163550e-01  2.82811995e+02]\n",
      "missdetection\n",
      "[ 1.12087047e-03 -1.67870557e+00  6.12412739e+02]\n"
     ]
    },
    {
     "name": "stderr",
     "output_type": "stream",
     "text": [
      "\r",
      "t:  41%|████████████████████▍                             | 490/1199 [02:09<02:58,  3.96it/s, now=None]"
     ]
    },
    {
     "name": "stdout",
     "output_type": "stream",
     "text": [
      "missdetection\n",
      "[ 7.07085607e-04 -8.41573654e-01  2.54665169e+02]\n",
      "missdetection\n",
      "[ 1.09096979e-03 -1.64045420e+00  6.00151810e+02]\n"
     ]
    },
    {
     "name": "stderr",
     "output_type": "stream",
     "text": [
      "\r",
      "t:  41%|████████████████████▍                             | 491/1199 [02:09<02:57,  3.99it/s, now=None]"
     ]
    },
    {
     "name": "stdout",
     "output_type": "stream",
     "text": [
      "missdetection\n",
      "[ 7.54986222e-04 -9.04758805e-01  2.75293457e+02]\n",
      "missdetection\n",
      "[ 1.16791539e-03 -1.73691049e+00  6.30245786e+02]\n"
     ]
    },
    {
     "name": "stderr",
     "output_type": "stream",
     "text": [
      "\r",
      "t:  41%|████████████████████▌                             | 492/1199 [02:09<02:54,  4.06it/s, now=None]"
     ]
    },
    {
     "name": "stdout",
     "output_type": "stream",
     "text": [
      "missdetection\n",
      "[ 7.33310296e-04 -8.71580239e-01  2.62719211e+02]\n",
      "missdetection\n",
      "[ 1.17954817e-03 -1.75219385e+00  6.35243248e+02]\n"
     ]
    },
    {
     "name": "stderr",
     "output_type": "stream",
     "text": [
      "\r",
      "t:  41%|████████████████████▌                             | 493/1199 [02:10<02:55,  4.02it/s, now=None]"
     ]
    },
    {
     "name": "stdout",
     "output_type": "stream",
     "text": [
      "missdetection\n",
      "[ 8.50223080e-04 -1.03836421e+00  3.21786757e+02]\n",
      "missdetection\n",
      "[ 1.16533872e-03 -1.73590071e+00  6.30755854e+02]\n"
     ]
    },
    {
     "name": "stderr",
     "output_type": "stream",
     "text": [
      "\r",
      "t:  41%|████████████████████▌                             | 494/1199 [02:10<02:57,  3.96it/s, now=None]"
     ]
    },
    {
     "name": "stdout",
     "output_type": "stream",
     "text": [
      "missdetection\n",
      "[ 8.88907821e-04 -1.09338277e+00  3.41362441e+02]\n",
      "missdetection\n",
      "[ 1.22539364e-03 -1.81561737e+00  6.57177130e+02]\n"
     ]
    },
    {
     "name": "stderr",
     "output_type": "stream",
     "text": [
      "\r",
      "t:  41%|████████████████████▋                             | 495/1199 [02:10<03:02,  3.85it/s, now=None]"
     ]
    },
    {
     "name": "stdout",
     "output_type": "stream",
     "text": [
      "missdetection\n",
      "[ 1.03131626e-03 -1.29911261e+00  4.14742238e+02]\n",
      "missdetection\n",
      "[ 1.18141462e-03 -1.76843686e+00  6.45367845e+02]\n"
     ]
    },
    {
     "name": "stderr",
     "output_type": "stream",
     "text": [
      "\r",
      "t:  41%|████████████████████▋                             | 496/1199 [02:10<03:00,  3.89it/s, now=None]"
     ]
    },
    {
     "name": "stdout",
     "output_type": "stream",
     "text": [
      "missdetection\n",
      "[ 1.18141457e-03 -1.51044550e+00  4.88984653e+02]\n",
      "missdetection\n",
      "[ 1.05148714e-03 -1.61134038e+00  5.98471083e+02]\n"
     ]
    },
    {
     "name": "stderr",
     "output_type": "stream",
     "text": [
      "\r",
      "t:  41%|████████████████████▋                             | 497/1199 [02:11<02:57,  3.96it/s, now=None]"
     ]
    },
    {
     "name": "stdout",
     "output_type": "stream",
     "text": [
      "missdetection\n",
      "[ 9.50253981e-04 -1.18718652e+00  3.76609756e+02]\n",
      "missdetection\n",
      "[ 8.88272584e-04 -1.41606113e+00  5.40968509e+02]\n"
     ]
    },
    {
     "name": "stderr",
     "output_type": "stream",
     "text": [
      "\r",
      "t:  42%|████████████████████▊                             | 498/1199 [02:11<03:00,  3.89it/s, now=None]"
     ]
    },
    {
     "name": "stdout",
     "output_type": "stream",
     "text": [
      "missdetection\n",
      "[ 1.08688821e-03 -1.37660118e+00  4.42116893e+02]\n",
      "missdetection\n",
      "[ 9.30325684e-04 -1.46650583e+00  5.55903431e+02]\n"
     ]
    },
    {
     "name": "stderr",
     "output_type": "stream",
     "text": [
      "\r",
      "t:  42%|████████████████████▊                             | 499/1199 [02:11<03:04,  3.79it/s, now=None]"
     ]
    },
    {
     "name": "stdout",
     "output_type": "stream",
     "text": [
      "missdetection\n",
      "[ 1.40376859e-03 -1.82368000e+00  5.98864116e+02]\n",
      "missdetection\n",
      "[ 6.18968061e-04 -1.09984839e+00  4.49894584e+02]\n"
     ]
    },
    {
     "name": "stderr",
     "output_type": "stream",
     "text": [
      "\r",
      "t:  42%|████████████████████▊                             | 500/1199 [02:11<03:07,  3.74it/s, now=None]"
     ]
    },
    {
     "name": "stdout",
     "output_type": "stream",
     "text": [
      "missdetection\n",
      "[ 1.65608817e-03 -2.16439542e+00  7.13443979e+02]\n",
      "missdetection\n",
      "[ 5.33574520e-04 -9.99902455e-01  4.21299101e+02]\n"
     ]
    },
    {
     "name": "stderr",
     "output_type": "stream",
     "text": [
      "\r",
      "t:  42%|████████████████████▉                             | 501/1199 [02:12<02:59,  3.89it/s, now=None]"
     ]
    },
    {
     "name": "stdout",
     "output_type": "stream",
     "text": [
      "missdetection\n",
      "[ 1.96028891e-03 -2.56018175e+00  8.41658162e+02]\n",
      "missdetection\n",
      "[ 4.73991400e-04 -9.31973776e-01  4.02521163e+02]\n"
     ]
    },
    {
     "name": "stderr",
     "output_type": "stream",
     "text": [
      "\r",
      "t:  42%|████████████████████▉                             | 502/1199 [02:12<02:57,  3.93it/s, now=None]"
     ]
    },
    {
     "name": "stdout",
     "output_type": "stream",
     "text": [
      "missdetection\n",
      "[ 2.13363480e-03 -2.80333715e+00  9.26529794e+02]\n",
      "missdetection\n",
      "[ 4.49028094e-04 -9.04240084e-01  3.95132452e+02]\n"
     ]
    },
    {
     "name": "stderr",
     "output_type": "stream",
     "text": [
      "\r",
      "t:  42%|████████████████████▉                             | 503/1199 [02:12<02:55,  3.97it/s, now=None]"
     ]
    },
    {
     "name": "stdout",
     "output_type": "stream",
     "text": [
      "missdetection\n",
      "[ 2.19262506e-03 -2.89253669e+00  9.59875318e+02]\n",
      "missdetection\n",
      "[ 3.80264633e-04 -8.24959227e-01  3.72772132e+02]\n"
     ]
    },
    {
     "name": "stderr",
     "output_type": "stream",
     "text": [
      "\r",
      "t:  42%|█████████████████████                             | 504/1199 [02:12<02:57,  3.92it/s, now=None]"
     ]
    },
    {
     "name": "stdout",
     "output_type": "stream",
     "text": [
      "missdetection\n",
      "[ 2.22170231e-03 -2.93469447e+00  9.74757090e+02]\n",
      "missdetection\n",
      "[ 1.97673755e-04 -6.24694801e-01  3.20185506e+02]\n"
     ]
    },
    {
     "name": "stderr",
     "output_type": "stream",
     "text": [
      "\r",
      "t:  42%|█████████████████████                             | 505/1199 [02:13<02:55,  3.95it/s, now=None]"
     ]
    },
    {
     "name": "stdout",
     "output_type": "stream",
     "text": [
      "missdetection\n",
      "[ 2.15054343e-03 -2.84155088e+00  9.44278086e+02]\n",
      "missdetection\n",
      "[ 1.63368168e-04 -5.85358072e-01  3.09165837e+02]\n"
     ]
    },
    {
     "name": "stderr",
     "output_type": "stream",
     "text": [
      "\r",
      "t:  42%|█████████████████████                             | 506/1199 [02:13<02:56,  3.93it/s, now=None]"
     ]
    },
    {
     "name": "stdout",
     "output_type": "stream",
     "text": [
      "missdetection\n",
      "[ 2.17579361e-03 -2.85046920e+00  9.38591980e+02]\n",
      "missdetection\n",
      "[ 1.31289265e-04 -5.47112845e-01  2.97918329e+02]\n"
     ]
    },
    {
     "name": "stderr",
     "output_type": "stream",
     "text": [
      "\r",
      "t:  42%|█████████████████████▏                            | 507/1199 [02:13<03:00,  3.84it/s, now=None]"
     ]
    },
    {
     "name": "stdout",
     "output_type": "stream",
     "text": [
      "missdetection\n",
      "[ 2.17524357e-03 -2.84860224e+00  9.37562817e+02]\n",
      "missdetection\n",
      "[ 4.61472018e-05 -4.54044315e-01  2.73597632e+02]\n"
     ]
    },
    {
     "name": "stderr",
     "output_type": "stream",
     "text": [
      "\r",
      "t:  42%|█████████████████████▏                            | 508/1199 [02:13<02:59,  3.85it/s, now=None]"
     ]
    },
    {
     "name": "stdout",
     "output_type": "stream",
     "text": [
      "missdetection\n",
      "[ 2.16132747e-03 -2.85715030e+00  9.49537068e+02]\n",
      "missdetection\n",
      "[ 1.22437233e-06 -4.03878653e-01  2.60075319e+02]\n"
     ]
    },
    {
     "name": "stderr",
     "output_type": "stream",
     "text": [
      "\r",
      "t:  42%|█████████████████████▏                            | 509/1199 [02:14<02:58,  3.87it/s, now=None]"
     ]
    },
    {
     "name": "stdout",
     "output_type": "stream",
     "text": [
      "missdetection\n",
      "[ 2.07316849e-03 -2.75972383e+00  9.24120525e+02]\n",
      "missdetection\n",
      "[ 4.21353038e-05 -4.48037644e-01  2.71343864e+02]\n"
     ]
    },
    {
     "name": "stderr",
     "output_type": "stream",
     "text": [
      "\r",
      "t:  43%|█████████████████████▎                            | 510/1199 [02:14<02:59,  3.84it/s, now=None]"
     ]
    },
    {
     "name": "stdout",
     "output_type": "stream",
     "text": [
      "missdetection\n",
      "[ 2.03108605e-03 -2.70045840e+00  9.03297308e+02]\n",
      "missdetection\n",
      "[ 7.79149227e-05 -4.92381788e-01  2.84928265e+02]\n"
     ]
    },
    {
     "name": "stderr",
     "output_type": "stream",
     "text": [
      "\r",
      "t:  43%|█████████████████████▎                            | 511/1199 [02:14<02:59,  3.83it/s, now=None]"
     ]
    },
    {
     "name": "stdout",
     "output_type": "stream",
     "text": [
      "missdetection\n",
      "[ 1.37369038e-03 -1.88949017e+00  6.55482079e+02]\n",
      "missdetection\n",
      "[ 8.72955443e-05 -5.05548502e-01  2.89434644e+02]\n"
     ]
    },
    {
     "name": "stderr",
     "output_type": "stream",
     "text": [
      "\r",
      "t:  43%|█████████████████████▎                            | 512/1199 [02:15<02:57,  3.87it/s, now=None]"
     ]
    },
    {
     "name": "stdout",
     "output_type": "stream",
     "text": [
      "missdetection\n",
      "[ 1.53394454e-03 -2.03302000e+00  6.79475051e+02]\n",
      "missdetection\n",
      "[ 1.03790571e-04 -5.22024589e-01  2.93122119e+02]\n"
     ]
    },
    {
     "name": "stderr",
     "output_type": "stream",
     "text": [
      "\r",
      "t:  43%|█████████████████████▍                            | 513/1199 [02:15<03:03,  3.74it/s, now=None]"
     ]
    },
    {
     "name": "stdout",
     "output_type": "stream",
     "text": [
      "missdetection\n",
      "[ 1.34802930e-03 -1.79829020e+00  6.06087302e+02]\n",
      "missdetection\n",
      "[ 1.42131892e-05 -4.18274207e-01  2.63697122e+02]\n"
     ]
    },
    {
     "name": "stderr",
     "output_type": "stream",
     "text": [
      "\r",
      "t:  43%|█████████████████████▍                            | 514/1199 [02:15<03:03,  3.73it/s, now=None]"
     ]
    },
    {
     "name": "stdout",
     "output_type": "stream",
     "text": [
      "missdetection\n",
      "[ 1.91335132e-03 -2.51507842e+00  8.32114194e+02]\n",
      "missdetection\n",
      "[-5.52544776e-05 -3.30829554e-01  2.36339347e+02]\n"
     ]
    },
    {
     "name": "stderr",
     "output_type": "stream",
     "text": [
      "\r",
      "t:  43%|█████████████████████▍                            | 515/1199 [02:15<02:57,  3.85it/s, now=None]"
     ]
    },
    {
     "name": "stdout",
     "output_type": "stream",
     "text": [
      "missdetection\n",
      "[ 1.15815002e-03 -1.61005219e+00  5.65045629e+02]\n",
      "missdetection\n",
      "[-6.94568300e-05 -3.05286112e-01  2.25744282e+02]\n"
     ]
    },
    {
     "name": "stderr",
     "output_type": "stream",
     "text": [
      "\r",
      "t:  43%|█████████████████████▌                            | 516/1199 [02:16<02:58,  3.82it/s, now=None]"
     ]
    },
    {
     "name": "stdout",
     "output_type": "stream",
     "text": [
      "missdetection\n",
      "[ 1.07221093e-03 -1.50749356e+00  5.34835112e+02]\n",
      "missdetection\n",
      "[-8.17281545e-05 -2.81023912e-01  2.15125061e+02]\n"
     ]
    },
    {
     "name": "stderr",
     "output_type": "stream",
     "text": [
      "\r",
      "t:  43%|█████████████████████▌                            | 517/1199 [02:16<02:55,  3.89it/s, now=None]"
     ]
    },
    {
     "name": "stdout",
     "output_type": "stream",
     "text": [
      "missdetection\n",
      "[ 9.85905811e-04 -1.40066242e+00  5.02062170e+02]\n",
      "missdetection\n",
      "[-9.81692224e-05 -2.51949482e-01  2.03072819e+02]\n"
     ]
    },
    {
     "name": "stderr",
     "output_type": "stream",
     "text": [
      "\r",
      "t:  43%|█████████████████████▌                            | 518/1199 [02:16<02:54,  3.91it/s, now=None]"
     ]
    },
    {
     "name": "stdout",
     "output_type": "stream",
     "text": [
      "missdetection\n",
      "[ 8.81146998e-04 -1.29176886e+00  4.76318633e+02]\n",
      "missdetection\n",
      "[-1.05514690e-04 -2.34990626e-01  1.95021291e+02]\n"
     ]
    },
    {
     "name": "stderr",
     "output_type": "stream",
     "text": [
      "\r",
      "t:  43%|█████████████████████▋                            | 519/1199 [02:16<02:52,  3.94it/s, now=None]"
     ]
    },
    {
     "name": "stdout",
     "output_type": "stream",
     "text": [
      "missdetection\n",
      "[ 7.36347819e-04 -1.10181423e+00  4.14354524e+02]\n",
      "missdetection\n",
      "[-9.45395673e-05 -2.36731243e-01  1.91334465e+02]\n"
     ]
    },
    {
     "name": "stderr",
     "output_type": "stream",
     "text": [
      "\r",
      "t:  43%|█████████████████████▋                            | 520/1199 [02:17<02:54,  3.89it/s, now=None]"
     ]
    },
    {
     "name": "stdout",
     "output_type": "stream",
     "text": [
      "missdetection\n",
      "[ 6.53717768e-04 -1.02605695e+00  4.00763909e+02]\n",
      "missdetection\n",
      "[-8.73080457e-05 -2.38800582e-01  1.89489086e+02]\n"
     ]
    },
    {
     "name": "stderr",
     "output_type": "stream",
     "text": [
      "\r",
      "t:  43%|█████████████████████▋                            | 521/1199 [02:17<02:57,  3.82it/s, now=None]"
     ]
    },
    {
     "name": "stdout",
     "output_type": "stream",
     "text": [
      "missdetection\n",
      "[ 4.31215881e-04 -7.76262629e-01  3.33303045e+02]\n",
      "missdetection\n",
      "[-8.28815404e-05 -2.35619253e-01  1.85389135e+02]\n"
     ]
    },
    {
     "name": "stderr",
     "output_type": "stream",
     "text": [
      "\r",
      "t:  44%|█████████████████████▊                            | 522/1199 [02:17<03:01,  3.73it/s, now=None]"
     ]
    },
    {
     "name": "stdout",
     "output_type": "stream",
     "text": [
      "missdetection\n",
      "[ 1.91191873e-04 -5.21167308e-01  2.69946068e+02]\n",
      "missdetection\n",
      "[-7.30455820e-05 -2.37779483e-01  1.82454820e+02]\n"
     ]
    },
    {
     "name": "stderr",
     "output_type": "stream",
     "text": [
      "\r",
      "t:  44%|█████████████████████▊                            | 523/1199 [02:17<02:56,  3.84it/s, now=None]"
     ]
    },
    {
     "name": "stdout",
     "output_type": "stream",
     "text": [
      "missdetection\n",
      "[ 1.47231173e-04 -4.57830041e-01  2.47880227e+02]\n",
      "missdetection\n",
      "[-4.67162019e-05 -2.64853987e-01  1.88795902e+02]\n"
     ]
    },
    {
     "name": "stderr",
     "output_type": "stream",
     "text": [
      "\r",
      "t:  44%|█████████████████████▊                            | 524/1199 [02:18<02:58,  3.78it/s, now=None]"
     ]
    },
    {
     "name": "stdout",
     "output_type": "stream",
     "text": [
      "missdetection\n",
      "[ 1.05311797e-04 -3.98494105e-01  2.27360555e+02]\n",
      "missdetection\n",
      "[-2.46144866e-05 -2.87206545e-01  1.93917261e+02]\n"
     ]
    },
    {
     "name": "stderr",
     "output_type": "stream",
     "text": [
      "\r",
      "t:  44%|█████████████████████▉                            | 525/1199 [02:18<02:54,  3.86it/s, now=None]"
     ]
    },
    {
     "name": "stdout",
     "output_type": "stream",
     "text": [
      "missdetection\n",
      "[ 1.48591217e-04 -4.29543739e-01  2.29189763e+02]\n",
      "missdetection\n",
      "[ 9.80815435e-06 -3.24817423e-01  2.03770035e+02]\n"
     ]
    },
    {
     "name": "stderr",
     "output_type": "stream",
     "text": [
      "\r",
      "t:  44%|█████████████████████▉                            | 526/1199 [02:18<02:53,  3.89it/s, now=None]"
     ]
    },
    {
     "name": "stdout",
     "output_type": "stream",
     "text": [
      "missdetection\n",
      "[ 9.80570113e-05 -3.58144384e-01  2.03743961e+02]\n",
      "missdetection\n",
      "[ 4.63964893e-05 -3.66289280e-01  2.15185669e+02]\n"
     ]
    },
    {
     "name": "stderr",
     "output_type": "stream",
     "text": [
      "\r",
      "t:  44%|█████████████████████▉                            | 527/1199 [02:18<02:56,  3.81it/s, now=None]"
     ]
    },
    {
     "name": "stdout",
     "output_type": "stream",
     "text": [
      "missdetection\n",
      "[ 5.53543509e-05 -2.99387307e-01  1.83701881e+02]\n",
      "missdetection\n",
      "[ 8.72679757e-05 -4.16822545e-01  2.30704234e+02]\n"
     ]
    },
    {
     "name": "stderr",
     "output_type": "stream",
     "text": [
      "\r",
      "t:  44%|██████████████████████                            | 528/1199 [02:19<02:54,  3.84it/s, now=None]"
     ]
    },
    {
     "name": "stdout",
     "output_type": "stream",
     "text": [
      "missdetection\n",
      "[ 3.18548311e-05 -2.54438669e-01  1.69186153e+02]\n",
      "missdetection\n",
      "[ 1.26135876e-04 -4.62715649e-01  2.44064458e+02]\n"
     ]
    },
    {
     "name": "stderr",
     "output_type": "stream",
     "text": [
      "\r",
      "t:  44%|██████████████████████                            | 529/1199 [02:19<02:55,  3.81it/s, now=None]"
     ]
    },
    {
     "name": "stdout",
     "output_type": "stream",
     "text": [
      "missdetection\n",
      "[ 5.22503589e-05 -2.57296108e-01  1.58377438e+02]\n",
      "missdetection\n",
      "[ 1.87456530e-04 -5.40548365e-01  2.68756993e+02]\n"
     ]
    },
    {
     "name": "stderr",
     "output_type": "stream",
     "text": [
      "\r",
      "t:  44%|██████████████████████                            | 530/1199 [02:19<02:57,  3.76it/s, now=None]"
     ]
    },
    {
     "name": "stdout",
     "output_type": "stream",
     "text": [
      "missdetection\n",
      "[ 1.31983356e-04 -3.01449752e-01  1.56002507e+02]\n",
      "missdetection\n",
      "[ 1.98447622e-04 -5.60355891e-01  2.77053385e+02]\n"
     ]
    },
    {
     "name": "stderr",
     "output_type": "stream",
     "text": [
      "\r",
      "t:  44%|██████████████████████▏                           | 531/1199 [02:20<02:59,  3.72it/s, now=None]"
     ]
    },
    {
     "name": "stdout",
     "output_type": "stream",
     "text": [
      "missdetection\n",
      "[ 9.85573943e-05 -2.57651186e-01  1.42840745e+02]\n",
      "missdetection\n",
      "[ 2.13780860e-04 -5.81216545e-01  2.84168407e+02]\n"
     ]
    },
    {
     "name": "stderr",
     "output_type": "stream",
     "text": [
      "\r",
      "t:  44%|██████████████████████▏                           | 532/1199 [02:20<02:52,  3.86it/s, now=None]"
     ]
    },
    {
     "name": "stdout",
     "output_type": "stream",
     "text": [
      "missdetection\n",
      "[ 1.07996491e-04 -2.55374717e-01  1.37335060e+02]\n",
      "missdetection\n",
      "[ 2.08281902e-04 -5.75112748e-01  2.82574391e+02]\n"
     ]
    },
    {
     "name": "stderr",
     "output_type": "stream",
     "text": [
      "\r",
      "t:  44%|██████████████████████▏                           | 533/1199 [02:20<02:52,  3.86it/s, now=None]"
     ]
    },
    {
     "name": "stdout",
     "output_type": "stream",
     "text": [
      "missdetection\n",
      "[ 1.00968059e-04 -2.38425178e-01  1.29518953e+02]\n",
      "missdetection\n",
      "[ 1.62399821e-04 -5.23051213e-01  2.68153769e+02]\n"
     ]
    },
    {
     "name": "stderr",
     "output_type": "stream",
     "text": [
      "\r",
      "t:  45%|██████████████████████▎                           | 534/1199 [02:20<02:56,  3.76it/s, now=None]"
     ]
    },
    {
     "name": "stdout",
     "output_type": "stream",
     "text": [
      "missdetection\n",
      "[ 4.49288887e-05 -1.68281215e-01  1.06750756e+02]\n",
      "missdetection\n",
      "[ 1.06427120e-04 -4.49183737e-01  2.43650891e+02]\n"
     ]
    },
    {
     "name": "stderr",
     "output_type": "stream",
     "text": [
      "\r",
      "t:  45%|██████████████████████▎                           | 535/1199 [02:21<02:53,  3.83it/s, now=None]"
     ]
    },
    {
     "name": "stdout",
     "output_type": "stream",
     "text": [
      "missdetection\n",
      "[ 6.06254939e-05 -1.76475030e-01  1.07727972e+02]\n",
      "missdetection\n",
      "[ 3.51403991e-05 -3.62163158e-01  2.17064659e+02]\n"
     ]
    },
    {
     "name": "stderr",
     "output_type": "stream",
     "text": [
      "\r",
      "t:  45%|██████████████████████▎                           | 536/1199 [02:21<02:56,  3.75it/s, now=None]"
     ]
    },
    {
     "name": "stdout",
     "output_type": "stream",
     "text": [
      "missdetection\n",
      "[ 6.79999675e-05 -1.75987335e-01  1.03334729e+02]\n",
      "missdetection\n",
      "[ 7.34832678e-06 -3.22232511e-01  2.02675986e+02]\n"
     ]
    },
    {
     "name": "stderr",
     "output_type": "stream",
     "text": [
      "\r",
      "t:  45%|██████████████████████▍                           | 537/1199 [02:21<02:53,  3.82it/s, now=None]"
     ]
    },
    {
     "name": "stdout",
     "output_type": "stream",
     "text": [
      "missdetection\n",
      "[ 6.37216034e-05 -1.69007074e-01  1.00968563e+02]\n",
      "missdetection\n",
      "[-2.01852217e-05 -2.84337222e-01  1.89540050e+02]\n"
     ]
    },
    {
     "name": "stderr",
     "output_type": "stream",
     "text": [
      "\r",
      "t:  45%|██████████████████████▍                           | 538/1199 [02:21<02:54,  3.78it/s, now=None]"
     ]
    },
    {
     "name": "stdout",
     "output_type": "stream",
     "text": [
      "missdetection\n",
      "[-4.42165969e-05 -2.56477286e-01  1.81544973e+02]\n"
     ]
    },
    {
     "name": "stderr",
     "output_type": "stream",
     "text": [
      "\r",
      "t:  45%|██████████████████████▍                           | 539/1199 [02:22<03:03,  3.60it/s, now=None]"
     ]
    },
    {
     "name": "stdout",
     "output_type": "stream",
     "text": [
      "missdetection\n",
      "[-1.42065188e-04 -1.60784006e-01  1.60700276e+02]\n"
     ]
    },
    {
     "name": "stderr",
     "output_type": "stream",
     "text": [
      "\r",
      "t:  45%|██████████████████████▌                           | 540/1199 [02:22<03:05,  3.56it/s, now=None]"
     ]
    },
    {
     "name": "stdout",
     "output_type": "stream",
     "text": [
      "missdetection\n",
      "[-7.19278610e-05 -2.25610294e-01  1.73167276e+02]\n"
     ]
    },
    {
     "name": "stderr",
     "output_type": "stream",
     "text": [
      "\r",
      "t:  45%|██████████████████████▌                           | 541/1199 [02:22<03:07,  3.52it/s, now=None]"
     ]
    },
    {
     "name": "stdout",
     "output_type": "stream",
     "text": [
      "missdetection\n",
      "[-9.79460894e-05 -1.88668574e-01  1.59932067e+02]\n"
     ]
    },
    {
     "name": "stderr",
     "output_type": "stream",
     "text": [
      "\r",
      "t:  45%|██████████████████████▌                           | 542/1199 [02:23<03:05,  3.55it/s, now=None]"
     ]
    },
    {
     "name": "stdout",
     "output_type": "stream",
     "text": [
      "missdetection\n",
      "[-1.12564763e-04 -1.65659037e-01  1.50964420e+02]\n"
     ]
    },
    {
     "name": "stderr",
     "output_type": "stream",
     "text": [
      "\r",
      "t:  45%|██████████████████████▋                           | 543/1199 [02:23<03:03,  3.58it/s, now=None]"
     ]
    },
    {
     "name": "stdout",
     "output_type": "stream",
     "text": [
      "missdetection\n",
      "[-1.30958993e-04 -1.33166883e-01  1.37303430e+02]\n"
     ]
    },
    {
     "name": "stderr",
     "output_type": "stream",
     "text": [
      "\r",
      "t:  45%|██████████████████████▋                           | 544/1199 [02:23<03:04,  3.54it/s, now=None]"
     ]
    },
    {
     "name": "stdout",
     "output_type": "stream",
     "text": [
      "missdetection\n",
      "[-1.37125492e-04 -1.11562529e-01  1.25467256e+02]\n"
     ]
    },
    {
     "name": "stderr",
     "output_type": "stream",
     "text": [
      "\r",
      "t:  45%|██████████████████████▋                           | 545/1199 [02:23<03:02,  3.58it/s, now=None]"
     ]
    },
    {
     "name": "stdout",
     "output_type": "stream",
     "text": [
      "missdetection\n",
      "[-1.41383096e-04 -9.65431147e-02  1.17253876e+02]\n"
     ]
    },
    {
     "name": "stderr",
     "output_type": "stream",
     "text": [
      "\r",
      "t:  46%|██████████████████████▊                           | 546/1199 [02:24<02:59,  3.64it/s, now=None]"
     ]
    },
    {
     "name": "stdout",
     "output_type": "stream",
     "text": [
      "missdetection\n",
      "[-1.50248944e-04 -7.98744935e-02  1.10077259e+02]\n"
     ]
    },
    {
     "name": "stderr",
     "output_type": "stream",
     "text": [
      "\r",
      "t:  46%|██████████████████████▊                           | 547/1199 [02:24<03:03,  3.56it/s, now=None]"
     ]
    },
    {
     "name": "stdout",
     "output_type": "stream",
     "text": [
      "missdetection\n",
      "[-1.46774220e-04 -7.52436031e-02  1.05417852e+02]\n"
     ]
    },
    {
     "name": "stderr",
     "output_type": "stream",
     "text": [
      "\r",
      "t:  46%|██████████████████████▊                           | 548/1199 [02:24<03:07,  3.47it/s, now=None]"
     ]
    },
    {
     "name": "stdout",
     "output_type": "stream",
     "text": [
      "Wrong separation between lines\n"
     ]
    },
    {
     "name": "stderr",
     "output_type": "stream",
     "text": [
      "t:  47%|███████████████████████▌                          | 564/1199 [02:28<02:40,  3.96it/s, now=None]"
     ]
    },
    {
     "name": "stdout",
     "output_type": "stream",
     "text": [
      "Wrong separation between lines\n"
     ]
    },
    {
     "name": "stderr",
     "output_type": "stream",
     "text": [
      "t:  47%|███████████████████████▌                          | 566/1199 [02:29<02:36,  4.03it/s, now=None]"
     ]
    },
    {
     "name": "stdout",
     "output_type": "stream",
     "text": [
      "missdetection\n",
      "[ 9.90218040e-04 -1.19443054e+00  3.36696718e+02]\n",
      "Wrong separation between lines\n"
     ]
    },
    {
     "name": "stderr",
     "output_type": "stream",
     "text": [
      "\r",
      "t:  47%|███████████████████████▋                          | 567/1199 [02:29<02:36,  4.03it/s, now=None]"
     ]
    },
    {
     "name": "stdout",
     "output_type": "stream",
     "text": [
      "Wrong separation between lines\n"
     ]
    },
    {
     "name": "stderr",
     "output_type": "stream",
     "text": [
      "\r",
      "t:  47%|███████████████████████▋                          | 568/1199 [02:29<02:34,  4.09it/s, now=None]"
     ]
    },
    {
     "name": "stdout",
     "output_type": "stream",
     "text": [
      "Wrong separation between lines\n"
     ]
    },
    {
     "name": "stderr",
     "output_type": "stream",
     "text": [
      "\r",
      "t:  47%|███████████████████████▋                          | 569/1199 [02:30<02:33,  4.09it/s, now=None]"
     ]
    },
    {
     "name": "stdout",
     "output_type": "stream",
     "text": [
      "missdetection\n",
      "[ 5.90092835e-04 -7.01978173e-01  2.06756377e+02]\n",
      "Wrong separation between lines\n"
     ]
    },
    {
     "name": "stderr",
     "output_type": "stream",
     "text": [
      "\r",
      "t:  48%|███████████████████████▊                          | 570/1199 [02:30<02:30,  4.18it/s, now=None]"
     ]
    },
    {
     "name": "stdout",
     "output_type": "stream",
     "text": [
      "Wrong separation between lines\n"
     ]
    },
    {
     "name": "stderr",
     "output_type": "stream",
     "text": [
      "\r",
      "t:  48%|███████████████████████▊                          | 571/1199 [02:30<02:31,  4.13it/s, now=None]"
     ]
    },
    {
     "name": "stdout",
     "output_type": "stream",
     "text": [
      "Wrong separation between lines\n"
     ]
    },
    {
     "name": "stderr",
     "output_type": "stream",
     "text": [
      "\r",
      "t:  48%|███████████████████████▊                          | 572/1199 [02:30<02:28,  4.23it/s, now=None]"
     ]
    },
    {
     "name": "stdout",
     "output_type": "stream",
     "text": [
      "Wrong separation between lines\n"
     ]
    },
    {
     "name": "stderr",
     "output_type": "stream",
     "text": [
      "\r",
      "t:  48%|███████████████████████▉                          | 573/1199 [02:31<02:30,  4.17it/s, now=None]"
     ]
    },
    {
     "name": "stdout",
     "output_type": "stream",
     "text": [
      "Wrong separation between lines\n"
     ]
    },
    {
     "name": "stderr",
     "output_type": "stream",
     "text": [
      "\r",
      "t:  48%|███████████████████████▉                          | 574/1199 [02:31<02:26,  4.27it/s, now=None]"
     ]
    },
    {
     "name": "stdout",
     "output_type": "stream",
     "text": [
      "missdetection\n",
      "[ 3.47574058e-04 -3.96662603e-01  1.09650444e+02]\n",
      "Wrong separation between lines\n"
     ]
    },
    {
     "name": "stderr",
     "output_type": "stream",
     "text": [
      "\r",
      "t:  48%|███████████████████████▉                          | 575/1199 [02:31<02:26,  4.25it/s, now=None]"
     ]
    },
    {
     "name": "stdout",
     "output_type": "stream",
     "text": [
      "missdetection\n",
      "[ 3.83606837e-04 -4.47890014e-01  1.28170848e+02]\n",
      "missdetection\n",
      "[ 1.38373203e-04  6.24748620e-02 -1.05623934e+02]\n",
      "Wrong separation between lines\n"
     ]
    },
    {
     "name": "stderr",
     "output_type": "stream",
     "text": [
      "\r",
      "t:  48%|████████████████████████                          | 576/1199 [02:31<02:25,  4.29it/s, now=None]"
     ]
    },
    {
     "name": "stdout",
     "output_type": "stream",
     "text": [
      "missdetection\n",
      "[ 3.59579510e-04 -4.11148169e-01  1.14216186e+02]\n",
      "missdetection\n",
      "[ 1.58179396e-04  5.71117699e-02 -1.09914042e+02]\n",
      "Wrong separation between lines\n"
     ]
    },
    {
     "name": "stderr",
     "output_type": "stream",
     "text": [
      "\r",
      "t:  48%|████████████████████████                          | 577/1199 [02:32<02:28,  4.20it/s, now=None]"
     ]
    },
    {
     "name": "stdout",
     "output_type": "stream",
     "text": [
      "missdetection\n",
      "[ 3.39752086e-04 -3.83021422e-01  1.03058529e+02]\n",
      "missdetection\n",
      "[ 1.57900948e-04  6.12022261e-02 -1.13736842e+02]\n",
      "Wrong separation between lines\n"
     ]
    },
    {
     "name": "stderr",
     "output_type": "stream",
     "text": [
      "\r",
      "t:  48%|████████████████████████                          | 578/1199 [02:32<02:24,  4.28it/s, now=None]"
     ]
    },
    {
     "name": "stdout",
     "output_type": "stream",
     "text": [
      "missdetection\n",
      "[ 4.07119734e-04 -4.61595687e-01  1.23771016e+02]\n",
      "missdetection\n",
      "[ 1.49271555e-04  7.13449039e-02 -1.17817461e+02]\n",
      "Wrong separation between lines\n"
     ]
    },
    {
     "name": "stderr",
     "output_type": "stream",
     "text": [
      "\r",
      "t:  48%|████████████████████████▏                         | 579/1199 [02:32<02:20,  4.41it/s, now=None]"
     ]
    },
    {
     "name": "stdout",
     "output_type": "stream",
     "text": [
      "missdetection\n",
      "[ 1.24472817e-04  9.49982480e-02 -1.23792521e+02]\n",
      "Wrong separation between lines\n"
     ]
    },
    {
     "name": "stderr",
     "output_type": "stream",
     "text": [
      "\r",
      "t:  48%|████████████████████████▏                         | 580/1199 [02:32<02:24,  4.30it/s, now=None]"
     ]
    },
    {
     "name": "stdout",
     "output_type": "stream",
     "text": [
      "missdetection\n",
      "[ 4.21371355e-04 -4.74845386e-01  1.25439582e+02]\n",
      "missdetection\n",
      "[ 1.04864929e-04  1.06828168e-01 -1.25491586e+02]\n",
      "Wrong separation between lines\n"
     ]
    },
    {
     "name": "stderr",
     "output_type": "stream",
     "text": [
      "\r",
      "t:  48%|████████████████████████▏                         | 581/1199 [02:32<02:24,  4.26it/s, now=None]"
     ]
    },
    {
     "name": "stdout",
     "output_type": "stream",
     "text": [
      "missdetection\n",
      "[ 4.54750168e-04 -5.14327148e-01  1.36477584e+02]\n",
      "missdetection\n",
      "[ 7.47787679e-05  1.43916333e-01 -1.38253799e+02]\n",
      "Wrong separation between lines\n"
     ]
    },
    {
     "name": "stderr",
     "output_type": "stream",
     "text": [
      "\r",
      "t:  49%|████████████████████████▎                         | 582/1199 [02:33<02:26,  4.22it/s, now=None]"
     ]
    },
    {
     "name": "stdout",
     "output_type": "stream",
     "text": [
      "missdetection\n",
      "[ 4.87649120e-04 -5.42253557e-01  1.40165373e+02]\n",
      "missdetection\n",
      "[ 4.57569466e-05  1.82338924e-01 -1.52098307e+02]\n",
      "Wrong separation between lines\n"
     ]
    },
    {
     "name": "stderr",
     "output_type": "stream",
     "text": [
      "\r",
      "t:  49%|████████████████████████▎                         | 583/1199 [02:33<02:26,  4.21it/s, now=None]"
     ]
    },
    {
     "name": "stdout",
     "output_type": "stream",
     "text": [
      "missdetection\n",
      "[ 4.82732574e-04 -5.32739250e-01  1.35485790e+02]\n",
      "missdetection\n",
      "[ 3.91465373e-05  1.89014101e-01 -1.54905487e+02]\n",
      "Wrong separation between lines\n"
     ]
    },
    {
     "name": "stderr",
     "output_type": "stream",
     "text": [
      "\r",
      "t:  49%|████████████████████████▎                         | 584/1199 [02:33<02:24,  4.26it/s, now=None]"
     ]
    },
    {
     "name": "stdout",
     "output_type": "stream",
     "text": [
      "missdetection\n",
      "[ 5.30614903e-04 -5.91308692e-01  1.53207196e+02]\n",
      "missdetection\n",
      "[ 6.93101068e-05  1.48131984e-01 -1.42396671e+02]\n",
      "Wrong separation between lines\n"
     ]
    },
    {
     "name": "stderr",
     "output_type": "stream",
     "text": [
      "\r",
      "t:  49%|████████████████████████▍                         | 585/1199 [02:33<02:28,  4.14it/s, now=None]"
     ]
    },
    {
     "name": "stdout",
     "output_type": "stream",
     "text": [
      "missdetection\n",
      "[ 5.08171770e-04 -5.50953993e-01  1.36418954e+02]\n",
      "Wrong separation between lines\n"
     ]
    },
    {
     "name": "stderr",
     "output_type": "stream",
     "text": [
      "\r",
      "t:  49%|████████████████████████▍                         | 586/1199 [02:34<02:27,  4.16it/s, now=None]"
     ]
    },
    {
     "name": "stdout",
     "output_type": "stream",
     "text": [
      "missdetection\n",
      "[ 6.12303379e-04 -6.94091450e-01  1.82707441e+02]\n",
      "Wrong separation between lines\n"
     ]
    },
    {
     "name": "stderr",
     "output_type": "stream",
     "text": [
      "\r",
      "t:  49%|████████████████████████▍                         | 587/1199 [02:34<02:26,  4.18it/s, now=None]"
     ]
    },
    {
     "name": "stdout",
     "output_type": "stream",
     "text": [
      "missdetection\n",
      "[ 5.57847579e-04 -6.16578866e-01  1.57638529e+02]\n",
      "missdetection\n",
      "[ 7.94663767e-04 -8.10061157e-01  1.69877903e+02]\n"
     ]
    },
    {
     "name": "stderr",
     "output_type": "stream",
     "text": [
      "\r",
      "t:  49%|████████████████████████▌                         | 588/1199 [02:34<02:25,  4.19it/s, now=None]"
     ]
    },
    {
     "name": "stdout",
     "output_type": "stream",
     "text": [
      "missdetection\n",
      "[ 5.67845984e-04 -6.31170793e-01  1.62627715e+02]\n",
      "missdetection\n",
      "[ 1.22318518e-03 -1.39103408e+00  3.65191252e+02]\n",
      "Wrong separation between lines\n"
     ]
    },
    {
     "name": "stderr",
     "output_type": "stream",
     "text": [
      "\r",
      "t:  49%|████████████████████████▌                         | 589/1199 [02:34<02:23,  4.24it/s, now=None]"
     ]
    },
    {
     "name": "stdout",
     "output_type": "stream",
     "text": [
      "missdetection\n",
      "[ 4.70260157e-04 -4.98071286e-01  1.20786795e+02]\n",
      "missdetection\n",
      "[ 1.58197363e-03 -1.89096825e+00  5.38201541e+02]\n",
      "Wrong separation between lines\n"
     ]
    },
    {
     "name": "stderr",
     "output_type": "stream",
     "text": [
      "\r",
      "t:  49%|████████████████████████▌                         | 590/1199 [02:35<02:26,  4.15it/s, now=None]"
     ]
    },
    {
     "name": "stdout",
     "output_type": "stream",
     "text": [
      "missdetection\n",
      "[ 4.80639710e-04 -4.99556393e-01  1.12935445e+02]\n",
      "missdetection\n",
      "[ 1.72113327e-03 -2.12288665e+00  6.29789053e+02]\n",
      "Wrong separation between lines\n"
     ]
    },
    {
     "name": "stderr",
     "output_type": "stream",
     "text": [
      "\r",
      "t:  49%|████████████████████████▋                         | 591/1199 [02:35<02:24,  4.22it/s, now=None]"
     ]
    },
    {
     "name": "stdout",
     "output_type": "stream",
     "text": [
      "missdetection\n",
      "[ 7.44835363e-04 -8.61048260e-01  2.39056447e+02]\n",
      "missdetection\n",
      "[ 1.71208562e-03 -2.12454034e+00  6.34680196e+02]\n",
      "Wrong separation between lines\n"
     ]
    },
    {
     "name": "stderr",
     "output_type": "stream",
     "text": [
      "\r",
      "t:  49%|████████████████████████▋                         | 592/1199 [02:35<02:20,  4.33it/s, now=None]"
     ]
    },
    {
     "name": "stdout",
     "output_type": "stream",
     "text": [
      "missdetection\n",
      "[ 7.61649809e-04 -8.76320016e-01  2.42669721e+02]\n",
      "missdetection\n",
      "[ 1.67022766e-03 -2.07327478e+00  6.19997582e+02]\n",
      "Wrong separation between lines\n"
     ]
    },
    {
     "name": "stderr",
     "output_type": "stream",
     "text": [
      "\r",
      "t:  49%|████████████████████████▋                         | 593/1199 [02:35<02:18,  4.37it/s, now=None]"
     ]
    },
    {
     "name": "stdout",
     "output_type": "stream",
     "text": [
      "missdetection\n",
      "[ 7.38726639e-04 -8.53445262e-01  2.38026329e+02]\n",
      "missdetection\n",
      "[ 1.63107529e-03 -2.00937320e+00  5.97430698e+02]\n",
      "Wrong separation between lines\n"
     ]
    },
    {
     "name": "stderr",
     "output_type": "stream",
     "text": [
      "\r",
      "t:  50%|████████████████████████▊                         | 594/1199 [02:35<02:19,  4.32it/s, now=None]"
     ]
    },
    {
     "name": "stdout",
     "output_type": "stream",
     "text": [
      "missdetection\n",
      "[ 7.43330476e-04 -8.56563055e-01  2.39009060e+02]\n",
      "missdetection\n",
      "[ 1.53398630e-03 -2.00399415e+00  6.31747745e+02]\n"
     ]
    },
    {
     "name": "stderr",
     "output_type": "stream",
     "text": [
      "\r",
      "t:  50%|████████████████████████▊                         | 595/1199 [02:36<02:20,  4.29it/s, now=None]"
     ]
    },
    {
     "name": "stdout",
     "output_type": "stream",
     "text": [
      "missdetection\n",
      "[-3.07822275e-05  2.24103859e-01 -1.37007391e+02]\n",
      "Wrong separation between lines\n"
     ]
    },
    {
     "name": "stderr",
     "output_type": "stream",
     "text": [
      "\r",
      "t:  50%|████████████████████████▊                         | 596/1199 [02:36<02:24,  4.16it/s, now=None]"
     ]
    },
    {
     "name": "stdout",
     "output_type": "stream",
     "text": [
      "missdetection\n",
      "[-3.27888119e-04  6.21713142e-01 -2.68247289e+02]\n",
      "Wrong separation between lines\n"
     ]
    },
    {
     "name": "stderr",
     "output_type": "stream",
     "text": [
      "\r",
      "t:  50%|████████████████████████▉                         | 597/1199 [02:36<02:23,  4.19it/s, now=None]"
     ]
    },
    {
     "name": "stdout",
     "output_type": "stream",
     "text": [
      "missdetection\n",
      "[-1.59894281e-04  3.86170126e-01 -1.85081760e+02]\n",
      "Wrong separation between lines\n"
     ]
    },
    {
     "name": "stderr",
     "output_type": "stream",
     "text": [
      "\r",
      "t:  50%|████████████████████████▉                         | 598/1199 [02:36<02:23,  4.18it/s, now=None]"
     ]
    },
    {
     "name": "stdout",
     "output_type": "stream",
     "text": [
      "missdetection\n",
      "[-1.25016474e-04  3.42778647e-01 -1.70333522e+02]\n",
      "missdetection\n",
      "[ 1.52602511e-03 -1.98979123e+00  6.27478418e+02]\n"
     ]
    },
    {
     "name": "stderr",
     "output_type": "stream",
     "text": [
      "\r",
      "t:  50%|████████████████████████▉                         | 599/1199 [02:37<02:28,  4.04it/s, now=None]"
     ]
    },
    {
     "name": "stdout",
     "output_type": "stream",
     "text": [
      "missdetection\n",
      "[ 1.52614481e-03 -1.98994649e+00  6.27468559e+02]\n"
     ]
    },
    {
     "name": "stderr",
     "output_type": "stream",
     "text": [
      "\r",
      "t:  50%|█████████████████████████                         | 600/1199 [02:37<02:52,  3.47it/s, now=None]"
     ]
    },
    {
     "name": "stdout",
     "output_type": "stream",
     "text": [
      "missdetection\n",
      "[-6.26128530e-04  6.40175727e-01 -1.94687212e+02]\n",
      "missdetection\n",
      "[ 1.52620465e-03 -1.99002412e+00  6.27463630e+02]\n"
     ]
    },
    {
     "name": "stderr",
     "output_type": "stream",
     "text": [
      "\r",
      "t:  50%|█████████████████████████                         | 601/1199 [02:37<02:56,  3.38it/s, now=None]"
     ]
    },
    {
     "name": "stdout",
     "output_type": "stream",
     "text": [
      "missdetection\n",
      "[ 1.52620465e-03 -1.99002412e+00  6.27463630e+02]\n"
     ]
    },
    {
     "ename": "TypeError",
     "evalue": "expected non-empty vector for x",
     "output_type": "error",
     "traceback": [
      "\u001b[1;31m---------------------------------------------------------------------------\u001b[0m",
      "\u001b[1;31mTypeError\u001b[0m                                 Traceback (most recent call last)",
      "\u001b[1;32m~\\Desktop\\CarND-Advanced-Lane-Lines\\Line.py\u001b[0m in \u001b[0;36m<module>\u001b[1;34m\u001b[0m\n",
      "\u001b[1;32m<decorator-gen-172>\u001b[0m in \u001b[0;36mwrite_videofile\u001b[1;34m(self, filename, fps, codec, bitrate, audio, audio_fps, preset, audio_nbytes, audio_codec, audio_bitrate, audio_bufsize, temp_audiofile, rewrite_audio, remove_temp, write_logfile, verbose, threads, ffmpeg_params, logger)\u001b[0m\n",
      "\u001b[1;32mC:\\ProgramData\\Anaconda3\\lib\\site-packages\\moviepy\\decorators.py\u001b[0m in \u001b[0;36mrequires_duration\u001b[1;34m(f, clip, *a, **k)\u001b[0m\n\u001b[0;32m     52\u001b[0m         \u001b[1;32mraise\u001b[0m \u001b[0mValueError\u001b[0m\u001b[1;33m(\u001b[0m\u001b[1;34m\"Attribute 'duration' not set\"\u001b[0m\u001b[1;33m)\u001b[0m\u001b[1;33m\u001b[0m\u001b[1;33m\u001b[0m\u001b[0m\n\u001b[0;32m     53\u001b[0m     \u001b[1;32melse\u001b[0m\u001b[1;33m:\u001b[0m\u001b[1;33m\u001b[0m\u001b[1;33m\u001b[0m\u001b[0m\n\u001b[1;32m---> 54\u001b[1;33m         \u001b[1;32mreturn\u001b[0m \u001b[0mf\u001b[0m\u001b[1;33m(\u001b[0m\u001b[0mclip\u001b[0m\u001b[1;33m,\u001b[0m \u001b[1;33m*\u001b[0m\u001b[0ma\u001b[0m\u001b[1;33m,\u001b[0m \u001b[1;33m**\u001b[0m\u001b[0mk\u001b[0m\u001b[1;33m)\u001b[0m\u001b[1;33m\u001b[0m\u001b[1;33m\u001b[0m\u001b[0m\n\u001b[0m\u001b[0;32m     55\u001b[0m \u001b[1;33m\u001b[0m\u001b[0m\n\u001b[0;32m     56\u001b[0m \u001b[1;33m\u001b[0m\u001b[0m\n",
      "\u001b[1;32m<decorator-gen-171>\u001b[0m in \u001b[0;36mwrite_videofile\u001b[1;34m(self, filename, fps, codec, bitrate, audio, audio_fps, preset, audio_nbytes, audio_codec, audio_bitrate, audio_bufsize, temp_audiofile, rewrite_audio, remove_temp, write_logfile, verbose, threads, ffmpeg_params, logger)\u001b[0m\n",
      "\u001b[1;32mC:\\ProgramData\\Anaconda3\\lib\\site-packages\\moviepy\\decorators.py\u001b[0m in \u001b[0;36muse_clip_fps_by_default\u001b[1;34m(f, clip, *a, **k)\u001b[0m\n\u001b[0;32m    133\u001b[0m              for (k,v) in k.items()}\n\u001b[0;32m    134\u001b[0m \u001b[1;33m\u001b[0m\u001b[0m\n\u001b[1;32m--> 135\u001b[1;33m     \u001b[1;32mreturn\u001b[0m \u001b[0mf\u001b[0m\u001b[1;33m(\u001b[0m\u001b[0mclip\u001b[0m\u001b[1;33m,\u001b[0m \u001b[1;33m*\u001b[0m\u001b[0mnew_a\u001b[0m\u001b[1;33m,\u001b[0m \u001b[1;33m**\u001b[0m\u001b[0mnew_kw\u001b[0m\u001b[1;33m)\u001b[0m\u001b[1;33m\u001b[0m\u001b[1;33m\u001b[0m\u001b[0m\n\u001b[0m",
      "\u001b[1;32m<decorator-gen-170>\u001b[0m in \u001b[0;36mwrite_videofile\u001b[1;34m(self, filename, fps, codec, bitrate, audio, audio_fps, preset, audio_nbytes, audio_codec, audio_bitrate, audio_bufsize, temp_audiofile, rewrite_audio, remove_temp, write_logfile, verbose, threads, ffmpeg_params, logger)\u001b[0m\n",
      "\u001b[1;32mC:\\ProgramData\\Anaconda3\\lib\\site-packages\\moviepy\\decorators.py\u001b[0m in \u001b[0;36mconvert_masks_to_RGB\u001b[1;34m(f, clip, *a, **k)\u001b[0m\n\u001b[0;32m     20\u001b[0m     \u001b[1;32mif\u001b[0m \u001b[0mclip\u001b[0m\u001b[1;33m.\u001b[0m\u001b[0mismask\u001b[0m\u001b[1;33m:\u001b[0m\u001b[1;33m\u001b[0m\u001b[1;33m\u001b[0m\u001b[0m\n\u001b[0;32m     21\u001b[0m         \u001b[0mclip\u001b[0m \u001b[1;33m=\u001b[0m \u001b[0mclip\u001b[0m\u001b[1;33m.\u001b[0m\u001b[0mto_RGB\u001b[0m\u001b[1;33m(\u001b[0m\u001b[1;33m)\u001b[0m\u001b[1;33m\u001b[0m\u001b[1;33m\u001b[0m\u001b[0m\n\u001b[1;32m---> 22\u001b[1;33m     \u001b[1;32mreturn\u001b[0m \u001b[0mf\u001b[0m\u001b[1;33m(\u001b[0m\u001b[0mclip\u001b[0m\u001b[1;33m,\u001b[0m \u001b[1;33m*\u001b[0m\u001b[0ma\u001b[0m\u001b[1;33m,\u001b[0m \u001b[1;33m**\u001b[0m\u001b[0mk\u001b[0m\u001b[1;33m)\u001b[0m\u001b[1;33m\u001b[0m\u001b[1;33m\u001b[0m\u001b[0m\n\u001b[0m\u001b[0;32m     23\u001b[0m \u001b[1;33m\u001b[0m\u001b[0m\n\u001b[0;32m     24\u001b[0m \u001b[1;33m@\u001b[0m\u001b[0mdecorator\u001b[0m\u001b[1;33m.\u001b[0m\u001b[0mdecorator\u001b[0m\u001b[1;33m\u001b[0m\u001b[1;33m\u001b[0m\u001b[0m\n",
      "\u001b[1;32mC:\\ProgramData\\Anaconda3\\lib\\site-packages\\moviepy\\video\\VideoClip.py\u001b[0m in \u001b[0;36mwrite_videofile\u001b[1;34m(self, filename, fps, codec, bitrate, audio, audio_fps, preset, audio_nbytes, audio_codec, audio_bitrate, audio_bufsize, temp_audiofile, rewrite_audio, remove_temp, write_logfile, verbose, threads, ffmpeg_params, logger)\u001b[0m\n\u001b[0;32m    298\u001b[0m                                        logger=logger)\n\u001b[0;32m    299\u001b[0m \u001b[1;33m\u001b[0m\u001b[0m\n\u001b[1;32m--> 300\u001b[1;33m         ffmpeg_write_video(self, filename, fps, codec,\n\u001b[0m\u001b[0;32m    301\u001b[0m                            \u001b[0mbitrate\u001b[0m\u001b[1;33m=\u001b[0m\u001b[0mbitrate\u001b[0m\u001b[1;33m,\u001b[0m\u001b[1;33m\u001b[0m\u001b[1;33m\u001b[0m\u001b[0m\n\u001b[0;32m    302\u001b[0m                            \u001b[0mpreset\u001b[0m\u001b[1;33m=\u001b[0m\u001b[0mpreset\u001b[0m\u001b[1;33m,\u001b[0m\u001b[1;33m\u001b[0m\u001b[1;33m\u001b[0m\u001b[0m\n",
      "\u001b[1;32mC:\\ProgramData\\Anaconda3\\lib\\site-packages\\moviepy\\video\\io\\ffmpeg_writer.py\u001b[0m in \u001b[0;36mffmpeg_write_video\u001b[1;34m(clip, filename, fps, codec, bitrate, preset, withmask, write_logfile, audiofile, verbose, threads, ffmpeg_params, logger)\u001b[0m\n\u001b[0;32m    218\u001b[0m         \u001b[0mnframes\u001b[0m \u001b[1;33m=\u001b[0m \u001b[0mint\u001b[0m\u001b[1;33m(\u001b[0m\u001b[0mclip\u001b[0m\u001b[1;33m.\u001b[0m\u001b[0mduration\u001b[0m\u001b[1;33m*\u001b[0m\u001b[0mfps\u001b[0m\u001b[1;33m)\u001b[0m\u001b[1;33m\u001b[0m\u001b[1;33m\u001b[0m\u001b[0m\n\u001b[0;32m    219\u001b[0m \u001b[1;33m\u001b[0m\u001b[0m\n\u001b[1;32m--> 220\u001b[1;33m         for t,frame in clip.iter_frames(logger=logger, with_times=True,\n\u001b[0m\u001b[0;32m    221\u001b[0m                                         fps=fps, dtype=\"uint8\"):\n\u001b[0;32m    222\u001b[0m             \u001b[1;32mif\u001b[0m \u001b[0mwithmask\u001b[0m\u001b[1;33m:\u001b[0m\u001b[1;33m\u001b[0m\u001b[1;33m\u001b[0m\u001b[0m\n",
      "\u001b[1;32mC:\\ProgramData\\Anaconda3\\lib\\site-packages\\moviepy\\Clip.py\u001b[0m in \u001b[0;36miter_frames\u001b[1;34m(self, fps, with_times, logger, dtype)\u001b[0m\n\u001b[0;32m    470\u001b[0m         \u001b[0mlogger\u001b[0m \u001b[1;33m=\u001b[0m \u001b[0mproglog\u001b[0m\u001b[1;33m.\u001b[0m\u001b[0mdefault_bar_logger\u001b[0m\u001b[1;33m(\u001b[0m\u001b[0mlogger\u001b[0m\u001b[1;33m)\u001b[0m\u001b[1;33m\u001b[0m\u001b[1;33m\u001b[0m\u001b[0m\n\u001b[0;32m    471\u001b[0m         \u001b[1;32mfor\u001b[0m \u001b[0mt\u001b[0m \u001b[1;32min\u001b[0m \u001b[0mlogger\u001b[0m\u001b[1;33m.\u001b[0m\u001b[0miter_bar\u001b[0m\u001b[1;33m(\u001b[0m\u001b[0mt\u001b[0m\u001b[1;33m=\u001b[0m\u001b[0mnp\u001b[0m\u001b[1;33m.\u001b[0m\u001b[0marange\u001b[0m\u001b[1;33m(\u001b[0m\u001b[1;36m0\u001b[0m\u001b[1;33m,\u001b[0m \u001b[0mself\u001b[0m\u001b[1;33m.\u001b[0m\u001b[0mduration\u001b[0m\u001b[1;33m,\u001b[0m \u001b[1;36m1.0\u001b[0m\u001b[1;33m/\u001b[0m\u001b[0mfps\u001b[0m\u001b[1;33m)\u001b[0m\u001b[1;33m)\u001b[0m\u001b[1;33m:\u001b[0m\u001b[1;33m\u001b[0m\u001b[1;33m\u001b[0m\u001b[0m\n\u001b[1;32m--> 472\u001b[1;33m             \u001b[0mframe\u001b[0m \u001b[1;33m=\u001b[0m \u001b[0mself\u001b[0m\u001b[1;33m.\u001b[0m\u001b[0mget_frame\u001b[0m\u001b[1;33m(\u001b[0m\u001b[0mt\u001b[0m\u001b[1;33m)\u001b[0m\u001b[1;33m\u001b[0m\u001b[1;33m\u001b[0m\u001b[0m\n\u001b[0m\u001b[0;32m    473\u001b[0m             \u001b[1;32mif\u001b[0m \u001b[1;33m(\u001b[0m\u001b[0mdtype\u001b[0m \u001b[1;32mis\u001b[0m \u001b[1;32mnot\u001b[0m \u001b[1;32mNone\u001b[0m\u001b[1;33m)\u001b[0m \u001b[1;32mand\u001b[0m \u001b[1;33m(\u001b[0m\u001b[0mframe\u001b[0m\u001b[1;33m.\u001b[0m\u001b[0mdtype\u001b[0m \u001b[1;33m!=\u001b[0m \u001b[0mdtype\u001b[0m\u001b[1;33m)\u001b[0m\u001b[1;33m:\u001b[0m\u001b[1;33m\u001b[0m\u001b[1;33m\u001b[0m\u001b[0m\n\u001b[0;32m    474\u001b[0m                 \u001b[0mframe\u001b[0m \u001b[1;33m=\u001b[0m \u001b[0mframe\u001b[0m\u001b[1;33m.\u001b[0m\u001b[0mastype\u001b[0m\u001b[1;33m(\u001b[0m\u001b[0mdtype\u001b[0m\u001b[1;33m)\u001b[0m\u001b[1;33m\u001b[0m\u001b[1;33m\u001b[0m\u001b[0m\n",
      "\u001b[1;32m<decorator-gen-128>\u001b[0m in \u001b[0;36mget_frame\u001b[1;34m(self, t)\u001b[0m\n",
      "\u001b[1;32mC:\\ProgramData\\Anaconda3\\lib\\site-packages\\moviepy\\decorators.py\u001b[0m in \u001b[0;36mwrapper\u001b[1;34m(f, *a, **kw)\u001b[0m\n\u001b[0;32m     87\u001b[0m         new_kw = {k: fun(v) if k in varnames else v\n\u001b[0;32m     88\u001b[0m                  for (k,v) in kw.items()}\n\u001b[1;32m---> 89\u001b[1;33m         \u001b[1;32mreturn\u001b[0m \u001b[0mf\u001b[0m\u001b[1;33m(\u001b[0m\u001b[1;33m*\u001b[0m\u001b[0mnew_a\u001b[0m\u001b[1;33m,\u001b[0m \u001b[1;33m**\u001b[0m\u001b[0mnew_kw\u001b[0m\u001b[1;33m)\u001b[0m\u001b[1;33m\u001b[0m\u001b[1;33m\u001b[0m\u001b[0m\n\u001b[0m\u001b[0;32m     90\u001b[0m     \u001b[1;32mreturn\u001b[0m \u001b[0mdecorator\u001b[0m\u001b[1;33m.\u001b[0m\u001b[0mdecorator\u001b[0m\u001b[1;33m(\u001b[0m\u001b[0mwrapper\u001b[0m\u001b[1;33m)\u001b[0m\u001b[1;33m\u001b[0m\u001b[1;33m\u001b[0m\u001b[0m\n\u001b[0;32m     91\u001b[0m \u001b[1;33m\u001b[0m\u001b[0m\n",
      "\u001b[1;32mC:\\ProgramData\\Anaconda3\\lib\\site-packages\\moviepy\\Clip.py\u001b[0m in \u001b[0;36mget_frame\u001b[1;34m(self, t)\u001b[0m\n\u001b[0;32m     91\u001b[0m                 \u001b[1;32mreturn\u001b[0m \u001b[0mframe\u001b[0m\u001b[1;33m\u001b[0m\u001b[1;33m\u001b[0m\u001b[0m\n\u001b[0;32m     92\u001b[0m         \u001b[1;32melse\u001b[0m\u001b[1;33m:\u001b[0m\u001b[1;33m\u001b[0m\u001b[1;33m\u001b[0m\u001b[0m\n\u001b[1;32m---> 93\u001b[1;33m             \u001b[1;32mreturn\u001b[0m \u001b[0mself\u001b[0m\u001b[1;33m.\u001b[0m\u001b[0mmake_frame\u001b[0m\u001b[1;33m(\u001b[0m\u001b[0mt\u001b[0m\u001b[1;33m)\u001b[0m\u001b[1;33m\u001b[0m\u001b[1;33m\u001b[0m\u001b[0m\n\u001b[0m\u001b[0;32m     94\u001b[0m \u001b[1;33m\u001b[0m\u001b[0m\n\u001b[0;32m     95\u001b[0m     \u001b[1;32mdef\u001b[0m \u001b[0mfl\u001b[0m\u001b[1;33m(\u001b[0m\u001b[0mself\u001b[0m\u001b[1;33m,\u001b[0m \u001b[0mfun\u001b[0m\u001b[1;33m,\u001b[0m \u001b[0mapply_to\u001b[0m\u001b[1;33m=\u001b[0m\u001b[1;32mNone\u001b[0m\u001b[1;33m,\u001b[0m \u001b[0mkeep_duration\u001b[0m\u001b[1;33m=\u001b[0m\u001b[1;32mTrue\u001b[0m\u001b[1;33m)\u001b[0m\u001b[1;33m:\u001b[0m\u001b[1;33m\u001b[0m\u001b[1;33m\u001b[0m\u001b[0m\n",
      "\u001b[1;32mC:\\ProgramData\\Anaconda3\\lib\\site-packages\\moviepy\\Clip.py\u001b[0m in \u001b[0;36m<lambda>\u001b[1;34m(t)\u001b[0m\n\u001b[0;32m    134\u001b[0m \u001b[1;33m\u001b[0m\u001b[0m\n\u001b[0;32m    135\u001b[0m         \u001b[1;31m#mf = copy(self.make_frame)\u001b[0m\u001b[1;33m\u001b[0m\u001b[1;33m\u001b[0m\u001b[1;33m\u001b[0m\u001b[0m\n\u001b[1;32m--> 136\u001b[1;33m         \u001b[0mnewclip\u001b[0m \u001b[1;33m=\u001b[0m \u001b[0mself\u001b[0m\u001b[1;33m.\u001b[0m\u001b[0mset_make_frame\u001b[0m\u001b[1;33m(\u001b[0m\u001b[1;32mlambda\u001b[0m \u001b[0mt\u001b[0m\u001b[1;33m:\u001b[0m \u001b[0mfun\u001b[0m\u001b[1;33m(\u001b[0m\u001b[0mself\u001b[0m\u001b[1;33m.\u001b[0m\u001b[0mget_frame\u001b[0m\u001b[1;33m,\u001b[0m \u001b[0mt\u001b[0m\u001b[1;33m)\u001b[0m\u001b[1;33m)\u001b[0m\u001b[1;33m\u001b[0m\u001b[1;33m\u001b[0m\u001b[0m\n\u001b[0m\u001b[0;32m    137\u001b[0m \u001b[1;33m\u001b[0m\u001b[0m\n\u001b[0;32m    138\u001b[0m         \u001b[1;32mif\u001b[0m \u001b[1;32mnot\u001b[0m \u001b[0mkeep_duration\u001b[0m\u001b[1;33m:\u001b[0m\u001b[1;33m\u001b[0m\u001b[1;33m\u001b[0m\u001b[0m\n",
      "\u001b[1;32mC:\\ProgramData\\Anaconda3\\lib\\site-packages\\moviepy\\video\\VideoClip.py\u001b[0m in \u001b[0;36m<lambda>\u001b[1;34m(gf, t)\u001b[0m\n\u001b[0;32m    488\u001b[0m         \"\"\"\n\u001b[0;32m    489\u001b[0m         \u001b[0mapply_to\u001b[0m \u001b[1;33m=\u001b[0m \u001b[0mapply_to\u001b[0m \u001b[1;32mor\u001b[0m \u001b[1;33m[\u001b[0m\u001b[1;33m]\u001b[0m\u001b[1;33m\u001b[0m\u001b[1;33m\u001b[0m\u001b[0m\n\u001b[1;32m--> 490\u001b[1;33m         \u001b[1;32mreturn\u001b[0m \u001b[0mself\u001b[0m\u001b[1;33m.\u001b[0m\u001b[0mfl\u001b[0m\u001b[1;33m(\u001b[0m\u001b[1;32mlambda\u001b[0m \u001b[0mgf\u001b[0m\u001b[1;33m,\u001b[0m \u001b[0mt\u001b[0m\u001b[1;33m:\u001b[0m \u001b[0mimage_func\u001b[0m\u001b[1;33m(\u001b[0m\u001b[0mgf\u001b[0m\u001b[1;33m(\u001b[0m\u001b[0mt\u001b[0m\u001b[1;33m)\u001b[0m\u001b[1;33m)\u001b[0m\u001b[1;33m,\u001b[0m \u001b[0mapply_to\u001b[0m\u001b[1;33m)\u001b[0m\u001b[1;33m\u001b[0m\u001b[1;33m\u001b[0m\u001b[0m\n\u001b[0m\u001b[0;32m    491\u001b[0m \u001b[1;33m\u001b[0m\u001b[0m\n\u001b[0;32m    492\u001b[0m     \u001b[1;31m# --------------------------------------------------------------\u001b[0m\u001b[1;33m\u001b[0m\u001b[1;33m\u001b[0m\u001b[1;33m\u001b[0m\u001b[0m\n",
      "\u001b[1;32m~\\Desktop\\CarND-Advanced-Lane-Lines\\Line.py\u001b[0m in \u001b[0;36mprocess_frame\u001b[1;34m(img)\u001b[0m\n\u001b[0;32m     66\u001b[0m     \u001b[1;32melse\u001b[0m\u001b[1;33m:\u001b[0m\u001b[1;33m\u001b[0m\u001b[1;33m\u001b[0m\u001b[0m\n\u001b[0;32m     67\u001b[0m         \u001b[1;31m# Search based on coefs\u001b[0m\u001b[1;33m\u001b[0m\u001b[1;33m\u001b[0m\u001b[1;33m\u001b[0m\u001b[0m\n\u001b[1;32m---> 68\u001b[1;33m         \u001b[0mleftx\u001b[0m\u001b[1;33m,\u001b[0m \u001b[0mlefty\u001b[0m\u001b[1;33m,\u001b[0m \u001b[0mcoeffs_fit_L\u001b[0m\u001b[1;33m,\u001b[0m \u001b[0mlineDetectedL\u001b[0m\u001b[1;33m,\u001b[0m \u001b[0mleft_fitx\u001b[0m\u001b[1;33m,\u001b[0m \u001b[0mout_img\u001b[0m \u001b[1;33m=\u001b[0m \u001b[0msearch_around_poly\u001b[0m\u001b[1;33m(\u001b[0m\u001b[0mwarped_img\u001b[0m\u001b[1;33m,\u001b[0m \u001b[0mlineLeft\u001b[0m\u001b[1;33m)\u001b[0m\u001b[1;33m\u001b[0m\u001b[1;33m\u001b[0m\u001b[0m\n\u001b[0m\u001b[0;32m     69\u001b[0m         \u001b[0mlineLeft\u001b[0m\u001b[1;33m.\u001b[0m\u001b[0mupdatePixels\u001b[0m\u001b[1;33m(\u001b[0m\u001b[0mleftx\u001b[0m\u001b[1;33m,\u001b[0m \u001b[0mlefty\u001b[0m\u001b[1;33m)\u001b[0m\u001b[1;33m\u001b[0m\u001b[1;33m\u001b[0m\u001b[0m\n\u001b[0;32m     70\u001b[0m \u001b[1;33m\u001b[0m\u001b[0m\n",
      "\u001b[1;32m~\\Desktop\\CarND-Advanced-Lane-Lines\\Line.py\u001b[0m in \u001b[0;36msearch_around_poly\u001b[1;34m(binary_warped, lineLane)\u001b[0m\n\u001b[0;32m    528\u001b[0m \u001b[1;33m\u001b[0m\u001b[0m\n\u001b[0;32m    529\u001b[0m     \u001b[0mlineDetected\u001b[0m \u001b[1;33m=\u001b[0m \u001b[1;32mTrue\u001b[0m\u001b[1;33m\u001b[0m\u001b[1;33m\u001b[0m\u001b[0m\n\u001b[1;32m--> 530\u001b[1;33m     \u001b[0mcoeffs_fit\u001b[0m \u001b[1;33m=\u001b[0m \u001b[0mnp\u001b[0m\u001b[1;33m.\u001b[0m\u001b[0mpolyfit\u001b[0m\u001b[1;33m(\u001b[0m\u001b[0mlefty\u001b[0m\u001b[1;33m,\u001b[0m \u001b[0mleftx\u001b[0m\u001b[1;33m,\u001b[0m \u001b[1;36m2\u001b[0m\u001b[1;33m)\u001b[0m\u001b[1;33m\u001b[0m\u001b[1;33m\u001b[0m\u001b[0m\n\u001b[0m\u001b[0;32m    531\u001b[0m     \u001b[0mline_fitx\u001b[0m \u001b[1;33m=\u001b[0m \u001b[0mnp\u001b[0m\u001b[1;33m.\u001b[0m\u001b[0mpolyval\u001b[0m\u001b[1;33m(\u001b[0m\u001b[0mcoeffs_fit\u001b[0m\u001b[1;33m,\u001b[0m \u001b[0mlineLane\u001b[0m\u001b[1;33m.\u001b[0m\u001b[0mpoly_ploty\u001b[0m\u001b[1;33m)\u001b[0m  \u001b[1;31m# evaluate the polynomial\u001b[0m\u001b[1;33m\u001b[0m\u001b[1;33m\u001b[0m\u001b[0m\n\u001b[0;32m    532\u001b[0m \u001b[1;33m\u001b[0m\u001b[0m\n",
      "\u001b[1;32m<__array_function__ internals>\u001b[0m in \u001b[0;36mpolyfit\u001b[1;34m(*args, **kwargs)\u001b[0m\n",
      "\u001b[1;32mC:\\ProgramData\\Anaconda3\\lib\\site-packages\\numpy\\lib\\polynomial.py\u001b[0m in \u001b[0;36mpolyfit\u001b[1;34m(x, y, deg, rcond, full, w, cov)\u001b[0m\n\u001b[0;32m    628\u001b[0m         \u001b[1;32mraise\u001b[0m \u001b[0mTypeError\u001b[0m\u001b[1;33m(\u001b[0m\u001b[1;34m\"expected 1D vector for x\"\u001b[0m\u001b[1;33m)\u001b[0m\u001b[1;33m\u001b[0m\u001b[1;33m\u001b[0m\u001b[0m\n\u001b[0;32m    629\u001b[0m     \u001b[1;32mif\u001b[0m \u001b[0mx\u001b[0m\u001b[1;33m.\u001b[0m\u001b[0msize\u001b[0m \u001b[1;33m==\u001b[0m \u001b[1;36m0\u001b[0m\u001b[1;33m:\u001b[0m\u001b[1;33m\u001b[0m\u001b[1;33m\u001b[0m\u001b[0m\n\u001b[1;32m--> 630\u001b[1;33m         \u001b[1;32mraise\u001b[0m \u001b[0mTypeError\u001b[0m\u001b[1;33m(\u001b[0m\u001b[1;34m\"expected non-empty vector for x\"\u001b[0m\u001b[1;33m)\u001b[0m\u001b[1;33m\u001b[0m\u001b[1;33m\u001b[0m\u001b[0m\n\u001b[0m\u001b[0;32m    631\u001b[0m     \u001b[1;32mif\u001b[0m \u001b[0my\u001b[0m\u001b[1;33m.\u001b[0m\u001b[0mndim\u001b[0m \u001b[1;33m<\u001b[0m \u001b[1;36m1\u001b[0m \u001b[1;32mor\u001b[0m \u001b[0my\u001b[0m\u001b[1;33m.\u001b[0m\u001b[0mndim\u001b[0m \u001b[1;33m>\u001b[0m \u001b[1;36m2\u001b[0m\u001b[1;33m:\u001b[0m\u001b[1;33m\u001b[0m\u001b[1;33m\u001b[0m\u001b[0m\n\u001b[0;32m    632\u001b[0m         \u001b[1;32mraise\u001b[0m \u001b[0mTypeError\u001b[0m\u001b[1;33m(\u001b[0m\u001b[1;34m\"expected 1D or 2D array for y\"\u001b[0m\u001b[1;33m)\u001b[0m\u001b[1;33m\u001b[0m\u001b[1;33m\u001b[0m\u001b[0m\n",
      "\u001b[1;31mTypeError\u001b[0m: expected non-empty vector for x"
     ]
    }
   ],
   "source": [
    "# Instanciate cLine classes\n",
    "lineLeft = Line()\n",
    "lineRight = Line()\n",
    "\n",
    "\n",
    "harder_challenge_output = 'output_videos/harder_challenge_video.mp4'\n",
    "clip3 = VideoFileClip(\"test_videos/harder_challenge_video.mp4\")\n",
    "\n",
    "harder_challenge_clip = clip3.fl_image(process_frame) #NOTE: this function expects color images!!\n",
    "%time harder_challenge_clip.write_videofile(harder_challenge_output, audio=False)"
   ]
  },
  {
   "cell_type": "code",
   "execution_count": 8,
   "id": "1f55179c",
   "metadata": {
    "scrolled": false
   },
   "outputs": [
    {
     "data": {
      "text/html": [
       "\n",
       "<video width=\"960\" height=\"540\" controls>\n",
       "  <source src=\"output_videos/harder_challenge_video.mp4\">\n",
       "</video>\n"
      ],
      "text/plain": [
       "<IPython.core.display.HTML object>"
      ]
     },
     "execution_count": 8,
     "metadata": {},
     "output_type": "execute_result"
    }
   ],
   "source": [
    "HTML(\"\"\"\n",
    "<video width=\"960\" height=\"540\" controls>\n",
    "  <source src=\"{0}\">\n",
    "</video>\n",
    "\"\"\".format(harder_challenge_output))"
   ]
  },
  {
   "cell_type": "code",
   "execution_count": null,
   "id": "5d7c0c38",
   "metadata": {},
   "outputs": [],
   "source": []
  }
 ],
 "metadata": {
  "kernelspec": {
   "display_name": "Python 3",
   "language": "python",
   "name": "python3"
  },
  "language_info": {
   "codemirror_mode": {
    "name": "ipython",
    "version": 3
   },
   "file_extension": ".py",
   "mimetype": "text/x-python",
   "name": "python",
   "nbconvert_exporter": "python",
   "pygments_lexer": "ipython3",
   "version": "3.8.8"
  }
 },
 "nbformat": 4,
 "nbformat_minor": 5
}
