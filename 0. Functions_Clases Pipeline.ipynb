{
 "cells": [
  {
   "cell_type": "code",
   "execution_count": 1,
   "id": "70413b8d",
   "metadata": {},
   "outputs": [],
   "source": [
    "import numpy as np\n",
    "import cv2\n",
    "import glob\n",
    "import matplotlib.pyplot as plt\n",
    "%matplotlib inline\n",
    "from pprint import pprint\n",
    "import pickle\n",
    "import os"
   ]
  },
  {
   "cell_type": "markdown",
   "id": "33adaa8c",
   "metadata": {},
   "source": [
    "### [function] moving_average"
   ]
  },
  {
   "cell_type": "code",
   "execution_count": 2,
   "id": "bf972e49",
   "metadata": {},
   "outputs": [],
   "source": [
    "def moving_average(x, w):\n",
    "    vectLen = len(x)\n",
    "    if vectLen > w:\n",
    "        sol = np.convolve(x, np.ones(w), 'valid') / w\n",
    "    else:\n",
    "        sol = sol = np.convolve(x, np.ones(vectLen), 'valid') / vectLen\n",
    "    return sol"
   ]
  },
  {
   "cell_type": "markdown",
   "id": "978b3f78",
   "metadata": {},
   "source": [
    "### [function] Resize Images"
   ]
  },
  {
   "cell_type": "code",
   "execution_count": 3,
   "id": "50080f40",
   "metadata": {},
   "outputs": [],
   "source": [
    "def resizeImage(image,shape=(1280,720)):\n",
    "    \"\"\"\n",
    "    image should be a np.array image, note that it will be modified\n",
    "    \"\"\"\n",
    "    ysize = image.shape[0]\n",
    "    xsize = image.shape[1]\n",
    "\n",
    "    # Resize image if necesaary\n",
    "    if xsize != shape[0] and ysize != shape[1]:\n",
    "        image = cv2.resize(image, (shape[0], shape[1]),)\n",
    "\n",
    "    return image"
   ]
  },
  {
   "cell_type": "markdown",
   "id": "aca5158a",
   "metadata": {},
   "source": [
    "### [function] Display a list of images"
   ]
  },
  {
   "cell_type": "code",
   "execution_count": 4,
   "id": "4f117852",
   "metadata": {},
   "outputs": [],
   "source": [
    "def displayListImages(images,titles=[],cols=1,cmap=None, figSize = [12,12], overplot = None):\n",
    "    \"\"\"\n",
    "    Function to display and resize a list of images\n",
    "    images is a list of matplotlib image (use imread)\n",
    "    titles is a list of strings\n",
    "    cols is an integer with the number of columns to display\n",
    "    rows is an integer with the number of rows to display\n",
    "    \"\"\"\n",
    "    rows = len(images)//cols\n",
    "    if len(images)%cols > 0:\n",
    "        rows+=1\n",
    "\n",
    "    # Helper to adapt images to full width\n",
    "    plt.rcParams['figure.figsize'] = [figSize[0], figSize[1]*cols]\n",
    "    plt.rcParams['figure.dpi'] = 100 # 200 e.g. is really fine, but slower\n",
    "\n",
    "    for i in range(len(images)):\n",
    "        \n",
    "        plt.subplot(rows, cols, i+1)\n",
    "        \n",
    "        image = resizeImage(images[i])\n",
    "        if titles:\n",
    "            plt.title(titles[i]) \n",
    "        plt.imshow(image, cmap=cmap, aspect='auto')\n",
    "        \n",
    "    if overplot:\n",
    "        overplot\n",
    "    return plt\n",
    "\n",
    "        \n",
    "#Test function\n",
    "#displayListImages(cal_images,cols=2)"
   ]
  },
  {
   "cell_type": "markdown",
   "id": "a7414fee",
   "metadata": {},
   "source": [
    "### [function] Undistort images"
   ]
  },
  {
   "cell_type": "code",
   "execution_count": 5,
   "id": "db4870b3",
   "metadata": {},
   "outputs": [],
   "source": [
    "def undistort_image(img, mtx, dist):\n",
    "    undist = cv2.undistort(img, mtx, dist, None, mtx)\n",
    "    return undist"
   ]
  },
  {
   "cell_type": "markdown",
   "id": "47d7690d",
   "metadata": {},
   "source": [
    "### [function] Color enhancement"
   ]
  },
  {
   "cell_type": "code",
   "execution_count": 6,
   "id": "ea55783d",
   "metadata": {},
   "outputs": [],
   "source": [
    "def colorEnhancement(img):\n",
    "    \"\"\"Converts the image to HSL\n",
    "    Creates two masks to filter white and\n",
    "    lleyow lines\n",
    "    Applies the mask\n",
    "    Be carefull to input an 8bit image!\n",
    "    cv2.IMREAD_COLOR is your friend when using imgread\n",
    "    \"\"\"\n",
    "    hls = cv2.cvtColor(img, cv2.COLOR_BGR2HLS)\n",
    "    ##find lleyows\n",
    "    color1_hls = (70, 120, 0)\n",
    "    color2_hls = (100, 255, 255)\n",
    "    mask1 = cv2.inRange(hls, color1_hls,color2_hls)\n",
    "    \n",
    "    #find whites\n",
    "    color1_hls_w = (0, 220, 0)\n",
    "    color2_hls_w = (180, 255, 255)\n",
    "    mask2 = cv2.inRange(hls, color1_hls_w,color2_hls_w)\n",
    "    \n",
    "    #    Add masks together\n",
    "    mask = cv2.bitwise_or(mask1, mask2)\n",
    "    \n",
    "    res = cv2.bitwise_and(img,img, mask= mask)\n",
    "    return res"
   ]
  },
  {
   "cell_type": "markdown",
   "id": "75eef4d0",
   "metadata": {},
   "source": [
    "### [function] Grayscale"
   ]
  },
  {
   "cell_type": "code",
   "execution_count": 7,
   "id": "e87894d3",
   "metadata": {},
   "outputs": [],
   "source": [
    "def grayscale(img):\n",
    "    \"\"\"Applies the Grayscale transform\n",
    "    This will return an image with only one color channel\n",
    "    but NOTE: to see the returned image as grayscale\n",
    "    (assuming your grayscaled image is called 'gray')\n",
    "    you should call plt.imshow(gray, cmap='gray')\n",
    "    Use cv2.COLOR_RGB2GRAY if you've read in an image using mpimg.imread(). \n",
    "    Use cv2.COLOR_BGR2GRAY if you've read in an image using cv2.imread().\n",
    "    \"\"\"\n",
    "    return cv2.cvtColor(img, cv2.COLOR_BGR2GRAY)"
   ]
  },
  {
   "cell_type": "markdown",
   "id": "1f3f989b",
   "metadata": {},
   "source": [
    "### [function] gaussian_blur"
   ]
  },
  {
   "cell_type": "code",
   "execution_count": 8,
   "id": "85f04a1d",
   "metadata": {},
   "outputs": [],
   "source": [
    "def gaussian_blur(img, kernel_size):\n",
    "    \"\"\"Applies a Gaussian Noise kernel\"\"\"\n",
    "    return cv2.GaussianBlur(img, (kernel_size, kernel_size), 0)"
   ]
  },
  {
   "cell_type": "markdown",
   "id": "dc30229e",
   "metadata": {},
   "source": [
    "### [function] sobel_thresh"
   ]
  },
  {
   "cell_type": "code",
   "execution_count": 9,
   "id": "6fa35f6b",
   "metadata": {},
   "outputs": [],
   "source": [
    "def sobel_thresh(img, sobel_kernel=3, x_thresh=[1,255], y_thresh=[1,255], mag_thresh=[1,255], dir_thresh=[-np.pi/2, np.pi/2]):\n",
    "\n",
    "    # Apply x or y gradient with the OpenCV Sobel() function\n",
    "    # and take the absolute value\n",
    "    sobelx = cv2.Sobel(img, cv2.CV_64F, 1, 0, ksize=sobel_kernel)\n",
    "    scaled_sobelx = np.uint8(255*sobelx/np.max(sobelx))\n",
    "    \n",
    "    sobely = cv2.Sobel(img, cv2.CV_64F, 0, 1, ksize=sobel_kernel)\n",
    "    scaled_sobely = np.uint8(255*sobely/np.max(sobely))\n",
    "    \n",
    "    # 3) Calculate the magnitude \n",
    "    square_sobelx = np.square(sobelx)\n",
    "    square_sobely = np.square(sobely)\n",
    "    abs_sobelxy = np.sqrt(np.add(square_sobelx,square_sobely))   \n",
    "    \n",
    "    # 4) Scale to 8-bit (0 - 255) and convert to type = np.uint8\n",
    "    scaled_sobelxy = np.uint8(255*abs_sobelxy/np.max(abs_sobelxy))\n",
    "    \n",
    "    # 5) Create a binary mask where mag thresholds are met\n",
    "    mag_binary  = np.zeros_like(scaled_sobelxy)\n",
    "    mag_binary [(scaled_sobelxy >= mag_thresh[0]) & (scaled_sobelxy <= mag_thresh[1])] = 1\n",
    "    \n",
    "    # 6) Diretion threshold [0 to π/2.] 0 is vertical an π/2 horizontal\n",
    "    absgraddir = np.arctan2(np.absolute(sobely), np.absolute(sobelx))\n",
    "    \n",
    "    #Converted to 8 bits 0 is vertical an π/2 horizontal\n",
    "    scaled_sobelxydir = np.uint8(255*absgraddir/np.max(absgraddir))\n",
    "    \n",
    "    dir_binary  =  np.zeros_like(scaled_sobelxydir)\n",
    "    dir_binary [(scaled_sobelxydir >= dir_thresh[0]) & (scaled_sobelxydir <= dir_thresh[1])] = 1\n",
    "    \n",
    "    # 7) Sobel x\n",
    "    gradx = np.zeros_like(scaled_sobelx)\n",
    "    gradx[(scaled_sobelx >= x_thresh[0]) & (scaled_sobelx <= x_thresh[1])] = 1\n",
    "    \n",
    "    # 8) Sobel y\n",
    "    grady = np.zeros_like(scaled_sobely)\n",
    "    grady[(scaled_sobely >= y_thresh[0]) & (scaled_sobely <= y_thresh[1])] = 1\n",
    "    \n",
    "    # Create a copy and apply the threshold    \n",
    "    combined = np.zeros_like(scaled_sobelx)\n",
    "    combined[((gradx == 1) & (grady == 1)) | ((mag_binary == 1) & (dir_binary == 1))] = 1\n",
    "\n",
    "    # Return the result\n",
    "    return combined"
   ]
  },
  {
   "cell_type": "markdown",
   "id": "49d059db",
   "metadata": {},
   "source": [
    "### [function] region_of_interest"
   ]
  },
  {
   "cell_type": "code",
   "execution_count": 10,
   "id": "494cfabb",
   "metadata": {},
   "outputs": [],
   "source": [
    "def region_of_interest(img, vertices, overplot=False):\n",
    "    \"\"\"\n",
    "    Applies an image mask.\n",
    "    \n",
    "    Only keeps the region of the image defined by the polygon\n",
    "    formed from `vertices`. The rest of the image is set to black.\n",
    "    `vertices` should be a numpy array of integer points.\n",
    "    \n",
    "    Be aware that if overplot=True image will have 3 color dimensions\n",
    "    instead of one!\n",
    "    \"\"\"\n",
    "    #defining a blank mask to start with\n",
    "    mask = np.zeros_like(img)   \n",
    "    \n",
    "    #defining a 3 channel or 1 channel color to fill the mask with depending on the input image\n",
    "    if len(img.shape) > 2:\n",
    "        channel_count = img.shape[2]  # i.e. 3 or 4 depending on your image\n",
    "        ignore_mask_color = (255,) * channel_count\n",
    "    else:\n",
    "        ignore_mask_color = 255\n",
    "        \n",
    "    #filling pixels inside the polygon defined by \"vertices\" with the fill color    \n",
    "    cv2.fillPoly(mask, vertices, ignore_mask_color)\n",
    "    \n",
    "    #returning the image only where mask pixels are nonzero\n",
    "    masked_image = cv2.bitwise_and(img, mask)\n",
    "    \n",
    "    if overplot:    \n",
    "        rgbROI = np.dstack((img*255, img*255, img*255))\n",
    "        maskContour = cv2.polylines(rgbROI,[vertices],True,(0,0,255),thickness=5)\n",
    "        masked_image = cv2.addWeighted(rgbROI, 1, maskContour, 0.8, 0)\n",
    "\n",
    "    \n",
    "    return masked_image"
   ]
  },
  {
   "cell_type": "markdown",
   "id": "36978a88",
   "metadata": {},
   "source": [
    "### [function] draw_lines"
   ]
  },
  {
   "cell_type": "code",
   "execution_count": 11,
   "id": "c938e942",
   "metadata": {},
   "outputs": [],
   "source": [
    "def draw_lines(img, lines, color=[255, 0, 0], thickness=2):\n",
    "    \"\"\"\n",
    "    This function draws `lines` with `color` and `thickness`.    \n",
    "    Lines are drawn on the image inplace (mutates the image).\n",
    "    If you want to make the lines semi-transparent, think about combining\n",
    "    this function with the weighted_img() function below\n",
    "    \"\"\" \n",
    "    for line in lines:\n",
    "        #print(line)\n",
    "        for x1,y1,x2,y2 in line:\n",
    "            cv2.line(img, (x1, y1), (x2, y2), color, thickness)"
   ]
  },
  {
   "cell_type": "markdown",
   "id": "affc461e",
   "metadata": {},
   "source": [
    "### [function] hough_lines"
   ]
  },
  {
   "cell_type": "code",
   "execution_count": 12,
   "id": "1f6affc1",
   "metadata": {},
   "outputs": [],
   "source": [
    "def hough_lines(img, rho, theta, threshold, min_line_len, max_line_gap):\n",
    "    \"\"\"\n",
    "    `img` should be a np.array image\n",
    "    Returns an image with hough lines drawn and the hough lines points.\n",
    "    \"\"\"\n",
    "    lines = cv2.HoughLinesP(img, rho, theta, threshold, np.array([]), minLineLength=min_line_len, maxLineGap=max_line_gap)\n",
    "    line_img = np.zeros((img.shape[0], img.shape[1]), dtype=np.uint8)\n",
    "\n",
    "    \n",
    "    try:\n",
    "        draw_lines(line_img, lines, color=[255, 0, 0], thickness=4)\n",
    "    except:\n",
    "        lines = []\n",
    "        print(\"No line found\")\n",
    "        pass\n",
    "    return line_img,lines"
   ]
  },
  {
   "cell_type": "markdown",
   "id": "d8124b2b",
   "metadata": {},
   "source": [
    "### [function] Warp images"
   ]
  },
  {
   "cell_type": "code",
   "execution_count": 13,
   "id": "6128bf09",
   "metadata": {},
   "outputs": [],
   "source": [
    "def warp_image(img,conversion = 'warp' ,hwidth = 250 ,offset = -0, height = -450, overplotLines= True ):\n",
    "    \n",
    "    #Source\n",
    "    # Place source points for uimage wrapping\n",
    "    dotS_UL=[592,450]; dotS_UR= [692,450]\n",
    "    dotS_LL=[195,720] ; dotS_LR= [1120,720]\n",
    "\n",
    "    src= np.float32([dotS_UL,dotS_LL,dotS_LR,dotS_UR])\n",
    "\n",
    "    # Create and plot source plane\n",
    "    xs = [x[0] for x in src]\n",
    "    ys = [x[1] for x in src]\n",
    "\n",
    "    if overplotLines:\n",
    "        plt.plot(xs,ys, 'ro-')\n",
    "\n",
    "    #Destination\n",
    "    dotD_UL=[offset+(1280//2)-hwidth,height]; dotD_UR= [offset+(1280//2)+hwidth,height]\n",
    "    dotD_LL=[offset+(1280//2)-hwidth,720] ; dotD_LR= [offset+(1280//2)+hwidth,720]\n",
    "\n",
    "    dst= np.float32([dotD_UL,dotD_LL,dotD_LR,dotD_UR])\n",
    "\n",
    "    xd = [x[0] for x in dst]\n",
    "    yd = [x[1] for x in dst]\n",
    "\n",
    "    if overplotLines:\n",
    "        plt.plot(xd,yd, 'bo-')\n",
    "\n",
    "    # Create and plot source plane\n",
    "    xd = [x[0] for x in dst]\n",
    "    yd = [x[1] for x in dst]\n",
    "    \n",
    "    #Computye perspective transform\n",
    "    M = cv2.getPerspectiveTransform(dst,src)\n",
    "    Minv = cv2.getPerspectiveTransform(src, dst)\n",
    "    if conversion == 'unwarp':\n",
    "        warped = cv2.warpPerspective(img, M, (1280,720), flags=cv2.INTER_LINEAR)\n",
    "    else:\n",
    "        warped = cv2.warpPerspective(img, Minv, (1280,720), flags=cv2.INTER_LINEAR)\n",
    "        \n",
    "    \n",
    "    return warped, M, Minv"
   ]
  },
  {
   "cell_type": "markdown",
   "id": "b8f9744b",
   "metadata": {},
   "source": [
    "### [function] find_lane_x_points"
   ]
  },
  {
   "cell_type": "code",
   "execution_count": 14,
   "id": "a219c4ce",
   "metadata": {},
   "outputs": [],
   "source": [
    "def find_lane_x_points(binary_warped):\n",
    "    # Take a histogram of the bottom half of the image\n",
    "    histogram = np.sum(binary_warped[binary_warped.shape[0]//2:,:], axis=0)\n",
    "    # Create an output image to draw on and visualize the result\n",
    "    out_img = np.dstack((binary_warped, binary_warped, binary_warped))\n",
    "    # Find the peak of the left and right halves of the histogram\n",
    "    # These will be the starting point for the left and right lines\n",
    "    midpoint = int(histogram.shape[0]//2)\n",
    "    leftx_base = np.argmax(histogram[:midpoint])\n",
    "    rightx_base = np.argmax(histogram[midpoint:]) + midpoint\n",
    "    return leftx_base,rightx_base"
   ]
  },
  {
   "cell_type": "markdown",
   "id": "e7aabb41",
   "metadata": {},
   "source": [
    "### [function] find_lane_pixels"
   ]
  },
  {
   "cell_type": "code",
   "execution_count": 15,
   "id": "bab0fda7",
   "metadata": {},
   "outputs": [],
   "source": [
    "def find_lane_pixels(binary_warped, leftx_base, rightx_base, showRectangles = True):\n",
    "    # HYPERPARAMETERS\n",
    "    # Choose the number of sliding windows\n",
    "    nwindows = 5\n",
    "    # Set the width of the windows +/- margin\n",
    "    margin = 120\n",
    "    # Set minimum number of pixels found to recenter window\n",
    "    minpix = 40\n",
    "    \n",
    "    # Create an output image to draw on and visualize the result\n",
    "    out_img = np.dstack((binary_warped, binary_warped, binary_warped))\n",
    "\n",
    "    # Set height of windows - based on nwindows above and image shape\n",
    "    window_height = int(binary_warped.shape[0]//nwindows)\n",
    "    \n",
    "    # Identify the x and y positions of all nonzero pixels in the image\n",
    "    \n",
    "    nonzero = binary_warped.nonzero() # Returns indeices of noncero elements\n",
    "    \n",
    "    nonzeroy = np.array(nonzero[0])\n",
    "    nonzerox = np.array(nonzero[1])\n",
    "    \n",
    "    # Current positions to be updated later for each window in nwindows\n",
    "    leftx_current = leftx_base\n",
    "    rightx_current = rightx_base\n",
    "\n",
    "    # Create empty lists to receive left and right lane pixel indices\n",
    "    left_lane_inds = []\n",
    "    right_lane_inds = []\n",
    "    fillx_R = np.array(False)\n",
    "    filly_R = np.array(False)\n",
    "    fillx_L = np.array(False)\n",
    "    filly_L = np.array(False)\n",
    "\n",
    "    # Step through the windows one by one\n",
    "    for window in range(nwindows):\n",
    "        # Identify window boundaries in x and y (and right and left)\n",
    "        win_y_low = binary_warped.shape[0] - (window+1)*window_height\n",
    "        win_y_high = binary_warped.shape[0] - window*window_height\n",
    "        \n",
    "        #The four below boundaries of the window \n",
    "        win_xleft_low =  leftx_current - margin//2\n",
    "        win_xleft_high = leftx_current  + margin//2\n",
    "        \n",
    "        win_xright_low = rightx_current  - margin//2\n",
    "        win_xright_high = rightx_current  + margin//2\n",
    "        \n",
    "        # Draw the windows on the visualization image\n",
    "        if showRectangles:\n",
    "            cv2.rectangle(out_img,(win_xleft_low,win_y_low),\n",
    "        (win_xleft_high,win_y_high),(0,255,0), 2) \n",
    "        \n",
    "            cv2.rectangle(out_img,(win_xright_low,win_y_low),\n",
    "        (win_xright_high,win_y_high),(0,255,0), 2) \n",
    "        \n",
    "\n",
    "        ###Identify the nonzero pixels in x and y within the window ###\n",
    "        good_left_inds = ((nonzeroy >= win_y_low) & (nonzeroy < win_y_high) & \n",
    "        (nonzerox >= win_xleft_low) &  (nonzerox < win_xleft_high)).nonzero()[0]\n",
    "        \n",
    "        good_right_inds = ((nonzeroy >= win_y_low) & (nonzeroy < win_y_high) & \n",
    "        (nonzerox >= win_xright_low) &  (nonzerox < win_xright_high)).nonzero()[0]\n",
    "        \n",
    "        if window == 0:\n",
    "            for  y in range (win_y_low,win_y_high):\n",
    "                thisx_R = np.linspace(win_xright_low,win_xright_high, 100, dtype=np.int32)               \n",
    "                fillx_R = np.append(fillx_R,thisx_R )\n",
    "                filly_R = np.append(filly_R,np.ones(thisx_R.shape, dtype=np.int32)*y)\n",
    "                \n",
    "                thisx_L = np.linspace(win_xleft_low,win_xleft_high, 100, dtype=np.int32)\n",
    "                fillx_L = np.append(fillx_L,thisx_L )\n",
    "                filly_L = np.append(filly_L,np.ones(thisx_L.shape, dtype=np.int32)*y)\n",
    "               \n",
    "        \n",
    "        # Append these indices to the lists\n",
    "        left_lane_inds.append(good_left_inds)\n",
    "        right_lane_inds.append(good_right_inds)\n",
    "        \n",
    "        #If you found > minpix pixels, recenter next window\n",
    "        if len(good_left_inds) > minpix:\n",
    "            leftx_current = int(np.mean(nonzerox[good_left_inds]))\n",
    "            \n",
    "        if len(good_right_inds) > minpix:        \n",
    "            rightx_current = int(np.mean(nonzerox[good_right_inds]))\n",
    "\n",
    "    # Concatenate the arrays of indices (previously was a list of lists of pixels)\n",
    "    try:\n",
    "        left_lane_inds = np.concatenate(left_lane_inds)\n",
    "    except ValueError:\n",
    "        # Avoids an error if the above is not implemented fully\n",
    "        pass\n",
    "    # Seaparate left and right o avoid error propagation\n",
    "    try:\n",
    "        right_lane_inds = np.concatenate(right_lane_inds)\n",
    "    except ValueError:\n",
    "        # Avoids an error if the above is not implemented fully\n",
    "        pass\n",
    "    \n",
    "\n",
    "    # Extract left and right line pixel positions\n",
    "    leftx = nonzerox[left_lane_inds] \n",
    "    lefty = nonzeroy[left_lane_inds] \n",
    "    \n",
    "    leftx = np.concatenate((leftx,fillx_L))\n",
    "    lefty = np.concatenate((lefty,filly_L))\n",
    "\n",
    "    rightx = nonzerox[right_lane_inds]\n",
    "    righty = nonzeroy[right_lane_inds]\n",
    "    \n",
    "    rightx = np.concatenate((rightx,fillx_R))\n",
    "    righty = np.concatenate((righty,filly_R))\n",
    "    \n",
    "    # Colors in the left and right lane regions\n",
    "    out_img[lefty, leftx] = [255, 0, 0]\n",
    "    out_img[righty, rightx] = [0, 0, 255]\n",
    "\n",
    "    return leftx, lefty, rightx, righty, out_img"
   ]
  },
  {
   "cell_type": "markdown",
   "id": "231c91d7",
   "metadata": {},
   "source": [
    "### [function] fit_polynomial"
   ]
  },
  {
   "cell_type": "code",
   "execution_count": 16,
   "id": "fccc0323",
   "metadata": {},
   "outputs": [],
   "source": [
    "def fit_polynomial(binary_warped,xPixels,yPixels, drawPoly = True):\n",
    "    \n",
    "    # Generate x and y values for plotting\n",
    "    ploty = np.linspace(0, binary_warped.shape[0]-1, binary_warped.shape[0])\n",
    "    try:\n",
    "        # Fit a second order polynomial to each using `np.polyfit`\n",
    "        coeffs_fit = np.polyfit(yPixels, xPixels, 2)\n",
    "        line_fitx = np.polyval(coeffs_fit, ploty)  # evaluate the polynomial\n",
    "        lineDetected = True\n",
    "    except TypeError:\n",
    "        # Avoids an error if `left` and `right_fit` are still none or incorrect\n",
    "        print('The function failed to fit a line!')\n",
    "        coeffs_fit = [np.array([False])]  \n",
    "        line_fitx = [np.array([False])]  \n",
    "        lineDetected = False\n",
    "        return coeffs_fit, lineDetected, line_fitx, ploty, out_img\n",
    "        \n",
    "\n",
    "    # Plots the left and right polynomials on the lane lines\n",
    "    if drawPoly:\n",
    "        verts = np.array(list(zip(line_fitx.astype(np.int32),ploty.astype(np.int32))))\n",
    "        line_img = cv2.polylines(binary_warped,[verts],False,(0,0,255),thickness=4)\n",
    "    \n",
    "        out_img = cv2.addWeighted(line_img, 1, binary_warped, 1, 0) \n",
    "    else:\n",
    "        out_img = binary_warped\n",
    "\n",
    "\n",
    "    return  coeffs_fit, lineDetected, line_fitx, ploty, out_img"
   ]
  },
  {
   "cell_type": "markdown",
   "id": "34ee7aa6",
   "metadata": {},
   "source": [
    "### [function]search_around_poly"
   ]
  },
  {
   "cell_type": "code",
   "execution_count": 17,
   "id": "c0700943",
   "metadata": {},
   "outputs": [],
   "source": [
    "def search_around_poly(binary_warped, lineLane):\n",
    "    # Width of the margin around the previous polynomial to search\n",
    "    margin = 100\n",
    "        \n",
    "    # Grab activated pixels\n",
    "    nonzero = binary_warped.nonzero()\n",
    "    nonzeroy = np.array(nonzero[0])\n",
    "    nonzerox = np.array(nonzero[1])\n",
    "    \n",
    "    \n",
    "    lane_inds = ((nonzerox > (lineLane.poly_best_fit[0]*(nonzeroy**2) + lineLane.poly_best_fit[1]*nonzeroy + \n",
    "                lineLane.poly_best_fit[2] - margin)) & (nonzerox < (lineLane.poly_best_fit[0]*(nonzeroy**2) + \n",
    "                lineLane.poly_best_fit[1]*nonzeroy + lineLane.poly_best_fit[2] + margin)))\n",
    "    \n",
    "    leftx = nonzerox[lane_inds]\n",
    "    lefty = nonzeroy[lane_inds] \n",
    "    \n",
    "    lineDetected = True\n",
    "    coeffs_fit = np.polyfit(lefty, leftx, 2)\n",
    "    line_fitx = np.polyval(coeffs_fit, lineLane.poly_ploty)  # evaluate the polynomial   \n",
    "    \n",
    "    \n",
    "    # Create an output image to draw on and visualize the result\n",
    "    if len(binary_warped.shape) < 3:\n",
    "        out_img = np.dstack((binary_warped, binary_warped, binary_warped))\n",
    "    else:\n",
    "        out_img = binary_warped\n",
    "        \n",
    "    out_img[lefty, leftx] = [255, 0, 0]\n",
    "    \n",
    "    return leftx,lefty, coeffs_fit, lineDetected, line_fitx, out_img"
   ]
  },
  {
   "cell_type": "markdown",
   "id": "fef3442a",
   "metadata": {},
   "source": [
    "### [function] similarCurvature"
   ]
  },
  {
   "cell_type": "code",
   "execution_count": 18,
   "id": "e47e7641",
   "metadata": {},
   "outputs": [],
   "source": [
    "def similarCurvature(lineLeft,lineRight):\n",
    "    \"\"\"This function evaluates if both lanes \n",
    "    are concave/convex\n",
    "    \"\"\"\n",
    "    return True"
   ]
  },
  {
   "cell_type": "markdown",
   "id": "ccbe362f",
   "metadata": {},
   "source": [
    "### [function] rightSeparation"
   ]
  },
  {
   "cell_type": "code",
   "execution_count": 19,
   "id": "343ff419",
   "metadata": {},
   "outputs": [],
   "source": [
    "def rightSeparation(left_fitx, right_fitx, limitDist = 50):\n",
    "    \"\"\"This function evaluates if both lanes \n",
    "    are separated rougly the same ammount\n",
    "    it takes into consideration only the maximum deviation\n",
    "    \"\"\"       \n",
    "    dist = right_fitx-left_fitx\n",
    "    maxDist = dist.max() - dist.min()\n",
    "    #print(maxDist)\n",
    "    if  maxDist < limitDist:\n",
    "        return True\n",
    "    else:\n",
    "        return False"
   ]
  },
  {
   "cell_type": "markdown",
   "id": "06c94adc",
   "metadata": {},
   "source": [
    "### [function] areParallel"
   ]
  },
  {
   "cell_type": "code",
   "execution_count": 20,
   "id": "ddf00e1d",
   "metadata": {},
   "outputs": [],
   "source": [
    "def areParallel(lineLeft,lineRight, margin=100):\n",
    "    \"\"\"This function evaluates both line \n",
    "    polynoms at different y heights and\n",
    "    detects if the separation is within \n",
    "    a specific range thorugghout the frame  \n",
    "    \"\"\"\n",
    "    \n",
    "    return True"
   ]
  },
  {
   "cell_type": "markdown",
   "id": "fdbe707f",
   "metadata": {},
   "source": [
    "### [function] calculateDeviation"
   ]
  },
  {
   "cell_type": "code",
   "execution_count": 21,
   "id": "147065b0",
   "metadata": {},
   "outputs": [],
   "source": [
    "def calculateDeviation(img, lineLeft,lineRight, ):\n",
    "    \"\"\"This function calculates \n",
    "    the deviation of the vehicle from the center of the \n",
    "    image\n",
    "    \"\"\"\n",
    "    frameCenter = np.mean([lineLeft.bestx,lineRight.bestx] , dtype=np.int32)\n",
    "    imgCenter = img.shape[1]//2\n",
    "    \n",
    "    dev = frameCenter - imgCenter\n",
    "    \n",
    "    xm_per_pix = 3.7/450 # meters per pixel in x dimension\n",
    "    \n",
    "    result = dev*xm_per_pix\n",
    "    \n",
    "    # Moving average deviation (Not needed as applied to bestx)\n",
    "    #x = np.append(lineLeft.center_deviation, [dev])\n",
    "    #result = moving_average(x, movingAvg)[-1]\n",
    "    #lineLeft.center_deviation = np.append(lineLeft.center_deviation, result)  \n",
    "    \n",
    "    if dev > 0.01:\n",
    "        text = \"Vehicle is {:.2f} m -->\".format(abs(result))\n",
    "    elif dev < -0.01:\n",
    "        text = \"Vehicle is {:.2f} m <--\".format(abs(result))\n",
    "    else:\n",
    "        text = \"Vehicle is spot on center!\"\n",
    "    \n",
    "    \n",
    "    return result , text"
   ]
  },
  {
   "cell_type": "markdown",
   "id": "5f67b4bd",
   "metadata": {},
   "source": [
    "### [function]checkRadius"
   ]
  },
  {
   "cell_type": "code",
   "execution_count": 22,
   "id": "4adbcb83",
   "metadata": {},
   "outputs": [],
   "source": [
    "def checkRadius(lineLeft, lineRight, limitStraight=10000,movingAvg = 30 ):\n",
    "    \n",
    "    if (lineLeft.radius_of_curvature and lineRight.radius_of_curvature ):\n",
    "    \n",
    "        diff = abs(lineLeft.radius_of_curvature-lineRight.radius_of_curvature)\n",
    "\n",
    "        mean = np.mean([lineLeft.radius_of_curvature ,lineRight.radius_of_curvature] )\n",
    "\n",
    "        x = np.append(lineLeft.list_radius, [mean])\n",
    "\n",
    "        result = moving_average(x, movingAvg)[-1]\n",
    "\n",
    "        lineLeft.list_radius = np.append(lineLeft.list_radius, result)   \n",
    "\n",
    "\n",
    "        text = \"Radius of curvature {:.0f} m\".format(abs(result)) \n",
    "        if result > limitStraight:\n",
    "            text = \"Straight Line\".format(abs(result))\n",
    "\n",
    "    else:\n",
    "        diff = 0\n",
    "        result = 0\n",
    "        text = \"No line found\"\n",
    "\n",
    "    return diff, result, text"
   ]
  },
  {
   "cell_type": "markdown",
   "id": "45eceb31",
   "metadata": {},
   "source": [
    "# Convert notebook into .py script"
   ]
  },
  {
   "cell_type": "code",
   "execution_count": 23,
   "id": "f3cf274c",
   "metadata": {},
   "outputs": [
    {
     "name": "stderr",
     "output_type": "stream",
     "text": [
      "[NbConvertApp] Converting notebook 0. Functions_Clases Pipeline.ipynb to script\n",
      "[NbConvertApp] Writing 20100 bytes to 0. Functions_Clases Pipeline.py\n"
     ]
    }
   ],
   "source": [
    "import os\n",
    "# Remove existing .py script if exists\n",
    "try:\n",
    "    os.remove(\"0. Functions_Clases Pipeline.py\")\n",
    "except:\n",
    "    pass\n",
    "\n",
    "\n",
    "!jupyter nbconvert --to script \"0. Functions_Clases Pipeline.ipynb\""
   ]
  },
  {
   "cell_type": "code",
   "execution_count": null,
   "id": "eccab7de",
   "metadata": {},
   "outputs": [],
   "source": []
  }
 ],
 "metadata": {
  "kernelspec": {
   "display_name": "Python 3",
   "language": "python",
   "name": "python3"
  },
  "language_info": {
   "codemirror_mode": {
    "name": "ipython",
    "version": 3
   },
   "file_extension": ".py",
   "mimetype": "text/x-python",
   "name": "python",
   "nbconvert_exporter": "python",
   "pygments_lexer": "ipython3",
   "version": "3.8.8"
  }
 },
 "nbformat": 4,
 "nbformat_minor": 5
}
