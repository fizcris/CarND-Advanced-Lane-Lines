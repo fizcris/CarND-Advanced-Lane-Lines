{
 "cells": [
  {
   "cell_type": "markdown",
   "id": "b13d48ba",
   "metadata": {},
   "source": [
    "# Videos Pipeline"
   ]
  },
  {
   "cell_type": "code",
   "execution_count": 1,
   "id": "853e34a9",
   "metadata": {},
   "outputs": [
    {
     "name": "stderr",
     "output_type": "stream",
     "text": [
      "[NbConvertApp] Converting notebook 0. Functions_Clases Pipeline.ipynb to script\n",
      "[NbConvertApp] Writing 19633 bytes to 0. Functions_Clases Pipeline.py\n"
     ]
    }
   ],
   "source": [
    "# Import everything needed to edit/save/watch video clips\n",
    "from moviepy.editor import VideoFileClip\n",
    "from IPython.display import HTML\n",
    "\n",
    "# load helper functions\n",
    "%run -i \"0. Functions_Clases Pipeline.py\"\n",
    "%run -i \"Line.py\"\n",
    "\n",
    "# Load Camera calibration params\n",
    "[ret, mtx, dist, rvecs, tvecs] = pickle.load(open( \"pickle_data/camera_calibration_params.p\", \"rb\" ) )\n"
   ]
  },
  {
   "cell_type": "code",
   "execution_count": 2,
   "id": "7adf3952",
   "metadata": {},
   "outputs": [],
   "source": [
    "from time import time\n",
    "def process_frame_profiling(img):\n",
    "    \n",
    "    ###### Resize image\n",
    "    start = time()\n",
    "    img = resizeImage(img)\n",
    "    end = time()\n",
    "    print(f'resizeImage took {end - start} seconds!')\n",
    "    \n",
    "    ###### Undistort image\n",
    "    start = time()\n",
    "    undistorted = undistort_image(img, mtx, dist)\n",
    "    end = time()\n",
    "    print(f'undistorted took {end - start} seconds!')\n",
    "    \n",
    "    ###### Color Enhancement\n",
    "    start = time()\n",
    "    imageCE = colorEnhancement(img)\n",
    "    end = time()\n",
    "    print(f'colorEnhancement took {end - start} seconds!')\n",
    "    \n",
    "   \n",
    "    ###### GrayScale\n",
    "    start = time()\n",
    "    imageGray = grayscale(imageCE)\n",
    "    end = time()\n",
    "    print(f'grayscale took {end - start} seconds!') \n",
    "\n",
    "    ###### Gauss Smoothing\n",
    "    start = time()\n",
    "    imageGauss = gaussian_blur(imageGray,kernel_size=5)\n",
    "    end = time()\n",
    "    print(f'gaussian_blur took {end - start} seconds!') \n",
    "    \n",
    "    #### Edge detection\n",
    "    start = time()\n",
    "    sbinary = sobel_thresh(imageGauss, sobel_kernel=5, x_thresh=[80,100], y_thresh=[40,100], mag_thresh=[50,255], dir_thresh=[100,200])\n",
    "    end = time()\n",
    "    print(f'sobel_thresh took {end - start} seconds!') \n",
    "    \n",
    "    #### ROI\n",
    "    start = time()\n",
    "    ysize =sbinary.shape[0]\n",
    "    xsize =sbinary.shape[1]\n",
    "\n",
    "    ROI_upperWidth = 350 #Width of the upper horizontal straight in px\n",
    "    ROI_upperHeight = 300 #Height of the upper horizontal straight from the bottom of the image in px\n",
    "    ROI_lowerWidth = 1000 #Width of the lower horizontal straight in px\n",
    "    ROI_lowerHeight = 50  #Height of the lower horizontal straight  from the bottom of the image in px      \n",
    "\n",
    "    limitLL = ((xsize/2)-(ROI_lowerWidth/2),ysize-ROI_lowerHeight);\n",
    "    limitLR = (xsize - ((xsize/2)-(ROI_lowerWidth/2)),ysize-ROI_lowerHeight);\n",
    "    limitUL = ((xsize/2)-(ROI_upperWidth/2), ysize-ROI_upperHeight);\n",
    "    limitUR = ((xsize/2)+(ROI_upperWidth/2), ysize-ROI_upperHeight);\n",
    "    vertices = np.array([[limitLL,limitUL,limitUR , limitLR]], dtype=np.int32)\n",
    "    \n",
    "    imageROI = region_of_interest(sbinary,vertices)\n",
    "\n",
    "    end = time()\n",
    "    print(f'region_of_interest took {end - start} seconds!')\n",
    "    \n",
    "    #### Perspective transform\n",
    "    start = time()\n",
    "    warped_img,M, Minv = warp_image(imageROI, hwidth = 250 ,offset = 0, height = -600, overplotLines= False )\n",
    "    end = time()\n",
    "    print(f'warp_image took {end - start} seconds!')\n",
    "    \n",
    "    #### Find lines\n",
    "    \n",
    "    # Find x line poitns based on histogram values\n",
    "    leftx_base, rightx_base  = find_lane_x_points(warped_img)\n",
    "    \n",
    "    # Update x base points\n",
    "    lineLeft.updateXbase(leftx_base)\n",
    "    lineRight.updateXbase(rightx_base)\n",
    "    \n",
    "    \n",
    "    #Speed up coef with area search\n",
    "    #Left line\n",
    "    if lineLeft.missdetections > 0 or np.any((lineLeft.recent_poly_fits == 0)):\n",
    "        ## Find lane pixels\n",
    "        start = time()\n",
    "        leftx, lefty, rightx, righty, out_img = find_lane_pixels(warped_img, lineLeft.bestx, lineRight.bestx, showRectangles = False)\n",
    "        end = time()\n",
    "        print(f'find_lane_pixels took {end - start} seconds!')\n",
    "        ## Update lane pixels\n",
    "        lineLeft.updatePixels(leftx, lefty)   \n",
    "\n",
    "        # Search blindly image\n",
    "        start = time()\n",
    "        coeffs_fit_L, lineDetectedL, left_fitx, ploty, img_line  = fit_polynomial(out_img, lineLeft.allx, lineLeft.ally, drawPoly = False)\n",
    "        end = time()\n",
    "        print(f'Search blindly image {end - start} seconds!')\n",
    "        \n",
    "    else:\n",
    "        # Search based on coefs\n",
    "        start = time()\n",
    "        leftx, lefty, coeffs_fit_L, lineDetectedL, left_fitx, out_img = search_around_poly(warped_img, lineLeft)\n",
    "        end = time()\n",
    "        print(f'Search based on coefs {end - start} seconds!')\n",
    "        lineLeft.updatePixels(leftx, lefty)  \n",
    "\n",
    "    #Right line\n",
    "    if lineRight.missdetections > 0 or np.any((lineRight.recent_poly_fits == 0)):\n",
    "        ## Update lane pixels\n",
    "        lineRight.updatePixels(rightx, righty)\n",
    "        \n",
    "        # Search blindly image\n",
    "        coeffs_fit_R, lineDetectedR, right_fitx, ploty, img_line  = fit_polynomial(out_img, lineRight.allx, lineRight.ally, drawPoly = False)\n",
    "    else:\n",
    "        # Search based on coefs\n",
    "        rightx, righty, coeffs_fit_R, lineDetectedR, right_fitx, out_img = search_around_poly(out_img, lineRight)   \n",
    "        lineRight.updatePixels(rightx, righty)\n",
    "        \n",
    "           \n",
    "    #Update line class instances\n",
    "\n",
    "    lineLeft.updateCoeffsLine(lineDetectedL, coeffs_fit_L, left_fitx, lineLeft.poly_ploty,coefLimits=[0.01,1,100],movingAvg=5 )\n",
    "    lineRight.updateCoeffsLine(lineDetectedR, coeffs_fit_R,right_fitx,lineRight.poly_ploty,coefLimits=[0.01,1,100],movingAvg=5 )\n",
    "    \n",
    "        \n",
    "    \n",
    "    ### Unwarp images\n",
    "    \n",
    "    #color_warp = np.zeros_like(out_img).astype(np.uint8)\n",
    "    color_warp = out_img\n",
    "    #color_warp = np.dstack((warp_zero, warp_zero, warp_zero))\n",
    "    \n",
    "    pts_left = np.array([np.transpose(np.vstack([lineLeft.poly_plotx, lineLeft.poly_ploty]))])\n",
    "    pts_right = np.array([np.flipud(np.transpose(np.vstack([lineRight.poly_plotx, lineRight.poly_ploty])))])\n",
    "    pts = np.hstack((pts_left, pts_right))\n",
    "    \n",
    "     \n",
    "    #Draw the lane onto the warped blank image\n",
    "    start = time()\n",
    "    cv2.fillPoly(color_warp, np.int_([pts]), (0,255, 0))\n",
    "    \n",
    "    \n",
    "    newwarp = cv2.warpPerspective(color_warp, M, (img.shape[1], img.shape[0])) \n",
    "    result = cv2.addWeighted(img, 1, newwarp, 0.8, 0)\n",
    "    \n",
    "    end = time()\n",
    "    print(f'Draw the lane {end - start} seconds!')\n",
    "    \n",
    "    ### Anotate Radius of curvature\n",
    "    start = time()\n",
    "    diff, mean, text = checkRadius(lineLeft, lineRight )\n",
    "\n",
    "    result_annotated = cv2.putText(result, text, org= (50, 50), fontFace=cv2.FONT_HERSHEY_SIMPLEX, \n",
    "                   fontScale=2, color= (255, 255, 255), thickness=2, lineType=cv2.LINE_AA)\n",
    "    \n",
    "    end = time()\n",
    "    print(f'Radius of curvature {end - start} seconds!')\n",
    "    ### Anotate Vehicle position\n",
    "    start = time()\n",
    "    dev, text = calculateDeviation(result, lineLeft,lineRight,)\n",
    "\n",
    "    result_annotated = cv2.putText(result, text, org= (50, 100), fontFace=cv2.FONT_HERSHEY_SIMPLEX, \n",
    "                       fontScale=2, color= (255, 255, 255), thickness=2, lineType=cv2.LINE_AA)\n",
    "      \n",
    "    end = time()\n",
    "    print(f'Vehicle position {end - start} seconds!')   \n",
    "    #out = np.dstack((out_img*255, out_img*255, out_img*255))\n",
    "    \n",
    "    return result_annotated"
   ]
  },
  {
   "cell_type": "code",
   "execution_count": 3,
   "id": "e5462762",
   "metadata": {
    "scrolled": false
   },
   "outputs": [
    {
     "name": "stdout",
     "output_type": "stream",
     "text": [
      "resizeImage took 0.0 seconds!\n",
      "undistorted took 0.023970365524291992 seconds!\n",
      "colorEnhancement took 0.009995222091674805 seconds!\n",
      "grayscale took 0.0009992122650146484 seconds!\n",
      "gaussian_blur took 0.00099945068359375 seconds!\n",
      "sobel_thresh took 0.0997314453125 seconds!\n",
      "region_of_interest took 0.0 seconds!\n",
      "warp_image took 0.0 seconds!\n",
      "find_lane_pixels took 0.027791738510131836 seconds!\n",
      "Search blindly image 0.012993335723876953 seconds!\n"
     ]
    },
    {
     "name": "stderr",
     "output_type": "stream",
     "text": [
      "\r",
      "t:   0%|                                                                              | 0/25 [00:00<?, ?it/s, now=None]"
     ]
    },
    {
     "name": "stdout",
     "output_type": "stream",
     "text": [
      "Draw the lane 0.0059967041015625 seconds!\n",
      "Radius of curvature 0.0019981861114501953 seconds!\n",
      "Vehicle position 0.0021066665649414062 seconds!\n",
      "Moviepy - Building video output_videos/solidWhiteRight.mp4.\n",
      "Moviepy - Writing video output_videos/solidWhiteRight.mp4\n",
      "\n",
      "resizeImage took 0.0 seconds!\n",
      "undistorted took 0.022987842559814453 seconds!\n",
      "colorEnhancement took 0.014991521835327148 seconds!\n",
      "grayscale took 0.0009999275207519531 seconds!\n",
      "gaussian_blur took 0.0009984970092773438 seconds!\n",
      "sobel_thresh took 0.1495044231414795 seconds!\n",
      "region_of_interest took 0.0009996891021728516 seconds!\n",
      "warp_image took 0.003997087478637695 seconds!\n",
      "Search based on coefs 0.01399087905883789 seconds!\n",
      "Draw the lane 0.009992837905883789 seconds!\n",
      "Radius of curvature 0.001993894577026367 seconds!\n",
      "Vehicle position 0.0010023117065429688 seconds!\n"
     ]
    },
    {
     "name": "stderr",
     "output_type": "stream",
     "text": [
      "\r",
      "t:   8%|█████▌                                                                | 2/25 [00:01<00:18,  1.25it/s, now=None]"
     ]
    },
    {
     "name": "stdout",
     "output_type": "stream",
     "text": [
      "resizeImage took 0.0 seconds!\n",
      "undistorted took 0.02999281883239746 seconds!\n",
      "colorEnhancement took 0.009887933731079102 seconds!\n",
      "grayscale took 0.0019969940185546875 seconds!\n",
      "gaussian_blur took 0.0009965896606445312 seconds!\n",
      "sobel_thresh took 0.10873818397521973 seconds!\n",
      "region_of_interest took 0.0 seconds!\n",
      "warp_image took 0.0 seconds!\n",
      "Search based on coefs 0.01322031021118164 seconds!\n",
      "Draw the lane 0.005995988845825195 seconds!\n"
     ]
    },
    {
     "name": "stderr",
     "output_type": "stream",
     "text": [
      "\r",
      "t:  12%|████████▍                                                             | 3/25 [00:01<00:12,  1.80it/s, now=None]"
     ]
    },
    {
     "name": "stdout",
     "output_type": "stream",
     "text": [
      "Radius of curvature 0.0010001659393310547 seconds!\n",
      "Vehicle position 0.0019981861114501953 seconds!\n",
      "resizeImage took 0.0 seconds!\n",
      "undistorted took 0.025985002517700195 seconds!\n",
      "colorEnhancement took 0.010994434356689453 seconds!\n",
      "grayscale took 0.001998424530029297 seconds!\n",
      "gaussian_blur took 0.0009992122650146484 seconds!\n"
     ]
    },
    {
     "name": "stderr",
     "output_type": "stream",
     "text": [
      "\r",
      "t:  16%|███████████▏                                                          | 4/25 [00:02<00:09,  2.23it/s, now=None]"
     ]
    },
    {
     "name": "stdout",
     "output_type": "stream",
     "text": [
      "sobel_thresh took 0.1492171287536621 seconds!\n",
      "region_of_interest took 0.0009987354278564453 seconds!\n",
      "warp_image took 0.005993843078613281 seconds!\n",
      "Search based on coefs 0.012991905212402344 seconds!\n",
      "Draw the lane 0.005997180938720703 seconds!\n",
      "Radius of curvature 0.00099945068359375 seconds!\n",
      "Vehicle position 0.0 seconds!\n",
      "resizeImage took 0.0 seconds!\n",
      "undistorted took 0.020987272262573242 seconds!\n",
      "colorEnhancement took 0.008999347686767578 seconds!\n",
      "grayscale took 0.0019974708557128906 seconds!\n",
      "gaussian_blur took 0.0009970664978027344 seconds!\n"
     ]
    },
    {
     "name": "stderr",
     "output_type": "stream",
     "text": [
      "\r",
      "t:  20%|██████████████                                                        | 5/25 [00:02<00:07,  2.63it/s, now=None]"
     ]
    },
    {
     "name": "stdout",
     "output_type": "stream",
     "text": [
      "sobel_thresh took 0.13892173767089844 seconds!\n",
      "region_of_interest took 0.0009992122650146484 seconds!\n",
      "warp_image took 0.0019986629486083984 seconds!\n",
      "Search based on coefs 0.013989448547363281 seconds!\n",
      "Draw the lane 0.005997180938720703 seconds!\n",
      "Radius of curvature 0.001998424530029297 seconds!\n",
      "Vehicle position 0.0019989013671875 seconds!\n",
      "resizeImage took 0.0 seconds!\n",
      "undistorted took 0.022986888885498047 seconds!\n",
      "colorEnhancement took 0.00999307632446289 seconds!\n",
      "grayscale took 0.0010004043579101562 seconds!\n",
      "gaussian_blur took 0.0009999275207519531 seconds!\n"
     ]
    },
    {
     "name": "stderr",
     "output_type": "stream",
     "text": [
      "\r",
      "t:  24%|████████████████▊                                                     | 6/25 [00:02<00:06,  2.91it/s, now=None]"
     ]
    },
    {
     "name": "stdout",
     "output_type": "stream",
     "text": [
      "sobel_thresh took 0.15439677238464355 seconds!\n",
      "region_of_interest took 0.0009999275207519531 seconds!\n",
      "warp_image took 0.00400090217590332 seconds!\n",
      "Search based on coefs 0.013990640640258789 seconds!\n",
      "Draw the lane 0.007995367050170898 seconds!\n",
      "Radius of curvature 0.0009996891021728516 seconds!\n",
      "Vehicle position 0.0009996891021728516 seconds!\n",
      "resizeImage took 0.0 seconds!\n",
      "undistorted took 0.021985769271850586 seconds!\n",
      "colorEnhancement took 0.009995698928833008 seconds!\n",
      "grayscale took 0.0010004043579101562 seconds!\n",
      "gaussian_blur took 0.0009975433349609375 seconds!\n"
     ]
    },
    {
     "name": "stderr",
     "output_type": "stream",
     "text": [
      "\r",
      "t:  28%|███████████████████▌                                                  | 7/25 [00:02<00:05,  3.14it/s, now=None]"
     ]
    },
    {
     "name": "stdout",
     "output_type": "stream",
     "text": [
      "sobel_thresh took 0.15791010856628418 seconds!\n",
      "region_of_interest took 0.0 seconds!\n",
      "warp_image took 0.0029973983764648438 seconds!\n",
      "Search based on coefs 0.013992786407470703 seconds!\n",
      "Draw the lane 0.006998300552368164 seconds!\n",
      "Radius of curvature 0.0 seconds!\n",
      "Vehicle position 0.0009996891021728516 seconds!\n",
      "resizeImage took 0.0 seconds!\n",
      "undistorted took 0.023985624313354492 seconds!\n",
      "colorEnhancement took 0.011995553970336914 seconds!\n",
      "grayscale took 0.001005411148071289 seconds!\n",
      "gaussian_blur took 0.0009927749633789062 seconds!\n"
     ]
    },
    {
     "name": "stderr",
     "output_type": "stream",
     "text": [
      "\r",
      "t:  32%|██████████████████████▍                                               | 8/25 [00:03<00:05,  3.36it/s, now=None]"
     ]
    },
    {
     "name": "stdout",
     "output_type": "stream",
     "text": [
      "sobel_thresh took 0.14891362190246582 seconds!\n",
      "region_of_interest took 0.0009992122650146484 seconds!\n",
      "warp_image took 0.0029985904693603516 seconds!\n",
      "Search based on coefs 0.013989925384521484 seconds!\n",
      "Draw the lane 0.005997419357299805 seconds!\n",
      "Radius of curvature 0.0009989738464355469 seconds!\n",
      "Vehicle position 0.0009984970092773438 seconds!\n",
      "resizeImage took 0.0 seconds!\n",
      "undistorted took 0.022986650466918945 seconds!\n",
      "colorEnhancement took 0.010993719100952148 seconds!\n",
      "grayscale took 0.0009996891021728516 seconds!\n",
      "gaussian_blur took 0.0009996891021728516 seconds!\n"
     ]
    },
    {
     "name": "stderr",
     "output_type": "stream",
     "text": [
      "\r",
      "t:  36%|█████████████████████████▏                                            | 9/25 [00:03<00:04,  3.58it/s, now=None]"
     ]
    },
    {
     "name": "stdout",
     "output_type": "stream",
     "text": [
      "sobel_thresh took 0.12793207168579102 seconds!\n",
      "region_of_interest took 0.0019936561584472656 seconds!\n",
      "warp_image took 0.005005359649658203 seconds!\n",
      "Search based on coefs 0.013992786407470703 seconds!\n",
      "Draw the lane 0.008994579315185547 seconds!\n",
      "Radius of curvature 0.0019989013671875 seconds!\n",
      "Vehicle position 0.0 seconds!\n",
      "resizeImage took 0.0 seconds!\n",
      "undistorted took 0.022986888885498047 seconds!\n",
      "colorEnhancement took 0.015990734100341797 seconds!\n",
      "grayscale took 0.0010004043579101562 seconds!\n",
      "gaussian_blur took 0.0009999275207519531 seconds!\n"
     ]
    },
    {
     "name": "stderr",
     "output_type": "stream",
     "text": [
      "\r",
      "t:  40%|███████████████████████████▌                                         | 10/25 [00:03<00:04,  3.67it/s, now=None]"
     ]
    },
    {
     "name": "stdout",
     "output_type": "stream",
     "text": [
      "sobel_thresh took 0.14142203330993652 seconds!\n",
      "region_of_interest took 0.0 seconds!\n",
      "warp_image took 0.002997159957885742 seconds!\n",
      "Search based on coefs 0.013991117477416992 seconds!\n",
      "Draw the lane 0.007992982864379883 seconds!\n",
      "Radius of curvature 0.0029981136322021484 seconds!\n",
      "Vehicle position 0.0019989013671875 seconds!\n",
      "resizeImage took 0.0 seconds!\n",
      "undistorted took 0.02298569679260254 seconds!\n",
      "colorEnhancement took 0.013992071151733398 seconds!\n",
      "grayscale took 0.002000093460083008 seconds!\n",
      "gaussian_blur took 0.0009980201721191406 seconds!\n"
     ]
    },
    {
     "name": "stderr",
     "output_type": "stream",
     "text": [
      "\r",
      "t:  44%|██████████████████████████████▎                                      | 11/25 [00:03<00:03,  3.77it/s, now=None]"
     ]
    },
    {
     "name": "stdout",
     "output_type": "stream",
     "text": [
      "sobel_thresh took 0.13392400741577148 seconds!\n",
      "region_of_interest took 0.0019991397857666016 seconds!\n",
      "warp_image took 0.0019974708557128906 seconds!\n",
      "Search based on coefs 0.011991739273071289 seconds!\n",
      "Draw the lane 0.010000228881835938 seconds!\n",
      "Radius of curvature 0.0 seconds!\n",
      "Vehicle position 0.0 seconds!\n",
      "resizeImage took 0.0 seconds!\n",
      "undistorted took 0.039754629135131836 seconds!\n",
      "colorEnhancement took 0.011993169784545898 seconds!\n",
      "grayscale took 0.0009999275207519531 seconds!\n",
      "gaussian_blur took 0.0009992122650146484 seconds!\n"
     ]
    },
    {
     "name": "stderr",
     "output_type": "stream",
     "text": [
      "\r",
      "t:  48%|█████████████████████████████████                                    | 12/25 [00:04<00:03,  3.72it/s, now=None]"
     ]
    },
    {
     "name": "stdout",
     "output_type": "stream",
     "text": [
      "sobel_thresh took 0.14692068099975586 seconds!\n",
      "region_of_interest took 0.001001596450805664 seconds!\n",
      "warp_image took 0.0019953250885009766 seconds!\n",
      "Search based on coefs 0.012993812561035156 seconds!\n",
      "Draw the lane 0.007995367050170898 seconds!\n",
      "Radius of curvature 0.0009992122650146484 seconds!\n",
      "Vehicle position 0.0009989738464355469 seconds!\n",
      "resizeImage took 0.0 seconds!\n",
      "undistorted took 0.024985790252685547 seconds!\n",
      "colorEnhancement took 0.009993553161621094 seconds!\n",
      "grayscale took 0.0009999275207519531 seconds!\n",
      "gaussian_blur took 0.00099945068359375 seconds!\n"
     ]
    },
    {
     "name": "stderr",
     "output_type": "stream",
     "text": [
      "\r",
      "t:  52%|███████████████████████████████████▉                                 | 13/25 [00:04<00:03,  3.79it/s, now=None]"
     ]
    },
    {
     "name": "stdout",
     "output_type": "stream",
     "text": [
      "sobel_thresh took 0.1439225673675537 seconds!\n",
      "region_of_interest took 0.0009961128234863281 seconds!\n",
      "warp_image took 0.005994081497192383 seconds!\n",
      "Search based on coefs 0.013989448547363281 seconds!\n",
      "Draw the lane 0.005997180938720703 seconds!\n",
      "Radius of curvature 0.0009989738464355469 seconds!\n",
      "Vehicle position 0.0009999275207519531 seconds!\n",
      "resizeImage took 0.0 seconds!\n",
      "undistorted took 0.02498602867126465 seconds!\n",
      "colorEnhancement took 0.011993885040283203 seconds!\n",
      "grayscale took 0.0009996891021728516 seconds!\n",
      "gaussian_blur took 0.0009992122650146484 seconds!\n"
     ]
    },
    {
     "name": "stderr",
     "output_type": "stream",
     "text": [
      "\r",
      "t:  56%|██████████████████████████████████████▋                              | 14/25 [00:04<00:02,  3.89it/s, now=None]"
     ]
    },
    {
     "name": "stdout",
     "output_type": "stream",
     "text": [
      "sobel_thresh took 0.13460302352905273 seconds!\n",
      "region_of_interest took 0.0009999275207519531 seconds!\n",
      "warp_image took 0.003995180130004883 seconds!\n",
      "Search based on coefs 0.01299142837524414 seconds!\n",
      "Draw the lane 0.0059947967529296875 seconds!\n",
      "Radius of curvature 0.0009992122650146484 seconds!\n",
      "Vehicle position 0.00099945068359375 seconds!\n",
      "resizeImage took 0.0 seconds!\n",
      "undistorted took 0.022986173629760742 seconds!\n",
      "colorEnhancement took 0.012998104095458984 seconds!\n",
      "grayscale took 0.0 seconds!\n",
      "gaussian_blur took 0.0009996891021728516 seconds!\n"
     ]
    },
    {
     "name": "stderr",
     "output_type": "stream",
     "text": [
      "\r",
      "t:  60%|█████████████████████████████████████████▍                           | 15/25 [00:04<00:02,  3.98it/s, now=None]"
     ]
    },
    {
     "name": "stdout",
     "output_type": "stream",
     "text": [
      "sobel_thresh took 0.13792800903320312 seconds!\n",
      "region_of_interest took 0.0010004043579101562 seconds!\n",
      "warp_image took 0.004996776580810547 seconds!\n",
      "Search based on coefs 0.012989997863769531 seconds!\n",
      "Draw the lane 0.0 seconds!\n",
      "Radius of curvature 0.0 seconds!\n",
      "Vehicle position 0.0 seconds!\n",
      "resizeImage took 0.0 seconds!\n",
      "undistorted took 0.02298593521118164 seconds!\n",
      "colorEnhancement took 0.011993169784545898 seconds!\n",
      "grayscale took 0.0009992122650146484 seconds!\n",
      "gaussian_blur took 0.0010020732879638672 seconds!\n"
     ]
    },
    {
     "name": "stderr",
     "output_type": "stream",
     "text": [
      "\r",
      "t:  64%|████████████████████████████████████████████▏                        | 16/25 [00:05<00:02,  3.91it/s, now=None]"
     ]
    },
    {
     "name": "stdout",
     "output_type": "stream",
     "text": [
      "sobel_thresh took 0.15294933319091797 seconds!\n",
      "region_of_interest took 0.0009999275207519531 seconds!\n",
      "warp_image took 0.0019981861114501953 seconds!\n",
      "Search based on coefs 0.012995243072509766 seconds!\n",
      "Draw the lane 0.006996870040893555 seconds!\n",
      "Radius of curvature 0.0009989738464355469 seconds!\n",
      "Vehicle position 0.0009992122650146484 seconds!\n",
      "resizeImage took 0.0 seconds!\n",
      "undistorted took 0.023987531661987305 seconds!\n",
      "colorEnhancement took 0.011995315551757812 seconds!\n",
      "grayscale took 0.0009968280792236328 seconds!\n",
      "gaussian_blur took 0.0009982585906982422 seconds!\n"
     ]
    },
    {
     "name": "stderr",
     "output_type": "stream",
     "text": [
      "\r",
      "t:  68%|██████████████████████████████████████████████▉                      | 17/25 [00:05<00:02,  3.85it/s, now=None]"
     ]
    },
    {
     "name": "stdout",
     "output_type": "stream",
     "text": [
      "sobel_thresh took 0.14991545677185059 seconds!\n",
      "region_of_interest took 0.0020003318786621094 seconds!\n",
      "warp_image took 0.002995729446411133 seconds!\n",
      "Search based on coefs 0.011993646621704102 seconds!\n",
      "Draw the lane 0.006994962692260742 seconds!\n",
      "Radius of curvature 0.0019998550415039062 seconds!\n",
      "Vehicle position 0.0009992122650146484 seconds!\n",
      "resizeImage took 0.0 seconds!\n",
      "undistorted took 0.0259857177734375 seconds!\n",
      "colorEnhancement took 0.009993791580200195 seconds!\n",
      "grayscale took 0.0 seconds!\n",
      "gaussian_blur took 0.0 seconds!\n"
     ]
    },
    {
     "name": "stderr",
     "output_type": "stream",
     "text": [
      "\r",
      "t:  72%|█████████████████████████████████████████████████▋                   | 18/25 [00:05<00:01,  3.88it/s, now=None]"
     ]
    },
    {
     "name": "stdout",
     "output_type": "stream",
     "text": [
      "sobel_thresh took 0.14991426467895508 seconds!\n",
      "region_of_interest took 0.001001596450805664 seconds!\n",
      "warp_image took 0.002460956573486328 seconds!\n",
      "Search based on coefs 0.009999752044677734 seconds!\n",
      "Draw the lane 0.008103132247924805 seconds!\n",
      "Radius of curvature 0.0010004043579101562 seconds!\n",
      "Vehicle position 0.0 seconds!\n",
      "resizeImage took 0.0 seconds!\n",
      "undistorted took 0.02298593521118164 seconds!\n",
      "colorEnhancement took 0.012993097305297852 seconds!\n",
      "grayscale took 0.0010006427764892578 seconds!\n",
      "gaussian_blur took 0.000997304916381836 seconds!\n"
     ]
    },
    {
     "name": "stderr",
     "output_type": "stream",
     "text": [
      "\r",
      "t:  76%|████████████████████████████████████████████████████▍                | 19/25 [00:05<00:01,  3.90it/s, now=None]"
     ]
    },
    {
     "name": "stdout",
     "output_type": "stream",
     "text": [
      "sobel_thresh took 0.14691615104675293 seconds!\n",
      "region_of_interest took 0.0010006427764892578 seconds!\n",
      "warp_image took 0.002996683120727539 seconds!\n",
      "Search based on coefs 0.013536214828491211 seconds!\n",
      "Draw the lane 0.0 seconds!\n",
      "Radius of curvature 0.0 seconds!\n",
      "Vehicle position 0.0 seconds!\n",
      "resizeImage took 0.0 seconds!\n",
      "undistorted took 0.021985292434692383 seconds!\n",
      "colorEnhancement took 0.009994745254516602 seconds!\n",
      "grayscale took 0.002001047134399414 seconds!\n",
      "gaussian_blur took 0.000997304916381836 seconds!\n"
     ]
    },
    {
     "name": "stderr",
     "output_type": "stream",
     "text": [
      "\r",
      "t:  80%|███████████████████████████████████████████████████████▏             | 20/25 [00:06<00:01,  3.95it/s, now=None]"
     ]
    },
    {
     "name": "stdout",
     "output_type": "stream",
     "text": [
      "sobel_thresh took 0.1393578052520752 seconds!\n",
      "region_of_interest took 0.0010035037994384766 seconds!\n",
      "warp_image took 0.0029942989349365234 seconds!\n",
      "Search based on coefs 0.012991189956665039 seconds!\n",
      "Draw the lane 0.004997730255126953 seconds!\n",
      "Radius of curvature 0.0 seconds!\n",
      "Vehicle position 0.00099945068359375 seconds!\n",
      "resizeImage took 0.0 seconds!\n",
      "undistorted took 0.022986173629760742 seconds!\n",
      "colorEnhancement took 0.009993553161621094 seconds!\n",
      "grayscale took 0.001999378204345703 seconds!\n",
      "gaussian_blur took 0.0009984970092773438 seconds!\n"
     ]
    },
    {
     "name": "stderr",
     "output_type": "stream",
     "text": [
      "\r",
      "t:  84%|█████████████████████████████████████████████████████████▉           | 21/25 [00:06<00:01,  3.93it/s, now=None]"
     ]
    },
    {
     "name": "stdout",
     "output_type": "stream",
     "text": [
      "sobel_thresh took 0.1479170322418213 seconds!\n",
      "region_of_interest took 0.0010037422180175781 seconds!\n",
      "warp_image took 0.002993345260620117 seconds!\n",
      "Search based on coefs 0.015990495681762695 seconds!\n",
      "Draw the lane 0.00899505615234375 seconds!\n",
      "Radius of curvature 0.0019989013671875 seconds!\n",
      "Vehicle position 0.0009992122650146484 seconds!\n",
      "resizeImage took 0.0 seconds!\n",
      "undistorted took 0.022986650466918945 seconds!\n",
      "colorEnhancement took 0.009993553161621094 seconds!\n",
      "grayscale took 0.0010004043579101562 seconds!\n",
      "gaussian_blur took 0.0 seconds!\n"
     ]
    },
    {
     "name": "stderr",
     "output_type": "stream",
     "text": [
      "\r",
      "t:  88%|████████████████████████████████████████████████████████████▋        | 22/25 [00:06<00:00,  4.00it/s, now=None]"
     ]
    },
    {
     "name": "stdout",
     "output_type": "stream",
     "text": [
      "sobel_thresh took 0.12268877029418945 seconds!\n",
      "region_of_interest took 0.001999378204345703 seconds!\n",
      "warp_image took 0.003998517990112305 seconds!\n",
      "Search based on coefs 0.01598978042602539 seconds!\n",
      "Draw the lane 0.007998466491699219 seconds!\n",
      "Radius of curvature 0.0009989738464355469 seconds!\n",
      "Vehicle position 0.0009982585906982422 seconds!\n",
      "resizeImage took 0.0 seconds!\n",
      "undistorted took 0.020986557006835938 seconds!\n",
      "colorEnhancement took 0.011998176574707031 seconds!\n",
      "grayscale took 0.001001596450805664 seconds!\n",
      "gaussian_blur took 0.0010027885437011719 seconds!\n"
     ]
    },
    {
     "name": "stderr",
     "output_type": "stream",
     "text": [
      "\r",
      "t:  92%|███████████████████████████████████████████████████████████████▍     | 23/25 [00:06<00:00,  4.01it/s, now=None]"
     ]
    },
    {
     "name": "stdout",
     "output_type": "stream",
     "text": [
      "sobel_thresh took 0.14890551567077637 seconds!\n",
      "region_of_interest took 0.0010001659393310547 seconds!\n",
      "warp_image took 0.001997232437133789 seconds!\n",
      "Search based on coefs 0.013993263244628906 seconds!\n",
      "Draw the lane 0.006996870040893555 seconds!\n",
      "Radius of curvature 0.0009989738464355469 seconds!\n",
      "Vehicle position 0.0009996891021728516 seconds!\n",
      "resizeImage took 0.0 seconds!\n",
      "undistorted took 0.02198648452758789 seconds!\n",
      "colorEnhancement took 0.013991594314575195 seconds!\n",
      "grayscale took 0.0010001659393310547 seconds!\n",
      "gaussian_blur took 0.0009984970092773438 seconds!\n"
     ]
    },
    {
     "name": "stderr",
     "output_type": "stream",
     "text": [
      "\r",
      "t:  96%|██████████████████████████████████████████████████████████████████▏  | 24/25 [00:07<00:00,  3.98it/s, now=None]"
     ]
    },
    {
     "name": "stdout",
     "output_type": "stream",
     "text": [
      "sobel_thresh took 0.14391875267028809 seconds!\n",
      "region_of_interest took 0.0010008811950683594 seconds!\n",
      "warp_image took 0.002995729446411133 seconds!\n",
      "Search based on coefs 0.013991355895996094 seconds!\n",
      "Draw the lane 0.006986856460571289 seconds!\n",
      "Radius of curvature 0.0009989738464355469 seconds!\n",
      "Vehicle position 0.0010004043579101562 seconds!\n",
      "resizeImage took 0.0 seconds!\n",
      "undistorted took 0.022986888885498047 seconds!\n",
      "colorEnhancement took 0.00999593734741211 seconds!\n",
      "grayscale took 0.0009987354278564453 seconds!\n",
      "gaussian_blur took 0.0009987354278564453 seconds!\n"
     ]
    },
    {
     "name": "stderr",
     "output_type": "stream",
     "text": [
      "\r",
      "t: 100%|█████████████████████████████████████████████████████████████████████| 25/25 [00:07<00:00,  3.96it/s, now=None]"
     ]
    },
    {
     "name": "stdout",
     "output_type": "stream",
     "text": [
      "sobel_thresh took 0.15291428565979004 seconds!\n",
      "region_of_interest took 0.0009987354278564453 seconds!\n",
      "warp_image took 0.0029976367950439453 seconds!\n",
      "Search based on coefs 0.013990640640258789 seconds!\n",
      "Draw the lane 0.005997180938720703 seconds!\n",
      "Radius of curvature 0.0009984970092773438 seconds!\n",
      "Vehicle position 0.00099945068359375 seconds!\n",
      "resizeImage took 0.0 seconds!\n",
      "undistorted took 0.02098679542541504 seconds!\n",
      "colorEnhancement took 0.012996673583984375 seconds!\n",
      "grayscale took 0.0009982585906982422 seconds!\n",
      "gaussian_blur took 0.0 seconds!\n"
     ]
    },
    {
     "name": "stderr",
     "output_type": "stream",
     "text": [
      "\r",
      "                                                                                                                       "
     ]
    },
    {
     "name": "stdout",
     "output_type": "stream",
     "text": [
      "sobel_thresh took 0.13092470169067383 seconds!\n",
      "region_of_interest took 0.0009989738464355469 seconds!\n",
      "warp_image took 0.003998279571533203 seconds!\n",
      "Search based on coefs 0.01698923110961914 seconds!\n",
      "Draw the lane 0.005995988845825195 seconds!\n",
      "Radius of curvature 0.0009996891021728516 seconds!\n",
      "Vehicle position 0.0009999275207519531 seconds!\n"
     ]
    },
    {
     "name": "stderr",
     "output_type": "stream",
     "text": [
      "\r"
     ]
    },
    {
     "name": "stdout",
     "output_type": "stream",
     "text": [
      "Moviepy - Done !\n",
      "Moviepy - video ready output_videos/solidWhiteRight.mp4\n",
      "Wall time: 8.42 s\n"
     ]
    }
   ],
   "source": [
    "# Instanciate cLine classes\n",
    "lineLeft = Line()\n",
    "lineRight = Line()\n",
    "\n",
    "\n",
    "white_output = 'output_videos/solidWhiteRight.mp4'\n",
    "clip1 = VideoFileClip(\"test_videos/project_video.mp4\").subclip(0,1)\n",
    "#clip1 = VideoFileClip(\"test_videos/project_video.mp4\")\n",
    "white_clip = clip1.fl_image(process_frame_profiling) #NOTE: this function expects color images!!\n",
    "%time white_clip.write_videofile(white_output, audio=False)"
   ]
  },
  {
   "cell_type": "code",
   "execution_count": 4,
   "id": "3384229a",
   "metadata": {
    "scrolled": false
   },
   "outputs": [
    {
     "data": {
      "text/html": [
       "\n",
       "<video width=\"960\" height=\"540\" controls>\n",
       "  <source src=\"output_videos/solidWhiteRight.mp4\">\n",
       "</video>\n"
      ],
      "text/plain": [
       "<IPython.core.display.HTML object>"
      ]
     },
     "execution_count": 4,
     "metadata": {},
     "output_type": "execute_result"
    }
   ],
   "source": [
    "HTML(\"\"\"\n",
    "<video width=\"960\" height=\"540\" controls>\n",
    "  <source src=\"{0}\">\n",
    "</video>\n",
    "\"\"\".format(white_output))"
   ]
  }
 ],
 "metadata": {
  "kernelspec": {
   "display_name": "Python 3",
   "language": "python",
   "name": "python3"
  },
  "language_info": {
   "codemirror_mode": {
    "name": "ipython",
    "version": 3
   },
   "file_extension": ".py",
   "mimetype": "text/x-python",
   "name": "python",
   "nbconvert_exporter": "python",
   "pygments_lexer": "ipython3",
   "version": "3.8.8"
  }
 },
 "nbformat": 4,
 "nbformat_minor": 5
}
