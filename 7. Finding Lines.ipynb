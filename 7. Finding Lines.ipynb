{
 "cells": [
  {
   "cell_type": "markdown",
   "id": "825cc06b",
   "metadata": {},
   "source": [
    "# Finding Lines"
   ]
  },
  {
   "cell_type": "code",
   "execution_count": 1,
   "id": "a5e497a1",
   "metadata": {},
   "outputs": [
    {
     "name": "stderr",
     "output_type": "stream",
     "text": [
      "[NbConvertApp] Converting notebook 0. Functions_Clases Pipeline.ipynb to script\n",
      "[NbConvertApp] Writing 19746 bytes to 0. Functions_Clases Pipeline.py\n"
     ]
    }
   ],
   "source": [
    "# load helper functions\n",
    "%run -i \"0. Functions_Clases Pipeline.py\"\n",
    "%run -i \"Line.py\"\n",
    "\n",
    "# Load Camera calibration params\n",
    "[warped_images, M_values, Minv_values ] = pickle.load(open( \"pickle_data/warped_images_params.p\", \"rb\" ) )"
   ]
  },
  {
   "cell_type": "markdown",
   "id": "851afb89",
   "metadata": {},
   "source": [
    "###  find_x_lane_line_points"
   ]
  },
  {
   "cell_type": "code",
   "execution_count": 2,
   "id": "a7a234f9",
   "metadata": {},
   "outputs": [
    {
     "name": "stdout",
     "output_type": "stream",
     "text": [
      "{'all_poly_diffs': array([[0, 0, 0]]),\n",
      " 'allx': None,\n",
      " 'ally': None,\n",
      " 'bestx': 409,\n",
      " 'center_deviation': array([], dtype=float64),\n",
      " 'currentx': 409,\n",
      " 'detected': False,\n",
      " 'list_radius': array([], dtype=float64),\n",
      " 'missdetections': 0,\n",
      " 'poly_best_fit': array([], dtype=float64),\n",
      " 'poly_current_fit': array([], dtype=float64),\n",
      " 'poly_diffs': array([], dtype=float64),\n",
      " 'poly_plotx': array([], dtype=float64),\n",
      " 'poly_plotx_staged': array([], dtype=float64),\n",
      " 'poly_ploty': array([  0.,   1.,   2.,   3.,   4.,   5.,   6.,   7.,   8.,   9.,  10.,\n",
      "        11.,  12.,  13.,  14.,  15.,  16.,  17.,  18.,  19.,  20.,  21.,\n",
      "        22.,  23.,  24.,  25.,  26.,  27.,  28.,  29.,  30.,  31.,  32.,\n",
      "        33.,  34.,  35.,  36.,  37.,  38.,  39.,  40.,  41.,  42.,  43.,\n",
      "        44.,  45.,  46.,  47.,  48.,  49.,  50.,  51.,  52.,  53.,  54.,\n",
      "        55.,  56.,  57.,  58.,  59.,  60.,  61.,  62.,  63.,  64.,  65.,\n",
      "        66.,  67.,  68.,  69.,  70.,  71.,  72.,  73.,  74.,  75.,  76.,\n",
      "        77.,  78.,  79.,  80.,  81.,  82.,  83.,  84.,  85.,  86.,  87.,\n",
      "        88.,  89.,  90.,  91.,  92.,  93.,  94.,  95.,  96.,  97.,  98.,\n",
      "        99., 100., 101., 102., 103., 104., 105., 106., 107., 108., 109.,\n",
      "       110., 111., 112., 113., 114., 115., 116., 117., 118., 119., 120.,\n",
      "       121., 122., 123., 124., 125., 126., 127., 128., 129., 130., 131.,\n",
      "       132., 133., 134., 135., 136., 137., 138., 139., 140., 141., 142.,\n",
      "       143., 144., 145., 146., 147., 148., 149., 150., 151., 152., 153.,\n",
      "       154., 155., 156., 157., 158., 159., 160., 161., 162., 163., 164.,\n",
      "       165., 166., 167., 168., 169., 170., 171., 172., 173., 174., 175.,\n",
      "       176., 177., 178., 179., 180., 181., 182., 183., 184., 185., 186.,\n",
      "       187., 188., 189., 190., 191., 192., 193., 194., 195., 196., 197.,\n",
      "       198., 199., 200., 201., 202., 203., 204., 205., 206., 207., 208.,\n",
      "       209., 210., 211., 212., 213., 214., 215., 216., 217., 218., 219.,\n",
      "       220., 221., 222., 223., 224., 225., 226., 227., 228., 229., 230.,\n",
      "       231., 232., 233., 234., 235., 236., 237., 238., 239., 240., 241.,\n",
      "       242., 243., 244., 245., 246., 247., 248., 249., 250., 251., 252.,\n",
      "       253., 254., 255., 256., 257., 258., 259., 260., 261., 262., 263.,\n",
      "       264., 265., 266., 267., 268., 269., 270., 271., 272., 273., 274.,\n",
      "       275., 276., 277., 278., 279., 280., 281., 282., 283., 284., 285.,\n",
      "       286., 287., 288., 289., 290., 291., 292., 293., 294., 295., 296.,\n",
      "       297., 298., 299., 300., 301., 302., 303., 304., 305., 306., 307.,\n",
      "       308., 309., 310., 311., 312., 313., 314., 315., 316., 317., 318.,\n",
      "       319., 320., 321., 322., 323., 324., 325., 326., 327., 328., 329.,\n",
      "       330., 331., 332., 333., 334., 335., 336., 337., 338., 339., 340.,\n",
      "       341., 342., 343., 344., 345., 346., 347., 348., 349., 350., 351.,\n",
      "       352., 353., 354., 355., 356., 357., 358., 359., 360., 361., 362.,\n",
      "       363., 364., 365., 366., 367., 368., 369., 370., 371., 372., 373.,\n",
      "       374., 375., 376., 377., 378., 379., 380., 381., 382., 383., 384.,\n",
      "       385., 386., 387., 388., 389., 390., 391., 392., 393., 394., 395.,\n",
      "       396., 397., 398., 399., 400., 401., 402., 403., 404., 405., 406.,\n",
      "       407., 408., 409., 410., 411., 412., 413., 414., 415., 416., 417.,\n",
      "       418., 419., 420., 421., 422., 423., 424., 425., 426., 427., 428.,\n",
      "       429., 430., 431., 432., 433., 434., 435., 436., 437., 438., 439.,\n",
      "       440., 441., 442., 443., 444., 445., 446., 447., 448., 449., 450.,\n",
      "       451., 452., 453., 454., 455., 456., 457., 458., 459., 460., 461.,\n",
      "       462., 463., 464., 465., 466., 467., 468., 469., 470., 471., 472.,\n",
      "       473., 474., 475., 476., 477., 478., 479., 480., 481., 482., 483.,\n",
      "       484., 485., 486., 487., 488., 489., 490., 491., 492., 493., 494.,\n",
      "       495., 496., 497., 498., 499., 500., 501., 502., 503., 504., 505.,\n",
      "       506., 507., 508., 509., 510., 511., 512., 513., 514., 515., 516.,\n",
      "       517., 518., 519., 520., 521., 522., 523., 524., 525., 526., 527.,\n",
      "       528., 529., 530., 531., 532., 533., 534., 535., 536., 537., 538.,\n",
      "       539., 540., 541., 542., 543., 544., 545., 546., 547., 548., 549.,\n",
      "       550., 551., 552., 553., 554., 555., 556., 557., 558., 559., 560.,\n",
      "       561., 562., 563., 564., 565., 566., 567., 568., 569., 570., 571.,\n",
      "       572., 573., 574., 575., 576., 577., 578., 579., 580., 581., 582.,\n",
      "       583., 584., 585., 586., 587., 588., 589., 590., 591., 592., 593.,\n",
      "       594., 595., 596., 597., 598., 599., 600., 601., 602., 603., 604.,\n",
      "       605., 606., 607., 608., 609., 610., 611., 612., 613., 614., 615.,\n",
      "       616., 617., 618., 619., 620., 621., 622., 623., 624., 625., 626.,\n",
      "       627., 628., 629., 630., 631., 632., 633., 634., 635., 636., 637.,\n",
      "       638., 639., 640., 641., 642., 643., 644., 645., 646., 647., 648.,\n",
      "       649., 650., 651., 652., 653., 654., 655., 656., 657., 658., 659.,\n",
      "       660., 661., 662., 663., 664., 665., 666., 667., 668., 669., 670.,\n",
      "       671., 672., 673., 674., 675., 676., 677., 678., 679., 680., 681.,\n",
      "       682., 683., 684., 685., 686., 687., 688., 689., 690., 691., 692.,\n",
      "       693., 694., 695., 696., 697., 698., 699., 700., 701., 702., 703.,\n",
      "       704., 705., 706., 707., 708., 709., 710., 711., 712., 713., 714.,\n",
      "       715., 716., 717., 718., 719.]),\n",
      " 'radius_of_curvature': None,\n",
      " 'recent_poly_fits': array([[0, 0, 0]]),\n",
      " 'recent_xfitted': array([409, 409], dtype=int64)}\n"
     ]
    }
   ],
   "source": [
    "# Test function\n",
    "currentIndex= 2\n",
    "warped_image = warped_images[currentIndex]\n",
    "\n",
    "# Instanciate Line classes\n",
    "lineLeft = Line()\n",
    "lineRight = Line()\n",
    "\n",
    "# Find x line poitns based on histogram values\n",
    "leftx_base, rightx_base  = find_lane_x_points(warped_image)\n",
    "\n",
    "lineLeft.updateXbase(leftx_base)\n",
    "lineRight.updateXbase(rightx_base)\n",
    "\n",
    "lineLeft.show()\n",
    "#pprint(vars(lineRight))"
   ]
  },
  {
   "cell_type": "markdown",
   "id": "6fb05134",
   "metadata": {},
   "source": [
    "###  find_lane_pixels"
   ]
  },
  {
   "cell_type": "code",
   "execution_count": 3,
   "id": "786e2bd6",
   "metadata": {},
   "outputs": [
    {
     "name": "stdout",
     "output_type": "stream",
     "text": [
      "{'all_poly_diffs': array([[0, 0, 0]]),\n",
      " 'allx': array([404, 405, 406, ..., 466, 467, 469], dtype=int64),\n",
      " 'ally': array([576, 576, 576, ..., 719, 719, 719], dtype=int64),\n",
      " 'bestx': 409,\n",
      " 'center_deviation': array([], dtype=float64),\n",
      " 'currentx': 409,\n",
      " 'detected': False,\n",
      " 'list_radius': array([], dtype=float64),\n",
      " 'missdetections': 0,\n",
      " 'poly_best_fit': array([], dtype=float64),\n",
      " 'poly_current_fit': array([], dtype=float64),\n",
      " 'poly_diffs': array([], dtype=float64),\n",
      " 'poly_plotx': array([], dtype=float64),\n",
      " 'poly_plotx_staged': array([], dtype=float64),\n",
      " 'poly_ploty': array([  0.,   1.,   2.,   3.,   4.,   5.,   6.,   7.,   8.,   9.,  10.,\n",
      "        11.,  12.,  13.,  14.,  15.,  16.,  17.,  18.,  19.,  20.,  21.,\n",
      "        22.,  23.,  24.,  25.,  26.,  27.,  28.,  29.,  30.,  31.,  32.,\n",
      "        33.,  34.,  35.,  36.,  37.,  38.,  39.,  40.,  41.,  42.,  43.,\n",
      "        44.,  45.,  46.,  47.,  48.,  49.,  50.,  51.,  52.,  53.,  54.,\n",
      "        55.,  56.,  57.,  58.,  59.,  60.,  61.,  62.,  63.,  64.,  65.,\n",
      "        66.,  67.,  68.,  69.,  70.,  71.,  72.,  73.,  74.,  75.,  76.,\n",
      "        77.,  78.,  79.,  80.,  81.,  82.,  83.,  84.,  85.,  86.,  87.,\n",
      "        88.,  89.,  90.,  91.,  92.,  93.,  94.,  95.,  96.,  97.,  98.,\n",
      "        99., 100., 101., 102., 103., 104., 105., 106., 107., 108., 109.,\n",
      "       110., 111., 112., 113., 114., 115., 116., 117., 118., 119., 120.,\n",
      "       121., 122., 123., 124., 125., 126., 127., 128., 129., 130., 131.,\n",
      "       132., 133., 134., 135., 136., 137., 138., 139., 140., 141., 142.,\n",
      "       143., 144., 145., 146., 147., 148., 149., 150., 151., 152., 153.,\n",
      "       154., 155., 156., 157., 158., 159., 160., 161., 162., 163., 164.,\n",
      "       165., 166., 167., 168., 169., 170., 171., 172., 173., 174., 175.,\n",
      "       176., 177., 178., 179., 180., 181., 182., 183., 184., 185., 186.,\n",
      "       187., 188., 189., 190., 191., 192., 193., 194., 195., 196., 197.,\n",
      "       198., 199., 200., 201., 202., 203., 204., 205., 206., 207., 208.,\n",
      "       209., 210., 211., 212., 213., 214., 215., 216., 217., 218., 219.,\n",
      "       220., 221., 222., 223., 224., 225., 226., 227., 228., 229., 230.,\n",
      "       231., 232., 233., 234., 235., 236., 237., 238., 239., 240., 241.,\n",
      "       242., 243., 244., 245., 246., 247., 248., 249., 250., 251., 252.,\n",
      "       253., 254., 255., 256., 257., 258., 259., 260., 261., 262., 263.,\n",
      "       264., 265., 266., 267., 268., 269., 270., 271., 272., 273., 274.,\n",
      "       275., 276., 277., 278., 279., 280., 281., 282., 283., 284., 285.,\n",
      "       286., 287., 288., 289., 290., 291., 292., 293., 294., 295., 296.,\n",
      "       297., 298., 299., 300., 301., 302., 303., 304., 305., 306., 307.,\n",
      "       308., 309., 310., 311., 312., 313., 314., 315., 316., 317., 318.,\n",
      "       319., 320., 321., 322., 323., 324., 325., 326., 327., 328., 329.,\n",
      "       330., 331., 332., 333., 334., 335., 336., 337., 338., 339., 340.,\n",
      "       341., 342., 343., 344., 345., 346., 347., 348., 349., 350., 351.,\n",
      "       352., 353., 354., 355., 356., 357., 358., 359., 360., 361., 362.,\n",
      "       363., 364., 365., 366., 367., 368., 369., 370., 371., 372., 373.,\n",
      "       374., 375., 376., 377., 378., 379., 380., 381., 382., 383., 384.,\n",
      "       385., 386., 387., 388., 389., 390., 391., 392., 393., 394., 395.,\n",
      "       396., 397., 398., 399., 400., 401., 402., 403., 404., 405., 406.,\n",
      "       407., 408., 409., 410., 411., 412., 413., 414., 415., 416., 417.,\n",
      "       418., 419., 420., 421., 422., 423., 424., 425., 426., 427., 428.,\n",
      "       429., 430., 431., 432., 433., 434., 435., 436., 437., 438., 439.,\n",
      "       440., 441., 442., 443., 444., 445., 446., 447., 448., 449., 450.,\n",
      "       451., 452., 453., 454., 455., 456., 457., 458., 459., 460., 461.,\n",
      "       462., 463., 464., 465., 466., 467., 468., 469., 470., 471., 472.,\n",
      "       473., 474., 475., 476., 477., 478., 479., 480., 481., 482., 483.,\n",
      "       484., 485., 486., 487., 488., 489., 490., 491., 492., 493., 494.,\n",
      "       495., 496., 497., 498., 499., 500., 501., 502., 503., 504., 505.,\n",
      "       506., 507., 508., 509., 510., 511., 512., 513., 514., 515., 516.,\n",
      "       517., 518., 519., 520., 521., 522., 523., 524., 525., 526., 527.,\n",
      "       528., 529., 530., 531., 532., 533., 534., 535., 536., 537., 538.,\n",
      "       539., 540., 541., 542., 543., 544., 545., 546., 547., 548., 549.,\n",
      "       550., 551., 552., 553., 554., 555., 556., 557., 558., 559., 560.,\n",
      "       561., 562., 563., 564., 565., 566., 567., 568., 569., 570., 571.,\n",
      "       572., 573., 574., 575., 576., 577., 578., 579., 580., 581., 582.,\n",
      "       583., 584., 585., 586., 587., 588., 589., 590., 591., 592., 593.,\n",
      "       594., 595., 596., 597., 598., 599., 600., 601., 602., 603., 604.,\n",
      "       605., 606., 607., 608., 609., 610., 611., 612., 613., 614., 615.,\n",
      "       616., 617., 618., 619., 620., 621., 622., 623., 624., 625., 626.,\n",
      "       627., 628., 629., 630., 631., 632., 633., 634., 635., 636., 637.,\n",
      "       638., 639., 640., 641., 642., 643., 644., 645., 646., 647., 648.,\n",
      "       649., 650., 651., 652., 653., 654., 655., 656., 657., 658., 659.,\n",
      "       660., 661., 662., 663., 664., 665., 666., 667., 668., 669., 670.,\n",
      "       671., 672., 673., 674., 675., 676., 677., 678., 679., 680., 681.,\n",
      "       682., 683., 684., 685., 686., 687., 688., 689., 690., 691., 692.,\n",
      "       693., 694., 695., 696., 697., 698., 699., 700., 701., 702., 703.,\n",
      "       704., 705., 706., 707., 708., 709., 710., 711., 712., 713., 714.,\n",
      "       715., 716., 717., 718., 719.]),\n",
      " 'radius_of_curvature': None,\n",
      " 'recent_poly_fits': array([[0, 0, 0]]),\n",
      " 'recent_xfitted': array([409, 409], dtype=int64)}\n"
     ]
    },
    {
     "data": {
      "image/png": "[encoded data removed]",
      "text/plain": [
       "<Figure size 1200x400 with 1 Axes>"
      ]
     },
     "metadata": {
      "needs_background": "light"
     },
     "output_type": "display_data"
    }
   ],
   "source": [
    "# Test Function\n",
    "leftx, lefty, rightx, righty, out_img = find_lane_pixels(warped_image,lineLeft.bestx, lineRight.bestx)\n",
    "\n",
    "lineLeft.updatePixels(leftx, lefty)\n",
    "lineRight.updatePixels(rightx, righty)\n",
    "\n",
    "displayListImages([out_img],cols=1,cmap='gray',figSize=[12,4])\n",
    "\n",
    "pprint(vars(lineLeft))\n",
    "#pprint(vars(lineRight))"
   ]
  },
  {
   "cell_type": "markdown",
   "id": "9a490e3e",
   "metadata": {},
   "source": [
    "### [function] fit_polynomial"
   ]
  },
  {
   "cell_type": "code",
   "execution_count": 4,
   "id": "854acb44",
   "metadata": {},
   "outputs": [
    {
     "data": {
      "text/plain": [
       "<module 'matplotlib.pyplot' from 'C:\\\\ProgramData\\\\Anaconda3\\\\lib\\\\site-packages\\\\matplotlib\\\\pyplot.py'>"
      ]
     },
     "execution_count": 4,
     "metadata": {},
     "output_type": "execute_result"
    },
    {
     "data": {
      "image/png": "[encoded data removed]",
      "text/plain": [
       "<Figure size 1200x400 with 1 Axes>"
      ]
     },
     "metadata": {
      "needs_background": "light"
     },
     "output_type": "display_data"
    }
   ],
   "source": [
    "# Test function\n",
    "coeffs_fit, lineDetected, left_fitx, ploty, img_line  = fit_polynomial(out_img, lineLeft.allx, lineLeft.ally)\n",
    "lineLeft.updateCoeffsLine(lineDetected, coeffs_fit, left_fitx, ploty)\n",
    "\n",
    "coeffs_fit, lineDetected, right_fitx, ploty, img_line  = fit_polynomial(out_img, lineRight.allx, lineRight.ally)\n",
    "lineRight.updateCoeffsLine(lineDetected, coeffs_fit,right_fitx,ploty)\n",
    "\n",
    "displayListImages([img_line],cols=1,figSize=[12,4])"
   ]
  },
  {
   "cell_type": "markdown",
   "id": "323a147b",
   "metadata": {},
   "source": [
    "### [function]rightSeparation"
   ]
  },
  {
   "cell_type": "code",
   "execution_count": 5,
   "id": "2971469b",
   "metadata": {},
   "outputs": [
    {
     "data": {
      "text/plain": [
       "True"
      ]
     },
     "execution_count": 5,
     "metadata": {},
     "output_type": "execute_result"
    }
   ],
   "source": [
    "rightSeparation(left_fitx, right_fitx)"
   ]
  },
  {
   "cell_type": "markdown",
   "id": "19ba6032",
   "metadata": {},
   "source": [
    "### [function] areParallel"
   ]
  },
  {
   "cell_type": "code",
   "execution_count": null,
   "id": "1213ae3e",
   "metadata": {},
   "outputs": [],
   "source": []
  },
  {
   "cell_type": "markdown",
   "id": "ee5f0516",
   "metadata": {},
   "source": [
    "## Apply to all images"
   ]
  },
  {
   "cell_type": "code",
   "execution_count": 6,
   "id": "cf7073b3",
   "metadata": {},
   "outputs": [],
   "source": [
    "leftLines = []\n",
    "rightLines = []\n",
    "\n",
    "for img in warped_images:\n",
    "    # Instanciate cLine classes\n",
    "    lineLeft = Line()\n",
    "    lineRight = Line()\n",
    "\n",
    "    # Find x line poitns based on histogram values\n",
    "    leftx_base, rightx_base  = find_lane_x_points(img)\n",
    "\n",
    "    # Update x base points\n",
    "    lineLeft.updateXbase(leftx_base)\n",
    "    lineRight.updateXbase(rightx_base)\n",
    "    \n",
    "    \n",
    "    ## Find lane pixels\n",
    "    leftx, lefty, rightx, righty, out_img = find_lane_pixels(img, lineLeft.bestx, lineRight.bestx)\n",
    "\n",
    "    lineLeft.updatePixels(leftx, lefty)\n",
    "    lineRight.updatePixels(rightx, righty)\n",
    "    \n",
    "    \n",
    "    # Update polynomiasl\n",
    "    coeffs_fit, lineDetected, left_fitx, ploty, img_line  = fit_polynomial(out_img, lineLeft.allx, lineLeft.ally)\n",
    "    lineLeft.updateCoeffsLine(lineDetected, coeffs_fit, left_fitx, ploty)\n",
    "\n",
    "    coeffs_fit, lineDetected, right_fitx, ploty, img_line  = fit_polynomial(out_img, lineRight.allx, lineRight.ally)\n",
    "    lineRight.updateCoeffsLine(lineDetected, coeffs_fit,right_fitx,ploty)\n",
    "    \n",
    "    \n",
    "    leftLines.append(lineLeft)\n",
    "    rightLines.append(lineRight)"
   ]
  },
  {
   "cell_type": "markdown",
   "id": "23344afb",
   "metadata": {},
   "source": [
    "## Dump data"
   ]
  },
  {
   "cell_type": "code",
   "execution_count": 7,
   "id": "aefa9a14",
   "metadata": {},
   "outputs": [],
   "source": [
    "pickle.dump( [leftLines, rightLines ], open( \"pickle_data/lines_lane.p\", \"wb\" ) )"
   ]
  }
 ],
 "metadata": {
  "kernelspec": {
   "display_name": "Python 3",
   "language": "python",
   "name": "python3"
  },
  "language_info": {
   "codemirror_mode": {
    "name": "ipython",
    "version": 3
   },
   "file_extension": ".py",
   "mimetype": "text/x-python",
   "name": "python",
   "nbconvert_exporter": "python",
   "pygments_lexer": "ipython3",
   "version": "3.8.8"
  }
 },
 "nbformat": 4,
 "nbformat_minor": 5
}
